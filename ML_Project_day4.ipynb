{
 "cells": [
  {
   "cell_type": "code",
   "execution_count": 112,
   "id": "22a0b0bf",
   "metadata": {},
   "outputs": [],
   "source": [
    "#로지스틱 회귀\n",
    "#Decision Tree\n",
    "#랜덤 포레스트\n",
    "# 잉싱블 기법 주 하나\n",
    "# gini 지수, entrophy\n",
    "# 잘맞는 포레스트 찾기.\n",
    "# 카이제곱 검정!\n",
    "# "
   ]
  },
  {
   "cell_type": "code",
   "execution_count": 113,
   "id": "843dd387",
   "metadata": {},
   "outputs": [],
   "source": [
    "import pandas as pd\n",
    "import numpy as np\n",
    "import plotly.express as px\n",
    "import matplotlib.pyplot as plt\n",
    "import seaborn as sns"
   ]
  },
  {
   "cell_type": "code",
   "execution_count": 114,
   "id": "0aa0fad6",
   "metadata": {},
   "outputs": [],
   "source": [
    "df = pd.read_csv(\"./data/FIC.Full CSV.csv\")"
   ]
  },
  {
   "cell_type": "code",
   "execution_count": 115,
   "id": "500994c8",
   "metadata": {
    "scrolled": true
   },
   "outputs": [
    {
     "data": {
      "text/html": [
       "<div>\n",
       "<style scoped>\n",
       "    .dataframe tbody tr th:only-of-type {\n",
       "        vertical-align: middle;\n",
       "    }\n",
       "\n",
       "    .dataframe tbody tr th {\n",
       "        vertical-align: top;\n",
       "    }\n",
       "\n",
       "    .dataframe thead th {\n",
       "        text-align: right;\n",
       "    }\n",
       "</style>\n",
       "<table border=\"1\" class=\"dataframe\">\n",
       "  <thead>\n",
       "    <tr style=\"text-align: right;\">\n",
       "      <th></th>\n",
       "      <th>Age</th>\n",
       "      <th>Age.Group</th>\n",
       "      <th>Gender</th>\n",
       "      <th>Locality</th>\n",
       "      <th>Marital status</th>\n",
       "      <th>Life.Style</th>\n",
       "      <th>Sleep</th>\n",
       "      <th>Category</th>\n",
       "      <th>Depression</th>\n",
       "      <th>Hyperlipi</th>\n",
       "      <th>...</th>\n",
       "      <th>oldpeak</th>\n",
       "      <th>slope</th>\n",
       "      <th>ca</th>\n",
       "      <th>thal</th>\n",
       "      <th>num</th>\n",
       "      <th>SK</th>\n",
       "      <th>SK.React</th>\n",
       "      <th>Reaction</th>\n",
       "      <th>Mortality</th>\n",
       "      <th>Follow.Up</th>\n",
       "    </tr>\n",
       "  </thead>\n",
       "  <tbody>\n",
       "    <tr>\n",
       "      <th>0</th>\n",
       "      <td>45</td>\n",
       "      <td>41-50</td>\n",
       "      <td>Female</td>\n",
       "      <td>RURAL</td>\n",
       "      <td>MARRIED</td>\n",
       "      <td>NO</td>\n",
       "      <td>NO</td>\n",
       "      <td>FREE</td>\n",
       "      <td>YES</td>\n",
       "      <td>YES</td>\n",
       "      <td>...</td>\n",
       "      <td>3.0</td>\n",
       "      <td>2</td>\n",
       "      <td>0</td>\n",
       "      <td>7</td>\n",
       "      <td>2</td>\n",
       "      <td>1</td>\n",
       "      <td>NO</td>\n",
       "      <td>0</td>\n",
       "      <td>0</td>\n",
       "      <td>60</td>\n",
       "    </tr>\n",
       "    <tr>\n",
       "      <th>1</th>\n",
       "      <td>51</td>\n",
       "      <td>51-60</td>\n",
       "      <td>Female</td>\n",
       "      <td>URBAN</td>\n",
       "      <td>MARRIED</td>\n",
       "      <td>NO</td>\n",
       "      <td>NO</td>\n",
       "      <td>FREE</td>\n",
       "      <td>YES</td>\n",
       "      <td>YES</td>\n",
       "      <td>...</td>\n",
       "      <td>1.2</td>\n",
       "      <td>2</td>\n",
       "      <td>0</td>\n",
       "      <td>7</td>\n",
       "      <td>2</td>\n",
       "      <td>1</td>\n",
       "      <td>NO</td>\n",
       "      <td>0</td>\n",
       "      <td>0</td>\n",
       "      <td>15</td>\n",
       "    </tr>\n",
       "    <tr>\n",
       "      <th>2</th>\n",
       "      <td>55</td>\n",
       "      <td>51-60</td>\n",
       "      <td>Female</td>\n",
       "      <td>RURAL</td>\n",
       "      <td>MARRIED</td>\n",
       "      <td>YES</td>\n",
       "      <td>YES</td>\n",
       "      <td>FREE</td>\n",
       "      <td>YES</td>\n",
       "      <td>YES</td>\n",
       "      <td>...</td>\n",
       "      <td>3.4</td>\n",
       "      <td>2</td>\n",
       "      <td>0</td>\n",
       "      <td>3</td>\n",
       "      <td>2</td>\n",
       "      <td>1</td>\n",
       "      <td>NO</td>\n",
       "      <td>0</td>\n",
       "      <td>0</td>\n",
       "      <td>6</td>\n",
       "    </tr>\n",
       "    <tr>\n",
       "      <th>3</th>\n",
       "      <td>55</td>\n",
       "      <td>51-60</td>\n",
       "      <td>Female</td>\n",
       "      <td>RURAL</td>\n",
       "      <td>MARRIED</td>\n",
       "      <td>YES</td>\n",
       "      <td>YES</td>\n",
       "      <td>FREE</td>\n",
       "      <td>YES</td>\n",
       "      <td>YES</td>\n",
       "      <td>...</td>\n",
       "      <td>2.0</td>\n",
       "      <td>2</td>\n",
       "      <td>1</td>\n",
       "      <td>7</td>\n",
       "      <td>3</td>\n",
       "      <td>1</td>\n",
       "      <td>NO</td>\n",
       "      <td>0</td>\n",
       "      <td>0</td>\n",
       "      <td>52</td>\n",
       "    </tr>\n",
       "    <tr>\n",
       "      <th>4</th>\n",
       "      <td>56</td>\n",
       "      <td>51-60</td>\n",
       "      <td>Female</td>\n",
       "      <td>RURAL</td>\n",
       "      <td>MARRIED</td>\n",
       "      <td>YES</td>\n",
       "      <td>NO</td>\n",
       "      <td>FREE</td>\n",
       "      <td>YES</td>\n",
       "      <td>YES</td>\n",
       "      <td>...</td>\n",
       "      <td>4.0</td>\n",
       "      <td>3</td>\n",
       "      <td>2</td>\n",
       "      <td>7</td>\n",
       "      <td>3</td>\n",
       "      <td>1</td>\n",
       "      <td>NO</td>\n",
       "      <td>0</td>\n",
       "      <td>0</td>\n",
       "      <td>34</td>\n",
       "    </tr>\n",
       "    <tr>\n",
       "      <th>...</th>\n",
       "      <td>...</td>\n",
       "      <td>...</td>\n",
       "      <td>...</td>\n",
       "      <td>...</td>\n",
       "      <td>...</td>\n",
       "      <td>...</td>\n",
       "      <td>...</td>\n",
       "      <td>...</td>\n",
       "      <td>...</td>\n",
       "      <td>...</td>\n",
       "      <td>...</td>\n",
       "      <td>...</td>\n",
       "      <td>...</td>\n",
       "      <td>...</td>\n",
       "      <td>...</td>\n",
       "      <td>...</td>\n",
       "      <td>...</td>\n",
       "      <td>...</td>\n",
       "      <td>...</td>\n",
       "      <td>...</td>\n",
       "      <td>...</td>\n",
       "    </tr>\n",
       "    <tr>\n",
       "      <th>363</th>\n",
       "      <td>55</td>\n",
       "      <td>51-60</td>\n",
       "      <td>Male</td>\n",
       "      <td>URBAN</td>\n",
       "      <td>MARRIED</td>\n",
       "      <td>NO</td>\n",
       "      <td>NO</td>\n",
       "      <td>FREE</td>\n",
       "      <td>YES</td>\n",
       "      <td>NO</td>\n",
       "      <td>...</td>\n",
       "      <td>0.5</td>\n",
       "      <td>2</td>\n",
       "      <td>0</td>\n",
       "      <td>7</td>\n",
       "      <td>3</td>\n",
       "      <td>0</td>\n",
       "      <td>BODY.PAIN</td>\n",
       "      <td>1</td>\n",
       "      <td>0</td>\n",
       "      <td>60</td>\n",
       "    </tr>\n",
       "    <tr>\n",
       "      <th>364</th>\n",
       "      <td>55</td>\n",
       "      <td>51-60</td>\n",
       "      <td>Male</td>\n",
       "      <td>RURAL</td>\n",
       "      <td>MARRIED</td>\n",
       "      <td>YES</td>\n",
       "      <td>NO</td>\n",
       "      <td>FREE</td>\n",
       "      <td>YES</td>\n",
       "      <td>YES</td>\n",
       "      <td>...</td>\n",
       "      <td>2.0</td>\n",
       "      <td>2</td>\n",
       "      <td>3</td>\n",
       "      <td>7</td>\n",
       "      <td>3</td>\n",
       "      <td>1</td>\n",
       "      <td>STOMACH.BLEEDING</td>\n",
       "      <td>1</td>\n",
       "      <td>0</td>\n",
       "      <td>36</td>\n",
       "    </tr>\n",
       "    <tr>\n",
       "      <th>365</th>\n",
       "      <td>58</td>\n",
       "      <td>51-60</td>\n",
       "      <td>Male</td>\n",
       "      <td>URBAN</td>\n",
       "      <td>MARRIED</td>\n",
       "      <td>NO</td>\n",
       "      <td>NO</td>\n",
       "      <td>FREE</td>\n",
       "      <td>YES</td>\n",
       "      <td>YES</td>\n",
       "      <td>...</td>\n",
       "      <td>0.8</td>\n",
       "      <td>1</td>\n",
       "      <td>3</td>\n",
       "      <td>3</td>\n",
       "      <td>1</td>\n",
       "      <td>1</td>\n",
       "      <td>COUGH.BLEEDING</td>\n",
       "      <td>1</td>\n",
       "      <td>0</td>\n",
       "      <td>32</td>\n",
       "    </tr>\n",
       "    <tr>\n",
       "      <th>366</th>\n",
       "      <td>58</td>\n",
       "      <td>51-60</td>\n",
       "      <td>Male</td>\n",
       "      <td>URBAN</td>\n",
       "      <td>MARRIED</td>\n",
       "      <td>NO</td>\n",
       "      <td>NO</td>\n",
       "      <td>FREE</td>\n",
       "      <td>YES</td>\n",
       "      <td>YES</td>\n",
       "      <td>...</td>\n",
       "      <td>2.6</td>\n",
       "      <td>2</td>\n",
       "      <td>0</td>\n",
       "      <td>7</td>\n",
       "      <td>4</td>\n",
       "      <td>1</td>\n",
       "      <td>COUGH.BLEEDING</td>\n",
       "      <td>1</td>\n",
       "      <td>0</td>\n",
       "      <td>32</td>\n",
       "    </tr>\n",
       "    <tr>\n",
       "      <th>367</th>\n",
       "      <td>50</td>\n",
       "      <td>41-50</td>\n",
       "      <td>Male</td>\n",
       "      <td>RURAL</td>\n",
       "      <td>MARRIED</td>\n",
       "      <td>YES</td>\n",
       "      <td>NO</td>\n",
       "      <td>FREE</td>\n",
       "      <td>YES</td>\n",
       "      <td>YES</td>\n",
       "      <td>...</td>\n",
       "      <td>0.6</td>\n",
       "      <td>2</td>\n",
       "      <td>1</td>\n",
       "      <td>7</td>\n",
       "      <td>1</td>\n",
       "      <td>1</td>\n",
       "      <td>BODY.PAIN</td>\n",
       "      <td>1</td>\n",
       "      <td>0</td>\n",
       "      <td>15</td>\n",
       "    </tr>\n",
       "  </tbody>\n",
       "</table>\n",
       "<p>368 rows × 60 columns</p>\n",
       "</div>"
      ],
      "text/plain": [
       "     Age Age.Group  Gender Locality   Marital status                         \\\n",
       "0     45     41-50  Female      RURAL                               MARRIED   \n",
       "1     51     51-60  Female      URBAN                               MARRIED   \n",
       "2     55     51-60  Female      RURAL                               MARRIED   \n",
       "3     55     51-60  Female      RURAL                               MARRIED   \n",
       "4     56     51-60  Female      RURAL                               MARRIED   \n",
       "..   ...       ...     ...        ...                                   ...   \n",
       "363   55     51-60    Male      URBAN                               MARRIED   \n",
       "364   55     51-60    Male      RURAL                               MARRIED   \n",
       "365   58     51-60    Male      URBAN                               MARRIED   \n",
       "366   58     51-60    Male      URBAN                               MARRIED   \n",
       "367   50     41-50    Male      RURAL                               MARRIED   \n",
       "\n",
       "    Life.Style                                                                                \\\n",
       "0                                                   NO                                         \n",
       "1                                                   NO                                         \n",
       "2                                                  YES                                         \n",
       "3                                                  YES                                         \n",
       "4                                                  YES                                         \n",
       "..                                                 ...                                         \n",
       "363                                                 NO                                         \n",
       "364                                                YES                                         \n",
       "365                                                 NO                                         \n",
       "366                                                 NO                                         \n",
       "367                                                YES                                         \n",
       "\n",
       "    Sleep Category Depression Hyperlipi  ... oldpeak slope  ca  thal num SK  \\\n",
       "0      NO     FREE        YES       YES  ...     3.0     2   0     7   2  1   \n",
       "1      NO     FREE        YES       YES  ...     1.2     2   0     7   2  1   \n",
       "2     YES     FREE        YES       YES  ...     3.4     2   0     3   2  1   \n",
       "3     YES     FREE        YES       YES  ...     2.0     2   1     7   3  1   \n",
       "4      NO     FREE        YES       YES  ...     4.0     3   2     7   3  1   \n",
       "..    ...      ...        ...       ...  ...     ...   ...  ..   ...  .. ..   \n",
       "363    NO     FREE        YES        NO  ...     0.5     2   0     7   3  0   \n",
       "364    NO     FREE        YES       YES  ...     2.0     2   3     7   3  1   \n",
       "365    NO     FREE        YES       YES  ...     0.8     1   3     3   1  1   \n",
       "366    NO     FREE        YES       YES  ...     2.6     2   0     7   4  1   \n",
       "367    NO     FREE        YES       YES  ...     0.6     2   1     7   1  1   \n",
       "\n",
       "             SK.React  Reaction  Mortality  Follow.Up  \n",
       "0                  NO         0          0         60  \n",
       "1                  NO         0          0         15  \n",
       "2                  NO         0          0          6  \n",
       "3                  NO         0          0         52  \n",
       "4                  NO         0          0         34  \n",
       "..                ...       ...        ...        ...  \n",
       "363         BODY.PAIN         1          0         60  \n",
       "364  STOMACH.BLEEDING         1          0         36  \n",
       "365    COUGH.BLEEDING         1          0         32  \n",
       "366    COUGH.BLEEDING         1          0         32  \n",
       "367         BODY.PAIN         1          0         15  \n",
       "\n",
       "[368 rows x 60 columns]"
      ]
     },
     "execution_count": 115,
     "metadata": {},
     "output_type": "execute_result"
    }
   ],
   "source": [
    "df"
   ]
  },
  {
   "cell_type": "code",
   "execution_count": 116,
   "id": "5d7074ce",
   "metadata": {},
   "outputs": [
    {
     "name": "stdout",
     "output_type": "stream",
     "text": [
      "<class 'pandas.core.frame.DataFrame'>\n",
      "RangeIndex: 368 entries, 0 to 367\n",
      "Data columns (total 60 columns):\n",
      " #   Column                                                                                    Non-Null Count  Dtype  \n",
      "---  ------                                                                                    --------------  -----  \n",
      " 0   Age                                                                                       368 non-null    int64  \n",
      " 1   Age.Group                                                                                 368 non-null    object \n",
      " 2   Gender                                                                                    368 non-null    object \n",
      " 3   Locality                                                                                  368 non-null    object \n",
      " 4   Marital status                                                                            368 non-null    object \n",
      " 5   Life.Style                                                                                368 non-null    object \n",
      " 6   Sleep                                                                                     368 non-null    object \n",
      " 7   Category                                                                                  368 non-null    object \n",
      " 8   Depression                                                                                368 non-null    object \n",
      " 9   Hyperlipi                                                                                 368 non-null    object \n",
      " 10  Smoking                                                                                   368 non-null    object \n",
      " 11  Family.History                                                                            368 non-null    object \n",
      " 12  F.History                                                                                 368 non-null    int64  \n",
      " 13  Diabetes                                                                                  368 non-null    int64  \n",
      " 14  HTN                                                                                       368 non-null    object \n",
      " 15  Allergies                                                                                 368 non-null    object \n",
      " 16  BP                                                                                        368 non-null    float64\n",
      " 17  Thrombolysis                                                                              368 non-null    int64  \n",
      " 18  BGR                                                                                       368 non-null    int64  \n",
      " 19  B.Urea                                                                                    368 non-null    float64\n",
      " 20  S.Cr                                                                                      368 non-null    float64\n",
      " 21  S.Sodium                                                                                  368 non-null    int64  \n",
      " 22  S.Potassium                                                                               368 non-null    float64\n",
      " 23  S.Chloride                                                                                368 non-null    int64  \n",
      " 24  C.P.K                                                                                     368 non-null    int64  \n",
      " 25  CK.MB                                                                                     368 non-null    int64  \n",
      " 26  ESR                                                                                       368 non-null    int64  \n",
      " 27  WBC                                                                                       368 non-null    int64  \n",
      " 28  RBC                                                                                       368 non-null    float64\n",
      " 29  Hemoglobin                                                                                368 non-null    float64\n",
      " 30  P.C.V                                                                                     368 non-null    float64\n",
      " 31  M.C.V                                                                                     368 non-null    float64\n",
      " 32  M.C.H                                                                                     368 non-null    float64\n",
      " 33  M.C.H.C                                                                                   368 non-null    float64\n",
      " 34  PLATELET_COUNT                                                                            368 non-null    int64  \n",
      " 35  NEUTROPHIL                                                                                368 non-null    float64\n",
      " 36  LYMPHO                                                                                    368 non-null    float64\n",
      " 37  MONOCYTE                                                                                  368 non-null    float64\n",
      " 38  EOSINO                                                                                    368 non-null    int64  \n",
      " 39  Others                                                                                    368 non-null    object \n",
      " 40  CO                                                                                        368 non-null    object \n",
      " 41  Diagnosis                                                                                 368 non-null    object \n",
      " 42  Hypersensitivity                                                                          368 non-null    object \n",
      " 43  cp                                                                                        368 non-null    int64  \n",
      " 44  trestbps                                                                                  368 non-null    int64  \n",
      " 45  chol                                                                                      368 non-null    int64  \n",
      " 46  fbs                                                                                       368 non-null    int64  \n",
      " 47  restecg                                                                                   368 non-null    int64  \n",
      " 48  thalach                                                                                   368 non-null    int64  \n",
      " 49  exang                                                                                     368 non-null    int64  \n",
      " 50  oldpeak                                                                                   368 non-null    float64\n",
      " 51  slope                                                                                     368 non-null    int64  \n",
      " 52  ca                                                                                        368 non-null    int64  \n",
      " 53  thal                                                                                      368 non-null    int64  \n",
      " 54  num                                                                                       368 non-null    int64  \n",
      " 55  SK                                                                                        368 non-null    int64  \n",
      " 56  SK.React                                                                                  368 non-null    object \n",
      " 57  Reaction                                                                                  368 non-null    int64  \n",
      " 58  Mortality                                                                                 368 non-null    int64  \n",
      " 59  Follow.Up                                                                                 368 non-null    int64  \n",
      "dtypes: float64(14), int64(28), object(18)\n",
      "memory usage: 172.6+ KB\n"
     ]
    }
   ],
   "source": [
    "df.info()"
   ]
  },
  {
   "cell_type": "code",
   "execution_count": 117,
   "id": "da2d8415",
   "metadata": {},
   "outputs": [],
   "source": [
    "df.columns = df.columns.str.replace(\" \",\"\")"
   ]
  },
  {
   "cell_type": "code",
   "execution_count": 118,
   "id": "d54eaa10",
   "metadata": {},
   "outputs": [],
   "source": [
    "for i in df.columns:\n",
    "    if df[i].dtype == \"O\":\n",
    "        df[i] = pd.Categorical(df[i])\n",
    "    else:\n",
    "        continue"
   ]
  },
  {
   "cell_type": "code",
   "execution_count": 119,
   "id": "6b3499ea",
   "metadata": {},
   "outputs": [
    {
     "name": "stdout",
     "output_type": "stream",
     "text": [
      "<class 'pandas.core.frame.DataFrame'>\n",
      "RangeIndex: 368 entries, 0 to 367\n",
      "Data columns (total 60 columns):\n",
      " #   Column            Non-Null Count  Dtype   \n",
      "---  ------            --------------  -----   \n",
      " 0   Age               368 non-null    int64   \n",
      " 1   Age.Group         368 non-null    category\n",
      " 2   Gender            368 non-null    category\n",
      " 3   Locality          368 non-null    category\n",
      " 4   Maritalstatus     368 non-null    category\n",
      " 5   Life.Style        368 non-null    category\n",
      " 6   Sleep             368 non-null    category\n",
      " 7   Category          368 non-null    category\n",
      " 8   Depression        368 non-null    category\n",
      " 9   Hyperlipi         368 non-null    category\n",
      " 10  Smoking           368 non-null    category\n",
      " 11  Family.History    368 non-null    category\n",
      " 12  F.History         368 non-null    int64   \n",
      " 13  Diabetes          368 non-null    int64   \n",
      " 14  HTN               368 non-null    category\n",
      " 15  Allergies         368 non-null    category\n",
      " 16  BP                368 non-null    float64 \n",
      " 17  Thrombolysis      368 non-null    int64   \n",
      " 18  BGR               368 non-null    int64   \n",
      " 19  B.Urea            368 non-null    float64 \n",
      " 20  S.Cr              368 non-null    float64 \n",
      " 21  S.Sodium          368 non-null    int64   \n",
      " 22  S.Potassium       368 non-null    float64 \n",
      " 23  S.Chloride        368 non-null    int64   \n",
      " 24  C.P.K             368 non-null    int64   \n",
      " 25  CK.MB             368 non-null    int64   \n",
      " 26  ESR               368 non-null    int64   \n",
      " 27  WBC               368 non-null    int64   \n",
      " 28  RBC               368 non-null    float64 \n",
      " 29  Hemoglobin        368 non-null    float64 \n",
      " 30  P.C.V             368 non-null    float64 \n",
      " 31  M.C.V             368 non-null    float64 \n",
      " 32  M.C.H             368 non-null    float64 \n",
      " 33  M.C.H.C           368 non-null    float64 \n",
      " 34  PLATELET_COUNT    368 non-null    int64   \n",
      " 35  NEUTROPHIL        368 non-null    float64 \n",
      " 36  LYMPHO            368 non-null    float64 \n",
      " 37  MONOCYTE          368 non-null    float64 \n",
      " 38  EOSINO            368 non-null    int64   \n",
      " 39  Others            368 non-null    category\n",
      " 40  CO                368 non-null    category\n",
      " 41  Diagnosis         368 non-null    category\n",
      " 42  Hypersensitivity  368 non-null    category\n",
      " 43  cp                368 non-null    int64   \n",
      " 44  trestbps          368 non-null    int64   \n",
      " 45  chol              368 non-null    int64   \n",
      " 46  fbs               368 non-null    int64   \n",
      " 47  restecg           368 non-null    int64   \n",
      " 48  thalach           368 non-null    int64   \n",
      " 49  exang             368 non-null    int64   \n",
      " 50  oldpeak           368 non-null    float64 \n",
      " 51  slope             368 non-null    int64   \n",
      " 52  ca                368 non-null    int64   \n",
      " 53  thal              368 non-null    int64   \n",
      " 54  num               368 non-null    int64   \n",
      " 55  SK                368 non-null    int64   \n",
      " 56  SK.React          368 non-null    category\n",
      " 57  Reaction          368 non-null    int64   \n",
      " 58  Mortality         368 non-null    int64   \n",
      " 59  Follow.Up         368 non-null    int64   \n",
      "dtypes: category(18), float64(14), int64(28)\n",
      "memory usage: 132.8 KB\n"
     ]
    }
   ],
   "source": [
    "df.info()"
   ]
  },
  {
   "cell_type": "code",
   "execution_count": 97,
   "id": "f0cc0508",
   "metadata": {},
   "outputs": [],
   "source": [
    "#df.replace?"
   ]
  },
  {
   "cell_type": "code",
   "execution_count": 98,
   "id": "90a564ea",
   "metadata": {},
   "outputs": [],
   "source": [
    "# #Recoding categorcial variables\n",
    "# df[\"F.History\"].replace(to_replace={\"YES\" : 0, \"NO\" : 1}, inplace= True)\n",
    "# df[\"Diabetes\"].replace(to_replace={\"YES\" : 0, \"NO\" : 1}, inplace= True)\n",
    "# df[\"Thrombolysis\"].replace(to_replace={\"YES\" : 0, \"NO\" : 1}, inplace= True)\n",
    "# df.cp=pd.Categorical(df.cp,categories=[1,2,3,4],ordered=True)\n",
    "# df.cp = df.cp.map({1:\"Grade_1\",2:\"Grade_2\",3:\"Grade_3\",4:\"Grade_4\"})\n",
    "# df[\"fbs\"].replace(to_replace=[0,1],value=[\"<=120mg/dl\",\">120mg/dl\"], inplace= True)\n",
    "# df[\"restecg\"].replace(to_replace=[0,1,2],value=[\"normal\",\"ST_T_abnormal\",\"LVH\"], inplace= True)\n",
    "# df[\"Mortality\"].replace(to_replace=[0,1],value=[\"Died\",\"Alive\"], inplace= True)\n",
    "# df.Mortality=pd.Categorical(df.Mortality,categories=(\"Alive\",\"Died\"))\n",
    "# df[\"Age.Group\"] = pd.Categorical(df[\"Age.Group\"],categories=('21-30', '31-40', '41-50', '51-60', '61-70'),ordered=True)"
   ]
  },
  {
   "cell_type": "code",
   "execution_count": 99,
   "id": "69be11a5",
   "metadata": {
    "scrolled": true
   },
   "outputs": [],
   "source": [
    "# df[\"Thrombolysis\"].replace(to_replace={\"YES\" : 0, \"NO\" : 1}, inplace= True)\n",
    "# df[\"Thrombolysis\"]"
   ]
  },
  {
   "cell_type": "code",
   "execution_count": 120,
   "id": "0f17645c",
   "metadata": {
    "scrolled": true
   },
   "outputs": [
    {
     "data": {
      "text/plain": [
       "(368, 60)"
      ]
     },
     "execution_count": 120,
     "metadata": {},
     "output_type": "execute_result"
    }
   ],
   "source": [
    "df.shape"
   ]
  },
  {
   "cell_type": "code",
   "execution_count": 121,
   "id": "ef212c68",
   "metadata": {
    "scrolled": false
   },
   "outputs": [
    {
     "name": "stdout",
     "output_type": "stream",
     "text": [
      "<class 'pandas.core.frame.DataFrame'>\n",
      "RangeIndex: 368 entries, 0 to 367\n",
      "Data columns (total 60 columns):\n",
      " #   Column            Non-Null Count  Dtype   \n",
      "---  ------            --------------  -----   \n",
      " 0   Age               368 non-null    int64   \n",
      " 1   Age.Group         368 non-null    category\n",
      " 2   Gender            368 non-null    category\n",
      " 3   Locality          368 non-null    category\n",
      " 4   Maritalstatus     368 non-null    category\n",
      " 5   Life.Style        368 non-null    category\n",
      " 6   Sleep             368 non-null    category\n",
      " 7   Category          368 non-null    category\n",
      " 8   Depression        368 non-null    category\n",
      " 9   Hyperlipi         368 non-null    category\n",
      " 10  Smoking           368 non-null    category\n",
      " 11  Family.History    368 non-null    category\n",
      " 12  F.History         368 non-null    int64   \n",
      " 13  Diabetes          368 non-null    int64   \n",
      " 14  HTN               368 non-null    category\n",
      " 15  Allergies         368 non-null    category\n",
      " 16  BP                368 non-null    float64 \n",
      " 17  Thrombolysis      368 non-null    int64   \n",
      " 18  BGR               368 non-null    int64   \n",
      " 19  B.Urea            368 non-null    float64 \n",
      " 20  S.Cr              368 non-null    float64 \n",
      " 21  S.Sodium          368 non-null    int64   \n",
      " 22  S.Potassium       368 non-null    float64 \n",
      " 23  S.Chloride        368 non-null    int64   \n",
      " 24  C.P.K             368 non-null    int64   \n",
      " 25  CK.MB             368 non-null    int64   \n",
      " 26  ESR               368 non-null    int64   \n",
      " 27  WBC               368 non-null    int64   \n",
      " 28  RBC               368 non-null    float64 \n",
      " 29  Hemoglobin        368 non-null    float64 \n",
      " 30  P.C.V             368 non-null    float64 \n",
      " 31  M.C.V             368 non-null    float64 \n",
      " 32  M.C.H             368 non-null    float64 \n",
      " 33  M.C.H.C           368 non-null    float64 \n",
      " 34  PLATELET_COUNT    368 non-null    int64   \n",
      " 35  NEUTROPHIL        368 non-null    float64 \n",
      " 36  LYMPHO            368 non-null    float64 \n",
      " 37  MONOCYTE          368 non-null    float64 \n",
      " 38  EOSINO            368 non-null    int64   \n",
      " 39  Others            368 non-null    category\n",
      " 40  CO                368 non-null    category\n",
      " 41  Diagnosis         368 non-null    category\n",
      " 42  Hypersensitivity  368 non-null    category\n",
      " 43  cp                368 non-null    int64   \n",
      " 44  trestbps          368 non-null    int64   \n",
      " 45  chol              368 non-null    int64   \n",
      " 46  fbs               368 non-null    int64   \n",
      " 47  restecg           368 non-null    int64   \n",
      " 48  thalach           368 non-null    int64   \n",
      " 49  exang             368 non-null    int64   \n",
      " 50  oldpeak           368 non-null    float64 \n",
      " 51  slope             368 non-null    int64   \n",
      " 52  ca                368 non-null    int64   \n",
      " 53  thal              368 non-null    int64   \n",
      " 54  num               368 non-null    int64   \n",
      " 55  SK                368 non-null    int64   \n",
      " 56  SK.React          368 non-null    category\n",
      " 57  Reaction          368 non-null    int64   \n",
      " 58  Mortality         368 non-null    int64   \n",
      " 59  Follow.Up         368 non-null    int64   \n",
      "dtypes: category(18), float64(14), int64(28)\n",
      "memory usage: 132.8 KB\n"
     ]
    }
   ],
   "source": [
    "df.info()"
   ]
  },
  {
   "cell_type": "code",
   "execution_count": 122,
   "id": "84c3af23",
   "metadata": {
    "scrolled": true
   },
   "outputs": [
    {
     "data": {
      "text/plain": [
       "<Axes: >"
      ]
     },
     "execution_count": 122,
     "metadata": {},
     "output_type": "execute_result"
    },
    {
     "data": {
      "image/png": "[encoded data removed]",
      "text/plain": [
       "<Figure size 2500x1000 with 2 Axes>"
      ]
     },
     "metadata": {},
     "output_type": "display_data"
    }
   ],
   "source": [
    "import missingno as msno\n",
    "msno.matrix(df)"
   ]
  },
  {
   "cell_type": "code",
   "execution_count": 103,
   "id": "ae853aee",
   "metadata": {
    "scrolled": false
   },
   "outputs": [
    {
     "data": {
      "text/html": [
       "<div>\n",
       "<style scoped>\n",
       "    .dataframe tbody tr th:only-of-type {\n",
       "        vertical-align: middle;\n",
       "    }\n",
       "\n",
       "    .dataframe tbody tr th {\n",
       "        vertical-align: top;\n",
       "    }\n",
       "\n",
       "    .dataframe thead th {\n",
       "        text-align: right;\n",
       "    }\n",
       "</style>\n",
       "<table border=\"1\" class=\"dataframe\">\n",
       "  <thead>\n",
       "    <tr style=\"text-align: right;\">\n",
       "      <th></th>\n",
       "      <th>count</th>\n",
       "      <th>mean</th>\n",
       "      <th>std</th>\n",
       "      <th>min</th>\n",
       "      <th>25%</th>\n",
       "      <th>50%</th>\n",
       "      <th>75%</th>\n",
       "      <th>max</th>\n",
       "    </tr>\n",
       "  </thead>\n",
       "  <tbody>\n",
       "    <tr>\n",
       "      <th>PLATELET_COUNT</th>\n",
       "      <td>368.0</td>\n",
       "      <td>248660.33</td>\n",
       "      <td>76707.56</td>\n",
       "      <td>20000.00</td>\n",
       "      <td>192000.00</td>\n",
       "      <td>237000.00</td>\n",
       "      <td>287000.00</td>\n",
       "      <td>459000.00</td>\n",
       "    </tr>\n",
       "    <tr>\n",
       "      <th>WBC</th>\n",
       "      <td>368.0</td>\n",
       "      <td>11181.28</td>\n",
       "      <td>3517.88</td>\n",
       "      <td>5800.00</td>\n",
       "      <td>7800.00</td>\n",
       "      <td>10650.00</td>\n",
       "      <td>13500.00</td>\n",
       "      <td>19590.00</td>\n",
       "    </tr>\n",
       "    <tr>\n",
       "      <th>C.P.K</th>\n",
       "      <td>368.0</td>\n",
       "      <td>553.89</td>\n",
       "      <td>957.61</td>\n",
       "      <td>52.00</td>\n",
       "      <td>135.00</td>\n",
       "      <td>188.00</td>\n",
       "      <td>390.00</td>\n",
       "      <td>4289.00</td>\n",
       "    </tr>\n",
       "    <tr>\n",
       "      <th>chol</th>\n",
       "      <td>368.0</td>\n",
       "      <td>248.94</td>\n",
       "      <td>50.13</td>\n",
       "      <td>131.00</td>\n",
       "      <td>212.00</td>\n",
       "      <td>249.00</td>\n",
       "      <td>283.00</td>\n",
       "      <td>409.00</td>\n",
       "    </tr>\n",
       "    <tr>\n",
       "      <th>BGR</th>\n",
       "      <td>368.0</td>\n",
       "      <td>219.99</td>\n",
       "      <td>139.34</td>\n",
       "      <td>60.00</td>\n",
       "      <td>117.00</td>\n",
       "      <td>164.00</td>\n",
       "      <td>291.00</td>\n",
       "      <td>563.00</td>\n",
       "    </tr>\n",
       "    <tr>\n",
       "      <th>thalach</th>\n",
       "      <td>368.0</td>\n",
       "      <td>140.92</td>\n",
       "      <td>22.99</td>\n",
       "      <td>71.00</td>\n",
       "      <td>125.00</td>\n",
       "      <td>144.00</td>\n",
       "      <td>158.00</td>\n",
       "      <td>195.00</td>\n",
       "    </tr>\n",
       "    <tr>\n",
       "      <th>S.Sodium</th>\n",
       "      <td>368.0</td>\n",
       "      <td>138.02</td>\n",
       "      <td>4.08</td>\n",
       "      <td>129.00</td>\n",
       "      <td>135.00</td>\n",
       "      <td>138.00</td>\n",
       "      <td>141.00</td>\n",
       "      <td>146.00</td>\n",
       "    </tr>\n",
       "    <tr>\n",
       "      <th>trestbps</th>\n",
       "      <td>368.0</td>\n",
       "      <td>132.74</td>\n",
       "      <td>18.19</td>\n",
       "      <td>100.00</td>\n",
       "      <td>120.00</td>\n",
       "      <td>130.00</td>\n",
       "      <td>142.00</td>\n",
       "      <td>200.00</td>\n",
       "    </tr>\n",
       "    <tr>\n",
       "      <th>BP</th>\n",
       "      <td>368.0</td>\n",
       "      <td>121.21</td>\n",
       "      <td>24.54</td>\n",
       "      <td>80.50</td>\n",
       "      <td>100.70</td>\n",
       "      <td>120.80</td>\n",
       "      <td>140.70</td>\n",
       "      <td>190.11</td>\n",
       "    </tr>\n",
       "    <tr>\n",
       "      <th>S.Chloride</th>\n",
       "      <td>368.0</td>\n",
       "      <td>103.82</td>\n",
       "      <td>4.80</td>\n",
       "      <td>90.00</td>\n",
       "      <td>100.00</td>\n",
       "      <td>104.00</td>\n",
       "      <td>107.00</td>\n",
       "      <td>112.00</td>\n",
       "    </tr>\n",
       "    <tr>\n",
       "      <th>M.C.V</th>\n",
       "      <td>368.0</td>\n",
       "      <td>81.57</td>\n",
       "      <td>6.81</td>\n",
       "      <td>60.00</td>\n",
       "      <td>78.00</td>\n",
       "      <td>82.10</td>\n",
       "      <td>86.00</td>\n",
       "      <td>96.00</td>\n",
       "    </tr>\n",
       "    <tr>\n",
       "      <th>CK.MB</th>\n",
       "      <td>368.0</td>\n",
       "      <td>62.49</td>\n",
       "      <td>89.79</td>\n",
       "      <td>14.00</td>\n",
       "      <td>21.00</td>\n",
       "      <td>36.00</td>\n",
       "      <td>52.00</td>\n",
       "      <td>505.00</td>\n",
       "    </tr>\n",
       "    <tr>\n",
       "      <th>Age</th>\n",
       "      <td>368.0</td>\n",
       "      <td>54.29</td>\n",
       "      <td>8.72</td>\n",
       "      <td>24.00</td>\n",
       "      <td>50.75</td>\n",
       "      <td>55.00</td>\n",
       "      <td>60.25</td>\n",
       "      <td>77.00</td>\n",
       "    </tr>\n",
       "    <tr>\n",
       "      <th>B.Urea</th>\n",
       "      <td>368.0</td>\n",
       "      <td>51.68</td>\n",
       "      <td>62.58</td>\n",
       "      <td>2.30</td>\n",
       "      <td>28.00</td>\n",
       "      <td>36.00</td>\n",
       "      <td>43.00</td>\n",
       "      <td>394.00</td>\n",
       "    </tr>\n",
       "    <tr>\n",
       "      <th>Follow.Up</th>\n",
       "      <td>368.0</td>\n",
       "      <td>28.65</td>\n",
       "      <td>15.81</td>\n",
       "      <td>1.00</td>\n",
       "      <td>15.00</td>\n",
       "      <td>32.00</td>\n",
       "      <td>36.00</td>\n",
       "      <td>60.00</td>\n",
       "    </tr>\n",
       "    <tr>\n",
       "      <th>M.C.H</th>\n",
       "      <td>368.0</td>\n",
       "      <td>27.27</td>\n",
       "      <td>3.08</td>\n",
       "      <td>18.00</td>\n",
       "      <td>25.70</td>\n",
       "      <td>27.90</td>\n",
       "      <td>29.00</td>\n",
       "      <td>33.00</td>\n",
       "    </tr>\n",
       "    <tr>\n",
       "      <th>ESR</th>\n",
       "      <td>368.0</td>\n",
       "      <td>26.57</td>\n",
       "      <td>32.58</td>\n",
       "      <td>5.00</td>\n",
       "      <td>11.00</td>\n",
       "      <td>16.00</td>\n",
       "      <td>25.00</td>\n",
       "      <td>154.00</td>\n",
       "    </tr>\n",
       "    <tr>\n",
       "      <th>Hemoglobin</th>\n",
       "      <td>368.0</td>\n",
       "      <td>13.91</td>\n",
       "      <td>2.16</td>\n",
       "      <td>9.10</td>\n",
       "      <td>12.30</td>\n",
       "      <td>14.20</td>\n",
       "      <td>15.50</td>\n",
       "      <td>18.00</td>\n",
       "    </tr>\n",
       "    <tr>\n",
       "      <th>thal</th>\n",
       "      <td>368.0</td>\n",
       "      <td>5.86</td>\n",
       "      <td>1.74</td>\n",
       "      <td>3.00</td>\n",
       "      <td>3.00</td>\n",
       "      <td>7.00</td>\n",
       "      <td>7.00</td>\n",
       "      <td>7.00</td>\n",
       "    </tr>\n",
       "    <tr>\n",
       "      <th>RBC</th>\n",
       "      <td>368.0</td>\n",
       "      <td>5.09</td>\n",
       "      <td>0.77</td>\n",
       "      <td>3.46</td>\n",
       "      <td>4.40</td>\n",
       "      <td>5.20</td>\n",
       "      <td>5.65</td>\n",
       "      <td>6.98</td>\n",
       "    </tr>\n",
       "    <tr>\n",
       "      <th>S.Potassium</th>\n",
       "      <td>368.0</td>\n",
       "      <td>4.21</td>\n",
       "      <td>0.39</td>\n",
       "      <td>3.30</td>\n",
       "      <td>3.90</td>\n",
       "      <td>4.20</td>\n",
       "      <td>4.40</td>\n",
       "      <td>5.30</td>\n",
       "    </tr>\n",
       "    <tr>\n",
       "      <th>NEUTROPHIL</th>\n",
       "      <td>368.0</td>\n",
       "      <td>2.93</td>\n",
       "      <td>13.40</td>\n",
       "      <td>0.36</td>\n",
       "      <td>0.60</td>\n",
       "      <td>0.72</td>\n",
       "      <td>0.80</td>\n",
       "      <td>83.00</td>\n",
       "    </tr>\n",
       "    <tr>\n",
       "      <th>EOSINO</th>\n",
       "      <td>368.0</td>\n",
       "      <td>2.26</td>\n",
       "      <td>0.88</td>\n",
       "      <td>1.00</td>\n",
       "      <td>2.00</td>\n",
       "      <td>2.00</td>\n",
       "      <td>3.00</td>\n",
       "      <td>5.00</td>\n",
       "    </tr>\n",
       "    <tr>\n",
       "      <th>num</th>\n",
       "      <td>368.0</td>\n",
       "      <td>2.04</td>\n",
       "      <td>1.03</td>\n",
       "      <td>1.00</td>\n",
       "      <td>1.00</td>\n",
       "      <td>2.00</td>\n",
       "      <td>3.00</td>\n",
       "      <td>4.00</td>\n",
       "    </tr>\n",
       "    <tr>\n",
       "      <th>slope</th>\n",
       "      <td>368.0</td>\n",
       "      <td>1.84</td>\n",
       "      <td>0.56</td>\n",
       "      <td>1.00</td>\n",
       "      <td>1.75</td>\n",
       "      <td>2.00</td>\n",
       "      <td>2.00</td>\n",
       "      <td>3.00</td>\n",
       "    </tr>\n",
       "    <tr>\n",
       "      <th>S.Cr</th>\n",
       "      <td>368.0</td>\n",
       "      <td>1.72</td>\n",
       "      <td>3.61</td>\n",
       "      <td>0.60</td>\n",
       "      <td>0.90</td>\n",
       "      <td>0.90</td>\n",
       "      <td>1.10</td>\n",
       "      <td>22.90</td>\n",
       "    </tr>\n",
       "    <tr>\n",
       "      <th>oldpeak</th>\n",
       "      <td>368.0</td>\n",
       "      <td>1.54</td>\n",
       "      <td>1.39</td>\n",
       "      <td>0.00</td>\n",
       "      <td>0.28</td>\n",
       "      <td>1.20</td>\n",
       "      <td>2.20</td>\n",
       "      <td>6.20</td>\n",
       "    </tr>\n",
       "    <tr>\n",
       "      <th>ca</th>\n",
       "      <td>368.0</td>\n",
       "      <td>1.00</td>\n",
       "      <td>1.04</td>\n",
       "      <td>0.00</td>\n",
       "      <td>0.00</td>\n",
       "      <td>1.00</td>\n",
       "      <td>2.00</td>\n",
       "      <td>3.00</td>\n",
       "    </tr>\n",
       "    <tr>\n",
       "      <th>SK</th>\n",
       "      <td>368.0</td>\n",
       "      <td>0.98</td>\n",
       "      <td>0.13</td>\n",
       "      <td>0.00</td>\n",
       "      <td>1.00</td>\n",
       "      <td>1.00</td>\n",
       "      <td>1.00</td>\n",
       "      <td>1.00</td>\n",
       "    </tr>\n",
       "    <tr>\n",
       "      <th>Reaction</th>\n",
       "      <td>368.0</td>\n",
       "      <td>0.75</td>\n",
       "      <td>0.44</td>\n",
       "      <td>0.00</td>\n",
       "      <td>0.00</td>\n",
       "      <td>1.00</td>\n",
       "      <td>1.00</td>\n",
       "      <td>1.00</td>\n",
       "    </tr>\n",
       "    <tr>\n",
       "      <th>exang</th>\n",
       "      <td>368.0</td>\n",
       "      <td>0.56</td>\n",
       "      <td>0.50</td>\n",
       "      <td>0.00</td>\n",
       "      <td>0.00</td>\n",
       "      <td>1.00</td>\n",
       "      <td>1.00</td>\n",
       "      <td>1.00</td>\n",
       "    </tr>\n",
       "    <tr>\n",
       "      <th>Diabetes</th>\n",
       "      <td>368.0</td>\n",
       "      <td>0.46</td>\n",
       "      <td>0.50</td>\n",
       "      <td>0.00</td>\n",
       "      <td>0.00</td>\n",
       "      <td>0.00</td>\n",
       "      <td>1.00</td>\n",
       "      <td>1.00</td>\n",
       "    </tr>\n",
       "    <tr>\n",
       "      <th>P.C.V</th>\n",
       "      <td>368.0</td>\n",
       "      <td>0.42</td>\n",
       "      <td>0.06</td>\n",
       "      <td>0.29</td>\n",
       "      <td>0.36</td>\n",
       "      <td>0.42</td>\n",
       "      <td>0.46</td>\n",
       "      <td>0.54</td>\n",
       "    </tr>\n",
       "    <tr>\n",
       "      <th>M.C.H.C</th>\n",
       "      <td>368.0</td>\n",
       "      <td>0.33</td>\n",
       "      <td>0.02</td>\n",
       "      <td>0.22</td>\n",
       "      <td>0.32</td>\n",
       "      <td>0.33</td>\n",
       "      <td>0.34</td>\n",
       "      <td>0.39</td>\n",
       "    </tr>\n",
       "    <tr>\n",
       "      <th>LYMPHO</th>\n",
       "      <td>368.0</td>\n",
       "      <td>0.25</td>\n",
       "      <td>0.12</td>\n",
       "      <td>0.05</td>\n",
       "      <td>0.17</td>\n",
       "      <td>0.21</td>\n",
       "      <td>0.32</td>\n",
       "      <td>0.54</td>\n",
       "    </tr>\n",
       "    <tr>\n",
       "      <th>F.History</th>\n",
       "      <td>368.0</td>\n",
       "      <td>0.20</td>\n",
       "      <td>0.40</td>\n",
       "      <td>0.00</td>\n",
       "      <td>0.00</td>\n",
       "      <td>0.00</td>\n",
       "      <td>0.00</td>\n",
       "      <td>1.00</td>\n",
       "    </tr>\n",
       "    <tr>\n",
       "      <th>Thrombolysis</th>\n",
       "      <td>368.0</td>\n",
       "      <td>0.03</td>\n",
       "      <td>0.18</td>\n",
       "      <td>0.00</td>\n",
       "      <td>0.00</td>\n",
       "      <td>0.00</td>\n",
       "      <td>0.00</td>\n",
       "      <td>1.00</td>\n",
       "    </tr>\n",
       "    <tr>\n",
       "      <th>MONOCYTE</th>\n",
       "      <td>368.0</td>\n",
       "      <td>0.03</td>\n",
       "      <td>0.02</td>\n",
       "      <td>0.01</td>\n",
       "      <td>0.02</td>\n",
       "      <td>0.03</td>\n",
       "      <td>0.04</td>\n",
       "      <td>0.08</td>\n",
       "    </tr>\n",
       "  </tbody>\n",
       "</table>\n",
       "</div>"
      ],
      "text/plain": [
       "                count       mean       std       min        25%        50%  \\\n",
       "PLATELET_COUNT  368.0  248660.33  76707.56  20000.00  192000.00  237000.00   \n",
       "WBC             368.0   11181.28   3517.88   5800.00    7800.00   10650.00   \n",
       "C.P.K           368.0     553.89    957.61     52.00     135.00     188.00   \n",
       "chol            368.0     248.94     50.13    131.00     212.00     249.00   \n",
       "BGR             368.0     219.99    139.34     60.00     117.00     164.00   \n",
       "thalach         368.0     140.92     22.99     71.00     125.00     144.00   \n",
       "S.Sodium        368.0     138.02      4.08    129.00     135.00     138.00   \n",
       "trestbps        368.0     132.74     18.19    100.00     120.00     130.00   \n",
       "BP              368.0     121.21     24.54     80.50     100.70     120.80   \n",
       "S.Chloride      368.0     103.82      4.80     90.00     100.00     104.00   \n",
       "M.C.V           368.0      81.57      6.81     60.00      78.00      82.10   \n",
       "CK.MB           368.0      62.49     89.79     14.00      21.00      36.00   \n",
       "Age             368.0      54.29      8.72     24.00      50.75      55.00   \n",
       "B.Urea          368.0      51.68     62.58      2.30      28.00      36.00   \n",
       "Follow.Up       368.0      28.65     15.81      1.00      15.00      32.00   \n",
       "M.C.H           368.0      27.27      3.08     18.00      25.70      27.90   \n",
       "ESR             368.0      26.57     32.58      5.00      11.00      16.00   \n",
       "Hemoglobin      368.0      13.91      2.16      9.10      12.30      14.20   \n",
       "thal            368.0       5.86      1.74      3.00       3.00       7.00   \n",
       "RBC             368.0       5.09      0.77      3.46       4.40       5.20   \n",
       "S.Potassium     368.0       4.21      0.39      3.30       3.90       4.20   \n",
       "NEUTROPHIL      368.0       2.93     13.40      0.36       0.60       0.72   \n",
       "EOSINO          368.0       2.26      0.88      1.00       2.00       2.00   \n",
       "num             368.0       2.04      1.03      1.00       1.00       2.00   \n",
       "slope           368.0       1.84      0.56      1.00       1.75       2.00   \n",
       "S.Cr            368.0       1.72      3.61      0.60       0.90       0.90   \n",
       "oldpeak         368.0       1.54      1.39      0.00       0.28       1.20   \n",
       "ca              368.0       1.00      1.04      0.00       0.00       1.00   \n",
       "SK              368.0       0.98      0.13      0.00       1.00       1.00   \n",
       "Reaction        368.0       0.75      0.44      0.00       0.00       1.00   \n",
       "exang           368.0       0.56      0.50      0.00       0.00       1.00   \n",
       "Diabetes        368.0       0.46      0.50      0.00       0.00       0.00   \n",
       "P.C.V           368.0       0.42      0.06      0.29       0.36       0.42   \n",
       "M.C.H.C         368.0       0.33      0.02      0.22       0.32       0.33   \n",
       "LYMPHO          368.0       0.25      0.12      0.05       0.17       0.21   \n",
       "F.History       368.0       0.20      0.40      0.00       0.00       0.00   \n",
       "Thrombolysis    368.0       0.03      0.18      0.00       0.00       0.00   \n",
       "MONOCYTE        368.0       0.03      0.02      0.01       0.02       0.03   \n",
       "\n",
       "                      75%        max  \n",
       "PLATELET_COUNT  287000.00  459000.00  \n",
       "WBC              13500.00   19590.00  \n",
       "C.P.K              390.00    4289.00  \n",
       "chol               283.00     409.00  \n",
       "BGR                291.00     563.00  \n",
       "thalach            158.00     195.00  \n",
       "S.Sodium           141.00     146.00  \n",
       "trestbps           142.00     200.00  \n",
       "BP                 140.70     190.11  \n",
       "S.Chloride         107.00     112.00  \n",
       "M.C.V               86.00      96.00  \n",
       "CK.MB               52.00     505.00  \n",
       "Age                 60.25      77.00  \n",
       "B.Urea              43.00     394.00  \n",
       "Follow.Up           36.00      60.00  \n",
       "M.C.H               29.00      33.00  \n",
       "ESR                 25.00     154.00  \n",
       "Hemoglobin          15.50      18.00  \n",
       "thal                 7.00       7.00  \n",
       "RBC                  5.65       6.98  \n",
       "S.Potassium          4.40       5.30  \n",
       "NEUTROPHIL           0.80      83.00  \n",
       "EOSINO               3.00       5.00  \n",
       "num                  3.00       4.00  \n",
       "slope                2.00       3.00  \n",
       "S.Cr                 1.10      22.90  \n",
       "oldpeak              2.20       6.20  \n",
       "ca                   2.00       3.00  \n",
       "SK                   1.00       1.00  \n",
       "Reaction             1.00       1.00  \n",
       "exang                1.00       1.00  \n",
       "Diabetes             1.00       1.00  \n",
       "P.C.V                0.46       0.54  \n",
       "M.C.H.C              0.34       0.39  \n",
       "LYMPHO               0.32       0.54  \n",
       "F.History            0.00       1.00  \n",
       "Thrombolysis         0.00       1.00  \n",
       "MONOCYTE             0.04       0.08  "
      ]
     },
     "execution_count": 103,
     "metadata": {},
     "output_type": "execute_result"
    }
   ],
   "source": [
    "df.describe().T.sort_values(by=\"mean\", ascending=False).round(2)"
   ]
  },
  {
   "cell_type": "code",
   "execution_count": 124,
   "id": "152281f5",
   "metadata": {},
   "outputs": [
    {
     "name": "stdout",
     "output_type": "stream",
     "text": [
      "['Age.Group', 'Gender', 'Locality', 'Maritalstatus', 'Life.Style', 'Sleep', 'Category', 'Depression', 'Hyperlipi', 'Smoking', 'Family.History', 'HTN', 'Allergies', 'Others', 'CO', 'Diagnosis', 'Hypersensitivity', 'SK.React']\n"
     ]
    }
   ],
   "source": [
    "categories = list()\n",
    "for i in df.columns:\n",
    "    if df[i].dtype == \"category\" or df[i].dtype == \"object\":\n",
    "        pd.get_dummies(df, columns=[i], drop_first=True)\n",
    "        categories.append(i)\n",
    "    else:\n",
    "        continue\n",
    "print(categories)"
   ]
  },
  {
   "cell_type": "code",
   "execution_count": 128,
   "id": "abacaf65",
   "metadata": {},
   "outputs": [
    {
     "name": "stdout",
     "output_type": "stream",
     "text": [
      "<class 'pandas.core.frame.DataFrame'>\n",
      "RangeIndex: 368 entries, 0 to 367\n",
      "Data columns (total 60 columns):\n",
      " #   Column            Non-Null Count  Dtype   \n",
      "---  ------            --------------  -----   \n",
      " 0   Age               368 non-null    int64   \n",
      " 1   Age.Group         368 non-null    category\n",
      " 2   Gender            368 non-null    category\n",
      " 3   Locality          368 non-null    category\n",
      " 4   Maritalstatus     368 non-null    category\n",
      " 5   Life.Style        368 non-null    category\n",
      " 6   Sleep             368 non-null    category\n",
      " 7   Category          368 non-null    category\n",
      " 8   Depression        368 non-null    category\n",
      " 9   Hyperlipi         368 non-null    category\n",
      " 10  Smoking           368 non-null    category\n",
      " 11  Family.History    368 non-null    category\n",
      " 12  F.History         368 non-null    int64   \n",
      " 13  Diabetes          368 non-null    int64   \n",
      " 14  HTN               368 non-null    category\n",
      " 15  Allergies         368 non-null    category\n",
      " 16  BP                368 non-null    float64 \n",
      " 17  Thrombolysis      368 non-null    int64   \n",
      " 18  BGR               368 non-null    int64   \n",
      " 19  B.Urea            368 non-null    float64 \n",
      " 20  S.Cr              368 non-null    float64 \n",
      " 21  S.Sodium          368 non-null    int64   \n",
      " 22  S.Potassium       368 non-null    float64 \n",
      " 23  S.Chloride        368 non-null    int64   \n",
      " 24  C.P.K             368 non-null    int64   \n",
      " 25  CK.MB             368 non-null    int64   \n",
      " 26  ESR               368 non-null    int64   \n",
      " 27  WBC               368 non-null    int64   \n",
      " 28  RBC               368 non-null    float64 \n",
      " 29  Hemoglobin        368 non-null    float64 \n",
      " 30  P.C.V             368 non-null    float64 \n",
      " 31  M.C.V             368 non-null    float64 \n",
      " 32  M.C.H             368 non-null    float64 \n",
      " 33  M.C.H.C           368 non-null    float64 \n",
      " 34  PLATELET_COUNT    368 non-null    int64   \n",
      " 35  NEUTROPHIL        368 non-null    float64 \n",
      " 36  LYMPHO            368 non-null    float64 \n",
      " 37  MONOCYTE          368 non-null    float64 \n",
      " 38  EOSINO            368 non-null    int64   \n",
      " 39  Others            368 non-null    category\n",
      " 40  CO                368 non-null    category\n",
      " 41  Diagnosis         368 non-null    category\n",
      " 42  Hypersensitivity  368 non-null    category\n",
      " 43  cp                368 non-null    int64   \n",
      " 44  trestbps          368 non-null    int64   \n",
      " 45  chol              368 non-null    int64   \n",
      " 46  fbs               368 non-null    int64   \n",
      " 47  restecg           368 non-null    int64   \n",
      " 48  thalach           368 non-null    int64   \n",
      " 49  exang             368 non-null    int64   \n",
      " 50  oldpeak           368 non-null    float64 \n",
      " 51  slope             368 non-null    int64   \n",
      " 52  ca                368 non-null    int64   \n",
      " 53  thal              368 non-null    int64   \n",
      " 54  num               368 non-null    int64   \n",
      " 55  SK                368 non-null    int64   \n",
      " 56  SK.React          368 non-null    category\n",
      " 57  Reaction          368 non-null    int64   \n",
      " 58  Mortality         368 non-null    int64   \n",
      " 59  Follow.Up         368 non-null    int64   \n",
      "dtypes: category(18), float64(14), int64(28)\n",
      "memory usage: 132.8 KB\n"
     ]
    }
   ],
   "source": [
    "df.info()"
   ]
  },
  {
   "cell_type": "code",
   "execution_count": 126,
   "id": "a3587048",
   "metadata": {
    "scrolled": true
   },
   "outputs": [
    {
     "ename": "AttributeError",
     "evalue": "'DataFrame' object has no attribute 'remove'",
     "output_type": "error",
     "traceback": [
      "\u001b[1;31m---------------------------------------------------------------------------\u001b[0m",
      "\u001b[1;31mAttributeError\u001b[0m                            Traceback (most recent call last)",
      "Cell \u001b[1;32mIn[126], line 1\u001b[0m\n\u001b[1;32m----> 1\u001b[0m \u001b[43mdf\u001b[49m\u001b[38;5;241;43m.\u001b[39;49m\u001b[43mremove\u001b[49m(\u001b[38;5;124m'\u001b[39m\u001b[38;5;124mMortality\u001b[39m\u001b[38;5;124m'\u001b[39m)\n",
      "File \u001b[1;32m~\\anaconda3\\envs\\py3_10_4\\lib\\site-packages\\pandas\\core\\generic.py:5989\u001b[0m, in \u001b[0;36mNDFrame.__getattr__\u001b[1;34m(self, name)\u001b[0m\n\u001b[0;32m   5982\u001b[0m \u001b[38;5;28;01mif\u001b[39;00m (\n\u001b[0;32m   5983\u001b[0m     name \u001b[38;5;129;01mnot\u001b[39;00m \u001b[38;5;129;01min\u001b[39;00m \u001b[38;5;28mself\u001b[39m\u001b[38;5;241m.\u001b[39m_internal_names_set\n\u001b[0;32m   5984\u001b[0m     \u001b[38;5;129;01mand\u001b[39;00m name \u001b[38;5;129;01mnot\u001b[39;00m \u001b[38;5;129;01min\u001b[39;00m \u001b[38;5;28mself\u001b[39m\u001b[38;5;241m.\u001b[39m_metadata\n\u001b[0;32m   5985\u001b[0m     \u001b[38;5;129;01mand\u001b[39;00m name \u001b[38;5;129;01mnot\u001b[39;00m \u001b[38;5;129;01min\u001b[39;00m \u001b[38;5;28mself\u001b[39m\u001b[38;5;241m.\u001b[39m_accessors\n\u001b[0;32m   5986\u001b[0m     \u001b[38;5;129;01mand\u001b[39;00m \u001b[38;5;28mself\u001b[39m\u001b[38;5;241m.\u001b[39m_info_axis\u001b[38;5;241m.\u001b[39m_can_hold_identifiers_and_holds_name(name)\n\u001b[0;32m   5987\u001b[0m ):\n\u001b[0;32m   5988\u001b[0m     \u001b[38;5;28;01mreturn\u001b[39;00m \u001b[38;5;28mself\u001b[39m[name]\n\u001b[1;32m-> 5989\u001b[0m \u001b[38;5;28;01mreturn\u001b[39;00m \u001b[38;5;28;43mobject\u001b[39;49m\u001b[38;5;241;43m.\u001b[39;49m\u001b[38;5;21;43m__getattribute__\u001b[39;49m\u001b[43m(\u001b[49m\u001b[38;5;28;43mself\u001b[39;49m\u001b[43m,\u001b[49m\u001b[43m \u001b[49m\u001b[43mname\u001b[49m\u001b[43m)\u001b[49m\n",
      "\u001b[1;31mAttributeError\u001b[0m: 'DataFrame' object has no attribute 'remove'"
     ]
    }
   ],
   "source": [
    "df.remove('Mortality')"
   ]
  },
  {
   "cell_type": "code",
   "execution_count": 107,
   "id": "6f868226",
   "metadata": {
    "scrolled": true
   },
   "outputs": [
    {
     "data": {
      "text/plain": [
       "['Age.Group',\n",
       " 'Gender',\n",
       " 'Locality',\n",
       " 'Maritalstatus',\n",
       " 'Life.Style',\n",
       " 'Sleep',\n",
       " 'Category',\n",
       " 'Depression',\n",
       " 'Hyperlipi',\n",
       " 'Smoking',\n",
       " 'Family.History',\n",
       " 'HTN',\n",
       " 'Allergies',\n",
       " 'Others',\n",
       " 'CO',\n",
       " 'Diagnosis',\n",
       " 'Hypersensitivity',\n",
       " 'cp',\n",
       " 'SK.React']"
      ]
     },
     "execution_count": 107,
     "metadata": {},
     "output_type": "execute_result"
    }
   ],
   "source": [
    "#list of all categorical variables\n",
    "categories"
   ]
  },
  {
   "cell_type": "code",
   "execution_count": 108,
   "id": "b2a1f8c6",
   "metadata": {},
   "outputs": [],
   "source": [
    "from scipy.stats import chi2_contingency"
   ]
  },
  {
   "cell_type": "code",
   "execution_count": 109,
   "id": "c075c1c2",
   "metadata": {},
   "outputs": [
    {
     "name": "stdout",
     "output_type": "stream",
     "text": [
      "Category:  Age.Group\n",
      "P-value:  0.0\n",
      "H0 rejected \n",
      "\n"
     ]
    },
    {
     "data": {
      "application/vnd.plotly.v1+json": {
       "config": {
        "plotlyServerURL": "https://plot.ly"
       },
       "data": [
        {
         "alignmentgroup": "True",
         "bingroup": "x",
         "hovertemplate": "Mortality=Died<br>Age.Group=%{x}<br>count=%{y}<extra></extra>",
         "legendgroup": "Died",
         "marker": {
          "color": "deeppink",
          "pattern": {
           "shape": ""
          }
         },
         "name": "Died",
         "offsetgroup": "Died",
         "orientation": "v",
         "showlegend": true,
         "type": "histogram",
         "x": [
          "41-50",
          "51-60",
          "51-60",
          "51-60",
          "51-60",
          "51-60",
          "51-60",
          "51-60",
          "51-60",
          "51-60",
          "61-70",
          "61-70",
          "61-70",
          "61-70",
          "61-70",
          "61-70",
          "21-30",
          "21-30",
          "31-40",
          "31-40",
          "41-50",
          "41-50",
          "41-50",
          "41-50",
          "51-60",
          "51-60",
          "51-60",
          "51-60",
          "51-60",
          "51-60",
          "51-60",
          "51-60",
          "51-60",
          "41-50",
          "41-50",
          "51-60",
          "51-60",
          "51-60",
          "51-60",
          "51-60",
          "51-60",
          "51-60",
          "51-60",
          "51-60",
          "51-60",
          "51-60",
          "51-60",
          "51-60",
          "51-60",
          "51-60",
          "51-60",
          "51-60",
          "51-60",
          "51-60",
          "51-60",
          "51-60",
          "51-60",
          "51-60",
          "51-60",
          "51-60",
          "51-60",
          "51-60",
          "51-60",
          "51-60",
          "51-60",
          "51-60",
          "51-60",
          "51-60",
          "51-60",
          "51-60",
          "51-60",
          "51-60",
          "51-60",
          "51-60",
          "51-60",
          "51-60",
          "51-60",
          "51-60",
          "51-60",
          "51-60",
          "51-60",
          "51-60",
          "51-60",
          "51-60",
          "51-60",
          "51-60",
          "51-60",
          "51-60",
          "51-60",
          "61-70",
          "61-70",
          "61-70",
          "61-70",
          "61-70",
          "61-70",
          "61-70",
          "61-70",
          "61-70",
          "61-70",
          "61-70",
          "61-70",
          "61-70",
          "61-70",
          "61-70",
          "61-70",
          "61-70",
          "61-70",
          "61-70",
          "61-70",
          "61-70",
          "61-70",
          "61-70",
          "61-70",
          "61-70",
          "61-70",
          "61-70",
          "61-70",
          "61-70",
          "61-70",
          "61-70",
          "21-30",
          "21-30",
          "21-30",
          "31-40",
          "31-40",
          "31-40",
          "31-40",
          "41-50",
          "51-60",
          "51-60",
          "51-60",
          "51-60",
          "51-60",
          "51-60",
          "51-60",
          "51-60",
          "51-60",
          "51-60",
          "51-60",
          "51-60",
          "51-60",
          "51-60",
          "51-60",
          "51-60",
          "51-60",
          "51-60",
          "51-60",
          "51-60",
          "51-60",
          "51-60",
          "61-70",
          "61-70",
          "61-70",
          "61-70",
          "61-70",
          "61-70",
          "21-30",
          "21-30",
          "31-40",
          "31-40",
          "41-50",
          "41-50",
          "41-50",
          "41-50",
          "51-60",
          "51-60",
          "51-60",
          "51-60",
          "51-60",
          "51-60",
          "51-60",
          "51-60",
          "51-60",
          "41-50",
          "41-50",
          "51-60",
          "51-60",
          "51-60",
          "51-60",
          "51-60",
          "51-60",
          "51-60",
          "51-60",
          "51-60",
          "51-60",
          "51-60",
          "51-60",
          "51-60",
          "51-60",
          "51-60",
          "51-60",
          "51-60",
          "51-60",
          "51-60",
          "51-60",
          "51-60",
          "51-60",
          "61-70",
          "61-70",
          "61-70",
          "61-70",
          "61-70",
          "61-70",
          "21-30",
          "21-30",
          "31-40",
          "31-40",
          "41-50",
          "41-50",
          "41-50",
          "41-50",
          "41-50",
          "51-60",
          "51-60",
          "51-60",
          "51-60",
          "51-60",
          "51-60",
          "51-60",
          "51-60",
          "51-60",
          "51-60",
          "51-60",
          "51-60",
          "51-60",
          "51-60",
          "51-60",
          "51-60",
          "51-60",
          "51-60",
          "51-60",
          "51-60",
          "51-60",
          "51-60",
          "61-70",
          "61-70",
          "61-70",
          "61-70",
          "61-70",
          "61-70",
          "21-30",
          "41-50",
          "51-60",
          "51-60",
          "51-60",
          "51-60",
          "51-60",
          "51-60",
          "51-60",
          "51-60",
          "51-60",
          "51-60",
          "51-60",
          "51-60",
          "51-60",
          "51-60",
          "51-60",
          "51-60",
          "51-60",
          "51-60",
          "51-60",
          "51-60",
          "51-60",
          "51-60",
          "61-70",
          "61-70",
          "61-70",
          "61-70",
          "61-70",
          "61-70",
          "21-30",
          "21-30",
          "31-40",
          "31-40",
          "41-50",
          "41-50",
          "41-50",
          "41-50",
          "51-60",
          "51-60",
          "51-60",
          "51-60",
          "51-60",
          "51-60",
          "51-60",
          "51-60",
          "51-60",
          "41-50"
         ],
         "xaxis": "x",
         "yaxis": "y"
        },
        {
         "alignmentgroup": "True",
         "bingroup": "x",
         "hovertemplate": "Mortality=Alive<br>Age.Group=%{x}<br>count=%{y}<extra></extra>",
         "legendgroup": "Alive",
         "marker": {
          "color": "aqua",
          "pattern": {
           "shape": ""
          }
         },
         "name": "Alive",
         "offsetgroup": "Alive",
         "orientation": "v",
         "showlegend": true,
         "type": "histogram",
         "x": [
          "51-60",
          "51-60",
          "51-60",
          "61-70",
          "61-70",
          "61-70",
          "61-70",
          "61-70",
          "61-70",
          "31-40",
          "31-40",
          "41-50",
          "41-50",
          "41-50",
          "41-50",
          "41-50",
          "41-50",
          "51-60",
          "41-50",
          "41-50",
          "41-50",
          "41-50",
          "41-50",
          "41-50",
          "41-50",
          "41-50",
          "41-50",
          "61-70",
          "61-70",
          "61-70",
          "61-70",
          "61-70",
          "61-70",
          "31-40",
          "31-40",
          "41-50",
          "41-50",
          "41-50",
          "41-50",
          "41-50",
          "41-50",
          "51-60",
          "41-50",
          "61-70",
          "61-70",
          "61-70",
          "61-70",
          "61-70",
          "61-70",
          "31-40",
          "31-40",
          "41-50",
          "41-50",
          "41-50",
          "41-50",
          "41-50",
          "41-50",
          "41-50",
          "61-70",
          "61-70",
          "61-70",
          "61-70",
          "61-70",
          "61-70",
          "41-50",
          "61-70",
          "61-70",
          "61-70",
          "61-70",
          "61-70",
          "61-70",
          "31-40",
          "31-40",
          "41-50",
          "41-50",
          "41-50",
          "41-50",
          "41-50",
          "41-50",
          "51-60"
         ],
         "xaxis": "x",
         "yaxis": "y"
        }
       ],
       "layout": {
        "barmode": "relative",
        "legend": {
         "title": {
          "text": "Mortality"
         },
         "tracegroupgap": 0
        },
        "margin": {
         "t": 60
        },
        "template": {
         "data": {
          "bar": [
           {
            "error_x": {
             "color": "#2a3f5f"
            },
            "error_y": {
             "color": "#2a3f5f"
            },
            "marker": {
             "line": {
              "color": "#E5ECF6",
              "width": 0.5
             },
             "pattern": {
              "fillmode": "overlay",
              "size": 10,
              "solidity": 0.2
             }
            },
            "type": "bar"
           }
          ],
          "barpolar": [
           {
            "marker": {
             "line": {
              "color": "#E5ECF6",
              "width": 0.5
             },
             "pattern": {
              "fillmode": "overlay",
              "size": 10,
              "solidity": 0.2
             }
            },
            "type": "barpolar"
           }
          ],
          "carpet": [
           {
            "aaxis": {
             "endlinecolor": "#2a3f5f",
             "gridcolor": "white",
             "linecolor": "white",
             "minorgridcolor": "white",
             "startlinecolor": "#2a3f5f"
            },
            "baxis": {
             "endlinecolor": "#2a3f5f",
             "gridcolor": "white",
             "linecolor": "white",
             "minorgridcolor": "white",
             "startlinecolor": "#2a3f5f"
            },
            "type": "carpet"
           }
          ],
          "choropleth": [
           {
            "colorbar": {
             "outlinewidth": 0,
             "ticks": ""
            },
            "type": "choropleth"
           }
          ],
          "contour": [
           {
            "colorbar": {
             "outlinewidth": 0,
             "ticks": ""
            },
            "colorscale": [
             [
              0,
              "#0d0887"
             ],
             [
              0.1111111111111111,
              "#46039f"
             ],
             [
              0.2222222222222222,
              "#7201a8"
             ],
             [
              0.3333333333333333,
              "#9c179e"
             ],
             [
              0.4444444444444444,
              "#bd3786"
             ],
             [
              0.5555555555555556,
              "#d8576b"
             ],
             [
              0.6666666666666666,
              "#ed7953"
             ],
             [
              0.7777777777777778,
              "#fb9f3a"
             ],
             [
              0.8888888888888888,
              "#fdca26"
             ],
             [
              1,
              "#f0f921"
             ]
            ],
            "type": "contour"
           }
          ],
          "contourcarpet": [
           {
            "colorbar": {
             "outlinewidth": 0,
             "ticks": ""
            },
            "type": "contourcarpet"
           }
          ],
          "heatmap": [
           {
            "colorbar": {
             "outlinewidth": 0,
             "ticks": ""
            },
            "colorscale": [
             [
              0,
              "#0d0887"
             ],
             [
              0.1111111111111111,
              "#46039f"
             ],
             [
              0.2222222222222222,
              "#7201a8"
             ],
             [
              0.3333333333333333,
              "#9c179e"
             ],
             [
              0.4444444444444444,
              "#bd3786"
             ],
             [
              0.5555555555555556,
              "#d8576b"
             ],
             [
              0.6666666666666666,
              "#ed7953"
             ],
             [
              0.7777777777777778,
              "#fb9f3a"
             ],
             [
              0.8888888888888888,
              "#fdca26"
             ],
             [
              1,
              "#f0f921"
             ]
            ],
            "type": "heatmap"
           }
          ],
          "heatmapgl": [
           {
            "colorbar": {
             "outlinewidth": 0,
             "ticks": ""
            },
            "colorscale": [
             [
              0,
              "#0d0887"
             ],
             [
              0.1111111111111111,
              "#46039f"
             ],
             [
              0.2222222222222222,
              "#7201a8"
             ],
             [
              0.3333333333333333,
              "#9c179e"
             ],
             [
              0.4444444444444444,
              "#bd3786"
             ],
             [
              0.5555555555555556,
              "#d8576b"
             ],
             [
              0.6666666666666666,
              "#ed7953"
             ],
             [
              0.7777777777777778,
              "#fb9f3a"
             ],
             [
              0.8888888888888888,
              "#fdca26"
             ],
             [
              1,
              "#f0f921"
             ]
            ],
            "type": "heatmapgl"
           }
          ],
          "histogram": [
           {
            "marker": {
             "pattern": {
              "fillmode": "overlay",
              "size": 10,
              "solidity": 0.2
             }
            },
            "type": "histogram"
           }
          ],
          "histogram2d": [
           {
            "colorbar": {
             "outlinewidth": 0,
             "ticks": ""
            },
            "colorscale": [
             [
              0,
              "#0d0887"
             ],
             [
              0.1111111111111111,
              "#46039f"
             ],
             [
              0.2222222222222222,
              "#7201a8"
             ],
             [
              0.3333333333333333,
              "#9c179e"
             ],
             [
              0.4444444444444444,
              "#bd3786"
             ],
             [
              0.5555555555555556,
              "#d8576b"
             ],
             [
              0.6666666666666666,
              "#ed7953"
             ],
             [
              0.7777777777777778,
              "#fb9f3a"
             ],
             [
              0.8888888888888888,
              "#fdca26"
             ],
             [
              1,
              "#f0f921"
             ]
            ],
            "type": "histogram2d"
           }
          ],
          "histogram2dcontour": [
           {
            "colorbar": {
             "outlinewidth": 0,
             "ticks": ""
            },
            "colorscale": [
             [
              0,
              "#0d0887"
             ],
             [
              0.1111111111111111,
              "#46039f"
             ],
             [
              0.2222222222222222,
              "#7201a8"
             ],
             [
              0.3333333333333333,
              "#9c179e"
             ],
             [
              0.4444444444444444,
              "#bd3786"
             ],
             [
              0.5555555555555556,
              "#d8576b"
             ],
             [
              0.6666666666666666,
              "#ed7953"
             ],
             [
              0.7777777777777778,
              "#fb9f3a"
             ],
             [
              0.8888888888888888,
              "#fdca26"
             ],
             [
              1,
              "#f0f921"
             ]
            ],
            "type": "histogram2dcontour"
           }
          ],
          "mesh3d": [
           {
            "colorbar": {
             "outlinewidth": 0,
             "ticks": ""
            },
            "type": "mesh3d"
           }
          ],
          "parcoords": [
           {
            "line": {
             "colorbar": {
              "outlinewidth": 0,
              "ticks": ""
             }
            },
            "type": "parcoords"
           }
          ],
          "pie": [
           {
            "automargin": true,
            "type": "pie"
           }
          ],
          "scatter": [
           {
            "fillpattern": {
             "fillmode": "overlay",
             "size": 10,
             "solidity": 0.2
            },
            "type": "scatter"
           }
          ],
          "scatter3d": [
           {
            "line": {
             "colorbar": {
              "outlinewidth": 0,
              "ticks": ""
             }
            },
            "marker": {
             "colorbar": {
              "outlinewidth": 0,
              "ticks": ""
             }
            },
            "type": "scatter3d"
           }
          ],
          "scattercarpet": [
           {
            "marker": {
             "colorbar": {
              "outlinewidth": 0,
              "ticks": ""
             }
            },
            "type": "scattercarpet"
           }
          ],
          "scattergeo": [
           {
            "marker": {
             "colorbar": {
              "outlinewidth": 0,
              "ticks": ""
             }
            },
            "type": "scattergeo"
           }
          ],
          "scattergl": [
           {
            "marker": {
             "colorbar": {
              "outlinewidth": 0,
              "ticks": ""
             }
            },
            "type": "scattergl"
           }
          ],
          "scattermapbox": [
           {
            "marker": {
             "colorbar": {
              "outlinewidth": 0,
              "ticks": ""
             }
            },
            "type": "scattermapbox"
           }
          ],
          "scatterpolar": [
           {
            "marker": {
             "colorbar": {
              "outlinewidth": 0,
              "ticks": ""
             }
            },
            "type": "scatterpolar"
           }
          ],
          "scatterpolargl": [
           {
            "marker": {
             "colorbar": {
              "outlinewidth": 0,
              "ticks": ""
             }
            },
            "type": "scatterpolargl"
           }
          ],
          "scatterternary": [
           {
            "marker": {
             "colorbar": {
              "outlinewidth": 0,
              "ticks": ""
             }
            },
            "type": "scatterternary"
           }
          ],
          "surface": [
           {
            "colorbar": {
             "outlinewidth": 0,
             "ticks": ""
            },
            "colorscale": [
             [
              0,
              "#0d0887"
             ],
             [
              0.1111111111111111,
              "#46039f"
             ],
             [
              0.2222222222222222,
              "#7201a8"
             ],
             [
              0.3333333333333333,
              "#9c179e"
             ],
             [
              0.4444444444444444,
              "#bd3786"
             ],
             [
              0.5555555555555556,
              "#d8576b"
             ],
             [
              0.6666666666666666,
              "#ed7953"
             ],
             [
              0.7777777777777778,
              "#fb9f3a"
             ],
             [
              0.8888888888888888,
              "#fdca26"
             ],
             [
              1,
              "#f0f921"
             ]
            ],
            "type": "surface"
           }
          ],
          "table": [
           {
            "cells": {
             "fill": {
              "color": "#EBF0F8"
             },
             "line": {
              "color": "white"
             }
            },
            "header": {
             "fill": {
              "color": "#C8D4E3"
             },
             "line": {
              "color": "white"
             }
            },
            "type": "table"
           }
          ]
         },
         "layout": {
          "annotationdefaults": {
           "arrowcolor": "#2a3f5f",
           "arrowhead": 0,
           "arrowwidth": 1
          },
          "autotypenumbers": "strict",
          "coloraxis": {
           "colorbar": {
            "outlinewidth": 0,
            "ticks": ""
           }
          },
          "colorscale": {
           "diverging": [
            [
             0,
             "#8e0152"
            ],
            [
             0.1,
             "#c51b7d"
            ],
            [
             0.2,
             "#de77ae"
            ],
            [
             0.3,
             "#f1b6da"
            ],
            [
             0.4,
             "#fde0ef"
            ],
            [
             0.5,
             "#f7f7f7"
            ],
            [
             0.6,
             "#e6f5d0"
            ],
            [
             0.7,
             "#b8e186"
            ],
            [
             0.8,
             "#7fbc41"
            ],
            [
             0.9,
             "#4d9221"
            ],
            [
             1,
             "#276419"
            ]
           ],
           "sequential": [
            [
             0,
             "#0d0887"
            ],
            [
             0.1111111111111111,
             "#46039f"
            ],
            [
             0.2222222222222222,
             "#7201a8"
            ],
            [
             0.3333333333333333,
             "#9c179e"
            ],
            [
             0.4444444444444444,
             "#bd3786"
            ],
            [
             0.5555555555555556,
             "#d8576b"
            ],
            [
             0.6666666666666666,
             "#ed7953"
            ],
            [
             0.7777777777777778,
             "#fb9f3a"
            ],
            [
             0.8888888888888888,
             "#fdca26"
            ],
            [
             1,
             "#f0f921"
            ]
           ],
           "sequentialminus": [
            [
             0,
             "#0d0887"
            ],
            [
             0.1111111111111111,
             "#46039f"
            ],
            [
             0.2222222222222222,
             "#7201a8"
            ],
            [
             0.3333333333333333,
             "#9c179e"
            ],
            [
             0.4444444444444444,
             "#bd3786"
            ],
            [
             0.5555555555555556,
             "#d8576b"
            ],
            [
             0.6666666666666666,
             "#ed7953"
            ],
            [
             0.7777777777777778,
             "#fb9f3a"
            ],
            [
             0.8888888888888888,
             "#fdca26"
            ],
            [
             1,
             "#f0f921"
            ]
           ]
          },
          "colorway": [
           "#636efa",
           "#EF553B",
           "#00cc96",
           "#ab63fa",
           "#FFA15A",
           "#19d3f3",
           "#FF6692",
           "#B6E880",
           "#FF97FF",
           "#FECB52"
          ],
          "font": {
           "color": "#2a3f5f"
          },
          "geo": {
           "bgcolor": "white",
           "lakecolor": "white",
           "landcolor": "#E5ECF6",
           "showlakes": true,
           "showland": true,
           "subunitcolor": "white"
          },
          "hoverlabel": {
           "align": "left"
          },
          "hovermode": "closest",
          "mapbox": {
           "style": "light"
          },
          "paper_bgcolor": "white",
          "plot_bgcolor": "#E5ECF6",
          "polar": {
           "angularaxis": {
            "gridcolor": "white",
            "linecolor": "white",
            "ticks": ""
           },
           "bgcolor": "#E5ECF6",
           "radialaxis": {
            "gridcolor": "white",
            "linecolor": "white",
            "ticks": ""
           }
          },
          "scene": {
           "xaxis": {
            "backgroundcolor": "#E5ECF6",
            "gridcolor": "white",
            "gridwidth": 2,
            "linecolor": "white",
            "showbackground": true,
            "ticks": "",
            "zerolinecolor": "white"
           },
           "yaxis": {
            "backgroundcolor": "#E5ECF6",
            "gridcolor": "white",
            "gridwidth": 2,
            "linecolor": "white",
            "showbackground": true,
            "ticks": "",
            "zerolinecolor": "white"
           },
           "zaxis": {
            "backgroundcolor": "#E5ECF6",
            "gridcolor": "white",
            "gridwidth": 2,
            "linecolor": "white",
            "showbackground": true,
            "ticks": "",
            "zerolinecolor": "white"
           }
          },
          "shapedefaults": {
           "line": {
            "color": "#2a3f5f"
           }
          },
          "ternary": {
           "aaxis": {
            "gridcolor": "white",
            "linecolor": "white",
            "ticks": ""
           },
           "baxis": {
            "gridcolor": "white",
            "linecolor": "white",
            "ticks": ""
           },
           "bgcolor": "#E5ECF6",
           "caxis": {
            "gridcolor": "white",
            "linecolor": "white",
            "ticks": ""
           }
          },
          "title": {
           "x": 0.05
          },
          "xaxis": {
           "automargin": true,
           "gridcolor": "white",
           "linecolor": "white",
           "ticks": "",
           "title": {
            "standoff": 15
           },
           "zerolinecolor": "white",
           "zerolinewidth": 2
          },
          "yaxis": {
           "automargin": true,
           "gridcolor": "white",
           "linecolor": "white",
           "ticks": "",
           "title": {
            "standoff": 15
           },
           "zerolinecolor": "white",
           "zerolinewidth": 2
          }
         }
        },
        "xaxis": {
         "anchor": "y",
         "domain": [
          0,
          1
         ],
         "title": {
          "text": "Age.Group"
         }
        },
        "yaxis": {
         "anchor": "x",
         "domain": [
          0,
          1
         ],
         "title": {
          "text": "count"
         }
        }
       }
      },
      "text/html": [
       "<div>                            <div id=\"f50b8f54-c2f3-4fa6-8efe-8f04d9575bc7\" class=\"plotly-graph-div\" style=\"height:525px; width:100%;\"></div>            <script type=\"text/javascript\">                require([\"plotly\"], function(Plotly) {                    window.PLOTLYENV=window.PLOTLYENV || {};                                    if (document.getElementById(\"f50b8f54-c2f3-4fa6-8efe-8f04d9575bc7\")) {                    Plotly.newPlot(                        \"f50b8f54-c2f3-4fa6-8efe-8f04d9575bc7\",                        [{\"alignmentgroup\":\"True\",\"bingroup\":\"x\",\"hovertemplate\":\"Mortality=Died\\u003cbr\\u003eAge.Group=%{x}\\u003cbr\\u003ecount=%{y}\\u003cextra\\u003e\\u003c\\u002fextra\\u003e\",\"legendgroup\":\"Died\",\"marker\":{\"color\":\"deeppink\",\"pattern\":{\"shape\":\"\"}},\"name\":\"Died\",\"offsetgroup\":\"Died\",\"orientation\":\"v\",\"showlegend\":true,\"x\":[\"41-50\",\"51-60\",\"51-60\",\"51-60\",\"51-60\",\"51-60\",\"51-60\",\"51-60\",\"51-60\",\"51-60\",\"61-70\",\"61-70\",\"61-70\",\"61-70\",\"61-70\",\"61-70\",\"21-30\",\"21-30\",\"31-40\",\"31-40\",\"41-50\",\"41-50\",\"41-50\",\"41-50\",\"51-60\",\"51-60\",\"51-60\",\"51-60\",\"51-60\",\"51-60\",\"51-60\",\"51-60\",\"51-60\",\"41-50\",\"41-50\",\"51-60\",\"51-60\",\"51-60\",\"51-60\",\"51-60\",\"51-60\",\"51-60\",\"51-60\",\"51-60\",\"51-60\",\"51-60\",\"51-60\",\"51-60\",\"51-60\",\"51-60\",\"51-60\",\"51-60\",\"51-60\",\"51-60\",\"51-60\",\"51-60\",\"51-60\",\"51-60\",\"51-60\",\"51-60\",\"51-60\",\"51-60\",\"51-60\",\"51-60\",\"51-60\",\"51-60\",\"51-60\",\"51-60\",\"51-60\",\"51-60\",\"51-60\",\"51-60\",\"51-60\",\"51-60\",\"51-60\",\"51-60\",\"51-60\",\"51-60\",\"51-60\",\"51-60\",\"51-60\",\"51-60\",\"51-60\",\"51-60\",\"51-60\",\"51-60\",\"51-60\",\"51-60\",\"51-60\",\"61-70\",\"61-70\",\"61-70\",\"61-70\",\"61-70\",\"61-70\",\"61-70\",\"61-70\",\"61-70\",\"61-70\",\"61-70\",\"61-70\",\"61-70\",\"61-70\",\"61-70\",\"61-70\",\"61-70\",\"61-70\",\"61-70\",\"61-70\",\"61-70\",\"61-70\",\"61-70\",\"61-70\",\"61-70\",\"61-70\",\"61-70\",\"61-70\",\"61-70\",\"61-70\",\"61-70\",\"21-30\",\"21-30\",\"21-30\",\"31-40\",\"31-40\",\"31-40\",\"31-40\",\"41-50\",\"51-60\",\"51-60\",\"51-60\",\"51-60\",\"51-60\",\"51-60\",\"51-60\",\"51-60\",\"51-60\",\"51-60\",\"51-60\",\"51-60\",\"51-60\",\"51-60\",\"51-60\",\"51-60\",\"51-60\",\"51-60\",\"51-60\",\"51-60\",\"51-60\",\"51-60\",\"61-70\",\"61-70\",\"61-70\",\"61-70\",\"61-70\",\"61-70\",\"21-30\",\"21-30\",\"31-40\",\"31-40\",\"41-50\",\"41-50\",\"41-50\",\"41-50\",\"51-60\",\"51-60\",\"51-60\",\"51-60\",\"51-60\",\"51-60\",\"51-60\",\"51-60\",\"51-60\",\"41-50\",\"41-50\",\"51-60\",\"51-60\",\"51-60\",\"51-60\",\"51-60\",\"51-60\",\"51-60\",\"51-60\",\"51-60\",\"51-60\",\"51-60\",\"51-60\",\"51-60\",\"51-60\",\"51-60\",\"51-60\",\"51-60\",\"51-60\",\"51-60\",\"51-60\",\"51-60\",\"51-60\",\"61-70\",\"61-70\",\"61-70\",\"61-70\",\"61-70\",\"61-70\",\"21-30\",\"21-30\",\"31-40\",\"31-40\",\"41-50\",\"41-50\",\"41-50\",\"41-50\",\"41-50\",\"51-60\",\"51-60\",\"51-60\",\"51-60\",\"51-60\",\"51-60\",\"51-60\",\"51-60\",\"51-60\",\"51-60\",\"51-60\",\"51-60\",\"51-60\",\"51-60\",\"51-60\",\"51-60\",\"51-60\",\"51-60\",\"51-60\",\"51-60\",\"51-60\",\"51-60\",\"61-70\",\"61-70\",\"61-70\",\"61-70\",\"61-70\",\"61-70\",\"21-30\",\"41-50\",\"51-60\",\"51-60\",\"51-60\",\"51-60\",\"51-60\",\"51-60\",\"51-60\",\"51-60\",\"51-60\",\"51-60\",\"51-60\",\"51-60\",\"51-60\",\"51-60\",\"51-60\",\"51-60\",\"51-60\",\"51-60\",\"51-60\",\"51-60\",\"51-60\",\"51-60\",\"61-70\",\"61-70\",\"61-70\",\"61-70\",\"61-70\",\"61-70\",\"21-30\",\"21-30\",\"31-40\",\"31-40\",\"41-50\",\"41-50\",\"41-50\",\"41-50\",\"51-60\",\"51-60\",\"51-60\",\"51-60\",\"51-60\",\"51-60\",\"51-60\",\"51-60\",\"51-60\",\"41-50\"],\"xaxis\":\"x\",\"yaxis\":\"y\",\"type\":\"histogram\"},{\"alignmentgroup\":\"True\",\"bingroup\":\"x\",\"hovertemplate\":\"Mortality=Alive\\u003cbr\\u003eAge.Group=%{x}\\u003cbr\\u003ecount=%{y}\\u003cextra\\u003e\\u003c\\u002fextra\\u003e\",\"legendgroup\":\"Alive\",\"marker\":{\"color\":\"aqua\",\"pattern\":{\"shape\":\"\"}},\"name\":\"Alive\",\"offsetgroup\":\"Alive\",\"orientation\":\"v\",\"showlegend\":true,\"x\":[\"51-60\",\"51-60\",\"51-60\",\"61-70\",\"61-70\",\"61-70\",\"61-70\",\"61-70\",\"61-70\",\"31-40\",\"31-40\",\"41-50\",\"41-50\",\"41-50\",\"41-50\",\"41-50\",\"41-50\",\"51-60\",\"41-50\",\"41-50\",\"41-50\",\"41-50\",\"41-50\",\"41-50\",\"41-50\",\"41-50\",\"41-50\",\"61-70\",\"61-70\",\"61-70\",\"61-70\",\"61-70\",\"61-70\",\"31-40\",\"31-40\",\"41-50\",\"41-50\",\"41-50\",\"41-50\",\"41-50\",\"41-50\",\"51-60\",\"41-50\",\"61-70\",\"61-70\",\"61-70\",\"61-70\",\"61-70\",\"61-70\",\"31-40\",\"31-40\",\"41-50\",\"41-50\",\"41-50\",\"41-50\",\"41-50\",\"41-50\",\"41-50\",\"61-70\",\"61-70\",\"61-70\",\"61-70\",\"61-70\",\"61-70\",\"41-50\",\"61-70\",\"61-70\",\"61-70\",\"61-70\",\"61-70\",\"61-70\",\"31-40\",\"31-40\",\"41-50\",\"41-50\",\"41-50\",\"41-50\",\"41-50\",\"41-50\",\"51-60\"],\"xaxis\":\"x\",\"yaxis\":\"y\",\"type\":\"histogram\"}],                        {\"template\":{\"data\":{\"histogram2dcontour\":[{\"type\":\"histogram2dcontour\",\"colorbar\":{\"outlinewidth\":0,\"ticks\":\"\"},\"colorscale\":[[0.0,\"#0d0887\"],[0.1111111111111111,\"#46039f\"],[0.2222222222222222,\"#7201a8\"],[0.3333333333333333,\"#9c179e\"],[0.4444444444444444,\"#bd3786\"],[0.5555555555555556,\"#d8576b\"],[0.6666666666666666,\"#ed7953\"],[0.7777777777777778,\"#fb9f3a\"],[0.8888888888888888,\"#fdca26\"],[1.0,\"#f0f921\"]]}],\"choropleth\":[{\"type\":\"choropleth\",\"colorbar\":{\"outlinewidth\":0,\"ticks\":\"\"}}],\"histogram2d\":[{\"type\":\"histogram2d\",\"colorbar\":{\"outlinewidth\":0,\"ticks\":\"\"},\"colorscale\":[[0.0,\"#0d0887\"],[0.1111111111111111,\"#46039f\"],[0.2222222222222222,\"#7201a8\"],[0.3333333333333333,\"#9c179e\"],[0.4444444444444444,\"#bd3786\"],[0.5555555555555556,\"#d8576b\"],[0.6666666666666666,\"#ed7953\"],[0.7777777777777778,\"#fb9f3a\"],[0.8888888888888888,\"#fdca26\"],[1.0,\"#f0f921\"]]}],\"heatmap\":[{\"type\":\"heatmap\",\"colorbar\":{\"outlinewidth\":0,\"ticks\":\"\"},\"colorscale\":[[0.0,\"#0d0887\"],[0.1111111111111111,\"#46039f\"],[0.2222222222222222,\"#7201a8\"],[0.3333333333333333,\"#9c179e\"],[0.4444444444444444,\"#bd3786\"],[0.5555555555555556,\"#d8576b\"],[0.6666666666666666,\"#ed7953\"],[0.7777777777777778,\"#fb9f3a\"],[0.8888888888888888,\"#fdca26\"],[1.0,\"#f0f921\"]]}],\"heatmapgl\":[{\"type\":\"heatmapgl\",\"colorbar\":{\"outlinewidth\":0,\"ticks\":\"\"},\"colorscale\":[[0.0,\"#0d0887\"],[0.1111111111111111,\"#46039f\"],[0.2222222222222222,\"#7201a8\"],[0.3333333333333333,\"#9c179e\"],[0.4444444444444444,\"#bd3786\"],[0.5555555555555556,\"#d8576b\"],[0.6666666666666666,\"#ed7953\"],[0.7777777777777778,\"#fb9f3a\"],[0.8888888888888888,\"#fdca26\"],[1.0,\"#f0f921\"]]}],\"contourcarpet\":[{\"type\":\"contourcarpet\",\"colorbar\":{\"outlinewidth\":0,\"ticks\":\"\"}}],\"contour\":[{\"type\":\"contour\",\"colorbar\":{\"outlinewidth\":0,\"ticks\":\"\"},\"colorscale\":[[0.0,\"#0d0887\"],[0.1111111111111111,\"#46039f\"],[0.2222222222222222,\"#7201a8\"],[0.3333333333333333,\"#9c179e\"],[0.4444444444444444,\"#bd3786\"],[0.5555555555555556,\"#d8576b\"],[0.6666666666666666,\"#ed7953\"],[0.7777777777777778,\"#fb9f3a\"],[0.8888888888888888,\"#fdca26\"],[1.0,\"#f0f921\"]]}],\"surface\":[{\"type\":\"surface\",\"colorbar\":{\"outlinewidth\":0,\"ticks\":\"\"},\"colorscale\":[[0.0,\"#0d0887\"],[0.1111111111111111,\"#46039f\"],[0.2222222222222222,\"#7201a8\"],[0.3333333333333333,\"#9c179e\"],[0.4444444444444444,\"#bd3786\"],[0.5555555555555556,\"#d8576b\"],[0.6666666666666666,\"#ed7953\"],[0.7777777777777778,\"#fb9f3a\"],[0.8888888888888888,\"#fdca26\"],[1.0,\"#f0f921\"]]}],\"mesh3d\":[{\"type\":\"mesh3d\",\"colorbar\":{\"outlinewidth\":0,\"ticks\":\"\"}}],\"scatter\":[{\"fillpattern\":{\"fillmode\":\"overlay\",\"size\":10,\"solidity\":0.2},\"type\":\"scatter\"}],\"parcoords\":[{\"type\":\"parcoords\",\"line\":{\"colorbar\":{\"outlinewidth\":0,\"ticks\":\"\"}}}],\"scatterpolargl\":[{\"type\":\"scatterpolargl\",\"marker\":{\"colorbar\":{\"outlinewidth\":0,\"ticks\":\"\"}}}],\"bar\":[{\"error_x\":{\"color\":\"#2a3f5f\"},\"error_y\":{\"color\":\"#2a3f5f\"},\"marker\":{\"line\":{\"color\":\"#E5ECF6\",\"width\":0.5},\"pattern\":{\"fillmode\":\"overlay\",\"size\":10,\"solidity\":0.2}},\"type\":\"bar\"}],\"scattergeo\":[{\"type\":\"scattergeo\",\"marker\":{\"colorbar\":{\"outlinewidth\":0,\"ticks\":\"\"}}}],\"scatterpolar\":[{\"type\":\"scatterpolar\",\"marker\":{\"colorbar\":{\"outlinewidth\":0,\"ticks\":\"\"}}}],\"histogram\":[{\"marker\":{\"pattern\":{\"fillmode\":\"overlay\",\"size\":10,\"solidity\":0.2}},\"type\":\"histogram\"}],\"scattergl\":[{\"type\":\"scattergl\",\"marker\":{\"colorbar\":{\"outlinewidth\":0,\"ticks\":\"\"}}}],\"scatter3d\":[{\"type\":\"scatter3d\",\"line\":{\"colorbar\":{\"outlinewidth\":0,\"ticks\":\"\"}},\"marker\":{\"colorbar\":{\"outlinewidth\":0,\"ticks\":\"\"}}}],\"scattermapbox\":[{\"type\":\"scattermapbox\",\"marker\":{\"colorbar\":{\"outlinewidth\":0,\"ticks\":\"\"}}}],\"scatterternary\":[{\"type\":\"scatterternary\",\"marker\":{\"colorbar\":{\"outlinewidth\":0,\"ticks\":\"\"}}}],\"scattercarpet\":[{\"type\":\"scattercarpet\",\"marker\":{\"colorbar\":{\"outlinewidth\":0,\"ticks\":\"\"}}}],\"carpet\":[{\"aaxis\":{\"endlinecolor\":\"#2a3f5f\",\"gridcolor\":\"white\",\"linecolor\":\"white\",\"minorgridcolor\":\"white\",\"startlinecolor\":\"#2a3f5f\"},\"baxis\":{\"endlinecolor\":\"#2a3f5f\",\"gridcolor\":\"white\",\"linecolor\":\"white\",\"minorgridcolor\":\"white\",\"startlinecolor\":\"#2a3f5f\"},\"type\":\"carpet\"}],\"table\":[{\"cells\":{\"fill\":{\"color\":\"#EBF0F8\"},\"line\":{\"color\":\"white\"}},\"header\":{\"fill\":{\"color\":\"#C8D4E3\"},\"line\":{\"color\":\"white\"}},\"type\":\"table\"}],\"barpolar\":[{\"marker\":{\"line\":{\"color\":\"#E5ECF6\",\"width\":0.5},\"pattern\":{\"fillmode\":\"overlay\",\"size\":10,\"solidity\":0.2}},\"type\":\"barpolar\"}],\"pie\":[{\"automargin\":true,\"type\":\"pie\"}]},\"layout\":{\"autotypenumbers\":\"strict\",\"colorway\":[\"#636efa\",\"#EF553B\",\"#00cc96\",\"#ab63fa\",\"#FFA15A\",\"#19d3f3\",\"#FF6692\",\"#B6E880\",\"#FF97FF\",\"#FECB52\"],\"font\":{\"color\":\"#2a3f5f\"},\"hovermode\":\"closest\",\"hoverlabel\":{\"align\":\"left\"},\"paper_bgcolor\":\"white\",\"plot_bgcolor\":\"#E5ECF6\",\"polar\":{\"bgcolor\":\"#E5ECF6\",\"angularaxis\":{\"gridcolor\":\"white\",\"linecolor\":\"white\",\"ticks\":\"\"},\"radialaxis\":{\"gridcolor\":\"white\",\"linecolor\":\"white\",\"ticks\":\"\"}},\"ternary\":{\"bgcolor\":\"#E5ECF6\",\"aaxis\":{\"gridcolor\":\"white\",\"linecolor\":\"white\",\"ticks\":\"\"},\"baxis\":{\"gridcolor\":\"white\",\"linecolor\":\"white\",\"ticks\":\"\"},\"caxis\":{\"gridcolor\":\"white\",\"linecolor\":\"white\",\"ticks\":\"\"}},\"coloraxis\":{\"colorbar\":{\"outlinewidth\":0,\"ticks\":\"\"}},\"colorscale\":{\"sequential\":[[0.0,\"#0d0887\"],[0.1111111111111111,\"#46039f\"],[0.2222222222222222,\"#7201a8\"],[0.3333333333333333,\"#9c179e\"],[0.4444444444444444,\"#bd3786\"],[0.5555555555555556,\"#d8576b\"],[0.6666666666666666,\"#ed7953\"],[0.7777777777777778,\"#fb9f3a\"],[0.8888888888888888,\"#fdca26\"],[1.0,\"#f0f921\"]],\"sequentialminus\":[[0.0,\"#0d0887\"],[0.1111111111111111,\"#46039f\"],[0.2222222222222222,\"#7201a8\"],[0.3333333333333333,\"#9c179e\"],[0.4444444444444444,\"#bd3786\"],[0.5555555555555556,\"#d8576b\"],[0.6666666666666666,\"#ed7953\"],[0.7777777777777778,\"#fb9f3a\"],[0.8888888888888888,\"#fdca26\"],[1.0,\"#f0f921\"]],\"diverging\":[[0,\"#8e0152\"],[0.1,\"#c51b7d\"],[0.2,\"#de77ae\"],[0.3,\"#f1b6da\"],[0.4,\"#fde0ef\"],[0.5,\"#f7f7f7\"],[0.6,\"#e6f5d0\"],[0.7,\"#b8e186\"],[0.8,\"#7fbc41\"],[0.9,\"#4d9221\"],[1,\"#276419\"]]},\"xaxis\":{\"gridcolor\":\"white\",\"linecolor\":\"white\",\"ticks\":\"\",\"title\":{\"standoff\":15},\"zerolinecolor\":\"white\",\"automargin\":true,\"zerolinewidth\":2},\"yaxis\":{\"gridcolor\":\"white\",\"linecolor\":\"white\",\"ticks\":\"\",\"title\":{\"standoff\":15},\"zerolinecolor\":\"white\",\"automargin\":true,\"zerolinewidth\":2},\"scene\":{\"xaxis\":{\"backgroundcolor\":\"#E5ECF6\",\"gridcolor\":\"white\",\"linecolor\":\"white\",\"showbackground\":true,\"ticks\":\"\",\"zerolinecolor\":\"white\",\"gridwidth\":2},\"yaxis\":{\"backgroundcolor\":\"#E5ECF6\",\"gridcolor\":\"white\",\"linecolor\":\"white\",\"showbackground\":true,\"ticks\":\"\",\"zerolinecolor\":\"white\",\"gridwidth\":2},\"zaxis\":{\"backgroundcolor\":\"#E5ECF6\",\"gridcolor\":\"white\",\"linecolor\":\"white\",\"showbackground\":true,\"ticks\":\"\",\"zerolinecolor\":\"white\",\"gridwidth\":2}},\"shapedefaults\":{\"line\":{\"color\":\"#2a3f5f\"}},\"annotationdefaults\":{\"arrowcolor\":\"#2a3f5f\",\"arrowhead\":0,\"arrowwidth\":1},\"geo\":{\"bgcolor\":\"white\",\"landcolor\":\"#E5ECF6\",\"subunitcolor\":\"white\",\"showland\":true,\"showlakes\":true,\"lakecolor\":\"white\"},\"title\":{\"x\":0.05},\"mapbox\":{\"style\":\"light\"}}},\"xaxis\":{\"anchor\":\"y\",\"domain\":[0.0,1.0],\"title\":{\"text\":\"Age.Group\"}},\"yaxis\":{\"anchor\":\"x\",\"domain\":[0.0,1.0],\"title\":{\"text\":\"count\"}},\"legend\":{\"title\":{\"text\":\"Mortality\"},\"tracegroupgap\":0},\"margin\":{\"t\":60},\"barmode\":\"relative\"},                        {\"responsive\": true}                    ).then(function(){\n",
       "                            \n",
       "var gd = document.getElementById('f50b8f54-c2f3-4fa6-8efe-8f04d9575bc7');\n",
       "var x = new MutationObserver(function (mutations, observer) {{\n",
       "        var display = window.getComputedStyle(gd).display;\n",
       "        if (!display || display === 'none') {{\n",
       "            console.log([gd, 'removed!']);\n",
       "            Plotly.purge(gd);\n",
       "            observer.disconnect();\n",
       "        }}\n",
       "}});\n",
       "\n",
       "// Listen for the removal of the full notebook cells\n",
       "var notebookContainer = gd.closest('#notebook-container');\n",
       "if (notebookContainer) {{\n",
       "    x.observe(notebookContainer, {childList: true});\n",
       "}}\n",
       "\n",
       "// Listen for the clearing of the current output cell\n",
       "var outputEl = gd.closest('.output');\n",
       "if (outputEl) {{\n",
       "    x.observe(outputEl, {childList: true});\n",
       "}}\n",
       "\n",
       "                        })                };                });            </script>        </div>"
      ]
     },
     "metadata": {},
     "output_type": "display_data"
    },
    {
     "name": "stdout",
     "output_type": "stream",
     "text": [
      "Category:  Gender\n",
      "P-value:  0.0\n",
      "H0 rejected \n",
      "\n"
     ]
    },
    {
     "data": {
      "application/vnd.plotly.v1+json": {
       "config": {
        "plotlyServerURL": "https://plot.ly"
       },
       "data": [
        {
         "alignmentgroup": "True",
         "bingroup": "x",
         "hovertemplate": "Mortality=Died<br>Gender=%{x}<br>count=%{y}<extra></extra>",
         "legendgroup": "Died",
         "marker": {
          "color": "deeppink",
          "pattern": {
           "shape": ""
          }
         },
         "name": "Died",
         "offsetgroup": "Died",
         "orientation": "v",
         "showlegend": true,
         "type": "histogram",
         "x": [
          "Female",
          "Female",
          "Female",
          "Female",
          "Female",
          "Female",
          "Female",
          "Female",
          "Female",
          "Female",
          "Female",
          "Female",
          "Female",
          "Female",
          "Female",
          "Female",
          "Male",
          "Male",
          "Male",
          "Male",
          "Male",
          "Male",
          "Male",
          "Male",
          "Male",
          "Male",
          "Male",
          "Male",
          "Male",
          "Male",
          "Male",
          "Male",
          "Male",
          "Male",
          "Male",
          "Male",
          "Male",
          "Male",
          "Male",
          "Male",
          "Male",
          "Male",
          "Male",
          "Male",
          "Male",
          "Male",
          "Male",
          "Male",
          "Male",
          "Male",
          "Male",
          "Male",
          "Male",
          "Male",
          "Male",
          "Male",
          "Male",
          "Male",
          "Male",
          "Male",
          "Male",
          "Male",
          "Male",
          "Male",
          "Male",
          "Male",
          "Male",
          "Male",
          "Male",
          "Male",
          "Male",
          "Male",
          "Male",
          "Male",
          "Male",
          "Male",
          "Male",
          "Male",
          "Male",
          "Male",
          "Male",
          "Male",
          "Male",
          "Male",
          "Male",
          "Male",
          "Male",
          "Male",
          "Male",
          "Male",
          "Male",
          "Male",
          "Male",
          "Male",
          "Male",
          "Male",
          "Male",
          "Male",
          "Male",
          "Male",
          "Male",
          "Male",
          "Male",
          "Male",
          "Male",
          "Male",
          "Male",
          "Male",
          "Male",
          "Male",
          "Male",
          "Male",
          "Male",
          "Male",
          "Male",
          "Male",
          "Male",
          "Male",
          "Male",
          "Male",
          "Male",
          "Female",
          "Male",
          "Male",
          "Male",
          "Male",
          "Male",
          "Male",
          "Male",
          "Male",
          "Male",
          "Male",
          "Male",
          "Male",
          "Male",
          "Male",
          "Male",
          "Male",
          "Male",
          "Male",
          "Male",
          "Male",
          "Male",
          "Male",
          "Male",
          "Male",
          "Male",
          "Male",
          "Female",
          "Female",
          "Female",
          "Female",
          "Female",
          "Female",
          "Female",
          "Female",
          "Male",
          "Male",
          "Male",
          "Male",
          "Male",
          "Male",
          "Male",
          "Male",
          "Male",
          "Male",
          "Male",
          "Male",
          "Male",
          "Male",
          "Male",
          "Male",
          "Male",
          "Male",
          "Male",
          "Male",
          "Male",
          "Male",
          "Male",
          "Male",
          "Male",
          "Male",
          "Male",
          "Male",
          "Male",
          "Male",
          "Male",
          "Male",
          "Male",
          "Male",
          "Male",
          "Male",
          "Male",
          "Male",
          "Male",
          "Female",
          "Female",
          "Female",
          "Female",
          "Female",
          "Female",
          "Female",
          "Female",
          "Male",
          "Male",
          "Male",
          "Male",
          "Male",
          "Male",
          "Male",
          "Male",
          "Male",
          "Male",
          "Male",
          "Male",
          "Male",
          "Male",
          "Male",
          "Male",
          "Male",
          "Male",
          "Male",
          "Male",
          "Male",
          "Male",
          "Male",
          "Male",
          "Male",
          "Male",
          "Male",
          "Male",
          "Male",
          "Female",
          "Female",
          "Female",
          "Female",
          "Female",
          "Female",
          "Female",
          "Female",
          "Male",
          "Male",
          "Male",
          "Male",
          "Male",
          "Male",
          "Male",
          "Male",
          "Male",
          "Male",
          "Male",
          "Male",
          "Male",
          "Male",
          "Male",
          "Male",
          "Male",
          "Male",
          "Male",
          "Male",
          "Male",
          "Male",
          "Female",
          "Female",
          "Female",
          "Female",
          "Female",
          "Female",
          "Female",
          "Female",
          "Male",
          "Male",
          "Male",
          "Male",
          "Male",
          "Male",
          "Male",
          "Male",
          "Male",
          "Male",
          "Male",
          "Male",
          "Male",
          "Male",
          "Male",
          "Male",
          "Male",
          "Male"
         ],
         "xaxis": "x",
         "yaxis": "y"
        },
        {
         "alignmentgroup": "True",
         "bingroup": "x",
         "hovertemplate": "Mortality=Alive<br>Gender=%{x}<br>count=%{y}<extra></extra>",
         "legendgroup": "Alive",
         "marker": {
          "color": "aqua",
          "pattern": {
           "shape": ""
          }
         },
         "name": "Alive",
         "offsetgroup": "Alive",
         "orientation": "v",
         "showlegend": true,
         "type": "histogram",
         "x": [
          "Female",
          "Female",
          "Female",
          "Female",
          "Female",
          "Female",
          "Female",
          "Female",
          "Female",
          "Male",
          "Male",
          "Male",
          "Male",
          "Male",
          "Male",
          "Male",
          "Male",
          "Male",
          "Male",
          "Male",
          "Male",
          "Male",
          "Male",
          "Female",
          "Male",
          "Male",
          "Male",
          "Female",
          "Female",
          "Female",
          "Female",
          "Female",
          "Female",
          "Male",
          "Male",
          "Male",
          "Male",
          "Male",
          "Male",
          "Male",
          "Male",
          "Male",
          "Male",
          "Female",
          "Female",
          "Female",
          "Female",
          "Female",
          "Female",
          "Male",
          "Male",
          "Male",
          "Male",
          "Male",
          "Male",
          "Male",
          "Male",
          "Male",
          "Female",
          "Female",
          "Female",
          "Female",
          "Female",
          "Female",
          "Male",
          "Female",
          "Female",
          "Female",
          "Female",
          "Female",
          "Female",
          "Male",
          "Male",
          "Male",
          "Male",
          "Male",
          "Male",
          "Male",
          "Male",
          "Male"
         ],
         "xaxis": "x",
         "yaxis": "y"
        }
       ],
       "layout": {
        "barmode": "relative",
        "legend": {
         "title": {
          "text": "Mortality"
         },
         "tracegroupgap": 0
        },
        "margin": {
         "t": 60
        },
        "template": {
         "data": {
          "bar": [
           {
            "error_x": {
             "color": "#2a3f5f"
            },
            "error_y": {
             "color": "#2a3f5f"
            },
            "marker": {
             "line": {
              "color": "#E5ECF6",
              "width": 0.5
             },
             "pattern": {
              "fillmode": "overlay",
              "size": 10,
              "solidity": 0.2
             }
            },
            "type": "bar"
           }
          ],
          "barpolar": [
           {
            "marker": {
             "line": {
              "color": "#E5ECF6",
              "width": 0.5
             },
             "pattern": {
              "fillmode": "overlay",
              "size": 10,
              "solidity": 0.2
             }
            },
            "type": "barpolar"
           }
          ],
          "carpet": [
           {
            "aaxis": {
             "endlinecolor": "#2a3f5f",
             "gridcolor": "white",
             "linecolor": "white",
             "minorgridcolor": "white",
             "startlinecolor": "#2a3f5f"
            },
            "baxis": {
             "endlinecolor": "#2a3f5f",
             "gridcolor": "white",
             "linecolor": "white",
             "minorgridcolor": "white",
             "startlinecolor": "#2a3f5f"
            },
            "type": "carpet"
           }
          ],
          "choropleth": [
           {
            "colorbar": {
             "outlinewidth": 0,
             "ticks": ""
            },
            "type": "choropleth"
           }
          ],
          "contour": [
           {
            "colorbar": {
             "outlinewidth": 0,
             "ticks": ""
            },
            "colorscale": [
             [
              0,
              "#0d0887"
             ],
             [
              0.1111111111111111,
              "#46039f"
             ],
             [
              0.2222222222222222,
              "#7201a8"
             ],
             [
              0.3333333333333333,
              "#9c179e"
             ],
             [
              0.4444444444444444,
              "#bd3786"
             ],
             [
              0.5555555555555556,
              "#d8576b"
             ],
             [
              0.6666666666666666,
              "#ed7953"
             ],
             [
              0.7777777777777778,
              "#fb9f3a"
             ],
             [
              0.8888888888888888,
              "#fdca26"
             ],
             [
              1,
              "#f0f921"
             ]
            ],
            "type": "contour"
           }
          ],
          "contourcarpet": [
           {
            "colorbar": {
             "outlinewidth": 0,
             "ticks": ""
            },
            "type": "contourcarpet"
           }
          ],
          "heatmap": [
           {
            "colorbar": {
             "outlinewidth": 0,
             "ticks": ""
            },
            "colorscale": [
             [
              0,
              "#0d0887"
             ],
             [
              0.1111111111111111,
              "#46039f"
             ],
             [
              0.2222222222222222,
              "#7201a8"
             ],
             [
              0.3333333333333333,
              "#9c179e"
             ],
             [
              0.4444444444444444,
              "#bd3786"
             ],
             [
              0.5555555555555556,
              "#d8576b"
             ],
             [
              0.6666666666666666,
              "#ed7953"
             ],
             [
              0.7777777777777778,
              "#fb9f3a"
             ],
             [
              0.8888888888888888,
              "#fdca26"
             ],
             [
              1,
              "#f0f921"
             ]
            ],
            "type": "heatmap"
           }
          ],
          "heatmapgl": [
           {
            "colorbar": {
             "outlinewidth": 0,
             "ticks": ""
            },
            "colorscale": [
             [
              0,
              "#0d0887"
             ],
             [
              0.1111111111111111,
              "#46039f"
             ],
             [
              0.2222222222222222,
              "#7201a8"
             ],
             [
              0.3333333333333333,
              "#9c179e"
             ],
             [
              0.4444444444444444,
              "#bd3786"
             ],
             [
              0.5555555555555556,
              "#d8576b"
             ],
             [
              0.6666666666666666,
              "#ed7953"
             ],
             [
              0.7777777777777778,
              "#fb9f3a"
             ],
             [
              0.8888888888888888,
              "#fdca26"
             ],
             [
              1,
              "#f0f921"
             ]
            ],
            "type": "heatmapgl"
           }
          ],
          "histogram": [
           {
            "marker": {
             "pattern": {
              "fillmode": "overlay",
              "size": 10,
              "solidity": 0.2
             }
            },
            "type": "histogram"
           }
          ],
          "histogram2d": [
           {
            "colorbar": {
             "outlinewidth": 0,
             "ticks": ""
            },
            "colorscale": [
             [
              0,
              "#0d0887"
             ],
             [
              0.1111111111111111,
              "#46039f"
             ],
             [
              0.2222222222222222,
              "#7201a8"
             ],
             [
              0.3333333333333333,
              "#9c179e"
             ],
             [
              0.4444444444444444,
              "#bd3786"
             ],
             [
              0.5555555555555556,
              "#d8576b"
             ],
             [
              0.6666666666666666,
              "#ed7953"
             ],
             [
              0.7777777777777778,
              "#fb9f3a"
             ],
             [
              0.8888888888888888,
              "#fdca26"
             ],
             [
              1,
              "#f0f921"
             ]
            ],
            "type": "histogram2d"
           }
          ],
          "histogram2dcontour": [
           {
            "colorbar": {
             "outlinewidth": 0,
             "ticks": ""
            },
            "colorscale": [
             [
              0,
              "#0d0887"
             ],
             [
              0.1111111111111111,
              "#46039f"
             ],
             [
              0.2222222222222222,
              "#7201a8"
             ],
             [
              0.3333333333333333,
              "#9c179e"
             ],
             [
              0.4444444444444444,
              "#bd3786"
             ],
             [
              0.5555555555555556,
              "#d8576b"
             ],
             [
              0.6666666666666666,
              "#ed7953"
             ],
             [
              0.7777777777777778,
              "#fb9f3a"
             ],
             [
              0.8888888888888888,
              "#fdca26"
             ],
             [
              1,
              "#f0f921"
             ]
            ],
            "type": "histogram2dcontour"
           }
          ],
          "mesh3d": [
           {
            "colorbar": {
             "outlinewidth": 0,
             "ticks": ""
            },
            "type": "mesh3d"
           }
          ],
          "parcoords": [
           {
            "line": {
             "colorbar": {
              "outlinewidth": 0,
              "ticks": ""
             }
            },
            "type": "parcoords"
           }
          ],
          "pie": [
           {
            "automargin": true,
            "type": "pie"
           }
          ],
          "scatter": [
           {
            "fillpattern": {
             "fillmode": "overlay",
             "size": 10,
             "solidity": 0.2
            },
            "type": "scatter"
           }
          ],
          "scatter3d": [
           {
            "line": {
             "colorbar": {
              "outlinewidth": 0,
              "ticks": ""
             }
            },
            "marker": {
             "colorbar": {
              "outlinewidth": 0,
              "ticks": ""
             }
            },
            "type": "scatter3d"
           }
          ],
          "scattercarpet": [
           {
            "marker": {
             "colorbar": {
              "outlinewidth": 0,
              "ticks": ""
             }
            },
            "type": "scattercarpet"
           }
          ],
          "scattergeo": [
           {
            "marker": {
             "colorbar": {
              "outlinewidth": 0,
              "ticks": ""
             }
            },
            "type": "scattergeo"
           }
          ],
          "scattergl": [
           {
            "marker": {
             "colorbar": {
              "outlinewidth": 0,
              "ticks": ""
             }
            },
            "type": "scattergl"
           }
          ],
          "scattermapbox": [
           {
            "marker": {
             "colorbar": {
              "outlinewidth": 0,
              "ticks": ""
             }
            },
            "type": "scattermapbox"
           }
          ],
          "scatterpolar": [
           {
            "marker": {
             "colorbar": {
              "outlinewidth": 0,
              "ticks": ""
             }
            },
            "type": "scatterpolar"
           }
          ],
          "scatterpolargl": [
           {
            "marker": {
             "colorbar": {
              "outlinewidth": 0,
              "ticks": ""
             }
            },
            "type": "scatterpolargl"
           }
          ],
          "scatterternary": [
           {
            "marker": {
             "colorbar": {
              "outlinewidth": 0,
              "ticks": ""
             }
            },
            "type": "scatterternary"
           }
          ],
          "surface": [
           {
            "colorbar": {
             "outlinewidth": 0,
             "ticks": ""
            },
            "colorscale": [
             [
              0,
              "#0d0887"
             ],
             [
              0.1111111111111111,
              "#46039f"
             ],
             [
              0.2222222222222222,
              "#7201a8"
             ],
             [
              0.3333333333333333,
              "#9c179e"
             ],
             [
              0.4444444444444444,
              "#bd3786"
             ],
             [
              0.5555555555555556,
              "#d8576b"
             ],
             [
              0.6666666666666666,
              "#ed7953"
             ],
             [
              0.7777777777777778,
              "#fb9f3a"
             ],
             [
              0.8888888888888888,
              "#fdca26"
             ],
             [
              1,
              "#f0f921"
             ]
            ],
            "type": "surface"
           }
          ],
          "table": [
           {
            "cells": {
             "fill": {
              "color": "#EBF0F8"
             },
             "line": {
              "color": "white"
             }
            },
            "header": {
             "fill": {
              "color": "#C8D4E3"
             },
             "line": {
              "color": "white"
             }
            },
            "type": "table"
           }
          ]
         },
         "layout": {
          "annotationdefaults": {
           "arrowcolor": "#2a3f5f",
           "arrowhead": 0,
           "arrowwidth": 1
          },
          "autotypenumbers": "strict",
          "coloraxis": {
           "colorbar": {
            "outlinewidth": 0,
            "ticks": ""
           }
          },
          "colorscale": {
           "diverging": [
            [
             0,
             "#8e0152"
            ],
            [
             0.1,
             "#c51b7d"
            ],
            [
             0.2,
             "#de77ae"
            ],
            [
             0.3,
             "#f1b6da"
            ],
            [
             0.4,
             "#fde0ef"
            ],
            [
             0.5,
             "#f7f7f7"
            ],
            [
             0.6,
             "#e6f5d0"
            ],
            [
             0.7,
             "#b8e186"
            ],
            [
             0.8,
             "#7fbc41"
            ],
            [
             0.9,
             "#4d9221"
            ],
            [
             1,
             "#276419"
            ]
           ],
           "sequential": [
            [
             0,
             "#0d0887"
            ],
            [
             0.1111111111111111,
             "#46039f"
            ],
            [
             0.2222222222222222,
             "#7201a8"
            ],
            [
             0.3333333333333333,
             "#9c179e"
            ],
            [
             0.4444444444444444,
             "#bd3786"
            ],
            [
             0.5555555555555556,
             "#d8576b"
            ],
            [
             0.6666666666666666,
             "#ed7953"
            ],
            [
             0.7777777777777778,
             "#fb9f3a"
            ],
            [
             0.8888888888888888,
             "#fdca26"
            ],
            [
             1,
             "#f0f921"
            ]
           ],
           "sequentialminus": [
            [
             0,
             "#0d0887"
            ],
            [
             0.1111111111111111,
             "#46039f"
            ],
            [
             0.2222222222222222,
             "#7201a8"
            ],
            [
             0.3333333333333333,
             "#9c179e"
            ],
            [
             0.4444444444444444,
             "#bd3786"
            ],
            [
             0.5555555555555556,
             "#d8576b"
            ],
            [
             0.6666666666666666,
             "#ed7953"
            ],
            [
             0.7777777777777778,
             "#fb9f3a"
            ],
            [
             0.8888888888888888,
             "#fdca26"
            ],
            [
             1,
             "#f0f921"
            ]
           ]
          },
          "colorway": [
           "#636efa",
           "#EF553B",
           "#00cc96",
           "#ab63fa",
           "#FFA15A",
           "#19d3f3",
           "#FF6692",
           "#B6E880",
           "#FF97FF",
           "#FECB52"
          ],
          "font": {
           "color": "#2a3f5f"
          },
          "geo": {
           "bgcolor": "white",
           "lakecolor": "white",
           "landcolor": "#E5ECF6",
           "showlakes": true,
           "showland": true,
           "subunitcolor": "white"
          },
          "hoverlabel": {
           "align": "left"
          },
          "hovermode": "closest",
          "mapbox": {
           "style": "light"
          },
          "paper_bgcolor": "white",
          "plot_bgcolor": "#E5ECF6",
          "polar": {
           "angularaxis": {
            "gridcolor": "white",
            "linecolor": "white",
            "ticks": ""
           },
           "bgcolor": "#E5ECF6",
           "radialaxis": {
            "gridcolor": "white",
            "linecolor": "white",
            "ticks": ""
           }
          },
          "scene": {
           "xaxis": {
            "backgroundcolor": "#E5ECF6",
            "gridcolor": "white",
            "gridwidth": 2,
            "linecolor": "white",
            "showbackground": true,
            "ticks": "",
            "zerolinecolor": "white"
           },
           "yaxis": {
            "backgroundcolor": "#E5ECF6",
            "gridcolor": "white",
            "gridwidth": 2,
            "linecolor": "white",
            "showbackground": true,
            "ticks": "",
            "zerolinecolor": "white"
           },
           "zaxis": {
            "backgroundcolor": "#E5ECF6",
            "gridcolor": "white",
            "gridwidth": 2,
            "linecolor": "white",
            "showbackground": true,
            "ticks": "",
            "zerolinecolor": "white"
           }
          },
          "shapedefaults": {
           "line": {
            "color": "#2a3f5f"
           }
          },
          "ternary": {
           "aaxis": {
            "gridcolor": "white",
            "linecolor": "white",
            "ticks": ""
           },
           "baxis": {
            "gridcolor": "white",
            "linecolor": "white",
            "ticks": ""
           },
           "bgcolor": "#E5ECF6",
           "caxis": {
            "gridcolor": "white",
            "linecolor": "white",
            "ticks": ""
           }
          },
          "title": {
           "x": 0.05
          },
          "xaxis": {
           "automargin": true,
           "gridcolor": "white",
           "linecolor": "white",
           "ticks": "",
           "title": {
            "standoff": 15
           },
           "zerolinecolor": "white",
           "zerolinewidth": 2
          },
          "yaxis": {
           "automargin": true,
           "gridcolor": "white",
           "linecolor": "white",
           "ticks": "",
           "title": {
            "standoff": 15
           },
           "zerolinecolor": "white",
           "zerolinewidth": 2
          }
         }
        },
        "xaxis": {
         "anchor": "y",
         "domain": [
          0,
          1
         ],
         "title": {
          "text": "Gender"
         }
        },
        "yaxis": {
         "anchor": "x",
         "domain": [
          0,
          1
         ],
         "title": {
          "text": "count"
         }
        }
       }
      },
      "text/html": [
       "<div>                            <div id=\"1a03a952-422f-4cf0-8387-339d53b2bb43\" class=\"plotly-graph-div\" style=\"height:525px; width:100%;\"></div>            <script type=\"text/javascript\">                require([\"plotly\"], function(Plotly) {                    window.PLOTLYENV=window.PLOTLYENV || {};                                    if (document.getElementById(\"1a03a952-422f-4cf0-8387-339d53b2bb43\")) {                    Plotly.newPlot(                        \"1a03a952-422f-4cf0-8387-339d53b2bb43\",                        [{\"alignmentgroup\":\"True\",\"bingroup\":\"x\",\"hovertemplate\":\"Mortality=Died\\u003cbr\\u003eGender=%{x}\\u003cbr\\u003ecount=%{y}\\u003cextra\\u003e\\u003c\\u002fextra\\u003e\",\"legendgroup\":\"Died\",\"marker\":{\"color\":\"deeppink\",\"pattern\":{\"shape\":\"\"}},\"name\":\"Died\",\"offsetgroup\":\"Died\",\"orientation\":\"v\",\"showlegend\":true,\"x\":[\"Female\",\"Female\",\"Female\",\"Female\",\"Female\",\"Female\",\"Female\",\"Female\",\"Female\",\"Female\",\"Female\",\"Female\",\"Female\",\"Female\",\"Female\",\"Female\",\"Male\",\"Male\",\"Male\",\"Male\",\"Male\",\"Male\",\"Male\",\"Male\",\"Male\",\"Male\",\"Male\",\"Male\",\"Male\",\"Male\",\"Male\",\"Male\",\"Male\",\"Male\",\"Male\",\"Male\",\"Male\",\"Male\",\"Male\",\"Male\",\"Male\",\"Male\",\"Male\",\"Male\",\"Male\",\"Male\",\"Male\",\"Male\",\"Male\",\"Male\",\"Male\",\"Male\",\"Male\",\"Male\",\"Male\",\"Male\",\"Male\",\"Male\",\"Male\",\"Male\",\"Male\",\"Male\",\"Male\",\"Male\",\"Male\",\"Male\",\"Male\",\"Male\",\"Male\",\"Male\",\"Male\",\"Male\",\"Male\",\"Male\",\"Male\",\"Male\",\"Male\",\"Male\",\"Male\",\"Male\",\"Male\",\"Male\",\"Male\",\"Male\",\"Male\",\"Male\",\"Male\",\"Male\",\"Male\",\"Male\",\"Male\",\"Male\",\"Male\",\"Male\",\"Male\",\"Male\",\"Male\",\"Male\",\"Male\",\"Male\",\"Male\",\"Male\",\"Male\",\"Male\",\"Male\",\"Male\",\"Male\",\"Male\",\"Male\",\"Male\",\"Male\",\"Male\",\"Male\",\"Male\",\"Male\",\"Male\",\"Male\",\"Male\",\"Male\",\"Male\",\"Male\",\"Female\",\"Male\",\"Male\",\"Male\",\"Male\",\"Male\",\"Male\",\"Male\",\"Male\",\"Male\",\"Male\",\"Male\",\"Male\",\"Male\",\"Male\",\"Male\",\"Male\",\"Male\",\"Male\",\"Male\",\"Male\",\"Male\",\"Male\",\"Male\",\"Male\",\"Male\",\"Male\",\"Female\",\"Female\",\"Female\",\"Female\",\"Female\",\"Female\",\"Female\",\"Female\",\"Male\",\"Male\",\"Male\",\"Male\",\"Male\",\"Male\",\"Male\",\"Male\",\"Male\",\"Male\",\"Male\",\"Male\",\"Male\",\"Male\",\"Male\",\"Male\",\"Male\",\"Male\",\"Male\",\"Male\",\"Male\",\"Male\",\"Male\",\"Male\",\"Male\",\"Male\",\"Male\",\"Male\",\"Male\",\"Male\",\"Male\",\"Male\",\"Male\",\"Male\",\"Male\",\"Male\",\"Male\",\"Male\",\"Male\",\"Female\",\"Female\",\"Female\",\"Female\",\"Female\",\"Female\",\"Female\",\"Female\",\"Male\",\"Male\",\"Male\",\"Male\",\"Male\",\"Male\",\"Male\",\"Male\",\"Male\",\"Male\",\"Male\",\"Male\",\"Male\",\"Male\",\"Male\",\"Male\",\"Male\",\"Male\",\"Male\",\"Male\",\"Male\",\"Male\",\"Male\",\"Male\",\"Male\",\"Male\",\"Male\",\"Male\",\"Male\",\"Female\",\"Female\",\"Female\",\"Female\",\"Female\",\"Female\",\"Female\",\"Female\",\"Male\",\"Male\",\"Male\",\"Male\",\"Male\",\"Male\",\"Male\",\"Male\",\"Male\",\"Male\",\"Male\",\"Male\",\"Male\",\"Male\",\"Male\",\"Male\",\"Male\",\"Male\",\"Male\",\"Male\",\"Male\",\"Male\",\"Female\",\"Female\",\"Female\",\"Female\",\"Female\",\"Female\",\"Female\",\"Female\",\"Male\",\"Male\",\"Male\",\"Male\",\"Male\",\"Male\",\"Male\",\"Male\",\"Male\",\"Male\",\"Male\",\"Male\",\"Male\",\"Male\",\"Male\",\"Male\",\"Male\",\"Male\"],\"xaxis\":\"x\",\"yaxis\":\"y\",\"type\":\"histogram\"},{\"alignmentgroup\":\"True\",\"bingroup\":\"x\",\"hovertemplate\":\"Mortality=Alive\\u003cbr\\u003eGender=%{x}\\u003cbr\\u003ecount=%{y}\\u003cextra\\u003e\\u003c\\u002fextra\\u003e\",\"legendgroup\":\"Alive\",\"marker\":{\"color\":\"aqua\",\"pattern\":{\"shape\":\"\"}},\"name\":\"Alive\",\"offsetgroup\":\"Alive\",\"orientation\":\"v\",\"showlegend\":true,\"x\":[\"Female\",\"Female\",\"Female\",\"Female\",\"Female\",\"Female\",\"Female\",\"Female\",\"Female\",\"Male\",\"Male\",\"Male\",\"Male\",\"Male\",\"Male\",\"Male\",\"Male\",\"Male\",\"Male\",\"Male\",\"Male\",\"Male\",\"Male\",\"Female\",\"Male\",\"Male\",\"Male\",\"Female\",\"Female\",\"Female\",\"Female\",\"Female\",\"Female\",\"Male\",\"Male\",\"Male\",\"Male\",\"Male\",\"Male\",\"Male\",\"Male\",\"Male\",\"Male\",\"Female\",\"Female\",\"Female\",\"Female\",\"Female\",\"Female\",\"Male\",\"Male\",\"Male\",\"Male\",\"Male\",\"Male\",\"Male\",\"Male\",\"Male\",\"Female\",\"Female\",\"Female\",\"Female\",\"Female\",\"Female\",\"Male\",\"Female\",\"Female\",\"Female\",\"Female\",\"Female\",\"Female\",\"Male\",\"Male\",\"Male\",\"Male\",\"Male\",\"Male\",\"Male\",\"Male\",\"Male\"],\"xaxis\":\"x\",\"yaxis\":\"y\",\"type\":\"histogram\"}],                        {\"template\":{\"data\":{\"histogram2dcontour\":[{\"type\":\"histogram2dcontour\",\"colorbar\":{\"outlinewidth\":0,\"ticks\":\"\"},\"colorscale\":[[0.0,\"#0d0887\"],[0.1111111111111111,\"#46039f\"],[0.2222222222222222,\"#7201a8\"],[0.3333333333333333,\"#9c179e\"],[0.4444444444444444,\"#bd3786\"],[0.5555555555555556,\"#d8576b\"],[0.6666666666666666,\"#ed7953\"],[0.7777777777777778,\"#fb9f3a\"],[0.8888888888888888,\"#fdca26\"],[1.0,\"#f0f921\"]]}],\"choropleth\":[{\"type\":\"choropleth\",\"colorbar\":{\"outlinewidth\":0,\"ticks\":\"\"}}],\"histogram2d\":[{\"type\":\"histogram2d\",\"colorbar\":{\"outlinewidth\":0,\"ticks\":\"\"},\"colorscale\":[[0.0,\"#0d0887\"],[0.1111111111111111,\"#46039f\"],[0.2222222222222222,\"#7201a8\"],[0.3333333333333333,\"#9c179e\"],[0.4444444444444444,\"#bd3786\"],[0.5555555555555556,\"#d8576b\"],[0.6666666666666666,\"#ed7953\"],[0.7777777777777778,\"#fb9f3a\"],[0.8888888888888888,\"#fdca26\"],[1.0,\"#f0f921\"]]}],\"heatmap\":[{\"type\":\"heatmap\",\"colorbar\":{\"outlinewidth\":0,\"ticks\":\"\"},\"colorscale\":[[0.0,\"#0d0887\"],[0.1111111111111111,\"#46039f\"],[0.2222222222222222,\"#7201a8\"],[0.3333333333333333,\"#9c179e\"],[0.4444444444444444,\"#bd3786\"],[0.5555555555555556,\"#d8576b\"],[0.6666666666666666,\"#ed7953\"],[0.7777777777777778,\"#fb9f3a\"],[0.8888888888888888,\"#fdca26\"],[1.0,\"#f0f921\"]]}],\"heatmapgl\":[{\"type\":\"heatmapgl\",\"colorbar\":{\"outlinewidth\":0,\"ticks\":\"\"},\"colorscale\":[[0.0,\"#0d0887\"],[0.1111111111111111,\"#46039f\"],[0.2222222222222222,\"#7201a8\"],[0.3333333333333333,\"#9c179e\"],[0.4444444444444444,\"#bd3786\"],[0.5555555555555556,\"#d8576b\"],[0.6666666666666666,\"#ed7953\"],[0.7777777777777778,\"#fb9f3a\"],[0.8888888888888888,\"#fdca26\"],[1.0,\"#f0f921\"]]}],\"contourcarpet\":[{\"type\":\"contourcarpet\",\"colorbar\":{\"outlinewidth\":0,\"ticks\":\"\"}}],\"contour\":[{\"type\":\"contour\",\"colorbar\":{\"outlinewidth\":0,\"ticks\":\"\"},\"colorscale\":[[0.0,\"#0d0887\"],[0.1111111111111111,\"#46039f\"],[0.2222222222222222,\"#7201a8\"],[0.3333333333333333,\"#9c179e\"],[0.4444444444444444,\"#bd3786\"],[0.5555555555555556,\"#d8576b\"],[0.6666666666666666,\"#ed7953\"],[0.7777777777777778,\"#fb9f3a\"],[0.8888888888888888,\"#fdca26\"],[1.0,\"#f0f921\"]]}],\"surface\":[{\"type\":\"surface\",\"colorbar\":{\"outlinewidth\":0,\"ticks\":\"\"},\"colorscale\":[[0.0,\"#0d0887\"],[0.1111111111111111,\"#46039f\"],[0.2222222222222222,\"#7201a8\"],[0.3333333333333333,\"#9c179e\"],[0.4444444444444444,\"#bd3786\"],[0.5555555555555556,\"#d8576b\"],[0.6666666666666666,\"#ed7953\"],[0.7777777777777778,\"#fb9f3a\"],[0.8888888888888888,\"#fdca26\"],[1.0,\"#f0f921\"]]}],\"mesh3d\":[{\"type\":\"mesh3d\",\"colorbar\":{\"outlinewidth\":0,\"ticks\":\"\"}}],\"scatter\":[{\"fillpattern\":{\"fillmode\":\"overlay\",\"size\":10,\"solidity\":0.2},\"type\":\"scatter\"}],\"parcoords\":[{\"type\":\"parcoords\",\"line\":{\"colorbar\":{\"outlinewidth\":0,\"ticks\":\"\"}}}],\"scatterpolargl\":[{\"type\":\"scatterpolargl\",\"marker\":{\"colorbar\":{\"outlinewidth\":0,\"ticks\":\"\"}}}],\"bar\":[{\"error_x\":{\"color\":\"#2a3f5f\"},\"error_y\":{\"color\":\"#2a3f5f\"},\"marker\":{\"line\":{\"color\":\"#E5ECF6\",\"width\":0.5},\"pattern\":{\"fillmode\":\"overlay\",\"size\":10,\"solidity\":0.2}},\"type\":\"bar\"}],\"scattergeo\":[{\"type\":\"scattergeo\",\"marker\":{\"colorbar\":{\"outlinewidth\":0,\"ticks\":\"\"}}}],\"scatterpolar\":[{\"type\":\"scatterpolar\",\"marker\":{\"colorbar\":{\"outlinewidth\":0,\"ticks\":\"\"}}}],\"histogram\":[{\"marker\":{\"pattern\":{\"fillmode\":\"overlay\",\"size\":10,\"solidity\":0.2}},\"type\":\"histogram\"}],\"scattergl\":[{\"type\":\"scattergl\",\"marker\":{\"colorbar\":{\"outlinewidth\":0,\"ticks\":\"\"}}}],\"scatter3d\":[{\"type\":\"scatter3d\",\"line\":{\"colorbar\":{\"outlinewidth\":0,\"ticks\":\"\"}},\"marker\":{\"colorbar\":{\"outlinewidth\":0,\"ticks\":\"\"}}}],\"scattermapbox\":[{\"type\":\"scattermapbox\",\"marker\":{\"colorbar\":{\"outlinewidth\":0,\"ticks\":\"\"}}}],\"scatterternary\":[{\"type\":\"scatterternary\",\"marker\":{\"colorbar\":{\"outlinewidth\":0,\"ticks\":\"\"}}}],\"scattercarpet\":[{\"type\":\"scattercarpet\",\"marker\":{\"colorbar\":{\"outlinewidth\":0,\"ticks\":\"\"}}}],\"carpet\":[{\"aaxis\":{\"endlinecolor\":\"#2a3f5f\",\"gridcolor\":\"white\",\"linecolor\":\"white\",\"minorgridcolor\":\"white\",\"startlinecolor\":\"#2a3f5f\"},\"baxis\":{\"endlinecolor\":\"#2a3f5f\",\"gridcolor\":\"white\",\"linecolor\":\"white\",\"minorgridcolor\":\"white\",\"startlinecolor\":\"#2a3f5f\"},\"type\":\"carpet\"}],\"table\":[{\"cells\":{\"fill\":{\"color\":\"#EBF0F8\"},\"line\":{\"color\":\"white\"}},\"header\":{\"fill\":{\"color\":\"#C8D4E3\"},\"line\":{\"color\":\"white\"}},\"type\":\"table\"}],\"barpolar\":[{\"marker\":{\"line\":{\"color\":\"#E5ECF6\",\"width\":0.5},\"pattern\":{\"fillmode\":\"overlay\",\"size\":10,\"solidity\":0.2}},\"type\":\"barpolar\"}],\"pie\":[{\"automargin\":true,\"type\":\"pie\"}]},\"layout\":{\"autotypenumbers\":\"strict\",\"colorway\":[\"#636efa\",\"#EF553B\",\"#00cc96\",\"#ab63fa\",\"#FFA15A\",\"#19d3f3\",\"#FF6692\",\"#B6E880\",\"#FF97FF\",\"#FECB52\"],\"font\":{\"color\":\"#2a3f5f\"},\"hovermode\":\"closest\",\"hoverlabel\":{\"align\":\"left\"},\"paper_bgcolor\":\"white\",\"plot_bgcolor\":\"#E5ECF6\",\"polar\":{\"bgcolor\":\"#E5ECF6\",\"angularaxis\":{\"gridcolor\":\"white\",\"linecolor\":\"white\",\"ticks\":\"\"},\"radialaxis\":{\"gridcolor\":\"white\",\"linecolor\":\"white\",\"ticks\":\"\"}},\"ternary\":{\"bgcolor\":\"#E5ECF6\",\"aaxis\":{\"gridcolor\":\"white\",\"linecolor\":\"white\",\"ticks\":\"\"},\"baxis\":{\"gridcolor\":\"white\",\"linecolor\":\"white\",\"ticks\":\"\"},\"caxis\":{\"gridcolor\":\"white\",\"linecolor\":\"white\",\"ticks\":\"\"}},\"coloraxis\":{\"colorbar\":{\"outlinewidth\":0,\"ticks\":\"\"}},\"colorscale\":{\"sequential\":[[0.0,\"#0d0887\"],[0.1111111111111111,\"#46039f\"],[0.2222222222222222,\"#7201a8\"],[0.3333333333333333,\"#9c179e\"],[0.4444444444444444,\"#bd3786\"],[0.5555555555555556,\"#d8576b\"],[0.6666666666666666,\"#ed7953\"],[0.7777777777777778,\"#fb9f3a\"],[0.8888888888888888,\"#fdca26\"],[1.0,\"#f0f921\"]],\"sequentialminus\":[[0.0,\"#0d0887\"],[0.1111111111111111,\"#46039f\"],[0.2222222222222222,\"#7201a8\"],[0.3333333333333333,\"#9c179e\"],[0.4444444444444444,\"#bd3786\"],[0.5555555555555556,\"#d8576b\"],[0.6666666666666666,\"#ed7953\"],[0.7777777777777778,\"#fb9f3a\"],[0.8888888888888888,\"#fdca26\"],[1.0,\"#f0f921\"]],\"diverging\":[[0,\"#8e0152\"],[0.1,\"#c51b7d\"],[0.2,\"#de77ae\"],[0.3,\"#f1b6da\"],[0.4,\"#fde0ef\"],[0.5,\"#f7f7f7\"],[0.6,\"#e6f5d0\"],[0.7,\"#b8e186\"],[0.8,\"#7fbc41\"],[0.9,\"#4d9221\"],[1,\"#276419\"]]},\"xaxis\":{\"gridcolor\":\"white\",\"linecolor\":\"white\",\"ticks\":\"\",\"title\":{\"standoff\":15},\"zerolinecolor\":\"white\",\"automargin\":true,\"zerolinewidth\":2},\"yaxis\":{\"gridcolor\":\"white\",\"linecolor\":\"white\",\"ticks\":\"\",\"title\":{\"standoff\":15},\"zerolinecolor\":\"white\",\"automargin\":true,\"zerolinewidth\":2},\"scene\":{\"xaxis\":{\"backgroundcolor\":\"#E5ECF6\",\"gridcolor\":\"white\",\"linecolor\":\"white\",\"showbackground\":true,\"ticks\":\"\",\"zerolinecolor\":\"white\",\"gridwidth\":2},\"yaxis\":{\"backgroundcolor\":\"#E5ECF6\",\"gridcolor\":\"white\",\"linecolor\":\"white\",\"showbackground\":true,\"ticks\":\"\",\"zerolinecolor\":\"white\",\"gridwidth\":2},\"zaxis\":{\"backgroundcolor\":\"#E5ECF6\",\"gridcolor\":\"white\",\"linecolor\":\"white\",\"showbackground\":true,\"ticks\":\"\",\"zerolinecolor\":\"white\",\"gridwidth\":2}},\"shapedefaults\":{\"line\":{\"color\":\"#2a3f5f\"}},\"annotationdefaults\":{\"arrowcolor\":\"#2a3f5f\",\"arrowhead\":0,\"arrowwidth\":1},\"geo\":{\"bgcolor\":\"white\",\"landcolor\":\"#E5ECF6\",\"subunitcolor\":\"white\",\"showland\":true,\"showlakes\":true,\"lakecolor\":\"white\"},\"title\":{\"x\":0.05},\"mapbox\":{\"style\":\"light\"}}},\"xaxis\":{\"anchor\":\"y\",\"domain\":[0.0,1.0],\"title\":{\"text\":\"Gender\"}},\"yaxis\":{\"anchor\":\"x\",\"domain\":[0.0,1.0],\"title\":{\"text\":\"count\"}},\"legend\":{\"title\":{\"text\":\"Mortality\"},\"tracegroupgap\":0},\"margin\":{\"t\":60},\"barmode\":\"relative\"},                        {\"responsive\": true}                    ).then(function(){\n",
       "                            \n",
       "var gd = document.getElementById('1a03a952-422f-4cf0-8387-339d53b2bb43');\n",
       "var x = new MutationObserver(function (mutations, observer) {{\n",
       "        var display = window.getComputedStyle(gd).display;\n",
       "        if (!display || display === 'none') {{\n",
       "            console.log([gd, 'removed!']);\n",
       "            Plotly.purge(gd);\n",
       "            observer.disconnect();\n",
       "        }}\n",
       "}});\n",
       "\n",
       "// Listen for the removal of the full notebook cells\n",
       "var notebookContainer = gd.closest('#notebook-container');\n",
       "if (notebookContainer) {{\n",
       "    x.observe(notebookContainer, {childList: true});\n",
       "}}\n",
       "\n",
       "// Listen for the clearing of the current output cell\n",
       "var outputEl = gd.closest('.output');\n",
       "if (outputEl) {{\n",
       "    x.observe(outputEl, {childList: true});\n",
       "}}\n",
       "\n",
       "                        })                };                });            </script>        </div>"
      ]
     },
     "metadata": {},
     "output_type": "display_data"
    },
    {
     "name": "stdout",
     "output_type": "stream",
     "text": [
      "Category:  Locality\n",
      "P-value:  0.028\n",
      "H0 rejected \n",
      "\n"
     ]
    },
    {
     "data": {
      "application/vnd.plotly.v1+json": {
       "config": {
        "plotlyServerURL": "https://plot.ly"
       },
       "data": [
        {
         "alignmentgroup": "True",
         "bingroup": "x",
         "hovertemplate": "Mortality=Died<br>Locality=%{x}<br>count=%{y}<extra></extra>",
         "legendgroup": "Died",
         "marker": {
          "color": "deeppink",
          "pattern": {
           "shape": ""
          }
         },
         "name": "Died",
         "offsetgroup": "Died",
         "orientation": "v",
         "showlegend": true,
         "type": "histogram",
         "x": [
          "RURAL",
          "URBAN",
          "RURAL",
          "RURAL",
          "RURAL",
          "RURAL",
          "URBAN",
          "RURAL",
          "RURAL",
          "URBAN",
          "URBAN",
          "RURAL",
          "RURAL",
          "RURAL",
          "URBAN",
          "RURAL",
          "URBAN",
          "URBAN",
          "URBAN",
          "URBAN",
          "RURAL",
          "URBAN",
          "URBAN",
          "RURAL",
          "URBAN",
          "RURAL",
          "URBAN",
          "RURAL",
          "URBAN",
          "URBAN",
          "RURAL",
          "URBAN",
          "URBAN",
          "RURAL",
          "URBAN",
          "URBAN",
          "RURAL",
          "URBAN",
          "RURAL",
          "URBAN",
          "RURAL",
          "URBAN",
          "URBAN",
          "URBAN",
          "URBAN",
          "URBAN",
          "URBAN",
          "URBAN",
          "URBAN",
          "URBAN",
          "RURAL",
          "URBAN",
          "URBAN",
          "URBAN",
          "URBAN",
          "RURAL",
          "URBAN",
          "RURAL",
          "URBAN",
          "URBAN",
          "RURAL",
          "URBAN",
          "RURAL",
          "URBAN",
          "URBAN",
          "RURAL",
          "URBAN",
          "URBAN",
          "RURAL",
          "URBAN",
          "URBAN",
          "RURAL",
          "URBAN",
          "RURAL",
          "URBAN",
          "RURAL",
          "URBAN",
          "URBAN",
          "URBAN",
          "URBAN",
          "URBAN",
          "URBAN",
          "URBAN",
          "URBAN",
          "URBAN",
          "RURAL",
          "URBAN",
          "URBAN",
          "URBAN",
          "URBAN",
          "RURAL",
          "URBAN",
          "RURAL",
          "URBAN",
          "URBAN",
          "RURAL",
          "URBAN",
          "RURAL",
          "URBAN",
          "URBAN",
          "RURAL",
          "URBAN",
          "URBAN",
          "RURAL",
          "URBAN",
          "URBAN",
          "RURAL",
          "URBAN",
          "RURAL",
          "URBAN",
          "RURAL",
          "URBAN",
          "RURAL",
          "URBAN",
          "URBAN",
          "RURAL",
          "URBAN",
          "RURAL",
          "URBAN",
          "URBAN",
          "RURAL",
          "URBAN",
          "RURAL",
          "URBAN",
          "RURAL",
          "URBAN",
          "URBAN",
          "URBAN",
          "URBAN",
          "RURAL",
          "URBAN",
          "RURAL",
          "URBAN",
          "RURAL",
          "URBAN",
          "URBAN",
          "URBAN",
          "URBAN",
          "URBAN",
          "URBAN",
          "URBAN",
          "URBAN",
          "URBAN",
          "RURAL",
          "URBAN",
          "URBAN",
          "URBAN",
          "URBAN",
          "RURAL",
          "URBAN",
          "URBAN",
          "RURAL",
          "RURAL",
          "RURAL",
          "URBAN",
          "RURAL",
          "URBAN",
          "URBAN",
          "URBAN",
          "URBAN",
          "RURAL",
          "URBAN",
          "URBAN",
          "RURAL",
          "URBAN",
          "RURAL",
          "URBAN",
          "RURAL",
          "URBAN",
          "URBAN",
          "RURAL",
          "URBAN",
          "URBAN",
          "RURAL",
          "URBAN",
          "URBAN",
          "RURAL",
          "URBAN",
          "RURAL",
          "URBAN",
          "RURAL",
          "URBAN",
          "URBAN",
          "URBAN",
          "URBAN",
          "URBAN",
          "URBAN",
          "URBAN",
          "URBAN",
          "URBAN",
          "RURAL",
          "URBAN",
          "URBAN",
          "URBAN",
          "URBAN",
          "RURAL",
          "URBAN",
          "URBAN",
          "RURAL",
          "RURAL",
          "RURAL",
          "URBAN",
          "RURAL",
          "URBAN",
          "URBAN",
          "URBAN",
          "URBAN",
          "RURAL",
          "URBAN",
          "URBAN",
          "RURAL",
          "URBAN",
          "URBAN",
          "RURAL",
          "URBAN",
          "RURAL",
          "URBAN",
          "RURAL",
          "URBAN",
          "URBAN",
          "URBAN",
          "URBAN",
          "URBAN",
          "URBAN",
          "URBAN",
          "URBAN",
          "URBAN",
          "RURAL",
          "URBAN",
          "URBAN",
          "URBAN",
          "URBAN",
          "RURAL",
          "URBAN",
          "URBAN",
          "RURAL",
          "RURAL",
          "RURAL",
          "URBAN",
          "RURAL",
          "URBAN",
          "URBAN",
          "URBAN",
          "RURAL",
          "URBAN",
          "RURAL",
          "URBAN",
          "RURAL",
          "URBAN",
          "URBAN",
          "URBAN",
          "URBAN",
          "URBAN",
          "URBAN",
          "URBAN",
          "URBAN",
          "URBAN",
          "RURAL",
          "URBAN",
          "URBAN",
          "URBAN",
          "URBAN",
          "RURAL",
          "URBAN",
          "URBAN",
          "RURAL",
          "RURAL",
          "RURAL",
          "URBAN",
          "RURAL",
          "URBAN",
          "URBAN",
          "URBAN",
          "URBAN",
          "RURAL",
          "URBAN",
          "URBAN",
          "RURAL",
          "URBAN",
          "RURAL",
          "URBAN",
          "RURAL",
          "URBAN",
          "URBAN",
          "RURAL",
          "URBAN",
          "URBAN",
          "RURAL"
         ],
         "xaxis": "x",
         "yaxis": "y"
        },
        {
         "alignmentgroup": "True",
         "bingroup": "x",
         "hovertemplate": "Mortality=Alive<br>Locality=%{x}<br>count=%{y}<extra></extra>",
         "legendgroup": "Alive",
         "marker": {
          "color": "aqua",
          "pattern": {
           "shape": ""
          }
         },
         "name": "Alive",
         "offsetgroup": "Alive",
         "orientation": "v",
         "showlegend": true,
         "type": "histogram",
         "x": [
          "URBAN",
          "RURAL",
          "RURAL",
          "RURAL",
          "RURAL",
          "RURAL",
          "RURAL",
          "URBAN",
          "RURAL",
          "URBAN",
          "URBAN",
          "URBAN",
          "URBAN",
          "URBAN",
          "URBAN",
          "RURAL",
          "URBAN",
          "URBAN",
          "URBAN",
          "URBAN",
          "URBAN",
          "RURAL",
          "RURAL",
          "RURAL",
          "URBAN",
          "URBAN",
          "RURAL",
          "RURAL",
          "RURAL",
          "RURAL",
          "RURAL",
          "URBAN",
          "RURAL",
          "URBAN",
          "URBAN",
          "URBAN",
          "URBAN",
          "URBAN",
          "URBAN",
          "RURAL",
          "URBAN",
          "URBAN",
          "RURAL",
          "RURAL",
          "RURAL",
          "RURAL",
          "RURAL",
          "URBAN",
          "RURAL",
          "URBAN",
          "URBAN",
          "URBAN",
          "URBAN",
          "URBAN",
          "URBAN",
          "RURAL",
          "URBAN",
          "RURAL",
          "RURAL",
          "RURAL",
          "RURAL",
          "RURAL",
          "URBAN",
          "RURAL",
          "RURAL",
          "RURAL",
          "RURAL",
          "RURAL",
          "RURAL",
          "URBAN",
          "RURAL",
          "URBAN",
          "URBAN",
          "URBAN",
          "URBAN",
          "URBAN",
          "URBAN",
          "RURAL",
          "URBAN",
          "URBAN"
         ],
         "xaxis": "x",
         "yaxis": "y"
        }
       ],
       "layout": {
        "barmode": "relative",
        "legend": {
         "title": {
          "text": "Mortality"
         },
         "tracegroupgap": 0
        },
        "margin": {
         "t": 60
        },
        "template": {
         "data": {
          "bar": [
           {
            "error_x": {
             "color": "#2a3f5f"
            },
            "error_y": {
             "color": "#2a3f5f"
            },
            "marker": {
             "line": {
              "color": "#E5ECF6",
              "width": 0.5
             },
             "pattern": {
              "fillmode": "overlay",
              "size": 10,
              "solidity": 0.2
             }
            },
            "type": "bar"
           }
          ],
          "barpolar": [
           {
            "marker": {
             "line": {
              "color": "#E5ECF6",
              "width": 0.5
             },
             "pattern": {
              "fillmode": "overlay",
              "size": 10,
              "solidity": 0.2
             }
            },
            "type": "barpolar"
           }
          ],
          "carpet": [
           {
            "aaxis": {
             "endlinecolor": "#2a3f5f",
             "gridcolor": "white",
             "linecolor": "white",
             "minorgridcolor": "white",
             "startlinecolor": "#2a3f5f"
            },
            "baxis": {
             "endlinecolor": "#2a3f5f",
             "gridcolor": "white",
             "linecolor": "white",
             "minorgridcolor": "white",
             "startlinecolor": "#2a3f5f"
            },
            "type": "carpet"
           }
          ],
          "choropleth": [
           {
            "colorbar": {
             "outlinewidth": 0,
             "ticks": ""
            },
            "type": "choropleth"
           }
          ],
          "contour": [
           {
            "colorbar": {
             "outlinewidth": 0,
             "ticks": ""
            },
            "colorscale": [
             [
              0,
              "#0d0887"
             ],
             [
              0.1111111111111111,
              "#46039f"
             ],
             [
              0.2222222222222222,
              "#7201a8"
             ],
             [
              0.3333333333333333,
              "#9c179e"
             ],
             [
              0.4444444444444444,
              "#bd3786"
             ],
             [
              0.5555555555555556,
              "#d8576b"
             ],
             [
              0.6666666666666666,
              "#ed7953"
             ],
             [
              0.7777777777777778,
              "#fb9f3a"
             ],
             [
              0.8888888888888888,
              "#fdca26"
             ],
             [
              1,
              "#f0f921"
             ]
            ],
            "type": "contour"
           }
          ],
          "contourcarpet": [
           {
            "colorbar": {
             "outlinewidth": 0,
             "ticks": ""
            },
            "type": "contourcarpet"
           }
          ],
          "heatmap": [
           {
            "colorbar": {
             "outlinewidth": 0,
             "ticks": ""
            },
            "colorscale": [
             [
              0,
              "#0d0887"
             ],
             [
              0.1111111111111111,
              "#46039f"
             ],
             [
              0.2222222222222222,
              "#7201a8"
             ],
             [
              0.3333333333333333,
              "#9c179e"
             ],
             [
              0.4444444444444444,
              "#bd3786"
             ],
             [
              0.5555555555555556,
              "#d8576b"
             ],
             [
              0.6666666666666666,
              "#ed7953"
             ],
             [
              0.7777777777777778,
              "#fb9f3a"
             ],
             [
              0.8888888888888888,
              "#fdca26"
             ],
             [
              1,
              "#f0f921"
             ]
            ],
            "type": "heatmap"
           }
          ],
          "heatmapgl": [
           {
            "colorbar": {
             "outlinewidth": 0,
             "ticks": ""
            },
            "colorscale": [
             [
              0,
              "#0d0887"
             ],
             [
              0.1111111111111111,
              "#46039f"
             ],
             [
              0.2222222222222222,
              "#7201a8"
             ],
             [
              0.3333333333333333,
              "#9c179e"
             ],
             [
              0.4444444444444444,
              "#bd3786"
             ],
             [
              0.5555555555555556,
              "#d8576b"
             ],
             [
              0.6666666666666666,
              "#ed7953"
             ],
             [
              0.7777777777777778,
              "#fb9f3a"
             ],
             [
              0.8888888888888888,
              "#fdca26"
             ],
             [
              1,
              "#f0f921"
             ]
            ],
            "type": "heatmapgl"
           }
          ],
          "histogram": [
           {
            "marker": {
             "pattern": {
              "fillmode": "overlay",
              "size": 10,
              "solidity": 0.2
             }
            },
            "type": "histogram"
           }
          ],
          "histogram2d": [
           {
            "colorbar": {
             "outlinewidth": 0,
             "ticks": ""
            },
            "colorscale": [
             [
              0,
              "#0d0887"
             ],
             [
              0.1111111111111111,
              "#46039f"
             ],
             [
              0.2222222222222222,
              "#7201a8"
             ],
             [
              0.3333333333333333,
              "#9c179e"
             ],
             [
              0.4444444444444444,
              "#bd3786"
             ],
             [
              0.5555555555555556,
              "#d8576b"
             ],
             [
              0.6666666666666666,
              "#ed7953"
             ],
             [
              0.7777777777777778,
              "#fb9f3a"
             ],
             [
              0.8888888888888888,
              "#fdca26"
             ],
             [
              1,
              "#f0f921"
             ]
            ],
            "type": "histogram2d"
           }
          ],
          "histogram2dcontour": [
           {
            "colorbar": {
             "outlinewidth": 0,
             "ticks": ""
            },
            "colorscale": [
             [
              0,
              "#0d0887"
             ],
             [
              0.1111111111111111,
              "#46039f"
             ],
             [
              0.2222222222222222,
              "#7201a8"
             ],
             [
              0.3333333333333333,
              "#9c179e"
             ],
             [
              0.4444444444444444,
              "#bd3786"
             ],
             [
              0.5555555555555556,
              "#d8576b"
             ],
             [
              0.6666666666666666,
              "#ed7953"
             ],
             [
              0.7777777777777778,
              "#fb9f3a"
             ],
             [
              0.8888888888888888,
              "#fdca26"
             ],
             [
              1,
              "#f0f921"
             ]
            ],
            "type": "histogram2dcontour"
           }
          ],
          "mesh3d": [
           {
            "colorbar": {
             "outlinewidth": 0,
             "ticks": ""
            },
            "type": "mesh3d"
           }
          ],
          "parcoords": [
           {
            "line": {
             "colorbar": {
              "outlinewidth": 0,
              "ticks": ""
             }
            },
            "type": "parcoords"
           }
          ],
          "pie": [
           {
            "automargin": true,
            "type": "pie"
           }
          ],
          "scatter": [
           {
            "fillpattern": {
             "fillmode": "overlay",
             "size": 10,
             "solidity": 0.2
            },
            "type": "scatter"
           }
          ],
          "scatter3d": [
           {
            "line": {
             "colorbar": {
              "outlinewidth": 0,
              "ticks": ""
             }
            },
            "marker": {
             "colorbar": {
              "outlinewidth": 0,
              "ticks": ""
             }
            },
            "type": "scatter3d"
           }
          ],
          "scattercarpet": [
           {
            "marker": {
             "colorbar": {
              "outlinewidth": 0,
              "ticks": ""
             }
            },
            "type": "scattercarpet"
           }
          ],
          "scattergeo": [
           {
            "marker": {
             "colorbar": {
              "outlinewidth": 0,
              "ticks": ""
             }
            },
            "type": "scattergeo"
           }
          ],
          "scattergl": [
           {
            "marker": {
             "colorbar": {
              "outlinewidth": 0,
              "ticks": ""
             }
            },
            "type": "scattergl"
           }
          ],
          "scattermapbox": [
           {
            "marker": {
             "colorbar": {
              "outlinewidth": 0,
              "ticks": ""
             }
            },
            "type": "scattermapbox"
           }
          ],
          "scatterpolar": [
           {
            "marker": {
             "colorbar": {
              "outlinewidth": 0,
              "ticks": ""
             }
            },
            "type": "scatterpolar"
           }
          ],
          "scatterpolargl": [
           {
            "marker": {
             "colorbar": {
              "outlinewidth": 0,
              "ticks": ""
             }
            },
            "type": "scatterpolargl"
           }
          ],
          "scatterternary": [
           {
            "marker": {
             "colorbar": {
              "outlinewidth": 0,
              "ticks": ""
             }
            },
            "type": "scatterternary"
           }
          ],
          "surface": [
           {
            "colorbar": {
             "outlinewidth": 0,
             "ticks": ""
            },
            "colorscale": [
             [
              0,
              "#0d0887"
             ],
             [
              0.1111111111111111,
              "#46039f"
             ],
             [
              0.2222222222222222,
              "#7201a8"
             ],
             [
              0.3333333333333333,
              "#9c179e"
             ],
             [
              0.4444444444444444,
              "#bd3786"
             ],
             [
              0.5555555555555556,
              "#d8576b"
             ],
             [
              0.6666666666666666,
              "#ed7953"
             ],
             [
              0.7777777777777778,
              "#fb9f3a"
             ],
             [
              0.8888888888888888,
              "#fdca26"
             ],
             [
              1,
              "#f0f921"
             ]
            ],
            "type": "surface"
           }
          ],
          "table": [
           {
            "cells": {
             "fill": {
              "color": "#EBF0F8"
             },
             "line": {
              "color": "white"
             }
            },
            "header": {
             "fill": {
              "color": "#C8D4E3"
             },
             "line": {
              "color": "white"
             }
            },
            "type": "table"
           }
          ]
         },
         "layout": {
          "annotationdefaults": {
           "arrowcolor": "#2a3f5f",
           "arrowhead": 0,
           "arrowwidth": 1
          },
          "autotypenumbers": "strict",
          "coloraxis": {
           "colorbar": {
            "outlinewidth": 0,
            "ticks": ""
           }
          },
          "colorscale": {
           "diverging": [
            [
             0,
             "#8e0152"
            ],
            [
             0.1,
             "#c51b7d"
            ],
            [
             0.2,
             "#de77ae"
            ],
            [
             0.3,
             "#f1b6da"
            ],
            [
             0.4,
             "#fde0ef"
            ],
            [
             0.5,
             "#f7f7f7"
            ],
            [
             0.6,
             "#e6f5d0"
            ],
            [
             0.7,
             "#b8e186"
            ],
            [
             0.8,
             "#7fbc41"
            ],
            [
             0.9,
             "#4d9221"
            ],
            [
             1,
             "#276419"
            ]
           ],
           "sequential": [
            [
             0,
             "#0d0887"
            ],
            [
             0.1111111111111111,
             "#46039f"
            ],
            [
             0.2222222222222222,
             "#7201a8"
            ],
            [
             0.3333333333333333,
             "#9c179e"
            ],
            [
             0.4444444444444444,
             "#bd3786"
            ],
            [
             0.5555555555555556,
             "#d8576b"
            ],
            [
             0.6666666666666666,
             "#ed7953"
            ],
            [
             0.7777777777777778,
             "#fb9f3a"
            ],
            [
             0.8888888888888888,
             "#fdca26"
            ],
            [
             1,
             "#f0f921"
            ]
           ],
           "sequentialminus": [
            [
             0,
             "#0d0887"
            ],
            [
             0.1111111111111111,
             "#46039f"
            ],
            [
             0.2222222222222222,
             "#7201a8"
            ],
            [
             0.3333333333333333,
             "#9c179e"
            ],
            [
             0.4444444444444444,
             "#bd3786"
            ],
            [
             0.5555555555555556,
             "#d8576b"
            ],
            [
             0.6666666666666666,
             "#ed7953"
            ],
            [
             0.7777777777777778,
             "#fb9f3a"
            ],
            [
             0.8888888888888888,
             "#fdca26"
            ],
            [
             1,
             "#f0f921"
            ]
           ]
          },
          "colorway": [
           "#636efa",
           "#EF553B",
           "#00cc96",
           "#ab63fa",
           "#FFA15A",
           "#19d3f3",
           "#FF6692",
           "#B6E880",
           "#FF97FF",
           "#FECB52"
          ],
          "font": {
           "color": "#2a3f5f"
          },
          "geo": {
           "bgcolor": "white",
           "lakecolor": "white",
           "landcolor": "#E5ECF6",
           "showlakes": true,
           "showland": true,
           "subunitcolor": "white"
          },
          "hoverlabel": {
           "align": "left"
          },
          "hovermode": "closest",
          "mapbox": {
           "style": "light"
          },
          "paper_bgcolor": "white",
          "plot_bgcolor": "#E5ECF6",
          "polar": {
           "angularaxis": {
            "gridcolor": "white",
            "linecolor": "white",
            "ticks": ""
           },
           "bgcolor": "#E5ECF6",
           "radialaxis": {
            "gridcolor": "white",
            "linecolor": "white",
            "ticks": ""
           }
          },
          "scene": {
           "xaxis": {
            "backgroundcolor": "#E5ECF6",
            "gridcolor": "white",
            "gridwidth": 2,
            "linecolor": "white",
            "showbackground": true,
            "ticks": "",
            "zerolinecolor": "white"
           },
           "yaxis": {
            "backgroundcolor": "#E5ECF6",
            "gridcolor": "white",
            "gridwidth": 2,
            "linecolor": "white",
            "showbackground": true,
            "ticks": "",
            "zerolinecolor": "white"
           },
           "zaxis": {
            "backgroundcolor": "#E5ECF6",
            "gridcolor": "white",
            "gridwidth": 2,
            "linecolor": "white",
            "showbackground": true,
            "ticks": "",
            "zerolinecolor": "white"
           }
          },
          "shapedefaults": {
           "line": {
            "color": "#2a3f5f"
           }
          },
          "ternary": {
           "aaxis": {
            "gridcolor": "white",
            "linecolor": "white",
            "ticks": ""
           },
           "baxis": {
            "gridcolor": "white",
            "linecolor": "white",
            "ticks": ""
           },
           "bgcolor": "#E5ECF6",
           "caxis": {
            "gridcolor": "white",
            "linecolor": "white",
            "ticks": ""
           }
          },
          "title": {
           "x": 0.05
          },
          "xaxis": {
           "automargin": true,
           "gridcolor": "white",
           "linecolor": "white",
           "ticks": "",
           "title": {
            "standoff": 15
           },
           "zerolinecolor": "white",
           "zerolinewidth": 2
          },
          "yaxis": {
           "automargin": true,
           "gridcolor": "white",
           "linecolor": "white",
           "ticks": "",
           "title": {
            "standoff": 15
           },
           "zerolinecolor": "white",
           "zerolinewidth": 2
          }
         }
        },
        "xaxis": {
         "anchor": "y",
         "domain": [
          0,
          1
         ],
         "title": {
          "text": "Locality"
         }
        },
        "yaxis": {
         "anchor": "x",
         "domain": [
          0,
          1
         ],
         "title": {
          "text": "count"
         }
        }
       }
      },
      "text/html": [
       "<div>                            <div id=\"803f1648-7f8f-4b7f-b5be-de1099b75273\" class=\"plotly-graph-div\" style=\"height:525px; width:100%;\"></div>            <script type=\"text/javascript\">                require([\"plotly\"], function(Plotly) {                    window.PLOTLYENV=window.PLOTLYENV || {};                                    if (document.getElementById(\"803f1648-7f8f-4b7f-b5be-de1099b75273\")) {                    Plotly.newPlot(                        \"803f1648-7f8f-4b7f-b5be-de1099b75273\",                        [{\"alignmentgroup\":\"True\",\"bingroup\":\"x\",\"hovertemplate\":\"Mortality=Died\\u003cbr\\u003eLocality=%{x}\\u003cbr\\u003ecount=%{y}\\u003cextra\\u003e\\u003c\\u002fextra\\u003e\",\"legendgroup\":\"Died\",\"marker\":{\"color\":\"deeppink\",\"pattern\":{\"shape\":\"\"}},\"name\":\"Died\",\"offsetgroup\":\"Died\",\"orientation\":\"v\",\"showlegend\":true,\"x\":[\"RURAL\",\"URBAN\",\"RURAL\",\"RURAL\",\"RURAL\",\"RURAL\",\"URBAN\",\"RURAL\",\"RURAL\",\"URBAN\",\"URBAN\",\"RURAL\",\"RURAL\",\"RURAL\",\"URBAN\",\"RURAL\",\"URBAN\",\"URBAN\",\"URBAN\",\"URBAN\",\"RURAL\",\"URBAN\",\"URBAN\",\"RURAL\",\"URBAN\",\"RURAL\",\"URBAN\",\"RURAL\",\"URBAN\",\"URBAN\",\"RURAL\",\"URBAN\",\"URBAN\",\"RURAL\",\"URBAN\",\"URBAN\",\"RURAL\",\"URBAN\",\"RURAL\",\"URBAN\",\"RURAL\",\"URBAN\",\"URBAN\",\"URBAN\",\"URBAN\",\"URBAN\",\"URBAN\",\"URBAN\",\"URBAN\",\"URBAN\",\"RURAL\",\"URBAN\",\"URBAN\",\"URBAN\",\"URBAN\",\"RURAL\",\"URBAN\",\"RURAL\",\"URBAN\",\"URBAN\",\"RURAL\",\"URBAN\",\"RURAL\",\"URBAN\",\"URBAN\",\"RURAL\",\"URBAN\",\"URBAN\",\"RURAL\",\"URBAN\",\"URBAN\",\"RURAL\",\"URBAN\",\"RURAL\",\"URBAN\",\"RURAL\",\"URBAN\",\"URBAN\",\"URBAN\",\"URBAN\",\"URBAN\",\"URBAN\",\"URBAN\",\"URBAN\",\"URBAN\",\"RURAL\",\"URBAN\",\"URBAN\",\"URBAN\",\"URBAN\",\"RURAL\",\"URBAN\",\"RURAL\",\"URBAN\",\"URBAN\",\"RURAL\",\"URBAN\",\"RURAL\",\"URBAN\",\"URBAN\",\"RURAL\",\"URBAN\",\"URBAN\",\"RURAL\",\"URBAN\",\"URBAN\",\"RURAL\",\"URBAN\",\"RURAL\",\"URBAN\",\"RURAL\",\"URBAN\",\"RURAL\",\"URBAN\",\"URBAN\",\"RURAL\",\"URBAN\",\"RURAL\",\"URBAN\",\"URBAN\",\"RURAL\",\"URBAN\",\"RURAL\",\"URBAN\",\"RURAL\",\"URBAN\",\"URBAN\",\"URBAN\",\"URBAN\",\"RURAL\",\"URBAN\",\"RURAL\",\"URBAN\",\"RURAL\",\"URBAN\",\"URBAN\",\"URBAN\",\"URBAN\",\"URBAN\",\"URBAN\",\"URBAN\",\"URBAN\",\"URBAN\",\"RURAL\",\"URBAN\",\"URBAN\",\"URBAN\",\"URBAN\",\"RURAL\",\"URBAN\",\"URBAN\",\"RURAL\",\"RURAL\",\"RURAL\",\"URBAN\",\"RURAL\",\"URBAN\",\"URBAN\",\"URBAN\",\"URBAN\",\"RURAL\",\"URBAN\",\"URBAN\",\"RURAL\",\"URBAN\",\"RURAL\",\"URBAN\",\"RURAL\",\"URBAN\",\"URBAN\",\"RURAL\",\"URBAN\",\"URBAN\",\"RURAL\",\"URBAN\",\"URBAN\",\"RURAL\",\"URBAN\",\"RURAL\",\"URBAN\",\"RURAL\",\"URBAN\",\"URBAN\",\"URBAN\",\"URBAN\",\"URBAN\",\"URBAN\",\"URBAN\",\"URBAN\",\"URBAN\",\"RURAL\",\"URBAN\",\"URBAN\",\"URBAN\",\"URBAN\",\"RURAL\",\"URBAN\",\"URBAN\",\"RURAL\",\"RURAL\",\"RURAL\",\"URBAN\",\"RURAL\",\"URBAN\",\"URBAN\",\"URBAN\",\"URBAN\",\"RURAL\",\"URBAN\",\"URBAN\",\"RURAL\",\"URBAN\",\"URBAN\",\"RURAL\",\"URBAN\",\"RURAL\",\"URBAN\",\"RURAL\",\"URBAN\",\"URBAN\",\"URBAN\",\"URBAN\",\"URBAN\",\"URBAN\",\"URBAN\",\"URBAN\",\"URBAN\",\"RURAL\",\"URBAN\",\"URBAN\",\"URBAN\",\"URBAN\",\"RURAL\",\"URBAN\",\"URBAN\",\"RURAL\",\"RURAL\",\"RURAL\",\"URBAN\",\"RURAL\",\"URBAN\",\"URBAN\",\"URBAN\",\"RURAL\",\"URBAN\",\"RURAL\",\"URBAN\",\"RURAL\",\"URBAN\",\"URBAN\",\"URBAN\",\"URBAN\",\"URBAN\",\"URBAN\",\"URBAN\",\"URBAN\",\"URBAN\",\"RURAL\",\"URBAN\",\"URBAN\",\"URBAN\",\"URBAN\",\"RURAL\",\"URBAN\",\"URBAN\",\"RURAL\",\"RURAL\",\"RURAL\",\"URBAN\",\"RURAL\",\"URBAN\",\"URBAN\",\"URBAN\",\"URBAN\",\"RURAL\",\"URBAN\",\"URBAN\",\"RURAL\",\"URBAN\",\"RURAL\",\"URBAN\",\"RURAL\",\"URBAN\",\"URBAN\",\"RURAL\",\"URBAN\",\"URBAN\",\"RURAL\"],\"xaxis\":\"x\",\"yaxis\":\"y\",\"type\":\"histogram\"},{\"alignmentgroup\":\"True\",\"bingroup\":\"x\",\"hovertemplate\":\"Mortality=Alive\\u003cbr\\u003eLocality=%{x}\\u003cbr\\u003ecount=%{y}\\u003cextra\\u003e\\u003c\\u002fextra\\u003e\",\"legendgroup\":\"Alive\",\"marker\":{\"color\":\"aqua\",\"pattern\":{\"shape\":\"\"}},\"name\":\"Alive\",\"offsetgroup\":\"Alive\",\"orientation\":\"v\",\"showlegend\":true,\"x\":[\"URBAN\",\"RURAL\",\"RURAL\",\"RURAL\",\"RURAL\",\"RURAL\",\"RURAL\",\"URBAN\",\"RURAL\",\"URBAN\",\"URBAN\",\"URBAN\",\"URBAN\",\"URBAN\",\"URBAN\",\"RURAL\",\"URBAN\",\"URBAN\",\"URBAN\",\"URBAN\",\"URBAN\",\"RURAL\",\"RURAL\",\"RURAL\",\"URBAN\",\"URBAN\",\"RURAL\",\"RURAL\",\"RURAL\",\"RURAL\",\"RURAL\",\"URBAN\",\"RURAL\",\"URBAN\",\"URBAN\",\"URBAN\",\"URBAN\",\"URBAN\",\"URBAN\",\"RURAL\",\"URBAN\",\"URBAN\",\"RURAL\",\"RURAL\",\"RURAL\",\"RURAL\",\"RURAL\",\"URBAN\",\"RURAL\",\"URBAN\",\"URBAN\",\"URBAN\",\"URBAN\",\"URBAN\",\"URBAN\",\"RURAL\",\"URBAN\",\"RURAL\",\"RURAL\",\"RURAL\",\"RURAL\",\"RURAL\",\"URBAN\",\"RURAL\",\"RURAL\",\"RURAL\",\"RURAL\",\"RURAL\",\"RURAL\",\"URBAN\",\"RURAL\",\"URBAN\",\"URBAN\",\"URBAN\",\"URBAN\",\"URBAN\",\"URBAN\",\"RURAL\",\"URBAN\",\"URBAN\"],\"xaxis\":\"x\",\"yaxis\":\"y\",\"type\":\"histogram\"}],                        {\"template\":{\"data\":{\"histogram2dcontour\":[{\"type\":\"histogram2dcontour\",\"colorbar\":{\"outlinewidth\":0,\"ticks\":\"\"},\"colorscale\":[[0.0,\"#0d0887\"],[0.1111111111111111,\"#46039f\"],[0.2222222222222222,\"#7201a8\"],[0.3333333333333333,\"#9c179e\"],[0.4444444444444444,\"#bd3786\"],[0.5555555555555556,\"#d8576b\"],[0.6666666666666666,\"#ed7953\"],[0.7777777777777778,\"#fb9f3a\"],[0.8888888888888888,\"#fdca26\"],[1.0,\"#f0f921\"]]}],\"choropleth\":[{\"type\":\"choropleth\",\"colorbar\":{\"outlinewidth\":0,\"ticks\":\"\"}}],\"histogram2d\":[{\"type\":\"histogram2d\",\"colorbar\":{\"outlinewidth\":0,\"ticks\":\"\"},\"colorscale\":[[0.0,\"#0d0887\"],[0.1111111111111111,\"#46039f\"],[0.2222222222222222,\"#7201a8\"],[0.3333333333333333,\"#9c179e\"],[0.4444444444444444,\"#bd3786\"],[0.5555555555555556,\"#d8576b\"],[0.6666666666666666,\"#ed7953\"],[0.7777777777777778,\"#fb9f3a\"],[0.8888888888888888,\"#fdca26\"],[1.0,\"#f0f921\"]]}],\"heatmap\":[{\"type\":\"heatmap\",\"colorbar\":{\"outlinewidth\":0,\"ticks\":\"\"},\"colorscale\":[[0.0,\"#0d0887\"],[0.1111111111111111,\"#46039f\"],[0.2222222222222222,\"#7201a8\"],[0.3333333333333333,\"#9c179e\"],[0.4444444444444444,\"#bd3786\"],[0.5555555555555556,\"#d8576b\"],[0.6666666666666666,\"#ed7953\"],[0.7777777777777778,\"#fb9f3a\"],[0.8888888888888888,\"#fdca26\"],[1.0,\"#f0f921\"]]}],\"heatmapgl\":[{\"type\":\"heatmapgl\",\"colorbar\":{\"outlinewidth\":0,\"ticks\":\"\"},\"colorscale\":[[0.0,\"#0d0887\"],[0.1111111111111111,\"#46039f\"],[0.2222222222222222,\"#7201a8\"],[0.3333333333333333,\"#9c179e\"],[0.4444444444444444,\"#bd3786\"],[0.5555555555555556,\"#d8576b\"],[0.6666666666666666,\"#ed7953\"],[0.7777777777777778,\"#fb9f3a\"],[0.8888888888888888,\"#fdca26\"],[1.0,\"#f0f921\"]]}],\"contourcarpet\":[{\"type\":\"contourcarpet\",\"colorbar\":{\"outlinewidth\":0,\"ticks\":\"\"}}],\"contour\":[{\"type\":\"contour\",\"colorbar\":{\"outlinewidth\":0,\"ticks\":\"\"},\"colorscale\":[[0.0,\"#0d0887\"],[0.1111111111111111,\"#46039f\"],[0.2222222222222222,\"#7201a8\"],[0.3333333333333333,\"#9c179e\"],[0.4444444444444444,\"#bd3786\"],[0.5555555555555556,\"#d8576b\"],[0.6666666666666666,\"#ed7953\"],[0.7777777777777778,\"#fb9f3a\"],[0.8888888888888888,\"#fdca26\"],[1.0,\"#f0f921\"]]}],\"surface\":[{\"type\":\"surface\",\"colorbar\":{\"outlinewidth\":0,\"ticks\":\"\"},\"colorscale\":[[0.0,\"#0d0887\"],[0.1111111111111111,\"#46039f\"],[0.2222222222222222,\"#7201a8\"],[0.3333333333333333,\"#9c179e\"],[0.4444444444444444,\"#bd3786\"],[0.5555555555555556,\"#d8576b\"],[0.6666666666666666,\"#ed7953\"],[0.7777777777777778,\"#fb9f3a\"],[0.8888888888888888,\"#fdca26\"],[1.0,\"#f0f921\"]]}],\"mesh3d\":[{\"type\":\"mesh3d\",\"colorbar\":{\"outlinewidth\":0,\"ticks\":\"\"}}],\"scatter\":[{\"fillpattern\":{\"fillmode\":\"overlay\",\"size\":10,\"solidity\":0.2},\"type\":\"scatter\"}],\"parcoords\":[{\"type\":\"parcoords\",\"line\":{\"colorbar\":{\"outlinewidth\":0,\"ticks\":\"\"}}}],\"scatterpolargl\":[{\"type\":\"scatterpolargl\",\"marker\":{\"colorbar\":{\"outlinewidth\":0,\"ticks\":\"\"}}}],\"bar\":[{\"error_x\":{\"color\":\"#2a3f5f\"},\"error_y\":{\"color\":\"#2a3f5f\"},\"marker\":{\"line\":{\"color\":\"#E5ECF6\",\"width\":0.5},\"pattern\":{\"fillmode\":\"overlay\",\"size\":10,\"solidity\":0.2}},\"type\":\"bar\"}],\"scattergeo\":[{\"type\":\"scattergeo\",\"marker\":{\"colorbar\":{\"outlinewidth\":0,\"ticks\":\"\"}}}],\"scatterpolar\":[{\"type\":\"scatterpolar\",\"marker\":{\"colorbar\":{\"outlinewidth\":0,\"ticks\":\"\"}}}],\"histogram\":[{\"marker\":{\"pattern\":{\"fillmode\":\"overlay\",\"size\":10,\"solidity\":0.2}},\"type\":\"histogram\"}],\"scattergl\":[{\"type\":\"scattergl\",\"marker\":{\"colorbar\":{\"outlinewidth\":0,\"ticks\":\"\"}}}],\"scatter3d\":[{\"type\":\"scatter3d\",\"line\":{\"colorbar\":{\"outlinewidth\":0,\"ticks\":\"\"}},\"marker\":{\"colorbar\":{\"outlinewidth\":0,\"ticks\":\"\"}}}],\"scattermapbox\":[{\"type\":\"scattermapbox\",\"marker\":{\"colorbar\":{\"outlinewidth\":0,\"ticks\":\"\"}}}],\"scatterternary\":[{\"type\":\"scatterternary\",\"marker\":{\"colorbar\":{\"outlinewidth\":0,\"ticks\":\"\"}}}],\"scattercarpet\":[{\"type\":\"scattercarpet\",\"marker\":{\"colorbar\":{\"outlinewidth\":0,\"ticks\":\"\"}}}],\"carpet\":[{\"aaxis\":{\"endlinecolor\":\"#2a3f5f\",\"gridcolor\":\"white\",\"linecolor\":\"white\",\"minorgridcolor\":\"white\",\"startlinecolor\":\"#2a3f5f\"},\"baxis\":{\"endlinecolor\":\"#2a3f5f\",\"gridcolor\":\"white\",\"linecolor\":\"white\",\"minorgridcolor\":\"white\",\"startlinecolor\":\"#2a3f5f\"},\"type\":\"carpet\"}],\"table\":[{\"cells\":{\"fill\":{\"color\":\"#EBF0F8\"},\"line\":{\"color\":\"white\"}},\"header\":{\"fill\":{\"color\":\"#C8D4E3\"},\"line\":{\"color\":\"white\"}},\"type\":\"table\"}],\"barpolar\":[{\"marker\":{\"line\":{\"color\":\"#E5ECF6\",\"width\":0.5},\"pattern\":{\"fillmode\":\"overlay\",\"size\":10,\"solidity\":0.2}},\"type\":\"barpolar\"}],\"pie\":[{\"automargin\":true,\"type\":\"pie\"}]},\"layout\":{\"autotypenumbers\":\"strict\",\"colorway\":[\"#636efa\",\"#EF553B\",\"#00cc96\",\"#ab63fa\",\"#FFA15A\",\"#19d3f3\",\"#FF6692\",\"#B6E880\",\"#FF97FF\",\"#FECB52\"],\"font\":{\"color\":\"#2a3f5f\"},\"hovermode\":\"closest\",\"hoverlabel\":{\"align\":\"left\"},\"paper_bgcolor\":\"white\",\"plot_bgcolor\":\"#E5ECF6\",\"polar\":{\"bgcolor\":\"#E5ECF6\",\"angularaxis\":{\"gridcolor\":\"white\",\"linecolor\":\"white\",\"ticks\":\"\"},\"radialaxis\":{\"gridcolor\":\"white\",\"linecolor\":\"white\",\"ticks\":\"\"}},\"ternary\":{\"bgcolor\":\"#E5ECF6\",\"aaxis\":{\"gridcolor\":\"white\",\"linecolor\":\"white\",\"ticks\":\"\"},\"baxis\":{\"gridcolor\":\"white\",\"linecolor\":\"white\",\"ticks\":\"\"},\"caxis\":{\"gridcolor\":\"white\",\"linecolor\":\"white\",\"ticks\":\"\"}},\"coloraxis\":{\"colorbar\":{\"outlinewidth\":0,\"ticks\":\"\"}},\"colorscale\":{\"sequential\":[[0.0,\"#0d0887\"],[0.1111111111111111,\"#46039f\"],[0.2222222222222222,\"#7201a8\"],[0.3333333333333333,\"#9c179e\"],[0.4444444444444444,\"#bd3786\"],[0.5555555555555556,\"#d8576b\"],[0.6666666666666666,\"#ed7953\"],[0.7777777777777778,\"#fb9f3a\"],[0.8888888888888888,\"#fdca26\"],[1.0,\"#f0f921\"]],\"sequentialminus\":[[0.0,\"#0d0887\"],[0.1111111111111111,\"#46039f\"],[0.2222222222222222,\"#7201a8\"],[0.3333333333333333,\"#9c179e\"],[0.4444444444444444,\"#bd3786\"],[0.5555555555555556,\"#d8576b\"],[0.6666666666666666,\"#ed7953\"],[0.7777777777777778,\"#fb9f3a\"],[0.8888888888888888,\"#fdca26\"],[1.0,\"#f0f921\"]],\"diverging\":[[0,\"#8e0152\"],[0.1,\"#c51b7d\"],[0.2,\"#de77ae\"],[0.3,\"#f1b6da\"],[0.4,\"#fde0ef\"],[0.5,\"#f7f7f7\"],[0.6,\"#e6f5d0\"],[0.7,\"#b8e186\"],[0.8,\"#7fbc41\"],[0.9,\"#4d9221\"],[1,\"#276419\"]]},\"xaxis\":{\"gridcolor\":\"white\",\"linecolor\":\"white\",\"ticks\":\"\",\"title\":{\"standoff\":15},\"zerolinecolor\":\"white\",\"automargin\":true,\"zerolinewidth\":2},\"yaxis\":{\"gridcolor\":\"white\",\"linecolor\":\"white\",\"ticks\":\"\",\"title\":{\"standoff\":15},\"zerolinecolor\":\"white\",\"automargin\":true,\"zerolinewidth\":2},\"scene\":{\"xaxis\":{\"backgroundcolor\":\"#E5ECF6\",\"gridcolor\":\"white\",\"linecolor\":\"white\",\"showbackground\":true,\"ticks\":\"\",\"zerolinecolor\":\"white\",\"gridwidth\":2},\"yaxis\":{\"backgroundcolor\":\"#E5ECF6\",\"gridcolor\":\"white\",\"linecolor\":\"white\",\"showbackground\":true,\"ticks\":\"\",\"zerolinecolor\":\"white\",\"gridwidth\":2},\"zaxis\":{\"backgroundcolor\":\"#E5ECF6\",\"gridcolor\":\"white\",\"linecolor\":\"white\",\"showbackground\":true,\"ticks\":\"\",\"zerolinecolor\":\"white\",\"gridwidth\":2}},\"shapedefaults\":{\"line\":{\"color\":\"#2a3f5f\"}},\"annotationdefaults\":{\"arrowcolor\":\"#2a3f5f\",\"arrowhead\":0,\"arrowwidth\":1},\"geo\":{\"bgcolor\":\"white\",\"landcolor\":\"#E5ECF6\",\"subunitcolor\":\"white\",\"showland\":true,\"showlakes\":true,\"lakecolor\":\"white\"},\"title\":{\"x\":0.05},\"mapbox\":{\"style\":\"light\"}}},\"xaxis\":{\"anchor\":\"y\",\"domain\":[0.0,1.0],\"title\":{\"text\":\"Locality\"}},\"yaxis\":{\"anchor\":\"x\",\"domain\":[0.0,1.0],\"title\":{\"text\":\"count\"}},\"legend\":{\"title\":{\"text\":\"Mortality\"},\"tracegroupgap\":0},\"margin\":{\"t\":60},\"barmode\":\"relative\"},                        {\"responsive\": true}                    ).then(function(){\n",
       "                            \n",
       "var gd = document.getElementById('803f1648-7f8f-4b7f-b5be-de1099b75273');\n",
       "var x = new MutationObserver(function (mutations, observer) {{\n",
       "        var display = window.getComputedStyle(gd).display;\n",
       "        if (!display || display === 'none') {{\n",
       "            console.log([gd, 'removed!']);\n",
       "            Plotly.purge(gd);\n",
       "            observer.disconnect();\n",
       "        }}\n",
       "}});\n",
       "\n",
       "// Listen for the removal of the full notebook cells\n",
       "var notebookContainer = gd.closest('#notebook-container');\n",
       "if (notebookContainer) {{\n",
       "    x.observe(notebookContainer, {childList: true});\n",
       "}}\n",
       "\n",
       "// Listen for the clearing of the current output cell\n",
       "var outputEl = gd.closest('.output');\n",
       "if (outputEl) {{\n",
       "    x.observe(outputEl, {childList: true});\n",
       "}}\n",
       "\n",
       "                        })                };                });            </script>        </div>"
      ]
     },
     "metadata": {},
     "output_type": "display_data"
    },
    {
     "name": "stdout",
     "output_type": "stream",
     "text": [
      "Category:  Category\n",
      "P-value:  0.022\n",
      "H0 rejected \n",
      "\n"
     ]
    },
    {
     "data": {
      "application/vnd.plotly.v1+json": {
       "config": {
        "plotlyServerURL": "https://plot.ly"
       },
       "data": [
        {
         "alignmentgroup": "True",
         "bingroup": "x",
         "hovertemplate": "Mortality=Died<br>Category=%{x}<br>count=%{y}<extra></extra>",
         "legendgroup": "Died",
         "marker": {
          "color": "deeppink",
          "pattern": {
           "shape": ""
          }
         },
         "name": "Died",
         "offsetgroup": "Died",
         "orientation": "v",
         "showlegend": true,
         "type": "histogram",
         "x": [
          "FREE",
          "FREE",
          "FREE",
          "FREE",
          "FREE",
          "PAID",
          "FREE",
          "FREE",
          "FREE",
          "FREE",
          "FREE",
          "FREE",
          "FREE",
          "FREE",
          "FREE",
          "PAID",
          "FREE",
          "FREE",
          "FREE",
          "PAID",
          "FREE",
          "FREE",
          "FREE",
          "FREE",
          "FREE",
          "FREE",
          "FREE",
          "FREE",
          "FREE",
          "FREE",
          "FREE",
          "FREE",
          "FREE",
          "FREE",
          "FREE",
          "PAID",
          "FREE",
          "FREE",
          "FREE",
          "FREE",
          "FREE",
          "FREE",
          "FREE",
          "FREE",
          "FREE",
          "FREE",
          "FREE",
          "PAID",
          "FREE",
          "FREE",
          "FREE",
          "FREE",
          "FREE",
          "FREE",
          "FREE",
          "FREE",
          "FREE",
          "FREE",
          "FREE",
          "FREE",
          "FREE",
          "FREE",
          "FREE",
          "FREE",
          "FREE",
          "FREE",
          "FREE",
          "FREE",
          "FREE",
          "FREE",
          "PAID",
          "FREE",
          "FREE",
          "FREE",
          "FREE",
          "FREE",
          "FREE",
          "FREE",
          "FREE",
          "FREE",
          "FREE",
          "FREE",
          "PAID",
          "FREE",
          "FREE",
          "FREE",
          "FREE",
          "FREE",
          "FREE",
          "FREE",
          "FREE",
          "FREE",
          "FREE",
          "FREE",
          "FREE",
          "FREE",
          "FREE",
          "FREE",
          "FREE",
          "FREE",
          "FREE",
          "FREE",
          "FREE",
          "FREE",
          "FREE",
          "PAID",
          "FREE",
          "FREE",
          "FREE",
          "FREE",
          "FREE",
          "FREE",
          "FREE",
          "FREE",
          "FREE",
          "FREE",
          "FREE",
          "FREE",
          "FREE",
          "FREE",
          "FREE",
          "FREE",
          "FREE",
          "FREE",
          "FREE",
          "FREE",
          "FREE",
          "FREE",
          "PAID",
          "FREE",
          "FREE",
          "FREE",
          "FREE",
          "FREE",
          "FREE",
          "FREE",
          "FREE",
          "FREE",
          "FREE",
          "FREE",
          "PAID",
          "FREE",
          "FREE",
          "FREE",
          "FREE",
          "FREE",
          "FREE",
          "FREE",
          "FREE",
          "FREE",
          "FREE",
          "FREE",
          "FREE",
          "FREE",
          "FREE",
          "PAID",
          "FREE",
          "FREE",
          "FREE",
          "PAID",
          "FREE",
          "FREE",
          "FREE",
          "FREE",
          "FREE",
          "FREE",
          "FREE",
          "FREE",
          "FREE",
          "FREE",
          "FREE",
          "FREE",
          "FREE",
          "FREE",
          "FREE",
          "PAID",
          "FREE",
          "FREE",
          "FREE",
          "FREE",
          "FREE",
          "FREE",
          "FREE",
          "FREE",
          "FREE",
          "FREE",
          "FREE",
          "PAID",
          "FREE",
          "FREE",
          "FREE",
          "FREE",
          "FREE",
          "FREE",
          "FREE",
          "FREE",
          "FREE",
          "FREE",
          "FREE",
          "FREE",
          "FREE",
          "FREE",
          "PAID",
          "FREE",
          "FREE",
          "FREE",
          "PAID",
          "FREE",
          "FREE",
          "FREE",
          "FREE",
          "FREE",
          "PAID",
          "FREE",
          "FREE",
          "FREE",
          "FREE",
          "FREE",
          "FREE",
          "FREE",
          "FREE",
          "FREE",
          "FREE",
          "FREE",
          "PAID",
          "FREE",
          "FREE",
          "FREE",
          "FREE",
          "FREE",
          "FREE",
          "FREE",
          "FREE",
          "FREE",
          "FREE",
          "FREE",
          "FREE",
          "FREE",
          "FREE",
          "PAID",
          "FREE",
          "FREE",
          "PAID",
          "FREE",
          "FREE",
          "FREE",
          "FREE",
          "FREE",
          "FREE",
          "FREE",
          "FREE",
          "FREE",
          "FREE",
          "FREE",
          "PAID",
          "FREE",
          "FREE",
          "FREE",
          "FREE",
          "FREE",
          "FREE",
          "FREE",
          "FREE",
          "FREE",
          "FREE",
          "FREE",
          "FREE",
          "FREE",
          "FREE",
          "PAID",
          "FREE",
          "FREE",
          "FREE",
          "PAID",
          "FREE",
          "FREE",
          "FREE",
          "FREE",
          "FREE",
          "FREE",
          "FREE",
          "FREE",
          "FREE",
          "FREE",
          "FREE",
          "FREE",
          "FREE",
          "FREE"
         ],
         "xaxis": "x",
         "yaxis": "y"
        },
        {
         "alignmentgroup": "True",
         "bingroup": "x",
         "hovertemplate": "Mortality=Alive<br>Category=%{x}<br>count=%{y}<extra></extra>",
         "legendgroup": "Alive",
         "marker": {
          "color": "aqua",
          "pattern": {
           "shape": ""
          }
         },
         "name": "Alive",
         "offsetgroup": "Alive",
         "orientation": "v",
         "showlegend": true,
         "type": "histogram",
         "x": [
          "FREE",
          "FREE",
          "FREE",
          "PAID",
          "FREE",
          "FREE",
          "FREE",
          "FREE",
          "PAID",
          "FREE",
          "FREE",
          "FREE",
          "FREE",
          "FREE",
          "FREE",
          "FREE",
          "FREE",
          "FREE",
          "FREE",
          "FREE",
          "FREE",
          "FREE",
          "FREE",
          "FREE",
          "FREE",
          "FREE",
          "PAID",
          "PAID",
          "FREE",
          "FREE",
          "FREE",
          "FREE",
          "PAID",
          "FREE",
          "FREE",
          "FREE",
          "FREE",
          "FREE",
          "FREE",
          "FREE",
          "FREE",
          "FREE",
          "PAID",
          "PAID",
          "FREE",
          "FREE",
          "FREE",
          "FREE",
          "PAID",
          "FREE",
          "FREE",
          "FREE",
          "FREE",
          "FREE",
          "FREE",
          "FREE",
          "FREE",
          "PAID",
          "PAID",
          "FREE",
          "FREE",
          "FREE",
          "FREE",
          "PAID",
          "PAID",
          "PAID",
          "FREE",
          "FREE",
          "FREE",
          "FREE",
          "PAID",
          "FREE",
          "FREE",
          "FREE",
          "FREE",
          "FREE",
          "FREE",
          "FREE",
          "FREE",
          "FREE"
         ],
         "xaxis": "x",
         "yaxis": "y"
        }
       ],
       "layout": {
        "barmode": "relative",
        "legend": {
         "title": {
          "text": "Mortality"
         },
         "tracegroupgap": 0
        },
        "margin": {
         "t": 60
        },
        "template": {
         "data": {
          "bar": [
           {
            "error_x": {
             "color": "#2a3f5f"
            },
            "error_y": {
             "color": "#2a3f5f"
            },
            "marker": {
             "line": {
              "color": "#E5ECF6",
              "width": 0.5
             },
             "pattern": {
              "fillmode": "overlay",
              "size": 10,
              "solidity": 0.2
             }
            },
            "type": "bar"
           }
          ],
          "barpolar": [
           {
            "marker": {
             "line": {
              "color": "#E5ECF6",
              "width": 0.5
             },
             "pattern": {
              "fillmode": "overlay",
              "size": 10,
              "solidity": 0.2
             }
            },
            "type": "barpolar"
           }
          ],
          "carpet": [
           {
            "aaxis": {
             "endlinecolor": "#2a3f5f",
             "gridcolor": "white",
             "linecolor": "white",
             "minorgridcolor": "white",
             "startlinecolor": "#2a3f5f"
            },
            "baxis": {
             "endlinecolor": "#2a3f5f",
             "gridcolor": "white",
             "linecolor": "white",
             "minorgridcolor": "white",
             "startlinecolor": "#2a3f5f"
            },
            "type": "carpet"
           }
          ],
          "choropleth": [
           {
            "colorbar": {
             "outlinewidth": 0,
             "ticks": ""
            },
            "type": "choropleth"
           }
          ],
          "contour": [
           {
            "colorbar": {
             "outlinewidth": 0,
             "ticks": ""
            },
            "colorscale": [
             [
              0,
              "#0d0887"
             ],
             [
              0.1111111111111111,
              "#46039f"
             ],
             [
              0.2222222222222222,
              "#7201a8"
             ],
             [
              0.3333333333333333,
              "#9c179e"
             ],
             [
              0.4444444444444444,
              "#bd3786"
             ],
             [
              0.5555555555555556,
              "#d8576b"
             ],
             [
              0.6666666666666666,
              "#ed7953"
             ],
             [
              0.7777777777777778,
              "#fb9f3a"
             ],
             [
              0.8888888888888888,
              "#fdca26"
             ],
             [
              1,
              "#f0f921"
             ]
            ],
            "type": "contour"
           }
          ],
          "contourcarpet": [
           {
            "colorbar": {
             "outlinewidth": 0,
             "ticks": ""
            },
            "type": "contourcarpet"
           }
          ],
          "heatmap": [
           {
            "colorbar": {
             "outlinewidth": 0,
             "ticks": ""
            },
            "colorscale": [
             [
              0,
              "#0d0887"
             ],
             [
              0.1111111111111111,
              "#46039f"
             ],
             [
              0.2222222222222222,
              "#7201a8"
             ],
             [
              0.3333333333333333,
              "#9c179e"
             ],
             [
              0.4444444444444444,
              "#bd3786"
             ],
             [
              0.5555555555555556,
              "#d8576b"
             ],
             [
              0.6666666666666666,
              "#ed7953"
             ],
             [
              0.7777777777777778,
              "#fb9f3a"
             ],
             [
              0.8888888888888888,
              "#fdca26"
             ],
             [
              1,
              "#f0f921"
             ]
            ],
            "type": "heatmap"
           }
          ],
          "heatmapgl": [
           {
            "colorbar": {
             "outlinewidth": 0,
             "ticks": ""
            },
            "colorscale": [
             [
              0,
              "#0d0887"
             ],
             [
              0.1111111111111111,
              "#46039f"
             ],
             [
              0.2222222222222222,
              "#7201a8"
             ],
             [
              0.3333333333333333,
              "#9c179e"
             ],
             [
              0.4444444444444444,
              "#bd3786"
             ],
             [
              0.5555555555555556,
              "#d8576b"
             ],
             [
              0.6666666666666666,
              "#ed7953"
             ],
             [
              0.7777777777777778,
              "#fb9f3a"
             ],
             [
              0.8888888888888888,
              "#fdca26"
             ],
             [
              1,
              "#f0f921"
             ]
            ],
            "type": "heatmapgl"
           }
          ],
          "histogram": [
           {
            "marker": {
             "pattern": {
              "fillmode": "overlay",
              "size": 10,
              "solidity": 0.2
             }
            },
            "type": "histogram"
           }
          ],
          "histogram2d": [
           {
            "colorbar": {
             "outlinewidth": 0,
             "ticks": ""
            },
            "colorscale": [
             [
              0,
              "#0d0887"
             ],
             [
              0.1111111111111111,
              "#46039f"
             ],
             [
              0.2222222222222222,
              "#7201a8"
             ],
             [
              0.3333333333333333,
              "#9c179e"
             ],
             [
              0.4444444444444444,
              "#bd3786"
             ],
             [
              0.5555555555555556,
              "#d8576b"
             ],
             [
              0.6666666666666666,
              "#ed7953"
             ],
             [
              0.7777777777777778,
              "#fb9f3a"
             ],
             [
              0.8888888888888888,
              "#fdca26"
             ],
             [
              1,
              "#f0f921"
             ]
            ],
            "type": "histogram2d"
           }
          ],
          "histogram2dcontour": [
           {
            "colorbar": {
             "outlinewidth": 0,
             "ticks": ""
            },
            "colorscale": [
             [
              0,
              "#0d0887"
             ],
             [
              0.1111111111111111,
              "#46039f"
             ],
             [
              0.2222222222222222,
              "#7201a8"
             ],
             [
              0.3333333333333333,
              "#9c179e"
             ],
             [
              0.4444444444444444,
              "#bd3786"
             ],
             [
              0.5555555555555556,
              "#d8576b"
             ],
             [
              0.6666666666666666,
              "#ed7953"
             ],
             [
              0.7777777777777778,
              "#fb9f3a"
             ],
             [
              0.8888888888888888,
              "#fdca26"
             ],
             [
              1,
              "#f0f921"
             ]
            ],
            "type": "histogram2dcontour"
           }
          ],
          "mesh3d": [
           {
            "colorbar": {
             "outlinewidth": 0,
             "ticks": ""
            },
            "type": "mesh3d"
           }
          ],
          "parcoords": [
           {
            "line": {
             "colorbar": {
              "outlinewidth": 0,
              "ticks": ""
             }
            },
            "type": "parcoords"
           }
          ],
          "pie": [
           {
            "automargin": true,
            "type": "pie"
           }
          ],
          "scatter": [
           {
            "fillpattern": {
             "fillmode": "overlay",
             "size": 10,
             "solidity": 0.2
            },
            "type": "scatter"
           }
          ],
          "scatter3d": [
           {
            "line": {
             "colorbar": {
              "outlinewidth": 0,
              "ticks": ""
             }
            },
            "marker": {
             "colorbar": {
              "outlinewidth": 0,
              "ticks": ""
             }
            },
            "type": "scatter3d"
           }
          ],
          "scattercarpet": [
           {
            "marker": {
             "colorbar": {
              "outlinewidth": 0,
              "ticks": ""
             }
            },
            "type": "scattercarpet"
           }
          ],
          "scattergeo": [
           {
            "marker": {
             "colorbar": {
              "outlinewidth": 0,
              "ticks": ""
             }
            },
            "type": "scattergeo"
           }
          ],
          "scattergl": [
           {
            "marker": {
             "colorbar": {
              "outlinewidth": 0,
              "ticks": ""
             }
            },
            "type": "scattergl"
           }
          ],
          "scattermapbox": [
           {
            "marker": {
             "colorbar": {
              "outlinewidth": 0,
              "ticks": ""
             }
            },
            "type": "scattermapbox"
           }
          ],
          "scatterpolar": [
           {
            "marker": {
             "colorbar": {
              "outlinewidth": 0,
              "ticks": ""
             }
            },
            "type": "scatterpolar"
           }
          ],
          "scatterpolargl": [
           {
            "marker": {
             "colorbar": {
              "outlinewidth": 0,
              "ticks": ""
             }
            },
            "type": "scatterpolargl"
           }
          ],
          "scatterternary": [
           {
            "marker": {
             "colorbar": {
              "outlinewidth": 0,
              "ticks": ""
             }
            },
            "type": "scatterternary"
           }
          ],
          "surface": [
           {
            "colorbar": {
             "outlinewidth": 0,
             "ticks": ""
            },
            "colorscale": [
             [
              0,
              "#0d0887"
             ],
             [
              0.1111111111111111,
              "#46039f"
             ],
             [
              0.2222222222222222,
              "#7201a8"
             ],
             [
              0.3333333333333333,
              "#9c179e"
             ],
             [
              0.4444444444444444,
              "#bd3786"
             ],
             [
              0.5555555555555556,
              "#d8576b"
             ],
             [
              0.6666666666666666,
              "#ed7953"
             ],
             [
              0.7777777777777778,
              "#fb9f3a"
             ],
             [
              0.8888888888888888,
              "#fdca26"
             ],
             [
              1,
              "#f0f921"
             ]
            ],
            "type": "surface"
           }
          ],
          "table": [
           {
            "cells": {
             "fill": {
              "color": "#EBF0F8"
             },
             "line": {
              "color": "white"
             }
            },
            "header": {
             "fill": {
              "color": "#C8D4E3"
             },
             "line": {
              "color": "white"
             }
            },
            "type": "table"
           }
          ]
         },
         "layout": {
          "annotationdefaults": {
           "arrowcolor": "#2a3f5f",
           "arrowhead": 0,
           "arrowwidth": 1
          },
          "autotypenumbers": "strict",
          "coloraxis": {
           "colorbar": {
            "outlinewidth": 0,
            "ticks": ""
           }
          },
          "colorscale": {
           "diverging": [
            [
             0,
             "#8e0152"
            ],
            [
             0.1,
             "#c51b7d"
            ],
            [
             0.2,
             "#de77ae"
            ],
            [
             0.3,
             "#f1b6da"
            ],
            [
             0.4,
             "#fde0ef"
            ],
            [
             0.5,
             "#f7f7f7"
            ],
            [
             0.6,
             "#e6f5d0"
            ],
            [
             0.7,
             "#b8e186"
            ],
            [
             0.8,
             "#7fbc41"
            ],
            [
             0.9,
             "#4d9221"
            ],
            [
             1,
             "#276419"
            ]
           ],
           "sequential": [
            [
             0,
             "#0d0887"
            ],
            [
             0.1111111111111111,
             "#46039f"
            ],
            [
             0.2222222222222222,
             "#7201a8"
            ],
            [
             0.3333333333333333,
             "#9c179e"
            ],
            [
             0.4444444444444444,
             "#bd3786"
            ],
            [
             0.5555555555555556,
             "#d8576b"
            ],
            [
             0.6666666666666666,
             "#ed7953"
            ],
            [
             0.7777777777777778,
             "#fb9f3a"
            ],
            [
             0.8888888888888888,
             "#fdca26"
            ],
            [
             1,
             "#f0f921"
            ]
           ],
           "sequentialminus": [
            [
             0,
             "#0d0887"
            ],
            [
             0.1111111111111111,
             "#46039f"
            ],
            [
             0.2222222222222222,
             "#7201a8"
            ],
            [
             0.3333333333333333,
             "#9c179e"
            ],
            [
             0.4444444444444444,
             "#bd3786"
            ],
            [
             0.5555555555555556,
             "#d8576b"
            ],
            [
             0.6666666666666666,
             "#ed7953"
            ],
            [
             0.7777777777777778,
             "#fb9f3a"
            ],
            [
             0.8888888888888888,
             "#fdca26"
            ],
            [
             1,
             "#f0f921"
            ]
           ]
          },
          "colorway": [
           "#636efa",
           "#EF553B",
           "#00cc96",
           "#ab63fa",
           "#FFA15A",
           "#19d3f3",
           "#FF6692",
           "#B6E880",
           "#FF97FF",
           "#FECB52"
          ],
          "font": {
           "color": "#2a3f5f"
          },
          "geo": {
           "bgcolor": "white",
           "lakecolor": "white",
           "landcolor": "#E5ECF6",
           "showlakes": true,
           "showland": true,
           "subunitcolor": "white"
          },
          "hoverlabel": {
           "align": "left"
          },
          "hovermode": "closest",
          "mapbox": {
           "style": "light"
          },
          "paper_bgcolor": "white",
          "plot_bgcolor": "#E5ECF6",
          "polar": {
           "angularaxis": {
            "gridcolor": "white",
            "linecolor": "white",
            "ticks": ""
           },
           "bgcolor": "#E5ECF6",
           "radialaxis": {
            "gridcolor": "white",
            "linecolor": "white",
            "ticks": ""
           }
          },
          "scene": {
           "xaxis": {
            "backgroundcolor": "#E5ECF6",
            "gridcolor": "white",
            "gridwidth": 2,
            "linecolor": "white",
            "showbackground": true,
            "ticks": "",
            "zerolinecolor": "white"
           },
           "yaxis": {
            "backgroundcolor": "#E5ECF6",
            "gridcolor": "white",
            "gridwidth": 2,
            "linecolor": "white",
            "showbackground": true,
            "ticks": "",
            "zerolinecolor": "white"
           },
           "zaxis": {
            "backgroundcolor": "#E5ECF6",
            "gridcolor": "white",
            "gridwidth": 2,
            "linecolor": "white",
            "showbackground": true,
            "ticks": "",
            "zerolinecolor": "white"
           }
          },
          "shapedefaults": {
           "line": {
            "color": "#2a3f5f"
           }
          },
          "ternary": {
           "aaxis": {
            "gridcolor": "white",
            "linecolor": "white",
            "ticks": ""
           },
           "baxis": {
            "gridcolor": "white",
            "linecolor": "white",
            "ticks": ""
           },
           "bgcolor": "#E5ECF6",
           "caxis": {
            "gridcolor": "white",
            "linecolor": "white",
            "ticks": ""
           }
          },
          "title": {
           "x": 0.05
          },
          "xaxis": {
           "automargin": true,
           "gridcolor": "white",
           "linecolor": "white",
           "ticks": "",
           "title": {
            "standoff": 15
           },
           "zerolinecolor": "white",
           "zerolinewidth": 2
          },
          "yaxis": {
           "automargin": true,
           "gridcolor": "white",
           "linecolor": "white",
           "ticks": "",
           "title": {
            "standoff": 15
           },
           "zerolinecolor": "white",
           "zerolinewidth": 2
          }
         }
        },
        "xaxis": {
         "anchor": "y",
         "domain": [
          0,
          1
         ],
         "title": {
          "text": "Category"
         }
        },
        "yaxis": {
         "anchor": "x",
         "domain": [
          0,
          1
         ],
         "title": {
          "text": "count"
         }
        }
       }
      },
      "text/html": [
       "<div>                            <div id=\"6daef8b2-be68-40a8-a751-90e3971c0834\" class=\"plotly-graph-div\" style=\"height:525px; width:100%;\"></div>            <script type=\"text/javascript\">                require([\"plotly\"], function(Plotly) {                    window.PLOTLYENV=window.PLOTLYENV || {};                                    if (document.getElementById(\"6daef8b2-be68-40a8-a751-90e3971c0834\")) {                    Plotly.newPlot(                        \"6daef8b2-be68-40a8-a751-90e3971c0834\",                        [{\"alignmentgroup\":\"True\",\"bingroup\":\"x\",\"hovertemplate\":\"Mortality=Died\\u003cbr\\u003eCategory=%{x}\\u003cbr\\u003ecount=%{y}\\u003cextra\\u003e\\u003c\\u002fextra\\u003e\",\"legendgroup\":\"Died\",\"marker\":{\"color\":\"deeppink\",\"pattern\":{\"shape\":\"\"}},\"name\":\"Died\",\"offsetgroup\":\"Died\",\"orientation\":\"v\",\"showlegend\":true,\"x\":[\"FREE\",\"FREE\",\"FREE\",\"FREE\",\"FREE\",\"PAID\",\"FREE\",\"FREE\",\"FREE\",\"FREE\",\"FREE\",\"FREE\",\"FREE\",\"FREE\",\"FREE\",\"PAID\",\"FREE\",\"FREE\",\"FREE\",\"PAID\",\"FREE\",\"FREE\",\"FREE\",\"FREE\",\"FREE\",\"FREE\",\"FREE\",\"FREE\",\"FREE\",\"FREE\",\"FREE\",\"FREE\",\"FREE\",\"FREE\",\"FREE\",\"PAID\",\"FREE\",\"FREE\",\"FREE\",\"FREE\",\"FREE\",\"FREE\",\"FREE\",\"FREE\",\"FREE\",\"FREE\",\"FREE\",\"PAID\",\"FREE\",\"FREE\",\"FREE\",\"FREE\",\"FREE\",\"FREE\",\"FREE\",\"FREE\",\"FREE\",\"FREE\",\"FREE\",\"FREE\",\"FREE\",\"FREE\",\"FREE\",\"FREE\",\"FREE\",\"FREE\",\"FREE\",\"FREE\",\"FREE\",\"FREE\",\"PAID\",\"FREE\",\"FREE\",\"FREE\",\"FREE\",\"FREE\",\"FREE\",\"FREE\",\"FREE\",\"FREE\",\"FREE\",\"FREE\",\"PAID\",\"FREE\",\"FREE\",\"FREE\",\"FREE\",\"FREE\",\"FREE\",\"FREE\",\"FREE\",\"FREE\",\"FREE\",\"FREE\",\"FREE\",\"FREE\",\"FREE\",\"FREE\",\"FREE\",\"FREE\",\"FREE\",\"FREE\",\"FREE\",\"FREE\",\"FREE\",\"PAID\",\"FREE\",\"FREE\",\"FREE\",\"FREE\",\"FREE\",\"FREE\",\"FREE\",\"FREE\",\"FREE\",\"FREE\",\"FREE\",\"FREE\",\"FREE\",\"FREE\",\"FREE\",\"FREE\",\"FREE\",\"FREE\",\"FREE\",\"FREE\",\"FREE\",\"FREE\",\"PAID\",\"FREE\",\"FREE\",\"FREE\",\"FREE\",\"FREE\",\"FREE\",\"FREE\",\"FREE\",\"FREE\",\"FREE\",\"FREE\",\"PAID\",\"FREE\",\"FREE\",\"FREE\",\"FREE\",\"FREE\",\"FREE\",\"FREE\",\"FREE\",\"FREE\",\"FREE\",\"FREE\",\"FREE\",\"FREE\",\"FREE\",\"PAID\",\"FREE\",\"FREE\",\"FREE\",\"PAID\",\"FREE\",\"FREE\",\"FREE\",\"FREE\",\"FREE\",\"FREE\",\"FREE\",\"FREE\",\"FREE\",\"FREE\",\"FREE\",\"FREE\",\"FREE\",\"FREE\",\"FREE\",\"PAID\",\"FREE\",\"FREE\",\"FREE\",\"FREE\",\"FREE\",\"FREE\",\"FREE\",\"FREE\",\"FREE\",\"FREE\",\"FREE\",\"PAID\",\"FREE\",\"FREE\",\"FREE\",\"FREE\",\"FREE\",\"FREE\",\"FREE\",\"FREE\",\"FREE\",\"FREE\",\"FREE\",\"FREE\",\"FREE\",\"FREE\",\"PAID\",\"FREE\",\"FREE\",\"FREE\",\"PAID\",\"FREE\",\"FREE\",\"FREE\",\"FREE\",\"FREE\",\"PAID\",\"FREE\",\"FREE\",\"FREE\",\"FREE\",\"FREE\",\"FREE\",\"FREE\",\"FREE\",\"FREE\",\"FREE\",\"FREE\",\"PAID\",\"FREE\",\"FREE\",\"FREE\",\"FREE\",\"FREE\",\"FREE\",\"FREE\",\"FREE\",\"FREE\",\"FREE\",\"FREE\",\"FREE\",\"FREE\",\"FREE\",\"PAID\",\"FREE\",\"FREE\",\"PAID\",\"FREE\",\"FREE\",\"FREE\",\"FREE\",\"FREE\",\"FREE\",\"FREE\",\"FREE\",\"FREE\",\"FREE\",\"FREE\",\"PAID\",\"FREE\",\"FREE\",\"FREE\",\"FREE\",\"FREE\",\"FREE\",\"FREE\",\"FREE\",\"FREE\",\"FREE\",\"FREE\",\"FREE\",\"FREE\",\"FREE\",\"PAID\",\"FREE\",\"FREE\",\"FREE\",\"PAID\",\"FREE\",\"FREE\",\"FREE\",\"FREE\",\"FREE\",\"FREE\",\"FREE\",\"FREE\",\"FREE\",\"FREE\",\"FREE\",\"FREE\",\"FREE\",\"FREE\"],\"xaxis\":\"x\",\"yaxis\":\"y\",\"type\":\"histogram\"},{\"alignmentgroup\":\"True\",\"bingroup\":\"x\",\"hovertemplate\":\"Mortality=Alive\\u003cbr\\u003eCategory=%{x}\\u003cbr\\u003ecount=%{y}\\u003cextra\\u003e\\u003c\\u002fextra\\u003e\",\"legendgroup\":\"Alive\",\"marker\":{\"color\":\"aqua\",\"pattern\":{\"shape\":\"\"}},\"name\":\"Alive\",\"offsetgroup\":\"Alive\",\"orientation\":\"v\",\"showlegend\":true,\"x\":[\"FREE\",\"FREE\",\"FREE\",\"PAID\",\"FREE\",\"FREE\",\"FREE\",\"FREE\",\"PAID\",\"FREE\",\"FREE\",\"FREE\",\"FREE\",\"FREE\",\"FREE\",\"FREE\",\"FREE\",\"FREE\",\"FREE\",\"FREE\",\"FREE\",\"FREE\",\"FREE\",\"FREE\",\"FREE\",\"FREE\",\"PAID\",\"PAID\",\"FREE\",\"FREE\",\"FREE\",\"FREE\",\"PAID\",\"FREE\",\"FREE\",\"FREE\",\"FREE\",\"FREE\",\"FREE\",\"FREE\",\"FREE\",\"FREE\",\"PAID\",\"PAID\",\"FREE\",\"FREE\",\"FREE\",\"FREE\",\"PAID\",\"FREE\",\"FREE\",\"FREE\",\"FREE\",\"FREE\",\"FREE\",\"FREE\",\"FREE\",\"PAID\",\"PAID\",\"FREE\",\"FREE\",\"FREE\",\"FREE\",\"PAID\",\"PAID\",\"PAID\",\"FREE\",\"FREE\",\"FREE\",\"FREE\",\"PAID\",\"FREE\",\"FREE\",\"FREE\",\"FREE\",\"FREE\",\"FREE\",\"FREE\",\"FREE\",\"FREE\"],\"xaxis\":\"x\",\"yaxis\":\"y\",\"type\":\"histogram\"}],                        {\"template\":{\"data\":{\"histogram2dcontour\":[{\"type\":\"histogram2dcontour\",\"colorbar\":{\"outlinewidth\":0,\"ticks\":\"\"},\"colorscale\":[[0.0,\"#0d0887\"],[0.1111111111111111,\"#46039f\"],[0.2222222222222222,\"#7201a8\"],[0.3333333333333333,\"#9c179e\"],[0.4444444444444444,\"#bd3786\"],[0.5555555555555556,\"#d8576b\"],[0.6666666666666666,\"#ed7953\"],[0.7777777777777778,\"#fb9f3a\"],[0.8888888888888888,\"#fdca26\"],[1.0,\"#f0f921\"]]}],\"choropleth\":[{\"type\":\"choropleth\",\"colorbar\":{\"outlinewidth\":0,\"ticks\":\"\"}}],\"histogram2d\":[{\"type\":\"histogram2d\",\"colorbar\":{\"outlinewidth\":0,\"ticks\":\"\"},\"colorscale\":[[0.0,\"#0d0887\"],[0.1111111111111111,\"#46039f\"],[0.2222222222222222,\"#7201a8\"],[0.3333333333333333,\"#9c179e\"],[0.4444444444444444,\"#bd3786\"],[0.5555555555555556,\"#d8576b\"],[0.6666666666666666,\"#ed7953\"],[0.7777777777777778,\"#fb9f3a\"],[0.8888888888888888,\"#fdca26\"],[1.0,\"#f0f921\"]]}],\"heatmap\":[{\"type\":\"heatmap\",\"colorbar\":{\"outlinewidth\":0,\"ticks\":\"\"},\"colorscale\":[[0.0,\"#0d0887\"],[0.1111111111111111,\"#46039f\"],[0.2222222222222222,\"#7201a8\"],[0.3333333333333333,\"#9c179e\"],[0.4444444444444444,\"#bd3786\"],[0.5555555555555556,\"#d8576b\"],[0.6666666666666666,\"#ed7953\"],[0.7777777777777778,\"#fb9f3a\"],[0.8888888888888888,\"#fdca26\"],[1.0,\"#f0f921\"]]}],\"heatmapgl\":[{\"type\":\"heatmapgl\",\"colorbar\":{\"outlinewidth\":0,\"ticks\":\"\"},\"colorscale\":[[0.0,\"#0d0887\"],[0.1111111111111111,\"#46039f\"],[0.2222222222222222,\"#7201a8\"],[0.3333333333333333,\"#9c179e\"],[0.4444444444444444,\"#bd3786\"],[0.5555555555555556,\"#d8576b\"],[0.6666666666666666,\"#ed7953\"],[0.7777777777777778,\"#fb9f3a\"],[0.8888888888888888,\"#fdca26\"],[1.0,\"#f0f921\"]]}],\"contourcarpet\":[{\"type\":\"contourcarpet\",\"colorbar\":{\"outlinewidth\":0,\"ticks\":\"\"}}],\"contour\":[{\"type\":\"contour\",\"colorbar\":{\"outlinewidth\":0,\"ticks\":\"\"},\"colorscale\":[[0.0,\"#0d0887\"],[0.1111111111111111,\"#46039f\"],[0.2222222222222222,\"#7201a8\"],[0.3333333333333333,\"#9c179e\"],[0.4444444444444444,\"#bd3786\"],[0.5555555555555556,\"#d8576b\"],[0.6666666666666666,\"#ed7953\"],[0.7777777777777778,\"#fb9f3a\"],[0.8888888888888888,\"#fdca26\"],[1.0,\"#f0f921\"]]}],\"surface\":[{\"type\":\"surface\",\"colorbar\":{\"outlinewidth\":0,\"ticks\":\"\"},\"colorscale\":[[0.0,\"#0d0887\"],[0.1111111111111111,\"#46039f\"],[0.2222222222222222,\"#7201a8\"],[0.3333333333333333,\"#9c179e\"],[0.4444444444444444,\"#bd3786\"],[0.5555555555555556,\"#d8576b\"],[0.6666666666666666,\"#ed7953\"],[0.7777777777777778,\"#fb9f3a\"],[0.8888888888888888,\"#fdca26\"],[1.0,\"#f0f921\"]]}],\"mesh3d\":[{\"type\":\"mesh3d\",\"colorbar\":{\"outlinewidth\":0,\"ticks\":\"\"}}],\"scatter\":[{\"fillpattern\":{\"fillmode\":\"overlay\",\"size\":10,\"solidity\":0.2},\"type\":\"scatter\"}],\"parcoords\":[{\"type\":\"parcoords\",\"line\":{\"colorbar\":{\"outlinewidth\":0,\"ticks\":\"\"}}}],\"scatterpolargl\":[{\"type\":\"scatterpolargl\",\"marker\":{\"colorbar\":{\"outlinewidth\":0,\"ticks\":\"\"}}}],\"bar\":[{\"error_x\":{\"color\":\"#2a3f5f\"},\"error_y\":{\"color\":\"#2a3f5f\"},\"marker\":{\"line\":{\"color\":\"#E5ECF6\",\"width\":0.5},\"pattern\":{\"fillmode\":\"overlay\",\"size\":10,\"solidity\":0.2}},\"type\":\"bar\"}],\"scattergeo\":[{\"type\":\"scattergeo\",\"marker\":{\"colorbar\":{\"outlinewidth\":0,\"ticks\":\"\"}}}],\"scatterpolar\":[{\"type\":\"scatterpolar\",\"marker\":{\"colorbar\":{\"outlinewidth\":0,\"ticks\":\"\"}}}],\"histogram\":[{\"marker\":{\"pattern\":{\"fillmode\":\"overlay\",\"size\":10,\"solidity\":0.2}},\"type\":\"histogram\"}],\"scattergl\":[{\"type\":\"scattergl\",\"marker\":{\"colorbar\":{\"outlinewidth\":0,\"ticks\":\"\"}}}],\"scatter3d\":[{\"type\":\"scatter3d\",\"line\":{\"colorbar\":{\"outlinewidth\":0,\"ticks\":\"\"}},\"marker\":{\"colorbar\":{\"outlinewidth\":0,\"ticks\":\"\"}}}],\"scattermapbox\":[{\"type\":\"scattermapbox\",\"marker\":{\"colorbar\":{\"outlinewidth\":0,\"ticks\":\"\"}}}],\"scatterternary\":[{\"type\":\"scatterternary\",\"marker\":{\"colorbar\":{\"outlinewidth\":0,\"ticks\":\"\"}}}],\"scattercarpet\":[{\"type\":\"scattercarpet\",\"marker\":{\"colorbar\":{\"outlinewidth\":0,\"ticks\":\"\"}}}],\"carpet\":[{\"aaxis\":{\"endlinecolor\":\"#2a3f5f\",\"gridcolor\":\"white\",\"linecolor\":\"white\",\"minorgridcolor\":\"white\",\"startlinecolor\":\"#2a3f5f\"},\"baxis\":{\"endlinecolor\":\"#2a3f5f\",\"gridcolor\":\"white\",\"linecolor\":\"white\",\"minorgridcolor\":\"white\",\"startlinecolor\":\"#2a3f5f\"},\"type\":\"carpet\"}],\"table\":[{\"cells\":{\"fill\":{\"color\":\"#EBF0F8\"},\"line\":{\"color\":\"white\"}},\"header\":{\"fill\":{\"color\":\"#C8D4E3\"},\"line\":{\"color\":\"white\"}},\"type\":\"table\"}],\"barpolar\":[{\"marker\":{\"line\":{\"color\":\"#E5ECF6\",\"width\":0.5},\"pattern\":{\"fillmode\":\"overlay\",\"size\":10,\"solidity\":0.2}},\"type\":\"barpolar\"}],\"pie\":[{\"automargin\":true,\"type\":\"pie\"}]},\"layout\":{\"autotypenumbers\":\"strict\",\"colorway\":[\"#636efa\",\"#EF553B\",\"#00cc96\",\"#ab63fa\",\"#FFA15A\",\"#19d3f3\",\"#FF6692\",\"#B6E880\",\"#FF97FF\",\"#FECB52\"],\"font\":{\"color\":\"#2a3f5f\"},\"hovermode\":\"closest\",\"hoverlabel\":{\"align\":\"left\"},\"paper_bgcolor\":\"white\",\"plot_bgcolor\":\"#E5ECF6\",\"polar\":{\"bgcolor\":\"#E5ECF6\",\"angularaxis\":{\"gridcolor\":\"white\",\"linecolor\":\"white\",\"ticks\":\"\"},\"radialaxis\":{\"gridcolor\":\"white\",\"linecolor\":\"white\",\"ticks\":\"\"}},\"ternary\":{\"bgcolor\":\"#E5ECF6\",\"aaxis\":{\"gridcolor\":\"white\",\"linecolor\":\"white\",\"ticks\":\"\"},\"baxis\":{\"gridcolor\":\"white\",\"linecolor\":\"white\",\"ticks\":\"\"},\"caxis\":{\"gridcolor\":\"white\",\"linecolor\":\"white\",\"ticks\":\"\"}},\"coloraxis\":{\"colorbar\":{\"outlinewidth\":0,\"ticks\":\"\"}},\"colorscale\":{\"sequential\":[[0.0,\"#0d0887\"],[0.1111111111111111,\"#46039f\"],[0.2222222222222222,\"#7201a8\"],[0.3333333333333333,\"#9c179e\"],[0.4444444444444444,\"#bd3786\"],[0.5555555555555556,\"#d8576b\"],[0.6666666666666666,\"#ed7953\"],[0.7777777777777778,\"#fb9f3a\"],[0.8888888888888888,\"#fdca26\"],[1.0,\"#f0f921\"]],\"sequentialminus\":[[0.0,\"#0d0887\"],[0.1111111111111111,\"#46039f\"],[0.2222222222222222,\"#7201a8\"],[0.3333333333333333,\"#9c179e\"],[0.4444444444444444,\"#bd3786\"],[0.5555555555555556,\"#d8576b\"],[0.6666666666666666,\"#ed7953\"],[0.7777777777777778,\"#fb9f3a\"],[0.8888888888888888,\"#fdca26\"],[1.0,\"#f0f921\"]],\"diverging\":[[0,\"#8e0152\"],[0.1,\"#c51b7d\"],[0.2,\"#de77ae\"],[0.3,\"#f1b6da\"],[0.4,\"#fde0ef\"],[0.5,\"#f7f7f7\"],[0.6,\"#e6f5d0\"],[0.7,\"#b8e186\"],[0.8,\"#7fbc41\"],[0.9,\"#4d9221\"],[1,\"#276419\"]]},\"xaxis\":{\"gridcolor\":\"white\",\"linecolor\":\"white\",\"ticks\":\"\",\"title\":{\"standoff\":15},\"zerolinecolor\":\"white\",\"automargin\":true,\"zerolinewidth\":2},\"yaxis\":{\"gridcolor\":\"white\",\"linecolor\":\"white\",\"ticks\":\"\",\"title\":{\"standoff\":15},\"zerolinecolor\":\"white\",\"automargin\":true,\"zerolinewidth\":2},\"scene\":{\"xaxis\":{\"backgroundcolor\":\"#E5ECF6\",\"gridcolor\":\"white\",\"linecolor\":\"white\",\"showbackground\":true,\"ticks\":\"\",\"zerolinecolor\":\"white\",\"gridwidth\":2},\"yaxis\":{\"backgroundcolor\":\"#E5ECF6\",\"gridcolor\":\"white\",\"linecolor\":\"white\",\"showbackground\":true,\"ticks\":\"\",\"zerolinecolor\":\"white\",\"gridwidth\":2},\"zaxis\":{\"backgroundcolor\":\"#E5ECF6\",\"gridcolor\":\"white\",\"linecolor\":\"white\",\"showbackground\":true,\"ticks\":\"\",\"zerolinecolor\":\"white\",\"gridwidth\":2}},\"shapedefaults\":{\"line\":{\"color\":\"#2a3f5f\"}},\"annotationdefaults\":{\"arrowcolor\":\"#2a3f5f\",\"arrowhead\":0,\"arrowwidth\":1},\"geo\":{\"bgcolor\":\"white\",\"landcolor\":\"#E5ECF6\",\"subunitcolor\":\"white\",\"showland\":true,\"showlakes\":true,\"lakecolor\":\"white\"},\"title\":{\"x\":0.05},\"mapbox\":{\"style\":\"light\"}}},\"xaxis\":{\"anchor\":\"y\",\"domain\":[0.0,1.0],\"title\":{\"text\":\"Category\"}},\"yaxis\":{\"anchor\":\"x\",\"domain\":[0.0,1.0],\"title\":{\"text\":\"count\"}},\"legend\":{\"title\":{\"text\":\"Mortality\"},\"tracegroupgap\":0},\"margin\":{\"t\":60},\"barmode\":\"relative\"},                        {\"responsive\": true}                    ).then(function(){\n",
       "                            \n",
       "var gd = document.getElementById('6daef8b2-be68-40a8-a751-90e3971c0834');\n",
       "var x = new MutationObserver(function (mutations, observer) {{\n",
       "        var display = window.getComputedStyle(gd).display;\n",
       "        if (!display || display === 'none') {{\n",
       "            console.log([gd, 'removed!']);\n",
       "            Plotly.purge(gd);\n",
       "            observer.disconnect();\n",
       "        }}\n",
       "}});\n",
       "\n",
       "// Listen for the removal of the full notebook cells\n",
       "var notebookContainer = gd.closest('#notebook-container');\n",
       "if (notebookContainer) {{\n",
       "    x.observe(notebookContainer, {childList: true});\n",
       "}}\n",
       "\n",
       "// Listen for the clearing of the current output cell\n",
       "var outputEl = gd.closest('.output');\n",
       "if (outputEl) {{\n",
       "    x.observe(outputEl, {childList: true});\n",
       "}}\n",
       "\n",
       "                        })                };                });            </script>        </div>"
      ]
     },
     "metadata": {},
     "output_type": "display_data"
    },
    {
     "name": "stdout",
     "output_type": "stream",
     "text": [
      "Category:  Smoking\n",
      "P-value:  0.003\n",
      "H0 rejected \n",
      "\n"
     ]
    },
    {
     "data": {
      "application/vnd.plotly.v1+json": {
       "config": {
        "plotlyServerURL": "https://plot.ly"
       },
       "data": [
        {
         "alignmentgroup": "True",
         "bingroup": "x",
         "hovertemplate": "Mortality=Died<br>Smoking=%{x}<br>count=%{y}<extra></extra>",
         "legendgroup": "Died",
         "marker": {
          "color": "deeppink",
          "pattern": {
           "shape": ""
          }
         },
         "name": "Died",
         "offsetgroup": "Died",
         "orientation": "v",
         "showlegend": true,
         "type": "histogram",
         "x": [
          "NO",
          "NO",
          "NO",
          "NO",
          "NO",
          "NO",
          "NO",
          "NO",
          "NO",
          "NO",
          "NO",
          "NO",
          "NO",
          "NO",
          "NO",
          "NO",
          "NO",
          "YES",
          "NO",
          "YES",
          "YES",
          "YES",
          "YES",
          "YES",
          "YES",
          "YES",
          "YES",
          "YES",
          "NO",
          "NO",
          "YES",
          "NO",
          "YES",
          "YES",
          "NO",
          "YES",
          "YES",
          "NO",
          "YES",
          "YES",
          "YES",
          "NO",
          "NO",
          "YES",
          "NO",
          "YES",
          "YES",
          "YES",
          "NO",
          "NO",
          "YES",
          "YES",
          "YES",
          "YES",
          "YES",
          "YES",
          "NO",
          "YES",
          "YES",
          "YES",
          "YES",
          "YES",
          "YES",
          "NO",
          "NO",
          "YES",
          "NO",
          "YES",
          "YES",
          "NO",
          "YES",
          "YES",
          "NO",
          "YES",
          "YES",
          "YES",
          "NO",
          "NO",
          "YES",
          "NO",
          "YES",
          "YES",
          "YES",
          "NO",
          "NO",
          "YES",
          "YES",
          "YES",
          "YES",
          "YES",
          "YES",
          "NO",
          "YES",
          "YES",
          "YES",
          "YES",
          "YES",
          "YES",
          "NO",
          "NO",
          "YES",
          "NO",
          "YES",
          "YES",
          "NO",
          "YES",
          "YES",
          "NO",
          "YES",
          "YES",
          "YES",
          "NO",
          "YES",
          "YES",
          "YES",
          "YES",
          "YES",
          "YES",
          "NO",
          "NO",
          "YES",
          "NO",
          "YES",
          "YES",
          "NO",
          "YES",
          "YES",
          "NO",
          "YES",
          "YES",
          "NO",
          "YES",
          "YES",
          "YES",
          "NO",
          "NO",
          "YES",
          "NO",
          "YES",
          "YES",
          "YES",
          "NO",
          "NO",
          "YES",
          "YES",
          "YES",
          "YES",
          "YES",
          "NO",
          "NO",
          "NO",
          "NO",
          "NO",
          "NO",
          "NO",
          "NO",
          "NO",
          "YES",
          "NO",
          "YES",
          "YES",
          "YES",
          "YES",
          "YES",
          "YES",
          "YES",
          "YES",
          "YES",
          "NO",
          "NO",
          "YES",
          "NO",
          "YES",
          "YES",
          "NO",
          "YES",
          "YES",
          "NO",
          "YES",
          "YES",
          "YES",
          "NO",
          "NO",
          "YES",
          "NO",
          "YES",
          "YES",
          "YES",
          "NO",
          "NO",
          "YES",
          "YES",
          "YES",
          "YES",
          "YES",
          "NO",
          "NO",
          "NO",
          "NO",
          "NO",
          "NO",
          "NO",
          "NO",
          "NO",
          "YES",
          "NO",
          "YES",
          "YES",
          "YES",
          "YES",
          "YES",
          "NO",
          "YES",
          "YES",
          "NO",
          "YES",
          "YES",
          "YES",
          "NO",
          "NO",
          "YES",
          "NO",
          "YES",
          "YES",
          "YES",
          "NO",
          "NO",
          "YES",
          "YES",
          "YES",
          "YES",
          "YES",
          "NO",
          "NO",
          "NO",
          "NO",
          "NO",
          "NO",
          "NO",
          "NO",
          "NO",
          "NO",
          "YES",
          "YES",
          "NO",
          "YES",
          "YES",
          "YES",
          "NO",
          "NO",
          "YES",
          "NO",
          "YES",
          "YES",
          "YES",
          "NO",
          "NO",
          "YES",
          "YES",
          "YES",
          "YES",
          "YES",
          "NO",
          "NO",
          "NO",
          "NO",
          "NO",
          "NO",
          "NO",
          "NO",
          "NO",
          "YES",
          "NO",
          "YES",
          "YES",
          "YES",
          "YES",
          "YES",
          "YES",
          "YES",
          "YES",
          "YES",
          "NO",
          "NO",
          "YES",
          "NO",
          "YES",
          "YES"
         ],
         "xaxis": "x",
         "yaxis": "y"
        },
        {
         "alignmentgroup": "True",
         "bingroup": "x",
         "hovertemplate": "Mortality=Alive<br>Smoking=%{x}<br>count=%{y}<extra></extra>",
         "legendgroup": "Alive",
         "marker": {
          "color": "aqua",
          "pattern": {
           "shape": ""
          }
         },
         "name": "Alive",
         "offsetgroup": "Alive",
         "orientation": "v",
         "showlegend": true,
         "type": "histogram",
         "x": [
          "NO",
          "NO",
          "NO",
          "NO",
          "NO",
          "NO",
          "NO",
          "NO",
          "NO",
          "YES",
          "YES",
          "NO",
          "NO",
          "YES",
          "YES",
          "YES",
          "NO",
          "YES",
          "NO",
          "YES",
          "YES",
          "NO",
          "YES",
          "NO",
          "NO",
          "NO",
          "YES",
          "NO",
          "NO",
          "NO",
          "NO",
          "NO",
          "NO",
          "YES",
          "YES",
          "NO",
          "NO",
          "YES",
          "YES",
          "YES",
          "NO",
          "YES",
          "YES",
          "NO",
          "NO",
          "NO",
          "NO",
          "NO",
          "NO",
          "YES",
          "YES",
          "NO",
          "NO",
          "YES",
          "YES",
          "YES",
          "NO",
          "YES",
          "NO",
          "NO",
          "NO",
          "NO",
          "NO",
          "NO",
          "YES",
          "NO",
          "NO",
          "NO",
          "NO",
          "NO",
          "NO",
          "YES",
          "YES",
          "NO",
          "NO",
          "YES",
          "YES",
          "YES",
          "NO",
          "YES"
         ],
         "xaxis": "x",
         "yaxis": "y"
        }
       ],
       "layout": {
        "barmode": "relative",
        "legend": {
         "title": {
          "text": "Mortality"
         },
         "tracegroupgap": 0
        },
        "margin": {
         "t": 60
        },
        "template": {
         "data": {
          "bar": [
           {
            "error_x": {
             "color": "#2a3f5f"
            },
            "error_y": {
             "color": "#2a3f5f"
            },
            "marker": {
             "line": {
              "color": "#E5ECF6",
              "width": 0.5
             },
             "pattern": {
              "fillmode": "overlay",
              "size": 10,
              "solidity": 0.2
             }
            },
            "type": "bar"
           }
          ],
          "barpolar": [
           {
            "marker": {
             "line": {
              "color": "#E5ECF6",
              "width": 0.5
             },
             "pattern": {
              "fillmode": "overlay",
              "size": 10,
              "solidity": 0.2
             }
            },
            "type": "barpolar"
           }
          ],
          "carpet": [
           {
            "aaxis": {
             "endlinecolor": "#2a3f5f",
             "gridcolor": "white",
             "linecolor": "white",
             "minorgridcolor": "white",
             "startlinecolor": "#2a3f5f"
            },
            "baxis": {
             "endlinecolor": "#2a3f5f",
             "gridcolor": "white",
             "linecolor": "white",
             "minorgridcolor": "white",
             "startlinecolor": "#2a3f5f"
            },
            "type": "carpet"
           }
          ],
          "choropleth": [
           {
            "colorbar": {
             "outlinewidth": 0,
             "ticks": ""
            },
            "type": "choropleth"
           }
          ],
          "contour": [
           {
            "colorbar": {
             "outlinewidth": 0,
             "ticks": ""
            },
            "colorscale": [
             [
              0,
              "#0d0887"
             ],
             [
              0.1111111111111111,
              "#46039f"
             ],
             [
              0.2222222222222222,
              "#7201a8"
             ],
             [
              0.3333333333333333,
              "#9c179e"
             ],
             [
              0.4444444444444444,
              "#bd3786"
             ],
             [
              0.5555555555555556,
              "#d8576b"
             ],
             [
              0.6666666666666666,
              "#ed7953"
             ],
             [
              0.7777777777777778,
              "#fb9f3a"
             ],
             [
              0.8888888888888888,
              "#fdca26"
             ],
             [
              1,
              "#f0f921"
             ]
            ],
            "type": "contour"
           }
          ],
          "contourcarpet": [
           {
            "colorbar": {
             "outlinewidth": 0,
             "ticks": ""
            },
            "type": "contourcarpet"
           }
          ],
          "heatmap": [
           {
            "colorbar": {
             "outlinewidth": 0,
             "ticks": ""
            },
            "colorscale": [
             [
              0,
              "#0d0887"
             ],
             [
              0.1111111111111111,
              "#46039f"
             ],
             [
              0.2222222222222222,
              "#7201a8"
             ],
             [
              0.3333333333333333,
              "#9c179e"
             ],
             [
              0.4444444444444444,
              "#bd3786"
             ],
             [
              0.5555555555555556,
              "#d8576b"
             ],
             [
              0.6666666666666666,
              "#ed7953"
             ],
             [
              0.7777777777777778,
              "#fb9f3a"
             ],
             [
              0.8888888888888888,
              "#fdca26"
             ],
             [
              1,
              "#f0f921"
             ]
            ],
            "type": "heatmap"
           }
          ],
          "heatmapgl": [
           {
            "colorbar": {
             "outlinewidth": 0,
             "ticks": ""
            },
            "colorscale": [
             [
              0,
              "#0d0887"
             ],
             [
              0.1111111111111111,
              "#46039f"
             ],
             [
              0.2222222222222222,
              "#7201a8"
             ],
             [
              0.3333333333333333,
              "#9c179e"
             ],
             [
              0.4444444444444444,
              "#bd3786"
             ],
             [
              0.5555555555555556,
              "#d8576b"
             ],
             [
              0.6666666666666666,
              "#ed7953"
             ],
             [
              0.7777777777777778,
              "#fb9f3a"
             ],
             [
              0.8888888888888888,
              "#fdca26"
             ],
             [
              1,
              "#f0f921"
             ]
            ],
            "type": "heatmapgl"
           }
          ],
          "histogram": [
           {
            "marker": {
             "pattern": {
              "fillmode": "overlay",
              "size": 10,
              "solidity": 0.2
             }
            },
            "type": "histogram"
           }
          ],
          "histogram2d": [
           {
            "colorbar": {
             "outlinewidth": 0,
             "ticks": ""
            },
            "colorscale": [
             [
              0,
              "#0d0887"
             ],
             [
              0.1111111111111111,
              "#46039f"
             ],
             [
              0.2222222222222222,
              "#7201a8"
             ],
             [
              0.3333333333333333,
              "#9c179e"
             ],
             [
              0.4444444444444444,
              "#bd3786"
             ],
             [
              0.5555555555555556,
              "#d8576b"
             ],
             [
              0.6666666666666666,
              "#ed7953"
             ],
             [
              0.7777777777777778,
              "#fb9f3a"
             ],
             [
              0.8888888888888888,
              "#fdca26"
             ],
             [
              1,
              "#f0f921"
             ]
            ],
            "type": "histogram2d"
           }
          ],
          "histogram2dcontour": [
           {
            "colorbar": {
             "outlinewidth": 0,
             "ticks": ""
            },
            "colorscale": [
             [
              0,
              "#0d0887"
             ],
             [
              0.1111111111111111,
              "#46039f"
             ],
             [
              0.2222222222222222,
              "#7201a8"
             ],
             [
              0.3333333333333333,
              "#9c179e"
             ],
             [
              0.4444444444444444,
              "#bd3786"
             ],
             [
              0.5555555555555556,
              "#d8576b"
             ],
             [
              0.6666666666666666,
              "#ed7953"
             ],
             [
              0.7777777777777778,
              "#fb9f3a"
             ],
             [
              0.8888888888888888,
              "#fdca26"
             ],
             [
              1,
              "#f0f921"
             ]
            ],
            "type": "histogram2dcontour"
           }
          ],
          "mesh3d": [
           {
            "colorbar": {
             "outlinewidth": 0,
             "ticks": ""
            },
            "type": "mesh3d"
           }
          ],
          "parcoords": [
           {
            "line": {
             "colorbar": {
              "outlinewidth": 0,
              "ticks": ""
             }
            },
            "type": "parcoords"
           }
          ],
          "pie": [
           {
            "automargin": true,
            "type": "pie"
           }
          ],
          "scatter": [
           {
            "fillpattern": {
             "fillmode": "overlay",
             "size": 10,
             "solidity": 0.2
            },
            "type": "scatter"
           }
          ],
          "scatter3d": [
           {
            "line": {
             "colorbar": {
              "outlinewidth": 0,
              "ticks": ""
             }
            },
            "marker": {
             "colorbar": {
              "outlinewidth": 0,
              "ticks": ""
             }
            },
            "type": "scatter3d"
           }
          ],
          "scattercarpet": [
           {
            "marker": {
             "colorbar": {
              "outlinewidth": 0,
              "ticks": ""
             }
            },
            "type": "scattercarpet"
           }
          ],
          "scattergeo": [
           {
            "marker": {
             "colorbar": {
              "outlinewidth": 0,
              "ticks": ""
             }
            },
            "type": "scattergeo"
           }
          ],
          "scattergl": [
           {
            "marker": {
             "colorbar": {
              "outlinewidth": 0,
              "ticks": ""
             }
            },
            "type": "scattergl"
           }
          ],
          "scattermapbox": [
           {
            "marker": {
             "colorbar": {
              "outlinewidth": 0,
              "ticks": ""
             }
            },
            "type": "scattermapbox"
           }
          ],
          "scatterpolar": [
           {
            "marker": {
             "colorbar": {
              "outlinewidth": 0,
              "ticks": ""
             }
            },
            "type": "scatterpolar"
           }
          ],
          "scatterpolargl": [
           {
            "marker": {
             "colorbar": {
              "outlinewidth": 0,
              "ticks": ""
             }
            },
            "type": "scatterpolargl"
           }
          ],
          "scatterternary": [
           {
            "marker": {
             "colorbar": {
              "outlinewidth": 0,
              "ticks": ""
             }
            },
            "type": "scatterternary"
           }
          ],
          "surface": [
           {
            "colorbar": {
             "outlinewidth": 0,
             "ticks": ""
            },
            "colorscale": [
             [
              0,
              "#0d0887"
             ],
             [
              0.1111111111111111,
              "#46039f"
             ],
             [
              0.2222222222222222,
              "#7201a8"
             ],
             [
              0.3333333333333333,
              "#9c179e"
             ],
             [
              0.4444444444444444,
              "#bd3786"
             ],
             [
              0.5555555555555556,
              "#d8576b"
             ],
             [
              0.6666666666666666,
              "#ed7953"
             ],
             [
              0.7777777777777778,
              "#fb9f3a"
             ],
             [
              0.8888888888888888,
              "#fdca26"
             ],
             [
              1,
              "#f0f921"
             ]
            ],
            "type": "surface"
           }
          ],
          "table": [
           {
            "cells": {
             "fill": {
              "color": "#EBF0F8"
             },
             "line": {
              "color": "white"
             }
            },
            "header": {
             "fill": {
              "color": "#C8D4E3"
             },
             "line": {
              "color": "white"
             }
            },
            "type": "table"
           }
          ]
         },
         "layout": {
          "annotationdefaults": {
           "arrowcolor": "#2a3f5f",
           "arrowhead": 0,
           "arrowwidth": 1
          },
          "autotypenumbers": "strict",
          "coloraxis": {
           "colorbar": {
            "outlinewidth": 0,
            "ticks": ""
           }
          },
          "colorscale": {
           "diverging": [
            [
             0,
             "#8e0152"
            ],
            [
             0.1,
             "#c51b7d"
            ],
            [
             0.2,
             "#de77ae"
            ],
            [
             0.3,
             "#f1b6da"
            ],
            [
             0.4,
             "#fde0ef"
            ],
            [
             0.5,
             "#f7f7f7"
            ],
            [
             0.6,
             "#e6f5d0"
            ],
            [
             0.7,
             "#b8e186"
            ],
            [
             0.8,
             "#7fbc41"
            ],
            [
             0.9,
             "#4d9221"
            ],
            [
             1,
             "#276419"
            ]
           ],
           "sequential": [
            [
             0,
             "#0d0887"
            ],
            [
             0.1111111111111111,
             "#46039f"
            ],
            [
             0.2222222222222222,
             "#7201a8"
            ],
            [
             0.3333333333333333,
             "#9c179e"
            ],
            [
             0.4444444444444444,
             "#bd3786"
            ],
            [
             0.5555555555555556,
             "#d8576b"
            ],
            [
             0.6666666666666666,
             "#ed7953"
            ],
            [
             0.7777777777777778,
             "#fb9f3a"
            ],
            [
             0.8888888888888888,
             "#fdca26"
            ],
            [
             1,
             "#f0f921"
            ]
           ],
           "sequentialminus": [
            [
             0,
             "#0d0887"
            ],
            [
             0.1111111111111111,
             "#46039f"
            ],
            [
             0.2222222222222222,
             "#7201a8"
            ],
            [
             0.3333333333333333,
             "#9c179e"
            ],
            [
             0.4444444444444444,
             "#bd3786"
            ],
            [
             0.5555555555555556,
             "#d8576b"
            ],
            [
             0.6666666666666666,
             "#ed7953"
            ],
            [
             0.7777777777777778,
             "#fb9f3a"
            ],
            [
             0.8888888888888888,
             "#fdca26"
            ],
            [
             1,
             "#f0f921"
            ]
           ]
          },
          "colorway": [
           "#636efa",
           "#EF553B",
           "#00cc96",
           "#ab63fa",
           "#FFA15A",
           "#19d3f3",
           "#FF6692",
           "#B6E880",
           "#FF97FF",
           "#FECB52"
          ],
          "font": {
           "color": "#2a3f5f"
          },
          "geo": {
           "bgcolor": "white",
           "lakecolor": "white",
           "landcolor": "#E5ECF6",
           "showlakes": true,
           "showland": true,
           "subunitcolor": "white"
          },
          "hoverlabel": {
           "align": "left"
          },
          "hovermode": "closest",
          "mapbox": {
           "style": "light"
          },
          "paper_bgcolor": "white",
          "plot_bgcolor": "#E5ECF6",
          "polar": {
           "angularaxis": {
            "gridcolor": "white",
            "linecolor": "white",
            "ticks": ""
           },
           "bgcolor": "#E5ECF6",
           "radialaxis": {
            "gridcolor": "white",
            "linecolor": "white",
            "ticks": ""
           }
          },
          "scene": {
           "xaxis": {
            "backgroundcolor": "#E5ECF6",
            "gridcolor": "white",
            "gridwidth": 2,
            "linecolor": "white",
            "showbackground": true,
            "ticks": "",
            "zerolinecolor": "white"
           },
           "yaxis": {
            "backgroundcolor": "#E5ECF6",
            "gridcolor": "white",
            "gridwidth": 2,
            "linecolor": "white",
            "showbackground": true,
            "ticks": "",
            "zerolinecolor": "white"
           },
           "zaxis": {
            "backgroundcolor": "#E5ECF6",
            "gridcolor": "white",
            "gridwidth": 2,
            "linecolor": "white",
            "showbackground": true,
            "ticks": "",
            "zerolinecolor": "white"
           }
          },
          "shapedefaults": {
           "line": {
            "color": "#2a3f5f"
           }
          },
          "ternary": {
           "aaxis": {
            "gridcolor": "white",
            "linecolor": "white",
            "ticks": ""
           },
           "baxis": {
            "gridcolor": "white",
            "linecolor": "white",
            "ticks": ""
           },
           "bgcolor": "#E5ECF6",
           "caxis": {
            "gridcolor": "white",
            "linecolor": "white",
            "ticks": ""
           }
          },
          "title": {
           "x": 0.05
          },
          "xaxis": {
           "automargin": true,
           "gridcolor": "white",
           "linecolor": "white",
           "ticks": "",
           "title": {
            "standoff": 15
           },
           "zerolinecolor": "white",
           "zerolinewidth": 2
          },
          "yaxis": {
           "automargin": true,
           "gridcolor": "white",
           "linecolor": "white",
           "ticks": "",
           "title": {
            "standoff": 15
           },
           "zerolinecolor": "white",
           "zerolinewidth": 2
          }
         }
        },
        "xaxis": {
         "anchor": "y",
         "domain": [
          0,
          1
         ],
         "title": {
          "text": "Smoking"
         }
        },
        "yaxis": {
         "anchor": "x",
         "domain": [
          0,
          1
         ],
         "title": {
          "text": "count"
         }
        }
       }
      },
      "text/html": [
       "<div>                            <div id=\"ef4f3b60-c9ea-4e66-860a-5d2a24fd8bd7\" class=\"plotly-graph-div\" style=\"height:525px; width:100%;\"></div>            <script type=\"text/javascript\">                require([\"plotly\"], function(Plotly) {                    window.PLOTLYENV=window.PLOTLYENV || {};                                    if (document.getElementById(\"ef4f3b60-c9ea-4e66-860a-5d2a24fd8bd7\")) {                    Plotly.newPlot(                        \"ef4f3b60-c9ea-4e66-860a-5d2a24fd8bd7\",                        [{\"alignmentgroup\":\"True\",\"bingroup\":\"x\",\"hovertemplate\":\"Mortality=Died\\u003cbr\\u003eSmoking=%{x}\\u003cbr\\u003ecount=%{y}\\u003cextra\\u003e\\u003c\\u002fextra\\u003e\",\"legendgroup\":\"Died\",\"marker\":{\"color\":\"deeppink\",\"pattern\":{\"shape\":\"\"}},\"name\":\"Died\",\"offsetgroup\":\"Died\",\"orientation\":\"v\",\"showlegend\":true,\"x\":[\"NO\",\"NO\",\"NO\",\"NO\",\"NO\",\"NO\",\"NO\",\"NO\",\"NO\",\"NO\",\"NO\",\"NO\",\"NO\",\"NO\",\"NO\",\"NO\",\"NO\",\"YES\",\"NO\",\"YES\",\"YES\",\"YES\",\"YES\",\"YES\",\"YES\",\"YES\",\"YES\",\"YES\",\"NO\",\"NO\",\"YES\",\"NO\",\"YES\",\"YES\",\"NO\",\"YES\",\"YES\",\"NO\",\"YES\",\"YES\",\"YES\",\"NO\",\"NO\",\"YES\",\"NO\",\"YES\",\"YES\",\"YES\",\"NO\",\"NO\",\"YES\",\"YES\",\"YES\",\"YES\",\"YES\",\"YES\",\"NO\",\"YES\",\"YES\",\"YES\",\"YES\",\"YES\",\"YES\",\"NO\",\"NO\",\"YES\",\"NO\",\"YES\",\"YES\",\"NO\",\"YES\",\"YES\",\"NO\",\"YES\",\"YES\",\"YES\",\"NO\",\"NO\",\"YES\",\"NO\",\"YES\",\"YES\",\"YES\",\"NO\",\"NO\",\"YES\",\"YES\",\"YES\",\"YES\",\"YES\",\"YES\",\"NO\",\"YES\",\"YES\",\"YES\",\"YES\",\"YES\",\"YES\",\"NO\",\"NO\",\"YES\",\"NO\",\"YES\",\"YES\",\"NO\",\"YES\",\"YES\",\"NO\",\"YES\",\"YES\",\"YES\",\"NO\",\"YES\",\"YES\",\"YES\",\"YES\",\"YES\",\"YES\",\"NO\",\"NO\",\"YES\",\"NO\",\"YES\",\"YES\",\"NO\",\"YES\",\"YES\",\"NO\",\"YES\",\"YES\",\"NO\",\"YES\",\"YES\",\"YES\",\"NO\",\"NO\",\"YES\",\"NO\",\"YES\",\"YES\",\"YES\",\"NO\",\"NO\",\"YES\",\"YES\",\"YES\",\"YES\",\"YES\",\"NO\",\"NO\",\"NO\",\"NO\",\"NO\",\"NO\",\"NO\",\"NO\",\"NO\",\"YES\",\"NO\",\"YES\",\"YES\",\"YES\",\"YES\",\"YES\",\"YES\",\"YES\",\"YES\",\"YES\",\"NO\",\"NO\",\"YES\",\"NO\",\"YES\",\"YES\",\"NO\",\"YES\",\"YES\",\"NO\",\"YES\",\"YES\",\"YES\",\"NO\",\"NO\",\"YES\",\"NO\",\"YES\",\"YES\",\"YES\",\"NO\",\"NO\",\"YES\",\"YES\",\"YES\",\"YES\",\"YES\",\"NO\",\"NO\",\"NO\",\"NO\",\"NO\",\"NO\",\"NO\",\"NO\",\"NO\",\"YES\",\"NO\",\"YES\",\"YES\",\"YES\",\"YES\",\"YES\",\"NO\",\"YES\",\"YES\",\"NO\",\"YES\",\"YES\",\"YES\",\"NO\",\"NO\",\"YES\",\"NO\",\"YES\",\"YES\",\"YES\",\"NO\",\"NO\",\"YES\",\"YES\",\"YES\",\"YES\",\"YES\",\"NO\",\"NO\",\"NO\",\"NO\",\"NO\",\"NO\",\"NO\",\"NO\",\"NO\",\"NO\",\"YES\",\"YES\",\"NO\",\"YES\",\"YES\",\"YES\",\"NO\",\"NO\",\"YES\",\"NO\",\"YES\",\"YES\",\"YES\",\"NO\",\"NO\",\"YES\",\"YES\",\"YES\",\"YES\",\"YES\",\"NO\",\"NO\",\"NO\",\"NO\",\"NO\",\"NO\",\"NO\",\"NO\",\"NO\",\"YES\",\"NO\",\"YES\",\"YES\",\"YES\",\"YES\",\"YES\",\"YES\",\"YES\",\"YES\",\"YES\",\"NO\",\"NO\",\"YES\",\"NO\",\"YES\",\"YES\"],\"xaxis\":\"x\",\"yaxis\":\"y\",\"type\":\"histogram\"},{\"alignmentgroup\":\"True\",\"bingroup\":\"x\",\"hovertemplate\":\"Mortality=Alive\\u003cbr\\u003eSmoking=%{x}\\u003cbr\\u003ecount=%{y}\\u003cextra\\u003e\\u003c\\u002fextra\\u003e\",\"legendgroup\":\"Alive\",\"marker\":{\"color\":\"aqua\",\"pattern\":{\"shape\":\"\"}},\"name\":\"Alive\",\"offsetgroup\":\"Alive\",\"orientation\":\"v\",\"showlegend\":true,\"x\":[\"NO\",\"NO\",\"NO\",\"NO\",\"NO\",\"NO\",\"NO\",\"NO\",\"NO\",\"YES\",\"YES\",\"NO\",\"NO\",\"YES\",\"YES\",\"YES\",\"NO\",\"YES\",\"NO\",\"YES\",\"YES\",\"NO\",\"YES\",\"NO\",\"NO\",\"NO\",\"YES\",\"NO\",\"NO\",\"NO\",\"NO\",\"NO\",\"NO\",\"YES\",\"YES\",\"NO\",\"NO\",\"YES\",\"YES\",\"YES\",\"NO\",\"YES\",\"YES\",\"NO\",\"NO\",\"NO\",\"NO\",\"NO\",\"NO\",\"YES\",\"YES\",\"NO\",\"NO\",\"YES\",\"YES\",\"YES\",\"NO\",\"YES\",\"NO\",\"NO\",\"NO\",\"NO\",\"NO\",\"NO\",\"YES\",\"NO\",\"NO\",\"NO\",\"NO\",\"NO\",\"NO\",\"YES\",\"YES\",\"NO\",\"NO\",\"YES\",\"YES\",\"YES\",\"NO\",\"YES\"],\"xaxis\":\"x\",\"yaxis\":\"y\",\"type\":\"histogram\"}],                        {\"template\":{\"data\":{\"histogram2dcontour\":[{\"type\":\"histogram2dcontour\",\"colorbar\":{\"outlinewidth\":0,\"ticks\":\"\"},\"colorscale\":[[0.0,\"#0d0887\"],[0.1111111111111111,\"#46039f\"],[0.2222222222222222,\"#7201a8\"],[0.3333333333333333,\"#9c179e\"],[0.4444444444444444,\"#bd3786\"],[0.5555555555555556,\"#d8576b\"],[0.6666666666666666,\"#ed7953\"],[0.7777777777777778,\"#fb9f3a\"],[0.8888888888888888,\"#fdca26\"],[1.0,\"#f0f921\"]]}],\"choropleth\":[{\"type\":\"choropleth\",\"colorbar\":{\"outlinewidth\":0,\"ticks\":\"\"}}],\"histogram2d\":[{\"type\":\"histogram2d\",\"colorbar\":{\"outlinewidth\":0,\"ticks\":\"\"},\"colorscale\":[[0.0,\"#0d0887\"],[0.1111111111111111,\"#46039f\"],[0.2222222222222222,\"#7201a8\"],[0.3333333333333333,\"#9c179e\"],[0.4444444444444444,\"#bd3786\"],[0.5555555555555556,\"#d8576b\"],[0.6666666666666666,\"#ed7953\"],[0.7777777777777778,\"#fb9f3a\"],[0.8888888888888888,\"#fdca26\"],[1.0,\"#f0f921\"]]}],\"heatmap\":[{\"type\":\"heatmap\",\"colorbar\":{\"outlinewidth\":0,\"ticks\":\"\"},\"colorscale\":[[0.0,\"#0d0887\"],[0.1111111111111111,\"#46039f\"],[0.2222222222222222,\"#7201a8\"],[0.3333333333333333,\"#9c179e\"],[0.4444444444444444,\"#bd3786\"],[0.5555555555555556,\"#d8576b\"],[0.6666666666666666,\"#ed7953\"],[0.7777777777777778,\"#fb9f3a\"],[0.8888888888888888,\"#fdca26\"],[1.0,\"#f0f921\"]]}],\"heatmapgl\":[{\"type\":\"heatmapgl\",\"colorbar\":{\"outlinewidth\":0,\"ticks\":\"\"},\"colorscale\":[[0.0,\"#0d0887\"],[0.1111111111111111,\"#46039f\"],[0.2222222222222222,\"#7201a8\"],[0.3333333333333333,\"#9c179e\"],[0.4444444444444444,\"#bd3786\"],[0.5555555555555556,\"#d8576b\"],[0.6666666666666666,\"#ed7953\"],[0.7777777777777778,\"#fb9f3a\"],[0.8888888888888888,\"#fdca26\"],[1.0,\"#f0f921\"]]}],\"contourcarpet\":[{\"type\":\"contourcarpet\",\"colorbar\":{\"outlinewidth\":0,\"ticks\":\"\"}}],\"contour\":[{\"type\":\"contour\",\"colorbar\":{\"outlinewidth\":0,\"ticks\":\"\"},\"colorscale\":[[0.0,\"#0d0887\"],[0.1111111111111111,\"#46039f\"],[0.2222222222222222,\"#7201a8\"],[0.3333333333333333,\"#9c179e\"],[0.4444444444444444,\"#bd3786\"],[0.5555555555555556,\"#d8576b\"],[0.6666666666666666,\"#ed7953\"],[0.7777777777777778,\"#fb9f3a\"],[0.8888888888888888,\"#fdca26\"],[1.0,\"#f0f921\"]]}],\"surface\":[{\"type\":\"surface\",\"colorbar\":{\"outlinewidth\":0,\"ticks\":\"\"},\"colorscale\":[[0.0,\"#0d0887\"],[0.1111111111111111,\"#46039f\"],[0.2222222222222222,\"#7201a8\"],[0.3333333333333333,\"#9c179e\"],[0.4444444444444444,\"#bd3786\"],[0.5555555555555556,\"#d8576b\"],[0.6666666666666666,\"#ed7953\"],[0.7777777777777778,\"#fb9f3a\"],[0.8888888888888888,\"#fdca26\"],[1.0,\"#f0f921\"]]}],\"mesh3d\":[{\"type\":\"mesh3d\",\"colorbar\":{\"outlinewidth\":0,\"ticks\":\"\"}}],\"scatter\":[{\"fillpattern\":{\"fillmode\":\"overlay\",\"size\":10,\"solidity\":0.2},\"type\":\"scatter\"}],\"parcoords\":[{\"type\":\"parcoords\",\"line\":{\"colorbar\":{\"outlinewidth\":0,\"ticks\":\"\"}}}],\"scatterpolargl\":[{\"type\":\"scatterpolargl\",\"marker\":{\"colorbar\":{\"outlinewidth\":0,\"ticks\":\"\"}}}],\"bar\":[{\"error_x\":{\"color\":\"#2a3f5f\"},\"error_y\":{\"color\":\"#2a3f5f\"},\"marker\":{\"line\":{\"color\":\"#E5ECF6\",\"width\":0.5},\"pattern\":{\"fillmode\":\"overlay\",\"size\":10,\"solidity\":0.2}},\"type\":\"bar\"}],\"scattergeo\":[{\"type\":\"scattergeo\",\"marker\":{\"colorbar\":{\"outlinewidth\":0,\"ticks\":\"\"}}}],\"scatterpolar\":[{\"type\":\"scatterpolar\",\"marker\":{\"colorbar\":{\"outlinewidth\":0,\"ticks\":\"\"}}}],\"histogram\":[{\"marker\":{\"pattern\":{\"fillmode\":\"overlay\",\"size\":10,\"solidity\":0.2}},\"type\":\"histogram\"}],\"scattergl\":[{\"type\":\"scattergl\",\"marker\":{\"colorbar\":{\"outlinewidth\":0,\"ticks\":\"\"}}}],\"scatter3d\":[{\"type\":\"scatter3d\",\"line\":{\"colorbar\":{\"outlinewidth\":0,\"ticks\":\"\"}},\"marker\":{\"colorbar\":{\"outlinewidth\":0,\"ticks\":\"\"}}}],\"scattermapbox\":[{\"type\":\"scattermapbox\",\"marker\":{\"colorbar\":{\"outlinewidth\":0,\"ticks\":\"\"}}}],\"scatterternary\":[{\"type\":\"scatterternary\",\"marker\":{\"colorbar\":{\"outlinewidth\":0,\"ticks\":\"\"}}}],\"scattercarpet\":[{\"type\":\"scattercarpet\",\"marker\":{\"colorbar\":{\"outlinewidth\":0,\"ticks\":\"\"}}}],\"carpet\":[{\"aaxis\":{\"endlinecolor\":\"#2a3f5f\",\"gridcolor\":\"white\",\"linecolor\":\"white\",\"minorgridcolor\":\"white\",\"startlinecolor\":\"#2a3f5f\"},\"baxis\":{\"endlinecolor\":\"#2a3f5f\",\"gridcolor\":\"white\",\"linecolor\":\"white\",\"minorgridcolor\":\"white\",\"startlinecolor\":\"#2a3f5f\"},\"type\":\"carpet\"}],\"table\":[{\"cells\":{\"fill\":{\"color\":\"#EBF0F8\"},\"line\":{\"color\":\"white\"}},\"header\":{\"fill\":{\"color\":\"#C8D4E3\"},\"line\":{\"color\":\"white\"}},\"type\":\"table\"}],\"barpolar\":[{\"marker\":{\"line\":{\"color\":\"#E5ECF6\",\"width\":0.5},\"pattern\":{\"fillmode\":\"overlay\",\"size\":10,\"solidity\":0.2}},\"type\":\"barpolar\"}],\"pie\":[{\"automargin\":true,\"type\":\"pie\"}]},\"layout\":{\"autotypenumbers\":\"strict\",\"colorway\":[\"#636efa\",\"#EF553B\",\"#00cc96\",\"#ab63fa\",\"#FFA15A\",\"#19d3f3\",\"#FF6692\",\"#B6E880\",\"#FF97FF\",\"#FECB52\"],\"font\":{\"color\":\"#2a3f5f\"},\"hovermode\":\"closest\",\"hoverlabel\":{\"align\":\"left\"},\"paper_bgcolor\":\"white\",\"plot_bgcolor\":\"#E5ECF6\",\"polar\":{\"bgcolor\":\"#E5ECF6\",\"angularaxis\":{\"gridcolor\":\"white\",\"linecolor\":\"white\",\"ticks\":\"\"},\"radialaxis\":{\"gridcolor\":\"white\",\"linecolor\":\"white\",\"ticks\":\"\"}},\"ternary\":{\"bgcolor\":\"#E5ECF6\",\"aaxis\":{\"gridcolor\":\"white\",\"linecolor\":\"white\",\"ticks\":\"\"},\"baxis\":{\"gridcolor\":\"white\",\"linecolor\":\"white\",\"ticks\":\"\"},\"caxis\":{\"gridcolor\":\"white\",\"linecolor\":\"white\",\"ticks\":\"\"}},\"coloraxis\":{\"colorbar\":{\"outlinewidth\":0,\"ticks\":\"\"}},\"colorscale\":{\"sequential\":[[0.0,\"#0d0887\"],[0.1111111111111111,\"#46039f\"],[0.2222222222222222,\"#7201a8\"],[0.3333333333333333,\"#9c179e\"],[0.4444444444444444,\"#bd3786\"],[0.5555555555555556,\"#d8576b\"],[0.6666666666666666,\"#ed7953\"],[0.7777777777777778,\"#fb9f3a\"],[0.8888888888888888,\"#fdca26\"],[1.0,\"#f0f921\"]],\"sequentialminus\":[[0.0,\"#0d0887\"],[0.1111111111111111,\"#46039f\"],[0.2222222222222222,\"#7201a8\"],[0.3333333333333333,\"#9c179e\"],[0.4444444444444444,\"#bd3786\"],[0.5555555555555556,\"#d8576b\"],[0.6666666666666666,\"#ed7953\"],[0.7777777777777778,\"#fb9f3a\"],[0.8888888888888888,\"#fdca26\"],[1.0,\"#f0f921\"]],\"diverging\":[[0,\"#8e0152\"],[0.1,\"#c51b7d\"],[0.2,\"#de77ae\"],[0.3,\"#f1b6da\"],[0.4,\"#fde0ef\"],[0.5,\"#f7f7f7\"],[0.6,\"#e6f5d0\"],[0.7,\"#b8e186\"],[0.8,\"#7fbc41\"],[0.9,\"#4d9221\"],[1,\"#276419\"]]},\"xaxis\":{\"gridcolor\":\"white\",\"linecolor\":\"white\",\"ticks\":\"\",\"title\":{\"standoff\":15},\"zerolinecolor\":\"white\",\"automargin\":true,\"zerolinewidth\":2},\"yaxis\":{\"gridcolor\":\"white\",\"linecolor\":\"white\",\"ticks\":\"\",\"title\":{\"standoff\":15},\"zerolinecolor\":\"white\",\"automargin\":true,\"zerolinewidth\":2},\"scene\":{\"xaxis\":{\"backgroundcolor\":\"#E5ECF6\",\"gridcolor\":\"white\",\"linecolor\":\"white\",\"showbackground\":true,\"ticks\":\"\",\"zerolinecolor\":\"white\",\"gridwidth\":2},\"yaxis\":{\"backgroundcolor\":\"#E5ECF6\",\"gridcolor\":\"white\",\"linecolor\":\"white\",\"showbackground\":true,\"ticks\":\"\",\"zerolinecolor\":\"white\",\"gridwidth\":2},\"zaxis\":{\"backgroundcolor\":\"#E5ECF6\",\"gridcolor\":\"white\",\"linecolor\":\"white\",\"showbackground\":true,\"ticks\":\"\",\"zerolinecolor\":\"white\",\"gridwidth\":2}},\"shapedefaults\":{\"line\":{\"color\":\"#2a3f5f\"}},\"annotationdefaults\":{\"arrowcolor\":\"#2a3f5f\",\"arrowhead\":0,\"arrowwidth\":1},\"geo\":{\"bgcolor\":\"white\",\"landcolor\":\"#E5ECF6\",\"subunitcolor\":\"white\",\"showland\":true,\"showlakes\":true,\"lakecolor\":\"white\"},\"title\":{\"x\":0.05},\"mapbox\":{\"style\":\"light\"}}},\"xaxis\":{\"anchor\":\"y\",\"domain\":[0.0,1.0],\"title\":{\"text\":\"Smoking\"}},\"yaxis\":{\"anchor\":\"x\",\"domain\":[0.0,1.0],\"title\":{\"text\":\"count\"}},\"legend\":{\"title\":{\"text\":\"Mortality\"},\"tracegroupgap\":0},\"margin\":{\"t\":60},\"barmode\":\"relative\"},                        {\"responsive\": true}                    ).then(function(){\n",
       "                            \n",
       "var gd = document.getElementById('ef4f3b60-c9ea-4e66-860a-5d2a24fd8bd7');\n",
       "var x = new MutationObserver(function (mutations, observer) {{\n",
       "        var display = window.getComputedStyle(gd).display;\n",
       "        if (!display || display === 'none') {{\n",
       "            console.log([gd, 'removed!']);\n",
       "            Plotly.purge(gd);\n",
       "            observer.disconnect();\n",
       "        }}\n",
       "}});\n",
       "\n",
       "// Listen for the removal of the full notebook cells\n",
       "var notebookContainer = gd.closest('#notebook-container');\n",
       "if (notebookContainer) {{\n",
       "    x.observe(notebookContainer, {childList: true});\n",
       "}}\n",
       "\n",
       "// Listen for the clearing of the current output cell\n",
       "var outputEl = gd.closest('.output');\n",
       "if (outputEl) {{\n",
       "    x.observe(outputEl, {childList: true});\n",
       "}}\n",
       "\n",
       "                        })                };                });            </script>        </div>"
      ]
     },
     "metadata": {},
     "output_type": "display_data"
    },
    {
     "name": "stdout",
     "output_type": "stream",
     "text": [
      "Category:  Family.History\n",
      "P-value:  0.023\n",
      "H0 rejected \n",
      "\n"
     ]
    },
    {
     "data": {
      "application/vnd.plotly.v1+json": {
       "config": {
        "plotlyServerURL": "https://plot.ly"
       },
       "data": [
        {
         "alignmentgroup": "True",
         "bingroup": "x",
         "hovertemplate": "Mortality=Died<br>Family.History=%{x}<br>count=%{y}<extra></extra>",
         "legendgroup": "Died",
         "marker": {
          "color": "deeppink",
          "pattern": {
           "shape": ""
          }
         },
         "name": "Died",
         "offsetgroup": "Died",
         "orientation": "v",
         "showlegend": true,
         "type": "histogram",
         "x": [
          "NO",
          "NO",
          "NO",
          "NO",
          "NO",
          "NO",
          "NO",
          "NO",
          "NO",
          "NO",
          "NO",
          "NO",
          "NO",
          "NO",
          "NO",
          "NO",
          "NO",
          "YES",
          "YES",
          "YES",
          "NO",
          "NO",
          "YES",
          "NO",
          "NO",
          "NO",
          "NO",
          "YES",
          "YES",
          "NO",
          "NO",
          "NO",
          "NO",
          "NO",
          "NO",
          "NO",
          "NO",
          "NO",
          "NO",
          "YES",
          "NO",
          "NO",
          "NO",
          "YES",
          "YES",
          "NO",
          "NO",
          "YES",
          "NO",
          "NO",
          "NO",
          "NO",
          "NO",
          "YES",
          "NO",
          "YES",
          "YES",
          "NO",
          "NO",
          "NO",
          "NO",
          "NO",
          "YES",
          "YES",
          "NO",
          "NO",
          "NO",
          "NO",
          "NO",
          "NO",
          "NO",
          "NO",
          "NO",
          "NO",
          "YES",
          "NO",
          "NO",
          "NO",
          "YES",
          "YES",
          "NO",
          "NO",
          "YES",
          "NO",
          "NO",
          "NO",
          "NO",
          "NO",
          "YES",
          "NO",
          "YES",
          "YES",
          "NO",
          "NO",
          "NO",
          "NO",
          "NO",
          "YES",
          "YES",
          "NO",
          "NO",
          "NO",
          "NO",
          "NO",
          "NO",
          "NO",
          "NO",
          "NO",
          "NO",
          "YES",
          "NO",
          "NO",
          "NO",
          "NO",
          "NO",
          "NO",
          "NO",
          "YES",
          "YES",
          "NO",
          "NO",
          "NO",
          "NO",
          "NO",
          "NO",
          "NO",
          "YES",
          "NO",
          "NO",
          "NO",
          "NO",
          "NO",
          "YES",
          "NO",
          "NO",
          "NO",
          "YES",
          "YES",
          "NO",
          "NO",
          "YES",
          "NO",
          "NO",
          "NO",
          "NO",
          "NO",
          "YES",
          "NO",
          "NO",
          "NO",
          "NO",
          "NO",
          "NO",
          "NO",
          "NO",
          "NO",
          "NO",
          "YES",
          "YES",
          "YES",
          "NO",
          "NO",
          "YES",
          "NO",
          "NO",
          "NO",
          "NO",
          "YES",
          "YES",
          "NO",
          "NO",
          "NO",
          "NO",
          "NO",
          "NO",
          "NO",
          "NO",
          "NO",
          "NO",
          "YES",
          "NO",
          "NO",
          "NO",
          "YES",
          "YES",
          "NO",
          "NO",
          "YES",
          "NO",
          "NO",
          "NO",
          "NO",
          "NO",
          "YES",
          "NO",
          "NO",
          "NO",
          "NO",
          "NO",
          "NO",
          "NO",
          "NO",
          "NO",
          "NO",
          "YES",
          "YES",
          "YES",
          "NO",
          "NO",
          "YES",
          "NO",
          "NO",
          "NO",
          "NO",
          "NO",
          "NO",
          "YES",
          "NO",
          "NO",
          "NO",
          "YES",
          "YES",
          "NO",
          "NO",
          "YES",
          "NO",
          "NO",
          "NO",
          "NO",
          "NO",
          "YES",
          "NO",
          "NO",
          "NO",
          "NO",
          "NO",
          "NO",
          "NO",
          "NO",
          "NO",
          "NO",
          "NO",
          "NO",
          "NO",
          "NO",
          "NO",
          "YES",
          "NO",
          "NO",
          "NO",
          "YES",
          "YES",
          "NO",
          "NO",
          "YES",
          "NO",
          "NO",
          "NO",
          "NO",
          "NO",
          "YES",
          "NO",
          "NO",
          "NO",
          "NO",
          "NO",
          "NO",
          "NO",
          "NO",
          "NO",
          "NO",
          "YES",
          "YES",
          "YES",
          "NO",
          "NO",
          "YES",
          "NO",
          "NO",
          "NO",
          "NO",
          "YES",
          "YES",
          "NO",
          "NO",
          "NO",
          "NO",
          "NO"
         ],
         "xaxis": "x",
         "yaxis": "y"
        },
        {
         "alignmentgroup": "True",
         "bingroup": "x",
         "hovertemplate": "Mortality=Alive<br>Family.History=%{x}<br>count=%{y}<extra></extra>",
         "legendgroup": "Alive",
         "marker": {
          "color": "aqua",
          "pattern": {
           "shape": ""
          }
         },
         "name": "Alive",
         "offsetgroup": "Alive",
         "orientation": "v",
         "showlegend": true,
         "type": "histogram",
         "x": [
          "NO",
          "NO",
          "NO",
          "NO",
          "NO",
          "NO",
          "NO",
          "NO",
          "NO",
          "NO",
          "NO",
          "NO",
          "NO",
          "NO",
          "NO",
          "YES",
          "YES",
          "NO",
          "NO",
          "NO",
          "NO",
          "NO",
          "NO",
          "NO",
          "NO",
          "NO",
          "NO",
          "NO",
          "NO",
          "NO",
          "NO",
          "NO",
          "NO",
          "NO",
          "NO",
          "NO",
          "NO",
          "NO",
          "NO",
          "YES",
          "YES",
          "NO",
          "NO",
          "NO",
          "NO",
          "NO",
          "NO",
          "NO",
          "NO",
          "NO",
          "NO",
          "NO",
          "NO",
          "NO",
          "NO",
          "YES",
          "YES",
          "NO",
          "NO",
          "NO",
          "NO",
          "NO",
          "NO",
          "NO",
          "NO",
          "NO",
          "NO",
          "NO",
          "NO",
          "NO",
          "NO",
          "NO",
          "NO",
          "NO",
          "NO",
          "NO",
          "NO",
          "YES",
          "YES",
          "NO"
         ],
         "xaxis": "x",
         "yaxis": "y"
        }
       ],
       "layout": {
        "barmode": "relative",
        "legend": {
         "title": {
          "text": "Mortality"
         },
         "tracegroupgap": 0
        },
        "margin": {
         "t": 60
        },
        "template": {
         "data": {
          "bar": [
           {
            "error_x": {
             "color": "#2a3f5f"
            },
            "error_y": {
             "color": "#2a3f5f"
            },
            "marker": {
             "line": {
              "color": "#E5ECF6",
              "width": 0.5
             },
             "pattern": {
              "fillmode": "overlay",
              "size": 10,
              "solidity": 0.2
             }
            },
            "type": "bar"
           }
          ],
          "barpolar": [
           {
            "marker": {
             "line": {
              "color": "#E5ECF6",
              "width": 0.5
             },
             "pattern": {
              "fillmode": "overlay",
              "size": 10,
              "solidity": 0.2
             }
            },
            "type": "barpolar"
           }
          ],
          "carpet": [
           {
            "aaxis": {
             "endlinecolor": "#2a3f5f",
             "gridcolor": "white",
             "linecolor": "white",
             "minorgridcolor": "white",
             "startlinecolor": "#2a3f5f"
            },
            "baxis": {
             "endlinecolor": "#2a3f5f",
             "gridcolor": "white",
             "linecolor": "white",
             "minorgridcolor": "white",
             "startlinecolor": "#2a3f5f"
            },
            "type": "carpet"
           }
          ],
          "choropleth": [
           {
            "colorbar": {
             "outlinewidth": 0,
             "ticks": ""
            },
            "type": "choropleth"
           }
          ],
          "contour": [
           {
            "colorbar": {
             "outlinewidth": 0,
             "ticks": ""
            },
            "colorscale": [
             [
              0,
              "#0d0887"
             ],
             [
              0.1111111111111111,
              "#46039f"
             ],
             [
              0.2222222222222222,
              "#7201a8"
             ],
             [
              0.3333333333333333,
              "#9c179e"
             ],
             [
              0.4444444444444444,
              "#bd3786"
             ],
             [
              0.5555555555555556,
              "#d8576b"
             ],
             [
              0.6666666666666666,
              "#ed7953"
             ],
             [
              0.7777777777777778,
              "#fb9f3a"
             ],
             [
              0.8888888888888888,
              "#fdca26"
             ],
             [
              1,
              "#f0f921"
             ]
            ],
            "type": "contour"
           }
          ],
          "contourcarpet": [
           {
            "colorbar": {
             "outlinewidth": 0,
             "ticks": ""
            },
            "type": "contourcarpet"
           }
          ],
          "heatmap": [
           {
            "colorbar": {
             "outlinewidth": 0,
             "ticks": ""
            },
            "colorscale": [
             [
              0,
              "#0d0887"
             ],
             [
              0.1111111111111111,
              "#46039f"
             ],
             [
              0.2222222222222222,
              "#7201a8"
             ],
             [
              0.3333333333333333,
              "#9c179e"
             ],
             [
              0.4444444444444444,
              "#bd3786"
             ],
             [
              0.5555555555555556,
              "#d8576b"
             ],
             [
              0.6666666666666666,
              "#ed7953"
             ],
             [
              0.7777777777777778,
              "#fb9f3a"
             ],
             [
              0.8888888888888888,
              "#fdca26"
             ],
             [
              1,
              "#f0f921"
             ]
            ],
            "type": "heatmap"
           }
          ],
          "heatmapgl": [
           {
            "colorbar": {
             "outlinewidth": 0,
             "ticks": ""
            },
            "colorscale": [
             [
              0,
              "#0d0887"
             ],
             [
              0.1111111111111111,
              "#46039f"
             ],
             [
              0.2222222222222222,
              "#7201a8"
             ],
             [
              0.3333333333333333,
              "#9c179e"
             ],
             [
              0.4444444444444444,
              "#bd3786"
             ],
             [
              0.5555555555555556,
              "#d8576b"
             ],
             [
              0.6666666666666666,
              "#ed7953"
             ],
             [
              0.7777777777777778,
              "#fb9f3a"
             ],
             [
              0.8888888888888888,
              "#fdca26"
             ],
             [
              1,
              "#f0f921"
             ]
            ],
            "type": "heatmapgl"
           }
          ],
          "histogram": [
           {
            "marker": {
             "pattern": {
              "fillmode": "overlay",
              "size": 10,
              "solidity": 0.2
             }
            },
            "type": "histogram"
           }
          ],
          "histogram2d": [
           {
            "colorbar": {
             "outlinewidth": 0,
             "ticks": ""
            },
            "colorscale": [
             [
              0,
              "#0d0887"
             ],
             [
              0.1111111111111111,
              "#46039f"
             ],
             [
              0.2222222222222222,
              "#7201a8"
             ],
             [
              0.3333333333333333,
              "#9c179e"
             ],
             [
              0.4444444444444444,
              "#bd3786"
             ],
             [
              0.5555555555555556,
              "#d8576b"
             ],
             [
              0.6666666666666666,
              "#ed7953"
             ],
             [
              0.7777777777777778,
              "#fb9f3a"
             ],
             [
              0.8888888888888888,
              "#fdca26"
             ],
             [
              1,
              "#f0f921"
             ]
            ],
            "type": "histogram2d"
           }
          ],
          "histogram2dcontour": [
           {
            "colorbar": {
             "outlinewidth": 0,
             "ticks": ""
            },
            "colorscale": [
             [
              0,
              "#0d0887"
             ],
             [
              0.1111111111111111,
              "#46039f"
             ],
             [
              0.2222222222222222,
              "#7201a8"
             ],
             [
              0.3333333333333333,
              "#9c179e"
             ],
             [
              0.4444444444444444,
              "#bd3786"
             ],
             [
              0.5555555555555556,
              "#d8576b"
             ],
             [
              0.6666666666666666,
              "#ed7953"
             ],
             [
              0.7777777777777778,
              "#fb9f3a"
             ],
             [
              0.8888888888888888,
              "#fdca26"
             ],
             [
              1,
              "#f0f921"
             ]
            ],
            "type": "histogram2dcontour"
           }
          ],
          "mesh3d": [
           {
            "colorbar": {
             "outlinewidth": 0,
             "ticks": ""
            },
            "type": "mesh3d"
           }
          ],
          "parcoords": [
           {
            "line": {
             "colorbar": {
              "outlinewidth": 0,
              "ticks": ""
             }
            },
            "type": "parcoords"
           }
          ],
          "pie": [
           {
            "automargin": true,
            "type": "pie"
           }
          ],
          "scatter": [
           {
            "fillpattern": {
             "fillmode": "overlay",
             "size": 10,
             "solidity": 0.2
            },
            "type": "scatter"
           }
          ],
          "scatter3d": [
           {
            "line": {
             "colorbar": {
              "outlinewidth": 0,
              "ticks": ""
             }
            },
            "marker": {
             "colorbar": {
              "outlinewidth": 0,
              "ticks": ""
             }
            },
            "type": "scatter3d"
           }
          ],
          "scattercarpet": [
           {
            "marker": {
             "colorbar": {
              "outlinewidth": 0,
              "ticks": ""
             }
            },
            "type": "scattercarpet"
           }
          ],
          "scattergeo": [
           {
            "marker": {
             "colorbar": {
              "outlinewidth": 0,
              "ticks": ""
             }
            },
            "type": "scattergeo"
           }
          ],
          "scattergl": [
           {
            "marker": {
             "colorbar": {
              "outlinewidth": 0,
              "ticks": ""
             }
            },
            "type": "scattergl"
           }
          ],
          "scattermapbox": [
           {
            "marker": {
             "colorbar": {
              "outlinewidth": 0,
              "ticks": ""
             }
            },
            "type": "scattermapbox"
           }
          ],
          "scatterpolar": [
           {
            "marker": {
             "colorbar": {
              "outlinewidth": 0,
              "ticks": ""
             }
            },
            "type": "scatterpolar"
           }
          ],
          "scatterpolargl": [
           {
            "marker": {
             "colorbar": {
              "outlinewidth": 0,
              "ticks": ""
             }
            },
            "type": "scatterpolargl"
           }
          ],
          "scatterternary": [
           {
            "marker": {
             "colorbar": {
              "outlinewidth": 0,
              "ticks": ""
             }
            },
            "type": "scatterternary"
           }
          ],
          "surface": [
           {
            "colorbar": {
             "outlinewidth": 0,
             "ticks": ""
            },
            "colorscale": [
             [
              0,
              "#0d0887"
             ],
             [
              0.1111111111111111,
              "#46039f"
             ],
             [
              0.2222222222222222,
              "#7201a8"
             ],
             [
              0.3333333333333333,
              "#9c179e"
             ],
             [
              0.4444444444444444,
              "#bd3786"
             ],
             [
              0.5555555555555556,
              "#d8576b"
             ],
             [
              0.6666666666666666,
              "#ed7953"
             ],
             [
              0.7777777777777778,
              "#fb9f3a"
             ],
             [
              0.8888888888888888,
              "#fdca26"
             ],
             [
              1,
              "#f0f921"
             ]
            ],
            "type": "surface"
           }
          ],
          "table": [
           {
            "cells": {
             "fill": {
              "color": "#EBF0F8"
             },
             "line": {
              "color": "white"
             }
            },
            "header": {
             "fill": {
              "color": "#C8D4E3"
             },
             "line": {
              "color": "white"
             }
            },
            "type": "table"
           }
          ]
         },
         "layout": {
          "annotationdefaults": {
           "arrowcolor": "#2a3f5f",
           "arrowhead": 0,
           "arrowwidth": 1
          },
          "autotypenumbers": "strict",
          "coloraxis": {
           "colorbar": {
            "outlinewidth": 0,
            "ticks": ""
           }
          },
          "colorscale": {
           "diverging": [
            [
             0,
             "#8e0152"
            ],
            [
             0.1,
             "#c51b7d"
            ],
            [
             0.2,
             "#de77ae"
            ],
            [
             0.3,
             "#f1b6da"
            ],
            [
             0.4,
             "#fde0ef"
            ],
            [
             0.5,
             "#f7f7f7"
            ],
            [
             0.6,
             "#e6f5d0"
            ],
            [
             0.7,
             "#b8e186"
            ],
            [
             0.8,
             "#7fbc41"
            ],
            [
             0.9,
             "#4d9221"
            ],
            [
             1,
             "#276419"
            ]
           ],
           "sequential": [
            [
             0,
             "#0d0887"
            ],
            [
             0.1111111111111111,
             "#46039f"
            ],
            [
             0.2222222222222222,
             "#7201a8"
            ],
            [
             0.3333333333333333,
             "#9c179e"
            ],
            [
             0.4444444444444444,
             "#bd3786"
            ],
            [
             0.5555555555555556,
             "#d8576b"
            ],
            [
             0.6666666666666666,
             "#ed7953"
            ],
            [
             0.7777777777777778,
             "#fb9f3a"
            ],
            [
             0.8888888888888888,
             "#fdca26"
            ],
            [
             1,
             "#f0f921"
            ]
           ],
           "sequentialminus": [
            [
             0,
             "#0d0887"
            ],
            [
             0.1111111111111111,
             "#46039f"
            ],
            [
             0.2222222222222222,
             "#7201a8"
            ],
            [
             0.3333333333333333,
             "#9c179e"
            ],
            [
             0.4444444444444444,
             "#bd3786"
            ],
            [
             0.5555555555555556,
             "#d8576b"
            ],
            [
             0.6666666666666666,
             "#ed7953"
            ],
            [
             0.7777777777777778,
             "#fb9f3a"
            ],
            [
             0.8888888888888888,
             "#fdca26"
            ],
            [
             1,
             "#f0f921"
            ]
           ]
          },
          "colorway": [
           "#636efa",
           "#EF553B",
           "#00cc96",
           "#ab63fa",
           "#FFA15A",
           "#19d3f3",
           "#FF6692",
           "#B6E880",
           "#FF97FF",
           "#FECB52"
          ],
          "font": {
           "color": "#2a3f5f"
          },
          "geo": {
           "bgcolor": "white",
           "lakecolor": "white",
           "landcolor": "#E5ECF6",
           "showlakes": true,
           "showland": true,
           "subunitcolor": "white"
          },
          "hoverlabel": {
           "align": "left"
          },
          "hovermode": "closest",
          "mapbox": {
           "style": "light"
          },
          "paper_bgcolor": "white",
          "plot_bgcolor": "#E5ECF6",
          "polar": {
           "angularaxis": {
            "gridcolor": "white",
            "linecolor": "white",
            "ticks": ""
           },
           "bgcolor": "#E5ECF6",
           "radialaxis": {
            "gridcolor": "white",
            "linecolor": "white",
            "ticks": ""
           }
          },
          "scene": {
           "xaxis": {
            "backgroundcolor": "#E5ECF6",
            "gridcolor": "white",
            "gridwidth": 2,
            "linecolor": "white",
            "showbackground": true,
            "ticks": "",
            "zerolinecolor": "white"
           },
           "yaxis": {
            "backgroundcolor": "#E5ECF6",
            "gridcolor": "white",
            "gridwidth": 2,
            "linecolor": "white",
            "showbackground": true,
            "ticks": "",
            "zerolinecolor": "white"
           },
           "zaxis": {
            "backgroundcolor": "#E5ECF6",
            "gridcolor": "white",
            "gridwidth": 2,
            "linecolor": "white",
            "showbackground": true,
            "ticks": "",
            "zerolinecolor": "white"
           }
          },
          "shapedefaults": {
           "line": {
            "color": "#2a3f5f"
           }
          },
          "ternary": {
           "aaxis": {
            "gridcolor": "white",
            "linecolor": "white",
            "ticks": ""
           },
           "baxis": {
            "gridcolor": "white",
            "linecolor": "white",
            "ticks": ""
           },
           "bgcolor": "#E5ECF6",
           "caxis": {
            "gridcolor": "white",
            "linecolor": "white",
            "ticks": ""
           }
          },
          "title": {
           "x": 0.05
          },
          "xaxis": {
           "automargin": true,
           "gridcolor": "white",
           "linecolor": "white",
           "ticks": "",
           "title": {
            "standoff": 15
           },
           "zerolinecolor": "white",
           "zerolinewidth": 2
          },
          "yaxis": {
           "automargin": true,
           "gridcolor": "white",
           "linecolor": "white",
           "ticks": "",
           "title": {
            "standoff": 15
           },
           "zerolinecolor": "white",
           "zerolinewidth": 2
          }
         }
        },
        "xaxis": {
         "anchor": "y",
         "domain": [
          0,
          1
         ],
         "title": {
          "text": "Family.History"
         }
        },
        "yaxis": {
         "anchor": "x",
         "domain": [
          0,
          1
         ],
         "title": {
          "text": "count"
         }
        }
       }
      },
      "text/html": [
       "<div>                            <div id=\"1c3cfd25-9215-4255-8356-aa6960672b45\" class=\"plotly-graph-div\" style=\"height:525px; width:100%;\"></div>            <script type=\"text/javascript\">                require([\"plotly\"], function(Plotly) {                    window.PLOTLYENV=window.PLOTLYENV || {};                                    if (document.getElementById(\"1c3cfd25-9215-4255-8356-aa6960672b45\")) {                    Plotly.newPlot(                        \"1c3cfd25-9215-4255-8356-aa6960672b45\",                        [{\"alignmentgroup\":\"True\",\"bingroup\":\"x\",\"hovertemplate\":\"Mortality=Died\\u003cbr\\u003eFamily.History=%{x}\\u003cbr\\u003ecount=%{y}\\u003cextra\\u003e\\u003c\\u002fextra\\u003e\",\"legendgroup\":\"Died\",\"marker\":{\"color\":\"deeppink\",\"pattern\":{\"shape\":\"\"}},\"name\":\"Died\",\"offsetgroup\":\"Died\",\"orientation\":\"v\",\"showlegend\":true,\"x\":[\"NO\",\"NO\",\"NO\",\"NO\",\"NO\",\"NO\",\"NO\",\"NO\",\"NO\",\"NO\",\"NO\",\"NO\",\"NO\",\"NO\",\"NO\",\"NO\",\"NO\",\"YES\",\"YES\",\"YES\",\"NO\",\"NO\",\"YES\",\"NO\",\"NO\",\"NO\",\"NO\",\"YES\",\"YES\",\"NO\",\"NO\",\"NO\",\"NO\",\"NO\",\"NO\",\"NO\",\"NO\",\"NO\",\"NO\",\"YES\",\"NO\",\"NO\",\"NO\",\"YES\",\"YES\",\"NO\",\"NO\",\"YES\",\"NO\",\"NO\",\"NO\",\"NO\",\"NO\",\"YES\",\"NO\",\"YES\",\"YES\",\"NO\",\"NO\",\"NO\",\"NO\",\"NO\",\"YES\",\"YES\",\"NO\",\"NO\",\"NO\",\"NO\",\"NO\",\"NO\",\"NO\",\"NO\",\"NO\",\"NO\",\"YES\",\"NO\",\"NO\",\"NO\",\"YES\",\"YES\",\"NO\",\"NO\",\"YES\",\"NO\",\"NO\",\"NO\",\"NO\",\"NO\",\"YES\",\"NO\",\"YES\",\"YES\",\"NO\",\"NO\",\"NO\",\"NO\",\"NO\",\"YES\",\"YES\",\"NO\",\"NO\",\"NO\",\"NO\",\"NO\",\"NO\",\"NO\",\"NO\",\"NO\",\"NO\",\"YES\",\"NO\",\"NO\",\"NO\",\"NO\",\"NO\",\"NO\",\"NO\",\"YES\",\"YES\",\"NO\",\"NO\",\"NO\",\"NO\",\"NO\",\"NO\",\"NO\",\"YES\",\"NO\",\"NO\",\"NO\",\"NO\",\"NO\",\"YES\",\"NO\",\"NO\",\"NO\",\"YES\",\"YES\",\"NO\",\"NO\",\"YES\",\"NO\",\"NO\",\"NO\",\"NO\",\"NO\",\"YES\",\"NO\",\"NO\",\"NO\",\"NO\",\"NO\",\"NO\",\"NO\",\"NO\",\"NO\",\"NO\",\"YES\",\"YES\",\"YES\",\"NO\",\"NO\",\"YES\",\"NO\",\"NO\",\"NO\",\"NO\",\"YES\",\"YES\",\"NO\",\"NO\",\"NO\",\"NO\",\"NO\",\"NO\",\"NO\",\"NO\",\"NO\",\"NO\",\"YES\",\"NO\",\"NO\",\"NO\",\"YES\",\"YES\",\"NO\",\"NO\",\"YES\",\"NO\",\"NO\",\"NO\",\"NO\",\"NO\",\"YES\",\"NO\",\"NO\",\"NO\",\"NO\",\"NO\",\"NO\",\"NO\",\"NO\",\"NO\",\"NO\",\"YES\",\"YES\",\"YES\",\"NO\",\"NO\",\"YES\",\"NO\",\"NO\",\"NO\",\"NO\",\"NO\",\"NO\",\"YES\",\"NO\",\"NO\",\"NO\",\"YES\",\"YES\",\"NO\",\"NO\",\"YES\",\"NO\",\"NO\",\"NO\",\"NO\",\"NO\",\"YES\",\"NO\",\"NO\",\"NO\",\"NO\",\"NO\",\"NO\",\"NO\",\"NO\",\"NO\",\"NO\",\"NO\",\"NO\",\"NO\",\"NO\",\"NO\",\"YES\",\"NO\",\"NO\",\"NO\",\"YES\",\"YES\",\"NO\",\"NO\",\"YES\",\"NO\",\"NO\",\"NO\",\"NO\",\"NO\",\"YES\",\"NO\",\"NO\",\"NO\",\"NO\",\"NO\",\"NO\",\"NO\",\"NO\",\"NO\",\"NO\",\"YES\",\"YES\",\"YES\",\"NO\",\"NO\",\"YES\",\"NO\",\"NO\",\"NO\",\"NO\",\"YES\",\"YES\",\"NO\",\"NO\",\"NO\",\"NO\",\"NO\"],\"xaxis\":\"x\",\"yaxis\":\"y\",\"type\":\"histogram\"},{\"alignmentgroup\":\"True\",\"bingroup\":\"x\",\"hovertemplate\":\"Mortality=Alive\\u003cbr\\u003eFamily.History=%{x}\\u003cbr\\u003ecount=%{y}\\u003cextra\\u003e\\u003c\\u002fextra\\u003e\",\"legendgroup\":\"Alive\",\"marker\":{\"color\":\"aqua\",\"pattern\":{\"shape\":\"\"}},\"name\":\"Alive\",\"offsetgroup\":\"Alive\",\"orientation\":\"v\",\"showlegend\":true,\"x\":[\"NO\",\"NO\",\"NO\",\"NO\",\"NO\",\"NO\",\"NO\",\"NO\",\"NO\",\"NO\",\"NO\",\"NO\",\"NO\",\"NO\",\"NO\",\"YES\",\"YES\",\"NO\",\"NO\",\"NO\",\"NO\",\"NO\",\"NO\",\"NO\",\"NO\",\"NO\",\"NO\",\"NO\",\"NO\",\"NO\",\"NO\",\"NO\",\"NO\",\"NO\",\"NO\",\"NO\",\"NO\",\"NO\",\"NO\",\"YES\",\"YES\",\"NO\",\"NO\",\"NO\",\"NO\",\"NO\",\"NO\",\"NO\",\"NO\",\"NO\",\"NO\",\"NO\",\"NO\",\"NO\",\"NO\",\"YES\",\"YES\",\"NO\",\"NO\",\"NO\",\"NO\",\"NO\",\"NO\",\"NO\",\"NO\",\"NO\",\"NO\",\"NO\",\"NO\",\"NO\",\"NO\",\"NO\",\"NO\",\"NO\",\"NO\",\"NO\",\"NO\",\"YES\",\"YES\",\"NO\"],\"xaxis\":\"x\",\"yaxis\":\"y\",\"type\":\"histogram\"}],                        {\"template\":{\"data\":{\"histogram2dcontour\":[{\"type\":\"histogram2dcontour\",\"colorbar\":{\"outlinewidth\":0,\"ticks\":\"\"},\"colorscale\":[[0.0,\"#0d0887\"],[0.1111111111111111,\"#46039f\"],[0.2222222222222222,\"#7201a8\"],[0.3333333333333333,\"#9c179e\"],[0.4444444444444444,\"#bd3786\"],[0.5555555555555556,\"#d8576b\"],[0.6666666666666666,\"#ed7953\"],[0.7777777777777778,\"#fb9f3a\"],[0.8888888888888888,\"#fdca26\"],[1.0,\"#f0f921\"]]}],\"choropleth\":[{\"type\":\"choropleth\",\"colorbar\":{\"outlinewidth\":0,\"ticks\":\"\"}}],\"histogram2d\":[{\"type\":\"histogram2d\",\"colorbar\":{\"outlinewidth\":0,\"ticks\":\"\"},\"colorscale\":[[0.0,\"#0d0887\"],[0.1111111111111111,\"#46039f\"],[0.2222222222222222,\"#7201a8\"],[0.3333333333333333,\"#9c179e\"],[0.4444444444444444,\"#bd3786\"],[0.5555555555555556,\"#d8576b\"],[0.6666666666666666,\"#ed7953\"],[0.7777777777777778,\"#fb9f3a\"],[0.8888888888888888,\"#fdca26\"],[1.0,\"#f0f921\"]]}],\"heatmap\":[{\"type\":\"heatmap\",\"colorbar\":{\"outlinewidth\":0,\"ticks\":\"\"},\"colorscale\":[[0.0,\"#0d0887\"],[0.1111111111111111,\"#46039f\"],[0.2222222222222222,\"#7201a8\"],[0.3333333333333333,\"#9c179e\"],[0.4444444444444444,\"#bd3786\"],[0.5555555555555556,\"#d8576b\"],[0.6666666666666666,\"#ed7953\"],[0.7777777777777778,\"#fb9f3a\"],[0.8888888888888888,\"#fdca26\"],[1.0,\"#f0f921\"]]}],\"heatmapgl\":[{\"type\":\"heatmapgl\",\"colorbar\":{\"outlinewidth\":0,\"ticks\":\"\"},\"colorscale\":[[0.0,\"#0d0887\"],[0.1111111111111111,\"#46039f\"],[0.2222222222222222,\"#7201a8\"],[0.3333333333333333,\"#9c179e\"],[0.4444444444444444,\"#bd3786\"],[0.5555555555555556,\"#d8576b\"],[0.6666666666666666,\"#ed7953\"],[0.7777777777777778,\"#fb9f3a\"],[0.8888888888888888,\"#fdca26\"],[1.0,\"#f0f921\"]]}],\"contourcarpet\":[{\"type\":\"contourcarpet\",\"colorbar\":{\"outlinewidth\":0,\"ticks\":\"\"}}],\"contour\":[{\"type\":\"contour\",\"colorbar\":{\"outlinewidth\":0,\"ticks\":\"\"},\"colorscale\":[[0.0,\"#0d0887\"],[0.1111111111111111,\"#46039f\"],[0.2222222222222222,\"#7201a8\"],[0.3333333333333333,\"#9c179e\"],[0.4444444444444444,\"#bd3786\"],[0.5555555555555556,\"#d8576b\"],[0.6666666666666666,\"#ed7953\"],[0.7777777777777778,\"#fb9f3a\"],[0.8888888888888888,\"#fdca26\"],[1.0,\"#f0f921\"]]}],\"surface\":[{\"type\":\"surface\",\"colorbar\":{\"outlinewidth\":0,\"ticks\":\"\"},\"colorscale\":[[0.0,\"#0d0887\"],[0.1111111111111111,\"#46039f\"],[0.2222222222222222,\"#7201a8\"],[0.3333333333333333,\"#9c179e\"],[0.4444444444444444,\"#bd3786\"],[0.5555555555555556,\"#d8576b\"],[0.6666666666666666,\"#ed7953\"],[0.7777777777777778,\"#fb9f3a\"],[0.8888888888888888,\"#fdca26\"],[1.0,\"#f0f921\"]]}],\"mesh3d\":[{\"type\":\"mesh3d\",\"colorbar\":{\"outlinewidth\":0,\"ticks\":\"\"}}],\"scatter\":[{\"fillpattern\":{\"fillmode\":\"overlay\",\"size\":10,\"solidity\":0.2},\"type\":\"scatter\"}],\"parcoords\":[{\"type\":\"parcoords\",\"line\":{\"colorbar\":{\"outlinewidth\":0,\"ticks\":\"\"}}}],\"scatterpolargl\":[{\"type\":\"scatterpolargl\",\"marker\":{\"colorbar\":{\"outlinewidth\":0,\"ticks\":\"\"}}}],\"bar\":[{\"error_x\":{\"color\":\"#2a3f5f\"},\"error_y\":{\"color\":\"#2a3f5f\"},\"marker\":{\"line\":{\"color\":\"#E5ECF6\",\"width\":0.5},\"pattern\":{\"fillmode\":\"overlay\",\"size\":10,\"solidity\":0.2}},\"type\":\"bar\"}],\"scattergeo\":[{\"type\":\"scattergeo\",\"marker\":{\"colorbar\":{\"outlinewidth\":0,\"ticks\":\"\"}}}],\"scatterpolar\":[{\"type\":\"scatterpolar\",\"marker\":{\"colorbar\":{\"outlinewidth\":0,\"ticks\":\"\"}}}],\"histogram\":[{\"marker\":{\"pattern\":{\"fillmode\":\"overlay\",\"size\":10,\"solidity\":0.2}},\"type\":\"histogram\"}],\"scattergl\":[{\"type\":\"scattergl\",\"marker\":{\"colorbar\":{\"outlinewidth\":0,\"ticks\":\"\"}}}],\"scatter3d\":[{\"type\":\"scatter3d\",\"line\":{\"colorbar\":{\"outlinewidth\":0,\"ticks\":\"\"}},\"marker\":{\"colorbar\":{\"outlinewidth\":0,\"ticks\":\"\"}}}],\"scattermapbox\":[{\"type\":\"scattermapbox\",\"marker\":{\"colorbar\":{\"outlinewidth\":0,\"ticks\":\"\"}}}],\"scatterternary\":[{\"type\":\"scatterternary\",\"marker\":{\"colorbar\":{\"outlinewidth\":0,\"ticks\":\"\"}}}],\"scattercarpet\":[{\"type\":\"scattercarpet\",\"marker\":{\"colorbar\":{\"outlinewidth\":0,\"ticks\":\"\"}}}],\"carpet\":[{\"aaxis\":{\"endlinecolor\":\"#2a3f5f\",\"gridcolor\":\"white\",\"linecolor\":\"white\",\"minorgridcolor\":\"white\",\"startlinecolor\":\"#2a3f5f\"},\"baxis\":{\"endlinecolor\":\"#2a3f5f\",\"gridcolor\":\"white\",\"linecolor\":\"white\",\"minorgridcolor\":\"white\",\"startlinecolor\":\"#2a3f5f\"},\"type\":\"carpet\"}],\"table\":[{\"cells\":{\"fill\":{\"color\":\"#EBF0F8\"},\"line\":{\"color\":\"white\"}},\"header\":{\"fill\":{\"color\":\"#C8D4E3\"},\"line\":{\"color\":\"white\"}},\"type\":\"table\"}],\"barpolar\":[{\"marker\":{\"line\":{\"color\":\"#E5ECF6\",\"width\":0.5},\"pattern\":{\"fillmode\":\"overlay\",\"size\":10,\"solidity\":0.2}},\"type\":\"barpolar\"}],\"pie\":[{\"automargin\":true,\"type\":\"pie\"}]},\"layout\":{\"autotypenumbers\":\"strict\",\"colorway\":[\"#636efa\",\"#EF553B\",\"#00cc96\",\"#ab63fa\",\"#FFA15A\",\"#19d3f3\",\"#FF6692\",\"#B6E880\",\"#FF97FF\",\"#FECB52\"],\"font\":{\"color\":\"#2a3f5f\"},\"hovermode\":\"closest\",\"hoverlabel\":{\"align\":\"left\"},\"paper_bgcolor\":\"white\",\"plot_bgcolor\":\"#E5ECF6\",\"polar\":{\"bgcolor\":\"#E5ECF6\",\"angularaxis\":{\"gridcolor\":\"white\",\"linecolor\":\"white\",\"ticks\":\"\"},\"radialaxis\":{\"gridcolor\":\"white\",\"linecolor\":\"white\",\"ticks\":\"\"}},\"ternary\":{\"bgcolor\":\"#E5ECF6\",\"aaxis\":{\"gridcolor\":\"white\",\"linecolor\":\"white\",\"ticks\":\"\"},\"baxis\":{\"gridcolor\":\"white\",\"linecolor\":\"white\",\"ticks\":\"\"},\"caxis\":{\"gridcolor\":\"white\",\"linecolor\":\"white\",\"ticks\":\"\"}},\"coloraxis\":{\"colorbar\":{\"outlinewidth\":0,\"ticks\":\"\"}},\"colorscale\":{\"sequential\":[[0.0,\"#0d0887\"],[0.1111111111111111,\"#46039f\"],[0.2222222222222222,\"#7201a8\"],[0.3333333333333333,\"#9c179e\"],[0.4444444444444444,\"#bd3786\"],[0.5555555555555556,\"#d8576b\"],[0.6666666666666666,\"#ed7953\"],[0.7777777777777778,\"#fb9f3a\"],[0.8888888888888888,\"#fdca26\"],[1.0,\"#f0f921\"]],\"sequentialminus\":[[0.0,\"#0d0887\"],[0.1111111111111111,\"#46039f\"],[0.2222222222222222,\"#7201a8\"],[0.3333333333333333,\"#9c179e\"],[0.4444444444444444,\"#bd3786\"],[0.5555555555555556,\"#d8576b\"],[0.6666666666666666,\"#ed7953\"],[0.7777777777777778,\"#fb9f3a\"],[0.8888888888888888,\"#fdca26\"],[1.0,\"#f0f921\"]],\"diverging\":[[0,\"#8e0152\"],[0.1,\"#c51b7d\"],[0.2,\"#de77ae\"],[0.3,\"#f1b6da\"],[0.4,\"#fde0ef\"],[0.5,\"#f7f7f7\"],[0.6,\"#e6f5d0\"],[0.7,\"#b8e186\"],[0.8,\"#7fbc41\"],[0.9,\"#4d9221\"],[1,\"#276419\"]]},\"xaxis\":{\"gridcolor\":\"white\",\"linecolor\":\"white\",\"ticks\":\"\",\"title\":{\"standoff\":15},\"zerolinecolor\":\"white\",\"automargin\":true,\"zerolinewidth\":2},\"yaxis\":{\"gridcolor\":\"white\",\"linecolor\":\"white\",\"ticks\":\"\",\"title\":{\"standoff\":15},\"zerolinecolor\":\"white\",\"automargin\":true,\"zerolinewidth\":2},\"scene\":{\"xaxis\":{\"backgroundcolor\":\"#E5ECF6\",\"gridcolor\":\"white\",\"linecolor\":\"white\",\"showbackground\":true,\"ticks\":\"\",\"zerolinecolor\":\"white\",\"gridwidth\":2},\"yaxis\":{\"backgroundcolor\":\"#E5ECF6\",\"gridcolor\":\"white\",\"linecolor\":\"white\",\"showbackground\":true,\"ticks\":\"\",\"zerolinecolor\":\"white\",\"gridwidth\":2},\"zaxis\":{\"backgroundcolor\":\"#E5ECF6\",\"gridcolor\":\"white\",\"linecolor\":\"white\",\"showbackground\":true,\"ticks\":\"\",\"zerolinecolor\":\"white\",\"gridwidth\":2}},\"shapedefaults\":{\"line\":{\"color\":\"#2a3f5f\"}},\"annotationdefaults\":{\"arrowcolor\":\"#2a3f5f\",\"arrowhead\":0,\"arrowwidth\":1},\"geo\":{\"bgcolor\":\"white\",\"landcolor\":\"#E5ECF6\",\"subunitcolor\":\"white\",\"showland\":true,\"showlakes\":true,\"lakecolor\":\"white\"},\"title\":{\"x\":0.05},\"mapbox\":{\"style\":\"light\"}}},\"xaxis\":{\"anchor\":\"y\",\"domain\":[0.0,1.0],\"title\":{\"text\":\"Family.History\"}},\"yaxis\":{\"anchor\":\"x\",\"domain\":[0.0,1.0],\"title\":{\"text\":\"count\"}},\"legend\":{\"title\":{\"text\":\"Mortality\"},\"tracegroupgap\":0},\"margin\":{\"t\":60},\"barmode\":\"relative\"},                        {\"responsive\": true}                    ).then(function(){\n",
       "                            \n",
       "var gd = document.getElementById('1c3cfd25-9215-4255-8356-aa6960672b45');\n",
       "var x = new MutationObserver(function (mutations, observer) {{\n",
       "        var display = window.getComputedStyle(gd).display;\n",
       "        if (!display || display === 'none') {{\n",
       "            console.log([gd, 'removed!']);\n",
       "            Plotly.purge(gd);\n",
       "            observer.disconnect();\n",
       "        }}\n",
       "}});\n",
       "\n",
       "// Listen for the removal of the full notebook cells\n",
       "var notebookContainer = gd.closest('#notebook-container');\n",
       "if (notebookContainer) {{\n",
       "    x.observe(notebookContainer, {childList: true});\n",
       "}}\n",
       "\n",
       "// Listen for the clearing of the current output cell\n",
       "var outputEl = gd.closest('.output');\n",
       "if (outputEl) {{\n",
       "    x.observe(outputEl, {childList: true});\n",
       "}}\n",
       "\n",
       "                        })                };                });            </script>        </div>"
      ]
     },
     "metadata": {},
     "output_type": "display_data"
    },
    {
     "name": "stdout",
     "output_type": "stream",
     "text": [
      "Category:  HTN\n",
      "P-value:  0.001\n",
      "H0 rejected \n",
      "\n"
     ]
    },
    {
     "data": {
      "application/vnd.plotly.v1+json": {
       "config": {
        "plotlyServerURL": "https://plot.ly"
       },
       "data": [
        {
         "alignmentgroup": "True",
         "bingroup": "x",
         "hovertemplate": "Mortality=Died<br>HTN=%{x}<br>count=%{y}<extra></extra>",
         "legendgroup": "Died",
         "marker": {
          "color": "deeppink",
          "pattern": {
           "shape": ""
          }
         },
         "name": "Died",
         "offsetgroup": "Died",
         "orientation": "v",
         "showlegend": true,
         "type": "histogram",
         "x": [
          "NO",
          "NO",
          "YES",
          "YES",
          "YES",
          "YES",
          "NO",
          "YES",
          "YES",
          "YES",
          "NO",
          "YES",
          "YES",
          "YES",
          "YES",
          "YES",
          "NO",
          "NO",
          "YES",
          "YES",
          "YES",
          "NO",
          "NO",
          "NO",
          "NO",
          "NO",
          "YES",
          "YES",
          "NO",
          "YES",
          "NO",
          "YES",
          "YES",
          "YES",
          "NO",
          "NO",
          "NO",
          "YES",
          "NO",
          "NO",
          "NO",
          "NO",
          "NO",
          "NO",
          "YES",
          "YES",
          "NO",
          "YES",
          "YES",
          "YES",
          "YES",
          "YES",
          "NO",
          "NO",
          "YES",
          "NO",
          "YES",
          "NO",
          "NO",
          "NO",
          "NO",
          "YES",
          "YES",
          "NO",
          "YES",
          "NO",
          "YES",
          "YES",
          "YES",
          "NO",
          "NO",
          "NO",
          "YES",
          "NO",
          "NO",
          "NO",
          "NO",
          "NO",
          "NO",
          "YES",
          "YES",
          "NO",
          "YES",
          "YES",
          "YES",
          "YES",
          "YES",
          "NO",
          "NO",
          "YES",
          "NO",
          "YES",
          "NO",
          "NO",
          "NO",
          "NO",
          "YES",
          "YES",
          "NO",
          "YES",
          "NO",
          "YES",
          "YES",
          "YES",
          "NO",
          "NO",
          "NO",
          "YES",
          "NO",
          "NO",
          "NO",
          "NO",
          "NO",
          "NO",
          "NO",
          "NO",
          "YES",
          "YES",
          "NO",
          "YES",
          "NO",
          "YES",
          "NO",
          "YES",
          "NO",
          "NO",
          "NO",
          "NO",
          "NO",
          "NO",
          "YES",
          "NO",
          "NO",
          "NO",
          "NO",
          "NO",
          "NO",
          "YES",
          "YES",
          "NO",
          "YES",
          "YES",
          "YES",
          "YES",
          "YES",
          "NO",
          "NO",
          "YES",
          "YES",
          "YES",
          "NO",
          "YES",
          "YES",
          "YES",
          "YES",
          "YES",
          "NO",
          "NO",
          "YES",
          "YES",
          "YES",
          "NO",
          "NO",
          "NO",
          "NO",
          "NO",
          "YES",
          "YES",
          "NO",
          "YES",
          "NO",
          "YES",
          "YES",
          "YES",
          "NO",
          "NO",
          "NO",
          "YES",
          "NO",
          "NO",
          "NO",
          "NO",
          "NO",
          "NO",
          "YES",
          "YES",
          "NO",
          "YES",
          "YES",
          "YES",
          "YES",
          "YES",
          "NO",
          "NO",
          "YES",
          "YES",
          "YES",
          "NO",
          "YES",
          "YES",
          "YES",
          "YES",
          "YES",
          "NO",
          "NO",
          "YES",
          "YES",
          "YES",
          "NO",
          "NO",
          "NO",
          "NO",
          "NO",
          "NO",
          "YES",
          "NO",
          "NO",
          "NO",
          "NO",
          "NO",
          "NO",
          "YES",
          "YES",
          "NO",
          "YES",
          "YES",
          "YES",
          "YES",
          "YES",
          "NO",
          "NO",
          "YES",
          "YES",
          "YES",
          "NO",
          "YES",
          "YES",
          "YES",
          "YES",
          "YES",
          "NO",
          "NO",
          "NO",
          "NO",
          "YES",
          "NO",
          "NO",
          "NO",
          "NO",
          "NO",
          "NO",
          "YES",
          "YES",
          "NO",
          "YES",
          "YES",
          "YES",
          "YES",
          "YES",
          "NO",
          "NO",
          "YES",
          "YES",
          "YES",
          "NO",
          "YES",
          "YES",
          "YES",
          "YES",
          "YES",
          "NO",
          "NO",
          "YES",
          "YES",
          "YES",
          "NO",
          "NO",
          "NO",
          "NO",
          "NO",
          "YES",
          "YES",
          "NO",
          "YES",
          "NO",
          "YES",
          "YES",
          "YES"
         ],
         "xaxis": "x",
         "yaxis": "y"
        },
        {
         "alignmentgroup": "True",
         "bingroup": "x",
         "hovertemplate": "Mortality=Alive<br>HTN=%{x}<br>count=%{y}<extra></extra>",
         "legendgroup": "Alive",
         "marker": {
          "color": "aqua",
          "pattern": {
           "shape": ""
          }
         },
         "name": "Alive",
         "offsetgroup": "Alive",
         "orientation": "v",
         "showlegend": true,
         "type": "histogram",
         "x": [
          "YES",
          "NO",
          "YES",
          "YES",
          "NO",
          "YES",
          "YES",
          "YES",
          "YES",
          "YES",
          "NO",
          "YES",
          "YES",
          "YES",
          "YES",
          "NO",
          "YES",
          "NO",
          "NO",
          "YES",
          "YES",
          "YES",
          "YES",
          "YES",
          "YES",
          "NO",
          "NO",
          "YES",
          "NO",
          "YES",
          "YES",
          "YES",
          "YES",
          "YES",
          "NO",
          "YES",
          "YES",
          "YES",
          "YES",
          "NO",
          "YES",
          "NO",
          "NO",
          "YES",
          "NO",
          "YES",
          "YES",
          "YES",
          "YES",
          "YES",
          "NO",
          "YES",
          "YES",
          "YES",
          "YES",
          "NO",
          "YES",
          "NO",
          "YES",
          "NO",
          "YES",
          "YES",
          "YES",
          "YES",
          "NO",
          "YES",
          "NO",
          "YES",
          "YES",
          "YES",
          "YES",
          "YES",
          "NO",
          "YES",
          "YES",
          "YES",
          "YES",
          "NO",
          "YES",
          "NO"
         ],
         "xaxis": "x",
         "yaxis": "y"
        }
       ],
       "layout": {
        "barmode": "relative",
        "legend": {
         "title": {
          "text": "Mortality"
         },
         "tracegroupgap": 0
        },
        "margin": {
         "t": 60
        },
        "template": {
         "data": {
          "bar": [
           {
            "error_x": {
             "color": "#2a3f5f"
            },
            "error_y": {
             "color": "#2a3f5f"
            },
            "marker": {
             "line": {
              "color": "#E5ECF6",
              "width": 0.5
             },
             "pattern": {
              "fillmode": "overlay",
              "size": 10,
              "solidity": 0.2
             }
            },
            "type": "bar"
           }
          ],
          "barpolar": [
           {
            "marker": {
             "line": {
              "color": "#E5ECF6",
              "width": 0.5
             },
             "pattern": {
              "fillmode": "overlay",
              "size": 10,
              "solidity": 0.2
             }
            },
            "type": "barpolar"
           }
          ],
          "carpet": [
           {
            "aaxis": {
             "endlinecolor": "#2a3f5f",
             "gridcolor": "white",
             "linecolor": "white",
             "minorgridcolor": "white",
             "startlinecolor": "#2a3f5f"
            },
            "baxis": {
             "endlinecolor": "#2a3f5f",
             "gridcolor": "white",
             "linecolor": "white",
             "minorgridcolor": "white",
             "startlinecolor": "#2a3f5f"
            },
            "type": "carpet"
           }
          ],
          "choropleth": [
           {
            "colorbar": {
             "outlinewidth": 0,
             "ticks": ""
            },
            "type": "choropleth"
           }
          ],
          "contour": [
           {
            "colorbar": {
             "outlinewidth": 0,
             "ticks": ""
            },
            "colorscale": [
             [
              0,
              "#0d0887"
             ],
             [
              0.1111111111111111,
              "#46039f"
             ],
             [
              0.2222222222222222,
              "#7201a8"
             ],
             [
              0.3333333333333333,
              "#9c179e"
             ],
             [
              0.4444444444444444,
              "#bd3786"
             ],
             [
              0.5555555555555556,
              "#d8576b"
             ],
             [
              0.6666666666666666,
              "#ed7953"
             ],
             [
              0.7777777777777778,
              "#fb9f3a"
             ],
             [
              0.8888888888888888,
              "#fdca26"
             ],
             [
              1,
              "#f0f921"
             ]
            ],
            "type": "contour"
           }
          ],
          "contourcarpet": [
           {
            "colorbar": {
             "outlinewidth": 0,
             "ticks": ""
            },
            "type": "contourcarpet"
           }
          ],
          "heatmap": [
           {
            "colorbar": {
             "outlinewidth": 0,
             "ticks": ""
            },
            "colorscale": [
             [
              0,
              "#0d0887"
             ],
             [
              0.1111111111111111,
              "#46039f"
             ],
             [
              0.2222222222222222,
              "#7201a8"
             ],
             [
              0.3333333333333333,
              "#9c179e"
             ],
             [
              0.4444444444444444,
              "#bd3786"
             ],
             [
              0.5555555555555556,
              "#d8576b"
             ],
             [
              0.6666666666666666,
              "#ed7953"
             ],
             [
              0.7777777777777778,
              "#fb9f3a"
             ],
             [
              0.8888888888888888,
              "#fdca26"
             ],
             [
              1,
              "#f0f921"
             ]
            ],
            "type": "heatmap"
           }
          ],
          "heatmapgl": [
           {
            "colorbar": {
             "outlinewidth": 0,
             "ticks": ""
            },
            "colorscale": [
             [
              0,
              "#0d0887"
             ],
             [
              0.1111111111111111,
              "#46039f"
             ],
             [
              0.2222222222222222,
              "#7201a8"
             ],
             [
              0.3333333333333333,
              "#9c179e"
             ],
             [
              0.4444444444444444,
              "#bd3786"
             ],
             [
              0.5555555555555556,
              "#d8576b"
             ],
             [
              0.6666666666666666,
              "#ed7953"
             ],
             [
              0.7777777777777778,
              "#fb9f3a"
             ],
             [
              0.8888888888888888,
              "#fdca26"
             ],
             [
              1,
              "#f0f921"
             ]
            ],
            "type": "heatmapgl"
           }
          ],
          "histogram": [
           {
            "marker": {
             "pattern": {
              "fillmode": "overlay",
              "size": 10,
              "solidity": 0.2
             }
            },
            "type": "histogram"
           }
          ],
          "histogram2d": [
           {
            "colorbar": {
             "outlinewidth": 0,
             "ticks": ""
            },
            "colorscale": [
             [
              0,
              "#0d0887"
             ],
             [
              0.1111111111111111,
              "#46039f"
             ],
             [
              0.2222222222222222,
              "#7201a8"
             ],
             [
              0.3333333333333333,
              "#9c179e"
             ],
             [
              0.4444444444444444,
              "#bd3786"
             ],
             [
              0.5555555555555556,
              "#d8576b"
             ],
             [
              0.6666666666666666,
              "#ed7953"
             ],
             [
              0.7777777777777778,
              "#fb9f3a"
             ],
             [
              0.8888888888888888,
              "#fdca26"
             ],
             [
              1,
              "#f0f921"
             ]
            ],
            "type": "histogram2d"
           }
          ],
          "histogram2dcontour": [
           {
            "colorbar": {
             "outlinewidth": 0,
             "ticks": ""
            },
            "colorscale": [
             [
              0,
              "#0d0887"
             ],
             [
              0.1111111111111111,
              "#46039f"
             ],
             [
              0.2222222222222222,
              "#7201a8"
             ],
             [
              0.3333333333333333,
              "#9c179e"
             ],
             [
              0.4444444444444444,
              "#bd3786"
             ],
             [
              0.5555555555555556,
              "#d8576b"
             ],
             [
              0.6666666666666666,
              "#ed7953"
             ],
             [
              0.7777777777777778,
              "#fb9f3a"
             ],
             [
              0.8888888888888888,
              "#fdca26"
             ],
             [
              1,
              "#f0f921"
             ]
            ],
            "type": "histogram2dcontour"
           }
          ],
          "mesh3d": [
           {
            "colorbar": {
             "outlinewidth": 0,
             "ticks": ""
            },
            "type": "mesh3d"
           }
          ],
          "parcoords": [
           {
            "line": {
             "colorbar": {
              "outlinewidth": 0,
              "ticks": ""
             }
            },
            "type": "parcoords"
           }
          ],
          "pie": [
           {
            "automargin": true,
            "type": "pie"
           }
          ],
          "scatter": [
           {
            "fillpattern": {
             "fillmode": "overlay",
             "size": 10,
             "solidity": 0.2
            },
            "type": "scatter"
           }
          ],
          "scatter3d": [
           {
            "line": {
             "colorbar": {
              "outlinewidth": 0,
              "ticks": ""
             }
            },
            "marker": {
             "colorbar": {
              "outlinewidth": 0,
              "ticks": ""
             }
            },
            "type": "scatter3d"
           }
          ],
          "scattercarpet": [
           {
            "marker": {
             "colorbar": {
              "outlinewidth": 0,
              "ticks": ""
             }
            },
            "type": "scattercarpet"
           }
          ],
          "scattergeo": [
           {
            "marker": {
             "colorbar": {
              "outlinewidth": 0,
              "ticks": ""
             }
            },
            "type": "scattergeo"
           }
          ],
          "scattergl": [
           {
            "marker": {
             "colorbar": {
              "outlinewidth": 0,
              "ticks": ""
             }
            },
            "type": "scattergl"
           }
          ],
          "scattermapbox": [
           {
            "marker": {
             "colorbar": {
              "outlinewidth": 0,
              "ticks": ""
             }
            },
            "type": "scattermapbox"
           }
          ],
          "scatterpolar": [
           {
            "marker": {
             "colorbar": {
              "outlinewidth": 0,
              "ticks": ""
             }
            },
            "type": "scatterpolar"
           }
          ],
          "scatterpolargl": [
           {
            "marker": {
             "colorbar": {
              "outlinewidth": 0,
              "ticks": ""
             }
            },
            "type": "scatterpolargl"
           }
          ],
          "scatterternary": [
           {
            "marker": {
             "colorbar": {
              "outlinewidth": 0,
              "ticks": ""
             }
            },
            "type": "scatterternary"
           }
          ],
          "surface": [
           {
            "colorbar": {
             "outlinewidth": 0,
             "ticks": ""
            },
            "colorscale": [
             [
              0,
              "#0d0887"
             ],
             [
              0.1111111111111111,
              "#46039f"
             ],
             [
              0.2222222222222222,
              "#7201a8"
             ],
             [
              0.3333333333333333,
              "#9c179e"
             ],
             [
              0.4444444444444444,
              "#bd3786"
             ],
             [
              0.5555555555555556,
              "#d8576b"
             ],
             [
              0.6666666666666666,
              "#ed7953"
             ],
             [
              0.7777777777777778,
              "#fb9f3a"
             ],
             [
              0.8888888888888888,
              "#fdca26"
             ],
             [
              1,
              "#f0f921"
             ]
            ],
            "type": "surface"
           }
          ],
          "table": [
           {
            "cells": {
             "fill": {
              "color": "#EBF0F8"
             },
             "line": {
              "color": "white"
             }
            },
            "header": {
             "fill": {
              "color": "#C8D4E3"
             },
             "line": {
              "color": "white"
             }
            },
            "type": "table"
           }
          ]
         },
         "layout": {
          "annotationdefaults": {
           "arrowcolor": "#2a3f5f",
           "arrowhead": 0,
           "arrowwidth": 1
          },
          "autotypenumbers": "strict",
          "coloraxis": {
           "colorbar": {
            "outlinewidth": 0,
            "ticks": ""
           }
          },
          "colorscale": {
           "diverging": [
            [
             0,
             "#8e0152"
            ],
            [
             0.1,
             "#c51b7d"
            ],
            [
             0.2,
             "#de77ae"
            ],
            [
             0.3,
             "#f1b6da"
            ],
            [
             0.4,
             "#fde0ef"
            ],
            [
             0.5,
             "#f7f7f7"
            ],
            [
             0.6,
             "#e6f5d0"
            ],
            [
             0.7,
             "#b8e186"
            ],
            [
             0.8,
             "#7fbc41"
            ],
            [
             0.9,
             "#4d9221"
            ],
            [
             1,
             "#276419"
            ]
           ],
           "sequential": [
            [
             0,
             "#0d0887"
            ],
            [
             0.1111111111111111,
             "#46039f"
            ],
            [
             0.2222222222222222,
             "#7201a8"
            ],
            [
             0.3333333333333333,
             "#9c179e"
            ],
            [
             0.4444444444444444,
             "#bd3786"
            ],
            [
             0.5555555555555556,
             "#d8576b"
            ],
            [
             0.6666666666666666,
             "#ed7953"
            ],
            [
             0.7777777777777778,
             "#fb9f3a"
            ],
            [
             0.8888888888888888,
             "#fdca26"
            ],
            [
             1,
             "#f0f921"
            ]
           ],
           "sequentialminus": [
            [
             0,
             "#0d0887"
            ],
            [
             0.1111111111111111,
             "#46039f"
            ],
            [
             0.2222222222222222,
             "#7201a8"
            ],
            [
             0.3333333333333333,
             "#9c179e"
            ],
            [
             0.4444444444444444,
             "#bd3786"
            ],
            [
             0.5555555555555556,
             "#d8576b"
            ],
            [
             0.6666666666666666,
             "#ed7953"
            ],
            [
             0.7777777777777778,
             "#fb9f3a"
            ],
            [
             0.8888888888888888,
             "#fdca26"
            ],
            [
             1,
             "#f0f921"
            ]
           ]
          },
          "colorway": [
           "#636efa",
           "#EF553B",
           "#00cc96",
           "#ab63fa",
           "#FFA15A",
           "#19d3f3",
           "#FF6692",
           "#B6E880",
           "#FF97FF",
           "#FECB52"
          ],
          "font": {
           "color": "#2a3f5f"
          },
          "geo": {
           "bgcolor": "white",
           "lakecolor": "white",
           "landcolor": "#E5ECF6",
           "showlakes": true,
           "showland": true,
           "subunitcolor": "white"
          },
          "hoverlabel": {
           "align": "left"
          },
          "hovermode": "closest",
          "mapbox": {
           "style": "light"
          },
          "paper_bgcolor": "white",
          "plot_bgcolor": "#E5ECF6",
          "polar": {
           "angularaxis": {
            "gridcolor": "white",
            "linecolor": "white",
            "ticks": ""
           },
           "bgcolor": "#E5ECF6",
           "radialaxis": {
            "gridcolor": "white",
            "linecolor": "white",
            "ticks": ""
           }
          },
          "scene": {
           "xaxis": {
            "backgroundcolor": "#E5ECF6",
            "gridcolor": "white",
            "gridwidth": 2,
            "linecolor": "white",
            "showbackground": true,
            "ticks": "",
            "zerolinecolor": "white"
           },
           "yaxis": {
            "backgroundcolor": "#E5ECF6",
            "gridcolor": "white",
            "gridwidth": 2,
            "linecolor": "white",
            "showbackground": true,
            "ticks": "",
            "zerolinecolor": "white"
           },
           "zaxis": {
            "backgroundcolor": "#E5ECF6",
            "gridcolor": "white",
            "gridwidth": 2,
            "linecolor": "white",
            "showbackground": true,
            "ticks": "",
            "zerolinecolor": "white"
           }
          },
          "shapedefaults": {
           "line": {
            "color": "#2a3f5f"
           }
          },
          "ternary": {
           "aaxis": {
            "gridcolor": "white",
            "linecolor": "white",
            "ticks": ""
           },
           "baxis": {
            "gridcolor": "white",
            "linecolor": "white",
            "ticks": ""
           },
           "bgcolor": "#E5ECF6",
           "caxis": {
            "gridcolor": "white",
            "linecolor": "white",
            "ticks": ""
           }
          },
          "title": {
           "x": 0.05
          },
          "xaxis": {
           "automargin": true,
           "gridcolor": "white",
           "linecolor": "white",
           "ticks": "",
           "title": {
            "standoff": 15
           },
           "zerolinecolor": "white",
           "zerolinewidth": 2
          },
          "yaxis": {
           "automargin": true,
           "gridcolor": "white",
           "linecolor": "white",
           "ticks": "",
           "title": {
            "standoff": 15
           },
           "zerolinecolor": "white",
           "zerolinewidth": 2
          }
         }
        },
        "xaxis": {
         "anchor": "y",
         "domain": [
          0,
          1
         ],
         "title": {
          "text": "HTN"
         }
        },
        "yaxis": {
         "anchor": "x",
         "domain": [
          0,
          1
         ],
         "title": {
          "text": "count"
         }
        }
       }
      },
      "text/html": [
       "<div>                            <div id=\"fa188b49-25e7-484e-b1d2-fffed53de05d\" class=\"plotly-graph-div\" style=\"height:525px; width:100%;\"></div>            <script type=\"text/javascript\">                require([\"plotly\"], function(Plotly) {                    window.PLOTLYENV=window.PLOTLYENV || {};                                    if (document.getElementById(\"fa188b49-25e7-484e-b1d2-fffed53de05d\")) {                    Plotly.newPlot(                        \"fa188b49-25e7-484e-b1d2-fffed53de05d\",                        [{\"alignmentgroup\":\"True\",\"bingroup\":\"x\",\"hovertemplate\":\"Mortality=Died\\u003cbr\\u003eHTN=%{x}\\u003cbr\\u003ecount=%{y}\\u003cextra\\u003e\\u003c\\u002fextra\\u003e\",\"legendgroup\":\"Died\",\"marker\":{\"color\":\"deeppink\",\"pattern\":{\"shape\":\"\"}},\"name\":\"Died\",\"offsetgroup\":\"Died\",\"orientation\":\"v\",\"showlegend\":true,\"x\":[\"NO\",\"NO\",\"YES\",\"YES\",\"YES\",\"YES\",\"NO\",\"YES\",\"YES\",\"YES\",\"NO\",\"YES\",\"YES\",\"YES\",\"YES\",\"YES\",\"NO\",\"NO\",\"YES\",\"YES\",\"YES\",\"NO\",\"NO\",\"NO\",\"NO\",\"NO\",\"YES\",\"YES\",\"NO\",\"YES\",\"NO\",\"YES\",\"YES\",\"YES\",\"NO\",\"NO\",\"NO\",\"YES\",\"NO\",\"NO\",\"NO\",\"NO\",\"NO\",\"NO\",\"YES\",\"YES\",\"NO\",\"YES\",\"YES\",\"YES\",\"YES\",\"YES\",\"NO\",\"NO\",\"YES\",\"NO\",\"YES\",\"NO\",\"NO\",\"NO\",\"NO\",\"YES\",\"YES\",\"NO\",\"YES\",\"NO\",\"YES\",\"YES\",\"YES\",\"NO\",\"NO\",\"NO\",\"YES\",\"NO\",\"NO\",\"NO\",\"NO\",\"NO\",\"NO\",\"YES\",\"YES\",\"NO\",\"YES\",\"YES\",\"YES\",\"YES\",\"YES\",\"NO\",\"NO\",\"YES\",\"NO\",\"YES\",\"NO\",\"NO\",\"NO\",\"NO\",\"YES\",\"YES\",\"NO\",\"YES\",\"NO\",\"YES\",\"YES\",\"YES\",\"NO\",\"NO\",\"NO\",\"YES\",\"NO\",\"NO\",\"NO\",\"NO\",\"NO\",\"NO\",\"NO\",\"NO\",\"YES\",\"YES\",\"NO\",\"YES\",\"NO\",\"YES\",\"NO\",\"YES\",\"NO\",\"NO\",\"NO\",\"NO\",\"NO\",\"NO\",\"YES\",\"NO\",\"NO\",\"NO\",\"NO\",\"NO\",\"NO\",\"YES\",\"YES\",\"NO\",\"YES\",\"YES\",\"YES\",\"YES\",\"YES\",\"NO\",\"NO\",\"YES\",\"YES\",\"YES\",\"NO\",\"YES\",\"YES\",\"YES\",\"YES\",\"YES\",\"NO\",\"NO\",\"YES\",\"YES\",\"YES\",\"NO\",\"NO\",\"NO\",\"NO\",\"NO\",\"YES\",\"YES\",\"NO\",\"YES\",\"NO\",\"YES\",\"YES\",\"YES\",\"NO\",\"NO\",\"NO\",\"YES\",\"NO\",\"NO\",\"NO\",\"NO\",\"NO\",\"NO\",\"YES\",\"YES\",\"NO\",\"YES\",\"YES\",\"YES\",\"YES\",\"YES\",\"NO\",\"NO\",\"YES\",\"YES\",\"YES\",\"NO\",\"YES\",\"YES\",\"YES\",\"YES\",\"YES\",\"NO\",\"NO\",\"YES\",\"YES\",\"YES\",\"NO\",\"NO\",\"NO\",\"NO\",\"NO\",\"NO\",\"YES\",\"NO\",\"NO\",\"NO\",\"NO\",\"NO\",\"NO\",\"YES\",\"YES\",\"NO\",\"YES\",\"YES\",\"YES\",\"YES\",\"YES\",\"NO\",\"NO\",\"YES\",\"YES\",\"YES\",\"NO\",\"YES\",\"YES\",\"YES\",\"YES\",\"YES\",\"NO\",\"NO\",\"NO\",\"NO\",\"YES\",\"NO\",\"NO\",\"NO\",\"NO\",\"NO\",\"NO\",\"YES\",\"YES\",\"NO\",\"YES\",\"YES\",\"YES\",\"YES\",\"YES\",\"NO\",\"NO\",\"YES\",\"YES\",\"YES\",\"NO\",\"YES\",\"YES\",\"YES\",\"YES\",\"YES\",\"NO\",\"NO\",\"YES\",\"YES\",\"YES\",\"NO\",\"NO\",\"NO\",\"NO\",\"NO\",\"YES\",\"YES\",\"NO\",\"YES\",\"NO\",\"YES\",\"YES\",\"YES\"],\"xaxis\":\"x\",\"yaxis\":\"y\",\"type\":\"histogram\"},{\"alignmentgroup\":\"True\",\"bingroup\":\"x\",\"hovertemplate\":\"Mortality=Alive\\u003cbr\\u003eHTN=%{x}\\u003cbr\\u003ecount=%{y}\\u003cextra\\u003e\\u003c\\u002fextra\\u003e\",\"legendgroup\":\"Alive\",\"marker\":{\"color\":\"aqua\",\"pattern\":{\"shape\":\"\"}},\"name\":\"Alive\",\"offsetgroup\":\"Alive\",\"orientation\":\"v\",\"showlegend\":true,\"x\":[\"YES\",\"NO\",\"YES\",\"YES\",\"NO\",\"YES\",\"YES\",\"YES\",\"YES\",\"YES\",\"NO\",\"YES\",\"YES\",\"YES\",\"YES\",\"NO\",\"YES\",\"NO\",\"NO\",\"YES\",\"YES\",\"YES\",\"YES\",\"YES\",\"YES\",\"NO\",\"NO\",\"YES\",\"NO\",\"YES\",\"YES\",\"YES\",\"YES\",\"YES\",\"NO\",\"YES\",\"YES\",\"YES\",\"YES\",\"NO\",\"YES\",\"NO\",\"NO\",\"YES\",\"NO\",\"YES\",\"YES\",\"YES\",\"YES\",\"YES\",\"NO\",\"YES\",\"YES\",\"YES\",\"YES\",\"NO\",\"YES\",\"NO\",\"YES\",\"NO\",\"YES\",\"YES\",\"YES\",\"YES\",\"NO\",\"YES\",\"NO\",\"YES\",\"YES\",\"YES\",\"YES\",\"YES\",\"NO\",\"YES\",\"YES\",\"YES\",\"YES\",\"NO\",\"YES\",\"NO\"],\"xaxis\":\"x\",\"yaxis\":\"y\",\"type\":\"histogram\"}],                        {\"template\":{\"data\":{\"histogram2dcontour\":[{\"type\":\"histogram2dcontour\",\"colorbar\":{\"outlinewidth\":0,\"ticks\":\"\"},\"colorscale\":[[0.0,\"#0d0887\"],[0.1111111111111111,\"#46039f\"],[0.2222222222222222,\"#7201a8\"],[0.3333333333333333,\"#9c179e\"],[0.4444444444444444,\"#bd3786\"],[0.5555555555555556,\"#d8576b\"],[0.6666666666666666,\"#ed7953\"],[0.7777777777777778,\"#fb9f3a\"],[0.8888888888888888,\"#fdca26\"],[1.0,\"#f0f921\"]]}],\"choropleth\":[{\"type\":\"choropleth\",\"colorbar\":{\"outlinewidth\":0,\"ticks\":\"\"}}],\"histogram2d\":[{\"type\":\"histogram2d\",\"colorbar\":{\"outlinewidth\":0,\"ticks\":\"\"},\"colorscale\":[[0.0,\"#0d0887\"],[0.1111111111111111,\"#46039f\"],[0.2222222222222222,\"#7201a8\"],[0.3333333333333333,\"#9c179e\"],[0.4444444444444444,\"#bd3786\"],[0.5555555555555556,\"#d8576b\"],[0.6666666666666666,\"#ed7953\"],[0.7777777777777778,\"#fb9f3a\"],[0.8888888888888888,\"#fdca26\"],[1.0,\"#f0f921\"]]}],\"heatmap\":[{\"type\":\"heatmap\",\"colorbar\":{\"outlinewidth\":0,\"ticks\":\"\"},\"colorscale\":[[0.0,\"#0d0887\"],[0.1111111111111111,\"#46039f\"],[0.2222222222222222,\"#7201a8\"],[0.3333333333333333,\"#9c179e\"],[0.4444444444444444,\"#bd3786\"],[0.5555555555555556,\"#d8576b\"],[0.6666666666666666,\"#ed7953\"],[0.7777777777777778,\"#fb9f3a\"],[0.8888888888888888,\"#fdca26\"],[1.0,\"#f0f921\"]]}],\"heatmapgl\":[{\"type\":\"heatmapgl\",\"colorbar\":{\"outlinewidth\":0,\"ticks\":\"\"},\"colorscale\":[[0.0,\"#0d0887\"],[0.1111111111111111,\"#46039f\"],[0.2222222222222222,\"#7201a8\"],[0.3333333333333333,\"#9c179e\"],[0.4444444444444444,\"#bd3786\"],[0.5555555555555556,\"#d8576b\"],[0.6666666666666666,\"#ed7953\"],[0.7777777777777778,\"#fb9f3a\"],[0.8888888888888888,\"#fdca26\"],[1.0,\"#f0f921\"]]}],\"contourcarpet\":[{\"type\":\"contourcarpet\",\"colorbar\":{\"outlinewidth\":0,\"ticks\":\"\"}}],\"contour\":[{\"type\":\"contour\",\"colorbar\":{\"outlinewidth\":0,\"ticks\":\"\"},\"colorscale\":[[0.0,\"#0d0887\"],[0.1111111111111111,\"#46039f\"],[0.2222222222222222,\"#7201a8\"],[0.3333333333333333,\"#9c179e\"],[0.4444444444444444,\"#bd3786\"],[0.5555555555555556,\"#d8576b\"],[0.6666666666666666,\"#ed7953\"],[0.7777777777777778,\"#fb9f3a\"],[0.8888888888888888,\"#fdca26\"],[1.0,\"#f0f921\"]]}],\"surface\":[{\"type\":\"surface\",\"colorbar\":{\"outlinewidth\":0,\"ticks\":\"\"},\"colorscale\":[[0.0,\"#0d0887\"],[0.1111111111111111,\"#46039f\"],[0.2222222222222222,\"#7201a8\"],[0.3333333333333333,\"#9c179e\"],[0.4444444444444444,\"#bd3786\"],[0.5555555555555556,\"#d8576b\"],[0.6666666666666666,\"#ed7953\"],[0.7777777777777778,\"#fb9f3a\"],[0.8888888888888888,\"#fdca26\"],[1.0,\"#f0f921\"]]}],\"mesh3d\":[{\"type\":\"mesh3d\",\"colorbar\":{\"outlinewidth\":0,\"ticks\":\"\"}}],\"scatter\":[{\"fillpattern\":{\"fillmode\":\"overlay\",\"size\":10,\"solidity\":0.2},\"type\":\"scatter\"}],\"parcoords\":[{\"type\":\"parcoords\",\"line\":{\"colorbar\":{\"outlinewidth\":0,\"ticks\":\"\"}}}],\"scatterpolargl\":[{\"type\":\"scatterpolargl\",\"marker\":{\"colorbar\":{\"outlinewidth\":0,\"ticks\":\"\"}}}],\"bar\":[{\"error_x\":{\"color\":\"#2a3f5f\"},\"error_y\":{\"color\":\"#2a3f5f\"},\"marker\":{\"line\":{\"color\":\"#E5ECF6\",\"width\":0.5},\"pattern\":{\"fillmode\":\"overlay\",\"size\":10,\"solidity\":0.2}},\"type\":\"bar\"}],\"scattergeo\":[{\"type\":\"scattergeo\",\"marker\":{\"colorbar\":{\"outlinewidth\":0,\"ticks\":\"\"}}}],\"scatterpolar\":[{\"type\":\"scatterpolar\",\"marker\":{\"colorbar\":{\"outlinewidth\":0,\"ticks\":\"\"}}}],\"histogram\":[{\"marker\":{\"pattern\":{\"fillmode\":\"overlay\",\"size\":10,\"solidity\":0.2}},\"type\":\"histogram\"}],\"scattergl\":[{\"type\":\"scattergl\",\"marker\":{\"colorbar\":{\"outlinewidth\":0,\"ticks\":\"\"}}}],\"scatter3d\":[{\"type\":\"scatter3d\",\"line\":{\"colorbar\":{\"outlinewidth\":0,\"ticks\":\"\"}},\"marker\":{\"colorbar\":{\"outlinewidth\":0,\"ticks\":\"\"}}}],\"scattermapbox\":[{\"type\":\"scattermapbox\",\"marker\":{\"colorbar\":{\"outlinewidth\":0,\"ticks\":\"\"}}}],\"scatterternary\":[{\"type\":\"scatterternary\",\"marker\":{\"colorbar\":{\"outlinewidth\":0,\"ticks\":\"\"}}}],\"scattercarpet\":[{\"type\":\"scattercarpet\",\"marker\":{\"colorbar\":{\"outlinewidth\":0,\"ticks\":\"\"}}}],\"carpet\":[{\"aaxis\":{\"endlinecolor\":\"#2a3f5f\",\"gridcolor\":\"white\",\"linecolor\":\"white\",\"minorgridcolor\":\"white\",\"startlinecolor\":\"#2a3f5f\"},\"baxis\":{\"endlinecolor\":\"#2a3f5f\",\"gridcolor\":\"white\",\"linecolor\":\"white\",\"minorgridcolor\":\"white\",\"startlinecolor\":\"#2a3f5f\"},\"type\":\"carpet\"}],\"table\":[{\"cells\":{\"fill\":{\"color\":\"#EBF0F8\"},\"line\":{\"color\":\"white\"}},\"header\":{\"fill\":{\"color\":\"#C8D4E3\"},\"line\":{\"color\":\"white\"}},\"type\":\"table\"}],\"barpolar\":[{\"marker\":{\"line\":{\"color\":\"#E5ECF6\",\"width\":0.5},\"pattern\":{\"fillmode\":\"overlay\",\"size\":10,\"solidity\":0.2}},\"type\":\"barpolar\"}],\"pie\":[{\"automargin\":true,\"type\":\"pie\"}]},\"layout\":{\"autotypenumbers\":\"strict\",\"colorway\":[\"#636efa\",\"#EF553B\",\"#00cc96\",\"#ab63fa\",\"#FFA15A\",\"#19d3f3\",\"#FF6692\",\"#B6E880\",\"#FF97FF\",\"#FECB52\"],\"font\":{\"color\":\"#2a3f5f\"},\"hovermode\":\"closest\",\"hoverlabel\":{\"align\":\"left\"},\"paper_bgcolor\":\"white\",\"plot_bgcolor\":\"#E5ECF6\",\"polar\":{\"bgcolor\":\"#E5ECF6\",\"angularaxis\":{\"gridcolor\":\"white\",\"linecolor\":\"white\",\"ticks\":\"\"},\"radialaxis\":{\"gridcolor\":\"white\",\"linecolor\":\"white\",\"ticks\":\"\"}},\"ternary\":{\"bgcolor\":\"#E5ECF6\",\"aaxis\":{\"gridcolor\":\"white\",\"linecolor\":\"white\",\"ticks\":\"\"},\"baxis\":{\"gridcolor\":\"white\",\"linecolor\":\"white\",\"ticks\":\"\"},\"caxis\":{\"gridcolor\":\"white\",\"linecolor\":\"white\",\"ticks\":\"\"}},\"coloraxis\":{\"colorbar\":{\"outlinewidth\":0,\"ticks\":\"\"}},\"colorscale\":{\"sequential\":[[0.0,\"#0d0887\"],[0.1111111111111111,\"#46039f\"],[0.2222222222222222,\"#7201a8\"],[0.3333333333333333,\"#9c179e\"],[0.4444444444444444,\"#bd3786\"],[0.5555555555555556,\"#d8576b\"],[0.6666666666666666,\"#ed7953\"],[0.7777777777777778,\"#fb9f3a\"],[0.8888888888888888,\"#fdca26\"],[1.0,\"#f0f921\"]],\"sequentialminus\":[[0.0,\"#0d0887\"],[0.1111111111111111,\"#46039f\"],[0.2222222222222222,\"#7201a8\"],[0.3333333333333333,\"#9c179e\"],[0.4444444444444444,\"#bd3786\"],[0.5555555555555556,\"#d8576b\"],[0.6666666666666666,\"#ed7953\"],[0.7777777777777778,\"#fb9f3a\"],[0.8888888888888888,\"#fdca26\"],[1.0,\"#f0f921\"]],\"diverging\":[[0,\"#8e0152\"],[0.1,\"#c51b7d\"],[0.2,\"#de77ae\"],[0.3,\"#f1b6da\"],[0.4,\"#fde0ef\"],[0.5,\"#f7f7f7\"],[0.6,\"#e6f5d0\"],[0.7,\"#b8e186\"],[0.8,\"#7fbc41\"],[0.9,\"#4d9221\"],[1,\"#276419\"]]},\"xaxis\":{\"gridcolor\":\"white\",\"linecolor\":\"white\",\"ticks\":\"\",\"title\":{\"standoff\":15},\"zerolinecolor\":\"white\",\"automargin\":true,\"zerolinewidth\":2},\"yaxis\":{\"gridcolor\":\"white\",\"linecolor\":\"white\",\"ticks\":\"\",\"title\":{\"standoff\":15},\"zerolinecolor\":\"white\",\"automargin\":true,\"zerolinewidth\":2},\"scene\":{\"xaxis\":{\"backgroundcolor\":\"#E5ECF6\",\"gridcolor\":\"white\",\"linecolor\":\"white\",\"showbackground\":true,\"ticks\":\"\",\"zerolinecolor\":\"white\",\"gridwidth\":2},\"yaxis\":{\"backgroundcolor\":\"#E5ECF6\",\"gridcolor\":\"white\",\"linecolor\":\"white\",\"showbackground\":true,\"ticks\":\"\",\"zerolinecolor\":\"white\",\"gridwidth\":2},\"zaxis\":{\"backgroundcolor\":\"#E5ECF6\",\"gridcolor\":\"white\",\"linecolor\":\"white\",\"showbackground\":true,\"ticks\":\"\",\"zerolinecolor\":\"white\",\"gridwidth\":2}},\"shapedefaults\":{\"line\":{\"color\":\"#2a3f5f\"}},\"annotationdefaults\":{\"arrowcolor\":\"#2a3f5f\",\"arrowhead\":0,\"arrowwidth\":1},\"geo\":{\"bgcolor\":\"white\",\"landcolor\":\"#E5ECF6\",\"subunitcolor\":\"white\",\"showland\":true,\"showlakes\":true,\"lakecolor\":\"white\"},\"title\":{\"x\":0.05},\"mapbox\":{\"style\":\"light\"}}},\"xaxis\":{\"anchor\":\"y\",\"domain\":[0.0,1.0],\"title\":{\"text\":\"HTN\"}},\"yaxis\":{\"anchor\":\"x\",\"domain\":[0.0,1.0],\"title\":{\"text\":\"count\"}},\"legend\":{\"title\":{\"text\":\"Mortality\"},\"tracegroupgap\":0},\"margin\":{\"t\":60},\"barmode\":\"relative\"},                        {\"responsive\": true}                    ).then(function(){\n",
       "                            \n",
       "var gd = document.getElementById('fa188b49-25e7-484e-b1d2-fffed53de05d');\n",
       "var x = new MutationObserver(function (mutations, observer) {{\n",
       "        var display = window.getComputedStyle(gd).display;\n",
       "        if (!display || display === 'none') {{\n",
       "            console.log([gd, 'removed!']);\n",
       "            Plotly.purge(gd);\n",
       "            observer.disconnect();\n",
       "        }}\n",
       "}});\n",
       "\n",
       "// Listen for the removal of the full notebook cells\n",
       "var notebookContainer = gd.closest('#notebook-container');\n",
       "if (notebookContainer) {{\n",
       "    x.observe(notebookContainer, {childList: true});\n",
       "}}\n",
       "\n",
       "// Listen for the clearing of the current output cell\n",
       "var outputEl = gd.closest('.output');\n",
       "if (outputEl) {{\n",
       "    x.observe(outputEl, {childList: true});\n",
       "}}\n",
       "\n",
       "                        })                };                });            </script>        </div>"
      ]
     },
     "metadata": {},
     "output_type": "display_data"
    },
    {
     "name": "stdout",
     "output_type": "stream",
     "text": [
      "Category:  Others\n",
      "P-value:  0.0\n",
      "H0 rejected \n",
      "\n"
     ]
    },
    {
     "data": {
      "application/vnd.plotly.v1+json": {
       "config": {
        "plotlyServerURL": "https://plot.ly"
       },
       "data": [
        {
         "alignmentgroup": "True",
         "bingroup": "x",
         "hovertemplate": "Mortality=Died<br>Others=%{x}<br>count=%{y}<extra></extra>",
         "legendgroup": "Died",
         "marker": {
          "color": "deeppink",
          "pattern": {
           "shape": ""
          }
         },
         "name": "Died",
         "offsetgroup": "Died",
         "orientation": "v",
         "showlegend": true,
         "type": "histogram",
         "x": [
          "no",
          "no",
          "LV dysfunction",
          "HTN",
          "no",
          "no",
          "no",
          "LV dysfunction",
          "no",
          "PND, ORTHOPENIA",
          "no",
          "LV dysfunction",
          "HTN",
          "no",
          "PND, ORTHOPENIA",
          "no",
          "no",
          "no",
          "IHD, SOB",
          "no",
          "ACS",
          "HTN",
          "no",
          "HTN",
          "CHB, RV INFARCT",
          "no",
          "no",
          "no",
          "ORTHOPENIA, PND",
          "HCV, IHD",
          "no",
          "SEIZARIAN, HYSTECTOMY.",
          "no",
          "HTN, DM",
          "HTN",
          "HTN, DM",
          "HTN, DM",
          "IHD, HTN",
          "no",
          "no",
          "no",
          "HTN",
          "no",
          "no",
          "IHD, SOB",
          "HTN",
          "no",
          "no",
          "no",
          "DM",
          "ACS",
          "no",
          "HTN",
          "no",
          "no",
          "ICMP WITH EF= 30%,PULMONAR ODEMA",
          "no",
          "HTN",
          "no",
          "CHB, RV INFARCT",
          "no",
          "no",
          "no",
          "ORTHOPENIA, PND",
          "HCV, IHD",
          "no",
          "SEIZARIAN, HYSTECTOMY.",
          "no",
          "HTN, DM",
          "HTN",
          "HTN, DM",
          "HTN, DM",
          "IHD, HTN",
          "no",
          "no",
          "no",
          "HTN",
          "no",
          "no",
          "IHD, SOB",
          "HTN",
          "no",
          "no",
          "no",
          "DM",
          "ACS",
          "no",
          "HTN",
          "no",
          "no",
          "ICMP WITH EF= 30%,PULMONAR ODEMA",
          "no",
          "HTN",
          "no",
          "CHB, RV INFARCT",
          "no",
          "no",
          "no",
          "ORTHOPENIA, PND",
          "HCV, IHD",
          "no",
          "SEIZARIAN, HYSTECTOMY.",
          "no",
          "HTN, DM",
          "HTN",
          "HTN, DM",
          "HTN, DM",
          "IHD, HTN",
          "no",
          "no",
          "no",
          "HTN",
          "HTN",
          "no",
          "CHB, RV INFARCT",
          "no",
          "no",
          "no",
          "ORTHOPENIA, PND",
          "HCV, IHD",
          "no",
          "no",
          "PULMONARY ODEMA ",
          "no",
          "no",
          "DM,M.I",
          "no",
          "HTN",
          "HTN, DM",
          "HTN, DM",
          "IHD, HTN",
          "no",
          "no",
          "no",
          "HTN",
          "no",
          "no",
          "IHD, SOB",
          "HTN",
          "no",
          "no",
          "no",
          "DM",
          "ACS",
          "no",
          "HTN",
          "no",
          "no",
          "no",
          "PND, ORTHOPENIA",
          "no",
          "LV dysfunction",
          "HTN",
          "no",
          "PND, ORTHOPENIA",
          "no",
          "no",
          "no",
          "IHD, SOB",
          "no",
          "ACS",
          "HTN",
          "no",
          "HTN",
          "CHB, RV INFARCT",
          "no",
          "no",
          "no",
          "ORTHOPENIA, PND",
          "HCV, IHD",
          "no",
          "SEIZARIAN, HYSTECTOMY.",
          "no",
          "HTN, DM",
          "HTN",
          "HTN, DM",
          "HTN, DM",
          "IHD, HTN",
          "no",
          "no",
          "no",
          "HTN",
          "no",
          "no",
          "IHD, SOB",
          "HTN",
          "no",
          "no",
          "no",
          "DM",
          "ACS",
          "no",
          "HTN",
          "no",
          "no",
          "no",
          "PND, ORTHOPENIA",
          "no",
          "LV dysfunction",
          "HTN",
          "no",
          "PND, ORTHOPENIA",
          "no",
          "no",
          "no",
          "IHD, SOB",
          "no",
          "ACS",
          "HTN",
          "no",
          "HTN",
          "HTN",
          "HTN, DM",
          "HTN, DM",
          "IHD, HTN",
          "no",
          "no",
          "no",
          "HTN",
          "no",
          "no",
          "IHD, SOB",
          "HTN",
          "no",
          "no",
          "no",
          "DM",
          "ACS",
          "no",
          "HTN",
          "no",
          "no",
          "no",
          "PND, ORTHOPENIA",
          "no",
          "LV dysfunction",
          "HTN",
          "no",
          "PND, ORTHOPENIA",
          "no",
          "no",
          "HTN",
          "HTN, DM",
          "HTN, DM",
          "IHD, HTN",
          "no",
          "no",
          "no",
          "HTN",
          "no",
          "no",
          "IHD, SOB",
          "HTN",
          "no",
          "no",
          "no",
          "DM",
          "ACS",
          "no",
          "HTN",
          "no",
          "no",
          "no",
          "PND, ORTHOPENIA",
          "no",
          "LV dysfunction",
          "HTN",
          "no",
          "PND, ORTHOPENIA",
          "no",
          "no",
          "no",
          "IHD, SOB",
          "no",
          "ACS",
          "HTN",
          "no",
          "HTN",
          "CHB, RV INFARCT",
          "no",
          "no",
          "no",
          "ORTHOPENIA, PND",
          "HCV, IHD",
          "no",
          "SEIZARIAN, HYSTECTOMY.",
          "no",
          "HTN, DM"
         ],
         "xaxis": "x",
         "yaxis": "y"
        },
        {
         "alignmentgroup": "True",
         "bingroup": "x",
         "hovertemplate": "Mortality=Alive<br>Others=%{x}<br>count=%{y}<extra></extra>",
         "legendgroup": "Alive",
         "marker": {
          "color": "aqua",
          "pattern": {
           "shape": ""
          }
         },
         "name": "Alive",
         "offsetgroup": "Alive",
         "orientation": "v",
         "showlegend": true,
         "type": "histogram",
         "x": [
          "PND, ORTHOPENIA",
          "no",
          "HTN",
          "no",
          "no",
          "HTN",
          "no",
          "PND, ORTHOPENIA",
          "no",
          "HTN",
          "no",
          "no",
          "DM",
          "no",
          "no",
          "ICMP WITH EF= 30%,PULMONAR ODEMA",
          "no",
          "no",
          "IHD,DM",
          "no",
          "PULMONARY ODEMA ",
          "no",
          "no",
          "DM,M.I",
          "no",
          "IHD,DM",
          "no",
          "no",
          "no",
          "HTN",
          "no",
          "PND, ORTHOPENIA",
          "no",
          "HTN",
          "no",
          "no",
          "DM",
          "no",
          "no",
          "ICMP WITH EF= 30%,PULMONAR ODEMA",
          "no",
          "no",
          "no",
          "no",
          "no",
          "HTN",
          "no",
          "PND, ORTHOPENIA",
          "no",
          "HTN",
          "no",
          "no",
          "DM",
          "no",
          "no",
          "ICMP WITH EF= 30%,PULMONAR ODEMA",
          "no",
          "no",
          "no",
          "no",
          "HTN",
          "no",
          "PND, ORTHOPENIA",
          "no",
          "no",
          "no",
          "no",
          "HTN",
          "no",
          "PND, ORTHOPENIA",
          "no",
          "HTN",
          "no",
          "no",
          "DM",
          "no",
          "no",
          "ICMP WITH EF= 30%,PULMONAR ODEMA",
          "no",
          "no"
         ],
         "xaxis": "x",
         "yaxis": "y"
        }
       ],
       "layout": {
        "barmode": "relative",
        "legend": {
         "title": {
          "text": "Mortality"
         },
         "tracegroupgap": 0
        },
        "margin": {
         "t": 60
        },
        "template": {
         "data": {
          "bar": [
           {
            "error_x": {
             "color": "#2a3f5f"
            },
            "error_y": {
             "color": "#2a3f5f"
            },
            "marker": {
             "line": {
              "color": "#E5ECF6",
              "width": 0.5
             },
             "pattern": {
              "fillmode": "overlay",
              "size": 10,
              "solidity": 0.2
             }
            },
            "type": "bar"
           }
          ],
          "barpolar": [
           {
            "marker": {
             "line": {
              "color": "#E5ECF6",
              "width": 0.5
             },
             "pattern": {
              "fillmode": "overlay",
              "size": 10,
              "solidity": 0.2
             }
            },
            "type": "barpolar"
           }
          ],
          "carpet": [
           {
            "aaxis": {
             "endlinecolor": "#2a3f5f",
             "gridcolor": "white",
             "linecolor": "white",
             "minorgridcolor": "white",
             "startlinecolor": "#2a3f5f"
            },
            "baxis": {
             "endlinecolor": "#2a3f5f",
             "gridcolor": "white",
             "linecolor": "white",
             "minorgridcolor": "white",
             "startlinecolor": "#2a3f5f"
            },
            "type": "carpet"
           }
          ],
          "choropleth": [
           {
            "colorbar": {
             "outlinewidth": 0,
             "ticks": ""
            },
            "type": "choropleth"
           }
          ],
          "contour": [
           {
            "colorbar": {
             "outlinewidth": 0,
             "ticks": ""
            },
            "colorscale": [
             [
              0,
              "#0d0887"
             ],
             [
              0.1111111111111111,
              "#46039f"
             ],
             [
              0.2222222222222222,
              "#7201a8"
             ],
             [
              0.3333333333333333,
              "#9c179e"
             ],
             [
              0.4444444444444444,
              "#bd3786"
             ],
             [
              0.5555555555555556,
              "#d8576b"
             ],
             [
              0.6666666666666666,
              "#ed7953"
             ],
             [
              0.7777777777777778,
              "#fb9f3a"
             ],
             [
              0.8888888888888888,
              "#fdca26"
             ],
             [
              1,
              "#f0f921"
             ]
            ],
            "type": "contour"
           }
          ],
          "contourcarpet": [
           {
            "colorbar": {
             "outlinewidth": 0,
             "ticks": ""
            },
            "type": "contourcarpet"
           }
          ],
          "heatmap": [
           {
            "colorbar": {
             "outlinewidth": 0,
             "ticks": ""
            },
            "colorscale": [
             [
              0,
              "#0d0887"
             ],
             [
              0.1111111111111111,
              "#46039f"
             ],
             [
              0.2222222222222222,
              "#7201a8"
             ],
             [
              0.3333333333333333,
              "#9c179e"
             ],
             [
              0.4444444444444444,
              "#bd3786"
             ],
             [
              0.5555555555555556,
              "#d8576b"
             ],
             [
              0.6666666666666666,
              "#ed7953"
             ],
             [
              0.7777777777777778,
              "#fb9f3a"
             ],
             [
              0.8888888888888888,
              "#fdca26"
             ],
             [
              1,
              "#f0f921"
             ]
            ],
            "type": "heatmap"
           }
          ],
          "heatmapgl": [
           {
            "colorbar": {
             "outlinewidth": 0,
             "ticks": ""
            },
            "colorscale": [
             [
              0,
              "#0d0887"
             ],
             [
              0.1111111111111111,
              "#46039f"
             ],
             [
              0.2222222222222222,
              "#7201a8"
             ],
             [
              0.3333333333333333,
              "#9c179e"
             ],
             [
              0.4444444444444444,
              "#bd3786"
             ],
             [
              0.5555555555555556,
              "#d8576b"
             ],
             [
              0.6666666666666666,
              "#ed7953"
             ],
             [
              0.7777777777777778,
              "#fb9f3a"
             ],
             [
              0.8888888888888888,
              "#fdca26"
             ],
             [
              1,
              "#f0f921"
             ]
            ],
            "type": "heatmapgl"
           }
          ],
          "histogram": [
           {
            "marker": {
             "pattern": {
              "fillmode": "overlay",
              "size": 10,
              "solidity": 0.2
             }
            },
            "type": "histogram"
           }
          ],
          "histogram2d": [
           {
            "colorbar": {
             "outlinewidth": 0,
             "ticks": ""
            },
            "colorscale": [
             [
              0,
              "#0d0887"
             ],
             [
              0.1111111111111111,
              "#46039f"
             ],
             [
              0.2222222222222222,
              "#7201a8"
             ],
             [
              0.3333333333333333,
              "#9c179e"
             ],
             [
              0.4444444444444444,
              "#bd3786"
             ],
             [
              0.5555555555555556,
              "#d8576b"
             ],
             [
              0.6666666666666666,
              "#ed7953"
             ],
             [
              0.7777777777777778,
              "#fb9f3a"
             ],
             [
              0.8888888888888888,
              "#fdca26"
             ],
             [
              1,
              "#f0f921"
             ]
            ],
            "type": "histogram2d"
           }
          ],
          "histogram2dcontour": [
           {
            "colorbar": {
             "outlinewidth": 0,
             "ticks": ""
            },
            "colorscale": [
             [
              0,
              "#0d0887"
             ],
             [
              0.1111111111111111,
              "#46039f"
             ],
             [
              0.2222222222222222,
              "#7201a8"
             ],
             [
              0.3333333333333333,
              "#9c179e"
             ],
             [
              0.4444444444444444,
              "#bd3786"
             ],
             [
              0.5555555555555556,
              "#d8576b"
             ],
             [
              0.6666666666666666,
              "#ed7953"
             ],
             [
              0.7777777777777778,
              "#fb9f3a"
             ],
             [
              0.8888888888888888,
              "#fdca26"
             ],
             [
              1,
              "#f0f921"
             ]
            ],
            "type": "histogram2dcontour"
           }
          ],
          "mesh3d": [
           {
            "colorbar": {
             "outlinewidth": 0,
             "ticks": ""
            },
            "type": "mesh3d"
           }
          ],
          "parcoords": [
           {
            "line": {
             "colorbar": {
              "outlinewidth": 0,
              "ticks": ""
             }
            },
            "type": "parcoords"
           }
          ],
          "pie": [
           {
            "automargin": true,
            "type": "pie"
           }
          ],
          "scatter": [
           {
            "fillpattern": {
             "fillmode": "overlay",
             "size": 10,
             "solidity": 0.2
            },
            "type": "scatter"
           }
          ],
          "scatter3d": [
           {
            "line": {
             "colorbar": {
              "outlinewidth": 0,
              "ticks": ""
             }
            },
            "marker": {
             "colorbar": {
              "outlinewidth": 0,
              "ticks": ""
             }
            },
            "type": "scatter3d"
           }
          ],
          "scattercarpet": [
           {
            "marker": {
             "colorbar": {
              "outlinewidth": 0,
              "ticks": ""
             }
            },
            "type": "scattercarpet"
           }
          ],
          "scattergeo": [
           {
            "marker": {
             "colorbar": {
              "outlinewidth": 0,
              "ticks": ""
             }
            },
            "type": "scattergeo"
           }
          ],
          "scattergl": [
           {
            "marker": {
             "colorbar": {
              "outlinewidth": 0,
              "ticks": ""
             }
            },
            "type": "scattergl"
           }
          ],
          "scattermapbox": [
           {
            "marker": {
             "colorbar": {
              "outlinewidth": 0,
              "ticks": ""
             }
            },
            "type": "scattermapbox"
           }
          ],
          "scatterpolar": [
           {
            "marker": {
             "colorbar": {
              "outlinewidth": 0,
              "ticks": ""
             }
            },
            "type": "scatterpolar"
           }
          ],
          "scatterpolargl": [
           {
            "marker": {
             "colorbar": {
              "outlinewidth": 0,
              "ticks": ""
             }
            },
            "type": "scatterpolargl"
           }
          ],
          "scatterternary": [
           {
            "marker": {
             "colorbar": {
              "outlinewidth": 0,
              "ticks": ""
             }
            },
            "type": "scatterternary"
           }
          ],
          "surface": [
           {
            "colorbar": {
             "outlinewidth": 0,
             "ticks": ""
            },
            "colorscale": [
             [
              0,
              "#0d0887"
             ],
             [
              0.1111111111111111,
              "#46039f"
             ],
             [
              0.2222222222222222,
              "#7201a8"
             ],
             [
              0.3333333333333333,
              "#9c179e"
             ],
             [
              0.4444444444444444,
              "#bd3786"
             ],
             [
              0.5555555555555556,
              "#d8576b"
             ],
             [
              0.6666666666666666,
              "#ed7953"
             ],
             [
              0.7777777777777778,
              "#fb9f3a"
             ],
             [
              0.8888888888888888,
              "#fdca26"
             ],
             [
              1,
              "#f0f921"
             ]
            ],
            "type": "surface"
           }
          ],
          "table": [
           {
            "cells": {
             "fill": {
              "color": "#EBF0F8"
             },
             "line": {
              "color": "white"
             }
            },
            "header": {
             "fill": {
              "color": "#C8D4E3"
             },
             "line": {
              "color": "white"
             }
            },
            "type": "table"
           }
          ]
         },
         "layout": {
          "annotationdefaults": {
           "arrowcolor": "#2a3f5f",
           "arrowhead": 0,
           "arrowwidth": 1
          },
          "autotypenumbers": "strict",
          "coloraxis": {
           "colorbar": {
            "outlinewidth": 0,
            "ticks": ""
           }
          },
          "colorscale": {
           "diverging": [
            [
             0,
             "#8e0152"
            ],
            [
             0.1,
             "#c51b7d"
            ],
            [
             0.2,
             "#de77ae"
            ],
            [
             0.3,
             "#f1b6da"
            ],
            [
             0.4,
             "#fde0ef"
            ],
            [
             0.5,
             "#f7f7f7"
            ],
            [
             0.6,
             "#e6f5d0"
            ],
            [
             0.7,
             "#b8e186"
            ],
            [
             0.8,
             "#7fbc41"
            ],
            [
             0.9,
             "#4d9221"
            ],
            [
             1,
             "#276419"
            ]
           ],
           "sequential": [
            [
             0,
             "#0d0887"
            ],
            [
             0.1111111111111111,
             "#46039f"
            ],
            [
             0.2222222222222222,
             "#7201a8"
            ],
            [
             0.3333333333333333,
             "#9c179e"
            ],
            [
             0.4444444444444444,
             "#bd3786"
            ],
            [
             0.5555555555555556,
             "#d8576b"
            ],
            [
             0.6666666666666666,
             "#ed7953"
            ],
            [
             0.7777777777777778,
             "#fb9f3a"
            ],
            [
             0.8888888888888888,
             "#fdca26"
            ],
            [
             1,
             "#f0f921"
            ]
           ],
           "sequentialminus": [
            [
             0,
             "#0d0887"
            ],
            [
             0.1111111111111111,
             "#46039f"
            ],
            [
             0.2222222222222222,
             "#7201a8"
            ],
            [
             0.3333333333333333,
             "#9c179e"
            ],
            [
             0.4444444444444444,
             "#bd3786"
            ],
            [
             0.5555555555555556,
             "#d8576b"
            ],
            [
             0.6666666666666666,
             "#ed7953"
            ],
            [
             0.7777777777777778,
             "#fb9f3a"
            ],
            [
             0.8888888888888888,
             "#fdca26"
            ],
            [
             1,
             "#f0f921"
            ]
           ]
          },
          "colorway": [
           "#636efa",
           "#EF553B",
           "#00cc96",
           "#ab63fa",
           "#FFA15A",
           "#19d3f3",
           "#FF6692",
           "#B6E880",
           "#FF97FF",
           "#FECB52"
          ],
          "font": {
           "color": "#2a3f5f"
          },
          "geo": {
           "bgcolor": "white",
           "lakecolor": "white",
           "landcolor": "#E5ECF6",
           "showlakes": true,
           "showland": true,
           "subunitcolor": "white"
          },
          "hoverlabel": {
           "align": "left"
          },
          "hovermode": "closest",
          "mapbox": {
           "style": "light"
          },
          "paper_bgcolor": "white",
          "plot_bgcolor": "#E5ECF6",
          "polar": {
           "angularaxis": {
            "gridcolor": "white",
            "linecolor": "white",
            "ticks": ""
           },
           "bgcolor": "#E5ECF6",
           "radialaxis": {
            "gridcolor": "white",
            "linecolor": "white",
            "ticks": ""
           }
          },
          "scene": {
           "xaxis": {
            "backgroundcolor": "#E5ECF6",
            "gridcolor": "white",
            "gridwidth": 2,
            "linecolor": "white",
            "showbackground": true,
            "ticks": "",
            "zerolinecolor": "white"
           },
           "yaxis": {
            "backgroundcolor": "#E5ECF6",
            "gridcolor": "white",
            "gridwidth": 2,
            "linecolor": "white",
            "showbackground": true,
            "ticks": "",
            "zerolinecolor": "white"
           },
           "zaxis": {
            "backgroundcolor": "#E5ECF6",
            "gridcolor": "white",
            "gridwidth": 2,
            "linecolor": "white",
            "showbackground": true,
            "ticks": "",
            "zerolinecolor": "white"
           }
          },
          "shapedefaults": {
           "line": {
            "color": "#2a3f5f"
           }
          },
          "ternary": {
           "aaxis": {
            "gridcolor": "white",
            "linecolor": "white",
            "ticks": ""
           },
           "baxis": {
            "gridcolor": "white",
            "linecolor": "white",
            "ticks": ""
           },
           "bgcolor": "#E5ECF6",
           "caxis": {
            "gridcolor": "white",
            "linecolor": "white",
            "ticks": ""
           }
          },
          "title": {
           "x": 0.05
          },
          "xaxis": {
           "automargin": true,
           "gridcolor": "white",
           "linecolor": "white",
           "ticks": "",
           "title": {
            "standoff": 15
           },
           "zerolinecolor": "white",
           "zerolinewidth": 2
          },
          "yaxis": {
           "automargin": true,
           "gridcolor": "white",
           "linecolor": "white",
           "ticks": "",
           "title": {
            "standoff": 15
           },
           "zerolinecolor": "white",
           "zerolinewidth": 2
          }
         }
        },
        "xaxis": {
         "anchor": "y",
         "domain": [
          0,
          1
         ],
         "title": {
          "text": "Others"
         }
        },
        "yaxis": {
         "anchor": "x",
         "domain": [
          0,
          1
         ],
         "title": {
          "text": "count"
         }
        }
       }
      },
      "text/html": [
       "<div>                            <div id=\"2bc1d7da-43ac-40da-9996-d363ec745fbc\" class=\"plotly-graph-div\" style=\"height:525px; width:100%;\"></div>            <script type=\"text/javascript\">                require([\"plotly\"], function(Plotly) {                    window.PLOTLYENV=window.PLOTLYENV || {};                                    if (document.getElementById(\"2bc1d7da-43ac-40da-9996-d363ec745fbc\")) {                    Plotly.newPlot(                        \"2bc1d7da-43ac-40da-9996-d363ec745fbc\",                        [{\"alignmentgroup\":\"True\",\"bingroup\":\"x\",\"hovertemplate\":\"Mortality=Died\\u003cbr\\u003eOthers=%{x}\\u003cbr\\u003ecount=%{y}\\u003cextra\\u003e\\u003c\\u002fextra\\u003e\",\"legendgroup\":\"Died\",\"marker\":{\"color\":\"deeppink\",\"pattern\":{\"shape\":\"\"}},\"name\":\"Died\",\"offsetgroup\":\"Died\",\"orientation\":\"v\",\"showlegend\":true,\"x\":[\"no\",\"no\",\"LV dysfunction\",\"HTN\",\"no\",\"no\",\"no\",\"LV dysfunction\",\"no\",\"PND, ORTHOPENIA\",\"no\",\"LV dysfunction\",\"HTN\",\"no\",\"PND, ORTHOPENIA\",\"no\",\"no\",\"no\",\"IHD, SOB\",\"no\",\"ACS\",\"HTN\",\"no\",\"HTN\",\"CHB, RV INFARCT\",\"no\",\"no\",\"no\",\"ORTHOPENIA, PND\",\"HCV, IHD\",\"no\",\"SEIZARIAN, HYSTECTOMY.\",\"no\",\"HTN, DM\",\"HTN\",\"HTN, DM\",\"HTN, DM\",\"IHD, HTN\",\"no\",\"no\",\"no\",\"HTN\",\"no\",\"no\",\"IHD, SOB\",\"HTN\",\"no\",\"no\",\"no\",\"DM\",\"ACS\",\"no\",\"HTN\",\"no\",\"no\",\"ICMP WITH EF= 30%,PULMONAR ODEMA\",\"no\",\"HTN\",\"no\",\"CHB, RV INFARCT\",\"no\",\"no\",\"no\",\"ORTHOPENIA, PND\",\"HCV, IHD\",\"no\",\"SEIZARIAN, HYSTECTOMY.\",\"no\",\"HTN, DM\",\"HTN\",\"HTN, DM\",\"HTN, DM\",\"IHD, HTN\",\"no\",\"no\",\"no\",\"HTN\",\"no\",\"no\",\"IHD, SOB\",\"HTN\",\"no\",\"no\",\"no\",\"DM\",\"ACS\",\"no\",\"HTN\",\"no\",\"no\",\"ICMP WITH EF= 30%,PULMONAR ODEMA\",\"no\",\"HTN\",\"no\",\"CHB, RV INFARCT\",\"no\",\"no\",\"no\",\"ORTHOPENIA, PND\",\"HCV, IHD\",\"no\",\"SEIZARIAN, HYSTECTOMY.\",\"no\",\"HTN, DM\",\"HTN\",\"HTN, DM\",\"HTN, DM\",\"IHD, HTN\",\"no\",\"no\",\"no\",\"HTN\",\"HTN\",\"no\",\"CHB, RV INFARCT\",\"no\",\"no\",\"no\",\"ORTHOPENIA, PND\",\"HCV, IHD\",\"no\",\"no\",\"PULMONARY ODEMA \",\"no\",\"no\",\"DM,M.I\",\"no\",\"HTN\",\"HTN, DM\",\"HTN, DM\",\"IHD, HTN\",\"no\",\"no\",\"no\",\"HTN\",\"no\",\"no\",\"IHD, SOB\",\"HTN\",\"no\",\"no\",\"no\",\"DM\",\"ACS\",\"no\",\"HTN\",\"no\",\"no\",\"no\",\"PND, ORTHOPENIA\",\"no\",\"LV dysfunction\",\"HTN\",\"no\",\"PND, ORTHOPENIA\",\"no\",\"no\",\"no\",\"IHD, SOB\",\"no\",\"ACS\",\"HTN\",\"no\",\"HTN\",\"CHB, RV INFARCT\",\"no\",\"no\",\"no\",\"ORTHOPENIA, PND\",\"HCV, IHD\",\"no\",\"SEIZARIAN, HYSTECTOMY.\",\"no\",\"HTN, DM\",\"HTN\",\"HTN, DM\",\"HTN, DM\",\"IHD, HTN\",\"no\",\"no\",\"no\",\"HTN\",\"no\",\"no\",\"IHD, SOB\",\"HTN\",\"no\",\"no\",\"no\",\"DM\",\"ACS\",\"no\",\"HTN\",\"no\",\"no\",\"no\",\"PND, ORTHOPENIA\",\"no\",\"LV dysfunction\",\"HTN\",\"no\",\"PND, ORTHOPENIA\",\"no\",\"no\",\"no\",\"IHD, SOB\",\"no\",\"ACS\",\"HTN\",\"no\",\"HTN\",\"HTN\",\"HTN, DM\",\"HTN, DM\",\"IHD, HTN\",\"no\",\"no\",\"no\",\"HTN\",\"no\",\"no\",\"IHD, SOB\",\"HTN\",\"no\",\"no\",\"no\",\"DM\",\"ACS\",\"no\",\"HTN\",\"no\",\"no\",\"no\",\"PND, ORTHOPENIA\",\"no\",\"LV dysfunction\",\"HTN\",\"no\",\"PND, ORTHOPENIA\",\"no\",\"no\",\"HTN\",\"HTN, DM\",\"HTN, DM\",\"IHD, HTN\",\"no\",\"no\",\"no\",\"HTN\",\"no\",\"no\",\"IHD, SOB\",\"HTN\",\"no\",\"no\",\"no\",\"DM\",\"ACS\",\"no\",\"HTN\",\"no\",\"no\",\"no\",\"PND, ORTHOPENIA\",\"no\",\"LV dysfunction\",\"HTN\",\"no\",\"PND, ORTHOPENIA\",\"no\",\"no\",\"no\",\"IHD, SOB\",\"no\",\"ACS\",\"HTN\",\"no\",\"HTN\",\"CHB, RV INFARCT\",\"no\",\"no\",\"no\",\"ORTHOPENIA, PND\",\"HCV, IHD\",\"no\",\"SEIZARIAN, HYSTECTOMY.\",\"no\",\"HTN, DM\"],\"xaxis\":\"x\",\"yaxis\":\"y\",\"type\":\"histogram\"},{\"alignmentgroup\":\"True\",\"bingroup\":\"x\",\"hovertemplate\":\"Mortality=Alive\\u003cbr\\u003eOthers=%{x}\\u003cbr\\u003ecount=%{y}\\u003cextra\\u003e\\u003c\\u002fextra\\u003e\",\"legendgroup\":\"Alive\",\"marker\":{\"color\":\"aqua\",\"pattern\":{\"shape\":\"\"}},\"name\":\"Alive\",\"offsetgroup\":\"Alive\",\"orientation\":\"v\",\"showlegend\":true,\"x\":[\"PND, ORTHOPENIA\",\"no\",\"HTN\",\"no\",\"no\",\"HTN\",\"no\",\"PND, ORTHOPENIA\",\"no\",\"HTN\",\"no\",\"no\",\"DM\",\"no\",\"no\",\"ICMP WITH EF= 30%,PULMONAR ODEMA\",\"no\",\"no\",\"IHD,DM\",\"no\",\"PULMONARY ODEMA \",\"no\",\"no\",\"DM,M.I\",\"no\",\"IHD,DM\",\"no\",\"no\",\"no\",\"HTN\",\"no\",\"PND, ORTHOPENIA\",\"no\",\"HTN\",\"no\",\"no\",\"DM\",\"no\",\"no\",\"ICMP WITH EF= 30%,PULMONAR ODEMA\",\"no\",\"no\",\"no\",\"no\",\"no\",\"HTN\",\"no\",\"PND, ORTHOPENIA\",\"no\",\"HTN\",\"no\",\"no\",\"DM\",\"no\",\"no\",\"ICMP WITH EF= 30%,PULMONAR ODEMA\",\"no\",\"no\",\"no\",\"no\",\"HTN\",\"no\",\"PND, ORTHOPENIA\",\"no\",\"no\",\"no\",\"no\",\"HTN\",\"no\",\"PND, ORTHOPENIA\",\"no\",\"HTN\",\"no\",\"no\",\"DM\",\"no\",\"no\",\"ICMP WITH EF= 30%,PULMONAR ODEMA\",\"no\",\"no\"],\"xaxis\":\"x\",\"yaxis\":\"y\",\"type\":\"histogram\"}],                        {\"template\":{\"data\":{\"histogram2dcontour\":[{\"type\":\"histogram2dcontour\",\"colorbar\":{\"outlinewidth\":0,\"ticks\":\"\"},\"colorscale\":[[0.0,\"#0d0887\"],[0.1111111111111111,\"#46039f\"],[0.2222222222222222,\"#7201a8\"],[0.3333333333333333,\"#9c179e\"],[0.4444444444444444,\"#bd3786\"],[0.5555555555555556,\"#d8576b\"],[0.6666666666666666,\"#ed7953\"],[0.7777777777777778,\"#fb9f3a\"],[0.8888888888888888,\"#fdca26\"],[1.0,\"#f0f921\"]]}],\"choropleth\":[{\"type\":\"choropleth\",\"colorbar\":{\"outlinewidth\":0,\"ticks\":\"\"}}],\"histogram2d\":[{\"type\":\"histogram2d\",\"colorbar\":{\"outlinewidth\":0,\"ticks\":\"\"},\"colorscale\":[[0.0,\"#0d0887\"],[0.1111111111111111,\"#46039f\"],[0.2222222222222222,\"#7201a8\"],[0.3333333333333333,\"#9c179e\"],[0.4444444444444444,\"#bd3786\"],[0.5555555555555556,\"#d8576b\"],[0.6666666666666666,\"#ed7953\"],[0.7777777777777778,\"#fb9f3a\"],[0.8888888888888888,\"#fdca26\"],[1.0,\"#f0f921\"]]}],\"heatmap\":[{\"type\":\"heatmap\",\"colorbar\":{\"outlinewidth\":0,\"ticks\":\"\"},\"colorscale\":[[0.0,\"#0d0887\"],[0.1111111111111111,\"#46039f\"],[0.2222222222222222,\"#7201a8\"],[0.3333333333333333,\"#9c179e\"],[0.4444444444444444,\"#bd3786\"],[0.5555555555555556,\"#d8576b\"],[0.6666666666666666,\"#ed7953\"],[0.7777777777777778,\"#fb9f3a\"],[0.8888888888888888,\"#fdca26\"],[1.0,\"#f0f921\"]]}],\"heatmapgl\":[{\"type\":\"heatmapgl\",\"colorbar\":{\"outlinewidth\":0,\"ticks\":\"\"},\"colorscale\":[[0.0,\"#0d0887\"],[0.1111111111111111,\"#46039f\"],[0.2222222222222222,\"#7201a8\"],[0.3333333333333333,\"#9c179e\"],[0.4444444444444444,\"#bd3786\"],[0.5555555555555556,\"#d8576b\"],[0.6666666666666666,\"#ed7953\"],[0.7777777777777778,\"#fb9f3a\"],[0.8888888888888888,\"#fdca26\"],[1.0,\"#f0f921\"]]}],\"contourcarpet\":[{\"type\":\"contourcarpet\",\"colorbar\":{\"outlinewidth\":0,\"ticks\":\"\"}}],\"contour\":[{\"type\":\"contour\",\"colorbar\":{\"outlinewidth\":0,\"ticks\":\"\"},\"colorscale\":[[0.0,\"#0d0887\"],[0.1111111111111111,\"#46039f\"],[0.2222222222222222,\"#7201a8\"],[0.3333333333333333,\"#9c179e\"],[0.4444444444444444,\"#bd3786\"],[0.5555555555555556,\"#d8576b\"],[0.6666666666666666,\"#ed7953\"],[0.7777777777777778,\"#fb9f3a\"],[0.8888888888888888,\"#fdca26\"],[1.0,\"#f0f921\"]]}],\"surface\":[{\"type\":\"surface\",\"colorbar\":{\"outlinewidth\":0,\"ticks\":\"\"},\"colorscale\":[[0.0,\"#0d0887\"],[0.1111111111111111,\"#46039f\"],[0.2222222222222222,\"#7201a8\"],[0.3333333333333333,\"#9c179e\"],[0.4444444444444444,\"#bd3786\"],[0.5555555555555556,\"#d8576b\"],[0.6666666666666666,\"#ed7953\"],[0.7777777777777778,\"#fb9f3a\"],[0.8888888888888888,\"#fdca26\"],[1.0,\"#f0f921\"]]}],\"mesh3d\":[{\"type\":\"mesh3d\",\"colorbar\":{\"outlinewidth\":0,\"ticks\":\"\"}}],\"scatter\":[{\"fillpattern\":{\"fillmode\":\"overlay\",\"size\":10,\"solidity\":0.2},\"type\":\"scatter\"}],\"parcoords\":[{\"type\":\"parcoords\",\"line\":{\"colorbar\":{\"outlinewidth\":0,\"ticks\":\"\"}}}],\"scatterpolargl\":[{\"type\":\"scatterpolargl\",\"marker\":{\"colorbar\":{\"outlinewidth\":0,\"ticks\":\"\"}}}],\"bar\":[{\"error_x\":{\"color\":\"#2a3f5f\"},\"error_y\":{\"color\":\"#2a3f5f\"},\"marker\":{\"line\":{\"color\":\"#E5ECF6\",\"width\":0.5},\"pattern\":{\"fillmode\":\"overlay\",\"size\":10,\"solidity\":0.2}},\"type\":\"bar\"}],\"scattergeo\":[{\"type\":\"scattergeo\",\"marker\":{\"colorbar\":{\"outlinewidth\":0,\"ticks\":\"\"}}}],\"scatterpolar\":[{\"type\":\"scatterpolar\",\"marker\":{\"colorbar\":{\"outlinewidth\":0,\"ticks\":\"\"}}}],\"histogram\":[{\"marker\":{\"pattern\":{\"fillmode\":\"overlay\",\"size\":10,\"solidity\":0.2}},\"type\":\"histogram\"}],\"scattergl\":[{\"type\":\"scattergl\",\"marker\":{\"colorbar\":{\"outlinewidth\":0,\"ticks\":\"\"}}}],\"scatter3d\":[{\"type\":\"scatter3d\",\"line\":{\"colorbar\":{\"outlinewidth\":0,\"ticks\":\"\"}},\"marker\":{\"colorbar\":{\"outlinewidth\":0,\"ticks\":\"\"}}}],\"scattermapbox\":[{\"type\":\"scattermapbox\",\"marker\":{\"colorbar\":{\"outlinewidth\":0,\"ticks\":\"\"}}}],\"scatterternary\":[{\"type\":\"scatterternary\",\"marker\":{\"colorbar\":{\"outlinewidth\":0,\"ticks\":\"\"}}}],\"scattercarpet\":[{\"type\":\"scattercarpet\",\"marker\":{\"colorbar\":{\"outlinewidth\":0,\"ticks\":\"\"}}}],\"carpet\":[{\"aaxis\":{\"endlinecolor\":\"#2a3f5f\",\"gridcolor\":\"white\",\"linecolor\":\"white\",\"minorgridcolor\":\"white\",\"startlinecolor\":\"#2a3f5f\"},\"baxis\":{\"endlinecolor\":\"#2a3f5f\",\"gridcolor\":\"white\",\"linecolor\":\"white\",\"minorgridcolor\":\"white\",\"startlinecolor\":\"#2a3f5f\"},\"type\":\"carpet\"}],\"table\":[{\"cells\":{\"fill\":{\"color\":\"#EBF0F8\"},\"line\":{\"color\":\"white\"}},\"header\":{\"fill\":{\"color\":\"#C8D4E3\"},\"line\":{\"color\":\"white\"}},\"type\":\"table\"}],\"barpolar\":[{\"marker\":{\"line\":{\"color\":\"#E5ECF6\",\"width\":0.5},\"pattern\":{\"fillmode\":\"overlay\",\"size\":10,\"solidity\":0.2}},\"type\":\"barpolar\"}],\"pie\":[{\"automargin\":true,\"type\":\"pie\"}]},\"layout\":{\"autotypenumbers\":\"strict\",\"colorway\":[\"#636efa\",\"#EF553B\",\"#00cc96\",\"#ab63fa\",\"#FFA15A\",\"#19d3f3\",\"#FF6692\",\"#B6E880\",\"#FF97FF\",\"#FECB52\"],\"font\":{\"color\":\"#2a3f5f\"},\"hovermode\":\"closest\",\"hoverlabel\":{\"align\":\"left\"},\"paper_bgcolor\":\"white\",\"plot_bgcolor\":\"#E5ECF6\",\"polar\":{\"bgcolor\":\"#E5ECF6\",\"angularaxis\":{\"gridcolor\":\"white\",\"linecolor\":\"white\",\"ticks\":\"\"},\"radialaxis\":{\"gridcolor\":\"white\",\"linecolor\":\"white\",\"ticks\":\"\"}},\"ternary\":{\"bgcolor\":\"#E5ECF6\",\"aaxis\":{\"gridcolor\":\"white\",\"linecolor\":\"white\",\"ticks\":\"\"},\"baxis\":{\"gridcolor\":\"white\",\"linecolor\":\"white\",\"ticks\":\"\"},\"caxis\":{\"gridcolor\":\"white\",\"linecolor\":\"white\",\"ticks\":\"\"}},\"coloraxis\":{\"colorbar\":{\"outlinewidth\":0,\"ticks\":\"\"}},\"colorscale\":{\"sequential\":[[0.0,\"#0d0887\"],[0.1111111111111111,\"#46039f\"],[0.2222222222222222,\"#7201a8\"],[0.3333333333333333,\"#9c179e\"],[0.4444444444444444,\"#bd3786\"],[0.5555555555555556,\"#d8576b\"],[0.6666666666666666,\"#ed7953\"],[0.7777777777777778,\"#fb9f3a\"],[0.8888888888888888,\"#fdca26\"],[1.0,\"#f0f921\"]],\"sequentialminus\":[[0.0,\"#0d0887\"],[0.1111111111111111,\"#46039f\"],[0.2222222222222222,\"#7201a8\"],[0.3333333333333333,\"#9c179e\"],[0.4444444444444444,\"#bd3786\"],[0.5555555555555556,\"#d8576b\"],[0.6666666666666666,\"#ed7953\"],[0.7777777777777778,\"#fb9f3a\"],[0.8888888888888888,\"#fdca26\"],[1.0,\"#f0f921\"]],\"diverging\":[[0,\"#8e0152\"],[0.1,\"#c51b7d\"],[0.2,\"#de77ae\"],[0.3,\"#f1b6da\"],[0.4,\"#fde0ef\"],[0.5,\"#f7f7f7\"],[0.6,\"#e6f5d0\"],[0.7,\"#b8e186\"],[0.8,\"#7fbc41\"],[0.9,\"#4d9221\"],[1,\"#276419\"]]},\"xaxis\":{\"gridcolor\":\"white\",\"linecolor\":\"white\",\"ticks\":\"\",\"title\":{\"standoff\":15},\"zerolinecolor\":\"white\",\"automargin\":true,\"zerolinewidth\":2},\"yaxis\":{\"gridcolor\":\"white\",\"linecolor\":\"white\",\"ticks\":\"\",\"title\":{\"standoff\":15},\"zerolinecolor\":\"white\",\"automargin\":true,\"zerolinewidth\":2},\"scene\":{\"xaxis\":{\"backgroundcolor\":\"#E5ECF6\",\"gridcolor\":\"white\",\"linecolor\":\"white\",\"showbackground\":true,\"ticks\":\"\",\"zerolinecolor\":\"white\",\"gridwidth\":2},\"yaxis\":{\"backgroundcolor\":\"#E5ECF6\",\"gridcolor\":\"white\",\"linecolor\":\"white\",\"showbackground\":true,\"ticks\":\"\",\"zerolinecolor\":\"white\",\"gridwidth\":2},\"zaxis\":{\"backgroundcolor\":\"#E5ECF6\",\"gridcolor\":\"white\",\"linecolor\":\"white\",\"showbackground\":true,\"ticks\":\"\",\"zerolinecolor\":\"white\",\"gridwidth\":2}},\"shapedefaults\":{\"line\":{\"color\":\"#2a3f5f\"}},\"annotationdefaults\":{\"arrowcolor\":\"#2a3f5f\",\"arrowhead\":0,\"arrowwidth\":1},\"geo\":{\"bgcolor\":\"white\",\"landcolor\":\"#E5ECF6\",\"subunitcolor\":\"white\",\"showland\":true,\"showlakes\":true,\"lakecolor\":\"white\"},\"title\":{\"x\":0.05},\"mapbox\":{\"style\":\"light\"}}},\"xaxis\":{\"anchor\":\"y\",\"domain\":[0.0,1.0],\"title\":{\"text\":\"Others\"}},\"yaxis\":{\"anchor\":\"x\",\"domain\":[0.0,1.0],\"title\":{\"text\":\"count\"}},\"legend\":{\"title\":{\"text\":\"Mortality\"},\"tracegroupgap\":0},\"margin\":{\"t\":60},\"barmode\":\"relative\"},                        {\"responsive\": true}                    ).then(function(){\n",
       "                            \n",
       "var gd = document.getElementById('2bc1d7da-43ac-40da-9996-d363ec745fbc');\n",
       "var x = new MutationObserver(function (mutations, observer) {{\n",
       "        var display = window.getComputedStyle(gd).display;\n",
       "        if (!display || display === 'none') {{\n",
       "            console.log([gd, 'removed!']);\n",
       "            Plotly.purge(gd);\n",
       "            observer.disconnect();\n",
       "        }}\n",
       "}});\n",
       "\n",
       "// Listen for the removal of the full notebook cells\n",
       "var notebookContainer = gd.closest('#notebook-container');\n",
       "if (notebookContainer) {{\n",
       "    x.observe(notebookContainer, {childList: true});\n",
       "}}\n",
       "\n",
       "// Listen for the clearing of the current output cell\n",
       "var outputEl = gd.closest('.output');\n",
       "if (outputEl) {{\n",
       "    x.observe(outputEl, {childList: true});\n",
       "}}\n",
       "\n",
       "                        })                };                });            </script>        </div>"
      ]
     },
     "metadata": {},
     "output_type": "display_data"
    },
    {
     "name": "stdout",
     "output_type": "stream",
     "text": [
      "Category:  CO\n",
      "P-value:  0.0\n",
      "H0 rejected \n",
      "\n"
     ]
    },
    {
     "data": {
      "application/vnd.plotly.v1+json": {
       "config": {
        "plotlyServerURL": "https://plot.ly"
       },
       "data": [
        {
         "alignmentgroup": "True",
         "bingroup": "x",
         "hovertemplate": "Mortality=Died<br>CO=%{x}<br>count=%{y}<extra></extra>",
         "legendgroup": "Died",
         "marker": {
          "color": "deeppink",
          "pattern": {
           "shape": ""
          }
         },
         "name": "Died",
         "offsetgroup": "Died",
         "orientation": "v",
         "showlegend": true,
         "type": "histogram",
         "x": [
          "Chest pain,",
          "Central Chest pain,",
          "Chest pain,SOB, Cold sweating",
          "CENTRAL Chest pain,",
          "Chest pain,",
          "Chest pain, SWEATING",
          "Central Chest pain,",
          "Chest pain,SOB, Cold sweating",
          "Chest pain,",
          "SOB FROM 1 DAY ",
          "Central Chest pain,",
          "Chest pain,SOB, Cold sweating",
          "CENTRAL Chest pain,",
          "Chest pain,",
          "SOB FROM 1 DAY ",
          "Chest pain, SWEATING",
          "Chest pain,",
          "Chest pain,",
          "Chest pain,SOB",
          "Chest pain,heart sinking, vomiting",
          "Chest pain,NAUSEA, SWELLOWING",
          "Chest pain,Sweating, ",
          "Chest pain,",
          "Chest pain,",
          "Chest pain,",
          "Chest pain,SOB, HEART SINKING , PALPITATION",
          "Chest pain4 HR, SWEATING",
          "Chest pain from 3 hr",
          "Central Chest pain,SOB, Sweating",
          "Chest pain,sweating,vomiting",
          "Chest pain,",
          "Chest pain,VOMITING.,SOB",
          "Chest pain, Sweating, SOB",
          "Chest pain,COLD SWEATING, ",
          "Chest pain,COUGH",
          "Chest pain,",
          "Chest pain, SWEATING",
          "Chest pain for 2 to 3 hr",
          "Chest pain,SWEATING, NAUSEA",
          "Chest pain, VERTIGO,SWEATING",
          "Chest pain,vomiting, sweating",
          "Chest pain, TIGHTNESS",
          "Chest pain,",
          "Chest pain,",
          "Chest pain,SOB",
          "Chest pain 1 hr",
          "Chest pain, VOMITING",
          "Chest pain,heart sinking, vomiting",
          "Chest pain,nausea,vertigo,sweating,headache",
          "Chest pain, 2 HR",
          "Chest pain,NAUSEA, SWELLOWING",
          "Chest pain,COLD SWEATING, VOMITING",
          "Chest pain,Sweating, ",
          "Chest pain,",
          "Chest pain,vomiting, sweating",
          "SOB, DIZZINESS, CHEST PAIN,NAUSEA,DIAPHORESIS",
          "Chest pain, VOMITING",
          "Chest pain,",
          "Chest pain, 4 HR",
          "Chest pain,",
          "Chest pain,SOB, HEART SINKING , PALPITATION",
          "Chest pain4 HR, SWEATING",
          "Chest pain from 3 hr",
          "Central Chest pain,SOB, Sweating",
          "Chest pain,sweating,vomiting",
          "Chest pain,",
          "Chest pain,VOMITING.,SOB",
          "Chest pain, Sweating, SOB",
          "Chest pain,COLD SWEATING, ",
          "Chest pain,COUGH",
          "Chest pain,",
          "Chest pain, SWEATING",
          "Chest pain for 2 to 3 hr",
          "Chest pain,SWEATING, NAUSEA",
          "Chest pain, VERTIGO,SWEATING",
          "Chest pain,vomiting, sweating",
          "Chest pain, TIGHTNESS",
          "Chest pain,",
          "Chest pain,",
          "Chest pain,SOB",
          "Chest pain 1 hr",
          "Chest pain, VOMITING",
          "Chest pain,heart sinking, vomiting",
          "Chest pain,nausea,vertigo,sweating,headache",
          "Chest pain, 2 HR",
          "Chest pain,NAUSEA, SWELLOWING",
          "Chest pain,COLD SWEATING, VOMITING",
          "Chest pain,Sweating, ",
          "Chest pain,",
          "Chest pain,vomiting, sweating",
          "SOB, DIZZINESS, CHEST PAIN,NAUSEA,DIAPHORESIS",
          "Chest pain, VOMITING",
          "Chest pain,",
          "Chest pain, 4 HR",
          "Chest pain,",
          "Chest pain,SOB, HEART SINKING , PALPITATION",
          "Chest pain4 HR, SWEATING",
          "Chest pain from 3 hr",
          "Central Chest pain,SOB, Sweating",
          "Chest pain,sweating,vomiting",
          "Chest pain,",
          "Chest pain,VOMITING.,SOB",
          "Chest pain, Sweating, SOB",
          "Chest pain,COLD SWEATING, ",
          "Chest pain,COUGH",
          "Chest pain,",
          "Chest pain, SWEATING",
          "Chest pain for 2 to 3 hr",
          "Chest pain,SWEATING, NAUSEA",
          "Chest pain, VERTIGO,SWEATING",
          "Chest pain,vomiting, sweating",
          "Chest pain, TIGHTNESS",
          "Chest pain,",
          "Chest pain, 4 HR",
          "Chest pain,",
          "Chest pain,SOB, HEART SINKING , PALPITATION",
          "Chest pain4 HR, SWEATING",
          "Chest pain from 3 hr",
          "Central Chest pain,SOB, Sweating",
          "Chest pain,sweating,vomiting",
          "Chest pain,",
          "Chest pain, SOB,",
          "Chest pain,VOMITING. SWEATING ",
          "Central Chest pain,",
          "Chest pain, SWEATING,VOMITING",
          "Chest pain, SOB,COLD SWEATING",
          "Chest pain, COLD SWEATING",
          "Chest pain,COUGH",
          "Chest pain,",
          "Chest pain, SWEATING",
          "Chest pain for 2 to 3 hr",
          "Chest pain,SWEATING, NAUSEA",
          "Chest pain, VERTIGO,SWEATING",
          "Chest pain,vomiting, sweating",
          "Chest pain, TIGHTNESS",
          "Chest pain,",
          "Chest pain,",
          "Chest pain,SOB",
          "Chest pain 1 hr",
          "Chest pain, VOMITING",
          "Chest pain,heart sinking, vomiting",
          "Chest pain,nausea,vertigo,sweating,headache",
          "Chest pain, 2 HR",
          "Chest pain,NAUSEA, SWELLOWING",
          "Chest pain,COLD SWEATING, VOMITING",
          "Chest pain,Sweating, ",
          "Chest pain,",
          "Chest pain,vomiting, sweating",
          "Chest pain,",
          "SOB FROM 1 DAY ",
          "Central Chest pain,",
          "Chest pain,SOB, Cold sweating",
          "CENTRAL Chest pain,",
          "Chest pain,",
          "SOB FROM 1 DAY ",
          "Chest pain, SWEATING",
          "Chest pain,",
          "Chest pain,",
          "Chest pain,SOB",
          "Chest pain,heart sinking, vomiting",
          "Chest pain,NAUSEA, SWELLOWING",
          "Chest pain,Sweating, ",
          "Chest pain,",
          "Chest pain,",
          "Chest pain,",
          "Chest pain,SOB, HEART SINKING , PALPITATION",
          "Chest pain4 HR, SWEATING",
          "Chest pain from 3 hr",
          "Central Chest pain,SOB, Sweating",
          "Chest pain,sweating,vomiting",
          "Chest pain,",
          "Chest pain,VOMITING.,SOB",
          "Chest pain, Sweating, SOB",
          "Chest pain,COLD SWEATING, ",
          "Chest pain,COUGH",
          "Chest pain,",
          "Chest pain, SWEATING",
          "Chest pain for 2 to 3 hr",
          "Chest pain,SWEATING, NAUSEA",
          "Chest pain, VERTIGO,SWEATING",
          "Chest pain,vomiting, sweating",
          "Chest pain, TIGHTNESS",
          "Chest pain,",
          "Chest pain,",
          "Chest pain,SOB",
          "Chest pain 1 hr",
          "Chest pain, VOMITING",
          "Chest pain,heart sinking, vomiting",
          "Chest pain,nausea,vertigo,sweating,headache",
          "Chest pain, 2 HR",
          "Chest pain,NAUSEA, SWELLOWING",
          "Chest pain,COLD SWEATING, VOMITING",
          "Chest pain,Sweating, ",
          "Chest pain,",
          "Chest pain,vomiting, sweating",
          "Chest pain,",
          "SOB FROM 1 DAY ",
          "Central Chest pain,",
          "Chest pain,SOB, Cold sweating",
          "CENTRAL Chest pain,",
          "Chest pain,",
          "SOB FROM 1 DAY ",
          "Chest pain, SWEATING",
          "Chest pain,",
          "Chest pain,",
          "Chest pain,SOB",
          "Chest pain,heart sinking, vomiting",
          "Chest pain,NAUSEA, SWELLOWING",
          "Chest pain,Sweating, ",
          "Chest pain,",
          "Chest pain,",
          "Chest pain,COUGH",
          "Chest pain,",
          "Chest pain, SWEATING",
          "Chest pain for 2 to 3 hr",
          "Chest pain,SWEATING, NAUSEA",
          "Chest pain, VERTIGO,SWEATING",
          "Chest pain,vomiting, sweating",
          "Chest pain, TIGHTNESS",
          "Chest pain,",
          "Chest pain,",
          "Chest pain,SOB",
          "Chest pain 1 hr",
          "Chest pain, VOMITING",
          "Chest pain,heart sinking, vomiting",
          "Chest pain,nausea,vertigo,sweating,headache",
          "Chest pain, 2 HR",
          "Chest pain,NAUSEA, SWELLOWING",
          "Chest pain,COLD SWEATING, VOMITING",
          "Chest pain,Sweating, ",
          "Chest pain,",
          "Chest pain,vomiting, sweating",
          "Chest pain,",
          "SOB FROM 1 DAY ",
          "Central Chest pain,",
          "Chest pain,SOB, Cold sweating",
          "CENTRAL Chest pain,",
          "Chest pain,",
          "SOB FROM 1 DAY ",
          "Chest pain, SWEATING",
          "Chest pain,",
          "Chest pain,COUGH",
          "Chest pain,",
          "Chest pain, SWEATING",
          "Chest pain for 2 to 3 hr",
          "Chest pain,SWEATING, NAUSEA",
          "Chest pain, VERTIGO,SWEATING",
          "Chest pain,vomiting, sweating",
          "Chest pain, TIGHTNESS",
          "Chest pain,",
          "Chest pain,",
          "Chest pain,SOB",
          "Chest pain 1 hr",
          "Chest pain, VOMITING",
          "Chest pain,heart sinking, vomiting",
          "Chest pain,nausea,vertigo,sweating,headache",
          "Chest pain, 2 HR",
          "Chest pain,NAUSEA, SWELLOWING",
          "Chest pain,COLD SWEATING, VOMITING",
          "Chest pain,Sweating, ",
          "Chest pain,",
          "Chest pain,vomiting, sweating",
          "Chest pain,",
          "SOB FROM 1 DAY ",
          "Central Chest pain,",
          "Chest pain,SOB, Cold sweating",
          "CENTRAL Chest pain,",
          "Chest pain,",
          "SOB FROM 1 DAY ",
          "Chest pain, SWEATING",
          "Chest pain,",
          "Chest pain,",
          "Chest pain,SOB",
          "Chest pain,heart sinking, vomiting",
          "Chest pain,NAUSEA, SWELLOWING",
          "Chest pain,Sweating, ",
          "Chest pain,",
          "Chest pain,",
          "Chest pain,",
          "Chest pain,SOB, HEART SINKING , PALPITATION",
          "Chest pain4 HR, SWEATING",
          "Chest pain from 3 hr",
          "Central Chest pain,SOB, Sweating",
          "Chest pain,sweating,vomiting",
          "Chest pain,",
          "Chest pain,VOMITING.,SOB",
          "Chest pain, Sweating, SOB",
          "Chest pain,COLD SWEATING, "
         ],
         "xaxis": "x",
         "yaxis": "y"
        },
        {
         "alignmentgroup": "True",
         "bingroup": "x",
         "hovertemplate": "Mortality=Alive<br>CO=%{x}<br>count=%{y}<extra></extra>",
         "legendgroup": "Alive",
         "marker": {
          "color": "aqua",
          "pattern": {
           "shape": ""
          }
         },
         "name": "Alive",
         "offsetgroup": "Alive",
         "orientation": "v",
         "showlegend": true,
         "type": "histogram",
         "x": [
          "SOB FROM 1 DAY ",
          "Chest pain,",
          "CENTRAL Chest pain,",
          "Chest pain, SWEATING",
          "Chest pain,",
          "CENTRAL Chest pain,",
          "Chest pain,",
          "SOB FROM 1 DAY ",
          "Chest pain, SWEATING",
          "Chest pain 1 hr",
          "Chest pain, VOMITING",
          "Chest pain,nausea,vertigo,sweating,headache",
          "Chest pain, 2 HR",
          "Chest pain,COLD SWEATING, VOMITING",
          "Chest pain,vomiting, sweating",
          "SOB, DIZZINESS, CHEST PAIN,NAUSEA,DIAPHORESIS",
          "Chest pain, VOMITING",
          "Chest pain, 4 HR",
          "Chest pain 6 HR",
          "Chest pain, SOB,",
          "Chest pain,VOMITING. SWEATING ",
          "Central Chest pain,",
          "Chest pain, SWEATING,VOMITING",
          "Chest pain, SOB,COLD SWEATING",
          "Chest pain, COLD SWEATING",
          "Chest pain 6 HR",
          "Chest pain,",
          "Chest pain, SWEATING",
          "Chest pain,",
          "CENTRAL Chest pain,",
          "Chest pain,",
          "SOB FROM 1 DAY ",
          "Chest pain, SWEATING",
          "Chest pain 1 hr",
          "Chest pain, VOMITING",
          "Chest pain,nausea,vertigo,sweating,headache",
          "Chest pain, 2 HR",
          "Chest pain,COLD SWEATING, VOMITING",
          "Chest pain,vomiting, sweating",
          "SOB, DIZZINESS, CHEST PAIN,NAUSEA,DIAPHORESIS",
          "Chest pain, VOMITING",
          "Chest pain, 4 HR",
          "Chest pain,",
          "Chest pain, SWEATING",
          "Chest pain,",
          "CENTRAL Chest pain,",
          "Chest pain,",
          "SOB FROM 1 DAY ",
          "Chest pain, SWEATING",
          "Chest pain 1 hr",
          "Chest pain, VOMITING",
          "Chest pain,nausea,vertigo,sweating,headache",
          "Chest pain, 2 HR",
          "Chest pain,COLD SWEATING, VOMITING",
          "Chest pain,vomiting, sweating",
          "SOB, DIZZINESS, CHEST PAIN,NAUSEA,DIAPHORESIS",
          "Chest pain, VOMITING",
          "Chest pain,",
          "Chest pain, SWEATING",
          "Chest pain,",
          "CENTRAL Chest pain,",
          "Chest pain,",
          "SOB FROM 1 DAY ",
          "Chest pain, SWEATING",
          "Chest pain,",
          "Chest pain, SWEATING",
          "Chest pain,",
          "CENTRAL Chest pain,",
          "Chest pain,",
          "SOB FROM 1 DAY ",
          "Chest pain, SWEATING",
          "Chest pain 1 hr",
          "Chest pain, VOMITING",
          "Chest pain,nausea,vertigo,sweating,headache",
          "Chest pain, 2 HR",
          "Chest pain,COLD SWEATING, VOMITING",
          "Chest pain,vomiting, sweating",
          "SOB, DIZZINESS, CHEST PAIN,NAUSEA,DIAPHORESIS",
          "Chest pain, VOMITING",
          "Chest pain, 4 HR"
         ],
         "xaxis": "x",
         "yaxis": "y"
        }
       ],
       "layout": {
        "barmode": "relative",
        "legend": {
         "title": {
          "text": "Mortality"
         },
         "tracegroupgap": 0
        },
        "margin": {
         "t": 60
        },
        "template": {
         "data": {
          "bar": [
           {
            "error_x": {
             "color": "#2a3f5f"
            },
            "error_y": {
             "color": "#2a3f5f"
            },
            "marker": {
             "line": {
              "color": "#E5ECF6",
              "width": 0.5
             },
             "pattern": {
              "fillmode": "overlay",
              "size": 10,
              "solidity": 0.2
             }
            },
            "type": "bar"
           }
          ],
          "barpolar": [
           {
            "marker": {
             "line": {
              "color": "#E5ECF6",
              "width": 0.5
             },
             "pattern": {
              "fillmode": "overlay",
              "size": 10,
              "solidity": 0.2
             }
            },
            "type": "barpolar"
           }
          ],
          "carpet": [
           {
            "aaxis": {
             "endlinecolor": "#2a3f5f",
             "gridcolor": "white",
             "linecolor": "white",
             "minorgridcolor": "white",
             "startlinecolor": "#2a3f5f"
            },
            "baxis": {
             "endlinecolor": "#2a3f5f",
             "gridcolor": "white",
             "linecolor": "white",
             "minorgridcolor": "white",
             "startlinecolor": "#2a3f5f"
            },
            "type": "carpet"
           }
          ],
          "choropleth": [
           {
            "colorbar": {
             "outlinewidth": 0,
             "ticks": ""
            },
            "type": "choropleth"
           }
          ],
          "contour": [
           {
            "colorbar": {
             "outlinewidth": 0,
             "ticks": ""
            },
            "colorscale": [
             [
              0,
              "#0d0887"
             ],
             [
              0.1111111111111111,
              "#46039f"
             ],
             [
              0.2222222222222222,
              "#7201a8"
             ],
             [
              0.3333333333333333,
              "#9c179e"
             ],
             [
              0.4444444444444444,
              "#bd3786"
             ],
             [
              0.5555555555555556,
              "#d8576b"
             ],
             [
              0.6666666666666666,
              "#ed7953"
             ],
             [
              0.7777777777777778,
              "#fb9f3a"
             ],
             [
              0.8888888888888888,
              "#fdca26"
             ],
             [
              1,
              "#f0f921"
             ]
            ],
            "type": "contour"
           }
          ],
          "contourcarpet": [
           {
            "colorbar": {
             "outlinewidth": 0,
             "ticks": ""
            },
            "type": "contourcarpet"
           }
          ],
          "heatmap": [
           {
            "colorbar": {
             "outlinewidth": 0,
             "ticks": ""
            },
            "colorscale": [
             [
              0,
              "#0d0887"
             ],
             [
              0.1111111111111111,
              "#46039f"
             ],
             [
              0.2222222222222222,
              "#7201a8"
             ],
             [
              0.3333333333333333,
              "#9c179e"
             ],
             [
              0.4444444444444444,
              "#bd3786"
             ],
             [
              0.5555555555555556,
              "#d8576b"
             ],
             [
              0.6666666666666666,
              "#ed7953"
             ],
             [
              0.7777777777777778,
              "#fb9f3a"
             ],
             [
              0.8888888888888888,
              "#fdca26"
             ],
             [
              1,
              "#f0f921"
             ]
            ],
            "type": "heatmap"
           }
          ],
          "heatmapgl": [
           {
            "colorbar": {
             "outlinewidth": 0,
             "ticks": ""
            },
            "colorscale": [
             [
              0,
              "#0d0887"
             ],
             [
              0.1111111111111111,
              "#46039f"
             ],
             [
              0.2222222222222222,
              "#7201a8"
             ],
             [
              0.3333333333333333,
              "#9c179e"
             ],
             [
              0.4444444444444444,
              "#bd3786"
             ],
             [
              0.5555555555555556,
              "#d8576b"
             ],
             [
              0.6666666666666666,
              "#ed7953"
             ],
             [
              0.7777777777777778,
              "#fb9f3a"
             ],
             [
              0.8888888888888888,
              "#fdca26"
             ],
             [
              1,
              "#f0f921"
             ]
            ],
            "type": "heatmapgl"
           }
          ],
          "histogram": [
           {
            "marker": {
             "pattern": {
              "fillmode": "overlay",
              "size": 10,
              "solidity": 0.2
             }
            },
            "type": "histogram"
           }
          ],
          "histogram2d": [
           {
            "colorbar": {
             "outlinewidth": 0,
             "ticks": ""
            },
            "colorscale": [
             [
              0,
              "#0d0887"
             ],
             [
              0.1111111111111111,
              "#46039f"
             ],
             [
              0.2222222222222222,
              "#7201a8"
             ],
             [
              0.3333333333333333,
              "#9c179e"
             ],
             [
              0.4444444444444444,
              "#bd3786"
             ],
             [
              0.5555555555555556,
              "#d8576b"
             ],
             [
              0.6666666666666666,
              "#ed7953"
             ],
             [
              0.7777777777777778,
              "#fb9f3a"
             ],
             [
              0.8888888888888888,
              "#fdca26"
             ],
             [
              1,
              "#f0f921"
             ]
            ],
            "type": "histogram2d"
           }
          ],
          "histogram2dcontour": [
           {
            "colorbar": {
             "outlinewidth": 0,
             "ticks": ""
            },
            "colorscale": [
             [
              0,
              "#0d0887"
             ],
             [
              0.1111111111111111,
              "#46039f"
             ],
             [
              0.2222222222222222,
              "#7201a8"
             ],
             [
              0.3333333333333333,
              "#9c179e"
             ],
             [
              0.4444444444444444,
              "#bd3786"
             ],
             [
              0.5555555555555556,
              "#d8576b"
             ],
             [
              0.6666666666666666,
              "#ed7953"
             ],
             [
              0.7777777777777778,
              "#fb9f3a"
             ],
             [
              0.8888888888888888,
              "#fdca26"
             ],
             [
              1,
              "#f0f921"
             ]
            ],
            "type": "histogram2dcontour"
           }
          ],
          "mesh3d": [
           {
            "colorbar": {
             "outlinewidth": 0,
             "ticks": ""
            },
            "type": "mesh3d"
           }
          ],
          "parcoords": [
           {
            "line": {
             "colorbar": {
              "outlinewidth": 0,
              "ticks": ""
             }
            },
            "type": "parcoords"
           }
          ],
          "pie": [
           {
            "automargin": true,
            "type": "pie"
           }
          ],
          "scatter": [
           {
            "fillpattern": {
             "fillmode": "overlay",
             "size": 10,
             "solidity": 0.2
            },
            "type": "scatter"
           }
          ],
          "scatter3d": [
           {
            "line": {
             "colorbar": {
              "outlinewidth": 0,
              "ticks": ""
             }
            },
            "marker": {
             "colorbar": {
              "outlinewidth": 0,
              "ticks": ""
             }
            },
            "type": "scatter3d"
           }
          ],
          "scattercarpet": [
           {
            "marker": {
             "colorbar": {
              "outlinewidth": 0,
              "ticks": ""
             }
            },
            "type": "scattercarpet"
           }
          ],
          "scattergeo": [
           {
            "marker": {
             "colorbar": {
              "outlinewidth": 0,
              "ticks": ""
             }
            },
            "type": "scattergeo"
           }
          ],
          "scattergl": [
           {
            "marker": {
             "colorbar": {
              "outlinewidth": 0,
              "ticks": ""
             }
            },
            "type": "scattergl"
           }
          ],
          "scattermapbox": [
           {
            "marker": {
             "colorbar": {
              "outlinewidth": 0,
              "ticks": ""
             }
            },
            "type": "scattermapbox"
           }
          ],
          "scatterpolar": [
           {
            "marker": {
             "colorbar": {
              "outlinewidth": 0,
              "ticks": ""
             }
            },
            "type": "scatterpolar"
           }
          ],
          "scatterpolargl": [
           {
            "marker": {
             "colorbar": {
              "outlinewidth": 0,
              "ticks": ""
             }
            },
            "type": "scatterpolargl"
           }
          ],
          "scatterternary": [
           {
            "marker": {
             "colorbar": {
              "outlinewidth": 0,
              "ticks": ""
             }
            },
            "type": "scatterternary"
           }
          ],
          "surface": [
           {
            "colorbar": {
             "outlinewidth": 0,
             "ticks": ""
            },
            "colorscale": [
             [
              0,
              "#0d0887"
             ],
             [
              0.1111111111111111,
              "#46039f"
             ],
             [
              0.2222222222222222,
              "#7201a8"
             ],
             [
              0.3333333333333333,
              "#9c179e"
             ],
             [
              0.4444444444444444,
              "#bd3786"
             ],
             [
              0.5555555555555556,
              "#d8576b"
             ],
             [
              0.6666666666666666,
              "#ed7953"
             ],
             [
              0.7777777777777778,
              "#fb9f3a"
             ],
             [
              0.8888888888888888,
              "#fdca26"
             ],
             [
              1,
              "#f0f921"
             ]
            ],
            "type": "surface"
           }
          ],
          "table": [
           {
            "cells": {
             "fill": {
              "color": "#EBF0F8"
             },
             "line": {
              "color": "white"
             }
            },
            "header": {
             "fill": {
              "color": "#C8D4E3"
             },
             "line": {
              "color": "white"
             }
            },
            "type": "table"
           }
          ]
         },
         "layout": {
          "annotationdefaults": {
           "arrowcolor": "#2a3f5f",
           "arrowhead": 0,
           "arrowwidth": 1
          },
          "autotypenumbers": "strict",
          "coloraxis": {
           "colorbar": {
            "outlinewidth": 0,
            "ticks": ""
           }
          },
          "colorscale": {
           "diverging": [
            [
             0,
             "#8e0152"
            ],
            [
             0.1,
             "#c51b7d"
            ],
            [
             0.2,
             "#de77ae"
            ],
            [
             0.3,
             "#f1b6da"
            ],
            [
             0.4,
             "#fde0ef"
            ],
            [
             0.5,
             "#f7f7f7"
            ],
            [
             0.6,
             "#e6f5d0"
            ],
            [
             0.7,
             "#b8e186"
            ],
            [
             0.8,
             "#7fbc41"
            ],
            [
             0.9,
             "#4d9221"
            ],
            [
             1,
             "#276419"
            ]
           ],
           "sequential": [
            [
             0,
             "#0d0887"
            ],
            [
             0.1111111111111111,
             "#46039f"
            ],
            [
             0.2222222222222222,
             "#7201a8"
            ],
            [
             0.3333333333333333,
             "#9c179e"
            ],
            [
             0.4444444444444444,
             "#bd3786"
            ],
            [
             0.5555555555555556,
             "#d8576b"
            ],
            [
             0.6666666666666666,
             "#ed7953"
            ],
            [
             0.7777777777777778,
             "#fb9f3a"
            ],
            [
             0.8888888888888888,
             "#fdca26"
            ],
            [
             1,
             "#f0f921"
            ]
           ],
           "sequentialminus": [
            [
             0,
             "#0d0887"
            ],
            [
             0.1111111111111111,
             "#46039f"
            ],
            [
             0.2222222222222222,
             "#7201a8"
            ],
            [
             0.3333333333333333,
             "#9c179e"
            ],
            [
             0.4444444444444444,
             "#bd3786"
            ],
            [
             0.5555555555555556,
             "#d8576b"
            ],
            [
             0.6666666666666666,
             "#ed7953"
            ],
            [
             0.7777777777777778,
             "#fb9f3a"
            ],
            [
             0.8888888888888888,
             "#fdca26"
            ],
            [
             1,
             "#f0f921"
            ]
           ]
          },
          "colorway": [
           "#636efa",
           "#EF553B",
           "#00cc96",
           "#ab63fa",
           "#FFA15A",
           "#19d3f3",
           "#FF6692",
           "#B6E880",
           "#FF97FF",
           "#FECB52"
          ],
          "font": {
           "color": "#2a3f5f"
          },
          "geo": {
           "bgcolor": "white",
           "lakecolor": "white",
           "landcolor": "#E5ECF6",
           "showlakes": true,
           "showland": true,
           "subunitcolor": "white"
          },
          "hoverlabel": {
           "align": "left"
          },
          "hovermode": "closest",
          "mapbox": {
           "style": "light"
          },
          "paper_bgcolor": "white",
          "plot_bgcolor": "#E5ECF6",
          "polar": {
           "angularaxis": {
            "gridcolor": "white",
            "linecolor": "white",
            "ticks": ""
           },
           "bgcolor": "#E5ECF6",
           "radialaxis": {
            "gridcolor": "white",
            "linecolor": "white",
            "ticks": ""
           }
          },
          "scene": {
           "xaxis": {
            "backgroundcolor": "#E5ECF6",
            "gridcolor": "white",
            "gridwidth": 2,
            "linecolor": "white",
            "showbackground": true,
            "ticks": "",
            "zerolinecolor": "white"
           },
           "yaxis": {
            "backgroundcolor": "#E5ECF6",
            "gridcolor": "white",
            "gridwidth": 2,
            "linecolor": "white",
            "showbackground": true,
            "ticks": "",
            "zerolinecolor": "white"
           },
           "zaxis": {
            "backgroundcolor": "#E5ECF6",
            "gridcolor": "white",
            "gridwidth": 2,
            "linecolor": "white",
            "showbackground": true,
            "ticks": "",
            "zerolinecolor": "white"
           }
          },
          "shapedefaults": {
           "line": {
            "color": "#2a3f5f"
           }
          },
          "ternary": {
           "aaxis": {
            "gridcolor": "white",
            "linecolor": "white",
            "ticks": ""
           },
           "baxis": {
            "gridcolor": "white",
            "linecolor": "white",
            "ticks": ""
           },
           "bgcolor": "#E5ECF6",
           "caxis": {
            "gridcolor": "white",
            "linecolor": "white",
            "ticks": ""
           }
          },
          "title": {
           "x": 0.05
          },
          "xaxis": {
           "automargin": true,
           "gridcolor": "white",
           "linecolor": "white",
           "ticks": "",
           "title": {
            "standoff": 15
           },
           "zerolinecolor": "white",
           "zerolinewidth": 2
          },
          "yaxis": {
           "automargin": true,
           "gridcolor": "white",
           "linecolor": "white",
           "ticks": "",
           "title": {
            "standoff": 15
           },
           "zerolinecolor": "white",
           "zerolinewidth": 2
          }
         }
        },
        "xaxis": {
         "anchor": "y",
         "domain": [
          0,
          1
         ],
         "title": {
          "text": "CO"
         }
        },
        "yaxis": {
         "anchor": "x",
         "domain": [
          0,
          1
         ],
         "title": {
          "text": "count"
         }
        }
       }
      },
      "text/html": [
       "<div>                            <div id=\"0b1858e9-446c-4b3e-b450-187203c4f332\" class=\"plotly-graph-div\" style=\"height:525px; width:100%;\"></div>            <script type=\"text/javascript\">                require([\"plotly\"], function(Plotly) {                    window.PLOTLYENV=window.PLOTLYENV || {};                                    if (document.getElementById(\"0b1858e9-446c-4b3e-b450-187203c4f332\")) {                    Plotly.newPlot(                        \"0b1858e9-446c-4b3e-b450-187203c4f332\",                        [{\"alignmentgroup\":\"True\",\"bingroup\":\"x\",\"hovertemplate\":\"Mortality=Died\\u003cbr\\u003eCO=%{x}\\u003cbr\\u003ecount=%{y}\\u003cextra\\u003e\\u003c\\u002fextra\\u003e\",\"legendgroup\":\"Died\",\"marker\":{\"color\":\"deeppink\",\"pattern\":{\"shape\":\"\"}},\"name\":\"Died\",\"offsetgroup\":\"Died\",\"orientation\":\"v\",\"showlegend\":true,\"x\":[\"Chest pain,\",\"Central Chest pain,\",\"Chest pain,SOB, Cold sweating\",\"CENTRAL Chest pain,\",\"Chest pain,\",\"Chest pain, SWEATING\",\"Central Chest pain,\",\"Chest pain,SOB, Cold sweating\",\"Chest pain,\",\"SOB FROM 1 DAY \",\"Central Chest pain,\",\"Chest pain,SOB, Cold sweating\",\"CENTRAL Chest pain,\",\"Chest pain,\",\"SOB FROM 1 DAY \",\"Chest pain, SWEATING\",\"Chest pain,\",\"Chest pain,\",\"Chest pain,SOB\",\"Chest pain,heart sinking, vomiting\",\"Chest pain,NAUSEA, SWELLOWING\",\"Chest pain,Sweating, \",\"Chest pain,\",\"Chest pain,\",\"Chest pain,\",\"Chest pain,SOB, HEART SINKING , PALPITATION\",\"Chest pain4 HR, SWEATING\",\"Chest pain from 3 hr\",\"Central Chest pain,SOB, Sweating\",\"Chest pain,sweating,vomiting\",\"Chest pain,\",\"Chest pain,VOMITING.,SOB\",\"Chest pain, Sweating, SOB\",\"Chest pain,COLD SWEATING, \",\"Chest pain,COUGH\",\"Chest pain,\",\"Chest pain, SWEATING\",\"Chest pain for 2 to 3 hr\",\"Chest pain,SWEATING, NAUSEA\",\"Chest pain, VERTIGO,SWEATING\",\"Chest pain,vomiting, sweating\",\"Chest pain, TIGHTNESS\",\"Chest pain,\",\"Chest pain,\",\"Chest pain,SOB\",\"Chest pain 1 hr\",\"Chest pain, VOMITING\",\"Chest pain,heart sinking, vomiting\",\"Chest pain,nausea,vertigo,sweating,headache\",\"Chest pain, 2 HR\",\"Chest pain,NAUSEA, SWELLOWING\",\"Chest pain,COLD SWEATING, VOMITING\",\"Chest pain,Sweating, \",\"Chest pain,\",\"Chest pain,vomiting, sweating\",\"SOB, DIZZINESS, CHEST PAIN,NAUSEA,DIAPHORESIS\",\"Chest pain, VOMITING\",\"Chest pain,\",\"Chest pain, 4 HR\",\"Chest pain,\",\"Chest pain,SOB, HEART SINKING , PALPITATION\",\"Chest pain4 HR, SWEATING\",\"Chest pain from 3 hr\",\"Central Chest pain,SOB, Sweating\",\"Chest pain,sweating,vomiting\",\"Chest pain,\",\"Chest pain,VOMITING.,SOB\",\"Chest pain, Sweating, SOB\",\"Chest pain,COLD SWEATING, \",\"Chest pain,COUGH\",\"Chest pain,\",\"Chest pain, SWEATING\",\"Chest pain for 2 to 3 hr\",\"Chest pain,SWEATING, NAUSEA\",\"Chest pain, VERTIGO,SWEATING\",\"Chest pain,vomiting, sweating\",\"Chest pain, TIGHTNESS\",\"Chest pain,\",\"Chest pain,\",\"Chest pain,SOB\",\"Chest pain 1 hr\",\"Chest pain, VOMITING\",\"Chest pain,heart sinking, vomiting\",\"Chest pain,nausea,vertigo,sweating,headache\",\"Chest pain, 2 HR\",\"Chest pain,NAUSEA, SWELLOWING\",\"Chest pain,COLD SWEATING, VOMITING\",\"Chest pain,Sweating, \",\"Chest pain,\",\"Chest pain,vomiting, sweating\",\"SOB, DIZZINESS, CHEST PAIN,NAUSEA,DIAPHORESIS\",\"Chest pain, VOMITING\",\"Chest pain,\",\"Chest pain, 4 HR\",\"Chest pain,\",\"Chest pain,SOB, HEART SINKING , PALPITATION\",\"Chest pain4 HR, SWEATING\",\"Chest pain from 3 hr\",\"Central Chest pain,SOB, Sweating\",\"Chest pain,sweating,vomiting\",\"Chest pain,\",\"Chest pain,VOMITING.,SOB\",\"Chest pain, Sweating, SOB\",\"Chest pain,COLD SWEATING, \",\"Chest pain,COUGH\",\"Chest pain,\",\"Chest pain, SWEATING\",\"Chest pain for 2 to 3 hr\",\"Chest pain,SWEATING, NAUSEA\",\"Chest pain, VERTIGO,SWEATING\",\"Chest pain,vomiting, sweating\",\"Chest pain, TIGHTNESS\",\"Chest pain,\",\"Chest pain, 4 HR\",\"Chest pain,\",\"Chest pain,SOB, HEART SINKING , PALPITATION\",\"Chest pain4 HR, SWEATING\",\"Chest pain from 3 hr\",\"Central Chest pain,SOB, Sweating\",\"Chest pain,sweating,vomiting\",\"Chest pain,\",\"Chest pain, SOB,\",\"Chest pain,VOMITING. SWEATING \",\"Central Chest pain,\",\"Chest pain, SWEATING,VOMITING\",\"Chest pain, SOB,COLD SWEATING\",\"Chest pain, COLD SWEATING\",\"Chest pain,COUGH\",\"Chest pain,\",\"Chest pain, SWEATING\",\"Chest pain for 2 to 3 hr\",\"Chest pain,SWEATING, NAUSEA\",\"Chest pain, VERTIGO,SWEATING\",\"Chest pain,vomiting, sweating\",\"Chest pain, TIGHTNESS\",\"Chest pain,\",\"Chest pain,\",\"Chest pain,SOB\",\"Chest pain 1 hr\",\"Chest pain, VOMITING\",\"Chest pain,heart sinking, vomiting\",\"Chest pain,nausea,vertigo,sweating,headache\",\"Chest pain, 2 HR\",\"Chest pain,NAUSEA, SWELLOWING\",\"Chest pain,COLD SWEATING, VOMITING\",\"Chest pain,Sweating, \",\"Chest pain,\",\"Chest pain,vomiting, sweating\",\"Chest pain,\",\"SOB FROM 1 DAY \",\"Central Chest pain,\",\"Chest pain,SOB, Cold sweating\",\"CENTRAL Chest pain,\",\"Chest pain,\",\"SOB FROM 1 DAY \",\"Chest pain, SWEATING\",\"Chest pain,\",\"Chest pain,\",\"Chest pain,SOB\",\"Chest pain,heart sinking, vomiting\",\"Chest pain,NAUSEA, SWELLOWING\",\"Chest pain,Sweating, \",\"Chest pain,\",\"Chest pain,\",\"Chest pain,\",\"Chest pain,SOB, HEART SINKING , PALPITATION\",\"Chest pain4 HR, SWEATING\",\"Chest pain from 3 hr\",\"Central Chest pain,SOB, Sweating\",\"Chest pain,sweating,vomiting\",\"Chest pain,\",\"Chest pain,VOMITING.,SOB\",\"Chest pain, Sweating, SOB\",\"Chest pain,COLD SWEATING, \",\"Chest pain,COUGH\",\"Chest pain,\",\"Chest pain, SWEATING\",\"Chest pain for 2 to 3 hr\",\"Chest pain,SWEATING, NAUSEA\",\"Chest pain, VERTIGO,SWEATING\",\"Chest pain,vomiting, sweating\",\"Chest pain, TIGHTNESS\",\"Chest pain,\",\"Chest pain,\",\"Chest pain,SOB\",\"Chest pain 1 hr\",\"Chest pain, VOMITING\",\"Chest pain,heart sinking, vomiting\",\"Chest pain,nausea,vertigo,sweating,headache\",\"Chest pain, 2 HR\",\"Chest pain,NAUSEA, SWELLOWING\",\"Chest pain,COLD SWEATING, VOMITING\",\"Chest pain,Sweating, \",\"Chest pain,\",\"Chest pain,vomiting, sweating\",\"Chest pain,\",\"SOB FROM 1 DAY \",\"Central Chest pain,\",\"Chest pain,SOB, Cold sweating\",\"CENTRAL Chest pain,\",\"Chest pain,\",\"SOB FROM 1 DAY \",\"Chest pain, SWEATING\",\"Chest pain,\",\"Chest pain,\",\"Chest pain,SOB\",\"Chest pain,heart sinking, vomiting\",\"Chest pain,NAUSEA, SWELLOWING\",\"Chest pain,Sweating, \",\"Chest pain,\",\"Chest pain,\",\"Chest pain,COUGH\",\"Chest pain,\",\"Chest pain, SWEATING\",\"Chest pain for 2 to 3 hr\",\"Chest pain,SWEATING, NAUSEA\",\"Chest pain, VERTIGO,SWEATING\",\"Chest pain,vomiting, sweating\",\"Chest pain, TIGHTNESS\",\"Chest pain,\",\"Chest pain,\",\"Chest pain,SOB\",\"Chest pain 1 hr\",\"Chest pain, VOMITING\",\"Chest pain,heart sinking, vomiting\",\"Chest pain,nausea,vertigo,sweating,headache\",\"Chest pain, 2 HR\",\"Chest pain,NAUSEA, SWELLOWING\",\"Chest pain,COLD SWEATING, VOMITING\",\"Chest pain,Sweating, \",\"Chest pain,\",\"Chest pain,vomiting, sweating\",\"Chest pain,\",\"SOB FROM 1 DAY \",\"Central Chest pain,\",\"Chest pain,SOB, Cold sweating\",\"CENTRAL Chest pain,\",\"Chest pain,\",\"SOB FROM 1 DAY \",\"Chest pain, SWEATING\",\"Chest pain,\",\"Chest pain,COUGH\",\"Chest pain,\",\"Chest pain, SWEATING\",\"Chest pain for 2 to 3 hr\",\"Chest pain,SWEATING, NAUSEA\",\"Chest pain, VERTIGO,SWEATING\",\"Chest pain,vomiting, sweating\",\"Chest pain, TIGHTNESS\",\"Chest pain,\",\"Chest pain,\",\"Chest pain,SOB\",\"Chest pain 1 hr\",\"Chest pain, VOMITING\",\"Chest pain,heart sinking, vomiting\",\"Chest pain,nausea,vertigo,sweating,headache\",\"Chest pain, 2 HR\",\"Chest pain,NAUSEA, SWELLOWING\",\"Chest pain,COLD SWEATING, VOMITING\",\"Chest pain,Sweating, \",\"Chest pain,\",\"Chest pain,vomiting, sweating\",\"Chest pain,\",\"SOB FROM 1 DAY \",\"Central Chest pain,\",\"Chest pain,SOB, Cold sweating\",\"CENTRAL Chest pain,\",\"Chest pain,\",\"SOB FROM 1 DAY \",\"Chest pain, SWEATING\",\"Chest pain,\",\"Chest pain,\",\"Chest pain,SOB\",\"Chest pain,heart sinking, vomiting\",\"Chest pain,NAUSEA, SWELLOWING\",\"Chest pain,Sweating, \",\"Chest pain,\",\"Chest pain,\",\"Chest pain,\",\"Chest pain,SOB, HEART SINKING , PALPITATION\",\"Chest pain4 HR, SWEATING\",\"Chest pain from 3 hr\",\"Central Chest pain,SOB, Sweating\",\"Chest pain,sweating,vomiting\",\"Chest pain,\",\"Chest pain,VOMITING.,SOB\",\"Chest pain, Sweating, SOB\",\"Chest pain,COLD SWEATING, \"],\"xaxis\":\"x\",\"yaxis\":\"y\",\"type\":\"histogram\"},{\"alignmentgroup\":\"True\",\"bingroup\":\"x\",\"hovertemplate\":\"Mortality=Alive\\u003cbr\\u003eCO=%{x}\\u003cbr\\u003ecount=%{y}\\u003cextra\\u003e\\u003c\\u002fextra\\u003e\",\"legendgroup\":\"Alive\",\"marker\":{\"color\":\"aqua\",\"pattern\":{\"shape\":\"\"}},\"name\":\"Alive\",\"offsetgroup\":\"Alive\",\"orientation\":\"v\",\"showlegend\":true,\"x\":[\"SOB FROM 1 DAY \",\"Chest pain,\",\"CENTRAL Chest pain,\",\"Chest pain, SWEATING\",\"Chest pain,\",\"CENTRAL Chest pain,\",\"Chest pain,\",\"SOB FROM 1 DAY \",\"Chest pain, SWEATING\",\"Chest pain 1 hr\",\"Chest pain, VOMITING\",\"Chest pain,nausea,vertigo,sweating,headache\",\"Chest pain, 2 HR\",\"Chest pain,COLD SWEATING, VOMITING\",\"Chest pain,vomiting, sweating\",\"SOB, DIZZINESS, CHEST PAIN,NAUSEA,DIAPHORESIS\",\"Chest pain, VOMITING\",\"Chest pain, 4 HR\",\"Chest pain 6 HR\",\"Chest pain, SOB,\",\"Chest pain,VOMITING. SWEATING \",\"Central Chest pain,\",\"Chest pain, SWEATING,VOMITING\",\"Chest pain, SOB,COLD SWEATING\",\"Chest pain, COLD SWEATING\",\"Chest pain 6 HR\",\"Chest pain,\",\"Chest pain, SWEATING\",\"Chest pain,\",\"CENTRAL Chest pain,\",\"Chest pain,\",\"SOB FROM 1 DAY \",\"Chest pain, SWEATING\",\"Chest pain 1 hr\",\"Chest pain, VOMITING\",\"Chest pain,nausea,vertigo,sweating,headache\",\"Chest pain, 2 HR\",\"Chest pain,COLD SWEATING, VOMITING\",\"Chest pain,vomiting, sweating\",\"SOB, DIZZINESS, CHEST PAIN,NAUSEA,DIAPHORESIS\",\"Chest pain, VOMITING\",\"Chest pain, 4 HR\",\"Chest pain,\",\"Chest pain, SWEATING\",\"Chest pain,\",\"CENTRAL Chest pain,\",\"Chest pain,\",\"SOB FROM 1 DAY \",\"Chest pain, SWEATING\",\"Chest pain 1 hr\",\"Chest pain, VOMITING\",\"Chest pain,nausea,vertigo,sweating,headache\",\"Chest pain, 2 HR\",\"Chest pain,COLD SWEATING, VOMITING\",\"Chest pain,vomiting, sweating\",\"SOB, DIZZINESS, CHEST PAIN,NAUSEA,DIAPHORESIS\",\"Chest pain, VOMITING\",\"Chest pain,\",\"Chest pain, SWEATING\",\"Chest pain,\",\"CENTRAL Chest pain,\",\"Chest pain,\",\"SOB FROM 1 DAY \",\"Chest pain, SWEATING\",\"Chest pain,\",\"Chest pain, SWEATING\",\"Chest pain,\",\"CENTRAL Chest pain,\",\"Chest pain,\",\"SOB FROM 1 DAY \",\"Chest pain, SWEATING\",\"Chest pain 1 hr\",\"Chest pain, VOMITING\",\"Chest pain,nausea,vertigo,sweating,headache\",\"Chest pain, 2 HR\",\"Chest pain,COLD SWEATING, VOMITING\",\"Chest pain,vomiting, sweating\",\"SOB, DIZZINESS, CHEST PAIN,NAUSEA,DIAPHORESIS\",\"Chest pain, VOMITING\",\"Chest pain, 4 HR\"],\"xaxis\":\"x\",\"yaxis\":\"y\",\"type\":\"histogram\"}],                        {\"template\":{\"data\":{\"histogram2dcontour\":[{\"type\":\"histogram2dcontour\",\"colorbar\":{\"outlinewidth\":0,\"ticks\":\"\"},\"colorscale\":[[0.0,\"#0d0887\"],[0.1111111111111111,\"#46039f\"],[0.2222222222222222,\"#7201a8\"],[0.3333333333333333,\"#9c179e\"],[0.4444444444444444,\"#bd3786\"],[0.5555555555555556,\"#d8576b\"],[0.6666666666666666,\"#ed7953\"],[0.7777777777777778,\"#fb9f3a\"],[0.8888888888888888,\"#fdca26\"],[1.0,\"#f0f921\"]]}],\"choropleth\":[{\"type\":\"choropleth\",\"colorbar\":{\"outlinewidth\":0,\"ticks\":\"\"}}],\"histogram2d\":[{\"type\":\"histogram2d\",\"colorbar\":{\"outlinewidth\":0,\"ticks\":\"\"},\"colorscale\":[[0.0,\"#0d0887\"],[0.1111111111111111,\"#46039f\"],[0.2222222222222222,\"#7201a8\"],[0.3333333333333333,\"#9c179e\"],[0.4444444444444444,\"#bd3786\"],[0.5555555555555556,\"#d8576b\"],[0.6666666666666666,\"#ed7953\"],[0.7777777777777778,\"#fb9f3a\"],[0.8888888888888888,\"#fdca26\"],[1.0,\"#f0f921\"]]}],\"heatmap\":[{\"type\":\"heatmap\",\"colorbar\":{\"outlinewidth\":0,\"ticks\":\"\"},\"colorscale\":[[0.0,\"#0d0887\"],[0.1111111111111111,\"#46039f\"],[0.2222222222222222,\"#7201a8\"],[0.3333333333333333,\"#9c179e\"],[0.4444444444444444,\"#bd3786\"],[0.5555555555555556,\"#d8576b\"],[0.6666666666666666,\"#ed7953\"],[0.7777777777777778,\"#fb9f3a\"],[0.8888888888888888,\"#fdca26\"],[1.0,\"#f0f921\"]]}],\"heatmapgl\":[{\"type\":\"heatmapgl\",\"colorbar\":{\"outlinewidth\":0,\"ticks\":\"\"},\"colorscale\":[[0.0,\"#0d0887\"],[0.1111111111111111,\"#46039f\"],[0.2222222222222222,\"#7201a8\"],[0.3333333333333333,\"#9c179e\"],[0.4444444444444444,\"#bd3786\"],[0.5555555555555556,\"#d8576b\"],[0.6666666666666666,\"#ed7953\"],[0.7777777777777778,\"#fb9f3a\"],[0.8888888888888888,\"#fdca26\"],[1.0,\"#f0f921\"]]}],\"contourcarpet\":[{\"type\":\"contourcarpet\",\"colorbar\":{\"outlinewidth\":0,\"ticks\":\"\"}}],\"contour\":[{\"type\":\"contour\",\"colorbar\":{\"outlinewidth\":0,\"ticks\":\"\"},\"colorscale\":[[0.0,\"#0d0887\"],[0.1111111111111111,\"#46039f\"],[0.2222222222222222,\"#7201a8\"],[0.3333333333333333,\"#9c179e\"],[0.4444444444444444,\"#bd3786\"],[0.5555555555555556,\"#d8576b\"],[0.6666666666666666,\"#ed7953\"],[0.7777777777777778,\"#fb9f3a\"],[0.8888888888888888,\"#fdca26\"],[1.0,\"#f0f921\"]]}],\"surface\":[{\"type\":\"surface\",\"colorbar\":{\"outlinewidth\":0,\"ticks\":\"\"},\"colorscale\":[[0.0,\"#0d0887\"],[0.1111111111111111,\"#46039f\"],[0.2222222222222222,\"#7201a8\"],[0.3333333333333333,\"#9c179e\"],[0.4444444444444444,\"#bd3786\"],[0.5555555555555556,\"#d8576b\"],[0.6666666666666666,\"#ed7953\"],[0.7777777777777778,\"#fb9f3a\"],[0.8888888888888888,\"#fdca26\"],[1.0,\"#f0f921\"]]}],\"mesh3d\":[{\"type\":\"mesh3d\",\"colorbar\":{\"outlinewidth\":0,\"ticks\":\"\"}}],\"scatter\":[{\"fillpattern\":{\"fillmode\":\"overlay\",\"size\":10,\"solidity\":0.2},\"type\":\"scatter\"}],\"parcoords\":[{\"type\":\"parcoords\",\"line\":{\"colorbar\":{\"outlinewidth\":0,\"ticks\":\"\"}}}],\"scatterpolargl\":[{\"type\":\"scatterpolargl\",\"marker\":{\"colorbar\":{\"outlinewidth\":0,\"ticks\":\"\"}}}],\"bar\":[{\"error_x\":{\"color\":\"#2a3f5f\"},\"error_y\":{\"color\":\"#2a3f5f\"},\"marker\":{\"line\":{\"color\":\"#E5ECF6\",\"width\":0.5},\"pattern\":{\"fillmode\":\"overlay\",\"size\":10,\"solidity\":0.2}},\"type\":\"bar\"}],\"scattergeo\":[{\"type\":\"scattergeo\",\"marker\":{\"colorbar\":{\"outlinewidth\":0,\"ticks\":\"\"}}}],\"scatterpolar\":[{\"type\":\"scatterpolar\",\"marker\":{\"colorbar\":{\"outlinewidth\":0,\"ticks\":\"\"}}}],\"histogram\":[{\"marker\":{\"pattern\":{\"fillmode\":\"overlay\",\"size\":10,\"solidity\":0.2}},\"type\":\"histogram\"}],\"scattergl\":[{\"type\":\"scattergl\",\"marker\":{\"colorbar\":{\"outlinewidth\":0,\"ticks\":\"\"}}}],\"scatter3d\":[{\"type\":\"scatter3d\",\"line\":{\"colorbar\":{\"outlinewidth\":0,\"ticks\":\"\"}},\"marker\":{\"colorbar\":{\"outlinewidth\":0,\"ticks\":\"\"}}}],\"scattermapbox\":[{\"type\":\"scattermapbox\",\"marker\":{\"colorbar\":{\"outlinewidth\":0,\"ticks\":\"\"}}}],\"scatterternary\":[{\"type\":\"scatterternary\",\"marker\":{\"colorbar\":{\"outlinewidth\":0,\"ticks\":\"\"}}}],\"scattercarpet\":[{\"type\":\"scattercarpet\",\"marker\":{\"colorbar\":{\"outlinewidth\":0,\"ticks\":\"\"}}}],\"carpet\":[{\"aaxis\":{\"endlinecolor\":\"#2a3f5f\",\"gridcolor\":\"white\",\"linecolor\":\"white\",\"minorgridcolor\":\"white\",\"startlinecolor\":\"#2a3f5f\"},\"baxis\":{\"endlinecolor\":\"#2a3f5f\",\"gridcolor\":\"white\",\"linecolor\":\"white\",\"minorgridcolor\":\"white\",\"startlinecolor\":\"#2a3f5f\"},\"type\":\"carpet\"}],\"table\":[{\"cells\":{\"fill\":{\"color\":\"#EBF0F8\"},\"line\":{\"color\":\"white\"}},\"header\":{\"fill\":{\"color\":\"#C8D4E3\"},\"line\":{\"color\":\"white\"}},\"type\":\"table\"}],\"barpolar\":[{\"marker\":{\"line\":{\"color\":\"#E5ECF6\",\"width\":0.5},\"pattern\":{\"fillmode\":\"overlay\",\"size\":10,\"solidity\":0.2}},\"type\":\"barpolar\"}],\"pie\":[{\"automargin\":true,\"type\":\"pie\"}]},\"layout\":{\"autotypenumbers\":\"strict\",\"colorway\":[\"#636efa\",\"#EF553B\",\"#00cc96\",\"#ab63fa\",\"#FFA15A\",\"#19d3f3\",\"#FF6692\",\"#B6E880\",\"#FF97FF\",\"#FECB52\"],\"font\":{\"color\":\"#2a3f5f\"},\"hovermode\":\"closest\",\"hoverlabel\":{\"align\":\"left\"},\"paper_bgcolor\":\"white\",\"plot_bgcolor\":\"#E5ECF6\",\"polar\":{\"bgcolor\":\"#E5ECF6\",\"angularaxis\":{\"gridcolor\":\"white\",\"linecolor\":\"white\",\"ticks\":\"\"},\"radialaxis\":{\"gridcolor\":\"white\",\"linecolor\":\"white\",\"ticks\":\"\"}},\"ternary\":{\"bgcolor\":\"#E5ECF6\",\"aaxis\":{\"gridcolor\":\"white\",\"linecolor\":\"white\",\"ticks\":\"\"},\"baxis\":{\"gridcolor\":\"white\",\"linecolor\":\"white\",\"ticks\":\"\"},\"caxis\":{\"gridcolor\":\"white\",\"linecolor\":\"white\",\"ticks\":\"\"}},\"coloraxis\":{\"colorbar\":{\"outlinewidth\":0,\"ticks\":\"\"}},\"colorscale\":{\"sequential\":[[0.0,\"#0d0887\"],[0.1111111111111111,\"#46039f\"],[0.2222222222222222,\"#7201a8\"],[0.3333333333333333,\"#9c179e\"],[0.4444444444444444,\"#bd3786\"],[0.5555555555555556,\"#d8576b\"],[0.6666666666666666,\"#ed7953\"],[0.7777777777777778,\"#fb9f3a\"],[0.8888888888888888,\"#fdca26\"],[1.0,\"#f0f921\"]],\"sequentialminus\":[[0.0,\"#0d0887\"],[0.1111111111111111,\"#46039f\"],[0.2222222222222222,\"#7201a8\"],[0.3333333333333333,\"#9c179e\"],[0.4444444444444444,\"#bd3786\"],[0.5555555555555556,\"#d8576b\"],[0.6666666666666666,\"#ed7953\"],[0.7777777777777778,\"#fb9f3a\"],[0.8888888888888888,\"#fdca26\"],[1.0,\"#f0f921\"]],\"diverging\":[[0,\"#8e0152\"],[0.1,\"#c51b7d\"],[0.2,\"#de77ae\"],[0.3,\"#f1b6da\"],[0.4,\"#fde0ef\"],[0.5,\"#f7f7f7\"],[0.6,\"#e6f5d0\"],[0.7,\"#b8e186\"],[0.8,\"#7fbc41\"],[0.9,\"#4d9221\"],[1,\"#276419\"]]},\"xaxis\":{\"gridcolor\":\"white\",\"linecolor\":\"white\",\"ticks\":\"\",\"title\":{\"standoff\":15},\"zerolinecolor\":\"white\",\"automargin\":true,\"zerolinewidth\":2},\"yaxis\":{\"gridcolor\":\"white\",\"linecolor\":\"white\",\"ticks\":\"\",\"title\":{\"standoff\":15},\"zerolinecolor\":\"white\",\"automargin\":true,\"zerolinewidth\":2},\"scene\":{\"xaxis\":{\"backgroundcolor\":\"#E5ECF6\",\"gridcolor\":\"white\",\"linecolor\":\"white\",\"showbackground\":true,\"ticks\":\"\",\"zerolinecolor\":\"white\",\"gridwidth\":2},\"yaxis\":{\"backgroundcolor\":\"#E5ECF6\",\"gridcolor\":\"white\",\"linecolor\":\"white\",\"showbackground\":true,\"ticks\":\"\",\"zerolinecolor\":\"white\",\"gridwidth\":2},\"zaxis\":{\"backgroundcolor\":\"#E5ECF6\",\"gridcolor\":\"white\",\"linecolor\":\"white\",\"showbackground\":true,\"ticks\":\"\",\"zerolinecolor\":\"white\",\"gridwidth\":2}},\"shapedefaults\":{\"line\":{\"color\":\"#2a3f5f\"}},\"annotationdefaults\":{\"arrowcolor\":\"#2a3f5f\",\"arrowhead\":0,\"arrowwidth\":1},\"geo\":{\"bgcolor\":\"white\",\"landcolor\":\"#E5ECF6\",\"subunitcolor\":\"white\",\"showland\":true,\"showlakes\":true,\"lakecolor\":\"white\"},\"title\":{\"x\":0.05},\"mapbox\":{\"style\":\"light\"}}},\"xaxis\":{\"anchor\":\"y\",\"domain\":[0.0,1.0],\"title\":{\"text\":\"CO\"}},\"yaxis\":{\"anchor\":\"x\",\"domain\":[0.0,1.0],\"title\":{\"text\":\"count\"}},\"legend\":{\"title\":{\"text\":\"Mortality\"},\"tracegroupgap\":0},\"margin\":{\"t\":60},\"barmode\":\"relative\"},                        {\"responsive\": true}                    ).then(function(){\n",
       "                            \n",
       "var gd = document.getElementById('0b1858e9-446c-4b3e-b450-187203c4f332');\n",
       "var x = new MutationObserver(function (mutations, observer) {{\n",
       "        var display = window.getComputedStyle(gd).display;\n",
       "        if (!display || display === 'none') {{\n",
       "            console.log([gd, 'removed!']);\n",
       "            Plotly.purge(gd);\n",
       "            observer.disconnect();\n",
       "        }}\n",
       "}});\n",
       "\n",
       "// Listen for the removal of the full notebook cells\n",
       "var notebookContainer = gd.closest('#notebook-container');\n",
       "if (notebookContainer) {{\n",
       "    x.observe(notebookContainer, {childList: true});\n",
       "}}\n",
       "\n",
       "// Listen for the clearing of the current output cell\n",
       "var outputEl = gd.closest('.output');\n",
       "if (outputEl) {{\n",
       "    x.observe(outputEl, {childList: true});\n",
       "}}\n",
       "\n",
       "                        })                };                });            </script>        </div>"
      ]
     },
     "metadata": {},
     "output_type": "display_data"
    },
    {
     "name": "stdout",
     "output_type": "stream",
     "text": [
      "Category:  Diagnosis\n",
      "P-value:  0.0\n",
      "H0 rejected \n",
      "\n"
     ]
    },
    {
     "data": {
      "application/vnd.plotly.v1+json": {
       "config": {
        "plotlyServerURL": "https://plot.ly"
       },
       "data": [
        {
         "alignmentgroup": "True",
         "bingroup": "x",
         "hovertemplate": "Mortality=Died<br>Diagnosis=%{x}<br>count=%{y}<extra></extra>",
         "legendgroup": "Died",
         "marker": {
          "color": "deeppink",
          "pattern": {
           "shape": ""
          }
         },
         "name": "Died",
         "offsetgroup": "Died",
         "orientation": "v",
         "showlegend": true,
         "type": "histogram",
         "x": [
          "EXT. ACUTE WALL M.I",
          "A/W M.I",
          "AC I/W M.I (RV) RE. M.I ",
          "I/W M.I",
          "A/W M.I",
          "AC I/W M.I",
          "A/W M.I",
          "AC I/W M.I (RV) RE. M.I ",
          "A/W M.I",
          "ACS, NSTEMI",
          "A/W M.I",
          "AC I/W M.I (RV) RE. M.I ",
          "I/W M.I",
          "A/W M.I",
          "ACS, NSTEMI",
          "AC I/W M.I",
          "A/S WALL M.I",
          "INF WALL M.I",
          "POSTERIOR WALL M.I",
          "Acute I/W M.I",
          "M.I ,ACS",
          "AC. WALL M.I",
          "Acute I/W M.I",
          "AC I/W M.I",
          "I/W M.I",
          "SEVERE MR, MVR",
          "AC I/W M.I",
          "Ext. Ant wall M.I",
          "NSTEM.I",
          "old I/W M.I, ACS.",
          "A LATERAL WALL M.I",
          "A/W M.I",
          "AC I/W M.I",
          "A/S M.I",
          "A/CI/W M.I",
          "A/W M.I",
          "INF WALL M.I",
          "Acute and Ant Wall MI, ACS.",
          "A/L WALL M.I",
          "ST-T ELEVATION POST SK",
          "AC. I/W M.I",
          "ACS. ACUTE LEFT WALL M.I",
          "A/S WALL M.I",
          "INF WALL M.I",
          "POSTERIOR WALL M.I",
          "AC I/W M.I",
          "Inf. Wall M.I",
          "Acute I/W M.I",
          "Ac I/P M.Iwith RV Infarct",
          "ACUTE I/W M.I",
          "M.I ,ACS",
          "STEMI",
          "AC. WALL M.I",
          "Acute I/W M.I",
          "A/C, A/W M.I",
          "CARDIOGENIC SHOCK",
          "NSTEM.I",
          "AC I/W M.I",
          "I/P M.I",
          "I/W M.I",
          "SEVERE MR, MVR",
          "AC I/W M.I",
          "Ext. Ant wall M.I",
          "NSTEM.I",
          "old I/W M.I, ACS.",
          "A LATERAL WALL M.I",
          "A/W M.I",
          "AC I/W M.I",
          "A/S M.I",
          "A/CI/W M.I",
          "A/W M.I",
          "INF WALL M.I",
          "Acute and Ant Wall MI, ACS.",
          "A/L WALL M.I",
          "ST-T ELEVATION POST SK",
          "AC. I/W M.I",
          "ACS. ACUTE LEFT WALL M.I",
          "A/S WALL M.I",
          "INF WALL M.I",
          "POSTERIOR WALL M.I",
          "AC I/W M.I",
          "Inf. Wall M.I",
          "Acute I/W M.I",
          "Ac I/P M.Iwith RV Infarct",
          "ACUTE I/W M.I",
          "M.I ,ACS",
          "STEMI",
          "AC. WALL M.I",
          "Acute I/W M.I",
          "A/C, A/W M.I",
          "CARDIOGENIC SHOCK",
          "NSTEM.I",
          "AC I/W M.I",
          "I/P M.I",
          "I/W M.I",
          "SEVERE MR, MVR",
          "AC I/W M.I",
          "Ext. Ant wall M.I",
          "NSTEM.I",
          "old I/W M.I, ACS.",
          "A LATERAL WALL M.I",
          "A/W M.I",
          "AC I/W M.I",
          "A/S M.I",
          "A/CI/W M.I",
          "A/W M.I",
          "INF WALL M.I",
          "Acute and Ant Wall MI, ACS.",
          "A/L WALL M.I",
          "ST-T ELEVATION POST SK",
          "AC. I/W M.I",
          "ACS. ACUTE LEFT WALL M.I",
          "AC I/W M.I",
          "I/P M.I",
          "I/W M.I",
          "SEVERE MR, MVR",
          "AC I/W M.I",
          "Ext. Ant wall M.I",
          "NSTEM.I",
          "old I/W M.I, ACS.",
          "A LATERAL WALL M.I",
          "Inf wall M.I",
          "AC. I/W M.I, SHOCK",
          "Inf wall M.I",
          "AC. A/W M.I",
          "Inf wall RE. M.I",
          "AC.LBBB",
          "A/CI/W M.I",
          "A/W M.I",
          "INF WALL M.I",
          "Acute and Ant Wall MI, ACS.",
          "A/L WALL M.I",
          "ST-T ELEVATION POST SK",
          "AC. I/W M.I",
          "ACS. ACUTE LEFT WALL M.I",
          "A/S WALL M.I",
          "INF WALL M.I",
          "POSTERIOR WALL M.I",
          "AC I/W M.I",
          "Inf. Wall M.I",
          "Acute I/W M.I",
          "Ac I/P M.Iwith RV Infarct",
          "ACUTE I/W M.I",
          "M.I ,ACS",
          "STEMI",
          "AC. WALL M.I",
          "Acute I/W M.I",
          "A/C, A/W M.I",
          "A/W M.I",
          "ACS, NSTEMI",
          "A/W M.I",
          "AC I/W M.I (RV) RE. M.I ",
          "I/W M.I",
          "A/W M.I",
          "ACS, NSTEMI",
          "AC I/W M.I",
          "A/S WALL M.I",
          "INF WALL M.I",
          "POSTERIOR WALL M.I",
          "Acute I/W M.I",
          "M.I ,ACS",
          "AC. WALL M.I",
          "Acute I/W M.I",
          "AC I/W M.I",
          "I/W M.I",
          "SEVERE MR, MVR",
          "AC I/W M.I",
          "Ext. Ant wall M.I",
          "NSTEM.I",
          "old I/W M.I, ACS.",
          "A LATERAL WALL M.I",
          "A/W M.I",
          "AC I/W M.I",
          "A/S M.I",
          "A/CI/W M.I",
          "A/W M.I",
          "INF WALL M.I",
          "Acute and Ant Wall MI, ACS.",
          "A/L WALL M.I",
          "ST-T ELEVATION POST SK",
          "AC. I/W M.I",
          "ACS. ACUTE LEFT WALL M.I",
          "A/S WALL M.I",
          "INF WALL M.I",
          "POSTERIOR WALL M.I",
          "AC I/W M.I",
          "Inf. Wall M.I",
          "Acute I/W M.I",
          "Ac I/P M.Iwith RV Infarct",
          "ACUTE I/W M.I",
          "M.I ,ACS",
          "STEMI",
          "AC. WALL M.I",
          "Acute I/W M.I",
          "A/C, A/W M.I",
          "A/W M.I",
          "ACS, NSTEMI",
          "A/W M.I",
          "AC I/W M.I (RV) RE. M.I ",
          "I/W M.I",
          "A/W M.I",
          "ACS, NSTEMI",
          "AC I/W M.I",
          "A/S WALL M.I",
          "INF WALL M.I",
          "POSTERIOR WALL M.I",
          "Acute I/W M.I",
          "M.I ,ACS",
          "AC. WALL M.I",
          "Acute I/W M.I",
          "AC I/W M.I",
          "A/CI/W M.I",
          "A/W M.I",
          "INF WALL M.I",
          "Acute and Ant Wall MI, ACS.",
          "A/L WALL M.I",
          "ST-T ELEVATION POST SK",
          "AC. I/W M.I",
          "ACS. ACUTE LEFT WALL M.I",
          "A/S WALL M.I",
          "INF WALL M.I",
          "POSTERIOR WALL M.I",
          "AC I/W M.I",
          "Inf. Wall M.I",
          "Acute I/W M.I",
          "Ac I/P M.Iwith RV Infarct",
          "ACUTE I/W M.I",
          "M.I ,ACS",
          "STEMI",
          "AC. WALL M.I",
          "Acute I/W M.I",
          "A/C, A/W M.I",
          "A/W M.I",
          "ACS, NSTEMI",
          "A/W M.I",
          "AC I/W M.I (RV) RE. M.I ",
          "I/W M.I",
          "A/W M.I",
          "ACS, NSTEMI",
          "AC I/W M.I",
          "A/S WALL M.I",
          "A/CI/W M.I",
          "A/W M.I",
          "INF WALL M.I",
          "Acute and Ant Wall MI, ACS.",
          "A/L WALL M.I",
          "ST-T ELEVATION POST SK",
          "AC. I/W M.I",
          "ACS. ACUTE LEFT WALL M.I",
          "A/S WALL M.I",
          "INF WALL M.I",
          "POSTERIOR WALL M.I",
          "AC I/W M.I",
          "Inf. Wall M.I",
          "Acute I/W M.I",
          "Ac I/P M.Iwith RV Infarct",
          "ACUTE I/W M.I",
          "M.I ,ACS",
          "STEMI",
          "AC. WALL M.I",
          "Acute I/W M.I",
          "A/C, A/W M.I",
          "A/W M.I",
          "ACS, NSTEMI",
          "A/W M.I",
          "AC I/W M.I (RV) RE. M.I ",
          "I/W M.I",
          "A/W M.I",
          "ACS, NSTEMI",
          "AC I/W M.I",
          "A/S WALL M.I",
          "INF WALL M.I",
          "POSTERIOR WALL M.I",
          "Acute I/W M.I",
          "M.I ,ACS",
          "AC. WALL M.I",
          "Acute I/W M.I",
          "AC I/W M.I",
          "I/W M.I",
          "SEVERE MR, MVR",
          "AC I/W M.I",
          "Ext. Ant wall M.I",
          "NSTEM.I",
          "old I/W M.I, ACS.",
          "A LATERAL WALL M.I",
          "A/W M.I",
          "AC I/W M.I",
          "A/S M.I"
         ],
         "xaxis": "x",
         "yaxis": "y"
        },
        {
         "alignmentgroup": "True",
         "bingroup": "x",
         "hovertemplate": "Mortality=Alive<br>Diagnosis=%{x}<br>count=%{y}<extra></extra>",
         "legendgroup": "Alive",
         "marker": {
          "color": "aqua",
          "pattern": {
           "shape": ""
          }
         },
         "name": "Alive",
         "offsetgroup": "Alive",
         "orientation": "v",
         "showlegend": true,
         "type": "histogram",
         "x": [
          "ACS, NSTEMI",
          "EXT. ACUTE WALL M.I",
          "I/W M.I",
          "AC I/W M.I",
          "EXT. ACUTE WALL M.I",
          "I/W M.I",
          "A/W M.I",
          "ACS, NSTEMI",
          "AC I/W M.I",
          "AC I/W M.I",
          "Inf. Wall M.I",
          "Ac I/P M.Iwith RV Infarct",
          "ACUTE I/W M.I",
          "STEMI",
          "A/C, A/W M.I",
          "CARDIOGENIC SHOCK",
          "NSTEM.I",
          "I/P M.I",
          "I/W M.I",
          "Inf wall M.I",
          "AC. I/W M.I, SHOCK",
          "Inf wall M.I",
          "AC. A/W M.I",
          "Inf wall RE. M.I",
          "AC.LBBB",
          "I/W M.I",
          "AC. A/L M.I",
          "AC I/W M.I",
          "EXT. ACUTE WALL M.I",
          "I/W M.I",
          "A/W M.I",
          "ACS, NSTEMI",
          "AC I/W M.I",
          "AC I/W M.I",
          "Inf. Wall M.I",
          "Ac I/P M.Iwith RV Infarct",
          "ACUTE I/W M.I",
          "STEMI",
          "A/C, A/W M.I",
          "CARDIOGENIC SHOCK",
          "NSTEM.I",
          "I/P M.I",
          "AC. A/L M.I",
          "AC I/W M.I",
          "EXT. ACUTE WALL M.I",
          "I/W M.I",
          "A/W M.I",
          "ACS, NSTEMI",
          "AC I/W M.I",
          "AC I/W M.I",
          "Inf. Wall M.I",
          "Ac I/P M.Iwith RV Infarct",
          "ACUTE I/W M.I",
          "STEMI",
          "A/C, A/W M.I",
          "CARDIOGENIC SHOCK",
          "NSTEM.I",
          "AC. A/L M.I",
          "AC I/W M.I",
          "EXT. ACUTE WALL M.I",
          "I/W M.I",
          "A/W M.I",
          "ACS, NSTEMI",
          "AC I/W M.I",
          "AC. A/L M.I",
          "AC I/W M.I",
          "EXT. ACUTE WALL M.I",
          "I/W M.I",
          "A/W M.I",
          "ACS, NSTEMI",
          "AC I/W M.I",
          "AC I/W M.I",
          "Inf. Wall M.I",
          "Ac I/P M.Iwith RV Infarct",
          "ACUTE I/W M.I",
          "STEMI",
          "A/C, A/W M.I",
          "CARDIOGENIC SHOCK",
          "NSTEM.I",
          "I/P M.I"
         ],
         "xaxis": "x",
         "yaxis": "y"
        }
       ],
       "layout": {
        "barmode": "relative",
        "legend": {
         "title": {
          "text": "Mortality"
         },
         "tracegroupgap": 0
        },
        "margin": {
         "t": 60
        },
        "template": {
         "data": {
          "bar": [
           {
            "error_x": {
             "color": "#2a3f5f"
            },
            "error_y": {
             "color": "#2a3f5f"
            },
            "marker": {
             "line": {
              "color": "#E5ECF6",
              "width": 0.5
             },
             "pattern": {
              "fillmode": "overlay",
              "size": 10,
              "solidity": 0.2
             }
            },
            "type": "bar"
           }
          ],
          "barpolar": [
           {
            "marker": {
             "line": {
              "color": "#E5ECF6",
              "width": 0.5
             },
             "pattern": {
              "fillmode": "overlay",
              "size": 10,
              "solidity": 0.2
             }
            },
            "type": "barpolar"
           }
          ],
          "carpet": [
           {
            "aaxis": {
             "endlinecolor": "#2a3f5f",
             "gridcolor": "white",
             "linecolor": "white",
             "minorgridcolor": "white",
             "startlinecolor": "#2a3f5f"
            },
            "baxis": {
             "endlinecolor": "#2a3f5f",
             "gridcolor": "white",
             "linecolor": "white",
             "minorgridcolor": "white",
             "startlinecolor": "#2a3f5f"
            },
            "type": "carpet"
           }
          ],
          "choropleth": [
           {
            "colorbar": {
             "outlinewidth": 0,
             "ticks": ""
            },
            "type": "choropleth"
           }
          ],
          "contour": [
           {
            "colorbar": {
             "outlinewidth": 0,
             "ticks": ""
            },
            "colorscale": [
             [
              0,
              "#0d0887"
             ],
             [
              0.1111111111111111,
              "#46039f"
             ],
             [
              0.2222222222222222,
              "#7201a8"
             ],
             [
              0.3333333333333333,
              "#9c179e"
             ],
             [
              0.4444444444444444,
              "#bd3786"
             ],
             [
              0.5555555555555556,
              "#d8576b"
             ],
             [
              0.6666666666666666,
              "#ed7953"
             ],
             [
              0.7777777777777778,
              "#fb9f3a"
             ],
             [
              0.8888888888888888,
              "#fdca26"
             ],
             [
              1,
              "#f0f921"
             ]
            ],
            "type": "contour"
           }
          ],
          "contourcarpet": [
           {
            "colorbar": {
             "outlinewidth": 0,
             "ticks": ""
            },
            "type": "contourcarpet"
           }
          ],
          "heatmap": [
           {
            "colorbar": {
             "outlinewidth": 0,
             "ticks": ""
            },
            "colorscale": [
             [
              0,
              "#0d0887"
             ],
             [
              0.1111111111111111,
              "#46039f"
             ],
             [
              0.2222222222222222,
              "#7201a8"
             ],
             [
              0.3333333333333333,
              "#9c179e"
             ],
             [
              0.4444444444444444,
              "#bd3786"
             ],
             [
              0.5555555555555556,
              "#d8576b"
             ],
             [
              0.6666666666666666,
              "#ed7953"
             ],
             [
              0.7777777777777778,
              "#fb9f3a"
             ],
             [
              0.8888888888888888,
              "#fdca26"
             ],
             [
              1,
              "#f0f921"
             ]
            ],
            "type": "heatmap"
           }
          ],
          "heatmapgl": [
           {
            "colorbar": {
             "outlinewidth": 0,
             "ticks": ""
            },
            "colorscale": [
             [
              0,
              "#0d0887"
             ],
             [
              0.1111111111111111,
              "#46039f"
             ],
             [
              0.2222222222222222,
              "#7201a8"
             ],
             [
              0.3333333333333333,
              "#9c179e"
             ],
             [
              0.4444444444444444,
              "#bd3786"
             ],
             [
              0.5555555555555556,
              "#d8576b"
             ],
             [
              0.6666666666666666,
              "#ed7953"
             ],
             [
              0.7777777777777778,
              "#fb9f3a"
             ],
             [
              0.8888888888888888,
              "#fdca26"
             ],
             [
              1,
              "#f0f921"
             ]
            ],
            "type": "heatmapgl"
           }
          ],
          "histogram": [
           {
            "marker": {
             "pattern": {
              "fillmode": "overlay",
              "size": 10,
              "solidity": 0.2
             }
            },
            "type": "histogram"
           }
          ],
          "histogram2d": [
           {
            "colorbar": {
             "outlinewidth": 0,
             "ticks": ""
            },
            "colorscale": [
             [
              0,
              "#0d0887"
             ],
             [
              0.1111111111111111,
              "#46039f"
             ],
             [
              0.2222222222222222,
              "#7201a8"
             ],
             [
              0.3333333333333333,
              "#9c179e"
             ],
             [
              0.4444444444444444,
              "#bd3786"
             ],
             [
              0.5555555555555556,
              "#d8576b"
             ],
             [
              0.6666666666666666,
              "#ed7953"
             ],
             [
              0.7777777777777778,
              "#fb9f3a"
             ],
             [
              0.8888888888888888,
              "#fdca26"
             ],
             [
              1,
              "#f0f921"
             ]
            ],
            "type": "histogram2d"
           }
          ],
          "histogram2dcontour": [
           {
            "colorbar": {
             "outlinewidth": 0,
             "ticks": ""
            },
            "colorscale": [
             [
              0,
              "#0d0887"
             ],
             [
              0.1111111111111111,
              "#46039f"
             ],
             [
              0.2222222222222222,
              "#7201a8"
             ],
             [
              0.3333333333333333,
              "#9c179e"
             ],
             [
              0.4444444444444444,
              "#bd3786"
             ],
             [
              0.5555555555555556,
              "#d8576b"
             ],
             [
              0.6666666666666666,
              "#ed7953"
             ],
             [
              0.7777777777777778,
              "#fb9f3a"
             ],
             [
              0.8888888888888888,
              "#fdca26"
             ],
             [
              1,
              "#f0f921"
             ]
            ],
            "type": "histogram2dcontour"
           }
          ],
          "mesh3d": [
           {
            "colorbar": {
             "outlinewidth": 0,
             "ticks": ""
            },
            "type": "mesh3d"
           }
          ],
          "parcoords": [
           {
            "line": {
             "colorbar": {
              "outlinewidth": 0,
              "ticks": ""
             }
            },
            "type": "parcoords"
           }
          ],
          "pie": [
           {
            "automargin": true,
            "type": "pie"
           }
          ],
          "scatter": [
           {
            "fillpattern": {
             "fillmode": "overlay",
             "size": 10,
             "solidity": 0.2
            },
            "type": "scatter"
           }
          ],
          "scatter3d": [
           {
            "line": {
             "colorbar": {
              "outlinewidth": 0,
              "ticks": ""
             }
            },
            "marker": {
             "colorbar": {
              "outlinewidth": 0,
              "ticks": ""
             }
            },
            "type": "scatter3d"
           }
          ],
          "scattercarpet": [
           {
            "marker": {
             "colorbar": {
              "outlinewidth": 0,
              "ticks": ""
             }
            },
            "type": "scattercarpet"
           }
          ],
          "scattergeo": [
           {
            "marker": {
             "colorbar": {
              "outlinewidth": 0,
              "ticks": ""
             }
            },
            "type": "scattergeo"
           }
          ],
          "scattergl": [
           {
            "marker": {
             "colorbar": {
              "outlinewidth": 0,
              "ticks": ""
             }
            },
            "type": "scattergl"
           }
          ],
          "scattermapbox": [
           {
            "marker": {
             "colorbar": {
              "outlinewidth": 0,
              "ticks": ""
             }
            },
            "type": "scattermapbox"
           }
          ],
          "scatterpolar": [
           {
            "marker": {
             "colorbar": {
              "outlinewidth": 0,
              "ticks": ""
             }
            },
            "type": "scatterpolar"
           }
          ],
          "scatterpolargl": [
           {
            "marker": {
             "colorbar": {
              "outlinewidth": 0,
              "ticks": ""
             }
            },
            "type": "scatterpolargl"
           }
          ],
          "scatterternary": [
           {
            "marker": {
             "colorbar": {
              "outlinewidth": 0,
              "ticks": ""
             }
            },
            "type": "scatterternary"
           }
          ],
          "surface": [
           {
            "colorbar": {
             "outlinewidth": 0,
             "ticks": ""
            },
            "colorscale": [
             [
              0,
              "#0d0887"
             ],
             [
              0.1111111111111111,
              "#46039f"
             ],
             [
              0.2222222222222222,
              "#7201a8"
             ],
             [
              0.3333333333333333,
              "#9c179e"
             ],
             [
              0.4444444444444444,
              "#bd3786"
             ],
             [
              0.5555555555555556,
              "#d8576b"
             ],
             [
              0.6666666666666666,
              "#ed7953"
             ],
             [
              0.7777777777777778,
              "#fb9f3a"
             ],
             [
              0.8888888888888888,
              "#fdca26"
             ],
             [
              1,
              "#f0f921"
             ]
            ],
            "type": "surface"
           }
          ],
          "table": [
           {
            "cells": {
             "fill": {
              "color": "#EBF0F8"
             },
             "line": {
              "color": "white"
             }
            },
            "header": {
             "fill": {
              "color": "#C8D4E3"
             },
             "line": {
              "color": "white"
             }
            },
            "type": "table"
           }
          ]
         },
         "layout": {
          "annotationdefaults": {
           "arrowcolor": "#2a3f5f",
           "arrowhead": 0,
           "arrowwidth": 1
          },
          "autotypenumbers": "strict",
          "coloraxis": {
           "colorbar": {
            "outlinewidth": 0,
            "ticks": ""
           }
          },
          "colorscale": {
           "diverging": [
            [
             0,
             "#8e0152"
            ],
            [
             0.1,
             "#c51b7d"
            ],
            [
             0.2,
             "#de77ae"
            ],
            [
             0.3,
             "#f1b6da"
            ],
            [
             0.4,
             "#fde0ef"
            ],
            [
             0.5,
             "#f7f7f7"
            ],
            [
             0.6,
             "#e6f5d0"
            ],
            [
             0.7,
             "#b8e186"
            ],
            [
             0.8,
             "#7fbc41"
            ],
            [
             0.9,
             "#4d9221"
            ],
            [
             1,
             "#276419"
            ]
           ],
           "sequential": [
            [
             0,
             "#0d0887"
            ],
            [
             0.1111111111111111,
             "#46039f"
            ],
            [
             0.2222222222222222,
             "#7201a8"
            ],
            [
             0.3333333333333333,
             "#9c179e"
            ],
            [
             0.4444444444444444,
             "#bd3786"
            ],
            [
             0.5555555555555556,
             "#d8576b"
            ],
            [
             0.6666666666666666,
             "#ed7953"
            ],
            [
             0.7777777777777778,
             "#fb9f3a"
            ],
            [
             0.8888888888888888,
             "#fdca26"
            ],
            [
             1,
             "#f0f921"
            ]
           ],
           "sequentialminus": [
            [
             0,
             "#0d0887"
            ],
            [
             0.1111111111111111,
             "#46039f"
            ],
            [
             0.2222222222222222,
             "#7201a8"
            ],
            [
             0.3333333333333333,
             "#9c179e"
            ],
            [
             0.4444444444444444,
             "#bd3786"
            ],
            [
             0.5555555555555556,
             "#d8576b"
            ],
            [
             0.6666666666666666,
             "#ed7953"
            ],
            [
             0.7777777777777778,
             "#fb9f3a"
            ],
            [
             0.8888888888888888,
             "#fdca26"
            ],
            [
             1,
             "#f0f921"
            ]
           ]
          },
          "colorway": [
           "#636efa",
           "#EF553B",
           "#00cc96",
           "#ab63fa",
           "#FFA15A",
           "#19d3f3",
           "#FF6692",
           "#B6E880",
           "#FF97FF",
           "#FECB52"
          ],
          "font": {
           "color": "#2a3f5f"
          },
          "geo": {
           "bgcolor": "white",
           "lakecolor": "white",
           "landcolor": "#E5ECF6",
           "showlakes": true,
           "showland": true,
           "subunitcolor": "white"
          },
          "hoverlabel": {
           "align": "left"
          },
          "hovermode": "closest",
          "mapbox": {
           "style": "light"
          },
          "paper_bgcolor": "white",
          "plot_bgcolor": "#E5ECF6",
          "polar": {
           "angularaxis": {
            "gridcolor": "white",
            "linecolor": "white",
            "ticks": ""
           },
           "bgcolor": "#E5ECF6",
           "radialaxis": {
            "gridcolor": "white",
            "linecolor": "white",
            "ticks": ""
           }
          },
          "scene": {
           "xaxis": {
            "backgroundcolor": "#E5ECF6",
            "gridcolor": "white",
            "gridwidth": 2,
            "linecolor": "white",
            "showbackground": true,
            "ticks": "",
            "zerolinecolor": "white"
           },
           "yaxis": {
            "backgroundcolor": "#E5ECF6",
            "gridcolor": "white",
            "gridwidth": 2,
            "linecolor": "white",
            "showbackground": true,
            "ticks": "",
            "zerolinecolor": "white"
           },
           "zaxis": {
            "backgroundcolor": "#E5ECF6",
            "gridcolor": "white",
            "gridwidth": 2,
            "linecolor": "white",
            "showbackground": true,
            "ticks": "",
            "zerolinecolor": "white"
           }
          },
          "shapedefaults": {
           "line": {
            "color": "#2a3f5f"
           }
          },
          "ternary": {
           "aaxis": {
            "gridcolor": "white",
            "linecolor": "white",
            "ticks": ""
           },
           "baxis": {
            "gridcolor": "white",
            "linecolor": "white",
            "ticks": ""
           },
           "bgcolor": "#E5ECF6",
           "caxis": {
            "gridcolor": "white",
            "linecolor": "white",
            "ticks": ""
           }
          },
          "title": {
           "x": 0.05
          },
          "xaxis": {
           "automargin": true,
           "gridcolor": "white",
           "linecolor": "white",
           "ticks": "",
           "title": {
            "standoff": 15
           },
           "zerolinecolor": "white",
           "zerolinewidth": 2
          },
          "yaxis": {
           "automargin": true,
           "gridcolor": "white",
           "linecolor": "white",
           "ticks": "",
           "title": {
            "standoff": 15
           },
           "zerolinecolor": "white",
           "zerolinewidth": 2
          }
         }
        },
        "xaxis": {
         "anchor": "y",
         "domain": [
          0,
          1
         ],
         "title": {
          "text": "Diagnosis"
         }
        },
        "yaxis": {
         "anchor": "x",
         "domain": [
          0,
          1
         ],
         "title": {
          "text": "count"
         }
        }
       }
      },
      "text/html": [
       "<div>                            <div id=\"5ae50dba-7d78-4afb-8bb2-ca398a812ea2\" class=\"plotly-graph-div\" style=\"height:525px; width:100%;\"></div>            <script type=\"text/javascript\">                require([\"plotly\"], function(Plotly) {                    window.PLOTLYENV=window.PLOTLYENV || {};                                    if (document.getElementById(\"5ae50dba-7d78-4afb-8bb2-ca398a812ea2\")) {                    Plotly.newPlot(                        \"5ae50dba-7d78-4afb-8bb2-ca398a812ea2\",                        [{\"alignmentgroup\":\"True\",\"bingroup\":\"x\",\"hovertemplate\":\"Mortality=Died\\u003cbr\\u003eDiagnosis=%{x}\\u003cbr\\u003ecount=%{y}\\u003cextra\\u003e\\u003c\\u002fextra\\u003e\",\"legendgroup\":\"Died\",\"marker\":{\"color\":\"deeppink\",\"pattern\":{\"shape\":\"\"}},\"name\":\"Died\",\"offsetgroup\":\"Died\",\"orientation\":\"v\",\"showlegend\":true,\"x\":[\"EXT. ACUTE WALL M.I\",\"A\\u002fW M.I\",\"AC I\\u002fW M.I (RV) RE. M.I \",\"I\\u002fW M.I\",\"A\\u002fW M.I\",\"AC I\\u002fW M.I\",\"A\\u002fW M.I\",\"AC I\\u002fW M.I (RV) RE. M.I \",\"A\\u002fW M.I\",\"ACS, NSTEMI\",\"A\\u002fW M.I\",\"AC I\\u002fW M.I (RV) RE. M.I \",\"I\\u002fW M.I\",\"A\\u002fW M.I\",\"ACS, NSTEMI\",\"AC I\\u002fW M.I\",\"A\\u002fS WALL M.I\",\"INF WALL M.I\",\"POSTERIOR WALL M.I\",\"Acute I\\u002fW M.I\",\"M.I ,ACS\",\"AC. WALL M.I\",\"Acute I\\u002fW M.I\",\"AC I\\u002fW M.I\",\"I\\u002fW M.I\",\"SEVERE MR, MVR\",\"AC I\\u002fW M.I\",\"Ext. Ant wall M.I\",\"NSTEM.I\",\"old I\\u002fW M.I, ACS.\",\"A LATERAL WALL M.I\",\"A\\u002fW M.I\",\"AC I\\u002fW M.I\",\"A\\u002fS M.I\",\"A\\u002fCI\\u002fW M.I\",\"A\\u002fW M.I\",\"INF WALL M.I\",\"Acute and Ant Wall MI, ACS.\",\"A\\u002fL WALL M.I\",\"ST-T ELEVATION POST SK\",\"AC. I\\u002fW M.I\",\"ACS. ACUTE LEFT WALL M.I\",\"A\\u002fS WALL M.I\",\"INF WALL M.I\",\"POSTERIOR WALL M.I\",\"AC I\\u002fW M.I\",\"Inf. Wall M.I\",\"Acute I\\u002fW M.I\",\"Ac I\\u002fP M.Iwith RV Infarct\",\"ACUTE I\\u002fW M.I\",\"M.I ,ACS\",\"STEMI\",\"AC. WALL M.I\",\"Acute I\\u002fW M.I\",\"A\\u002fC, A\\u002fW M.I\",\"CARDIOGENIC SHOCK\",\"NSTEM.I\",\"AC I\\u002fW M.I\",\"I\\u002fP M.I\",\"I\\u002fW M.I\",\"SEVERE MR, MVR\",\"AC I\\u002fW M.I\",\"Ext. Ant wall M.I\",\"NSTEM.I\",\"old I\\u002fW M.I, ACS.\",\"A LATERAL WALL M.I\",\"A\\u002fW M.I\",\"AC I\\u002fW M.I\",\"A\\u002fS M.I\",\"A\\u002fCI\\u002fW M.I\",\"A\\u002fW M.I\",\"INF WALL M.I\",\"Acute and Ant Wall MI, ACS.\",\"A\\u002fL WALL M.I\",\"ST-T ELEVATION POST SK\",\"AC. I\\u002fW M.I\",\"ACS. ACUTE LEFT WALL M.I\",\"A\\u002fS WALL M.I\",\"INF WALL M.I\",\"POSTERIOR WALL M.I\",\"AC I\\u002fW M.I\",\"Inf. Wall M.I\",\"Acute I\\u002fW M.I\",\"Ac I\\u002fP M.Iwith RV Infarct\",\"ACUTE I\\u002fW M.I\",\"M.I ,ACS\",\"STEMI\",\"AC. WALL M.I\",\"Acute I\\u002fW M.I\",\"A\\u002fC, A\\u002fW M.I\",\"CARDIOGENIC SHOCK\",\"NSTEM.I\",\"AC I\\u002fW M.I\",\"I\\u002fP M.I\",\"I\\u002fW M.I\",\"SEVERE MR, MVR\",\"AC I\\u002fW M.I\",\"Ext. Ant wall M.I\",\"NSTEM.I\",\"old I\\u002fW M.I, ACS.\",\"A LATERAL WALL M.I\",\"A\\u002fW M.I\",\"AC I\\u002fW M.I\",\"A\\u002fS M.I\",\"A\\u002fCI\\u002fW M.I\",\"A\\u002fW M.I\",\"INF WALL M.I\",\"Acute and Ant Wall MI, ACS.\",\"A\\u002fL WALL M.I\",\"ST-T ELEVATION POST SK\",\"AC. I\\u002fW M.I\",\"ACS. ACUTE LEFT WALL M.I\",\"AC I\\u002fW M.I\",\"I\\u002fP M.I\",\"I\\u002fW M.I\",\"SEVERE MR, MVR\",\"AC I\\u002fW M.I\",\"Ext. Ant wall M.I\",\"NSTEM.I\",\"old I\\u002fW M.I, ACS.\",\"A LATERAL WALL M.I\",\"Inf wall M.I\",\"AC. I\\u002fW M.I, SHOCK\",\"Inf wall M.I\",\"AC. A\\u002fW M.I\",\"Inf wall RE. M.I\",\"AC.LBBB\",\"A\\u002fCI\\u002fW M.I\",\"A\\u002fW M.I\",\"INF WALL M.I\",\"Acute and Ant Wall MI, ACS.\",\"A\\u002fL WALL M.I\",\"ST-T ELEVATION POST SK\",\"AC. I\\u002fW M.I\",\"ACS. ACUTE LEFT WALL M.I\",\"A\\u002fS WALL M.I\",\"INF WALL M.I\",\"POSTERIOR WALL M.I\",\"AC I\\u002fW M.I\",\"Inf. Wall M.I\",\"Acute I\\u002fW M.I\",\"Ac I\\u002fP M.Iwith RV Infarct\",\"ACUTE I\\u002fW M.I\",\"M.I ,ACS\",\"STEMI\",\"AC. WALL M.I\",\"Acute I\\u002fW M.I\",\"A\\u002fC, A\\u002fW M.I\",\"A\\u002fW M.I\",\"ACS, NSTEMI\",\"A\\u002fW M.I\",\"AC I\\u002fW M.I (RV) RE. M.I \",\"I\\u002fW M.I\",\"A\\u002fW M.I\",\"ACS, NSTEMI\",\"AC I\\u002fW M.I\",\"A\\u002fS WALL M.I\",\"INF WALL M.I\",\"POSTERIOR WALL M.I\",\"Acute I\\u002fW M.I\",\"M.I ,ACS\",\"AC. WALL M.I\",\"Acute I\\u002fW M.I\",\"AC I\\u002fW M.I\",\"I\\u002fW M.I\",\"SEVERE MR, MVR\",\"AC I\\u002fW M.I\",\"Ext. Ant wall M.I\",\"NSTEM.I\",\"old I\\u002fW M.I, ACS.\",\"A LATERAL WALL M.I\",\"A\\u002fW M.I\",\"AC I\\u002fW M.I\",\"A\\u002fS M.I\",\"A\\u002fCI\\u002fW M.I\",\"A\\u002fW M.I\",\"INF WALL M.I\",\"Acute and Ant Wall MI, ACS.\",\"A\\u002fL WALL M.I\",\"ST-T ELEVATION POST SK\",\"AC. I\\u002fW M.I\",\"ACS. ACUTE LEFT WALL M.I\",\"A\\u002fS WALL M.I\",\"INF WALL M.I\",\"POSTERIOR WALL M.I\",\"AC I\\u002fW M.I\",\"Inf. Wall M.I\",\"Acute I\\u002fW M.I\",\"Ac I\\u002fP M.Iwith RV Infarct\",\"ACUTE I\\u002fW M.I\",\"M.I ,ACS\",\"STEMI\",\"AC. WALL M.I\",\"Acute I\\u002fW M.I\",\"A\\u002fC, A\\u002fW M.I\",\"A\\u002fW M.I\",\"ACS, NSTEMI\",\"A\\u002fW M.I\",\"AC I\\u002fW M.I (RV) RE. M.I \",\"I\\u002fW M.I\",\"A\\u002fW M.I\",\"ACS, NSTEMI\",\"AC I\\u002fW M.I\",\"A\\u002fS WALL M.I\",\"INF WALL M.I\",\"POSTERIOR WALL M.I\",\"Acute I\\u002fW M.I\",\"M.I ,ACS\",\"AC. WALL M.I\",\"Acute I\\u002fW M.I\",\"AC I\\u002fW M.I\",\"A\\u002fCI\\u002fW M.I\",\"A\\u002fW M.I\",\"INF WALL M.I\",\"Acute and Ant Wall MI, ACS.\",\"A\\u002fL WALL M.I\",\"ST-T ELEVATION POST SK\",\"AC. I\\u002fW M.I\",\"ACS. ACUTE LEFT WALL M.I\",\"A\\u002fS WALL M.I\",\"INF WALL M.I\",\"POSTERIOR WALL M.I\",\"AC I\\u002fW M.I\",\"Inf. Wall M.I\",\"Acute I\\u002fW M.I\",\"Ac I\\u002fP M.Iwith RV Infarct\",\"ACUTE I\\u002fW M.I\",\"M.I ,ACS\",\"STEMI\",\"AC. WALL M.I\",\"Acute I\\u002fW M.I\",\"A\\u002fC, A\\u002fW M.I\",\"A\\u002fW M.I\",\"ACS, NSTEMI\",\"A\\u002fW M.I\",\"AC I\\u002fW M.I (RV) RE. M.I \",\"I\\u002fW M.I\",\"A\\u002fW M.I\",\"ACS, NSTEMI\",\"AC I\\u002fW M.I\",\"A\\u002fS WALL M.I\",\"A\\u002fCI\\u002fW M.I\",\"A\\u002fW M.I\",\"INF WALL M.I\",\"Acute and Ant Wall MI, ACS.\",\"A\\u002fL WALL M.I\",\"ST-T ELEVATION POST SK\",\"AC. I\\u002fW M.I\",\"ACS. ACUTE LEFT WALL M.I\",\"A\\u002fS WALL M.I\",\"INF WALL M.I\",\"POSTERIOR WALL M.I\",\"AC I\\u002fW M.I\",\"Inf. Wall M.I\",\"Acute I\\u002fW M.I\",\"Ac I\\u002fP M.Iwith RV Infarct\",\"ACUTE I\\u002fW M.I\",\"M.I ,ACS\",\"STEMI\",\"AC. WALL M.I\",\"Acute I\\u002fW M.I\",\"A\\u002fC, A\\u002fW M.I\",\"A\\u002fW M.I\",\"ACS, NSTEMI\",\"A\\u002fW M.I\",\"AC I\\u002fW M.I (RV) RE. M.I \",\"I\\u002fW M.I\",\"A\\u002fW M.I\",\"ACS, NSTEMI\",\"AC I\\u002fW M.I\",\"A\\u002fS WALL M.I\",\"INF WALL M.I\",\"POSTERIOR WALL M.I\",\"Acute I\\u002fW M.I\",\"M.I ,ACS\",\"AC. WALL M.I\",\"Acute I\\u002fW M.I\",\"AC I\\u002fW M.I\",\"I\\u002fW M.I\",\"SEVERE MR, MVR\",\"AC I\\u002fW M.I\",\"Ext. Ant wall M.I\",\"NSTEM.I\",\"old I\\u002fW M.I, ACS.\",\"A LATERAL WALL M.I\",\"A\\u002fW M.I\",\"AC I\\u002fW M.I\",\"A\\u002fS M.I\"],\"xaxis\":\"x\",\"yaxis\":\"y\",\"type\":\"histogram\"},{\"alignmentgroup\":\"True\",\"bingroup\":\"x\",\"hovertemplate\":\"Mortality=Alive\\u003cbr\\u003eDiagnosis=%{x}\\u003cbr\\u003ecount=%{y}\\u003cextra\\u003e\\u003c\\u002fextra\\u003e\",\"legendgroup\":\"Alive\",\"marker\":{\"color\":\"aqua\",\"pattern\":{\"shape\":\"\"}},\"name\":\"Alive\",\"offsetgroup\":\"Alive\",\"orientation\":\"v\",\"showlegend\":true,\"x\":[\"ACS, NSTEMI\",\"EXT. ACUTE WALL M.I\",\"I\\u002fW M.I\",\"AC I\\u002fW M.I\",\"EXT. ACUTE WALL M.I\",\"I\\u002fW M.I\",\"A\\u002fW M.I\",\"ACS, NSTEMI\",\"AC I\\u002fW M.I\",\"AC I\\u002fW M.I\",\"Inf. Wall M.I\",\"Ac I\\u002fP M.Iwith RV Infarct\",\"ACUTE I\\u002fW M.I\",\"STEMI\",\"A\\u002fC, A\\u002fW M.I\",\"CARDIOGENIC SHOCK\",\"NSTEM.I\",\"I\\u002fP M.I\",\"I\\u002fW M.I\",\"Inf wall M.I\",\"AC. I\\u002fW M.I, SHOCK\",\"Inf wall M.I\",\"AC. A\\u002fW M.I\",\"Inf wall RE. M.I\",\"AC.LBBB\",\"I\\u002fW M.I\",\"AC. A\\u002fL M.I\",\"AC I\\u002fW M.I\",\"EXT. ACUTE WALL M.I\",\"I\\u002fW M.I\",\"A\\u002fW M.I\",\"ACS, NSTEMI\",\"AC I\\u002fW M.I\",\"AC I\\u002fW M.I\",\"Inf. Wall M.I\",\"Ac I\\u002fP M.Iwith RV Infarct\",\"ACUTE I\\u002fW M.I\",\"STEMI\",\"A\\u002fC, A\\u002fW M.I\",\"CARDIOGENIC SHOCK\",\"NSTEM.I\",\"I\\u002fP M.I\",\"AC. A\\u002fL M.I\",\"AC I\\u002fW M.I\",\"EXT. ACUTE WALL M.I\",\"I\\u002fW M.I\",\"A\\u002fW M.I\",\"ACS, NSTEMI\",\"AC I\\u002fW M.I\",\"AC I\\u002fW M.I\",\"Inf. Wall M.I\",\"Ac I\\u002fP M.Iwith RV Infarct\",\"ACUTE I\\u002fW M.I\",\"STEMI\",\"A\\u002fC, A\\u002fW M.I\",\"CARDIOGENIC SHOCK\",\"NSTEM.I\",\"AC. A\\u002fL M.I\",\"AC I\\u002fW M.I\",\"EXT. ACUTE WALL M.I\",\"I\\u002fW M.I\",\"A\\u002fW M.I\",\"ACS, NSTEMI\",\"AC I\\u002fW M.I\",\"AC. A\\u002fL M.I\",\"AC I\\u002fW M.I\",\"EXT. ACUTE WALL M.I\",\"I\\u002fW M.I\",\"A\\u002fW M.I\",\"ACS, NSTEMI\",\"AC I\\u002fW M.I\",\"AC I\\u002fW M.I\",\"Inf. Wall M.I\",\"Ac I\\u002fP M.Iwith RV Infarct\",\"ACUTE I\\u002fW M.I\",\"STEMI\",\"A\\u002fC, A\\u002fW M.I\",\"CARDIOGENIC SHOCK\",\"NSTEM.I\",\"I\\u002fP M.I\"],\"xaxis\":\"x\",\"yaxis\":\"y\",\"type\":\"histogram\"}],                        {\"template\":{\"data\":{\"histogram2dcontour\":[{\"type\":\"histogram2dcontour\",\"colorbar\":{\"outlinewidth\":0,\"ticks\":\"\"},\"colorscale\":[[0.0,\"#0d0887\"],[0.1111111111111111,\"#46039f\"],[0.2222222222222222,\"#7201a8\"],[0.3333333333333333,\"#9c179e\"],[0.4444444444444444,\"#bd3786\"],[0.5555555555555556,\"#d8576b\"],[0.6666666666666666,\"#ed7953\"],[0.7777777777777778,\"#fb9f3a\"],[0.8888888888888888,\"#fdca26\"],[1.0,\"#f0f921\"]]}],\"choropleth\":[{\"type\":\"choropleth\",\"colorbar\":{\"outlinewidth\":0,\"ticks\":\"\"}}],\"histogram2d\":[{\"type\":\"histogram2d\",\"colorbar\":{\"outlinewidth\":0,\"ticks\":\"\"},\"colorscale\":[[0.0,\"#0d0887\"],[0.1111111111111111,\"#46039f\"],[0.2222222222222222,\"#7201a8\"],[0.3333333333333333,\"#9c179e\"],[0.4444444444444444,\"#bd3786\"],[0.5555555555555556,\"#d8576b\"],[0.6666666666666666,\"#ed7953\"],[0.7777777777777778,\"#fb9f3a\"],[0.8888888888888888,\"#fdca26\"],[1.0,\"#f0f921\"]]}],\"heatmap\":[{\"type\":\"heatmap\",\"colorbar\":{\"outlinewidth\":0,\"ticks\":\"\"},\"colorscale\":[[0.0,\"#0d0887\"],[0.1111111111111111,\"#46039f\"],[0.2222222222222222,\"#7201a8\"],[0.3333333333333333,\"#9c179e\"],[0.4444444444444444,\"#bd3786\"],[0.5555555555555556,\"#d8576b\"],[0.6666666666666666,\"#ed7953\"],[0.7777777777777778,\"#fb9f3a\"],[0.8888888888888888,\"#fdca26\"],[1.0,\"#f0f921\"]]}],\"heatmapgl\":[{\"type\":\"heatmapgl\",\"colorbar\":{\"outlinewidth\":0,\"ticks\":\"\"},\"colorscale\":[[0.0,\"#0d0887\"],[0.1111111111111111,\"#46039f\"],[0.2222222222222222,\"#7201a8\"],[0.3333333333333333,\"#9c179e\"],[0.4444444444444444,\"#bd3786\"],[0.5555555555555556,\"#d8576b\"],[0.6666666666666666,\"#ed7953\"],[0.7777777777777778,\"#fb9f3a\"],[0.8888888888888888,\"#fdca26\"],[1.0,\"#f0f921\"]]}],\"contourcarpet\":[{\"type\":\"contourcarpet\",\"colorbar\":{\"outlinewidth\":0,\"ticks\":\"\"}}],\"contour\":[{\"type\":\"contour\",\"colorbar\":{\"outlinewidth\":0,\"ticks\":\"\"},\"colorscale\":[[0.0,\"#0d0887\"],[0.1111111111111111,\"#46039f\"],[0.2222222222222222,\"#7201a8\"],[0.3333333333333333,\"#9c179e\"],[0.4444444444444444,\"#bd3786\"],[0.5555555555555556,\"#d8576b\"],[0.6666666666666666,\"#ed7953\"],[0.7777777777777778,\"#fb9f3a\"],[0.8888888888888888,\"#fdca26\"],[1.0,\"#f0f921\"]]}],\"surface\":[{\"type\":\"surface\",\"colorbar\":{\"outlinewidth\":0,\"ticks\":\"\"},\"colorscale\":[[0.0,\"#0d0887\"],[0.1111111111111111,\"#46039f\"],[0.2222222222222222,\"#7201a8\"],[0.3333333333333333,\"#9c179e\"],[0.4444444444444444,\"#bd3786\"],[0.5555555555555556,\"#d8576b\"],[0.6666666666666666,\"#ed7953\"],[0.7777777777777778,\"#fb9f3a\"],[0.8888888888888888,\"#fdca26\"],[1.0,\"#f0f921\"]]}],\"mesh3d\":[{\"type\":\"mesh3d\",\"colorbar\":{\"outlinewidth\":0,\"ticks\":\"\"}}],\"scatter\":[{\"fillpattern\":{\"fillmode\":\"overlay\",\"size\":10,\"solidity\":0.2},\"type\":\"scatter\"}],\"parcoords\":[{\"type\":\"parcoords\",\"line\":{\"colorbar\":{\"outlinewidth\":0,\"ticks\":\"\"}}}],\"scatterpolargl\":[{\"type\":\"scatterpolargl\",\"marker\":{\"colorbar\":{\"outlinewidth\":0,\"ticks\":\"\"}}}],\"bar\":[{\"error_x\":{\"color\":\"#2a3f5f\"},\"error_y\":{\"color\":\"#2a3f5f\"},\"marker\":{\"line\":{\"color\":\"#E5ECF6\",\"width\":0.5},\"pattern\":{\"fillmode\":\"overlay\",\"size\":10,\"solidity\":0.2}},\"type\":\"bar\"}],\"scattergeo\":[{\"type\":\"scattergeo\",\"marker\":{\"colorbar\":{\"outlinewidth\":0,\"ticks\":\"\"}}}],\"scatterpolar\":[{\"type\":\"scatterpolar\",\"marker\":{\"colorbar\":{\"outlinewidth\":0,\"ticks\":\"\"}}}],\"histogram\":[{\"marker\":{\"pattern\":{\"fillmode\":\"overlay\",\"size\":10,\"solidity\":0.2}},\"type\":\"histogram\"}],\"scattergl\":[{\"type\":\"scattergl\",\"marker\":{\"colorbar\":{\"outlinewidth\":0,\"ticks\":\"\"}}}],\"scatter3d\":[{\"type\":\"scatter3d\",\"line\":{\"colorbar\":{\"outlinewidth\":0,\"ticks\":\"\"}},\"marker\":{\"colorbar\":{\"outlinewidth\":0,\"ticks\":\"\"}}}],\"scattermapbox\":[{\"type\":\"scattermapbox\",\"marker\":{\"colorbar\":{\"outlinewidth\":0,\"ticks\":\"\"}}}],\"scatterternary\":[{\"type\":\"scatterternary\",\"marker\":{\"colorbar\":{\"outlinewidth\":0,\"ticks\":\"\"}}}],\"scattercarpet\":[{\"type\":\"scattercarpet\",\"marker\":{\"colorbar\":{\"outlinewidth\":0,\"ticks\":\"\"}}}],\"carpet\":[{\"aaxis\":{\"endlinecolor\":\"#2a3f5f\",\"gridcolor\":\"white\",\"linecolor\":\"white\",\"minorgridcolor\":\"white\",\"startlinecolor\":\"#2a3f5f\"},\"baxis\":{\"endlinecolor\":\"#2a3f5f\",\"gridcolor\":\"white\",\"linecolor\":\"white\",\"minorgridcolor\":\"white\",\"startlinecolor\":\"#2a3f5f\"},\"type\":\"carpet\"}],\"table\":[{\"cells\":{\"fill\":{\"color\":\"#EBF0F8\"},\"line\":{\"color\":\"white\"}},\"header\":{\"fill\":{\"color\":\"#C8D4E3\"},\"line\":{\"color\":\"white\"}},\"type\":\"table\"}],\"barpolar\":[{\"marker\":{\"line\":{\"color\":\"#E5ECF6\",\"width\":0.5},\"pattern\":{\"fillmode\":\"overlay\",\"size\":10,\"solidity\":0.2}},\"type\":\"barpolar\"}],\"pie\":[{\"automargin\":true,\"type\":\"pie\"}]},\"layout\":{\"autotypenumbers\":\"strict\",\"colorway\":[\"#636efa\",\"#EF553B\",\"#00cc96\",\"#ab63fa\",\"#FFA15A\",\"#19d3f3\",\"#FF6692\",\"#B6E880\",\"#FF97FF\",\"#FECB52\"],\"font\":{\"color\":\"#2a3f5f\"},\"hovermode\":\"closest\",\"hoverlabel\":{\"align\":\"left\"},\"paper_bgcolor\":\"white\",\"plot_bgcolor\":\"#E5ECF6\",\"polar\":{\"bgcolor\":\"#E5ECF6\",\"angularaxis\":{\"gridcolor\":\"white\",\"linecolor\":\"white\",\"ticks\":\"\"},\"radialaxis\":{\"gridcolor\":\"white\",\"linecolor\":\"white\",\"ticks\":\"\"}},\"ternary\":{\"bgcolor\":\"#E5ECF6\",\"aaxis\":{\"gridcolor\":\"white\",\"linecolor\":\"white\",\"ticks\":\"\"},\"baxis\":{\"gridcolor\":\"white\",\"linecolor\":\"white\",\"ticks\":\"\"},\"caxis\":{\"gridcolor\":\"white\",\"linecolor\":\"white\",\"ticks\":\"\"}},\"coloraxis\":{\"colorbar\":{\"outlinewidth\":0,\"ticks\":\"\"}},\"colorscale\":{\"sequential\":[[0.0,\"#0d0887\"],[0.1111111111111111,\"#46039f\"],[0.2222222222222222,\"#7201a8\"],[0.3333333333333333,\"#9c179e\"],[0.4444444444444444,\"#bd3786\"],[0.5555555555555556,\"#d8576b\"],[0.6666666666666666,\"#ed7953\"],[0.7777777777777778,\"#fb9f3a\"],[0.8888888888888888,\"#fdca26\"],[1.0,\"#f0f921\"]],\"sequentialminus\":[[0.0,\"#0d0887\"],[0.1111111111111111,\"#46039f\"],[0.2222222222222222,\"#7201a8\"],[0.3333333333333333,\"#9c179e\"],[0.4444444444444444,\"#bd3786\"],[0.5555555555555556,\"#d8576b\"],[0.6666666666666666,\"#ed7953\"],[0.7777777777777778,\"#fb9f3a\"],[0.8888888888888888,\"#fdca26\"],[1.0,\"#f0f921\"]],\"diverging\":[[0,\"#8e0152\"],[0.1,\"#c51b7d\"],[0.2,\"#de77ae\"],[0.3,\"#f1b6da\"],[0.4,\"#fde0ef\"],[0.5,\"#f7f7f7\"],[0.6,\"#e6f5d0\"],[0.7,\"#b8e186\"],[0.8,\"#7fbc41\"],[0.9,\"#4d9221\"],[1,\"#276419\"]]},\"xaxis\":{\"gridcolor\":\"white\",\"linecolor\":\"white\",\"ticks\":\"\",\"title\":{\"standoff\":15},\"zerolinecolor\":\"white\",\"automargin\":true,\"zerolinewidth\":2},\"yaxis\":{\"gridcolor\":\"white\",\"linecolor\":\"white\",\"ticks\":\"\",\"title\":{\"standoff\":15},\"zerolinecolor\":\"white\",\"automargin\":true,\"zerolinewidth\":2},\"scene\":{\"xaxis\":{\"backgroundcolor\":\"#E5ECF6\",\"gridcolor\":\"white\",\"linecolor\":\"white\",\"showbackground\":true,\"ticks\":\"\",\"zerolinecolor\":\"white\",\"gridwidth\":2},\"yaxis\":{\"backgroundcolor\":\"#E5ECF6\",\"gridcolor\":\"white\",\"linecolor\":\"white\",\"showbackground\":true,\"ticks\":\"\",\"zerolinecolor\":\"white\",\"gridwidth\":2},\"zaxis\":{\"backgroundcolor\":\"#E5ECF6\",\"gridcolor\":\"white\",\"linecolor\":\"white\",\"showbackground\":true,\"ticks\":\"\",\"zerolinecolor\":\"white\",\"gridwidth\":2}},\"shapedefaults\":{\"line\":{\"color\":\"#2a3f5f\"}},\"annotationdefaults\":{\"arrowcolor\":\"#2a3f5f\",\"arrowhead\":0,\"arrowwidth\":1},\"geo\":{\"bgcolor\":\"white\",\"landcolor\":\"#E5ECF6\",\"subunitcolor\":\"white\",\"showland\":true,\"showlakes\":true,\"lakecolor\":\"white\"},\"title\":{\"x\":0.05},\"mapbox\":{\"style\":\"light\"}}},\"xaxis\":{\"anchor\":\"y\",\"domain\":[0.0,1.0],\"title\":{\"text\":\"Diagnosis\"}},\"yaxis\":{\"anchor\":\"x\",\"domain\":[0.0,1.0],\"title\":{\"text\":\"count\"}},\"legend\":{\"title\":{\"text\":\"Mortality\"},\"tracegroupgap\":0},\"margin\":{\"t\":60},\"barmode\":\"relative\"},                        {\"responsive\": true}                    ).then(function(){\n",
       "                            \n",
       "var gd = document.getElementById('5ae50dba-7d78-4afb-8bb2-ca398a812ea2');\n",
       "var x = new MutationObserver(function (mutations, observer) {{\n",
       "        var display = window.getComputedStyle(gd).display;\n",
       "        if (!display || display === 'none') {{\n",
       "            console.log([gd, 'removed!']);\n",
       "            Plotly.purge(gd);\n",
       "            observer.disconnect();\n",
       "        }}\n",
       "}});\n",
       "\n",
       "// Listen for the removal of the full notebook cells\n",
       "var notebookContainer = gd.closest('#notebook-container');\n",
       "if (notebookContainer) {{\n",
       "    x.observe(notebookContainer, {childList: true});\n",
       "}}\n",
       "\n",
       "// Listen for the clearing of the current output cell\n",
       "var outputEl = gd.closest('.output');\n",
       "if (outputEl) {{\n",
       "    x.observe(outputEl, {childList: true});\n",
       "}}\n",
       "\n",
       "                        })                };                });            </script>        </div>"
      ]
     },
     "metadata": {},
     "output_type": "display_data"
    },
    {
     "name": "stdout",
     "output_type": "stream",
     "text": [
      "Category:  cp\n",
      "P-value:  0.03\n",
      "H0 rejected \n",
      "\n"
     ]
    },
    {
     "data": {
      "application/vnd.plotly.v1+json": {
       "config": {
        "plotlyServerURL": "https://plot.ly"
       },
       "data": [
        {
         "alignmentgroup": "True",
         "bingroup": "x",
         "hovertemplate": "Mortality=Died<br>cp=%{x}<br>count=%{y}<extra></extra>",
         "legendgroup": "Died",
         "marker": {
          "color": "deeppink",
          "pattern": {
           "shape": ""
          }
         },
         "name": "Died",
         "offsetgroup": "Died",
         "orientation": "v",
         "showlegend": true,
         "type": "histogram",
         "x": [
          "Grade_4",
          "Grade_4",
          "Grade_4",
          "Grade_4",
          "Grade_4",
          "Grade_4",
          "Grade_2",
          "Grade_4",
          "Grade_4",
          "Grade_4",
          "Grade_4",
          "Grade_4",
          "Grade_4",
          "Grade_4",
          "Grade_4",
          "Grade_4",
          "Grade_4",
          "Grade_4",
          "Grade_1",
          "Grade_4",
          "Grade_4",
          "Grade_4",
          "Grade_4",
          "Grade_3",
          "Grade_4",
          "Grade_3",
          "Grade_4",
          "Grade_2",
          "Grade_4",
          "Grade_4",
          "Grade_3",
          "Grade_3",
          "Grade_4",
          "Grade_3",
          "Grade_4",
          "Grade_4",
          "Grade_4",
          "Grade_4",
          "Grade_4",
          "Grade_4",
          "Grade_4",
          "Grade_4",
          "Grade_4",
          "Grade_4",
          "Grade_4",
          "Grade_4",
          "Grade_2",
          "Grade_4",
          "Grade_4",
          "Grade_4",
          "Grade_4",
          "Grade_4",
          "Grade_3",
          "Grade_4",
          "Grade_4",
          "Grade_4",
          "Grade_4",
          "Grade_3",
          "Grade_4",
          "Grade_4",
          "Grade_2",
          "Grade_2",
          "Grade_4",
          "Grade_4",
          "Grade_2",
          "Grade_3",
          "Grade_3",
          "Grade_4",
          "Grade_4",
          "Grade_4",
          "Grade_4",
          "Grade_4",
          "Grade_4",
          "Grade_4",
          "Grade_4",
          "Grade_4",
          "Grade_4",
          "Grade_1",
          "Grade_1",
          "Grade_3",
          "Grade_1",
          "Grade_4",
          "Grade_4",
          "Grade_4",
          "Grade_4",
          "Grade_4",
          "Grade_3",
          "Grade_4",
          "Grade_4",
          "Grade_4",
          "Grade_1",
          "Grade_4",
          "Grade_4",
          "Grade_4",
          "Grade_4",
          "Grade_2",
          "Grade_4",
          "Grade_4",
          "Grade_4",
          "Grade_3",
          "Grade_3",
          "Grade_4",
          "Grade_4",
          "Grade_4",
          "Grade_4",
          "Grade_1",
          "Grade_2",
          "Grade_4",
          "Grade_4",
          "Grade_4",
          "Grade_4",
          "Grade_4",
          "Grade_4",
          "Grade_3",
          "Grade_3",
          "Grade_4",
          "Grade_3",
          "Grade_4",
          "Grade_4",
          "Grade_3",
          "Grade_4",
          "Grade_4",
          "Grade_4",
          "Grade_1",
          "Grade_4",
          "Grade_4",
          "Grade_4",
          "Grade_4",
          "Grade_4",
          "Grade_4",
          "Grade_4",
          "Grade_4",
          "Grade_4",
          "Grade_4",
          "Grade_4",
          "Grade_4",
          "Grade_4",
          "Grade_4",
          "Grade_4",
          "Grade_2",
          "Grade_4",
          "Grade_4",
          "Grade_4",
          "Grade_4",
          "Grade_4",
          "Grade_3",
          "Grade_4",
          "Grade_4",
          "Grade_4",
          "Grade_4",
          "Grade_4",
          "Grade_4",
          "Grade_4",
          "Grade_4",
          "Grade_4",
          "Grade_4",
          "Grade_4",
          "Grade_4",
          "Grade_1",
          "Grade_4",
          "Grade_4",
          "Grade_4",
          "Grade_4",
          "Grade_3",
          "Grade_4",
          "Grade_3",
          "Grade_4",
          "Grade_2",
          "Grade_4",
          "Grade_4",
          "Grade_3",
          "Grade_3",
          "Grade_4",
          "Grade_3",
          "Grade_4",
          "Grade_4",
          "Grade_4",
          "Grade_4",
          "Grade_4",
          "Grade_4",
          "Grade_4",
          "Grade_4",
          "Grade_4",
          "Grade_4",
          "Grade_4",
          "Grade_4",
          "Grade_2",
          "Grade_4",
          "Grade_4",
          "Grade_4",
          "Grade_4",
          "Grade_4",
          "Grade_3",
          "Grade_4",
          "Grade_4",
          "Grade_4",
          "Grade_4",
          "Grade_4",
          "Grade_4",
          "Grade_4",
          "Grade_4",
          "Grade_4",
          "Grade_4",
          "Grade_4",
          "Grade_4",
          "Grade_1",
          "Grade_4",
          "Grade_4",
          "Grade_4",
          "Grade_4",
          "Grade_3",
          "Grade_4",
          "Grade_4",
          "Grade_4",
          "Grade_4",
          "Grade_4",
          "Grade_4",
          "Grade_4",
          "Grade_4",
          "Grade_4",
          "Grade_4",
          "Grade_4",
          "Grade_4",
          "Grade_2",
          "Grade_4",
          "Grade_4",
          "Grade_4",
          "Grade_4",
          "Grade_4",
          "Grade_3",
          "Grade_4",
          "Grade_4",
          "Grade_4",
          "Grade_4",
          "Grade_4",
          "Grade_4",
          "Grade_4",
          "Grade_4",
          "Grade_4",
          "Grade_4",
          "Grade_4",
          "Grade_4",
          "Grade_4",
          "Grade_4",
          "Grade_4",
          "Grade_4",
          "Grade_4",
          "Grade_4",
          "Grade_4",
          "Grade_4",
          "Grade_4",
          "Grade_4",
          "Grade_4",
          "Grade_2",
          "Grade_4",
          "Grade_4",
          "Grade_4",
          "Grade_4",
          "Grade_4",
          "Grade_3",
          "Grade_4",
          "Grade_4",
          "Grade_4",
          "Grade_4",
          "Grade_4",
          "Grade_4",
          "Grade_4",
          "Grade_4",
          "Grade_4",
          "Grade_4",
          "Grade_4",
          "Grade_4",
          "Grade_1",
          "Grade_4",
          "Grade_4",
          "Grade_4",
          "Grade_4",
          "Grade_3",
          "Grade_4",
          "Grade_3",
          "Grade_4",
          "Grade_2",
          "Grade_4",
          "Grade_4",
          "Grade_3",
          "Grade_3",
          "Grade_4",
          "Grade_3"
         ],
         "xaxis": "x",
         "yaxis": "y"
        },
        {
         "alignmentgroup": "True",
         "bingroup": "x",
         "hovertemplate": "Mortality=Alive<br>cp=%{x}<br>count=%{y}<extra></extra>",
         "legendgroup": "Alive",
         "marker": {
          "color": "aqua",
          "pattern": {
           "shape": ""
          }
         },
         "name": "Alive",
         "offsetgroup": "Alive",
         "orientation": "v",
         "showlegend": true,
         "type": "histogram",
         "x": [
          "Grade_4",
          "Grade_2",
          "Grade_4",
          "Grade_4",
          "Grade_4",
          "Grade_3",
          "Grade_4",
          "Grade_4",
          "Grade_4",
          "Grade_4",
          "Grade_4",
          "Grade_4",
          "Grade_4",
          "Grade_4",
          "Grade_4",
          "Grade_4",
          "Grade_1",
          "Grade_4",
          "Grade_4",
          "Grade_4",
          "Grade_4",
          "Grade_4",
          "Grade_4",
          "Grade_4",
          "Grade_4",
          "Grade_4",
          "Grade_1",
          "Grade_4",
          "Grade_4",
          "Grade_3",
          "Grade_4",
          "Grade_4",
          "Grade_4",
          "Grade_4",
          "Grade_4",
          "Grade_4",
          "Grade_4",
          "Grade_4",
          "Grade_4",
          "Grade_4",
          "Grade_1",
          "Grade_4",
          "Grade_1",
          "Grade_4",
          "Grade_4",
          "Grade_3",
          "Grade_4",
          "Grade_4",
          "Grade_4",
          "Grade_4",
          "Grade_4",
          "Grade_4",
          "Grade_4",
          "Grade_4",
          "Grade_4",
          "Grade_4",
          "Grade_1",
          "Grade_1",
          "Grade_4",
          "Grade_4",
          "Grade_3",
          "Grade_4",
          "Grade_4",
          "Grade_4",
          "Grade_1",
          "Grade_4",
          "Grade_4",
          "Grade_3",
          "Grade_4",
          "Grade_4",
          "Grade_4",
          "Grade_4",
          "Grade_4",
          "Grade_4",
          "Grade_4",
          "Grade_4",
          "Grade_4",
          "Grade_4",
          "Grade_1",
          "Grade_4"
         ],
         "xaxis": "x",
         "yaxis": "y"
        }
       ],
       "layout": {
        "barmode": "relative",
        "legend": {
         "title": {
          "text": "Mortality"
         },
         "tracegroupgap": 0
        },
        "margin": {
         "t": 60
        },
        "template": {
         "data": {
          "bar": [
           {
            "error_x": {
             "color": "#2a3f5f"
            },
            "error_y": {
             "color": "#2a3f5f"
            },
            "marker": {
             "line": {
              "color": "#E5ECF6",
              "width": 0.5
             },
             "pattern": {
              "fillmode": "overlay",
              "size": 10,
              "solidity": 0.2
             }
            },
            "type": "bar"
           }
          ],
          "barpolar": [
           {
            "marker": {
             "line": {
              "color": "#E5ECF6",
              "width": 0.5
             },
             "pattern": {
              "fillmode": "overlay",
              "size": 10,
              "solidity": 0.2
             }
            },
            "type": "barpolar"
           }
          ],
          "carpet": [
           {
            "aaxis": {
             "endlinecolor": "#2a3f5f",
             "gridcolor": "white",
             "linecolor": "white",
             "minorgridcolor": "white",
             "startlinecolor": "#2a3f5f"
            },
            "baxis": {
             "endlinecolor": "#2a3f5f",
             "gridcolor": "white",
             "linecolor": "white",
             "minorgridcolor": "white",
             "startlinecolor": "#2a3f5f"
            },
            "type": "carpet"
           }
          ],
          "choropleth": [
           {
            "colorbar": {
             "outlinewidth": 0,
             "ticks": ""
            },
            "type": "choropleth"
           }
          ],
          "contour": [
           {
            "colorbar": {
             "outlinewidth": 0,
             "ticks": ""
            },
            "colorscale": [
             [
              0,
              "#0d0887"
             ],
             [
              0.1111111111111111,
              "#46039f"
             ],
             [
              0.2222222222222222,
              "#7201a8"
             ],
             [
              0.3333333333333333,
              "#9c179e"
             ],
             [
              0.4444444444444444,
              "#bd3786"
             ],
             [
              0.5555555555555556,
              "#d8576b"
             ],
             [
              0.6666666666666666,
              "#ed7953"
             ],
             [
              0.7777777777777778,
              "#fb9f3a"
             ],
             [
              0.8888888888888888,
              "#fdca26"
             ],
             [
              1,
              "#f0f921"
             ]
            ],
            "type": "contour"
           }
          ],
          "contourcarpet": [
           {
            "colorbar": {
             "outlinewidth": 0,
             "ticks": ""
            },
            "type": "contourcarpet"
           }
          ],
          "heatmap": [
           {
            "colorbar": {
             "outlinewidth": 0,
             "ticks": ""
            },
            "colorscale": [
             [
              0,
              "#0d0887"
             ],
             [
              0.1111111111111111,
              "#46039f"
             ],
             [
              0.2222222222222222,
              "#7201a8"
             ],
             [
              0.3333333333333333,
              "#9c179e"
             ],
             [
              0.4444444444444444,
              "#bd3786"
             ],
             [
              0.5555555555555556,
              "#d8576b"
             ],
             [
              0.6666666666666666,
              "#ed7953"
             ],
             [
              0.7777777777777778,
              "#fb9f3a"
             ],
             [
              0.8888888888888888,
              "#fdca26"
             ],
             [
              1,
              "#f0f921"
             ]
            ],
            "type": "heatmap"
           }
          ],
          "heatmapgl": [
           {
            "colorbar": {
             "outlinewidth": 0,
             "ticks": ""
            },
            "colorscale": [
             [
              0,
              "#0d0887"
             ],
             [
              0.1111111111111111,
              "#46039f"
             ],
             [
              0.2222222222222222,
              "#7201a8"
             ],
             [
              0.3333333333333333,
              "#9c179e"
             ],
             [
              0.4444444444444444,
              "#bd3786"
             ],
             [
              0.5555555555555556,
              "#d8576b"
             ],
             [
              0.6666666666666666,
              "#ed7953"
             ],
             [
              0.7777777777777778,
              "#fb9f3a"
             ],
             [
              0.8888888888888888,
              "#fdca26"
             ],
             [
              1,
              "#f0f921"
             ]
            ],
            "type": "heatmapgl"
           }
          ],
          "histogram": [
           {
            "marker": {
             "pattern": {
              "fillmode": "overlay",
              "size": 10,
              "solidity": 0.2
             }
            },
            "type": "histogram"
           }
          ],
          "histogram2d": [
           {
            "colorbar": {
             "outlinewidth": 0,
             "ticks": ""
            },
            "colorscale": [
             [
              0,
              "#0d0887"
             ],
             [
              0.1111111111111111,
              "#46039f"
             ],
             [
              0.2222222222222222,
              "#7201a8"
             ],
             [
              0.3333333333333333,
              "#9c179e"
             ],
             [
              0.4444444444444444,
              "#bd3786"
             ],
             [
              0.5555555555555556,
              "#d8576b"
             ],
             [
              0.6666666666666666,
              "#ed7953"
             ],
             [
              0.7777777777777778,
              "#fb9f3a"
             ],
             [
              0.8888888888888888,
              "#fdca26"
             ],
             [
              1,
              "#f0f921"
             ]
            ],
            "type": "histogram2d"
           }
          ],
          "histogram2dcontour": [
           {
            "colorbar": {
             "outlinewidth": 0,
             "ticks": ""
            },
            "colorscale": [
             [
              0,
              "#0d0887"
             ],
             [
              0.1111111111111111,
              "#46039f"
             ],
             [
              0.2222222222222222,
              "#7201a8"
             ],
             [
              0.3333333333333333,
              "#9c179e"
             ],
             [
              0.4444444444444444,
              "#bd3786"
             ],
             [
              0.5555555555555556,
              "#d8576b"
             ],
             [
              0.6666666666666666,
              "#ed7953"
             ],
             [
              0.7777777777777778,
              "#fb9f3a"
             ],
             [
              0.8888888888888888,
              "#fdca26"
             ],
             [
              1,
              "#f0f921"
             ]
            ],
            "type": "histogram2dcontour"
           }
          ],
          "mesh3d": [
           {
            "colorbar": {
             "outlinewidth": 0,
             "ticks": ""
            },
            "type": "mesh3d"
           }
          ],
          "parcoords": [
           {
            "line": {
             "colorbar": {
              "outlinewidth": 0,
              "ticks": ""
             }
            },
            "type": "parcoords"
           }
          ],
          "pie": [
           {
            "automargin": true,
            "type": "pie"
           }
          ],
          "scatter": [
           {
            "fillpattern": {
             "fillmode": "overlay",
             "size": 10,
             "solidity": 0.2
            },
            "type": "scatter"
           }
          ],
          "scatter3d": [
           {
            "line": {
             "colorbar": {
              "outlinewidth": 0,
              "ticks": ""
             }
            },
            "marker": {
             "colorbar": {
              "outlinewidth": 0,
              "ticks": ""
             }
            },
            "type": "scatter3d"
           }
          ],
          "scattercarpet": [
           {
            "marker": {
             "colorbar": {
              "outlinewidth": 0,
              "ticks": ""
             }
            },
            "type": "scattercarpet"
           }
          ],
          "scattergeo": [
           {
            "marker": {
             "colorbar": {
              "outlinewidth": 0,
              "ticks": ""
             }
            },
            "type": "scattergeo"
           }
          ],
          "scattergl": [
           {
            "marker": {
             "colorbar": {
              "outlinewidth": 0,
              "ticks": ""
             }
            },
            "type": "scattergl"
           }
          ],
          "scattermapbox": [
           {
            "marker": {
             "colorbar": {
              "outlinewidth": 0,
              "ticks": ""
             }
            },
            "type": "scattermapbox"
           }
          ],
          "scatterpolar": [
           {
            "marker": {
             "colorbar": {
              "outlinewidth": 0,
              "ticks": ""
             }
            },
            "type": "scatterpolar"
           }
          ],
          "scatterpolargl": [
           {
            "marker": {
             "colorbar": {
              "outlinewidth": 0,
              "ticks": ""
             }
            },
            "type": "scatterpolargl"
           }
          ],
          "scatterternary": [
           {
            "marker": {
             "colorbar": {
              "outlinewidth": 0,
              "ticks": ""
             }
            },
            "type": "scatterternary"
           }
          ],
          "surface": [
           {
            "colorbar": {
             "outlinewidth": 0,
             "ticks": ""
            },
            "colorscale": [
             [
              0,
              "#0d0887"
             ],
             [
              0.1111111111111111,
              "#46039f"
             ],
             [
              0.2222222222222222,
              "#7201a8"
             ],
             [
              0.3333333333333333,
              "#9c179e"
             ],
             [
              0.4444444444444444,
              "#bd3786"
             ],
             [
              0.5555555555555556,
              "#d8576b"
             ],
             [
              0.6666666666666666,
              "#ed7953"
             ],
             [
              0.7777777777777778,
              "#fb9f3a"
             ],
             [
              0.8888888888888888,
              "#fdca26"
             ],
             [
              1,
              "#f0f921"
             ]
            ],
            "type": "surface"
           }
          ],
          "table": [
           {
            "cells": {
             "fill": {
              "color": "#EBF0F8"
             },
             "line": {
              "color": "white"
             }
            },
            "header": {
             "fill": {
              "color": "#C8D4E3"
             },
             "line": {
              "color": "white"
             }
            },
            "type": "table"
           }
          ]
         },
         "layout": {
          "annotationdefaults": {
           "arrowcolor": "#2a3f5f",
           "arrowhead": 0,
           "arrowwidth": 1
          },
          "autotypenumbers": "strict",
          "coloraxis": {
           "colorbar": {
            "outlinewidth": 0,
            "ticks": ""
           }
          },
          "colorscale": {
           "diverging": [
            [
             0,
             "#8e0152"
            ],
            [
             0.1,
             "#c51b7d"
            ],
            [
             0.2,
             "#de77ae"
            ],
            [
             0.3,
             "#f1b6da"
            ],
            [
             0.4,
             "#fde0ef"
            ],
            [
             0.5,
             "#f7f7f7"
            ],
            [
             0.6,
             "#e6f5d0"
            ],
            [
             0.7,
             "#b8e186"
            ],
            [
             0.8,
             "#7fbc41"
            ],
            [
             0.9,
             "#4d9221"
            ],
            [
             1,
             "#276419"
            ]
           ],
           "sequential": [
            [
             0,
             "#0d0887"
            ],
            [
             0.1111111111111111,
             "#46039f"
            ],
            [
             0.2222222222222222,
             "#7201a8"
            ],
            [
             0.3333333333333333,
             "#9c179e"
            ],
            [
             0.4444444444444444,
             "#bd3786"
            ],
            [
             0.5555555555555556,
             "#d8576b"
            ],
            [
             0.6666666666666666,
             "#ed7953"
            ],
            [
             0.7777777777777778,
             "#fb9f3a"
            ],
            [
             0.8888888888888888,
             "#fdca26"
            ],
            [
             1,
             "#f0f921"
            ]
           ],
           "sequentialminus": [
            [
             0,
             "#0d0887"
            ],
            [
             0.1111111111111111,
             "#46039f"
            ],
            [
             0.2222222222222222,
             "#7201a8"
            ],
            [
             0.3333333333333333,
             "#9c179e"
            ],
            [
             0.4444444444444444,
             "#bd3786"
            ],
            [
             0.5555555555555556,
             "#d8576b"
            ],
            [
             0.6666666666666666,
             "#ed7953"
            ],
            [
             0.7777777777777778,
             "#fb9f3a"
            ],
            [
             0.8888888888888888,
             "#fdca26"
            ],
            [
             1,
             "#f0f921"
            ]
           ]
          },
          "colorway": [
           "#636efa",
           "#EF553B",
           "#00cc96",
           "#ab63fa",
           "#FFA15A",
           "#19d3f3",
           "#FF6692",
           "#B6E880",
           "#FF97FF",
           "#FECB52"
          ],
          "font": {
           "color": "#2a3f5f"
          },
          "geo": {
           "bgcolor": "white",
           "lakecolor": "white",
           "landcolor": "#E5ECF6",
           "showlakes": true,
           "showland": true,
           "subunitcolor": "white"
          },
          "hoverlabel": {
           "align": "left"
          },
          "hovermode": "closest",
          "mapbox": {
           "style": "light"
          },
          "paper_bgcolor": "white",
          "plot_bgcolor": "#E5ECF6",
          "polar": {
           "angularaxis": {
            "gridcolor": "white",
            "linecolor": "white",
            "ticks": ""
           },
           "bgcolor": "#E5ECF6",
           "radialaxis": {
            "gridcolor": "white",
            "linecolor": "white",
            "ticks": ""
           }
          },
          "scene": {
           "xaxis": {
            "backgroundcolor": "#E5ECF6",
            "gridcolor": "white",
            "gridwidth": 2,
            "linecolor": "white",
            "showbackground": true,
            "ticks": "",
            "zerolinecolor": "white"
           },
           "yaxis": {
            "backgroundcolor": "#E5ECF6",
            "gridcolor": "white",
            "gridwidth": 2,
            "linecolor": "white",
            "showbackground": true,
            "ticks": "",
            "zerolinecolor": "white"
           },
           "zaxis": {
            "backgroundcolor": "#E5ECF6",
            "gridcolor": "white",
            "gridwidth": 2,
            "linecolor": "white",
            "showbackground": true,
            "ticks": "",
            "zerolinecolor": "white"
           }
          },
          "shapedefaults": {
           "line": {
            "color": "#2a3f5f"
           }
          },
          "ternary": {
           "aaxis": {
            "gridcolor": "white",
            "linecolor": "white",
            "ticks": ""
           },
           "baxis": {
            "gridcolor": "white",
            "linecolor": "white",
            "ticks": ""
           },
           "bgcolor": "#E5ECF6",
           "caxis": {
            "gridcolor": "white",
            "linecolor": "white",
            "ticks": ""
           }
          },
          "title": {
           "x": 0.05
          },
          "xaxis": {
           "automargin": true,
           "gridcolor": "white",
           "linecolor": "white",
           "ticks": "",
           "title": {
            "standoff": 15
           },
           "zerolinecolor": "white",
           "zerolinewidth": 2
          },
          "yaxis": {
           "automargin": true,
           "gridcolor": "white",
           "linecolor": "white",
           "ticks": "",
           "title": {
            "standoff": 15
           },
           "zerolinecolor": "white",
           "zerolinewidth": 2
          }
         }
        },
        "xaxis": {
         "anchor": "y",
         "domain": [
          0,
          1
         ],
         "title": {
          "text": "cp"
         }
        },
        "yaxis": {
         "anchor": "x",
         "domain": [
          0,
          1
         ],
         "title": {
          "text": "count"
         }
        }
       }
      },
      "text/html": [
       "<div>                            <div id=\"aa18322d-71f5-4214-a4a4-d0b64abf5ed4\" class=\"plotly-graph-div\" style=\"height:525px; width:100%;\"></div>            <script type=\"text/javascript\">                require([\"plotly\"], function(Plotly) {                    window.PLOTLYENV=window.PLOTLYENV || {};                                    if (document.getElementById(\"aa18322d-71f5-4214-a4a4-d0b64abf5ed4\")) {                    Plotly.newPlot(                        \"aa18322d-71f5-4214-a4a4-d0b64abf5ed4\",                        [{\"alignmentgroup\":\"True\",\"bingroup\":\"x\",\"hovertemplate\":\"Mortality=Died\\u003cbr\\u003ecp=%{x}\\u003cbr\\u003ecount=%{y}\\u003cextra\\u003e\\u003c\\u002fextra\\u003e\",\"legendgroup\":\"Died\",\"marker\":{\"color\":\"deeppink\",\"pattern\":{\"shape\":\"\"}},\"name\":\"Died\",\"offsetgroup\":\"Died\",\"orientation\":\"v\",\"showlegend\":true,\"x\":[\"Grade_4\",\"Grade_4\",\"Grade_4\",\"Grade_4\",\"Grade_4\",\"Grade_4\",\"Grade_2\",\"Grade_4\",\"Grade_4\",\"Grade_4\",\"Grade_4\",\"Grade_4\",\"Grade_4\",\"Grade_4\",\"Grade_4\",\"Grade_4\",\"Grade_4\",\"Grade_4\",\"Grade_1\",\"Grade_4\",\"Grade_4\",\"Grade_4\",\"Grade_4\",\"Grade_3\",\"Grade_4\",\"Grade_3\",\"Grade_4\",\"Grade_2\",\"Grade_4\",\"Grade_4\",\"Grade_3\",\"Grade_3\",\"Grade_4\",\"Grade_3\",\"Grade_4\",\"Grade_4\",\"Grade_4\",\"Grade_4\",\"Grade_4\",\"Grade_4\",\"Grade_4\",\"Grade_4\",\"Grade_4\",\"Grade_4\",\"Grade_4\",\"Grade_4\",\"Grade_2\",\"Grade_4\",\"Grade_4\",\"Grade_4\",\"Grade_4\",\"Grade_4\",\"Grade_3\",\"Grade_4\",\"Grade_4\",\"Grade_4\",\"Grade_4\",\"Grade_3\",\"Grade_4\",\"Grade_4\",\"Grade_2\",\"Grade_2\",\"Grade_4\",\"Grade_4\",\"Grade_2\",\"Grade_3\",\"Grade_3\",\"Grade_4\",\"Grade_4\",\"Grade_4\",\"Grade_4\",\"Grade_4\",\"Grade_4\",\"Grade_4\",\"Grade_4\",\"Grade_4\",\"Grade_4\",\"Grade_1\",\"Grade_1\",\"Grade_3\",\"Grade_1\",\"Grade_4\",\"Grade_4\",\"Grade_4\",\"Grade_4\",\"Grade_4\",\"Grade_3\",\"Grade_4\",\"Grade_4\",\"Grade_4\",\"Grade_1\",\"Grade_4\",\"Grade_4\",\"Grade_4\",\"Grade_4\",\"Grade_2\",\"Grade_4\",\"Grade_4\",\"Grade_4\",\"Grade_3\",\"Grade_3\",\"Grade_4\",\"Grade_4\",\"Grade_4\",\"Grade_4\",\"Grade_1\",\"Grade_2\",\"Grade_4\",\"Grade_4\",\"Grade_4\",\"Grade_4\",\"Grade_4\",\"Grade_4\",\"Grade_3\",\"Grade_3\",\"Grade_4\",\"Grade_3\",\"Grade_4\",\"Grade_4\",\"Grade_3\",\"Grade_4\",\"Grade_4\",\"Grade_4\",\"Grade_1\",\"Grade_4\",\"Grade_4\",\"Grade_4\",\"Grade_4\",\"Grade_4\",\"Grade_4\",\"Grade_4\",\"Grade_4\",\"Grade_4\",\"Grade_4\",\"Grade_4\",\"Grade_4\",\"Grade_4\",\"Grade_4\",\"Grade_4\",\"Grade_2\",\"Grade_4\",\"Grade_4\",\"Grade_4\",\"Grade_4\",\"Grade_4\",\"Grade_3\",\"Grade_4\",\"Grade_4\",\"Grade_4\",\"Grade_4\",\"Grade_4\",\"Grade_4\",\"Grade_4\",\"Grade_4\",\"Grade_4\",\"Grade_4\",\"Grade_4\",\"Grade_4\",\"Grade_1\",\"Grade_4\",\"Grade_4\",\"Grade_4\",\"Grade_4\",\"Grade_3\",\"Grade_4\",\"Grade_3\",\"Grade_4\",\"Grade_2\",\"Grade_4\",\"Grade_4\",\"Grade_3\",\"Grade_3\",\"Grade_4\",\"Grade_3\",\"Grade_4\",\"Grade_4\",\"Grade_4\",\"Grade_4\",\"Grade_4\",\"Grade_4\",\"Grade_4\",\"Grade_4\",\"Grade_4\",\"Grade_4\",\"Grade_4\",\"Grade_4\",\"Grade_2\",\"Grade_4\",\"Grade_4\",\"Grade_4\",\"Grade_4\",\"Grade_4\",\"Grade_3\",\"Grade_4\",\"Grade_4\",\"Grade_4\",\"Grade_4\",\"Grade_4\",\"Grade_4\",\"Grade_4\",\"Grade_4\",\"Grade_4\",\"Grade_4\",\"Grade_4\",\"Grade_4\",\"Grade_1\",\"Grade_4\",\"Grade_4\",\"Grade_4\",\"Grade_4\",\"Grade_3\",\"Grade_4\",\"Grade_4\",\"Grade_4\",\"Grade_4\",\"Grade_4\",\"Grade_4\",\"Grade_4\",\"Grade_4\",\"Grade_4\",\"Grade_4\",\"Grade_4\",\"Grade_4\",\"Grade_2\",\"Grade_4\",\"Grade_4\",\"Grade_4\",\"Grade_4\",\"Grade_4\",\"Grade_3\",\"Grade_4\",\"Grade_4\",\"Grade_4\",\"Grade_4\",\"Grade_4\",\"Grade_4\",\"Grade_4\",\"Grade_4\",\"Grade_4\",\"Grade_4\",\"Grade_4\",\"Grade_4\",\"Grade_4\",\"Grade_4\",\"Grade_4\",\"Grade_4\",\"Grade_4\",\"Grade_4\",\"Grade_4\",\"Grade_4\",\"Grade_4\",\"Grade_4\",\"Grade_4\",\"Grade_2\",\"Grade_4\",\"Grade_4\",\"Grade_4\",\"Grade_4\",\"Grade_4\",\"Grade_3\",\"Grade_4\",\"Grade_4\",\"Grade_4\",\"Grade_4\",\"Grade_4\",\"Grade_4\",\"Grade_4\",\"Grade_4\",\"Grade_4\",\"Grade_4\",\"Grade_4\",\"Grade_4\",\"Grade_1\",\"Grade_4\",\"Grade_4\",\"Grade_4\",\"Grade_4\",\"Grade_3\",\"Grade_4\",\"Grade_3\",\"Grade_4\",\"Grade_2\",\"Grade_4\",\"Grade_4\",\"Grade_3\",\"Grade_3\",\"Grade_4\",\"Grade_3\"],\"xaxis\":\"x\",\"yaxis\":\"y\",\"type\":\"histogram\"},{\"alignmentgroup\":\"True\",\"bingroup\":\"x\",\"hovertemplate\":\"Mortality=Alive\\u003cbr\\u003ecp=%{x}\\u003cbr\\u003ecount=%{y}\\u003cextra\\u003e\\u003c\\u002fextra\\u003e\",\"legendgroup\":\"Alive\",\"marker\":{\"color\":\"aqua\",\"pattern\":{\"shape\":\"\"}},\"name\":\"Alive\",\"offsetgroup\":\"Alive\",\"orientation\":\"v\",\"showlegend\":true,\"x\":[\"Grade_4\",\"Grade_2\",\"Grade_4\",\"Grade_4\",\"Grade_4\",\"Grade_3\",\"Grade_4\",\"Grade_4\",\"Grade_4\",\"Grade_4\",\"Grade_4\",\"Grade_4\",\"Grade_4\",\"Grade_4\",\"Grade_4\",\"Grade_4\",\"Grade_1\",\"Grade_4\",\"Grade_4\",\"Grade_4\",\"Grade_4\",\"Grade_4\",\"Grade_4\",\"Grade_4\",\"Grade_4\",\"Grade_4\",\"Grade_1\",\"Grade_4\",\"Grade_4\",\"Grade_3\",\"Grade_4\",\"Grade_4\",\"Grade_4\",\"Grade_4\",\"Grade_4\",\"Grade_4\",\"Grade_4\",\"Grade_4\",\"Grade_4\",\"Grade_4\",\"Grade_1\",\"Grade_4\",\"Grade_1\",\"Grade_4\",\"Grade_4\",\"Grade_3\",\"Grade_4\",\"Grade_4\",\"Grade_4\",\"Grade_4\",\"Grade_4\",\"Grade_4\",\"Grade_4\",\"Grade_4\",\"Grade_4\",\"Grade_4\",\"Grade_1\",\"Grade_1\",\"Grade_4\",\"Grade_4\",\"Grade_3\",\"Grade_4\",\"Grade_4\",\"Grade_4\",\"Grade_1\",\"Grade_4\",\"Grade_4\",\"Grade_3\",\"Grade_4\",\"Grade_4\",\"Grade_4\",\"Grade_4\",\"Grade_4\",\"Grade_4\",\"Grade_4\",\"Grade_4\",\"Grade_4\",\"Grade_4\",\"Grade_1\",\"Grade_4\"],\"xaxis\":\"x\",\"yaxis\":\"y\",\"type\":\"histogram\"}],                        {\"template\":{\"data\":{\"histogram2dcontour\":[{\"type\":\"histogram2dcontour\",\"colorbar\":{\"outlinewidth\":0,\"ticks\":\"\"},\"colorscale\":[[0.0,\"#0d0887\"],[0.1111111111111111,\"#46039f\"],[0.2222222222222222,\"#7201a8\"],[0.3333333333333333,\"#9c179e\"],[0.4444444444444444,\"#bd3786\"],[0.5555555555555556,\"#d8576b\"],[0.6666666666666666,\"#ed7953\"],[0.7777777777777778,\"#fb9f3a\"],[0.8888888888888888,\"#fdca26\"],[1.0,\"#f0f921\"]]}],\"choropleth\":[{\"type\":\"choropleth\",\"colorbar\":{\"outlinewidth\":0,\"ticks\":\"\"}}],\"histogram2d\":[{\"type\":\"histogram2d\",\"colorbar\":{\"outlinewidth\":0,\"ticks\":\"\"},\"colorscale\":[[0.0,\"#0d0887\"],[0.1111111111111111,\"#46039f\"],[0.2222222222222222,\"#7201a8\"],[0.3333333333333333,\"#9c179e\"],[0.4444444444444444,\"#bd3786\"],[0.5555555555555556,\"#d8576b\"],[0.6666666666666666,\"#ed7953\"],[0.7777777777777778,\"#fb9f3a\"],[0.8888888888888888,\"#fdca26\"],[1.0,\"#f0f921\"]]}],\"heatmap\":[{\"type\":\"heatmap\",\"colorbar\":{\"outlinewidth\":0,\"ticks\":\"\"},\"colorscale\":[[0.0,\"#0d0887\"],[0.1111111111111111,\"#46039f\"],[0.2222222222222222,\"#7201a8\"],[0.3333333333333333,\"#9c179e\"],[0.4444444444444444,\"#bd3786\"],[0.5555555555555556,\"#d8576b\"],[0.6666666666666666,\"#ed7953\"],[0.7777777777777778,\"#fb9f3a\"],[0.8888888888888888,\"#fdca26\"],[1.0,\"#f0f921\"]]}],\"heatmapgl\":[{\"type\":\"heatmapgl\",\"colorbar\":{\"outlinewidth\":0,\"ticks\":\"\"},\"colorscale\":[[0.0,\"#0d0887\"],[0.1111111111111111,\"#46039f\"],[0.2222222222222222,\"#7201a8\"],[0.3333333333333333,\"#9c179e\"],[0.4444444444444444,\"#bd3786\"],[0.5555555555555556,\"#d8576b\"],[0.6666666666666666,\"#ed7953\"],[0.7777777777777778,\"#fb9f3a\"],[0.8888888888888888,\"#fdca26\"],[1.0,\"#f0f921\"]]}],\"contourcarpet\":[{\"type\":\"contourcarpet\",\"colorbar\":{\"outlinewidth\":0,\"ticks\":\"\"}}],\"contour\":[{\"type\":\"contour\",\"colorbar\":{\"outlinewidth\":0,\"ticks\":\"\"},\"colorscale\":[[0.0,\"#0d0887\"],[0.1111111111111111,\"#46039f\"],[0.2222222222222222,\"#7201a8\"],[0.3333333333333333,\"#9c179e\"],[0.4444444444444444,\"#bd3786\"],[0.5555555555555556,\"#d8576b\"],[0.6666666666666666,\"#ed7953\"],[0.7777777777777778,\"#fb9f3a\"],[0.8888888888888888,\"#fdca26\"],[1.0,\"#f0f921\"]]}],\"surface\":[{\"type\":\"surface\",\"colorbar\":{\"outlinewidth\":0,\"ticks\":\"\"},\"colorscale\":[[0.0,\"#0d0887\"],[0.1111111111111111,\"#46039f\"],[0.2222222222222222,\"#7201a8\"],[0.3333333333333333,\"#9c179e\"],[0.4444444444444444,\"#bd3786\"],[0.5555555555555556,\"#d8576b\"],[0.6666666666666666,\"#ed7953\"],[0.7777777777777778,\"#fb9f3a\"],[0.8888888888888888,\"#fdca26\"],[1.0,\"#f0f921\"]]}],\"mesh3d\":[{\"type\":\"mesh3d\",\"colorbar\":{\"outlinewidth\":0,\"ticks\":\"\"}}],\"scatter\":[{\"fillpattern\":{\"fillmode\":\"overlay\",\"size\":10,\"solidity\":0.2},\"type\":\"scatter\"}],\"parcoords\":[{\"type\":\"parcoords\",\"line\":{\"colorbar\":{\"outlinewidth\":0,\"ticks\":\"\"}}}],\"scatterpolargl\":[{\"type\":\"scatterpolargl\",\"marker\":{\"colorbar\":{\"outlinewidth\":0,\"ticks\":\"\"}}}],\"bar\":[{\"error_x\":{\"color\":\"#2a3f5f\"},\"error_y\":{\"color\":\"#2a3f5f\"},\"marker\":{\"line\":{\"color\":\"#E5ECF6\",\"width\":0.5},\"pattern\":{\"fillmode\":\"overlay\",\"size\":10,\"solidity\":0.2}},\"type\":\"bar\"}],\"scattergeo\":[{\"type\":\"scattergeo\",\"marker\":{\"colorbar\":{\"outlinewidth\":0,\"ticks\":\"\"}}}],\"scatterpolar\":[{\"type\":\"scatterpolar\",\"marker\":{\"colorbar\":{\"outlinewidth\":0,\"ticks\":\"\"}}}],\"histogram\":[{\"marker\":{\"pattern\":{\"fillmode\":\"overlay\",\"size\":10,\"solidity\":0.2}},\"type\":\"histogram\"}],\"scattergl\":[{\"type\":\"scattergl\",\"marker\":{\"colorbar\":{\"outlinewidth\":0,\"ticks\":\"\"}}}],\"scatter3d\":[{\"type\":\"scatter3d\",\"line\":{\"colorbar\":{\"outlinewidth\":0,\"ticks\":\"\"}},\"marker\":{\"colorbar\":{\"outlinewidth\":0,\"ticks\":\"\"}}}],\"scattermapbox\":[{\"type\":\"scattermapbox\",\"marker\":{\"colorbar\":{\"outlinewidth\":0,\"ticks\":\"\"}}}],\"scatterternary\":[{\"type\":\"scatterternary\",\"marker\":{\"colorbar\":{\"outlinewidth\":0,\"ticks\":\"\"}}}],\"scattercarpet\":[{\"type\":\"scattercarpet\",\"marker\":{\"colorbar\":{\"outlinewidth\":0,\"ticks\":\"\"}}}],\"carpet\":[{\"aaxis\":{\"endlinecolor\":\"#2a3f5f\",\"gridcolor\":\"white\",\"linecolor\":\"white\",\"minorgridcolor\":\"white\",\"startlinecolor\":\"#2a3f5f\"},\"baxis\":{\"endlinecolor\":\"#2a3f5f\",\"gridcolor\":\"white\",\"linecolor\":\"white\",\"minorgridcolor\":\"white\",\"startlinecolor\":\"#2a3f5f\"},\"type\":\"carpet\"}],\"table\":[{\"cells\":{\"fill\":{\"color\":\"#EBF0F8\"},\"line\":{\"color\":\"white\"}},\"header\":{\"fill\":{\"color\":\"#C8D4E3\"},\"line\":{\"color\":\"white\"}},\"type\":\"table\"}],\"barpolar\":[{\"marker\":{\"line\":{\"color\":\"#E5ECF6\",\"width\":0.5},\"pattern\":{\"fillmode\":\"overlay\",\"size\":10,\"solidity\":0.2}},\"type\":\"barpolar\"}],\"pie\":[{\"automargin\":true,\"type\":\"pie\"}]},\"layout\":{\"autotypenumbers\":\"strict\",\"colorway\":[\"#636efa\",\"#EF553B\",\"#00cc96\",\"#ab63fa\",\"#FFA15A\",\"#19d3f3\",\"#FF6692\",\"#B6E880\",\"#FF97FF\",\"#FECB52\"],\"font\":{\"color\":\"#2a3f5f\"},\"hovermode\":\"closest\",\"hoverlabel\":{\"align\":\"left\"},\"paper_bgcolor\":\"white\",\"plot_bgcolor\":\"#E5ECF6\",\"polar\":{\"bgcolor\":\"#E5ECF6\",\"angularaxis\":{\"gridcolor\":\"white\",\"linecolor\":\"white\",\"ticks\":\"\"},\"radialaxis\":{\"gridcolor\":\"white\",\"linecolor\":\"white\",\"ticks\":\"\"}},\"ternary\":{\"bgcolor\":\"#E5ECF6\",\"aaxis\":{\"gridcolor\":\"white\",\"linecolor\":\"white\",\"ticks\":\"\"},\"baxis\":{\"gridcolor\":\"white\",\"linecolor\":\"white\",\"ticks\":\"\"},\"caxis\":{\"gridcolor\":\"white\",\"linecolor\":\"white\",\"ticks\":\"\"}},\"coloraxis\":{\"colorbar\":{\"outlinewidth\":0,\"ticks\":\"\"}},\"colorscale\":{\"sequential\":[[0.0,\"#0d0887\"],[0.1111111111111111,\"#46039f\"],[0.2222222222222222,\"#7201a8\"],[0.3333333333333333,\"#9c179e\"],[0.4444444444444444,\"#bd3786\"],[0.5555555555555556,\"#d8576b\"],[0.6666666666666666,\"#ed7953\"],[0.7777777777777778,\"#fb9f3a\"],[0.8888888888888888,\"#fdca26\"],[1.0,\"#f0f921\"]],\"sequentialminus\":[[0.0,\"#0d0887\"],[0.1111111111111111,\"#46039f\"],[0.2222222222222222,\"#7201a8\"],[0.3333333333333333,\"#9c179e\"],[0.4444444444444444,\"#bd3786\"],[0.5555555555555556,\"#d8576b\"],[0.6666666666666666,\"#ed7953\"],[0.7777777777777778,\"#fb9f3a\"],[0.8888888888888888,\"#fdca26\"],[1.0,\"#f0f921\"]],\"diverging\":[[0,\"#8e0152\"],[0.1,\"#c51b7d\"],[0.2,\"#de77ae\"],[0.3,\"#f1b6da\"],[0.4,\"#fde0ef\"],[0.5,\"#f7f7f7\"],[0.6,\"#e6f5d0\"],[0.7,\"#b8e186\"],[0.8,\"#7fbc41\"],[0.9,\"#4d9221\"],[1,\"#276419\"]]},\"xaxis\":{\"gridcolor\":\"white\",\"linecolor\":\"white\",\"ticks\":\"\",\"title\":{\"standoff\":15},\"zerolinecolor\":\"white\",\"automargin\":true,\"zerolinewidth\":2},\"yaxis\":{\"gridcolor\":\"white\",\"linecolor\":\"white\",\"ticks\":\"\",\"title\":{\"standoff\":15},\"zerolinecolor\":\"white\",\"automargin\":true,\"zerolinewidth\":2},\"scene\":{\"xaxis\":{\"backgroundcolor\":\"#E5ECF6\",\"gridcolor\":\"white\",\"linecolor\":\"white\",\"showbackground\":true,\"ticks\":\"\",\"zerolinecolor\":\"white\",\"gridwidth\":2},\"yaxis\":{\"backgroundcolor\":\"#E5ECF6\",\"gridcolor\":\"white\",\"linecolor\":\"white\",\"showbackground\":true,\"ticks\":\"\",\"zerolinecolor\":\"white\",\"gridwidth\":2},\"zaxis\":{\"backgroundcolor\":\"#E5ECF6\",\"gridcolor\":\"white\",\"linecolor\":\"white\",\"showbackground\":true,\"ticks\":\"\",\"zerolinecolor\":\"white\",\"gridwidth\":2}},\"shapedefaults\":{\"line\":{\"color\":\"#2a3f5f\"}},\"annotationdefaults\":{\"arrowcolor\":\"#2a3f5f\",\"arrowhead\":0,\"arrowwidth\":1},\"geo\":{\"bgcolor\":\"white\",\"landcolor\":\"#E5ECF6\",\"subunitcolor\":\"white\",\"showland\":true,\"showlakes\":true,\"lakecolor\":\"white\"},\"title\":{\"x\":0.05},\"mapbox\":{\"style\":\"light\"}}},\"xaxis\":{\"anchor\":\"y\",\"domain\":[0.0,1.0],\"title\":{\"text\":\"cp\"}},\"yaxis\":{\"anchor\":\"x\",\"domain\":[0.0,1.0],\"title\":{\"text\":\"count\"}},\"legend\":{\"title\":{\"text\":\"Mortality\"},\"tracegroupgap\":0},\"margin\":{\"t\":60},\"barmode\":\"relative\"},                        {\"responsive\": true}                    ).then(function(){\n",
       "                            \n",
       "var gd = document.getElementById('aa18322d-71f5-4214-a4a4-d0b64abf5ed4');\n",
       "var x = new MutationObserver(function (mutations, observer) {{\n",
       "        var display = window.getComputedStyle(gd).display;\n",
       "        if (!display || display === 'none') {{\n",
       "            console.log([gd, 'removed!']);\n",
       "            Plotly.purge(gd);\n",
       "            observer.disconnect();\n",
       "        }}\n",
       "}});\n",
       "\n",
       "// Listen for the removal of the full notebook cells\n",
       "var notebookContainer = gd.closest('#notebook-container');\n",
       "if (notebookContainer) {{\n",
       "    x.observe(notebookContainer, {childList: true});\n",
       "}}\n",
       "\n",
       "// Listen for the clearing of the current output cell\n",
       "var outputEl = gd.closest('.output');\n",
       "if (outputEl) {{\n",
       "    x.observe(outputEl, {childList: true});\n",
       "}}\n",
       "\n",
       "                        })                };                });            </script>        </div>"
      ]
     },
     "metadata": {},
     "output_type": "display_data"
    },
    {
     "name": "stdout",
     "output_type": "stream",
     "text": [
      "Category:  SK.React\n",
      "P-value:  0.0\n",
      "H0 rejected \n",
      "\n"
     ]
    },
    {
     "data": {
      "application/vnd.plotly.v1+json": {
       "config": {
        "plotlyServerURL": "https://plot.ly"
       },
       "data": [
        {
         "alignmentgroup": "True",
         "bingroup": "x",
         "hovertemplate": "Mortality=Died<br>SK.React=%{x}<br>count=%{y}<extra></extra>",
         "legendgroup": "Died",
         "marker": {
          "color": "deeppink",
          "pattern": {
           "shape": ""
          }
         },
         "name": "Died",
         "offsetgroup": "Died",
         "orientation": "v",
         "showlegend": true,
         "type": "histogram",
         "x": [
          "NO",
          "NO",
          "NO",
          "NO",
          "NO",
          "NO",
          "NO",
          "NO",
          "NO",
          "NO",
          "NO",
          "NO",
          "NO",
          "NO",
          "NO",
          "NO",
          "COUGH.BLEEDING",
          "SKIN.BLEEDING",
          "LUNGS",
          "COUGH.BLEEDING",
          "SKIN.BLEEDING",
          "BODY.PAIN",
          "COUGH.BLEEDING",
          "NAUSEA.TEMP",
          "BODY.PAIN",
          "STOMACH.BLEEDING",
          "STOMACH.BLEEDING",
          "SKIN.BLEEDING",
          "SKIN.BLEEDING",
          "BODY.PAIN",
          "STOMACH.BLEEDING",
          "COUGH.BLEEDING",
          "COUGH.BLEEDING",
          "BODY.PAIN",
          "COUGH.BLEEDING",
          "STOMACH.BLEEDING",
          "COUGH.BLEEDING",
          "COUGH.BLEEDING",
          "COUGH.BLEEDING",
          "COUGH.BLEEDING",
          "COUGH.BLEEDING",
          "COUGH.BLEEDING",
          "COUGH.BLEEDING",
          "SKIN.BLEEDING",
          "LUNGS",
          "SKIN.BLEEDING",
          "COUGH.BLEEDING",
          "COUGH.BLEEDING",
          "COUGH.BLEEDING",
          "COUGH.BLEEDING",
          "SKIN.BLEEDING",
          "SKIN.BLEEDING",
          "BODY.PAIN",
          "COUGH.BLEEDING",
          "COUGH.BLEEDING",
          "LUNGS",
          "COUGH.BLEEDING",
          "NAUSEA.TEMP",
          "COUGH.BLEEDING",
          "BODY.PAIN",
          "STOMACH.BLEEDING",
          "STOMACH.BLEEDING",
          "SKIN.BLEEDING",
          "SKIN.BLEEDING",
          "BODY.PAIN",
          "STOMACH.BLEEDING",
          "COUGH.BLEEDING",
          "COUGH.BLEEDING",
          "BODY.PAIN",
          "COUGH.BLEEDING",
          "STOMACH.BLEEDING",
          "COUGH.BLEEDING",
          "COUGH.BLEEDING",
          "COUGH.BLEEDING",
          "COUGH.BLEEDING",
          "COUGH.BLEEDING",
          "COUGH.BLEEDING",
          "COUGH.BLEEDING",
          "SKIN.BLEEDING",
          "LUNGS",
          "SKIN.BLEEDING",
          "COUGH.BLEEDING",
          "COUGH.BLEEDING",
          "COUGH.BLEEDING",
          "COUGH.BLEEDING",
          "SKIN.BLEEDING",
          "SKIN.BLEEDING",
          "BODY.PAIN",
          "COUGH.BLEEDING",
          "COUGH.BLEEDING",
          "LUNGS",
          "COUGH.BLEEDING",
          "NAUSEA.TEMP",
          "COUGH.BLEEDING",
          "BODY.PAIN",
          "STOMACH.BLEEDING",
          "STOMACH.BLEEDING",
          "SKIN.BLEEDING",
          "SKIN.BLEEDING",
          "BODY.PAIN",
          "STOMACH.BLEEDING",
          "COUGH.BLEEDING",
          "COUGH.BLEEDING",
          "BODY.PAIN",
          "COUGH.BLEEDING",
          "STOMACH.BLEEDING",
          "COUGH.BLEEDING",
          "COUGH.BLEEDING",
          "COUGH.BLEEDING",
          "COUGH.BLEEDING",
          "COUGH.BLEEDING",
          "COUGH.BLEEDING",
          "NAUSEA.TEMP",
          "COUGH.BLEEDING",
          "BODY.PAIN",
          "STOMACH.BLEEDING",
          "STOMACH.BLEEDING",
          "SKIN.BLEEDING",
          "SKIN.BLEEDING",
          "BODY.PAIN",
          "STOMACH.BLEEDING",
          "NO",
          "NO",
          "NO",
          "NO",
          "NO",
          "NO",
          "COUGH.BLEEDING",
          "STOMACH.BLEEDING",
          "COUGH.BLEEDING",
          "COUGH.BLEEDING",
          "COUGH.BLEEDING",
          "COUGH.BLEEDING",
          "COUGH.BLEEDING",
          "COUGH.BLEEDING",
          "COUGH.BLEEDING",
          "SKIN.BLEEDING",
          "LUNGS",
          "SKIN.BLEEDING",
          "COUGH.BLEEDING",
          "COUGH.BLEEDING",
          "COUGH.BLEEDING",
          "COUGH.BLEEDING",
          "SKIN.BLEEDING",
          "SKIN.BLEEDING",
          "BODY.PAIN",
          "COUGH.BLEEDING",
          "COUGH.BLEEDING",
          "NO",
          "NO",
          "NO",
          "NO",
          "NO",
          "NO",
          "NO",
          "NO",
          "COUGH.BLEEDING",
          "SKIN.BLEEDING",
          "LUNGS",
          "COUGH.BLEEDING",
          "SKIN.BLEEDING",
          "BODY.PAIN",
          "COUGH.BLEEDING",
          "NAUSEA.TEMP",
          "BODY.PAIN",
          "STOMACH.BLEEDING",
          "STOMACH.BLEEDING",
          "SKIN.BLEEDING",
          "SKIN.BLEEDING",
          "BODY.PAIN",
          "STOMACH.BLEEDING",
          "COUGH.BLEEDING",
          "COUGH.BLEEDING",
          "BODY.PAIN",
          "COUGH.BLEEDING",
          "STOMACH.BLEEDING",
          "COUGH.BLEEDING",
          "COUGH.BLEEDING",
          "COUGH.BLEEDING",
          "COUGH.BLEEDING",
          "COUGH.BLEEDING",
          "COUGH.BLEEDING",
          "COUGH.BLEEDING",
          "SKIN.BLEEDING",
          "LUNGS",
          "SKIN.BLEEDING",
          "COUGH.BLEEDING",
          "COUGH.BLEEDING",
          "COUGH.BLEEDING",
          "COUGH.BLEEDING",
          "SKIN.BLEEDING",
          "SKIN.BLEEDING",
          "BODY.PAIN",
          "COUGH.BLEEDING",
          "COUGH.BLEEDING",
          "NO",
          "NO",
          "NO",
          "NO",
          "NO",
          "NO",
          "NO",
          "NO",
          "COUGH.BLEEDING",
          "SKIN.BLEEDING",
          "LUNGS",
          "COUGH.BLEEDING",
          "SKIN.BLEEDING",
          "BODY.PAIN",
          "COUGH.BLEEDING",
          "NAUSEA.TEMP",
          "COUGH.BLEEDING",
          "STOMACH.BLEEDING",
          "COUGH.BLEEDING",
          "COUGH.BLEEDING",
          "COUGH.BLEEDING",
          "COUGH.BLEEDING",
          "COUGH.BLEEDING",
          "COUGH.BLEEDING",
          "COUGH.BLEEDING",
          "SKIN.BLEEDING",
          "LUNGS",
          "SKIN.BLEEDING",
          "COUGH.BLEEDING",
          "COUGH.BLEEDING",
          "COUGH.BLEEDING",
          "COUGH.BLEEDING",
          "SKIN.BLEEDING",
          "SKIN.BLEEDING",
          "BODY.PAIN",
          "COUGH.BLEEDING",
          "COUGH.BLEEDING",
          "NO",
          "NO",
          "NO",
          "NO",
          "NO",
          "NO",
          "NO",
          "NO",
          "COUGH.BLEEDING",
          "COUGH.BLEEDING",
          "STOMACH.BLEEDING",
          "COUGH.BLEEDING",
          "COUGH.BLEEDING",
          "COUGH.BLEEDING",
          "COUGH.BLEEDING",
          "COUGH.BLEEDING",
          "COUGH.BLEEDING",
          "COUGH.BLEEDING",
          "SKIN.BLEEDING",
          "LUNGS",
          "SKIN.BLEEDING",
          "COUGH.BLEEDING",
          "COUGH.BLEEDING",
          "COUGH.BLEEDING",
          "COUGH.BLEEDING",
          "SKIN.BLEEDING",
          "SKIN.BLEEDING",
          "BODY.PAIN",
          "COUGH.BLEEDING",
          "COUGH.BLEEDING",
          "NO",
          "NO",
          "NO",
          "NO",
          "NO",
          "NO",
          "NO",
          "NO",
          "COUGH.BLEEDING",
          "SKIN.BLEEDING",
          "LUNGS",
          "COUGH.BLEEDING",
          "SKIN.BLEEDING",
          "BODY.PAIN",
          "COUGH.BLEEDING",
          "NAUSEA.TEMP",
          "BODY.PAIN",
          "STOMACH.BLEEDING",
          "STOMACH.BLEEDING",
          "SKIN.BLEEDING",
          "SKIN.BLEEDING",
          "BODY.PAIN",
          "STOMACH.BLEEDING",
          "COUGH.BLEEDING",
          "COUGH.BLEEDING",
          "BODY.PAIN"
         ],
         "xaxis": "x",
         "yaxis": "y"
        },
        {
         "alignmentgroup": "True",
         "bingroup": "x",
         "hovertemplate": "Mortality=Alive<br>SK.React=%{x}<br>count=%{y}<extra></extra>",
         "legendgroup": "Alive",
         "marker": {
          "color": "aqua",
          "pattern": {
           "shape": ""
          }
         },
         "name": "Alive",
         "offsetgroup": "Alive",
         "orientation": "v",
         "showlegend": true,
         "type": "histogram",
         "x": [
          "NO",
          "NO",
          "NO",
          "NO",
          "NO",
          "NO",
          "NO",
          "NO",
          "NO",
          "SKIN.BLEEDING",
          "COUGH.BLEEDING",
          "COUGH.BLEEDING",
          "COUGH.BLEEDING",
          "SKIN.BLEEDING",
          "COUGH.BLEEDING",
          "LUNGS",
          "COUGH.BLEEDING",
          "COUGH.BLEEDING",
          "NO",
          "NO",
          "BODY.PAIN",
          "NO",
          "NO",
          "NAUSEA.TEMP",
          "NO",
          "NO",
          "COUGH.BLEEDING",
          "NO",
          "NO",
          "NO",
          "NO",
          "NO",
          "NO",
          "SKIN.BLEEDING",
          "COUGH.BLEEDING",
          "COUGH.BLEEDING",
          "COUGH.BLEEDING",
          "SKIN.BLEEDING",
          "COUGH.BLEEDING",
          "LUNGS",
          "COUGH.BLEEDING",
          "COUGH.BLEEDING",
          "COUGH.BLEEDING",
          "NO",
          "NO",
          "NO",
          "NO",
          "NO",
          "NO",
          "SKIN.BLEEDING",
          "COUGH.BLEEDING",
          "COUGH.BLEEDING",
          "COUGH.BLEEDING",
          "SKIN.BLEEDING",
          "COUGH.BLEEDING",
          "LUNGS",
          "COUGH.BLEEDING",
          "COUGH.BLEEDING",
          "NO",
          "NO",
          "NO",
          "NO",
          "NO",
          "NO",
          "COUGH.BLEEDING",
          "NO",
          "NO",
          "NO",
          "NO",
          "NO",
          "NO",
          "SKIN.BLEEDING",
          "COUGH.BLEEDING",
          "COUGH.BLEEDING",
          "COUGH.BLEEDING",
          "SKIN.BLEEDING",
          "COUGH.BLEEDING",
          "LUNGS",
          "COUGH.BLEEDING",
          "COUGH.BLEEDING"
         ],
         "xaxis": "x",
         "yaxis": "y"
        }
       ],
       "layout": {
        "barmode": "relative",
        "legend": {
         "title": {
          "text": "Mortality"
         },
         "tracegroupgap": 0
        },
        "margin": {
         "t": 60
        },
        "template": {
         "data": {
          "bar": [
           {
            "error_x": {
             "color": "#2a3f5f"
            },
            "error_y": {
             "color": "#2a3f5f"
            },
            "marker": {
             "line": {
              "color": "#E5ECF6",
              "width": 0.5
             },
             "pattern": {
              "fillmode": "overlay",
              "size": 10,
              "solidity": 0.2
             }
            },
            "type": "bar"
           }
          ],
          "barpolar": [
           {
            "marker": {
             "line": {
              "color": "#E5ECF6",
              "width": 0.5
             },
             "pattern": {
              "fillmode": "overlay",
              "size": 10,
              "solidity": 0.2
             }
            },
            "type": "barpolar"
           }
          ],
          "carpet": [
           {
            "aaxis": {
             "endlinecolor": "#2a3f5f",
             "gridcolor": "white",
             "linecolor": "white",
             "minorgridcolor": "white",
             "startlinecolor": "#2a3f5f"
            },
            "baxis": {
             "endlinecolor": "#2a3f5f",
             "gridcolor": "white",
             "linecolor": "white",
             "minorgridcolor": "white",
             "startlinecolor": "#2a3f5f"
            },
            "type": "carpet"
           }
          ],
          "choropleth": [
           {
            "colorbar": {
             "outlinewidth": 0,
             "ticks": ""
            },
            "type": "choropleth"
           }
          ],
          "contour": [
           {
            "colorbar": {
             "outlinewidth": 0,
             "ticks": ""
            },
            "colorscale": [
             [
              0,
              "#0d0887"
             ],
             [
              0.1111111111111111,
              "#46039f"
             ],
             [
              0.2222222222222222,
              "#7201a8"
             ],
             [
              0.3333333333333333,
              "#9c179e"
             ],
             [
              0.4444444444444444,
              "#bd3786"
             ],
             [
              0.5555555555555556,
              "#d8576b"
             ],
             [
              0.6666666666666666,
              "#ed7953"
             ],
             [
              0.7777777777777778,
              "#fb9f3a"
             ],
             [
              0.8888888888888888,
              "#fdca26"
             ],
             [
              1,
              "#f0f921"
             ]
            ],
            "type": "contour"
           }
          ],
          "contourcarpet": [
           {
            "colorbar": {
             "outlinewidth": 0,
             "ticks": ""
            },
            "type": "contourcarpet"
           }
          ],
          "heatmap": [
           {
            "colorbar": {
             "outlinewidth": 0,
             "ticks": ""
            },
            "colorscale": [
             [
              0,
              "#0d0887"
             ],
             [
              0.1111111111111111,
              "#46039f"
             ],
             [
              0.2222222222222222,
              "#7201a8"
             ],
             [
              0.3333333333333333,
              "#9c179e"
             ],
             [
              0.4444444444444444,
              "#bd3786"
             ],
             [
              0.5555555555555556,
              "#d8576b"
             ],
             [
              0.6666666666666666,
              "#ed7953"
             ],
             [
              0.7777777777777778,
              "#fb9f3a"
             ],
             [
              0.8888888888888888,
              "#fdca26"
             ],
             [
              1,
              "#f0f921"
             ]
            ],
            "type": "heatmap"
           }
          ],
          "heatmapgl": [
           {
            "colorbar": {
             "outlinewidth": 0,
             "ticks": ""
            },
            "colorscale": [
             [
              0,
              "#0d0887"
             ],
             [
              0.1111111111111111,
              "#46039f"
             ],
             [
              0.2222222222222222,
              "#7201a8"
             ],
             [
              0.3333333333333333,
              "#9c179e"
             ],
             [
              0.4444444444444444,
              "#bd3786"
             ],
             [
              0.5555555555555556,
              "#d8576b"
             ],
             [
              0.6666666666666666,
              "#ed7953"
             ],
             [
              0.7777777777777778,
              "#fb9f3a"
             ],
             [
              0.8888888888888888,
              "#fdca26"
             ],
             [
              1,
              "#f0f921"
             ]
            ],
            "type": "heatmapgl"
           }
          ],
          "histogram": [
           {
            "marker": {
             "pattern": {
              "fillmode": "overlay",
              "size": 10,
              "solidity": 0.2
             }
            },
            "type": "histogram"
           }
          ],
          "histogram2d": [
           {
            "colorbar": {
             "outlinewidth": 0,
             "ticks": ""
            },
            "colorscale": [
             [
              0,
              "#0d0887"
             ],
             [
              0.1111111111111111,
              "#46039f"
             ],
             [
              0.2222222222222222,
              "#7201a8"
             ],
             [
              0.3333333333333333,
              "#9c179e"
             ],
             [
              0.4444444444444444,
              "#bd3786"
             ],
             [
              0.5555555555555556,
              "#d8576b"
             ],
             [
              0.6666666666666666,
              "#ed7953"
             ],
             [
              0.7777777777777778,
              "#fb9f3a"
             ],
             [
              0.8888888888888888,
              "#fdca26"
             ],
             [
              1,
              "#f0f921"
             ]
            ],
            "type": "histogram2d"
           }
          ],
          "histogram2dcontour": [
           {
            "colorbar": {
             "outlinewidth": 0,
             "ticks": ""
            },
            "colorscale": [
             [
              0,
              "#0d0887"
             ],
             [
              0.1111111111111111,
              "#46039f"
             ],
             [
              0.2222222222222222,
              "#7201a8"
             ],
             [
              0.3333333333333333,
              "#9c179e"
             ],
             [
              0.4444444444444444,
              "#bd3786"
             ],
             [
              0.5555555555555556,
              "#d8576b"
             ],
             [
              0.6666666666666666,
              "#ed7953"
             ],
             [
              0.7777777777777778,
              "#fb9f3a"
             ],
             [
              0.8888888888888888,
              "#fdca26"
             ],
             [
              1,
              "#f0f921"
             ]
            ],
            "type": "histogram2dcontour"
           }
          ],
          "mesh3d": [
           {
            "colorbar": {
             "outlinewidth": 0,
             "ticks": ""
            },
            "type": "mesh3d"
           }
          ],
          "parcoords": [
           {
            "line": {
             "colorbar": {
              "outlinewidth": 0,
              "ticks": ""
             }
            },
            "type": "parcoords"
           }
          ],
          "pie": [
           {
            "automargin": true,
            "type": "pie"
           }
          ],
          "scatter": [
           {
            "fillpattern": {
             "fillmode": "overlay",
             "size": 10,
             "solidity": 0.2
            },
            "type": "scatter"
           }
          ],
          "scatter3d": [
           {
            "line": {
             "colorbar": {
              "outlinewidth": 0,
              "ticks": ""
             }
            },
            "marker": {
             "colorbar": {
              "outlinewidth": 0,
              "ticks": ""
             }
            },
            "type": "scatter3d"
           }
          ],
          "scattercarpet": [
           {
            "marker": {
             "colorbar": {
              "outlinewidth": 0,
              "ticks": ""
             }
            },
            "type": "scattercarpet"
           }
          ],
          "scattergeo": [
           {
            "marker": {
             "colorbar": {
              "outlinewidth": 0,
              "ticks": ""
             }
            },
            "type": "scattergeo"
           }
          ],
          "scattergl": [
           {
            "marker": {
             "colorbar": {
              "outlinewidth": 0,
              "ticks": ""
             }
            },
            "type": "scattergl"
           }
          ],
          "scattermapbox": [
           {
            "marker": {
             "colorbar": {
              "outlinewidth": 0,
              "ticks": ""
             }
            },
            "type": "scattermapbox"
           }
          ],
          "scatterpolar": [
           {
            "marker": {
             "colorbar": {
              "outlinewidth": 0,
              "ticks": ""
             }
            },
            "type": "scatterpolar"
           }
          ],
          "scatterpolargl": [
           {
            "marker": {
             "colorbar": {
              "outlinewidth": 0,
              "ticks": ""
             }
            },
            "type": "scatterpolargl"
           }
          ],
          "scatterternary": [
           {
            "marker": {
             "colorbar": {
              "outlinewidth": 0,
              "ticks": ""
             }
            },
            "type": "scatterternary"
           }
          ],
          "surface": [
           {
            "colorbar": {
             "outlinewidth": 0,
             "ticks": ""
            },
            "colorscale": [
             [
              0,
              "#0d0887"
             ],
             [
              0.1111111111111111,
              "#46039f"
             ],
             [
              0.2222222222222222,
              "#7201a8"
             ],
             [
              0.3333333333333333,
              "#9c179e"
             ],
             [
              0.4444444444444444,
              "#bd3786"
             ],
             [
              0.5555555555555556,
              "#d8576b"
             ],
             [
              0.6666666666666666,
              "#ed7953"
             ],
             [
              0.7777777777777778,
              "#fb9f3a"
             ],
             [
              0.8888888888888888,
              "#fdca26"
             ],
             [
              1,
              "#f0f921"
             ]
            ],
            "type": "surface"
           }
          ],
          "table": [
           {
            "cells": {
             "fill": {
              "color": "#EBF0F8"
             },
             "line": {
              "color": "white"
             }
            },
            "header": {
             "fill": {
              "color": "#C8D4E3"
             },
             "line": {
              "color": "white"
             }
            },
            "type": "table"
           }
          ]
         },
         "layout": {
          "annotationdefaults": {
           "arrowcolor": "#2a3f5f",
           "arrowhead": 0,
           "arrowwidth": 1
          },
          "autotypenumbers": "strict",
          "coloraxis": {
           "colorbar": {
            "outlinewidth": 0,
            "ticks": ""
           }
          },
          "colorscale": {
           "diverging": [
            [
             0,
             "#8e0152"
            ],
            [
             0.1,
             "#c51b7d"
            ],
            [
             0.2,
             "#de77ae"
            ],
            [
             0.3,
             "#f1b6da"
            ],
            [
             0.4,
             "#fde0ef"
            ],
            [
             0.5,
             "#f7f7f7"
            ],
            [
             0.6,
             "#e6f5d0"
            ],
            [
             0.7,
             "#b8e186"
            ],
            [
             0.8,
             "#7fbc41"
            ],
            [
             0.9,
             "#4d9221"
            ],
            [
             1,
             "#276419"
            ]
           ],
           "sequential": [
            [
             0,
             "#0d0887"
            ],
            [
             0.1111111111111111,
             "#46039f"
            ],
            [
             0.2222222222222222,
             "#7201a8"
            ],
            [
             0.3333333333333333,
             "#9c179e"
            ],
            [
             0.4444444444444444,
             "#bd3786"
            ],
            [
             0.5555555555555556,
             "#d8576b"
            ],
            [
             0.6666666666666666,
             "#ed7953"
            ],
            [
             0.7777777777777778,
             "#fb9f3a"
            ],
            [
             0.8888888888888888,
             "#fdca26"
            ],
            [
             1,
             "#f0f921"
            ]
           ],
           "sequentialminus": [
            [
             0,
             "#0d0887"
            ],
            [
             0.1111111111111111,
             "#46039f"
            ],
            [
             0.2222222222222222,
             "#7201a8"
            ],
            [
             0.3333333333333333,
             "#9c179e"
            ],
            [
             0.4444444444444444,
             "#bd3786"
            ],
            [
             0.5555555555555556,
             "#d8576b"
            ],
            [
             0.6666666666666666,
             "#ed7953"
            ],
            [
             0.7777777777777778,
             "#fb9f3a"
            ],
            [
             0.8888888888888888,
             "#fdca26"
            ],
            [
             1,
             "#f0f921"
            ]
           ]
          },
          "colorway": [
           "#636efa",
           "#EF553B",
           "#00cc96",
           "#ab63fa",
           "#FFA15A",
           "#19d3f3",
           "#FF6692",
           "#B6E880",
           "#FF97FF",
           "#FECB52"
          ],
          "font": {
           "color": "#2a3f5f"
          },
          "geo": {
           "bgcolor": "white",
           "lakecolor": "white",
           "landcolor": "#E5ECF6",
           "showlakes": true,
           "showland": true,
           "subunitcolor": "white"
          },
          "hoverlabel": {
           "align": "left"
          },
          "hovermode": "closest",
          "mapbox": {
           "style": "light"
          },
          "paper_bgcolor": "white",
          "plot_bgcolor": "#E5ECF6",
          "polar": {
           "angularaxis": {
            "gridcolor": "white",
            "linecolor": "white",
            "ticks": ""
           },
           "bgcolor": "#E5ECF6",
           "radialaxis": {
            "gridcolor": "white",
            "linecolor": "white",
            "ticks": ""
           }
          },
          "scene": {
           "xaxis": {
            "backgroundcolor": "#E5ECF6",
            "gridcolor": "white",
            "gridwidth": 2,
            "linecolor": "white",
            "showbackground": true,
            "ticks": "",
            "zerolinecolor": "white"
           },
           "yaxis": {
            "backgroundcolor": "#E5ECF6",
            "gridcolor": "white",
            "gridwidth": 2,
            "linecolor": "white",
            "showbackground": true,
            "ticks": "",
            "zerolinecolor": "white"
           },
           "zaxis": {
            "backgroundcolor": "#E5ECF6",
            "gridcolor": "white",
            "gridwidth": 2,
            "linecolor": "white",
            "showbackground": true,
            "ticks": "",
            "zerolinecolor": "white"
           }
          },
          "shapedefaults": {
           "line": {
            "color": "#2a3f5f"
           }
          },
          "ternary": {
           "aaxis": {
            "gridcolor": "white",
            "linecolor": "white",
            "ticks": ""
           },
           "baxis": {
            "gridcolor": "white",
            "linecolor": "white",
            "ticks": ""
           },
           "bgcolor": "#E5ECF6",
           "caxis": {
            "gridcolor": "white",
            "linecolor": "white",
            "ticks": ""
           }
          },
          "title": {
           "x": 0.05
          },
          "xaxis": {
           "automargin": true,
           "gridcolor": "white",
           "linecolor": "white",
           "ticks": "",
           "title": {
            "standoff": 15
           },
           "zerolinecolor": "white",
           "zerolinewidth": 2
          },
          "yaxis": {
           "automargin": true,
           "gridcolor": "white",
           "linecolor": "white",
           "ticks": "",
           "title": {
            "standoff": 15
           },
           "zerolinecolor": "white",
           "zerolinewidth": 2
          }
         }
        },
        "xaxis": {
         "anchor": "y",
         "domain": [
          0,
          1
         ],
         "title": {
          "text": "SK.React"
         }
        },
        "yaxis": {
         "anchor": "x",
         "domain": [
          0,
          1
         ],
         "title": {
          "text": "count"
         }
        }
       }
      },
      "text/html": [
       "<div>                            <div id=\"6455ca00-1dbe-4c98-895b-3c38ecce5623\" class=\"plotly-graph-div\" style=\"height:525px; width:100%;\"></div>            <script type=\"text/javascript\">                require([\"plotly\"], function(Plotly) {                    window.PLOTLYENV=window.PLOTLYENV || {};                                    if (document.getElementById(\"6455ca00-1dbe-4c98-895b-3c38ecce5623\")) {                    Plotly.newPlot(                        \"6455ca00-1dbe-4c98-895b-3c38ecce5623\",                        [{\"alignmentgroup\":\"True\",\"bingroup\":\"x\",\"hovertemplate\":\"Mortality=Died\\u003cbr\\u003eSK.React=%{x}\\u003cbr\\u003ecount=%{y}\\u003cextra\\u003e\\u003c\\u002fextra\\u003e\",\"legendgroup\":\"Died\",\"marker\":{\"color\":\"deeppink\",\"pattern\":{\"shape\":\"\"}},\"name\":\"Died\",\"offsetgroup\":\"Died\",\"orientation\":\"v\",\"showlegend\":true,\"x\":[\"NO\",\"NO\",\"NO\",\"NO\",\"NO\",\"NO\",\"NO\",\"NO\",\"NO\",\"NO\",\"NO\",\"NO\",\"NO\",\"NO\",\"NO\",\"NO\",\"COUGH.BLEEDING\",\"SKIN.BLEEDING\",\"LUNGS\",\"COUGH.BLEEDING\",\"SKIN.BLEEDING\",\"BODY.PAIN\",\"COUGH.BLEEDING\",\"NAUSEA.TEMP\",\"BODY.PAIN\",\"STOMACH.BLEEDING\",\"STOMACH.BLEEDING\",\"SKIN.BLEEDING\",\"SKIN.BLEEDING\",\"BODY.PAIN\",\"STOMACH.BLEEDING\",\"COUGH.BLEEDING\",\"COUGH.BLEEDING\",\"BODY.PAIN\",\"COUGH.BLEEDING\",\"STOMACH.BLEEDING\",\"COUGH.BLEEDING\",\"COUGH.BLEEDING\",\"COUGH.BLEEDING\",\"COUGH.BLEEDING\",\"COUGH.BLEEDING\",\"COUGH.BLEEDING\",\"COUGH.BLEEDING\",\"SKIN.BLEEDING\",\"LUNGS\",\"SKIN.BLEEDING\",\"COUGH.BLEEDING\",\"COUGH.BLEEDING\",\"COUGH.BLEEDING\",\"COUGH.BLEEDING\",\"SKIN.BLEEDING\",\"SKIN.BLEEDING\",\"BODY.PAIN\",\"COUGH.BLEEDING\",\"COUGH.BLEEDING\",\"LUNGS\",\"COUGH.BLEEDING\",\"NAUSEA.TEMP\",\"COUGH.BLEEDING\",\"BODY.PAIN\",\"STOMACH.BLEEDING\",\"STOMACH.BLEEDING\",\"SKIN.BLEEDING\",\"SKIN.BLEEDING\",\"BODY.PAIN\",\"STOMACH.BLEEDING\",\"COUGH.BLEEDING\",\"COUGH.BLEEDING\",\"BODY.PAIN\",\"COUGH.BLEEDING\",\"STOMACH.BLEEDING\",\"COUGH.BLEEDING\",\"COUGH.BLEEDING\",\"COUGH.BLEEDING\",\"COUGH.BLEEDING\",\"COUGH.BLEEDING\",\"COUGH.BLEEDING\",\"COUGH.BLEEDING\",\"SKIN.BLEEDING\",\"LUNGS\",\"SKIN.BLEEDING\",\"COUGH.BLEEDING\",\"COUGH.BLEEDING\",\"COUGH.BLEEDING\",\"COUGH.BLEEDING\",\"SKIN.BLEEDING\",\"SKIN.BLEEDING\",\"BODY.PAIN\",\"COUGH.BLEEDING\",\"COUGH.BLEEDING\",\"LUNGS\",\"COUGH.BLEEDING\",\"NAUSEA.TEMP\",\"COUGH.BLEEDING\",\"BODY.PAIN\",\"STOMACH.BLEEDING\",\"STOMACH.BLEEDING\",\"SKIN.BLEEDING\",\"SKIN.BLEEDING\",\"BODY.PAIN\",\"STOMACH.BLEEDING\",\"COUGH.BLEEDING\",\"COUGH.BLEEDING\",\"BODY.PAIN\",\"COUGH.BLEEDING\",\"STOMACH.BLEEDING\",\"COUGH.BLEEDING\",\"COUGH.BLEEDING\",\"COUGH.BLEEDING\",\"COUGH.BLEEDING\",\"COUGH.BLEEDING\",\"COUGH.BLEEDING\",\"NAUSEA.TEMP\",\"COUGH.BLEEDING\",\"BODY.PAIN\",\"STOMACH.BLEEDING\",\"STOMACH.BLEEDING\",\"SKIN.BLEEDING\",\"SKIN.BLEEDING\",\"BODY.PAIN\",\"STOMACH.BLEEDING\",\"NO\",\"NO\",\"NO\",\"NO\",\"NO\",\"NO\",\"COUGH.BLEEDING\",\"STOMACH.BLEEDING\",\"COUGH.BLEEDING\",\"COUGH.BLEEDING\",\"COUGH.BLEEDING\",\"COUGH.BLEEDING\",\"COUGH.BLEEDING\",\"COUGH.BLEEDING\",\"COUGH.BLEEDING\",\"SKIN.BLEEDING\",\"LUNGS\",\"SKIN.BLEEDING\",\"COUGH.BLEEDING\",\"COUGH.BLEEDING\",\"COUGH.BLEEDING\",\"COUGH.BLEEDING\",\"SKIN.BLEEDING\",\"SKIN.BLEEDING\",\"BODY.PAIN\",\"COUGH.BLEEDING\",\"COUGH.BLEEDING\",\"NO\",\"NO\",\"NO\",\"NO\",\"NO\",\"NO\",\"NO\",\"NO\",\"COUGH.BLEEDING\",\"SKIN.BLEEDING\",\"LUNGS\",\"COUGH.BLEEDING\",\"SKIN.BLEEDING\",\"BODY.PAIN\",\"COUGH.BLEEDING\",\"NAUSEA.TEMP\",\"BODY.PAIN\",\"STOMACH.BLEEDING\",\"STOMACH.BLEEDING\",\"SKIN.BLEEDING\",\"SKIN.BLEEDING\",\"BODY.PAIN\",\"STOMACH.BLEEDING\",\"COUGH.BLEEDING\",\"COUGH.BLEEDING\",\"BODY.PAIN\",\"COUGH.BLEEDING\",\"STOMACH.BLEEDING\",\"COUGH.BLEEDING\",\"COUGH.BLEEDING\",\"COUGH.BLEEDING\",\"COUGH.BLEEDING\",\"COUGH.BLEEDING\",\"COUGH.BLEEDING\",\"COUGH.BLEEDING\",\"SKIN.BLEEDING\",\"LUNGS\",\"SKIN.BLEEDING\",\"COUGH.BLEEDING\",\"COUGH.BLEEDING\",\"COUGH.BLEEDING\",\"COUGH.BLEEDING\",\"SKIN.BLEEDING\",\"SKIN.BLEEDING\",\"BODY.PAIN\",\"COUGH.BLEEDING\",\"COUGH.BLEEDING\",\"NO\",\"NO\",\"NO\",\"NO\",\"NO\",\"NO\",\"NO\",\"NO\",\"COUGH.BLEEDING\",\"SKIN.BLEEDING\",\"LUNGS\",\"COUGH.BLEEDING\",\"SKIN.BLEEDING\",\"BODY.PAIN\",\"COUGH.BLEEDING\",\"NAUSEA.TEMP\",\"COUGH.BLEEDING\",\"STOMACH.BLEEDING\",\"COUGH.BLEEDING\",\"COUGH.BLEEDING\",\"COUGH.BLEEDING\",\"COUGH.BLEEDING\",\"COUGH.BLEEDING\",\"COUGH.BLEEDING\",\"COUGH.BLEEDING\",\"SKIN.BLEEDING\",\"LUNGS\",\"SKIN.BLEEDING\",\"COUGH.BLEEDING\",\"COUGH.BLEEDING\",\"COUGH.BLEEDING\",\"COUGH.BLEEDING\",\"SKIN.BLEEDING\",\"SKIN.BLEEDING\",\"BODY.PAIN\",\"COUGH.BLEEDING\",\"COUGH.BLEEDING\",\"NO\",\"NO\",\"NO\",\"NO\",\"NO\",\"NO\",\"NO\",\"NO\",\"COUGH.BLEEDING\",\"COUGH.BLEEDING\",\"STOMACH.BLEEDING\",\"COUGH.BLEEDING\",\"COUGH.BLEEDING\",\"COUGH.BLEEDING\",\"COUGH.BLEEDING\",\"COUGH.BLEEDING\",\"COUGH.BLEEDING\",\"COUGH.BLEEDING\",\"SKIN.BLEEDING\",\"LUNGS\",\"SKIN.BLEEDING\",\"COUGH.BLEEDING\",\"COUGH.BLEEDING\",\"COUGH.BLEEDING\",\"COUGH.BLEEDING\",\"SKIN.BLEEDING\",\"SKIN.BLEEDING\",\"BODY.PAIN\",\"COUGH.BLEEDING\",\"COUGH.BLEEDING\",\"NO\",\"NO\",\"NO\",\"NO\",\"NO\",\"NO\",\"NO\",\"NO\",\"COUGH.BLEEDING\",\"SKIN.BLEEDING\",\"LUNGS\",\"COUGH.BLEEDING\",\"SKIN.BLEEDING\",\"BODY.PAIN\",\"COUGH.BLEEDING\",\"NAUSEA.TEMP\",\"BODY.PAIN\",\"STOMACH.BLEEDING\",\"STOMACH.BLEEDING\",\"SKIN.BLEEDING\",\"SKIN.BLEEDING\",\"BODY.PAIN\",\"STOMACH.BLEEDING\",\"COUGH.BLEEDING\",\"COUGH.BLEEDING\",\"BODY.PAIN\"],\"xaxis\":\"x\",\"yaxis\":\"y\",\"type\":\"histogram\"},{\"alignmentgroup\":\"True\",\"bingroup\":\"x\",\"hovertemplate\":\"Mortality=Alive\\u003cbr\\u003eSK.React=%{x}\\u003cbr\\u003ecount=%{y}\\u003cextra\\u003e\\u003c\\u002fextra\\u003e\",\"legendgroup\":\"Alive\",\"marker\":{\"color\":\"aqua\",\"pattern\":{\"shape\":\"\"}},\"name\":\"Alive\",\"offsetgroup\":\"Alive\",\"orientation\":\"v\",\"showlegend\":true,\"x\":[\"NO\",\"NO\",\"NO\",\"NO\",\"NO\",\"NO\",\"NO\",\"NO\",\"NO\",\"SKIN.BLEEDING\",\"COUGH.BLEEDING\",\"COUGH.BLEEDING\",\"COUGH.BLEEDING\",\"SKIN.BLEEDING\",\"COUGH.BLEEDING\",\"LUNGS\",\"COUGH.BLEEDING\",\"COUGH.BLEEDING\",\"NO\",\"NO\",\"BODY.PAIN\",\"NO\",\"NO\",\"NAUSEA.TEMP\",\"NO\",\"NO\",\"COUGH.BLEEDING\",\"NO\",\"NO\",\"NO\",\"NO\",\"NO\",\"NO\",\"SKIN.BLEEDING\",\"COUGH.BLEEDING\",\"COUGH.BLEEDING\",\"COUGH.BLEEDING\",\"SKIN.BLEEDING\",\"COUGH.BLEEDING\",\"LUNGS\",\"COUGH.BLEEDING\",\"COUGH.BLEEDING\",\"COUGH.BLEEDING\",\"NO\",\"NO\",\"NO\",\"NO\",\"NO\",\"NO\",\"SKIN.BLEEDING\",\"COUGH.BLEEDING\",\"COUGH.BLEEDING\",\"COUGH.BLEEDING\",\"SKIN.BLEEDING\",\"COUGH.BLEEDING\",\"LUNGS\",\"COUGH.BLEEDING\",\"COUGH.BLEEDING\",\"NO\",\"NO\",\"NO\",\"NO\",\"NO\",\"NO\",\"COUGH.BLEEDING\",\"NO\",\"NO\",\"NO\",\"NO\",\"NO\",\"NO\",\"SKIN.BLEEDING\",\"COUGH.BLEEDING\",\"COUGH.BLEEDING\",\"COUGH.BLEEDING\",\"SKIN.BLEEDING\",\"COUGH.BLEEDING\",\"LUNGS\",\"COUGH.BLEEDING\",\"COUGH.BLEEDING\"],\"xaxis\":\"x\",\"yaxis\":\"y\",\"type\":\"histogram\"}],                        {\"template\":{\"data\":{\"histogram2dcontour\":[{\"type\":\"histogram2dcontour\",\"colorbar\":{\"outlinewidth\":0,\"ticks\":\"\"},\"colorscale\":[[0.0,\"#0d0887\"],[0.1111111111111111,\"#46039f\"],[0.2222222222222222,\"#7201a8\"],[0.3333333333333333,\"#9c179e\"],[0.4444444444444444,\"#bd3786\"],[0.5555555555555556,\"#d8576b\"],[0.6666666666666666,\"#ed7953\"],[0.7777777777777778,\"#fb9f3a\"],[0.8888888888888888,\"#fdca26\"],[1.0,\"#f0f921\"]]}],\"choropleth\":[{\"type\":\"choropleth\",\"colorbar\":{\"outlinewidth\":0,\"ticks\":\"\"}}],\"histogram2d\":[{\"type\":\"histogram2d\",\"colorbar\":{\"outlinewidth\":0,\"ticks\":\"\"},\"colorscale\":[[0.0,\"#0d0887\"],[0.1111111111111111,\"#46039f\"],[0.2222222222222222,\"#7201a8\"],[0.3333333333333333,\"#9c179e\"],[0.4444444444444444,\"#bd3786\"],[0.5555555555555556,\"#d8576b\"],[0.6666666666666666,\"#ed7953\"],[0.7777777777777778,\"#fb9f3a\"],[0.8888888888888888,\"#fdca26\"],[1.0,\"#f0f921\"]]}],\"heatmap\":[{\"type\":\"heatmap\",\"colorbar\":{\"outlinewidth\":0,\"ticks\":\"\"},\"colorscale\":[[0.0,\"#0d0887\"],[0.1111111111111111,\"#46039f\"],[0.2222222222222222,\"#7201a8\"],[0.3333333333333333,\"#9c179e\"],[0.4444444444444444,\"#bd3786\"],[0.5555555555555556,\"#d8576b\"],[0.6666666666666666,\"#ed7953\"],[0.7777777777777778,\"#fb9f3a\"],[0.8888888888888888,\"#fdca26\"],[1.0,\"#f0f921\"]]}],\"heatmapgl\":[{\"type\":\"heatmapgl\",\"colorbar\":{\"outlinewidth\":0,\"ticks\":\"\"},\"colorscale\":[[0.0,\"#0d0887\"],[0.1111111111111111,\"#46039f\"],[0.2222222222222222,\"#7201a8\"],[0.3333333333333333,\"#9c179e\"],[0.4444444444444444,\"#bd3786\"],[0.5555555555555556,\"#d8576b\"],[0.6666666666666666,\"#ed7953\"],[0.7777777777777778,\"#fb9f3a\"],[0.8888888888888888,\"#fdca26\"],[1.0,\"#f0f921\"]]}],\"contourcarpet\":[{\"type\":\"contourcarpet\",\"colorbar\":{\"outlinewidth\":0,\"ticks\":\"\"}}],\"contour\":[{\"type\":\"contour\",\"colorbar\":{\"outlinewidth\":0,\"ticks\":\"\"},\"colorscale\":[[0.0,\"#0d0887\"],[0.1111111111111111,\"#46039f\"],[0.2222222222222222,\"#7201a8\"],[0.3333333333333333,\"#9c179e\"],[0.4444444444444444,\"#bd3786\"],[0.5555555555555556,\"#d8576b\"],[0.6666666666666666,\"#ed7953\"],[0.7777777777777778,\"#fb9f3a\"],[0.8888888888888888,\"#fdca26\"],[1.0,\"#f0f921\"]]}],\"surface\":[{\"type\":\"surface\",\"colorbar\":{\"outlinewidth\":0,\"ticks\":\"\"},\"colorscale\":[[0.0,\"#0d0887\"],[0.1111111111111111,\"#46039f\"],[0.2222222222222222,\"#7201a8\"],[0.3333333333333333,\"#9c179e\"],[0.4444444444444444,\"#bd3786\"],[0.5555555555555556,\"#d8576b\"],[0.6666666666666666,\"#ed7953\"],[0.7777777777777778,\"#fb9f3a\"],[0.8888888888888888,\"#fdca26\"],[1.0,\"#f0f921\"]]}],\"mesh3d\":[{\"type\":\"mesh3d\",\"colorbar\":{\"outlinewidth\":0,\"ticks\":\"\"}}],\"scatter\":[{\"fillpattern\":{\"fillmode\":\"overlay\",\"size\":10,\"solidity\":0.2},\"type\":\"scatter\"}],\"parcoords\":[{\"type\":\"parcoords\",\"line\":{\"colorbar\":{\"outlinewidth\":0,\"ticks\":\"\"}}}],\"scatterpolargl\":[{\"type\":\"scatterpolargl\",\"marker\":{\"colorbar\":{\"outlinewidth\":0,\"ticks\":\"\"}}}],\"bar\":[{\"error_x\":{\"color\":\"#2a3f5f\"},\"error_y\":{\"color\":\"#2a3f5f\"},\"marker\":{\"line\":{\"color\":\"#E5ECF6\",\"width\":0.5},\"pattern\":{\"fillmode\":\"overlay\",\"size\":10,\"solidity\":0.2}},\"type\":\"bar\"}],\"scattergeo\":[{\"type\":\"scattergeo\",\"marker\":{\"colorbar\":{\"outlinewidth\":0,\"ticks\":\"\"}}}],\"scatterpolar\":[{\"type\":\"scatterpolar\",\"marker\":{\"colorbar\":{\"outlinewidth\":0,\"ticks\":\"\"}}}],\"histogram\":[{\"marker\":{\"pattern\":{\"fillmode\":\"overlay\",\"size\":10,\"solidity\":0.2}},\"type\":\"histogram\"}],\"scattergl\":[{\"type\":\"scattergl\",\"marker\":{\"colorbar\":{\"outlinewidth\":0,\"ticks\":\"\"}}}],\"scatter3d\":[{\"type\":\"scatter3d\",\"line\":{\"colorbar\":{\"outlinewidth\":0,\"ticks\":\"\"}},\"marker\":{\"colorbar\":{\"outlinewidth\":0,\"ticks\":\"\"}}}],\"scattermapbox\":[{\"type\":\"scattermapbox\",\"marker\":{\"colorbar\":{\"outlinewidth\":0,\"ticks\":\"\"}}}],\"scatterternary\":[{\"type\":\"scatterternary\",\"marker\":{\"colorbar\":{\"outlinewidth\":0,\"ticks\":\"\"}}}],\"scattercarpet\":[{\"type\":\"scattercarpet\",\"marker\":{\"colorbar\":{\"outlinewidth\":0,\"ticks\":\"\"}}}],\"carpet\":[{\"aaxis\":{\"endlinecolor\":\"#2a3f5f\",\"gridcolor\":\"white\",\"linecolor\":\"white\",\"minorgridcolor\":\"white\",\"startlinecolor\":\"#2a3f5f\"},\"baxis\":{\"endlinecolor\":\"#2a3f5f\",\"gridcolor\":\"white\",\"linecolor\":\"white\",\"minorgridcolor\":\"white\",\"startlinecolor\":\"#2a3f5f\"},\"type\":\"carpet\"}],\"table\":[{\"cells\":{\"fill\":{\"color\":\"#EBF0F8\"},\"line\":{\"color\":\"white\"}},\"header\":{\"fill\":{\"color\":\"#C8D4E3\"},\"line\":{\"color\":\"white\"}},\"type\":\"table\"}],\"barpolar\":[{\"marker\":{\"line\":{\"color\":\"#E5ECF6\",\"width\":0.5},\"pattern\":{\"fillmode\":\"overlay\",\"size\":10,\"solidity\":0.2}},\"type\":\"barpolar\"}],\"pie\":[{\"automargin\":true,\"type\":\"pie\"}]},\"layout\":{\"autotypenumbers\":\"strict\",\"colorway\":[\"#636efa\",\"#EF553B\",\"#00cc96\",\"#ab63fa\",\"#FFA15A\",\"#19d3f3\",\"#FF6692\",\"#B6E880\",\"#FF97FF\",\"#FECB52\"],\"font\":{\"color\":\"#2a3f5f\"},\"hovermode\":\"closest\",\"hoverlabel\":{\"align\":\"left\"},\"paper_bgcolor\":\"white\",\"plot_bgcolor\":\"#E5ECF6\",\"polar\":{\"bgcolor\":\"#E5ECF6\",\"angularaxis\":{\"gridcolor\":\"white\",\"linecolor\":\"white\",\"ticks\":\"\"},\"radialaxis\":{\"gridcolor\":\"white\",\"linecolor\":\"white\",\"ticks\":\"\"}},\"ternary\":{\"bgcolor\":\"#E5ECF6\",\"aaxis\":{\"gridcolor\":\"white\",\"linecolor\":\"white\",\"ticks\":\"\"},\"baxis\":{\"gridcolor\":\"white\",\"linecolor\":\"white\",\"ticks\":\"\"},\"caxis\":{\"gridcolor\":\"white\",\"linecolor\":\"white\",\"ticks\":\"\"}},\"coloraxis\":{\"colorbar\":{\"outlinewidth\":0,\"ticks\":\"\"}},\"colorscale\":{\"sequential\":[[0.0,\"#0d0887\"],[0.1111111111111111,\"#46039f\"],[0.2222222222222222,\"#7201a8\"],[0.3333333333333333,\"#9c179e\"],[0.4444444444444444,\"#bd3786\"],[0.5555555555555556,\"#d8576b\"],[0.6666666666666666,\"#ed7953\"],[0.7777777777777778,\"#fb9f3a\"],[0.8888888888888888,\"#fdca26\"],[1.0,\"#f0f921\"]],\"sequentialminus\":[[0.0,\"#0d0887\"],[0.1111111111111111,\"#46039f\"],[0.2222222222222222,\"#7201a8\"],[0.3333333333333333,\"#9c179e\"],[0.4444444444444444,\"#bd3786\"],[0.5555555555555556,\"#d8576b\"],[0.6666666666666666,\"#ed7953\"],[0.7777777777777778,\"#fb9f3a\"],[0.8888888888888888,\"#fdca26\"],[1.0,\"#f0f921\"]],\"diverging\":[[0,\"#8e0152\"],[0.1,\"#c51b7d\"],[0.2,\"#de77ae\"],[0.3,\"#f1b6da\"],[0.4,\"#fde0ef\"],[0.5,\"#f7f7f7\"],[0.6,\"#e6f5d0\"],[0.7,\"#b8e186\"],[0.8,\"#7fbc41\"],[0.9,\"#4d9221\"],[1,\"#276419\"]]},\"xaxis\":{\"gridcolor\":\"white\",\"linecolor\":\"white\",\"ticks\":\"\",\"title\":{\"standoff\":15},\"zerolinecolor\":\"white\",\"automargin\":true,\"zerolinewidth\":2},\"yaxis\":{\"gridcolor\":\"white\",\"linecolor\":\"white\",\"ticks\":\"\",\"title\":{\"standoff\":15},\"zerolinecolor\":\"white\",\"automargin\":true,\"zerolinewidth\":2},\"scene\":{\"xaxis\":{\"backgroundcolor\":\"#E5ECF6\",\"gridcolor\":\"white\",\"linecolor\":\"white\",\"showbackground\":true,\"ticks\":\"\",\"zerolinecolor\":\"white\",\"gridwidth\":2},\"yaxis\":{\"backgroundcolor\":\"#E5ECF6\",\"gridcolor\":\"white\",\"linecolor\":\"white\",\"showbackground\":true,\"ticks\":\"\",\"zerolinecolor\":\"white\",\"gridwidth\":2},\"zaxis\":{\"backgroundcolor\":\"#E5ECF6\",\"gridcolor\":\"white\",\"linecolor\":\"white\",\"showbackground\":true,\"ticks\":\"\",\"zerolinecolor\":\"white\",\"gridwidth\":2}},\"shapedefaults\":{\"line\":{\"color\":\"#2a3f5f\"}},\"annotationdefaults\":{\"arrowcolor\":\"#2a3f5f\",\"arrowhead\":0,\"arrowwidth\":1},\"geo\":{\"bgcolor\":\"white\",\"landcolor\":\"#E5ECF6\",\"subunitcolor\":\"white\",\"showland\":true,\"showlakes\":true,\"lakecolor\":\"white\"},\"title\":{\"x\":0.05},\"mapbox\":{\"style\":\"light\"}}},\"xaxis\":{\"anchor\":\"y\",\"domain\":[0.0,1.0],\"title\":{\"text\":\"SK.React\"}},\"yaxis\":{\"anchor\":\"x\",\"domain\":[0.0,1.0],\"title\":{\"text\":\"count\"}},\"legend\":{\"title\":{\"text\":\"Mortality\"},\"tracegroupgap\":0},\"margin\":{\"t\":60},\"barmode\":\"relative\"},                        {\"responsive\": true}                    ).then(function(){\n",
       "                            \n",
       "var gd = document.getElementById('6455ca00-1dbe-4c98-895b-3c38ecce5623');\n",
       "var x = new MutationObserver(function (mutations, observer) {{\n",
       "        var display = window.getComputedStyle(gd).display;\n",
       "        if (!display || display === 'none') {{\n",
       "            console.log([gd, 'removed!']);\n",
       "            Plotly.purge(gd);\n",
       "            observer.disconnect();\n",
       "        }}\n",
       "}});\n",
       "\n",
       "// Listen for the removal of the full notebook cells\n",
       "var notebookContainer = gd.closest('#notebook-container');\n",
       "if (notebookContainer) {{\n",
       "    x.observe(notebookContainer, {childList: true});\n",
       "}}\n",
       "\n",
       "// Listen for the clearing of the current output cell\n",
       "var outputEl = gd.closest('.output');\n",
       "if (outputEl) {{\n",
       "    x.observe(outputEl, {childList: true});\n",
       "}}\n",
       "\n",
       "                        })                };                });            </script>        </div>"
      ]
     },
     "metadata": {},
     "output_type": "display_data"
    },
    {
     "name": "stdout",
     "output_type": "stream",
     "text": [
      "['Age.Group', 'Gender', 'Locality', 'Category', 'Smoking', 'Family.History', 'HTN', 'Others', 'CO', 'Diagnosis', 'cp', 'SK.React']\n"
     ]
    }
   ],
   "source": [
    "significant_categories=list()\n",
    "for category in categories:\n",
    "    table = pd.crosstab(df[category],df.Mortality)\n",
    "    stat, p, dof, expected =chi2_contingency(table)\n",
    "    alpha = 0.05\n",
    "    if p <= alpha:  \n",
    "        print(\"Category: \",category)\n",
    "        print(\"P-value: \", p.round(3))\n",
    "        print(\"H0 rejected\",\"\\n\")\n",
    "        fig = px.histogram(df, x= category, color = 'Mortality', color_discrete_map= {\"Alive\":\"aqua\",\"Died\":\"deeppink\"})\n",
    "        fig.show()\n",
    "    else:\n",
    "        continue\n",
    "    significant_categories.append(category)\n",
    "print(significant_categories)"
   ]
  },
  {
   "cell_type": "code",
   "execution_count": 110,
   "id": "a53c9ee0",
   "metadata": {
    "scrolled": false
   },
   "outputs": [
    {
     "data": {
      "text/plain": [
       "['Age.Group',\n",
       " 'Gender',\n",
       " 'Locality',\n",
       " 'Category',\n",
       " 'Smoking',\n",
       " 'Family.History',\n",
       " 'HTN',\n",
       " 'Others',\n",
       " 'CO',\n",
       " 'Diagnosis',\n",
       " 'cp',\n",
       " 'SK.React']"
      ]
     },
     "execution_count": 110,
     "metadata": {},
     "output_type": "execute_result"
    }
   ],
   "source": [
    "significant_categories"
   ]
  },
  {
   "cell_type": "code",
   "execution_count": 111,
   "id": "ad2d1600",
   "metadata": {},
   "outputs": [
    {
     "ename": "ValueError",
     "evalue": "could not convert string to float: 'NO'",
     "output_type": "error",
     "traceback": [
      "\u001b[1;31m---------------------------------------------------------------------------\u001b[0m",
      "\u001b[1;31mValueError\u001b[0m                                Traceback (most recent call last)",
      "Cell \u001b[1;32mIn[111], line 1\u001b[0m\n\u001b[1;32m----> 1\u001b[0m \u001b[43mdf\u001b[49m\u001b[38;5;241;43m.\u001b[39;49m\u001b[43mcorr\u001b[49m\u001b[43m(\u001b[49m\u001b[43m)\u001b[49m\n",
      "File \u001b[1;32m~\\anaconda3\\envs\\py3_10_4\\lib\\site-packages\\pandas\\core\\frame.py:10054\u001b[0m, in \u001b[0;36mDataFrame.corr\u001b[1;34m(self, method, min_periods, numeric_only)\u001b[0m\n\u001b[0;32m  10052\u001b[0m cols \u001b[38;5;241m=\u001b[39m data\u001b[38;5;241m.\u001b[39mcolumns\n\u001b[0;32m  10053\u001b[0m idx \u001b[38;5;241m=\u001b[39m cols\u001b[38;5;241m.\u001b[39mcopy()\n\u001b[1;32m> 10054\u001b[0m mat \u001b[38;5;241m=\u001b[39m \u001b[43mdata\u001b[49m\u001b[38;5;241;43m.\u001b[39;49m\u001b[43mto_numpy\u001b[49m\u001b[43m(\u001b[49m\u001b[43mdtype\u001b[49m\u001b[38;5;241;43m=\u001b[39;49m\u001b[38;5;28;43mfloat\u001b[39;49m\u001b[43m,\u001b[49m\u001b[43m \u001b[49m\u001b[43mna_value\u001b[49m\u001b[38;5;241;43m=\u001b[39;49m\u001b[43mnp\u001b[49m\u001b[38;5;241;43m.\u001b[39;49m\u001b[43mnan\u001b[49m\u001b[43m,\u001b[49m\u001b[43m \u001b[49m\u001b[43mcopy\u001b[49m\u001b[38;5;241;43m=\u001b[39;49m\u001b[38;5;28;43;01mFalse\u001b[39;49;00m\u001b[43m)\u001b[49m\n\u001b[0;32m  10056\u001b[0m \u001b[38;5;28;01mif\u001b[39;00m method \u001b[38;5;241m==\u001b[39m \u001b[38;5;124m\"\u001b[39m\u001b[38;5;124mpearson\u001b[39m\u001b[38;5;124m\"\u001b[39m:\n\u001b[0;32m  10057\u001b[0m     correl \u001b[38;5;241m=\u001b[39m libalgos\u001b[38;5;241m.\u001b[39mnancorr(mat, minp\u001b[38;5;241m=\u001b[39mmin_periods)\n",
      "File \u001b[1;32m~\\anaconda3\\envs\\py3_10_4\\lib\\site-packages\\pandas\\core\\frame.py:1838\u001b[0m, in \u001b[0;36mDataFrame.to_numpy\u001b[1;34m(self, dtype, copy, na_value)\u001b[0m\n\u001b[0;32m   1836\u001b[0m \u001b[38;5;28;01mif\u001b[39;00m dtype \u001b[38;5;129;01mis\u001b[39;00m \u001b[38;5;129;01mnot\u001b[39;00m \u001b[38;5;28;01mNone\u001b[39;00m:\n\u001b[0;32m   1837\u001b[0m     dtype \u001b[38;5;241m=\u001b[39m np\u001b[38;5;241m.\u001b[39mdtype(dtype)\n\u001b[1;32m-> 1838\u001b[0m result \u001b[38;5;241m=\u001b[39m \u001b[38;5;28;43mself\u001b[39;49m\u001b[38;5;241;43m.\u001b[39;49m\u001b[43m_mgr\u001b[49m\u001b[38;5;241;43m.\u001b[39;49m\u001b[43mas_array\u001b[49m\u001b[43m(\u001b[49m\u001b[43mdtype\u001b[49m\u001b[38;5;241;43m=\u001b[39;49m\u001b[43mdtype\u001b[49m\u001b[43m,\u001b[49m\u001b[43m \u001b[49m\u001b[43mcopy\u001b[49m\u001b[38;5;241;43m=\u001b[39;49m\u001b[43mcopy\u001b[49m\u001b[43m,\u001b[49m\u001b[43m \u001b[49m\u001b[43mna_value\u001b[49m\u001b[38;5;241;43m=\u001b[39;49m\u001b[43mna_value\u001b[49m\u001b[43m)\u001b[49m\n\u001b[0;32m   1839\u001b[0m \u001b[38;5;28;01mif\u001b[39;00m result\u001b[38;5;241m.\u001b[39mdtype \u001b[38;5;129;01mis\u001b[39;00m \u001b[38;5;129;01mnot\u001b[39;00m dtype:\n\u001b[0;32m   1840\u001b[0m     result \u001b[38;5;241m=\u001b[39m np\u001b[38;5;241m.\u001b[39marray(result, dtype\u001b[38;5;241m=\u001b[39mdtype, copy\u001b[38;5;241m=\u001b[39m\u001b[38;5;28;01mFalse\u001b[39;00m)\n",
      "File \u001b[1;32m~\\anaconda3\\envs\\py3_10_4\\lib\\site-packages\\pandas\\core\\internals\\managers.py:1732\u001b[0m, in \u001b[0;36mBlockManager.as_array\u001b[1;34m(self, dtype, copy, na_value)\u001b[0m\n\u001b[0;32m   1730\u001b[0m         arr\u001b[38;5;241m.\u001b[39mflags\u001b[38;5;241m.\u001b[39mwriteable \u001b[38;5;241m=\u001b[39m \u001b[38;5;28;01mFalse\u001b[39;00m\n\u001b[0;32m   1731\u001b[0m \u001b[38;5;28;01melse\u001b[39;00m:\n\u001b[1;32m-> 1732\u001b[0m     arr \u001b[38;5;241m=\u001b[39m \u001b[38;5;28;43mself\u001b[39;49m\u001b[38;5;241;43m.\u001b[39;49m\u001b[43m_interleave\u001b[49m\u001b[43m(\u001b[49m\u001b[43mdtype\u001b[49m\u001b[38;5;241;43m=\u001b[39;49m\u001b[43mdtype\u001b[49m\u001b[43m,\u001b[49m\u001b[43m \u001b[49m\u001b[43mna_value\u001b[49m\u001b[38;5;241;43m=\u001b[39;49m\u001b[43mna_value\u001b[49m\u001b[43m)\u001b[49m\n\u001b[0;32m   1733\u001b[0m     \u001b[38;5;66;03m# The underlying data was copied within _interleave, so no need\u001b[39;00m\n\u001b[0;32m   1734\u001b[0m     \u001b[38;5;66;03m# to further copy if copy=True or setting na_value\u001b[39;00m\n\u001b[0;32m   1736\u001b[0m \u001b[38;5;28;01mif\u001b[39;00m na_value \u001b[38;5;129;01mis\u001b[39;00m \u001b[38;5;129;01mnot\u001b[39;00m lib\u001b[38;5;241m.\u001b[39mno_default:\n",
      "File \u001b[1;32m~\\anaconda3\\envs\\py3_10_4\\lib\\site-packages\\pandas\\core\\internals\\managers.py:1788\u001b[0m, in \u001b[0;36mBlockManager._interleave\u001b[1;34m(self, dtype, na_value)\u001b[0m\n\u001b[0;32m   1782\u001b[0m rl \u001b[38;5;241m=\u001b[39m blk\u001b[38;5;241m.\u001b[39mmgr_locs\n\u001b[0;32m   1783\u001b[0m \u001b[38;5;28;01mif\u001b[39;00m blk\u001b[38;5;241m.\u001b[39mis_extension:\n\u001b[0;32m   1784\u001b[0m     \u001b[38;5;66;03m# Avoid implicit conversion of extension blocks to object\u001b[39;00m\n\u001b[0;32m   1785\u001b[0m \n\u001b[0;32m   1786\u001b[0m     \u001b[38;5;66;03m# error: Item \"ndarray\" of \"Union[ndarray, ExtensionArray]\" has no\u001b[39;00m\n\u001b[0;32m   1787\u001b[0m     \u001b[38;5;66;03m# attribute \"to_numpy\"\u001b[39;00m\n\u001b[1;32m-> 1788\u001b[0m     arr \u001b[38;5;241m=\u001b[39m \u001b[43mblk\u001b[49m\u001b[38;5;241;43m.\u001b[39;49m\u001b[43mvalues\u001b[49m\u001b[38;5;241;43m.\u001b[39;49m\u001b[43mto_numpy\u001b[49m\u001b[43m(\u001b[49m\u001b[43m  \u001b[49m\u001b[38;5;66;43;03m# type: ignore[union-attr]\u001b[39;49;00m\n\u001b[0;32m   1789\u001b[0m \u001b[43m        \u001b[49m\u001b[43mdtype\u001b[49m\u001b[38;5;241;43m=\u001b[39;49m\u001b[43mdtype\u001b[49m\u001b[43m,\u001b[49m\n\u001b[0;32m   1790\u001b[0m \u001b[43m        \u001b[49m\u001b[43mna_value\u001b[49m\u001b[38;5;241;43m=\u001b[39;49m\u001b[43mna_value\u001b[49m\u001b[43m,\u001b[49m\n\u001b[0;32m   1791\u001b[0m \u001b[43m    \u001b[49m\u001b[43m)\u001b[49m\n\u001b[0;32m   1792\u001b[0m \u001b[38;5;28;01melse\u001b[39;00m:\n\u001b[0;32m   1793\u001b[0m     arr \u001b[38;5;241m=\u001b[39m blk\u001b[38;5;241m.\u001b[39mget_values(dtype)\n",
      "File \u001b[1;32m~\\anaconda3\\envs\\py3_10_4\\lib\\site-packages\\pandas\\core\\arrays\\base.py:485\u001b[0m, in \u001b[0;36mExtensionArray.to_numpy\u001b[1;34m(self, dtype, copy, na_value)\u001b[0m\n\u001b[0;32m    456\u001b[0m \u001b[38;5;28;01mdef\u001b[39;00m \u001b[38;5;21mto_numpy\u001b[39m(\n\u001b[0;32m    457\u001b[0m     \u001b[38;5;28mself\u001b[39m,\n\u001b[0;32m    458\u001b[0m     dtype: npt\u001b[38;5;241m.\u001b[39mDTypeLike \u001b[38;5;241m|\u001b[39m \u001b[38;5;28;01mNone\u001b[39;00m \u001b[38;5;241m=\u001b[39m \u001b[38;5;28;01mNone\u001b[39;00m,\n\u001b[0;32m    459\u001b[0m     copy: \u001b[38;5;28mbool\u001b[39m \u001b[38;5;241m=\u001b[39m \u001b[38;5;28;01mFalse\u001b[39;00m,\n\u001b[0;32m    460\u001b[0m     na_value: \u001b[38;5;28mobject\u001b[39m \u001b[38;5;241m=\u001b[39m lib\u001b[38;5;241m.\u001b[39mno_default,\n\u001b[0;32m    461\u001b[0m ) \u001b[38;5;241m-\u001b[39m\u001b[38;5;241m>\u001b[39m np\u001b[38;5;241m.\u001b[39mndarray:\n\u001b[0;32m    462\u001b[0m \u001b[38;5;250m    \u001b[39m\u001b[38;5;124;03m\"\"\"\u001b[39;00m\n\u001b[0;32m    463\u001b[0m \u001b[38;5;124;03m    Convert to a NumPy ndarray.\u001b[39;00m\n\u001b[0;32m    464\u001b[0m \n\u001b[1;32m   (...)\u001b[0m\n\u001b[0;32m    483\u001b[0m \u001b[38;5;124;03m    numpy.ndarray\u001b[39;00m\n\u001b[0;32m    484\u001b[0m \u001b[38;5;124;03m    \"\"\"\u001b[39;00m\n\u001b[1;32m--> 485\u001b[0m     result \u001b[38;5;241m=\u001b[39m \u001b[43mnp\u001b[49m\u001b[38;5;241;43m.\u001b[39;49m\u001b[43masarray\u001b[49m\u001b[43m(\u001b[49m\u001b[38;5;28;43mself\u001b[39;49m\u001b[43m,\u001b[49m\u001b[43m \u001b[49m\u001b[43mdtype\u001b[49m\u001b[38;5;241;43m=\u001b[39;49m\u001b[43mdtype\u001b[49m\u001b[43m)\u001b[49m\n\u001b[0;32m    486\u001b[0m     \u001b[38;5;28;01mif\u001b[39;00m copy \u001b[38;5;129;01mor\u001b[39;00m na_value \u001b[38;5;129;01mis\u001b[39;00m \u001b[38;5;129;01mnot\u001b[39;00m lib\u001b[38;5;241m.\u001b[39mno_default:\n\u001b[0;32m    487\u001b[0m         result \u001b[38;5;241m=\u001b[39m result\u001b[38;5;241m.\u001b[39mcopy()\n",
      "File \u001b[1;32m~\\anaconda3\\envs\\py3_10_4\\lib\\site-packages\\pandas\\core\\arrays\\_mixins.py:86\u001b[0m, in \u001b[0;36mravel_compat.<locals>.method\u001b[1;34m(self, *args, **kwargs)\u001b[0m\n\u001b[0;32m     83\u001b[0m \u001b[38;5;129m@wraps\u001b[39m(meth)\n\u001b[0;32m     84\u001b[0m \u001b[38;5;28;01mdef\u001b[39;00m \u001b[38;5;21mmethod\u001b[39m(\u001b[38;5;28mself\u001b[39m, \u001b[38;5;241m*\u001b[39margs, \u001b[38;5;241m*\u001b[39m\u001b[38;5;241m*\u001b[39mkwargs):\n\u001b[0;32m     85\u001b[0m     \u001b[38;5;28;01mif\u001b[39;00m \u001b[38;5;28mself\u001b[39m\u001b[38;5;241m.\u001b[39mndim \u001b[38;5;241m==\u001b[39m \u001b[38;5;241m1\u001b[39m:\n\u001b[1;32m---> 86\u001b[0m         \u001b[38;5;28;01mreturn\u001b[39;00m meth(\u001b[38;5;28mself\u001b[39m, \u001b[38;5;241m*\u001b[39margs, \u001b[38;5;241m*\u001b[39m\u001b[38;5;241m*\u001b[39mkwargs)\n\u001b[0;32m     88\u001b[0m     flags \u001b[38;5;241m=\u001b[39m \u001b[38;5;28mself\u001b[39m\u001b[38;5;241m.\u001b[39m_ndarray\u001b[38;5;241m.\u001b[39mflags\n\u001b[0;32m     89\u001b[0m     flat \u001b[38;5;241m=\u001b[39m \u001b[38;5;28mself\u001b[39m\u001b[38;5;241m.\u001b[39mravel(\u001b[38;5;124m\"\u001b[39m\u001b[38;5;124mK\u001b[39m\u001b[38;5;124m\"\u001b[39m)\n",
      "File \u001b[1;32m~\\anaconda3\\envs\\py3_10_4\\lib\\site-packages\\pandas\\core\\arrays\\categorical.py:1344\u001b[0m, in \u001b[0;36mCategorical.__array__\u001b[1;34m(self, dtype)\u001b[0m\n\u001b[0;32m   1342\u001b[0m ret \u001b[38;5;241m=\u001b[39m take_nd(\u001b[38;5;28mself\u001b[39m\u001b[38;5;241m.\u001b[39mcategories\u001b[38;5;241m.\u001b[39m_values, \u001b[38;5;28mself\u001b[39m\u001b[38;5;241m.\u001b[39m_codes)\n\u001b[0;32m   1343\u001b[0m \u001b[38;5;28;01mif\u001b[39;00m dtype \u001b[38;5;129;01mand\u001b[39;00m \u001b[38;5;129;01mnot\u001b[39;00m is_dtype_equal(dtype, \u001b[38;5;28mself\u001b[39m\u001b[38;5;241m.\u001b[39mcategories\u001b[38;5;241m.\u001b[39mdtype):\n\u001b[1;32m-> 1344\u001b[0m     \u001b[38;5;28;01mreturn\u001b[39;00m \u001b[43mnp\u001b[49m\u001b[38;5;241;43m.\u001b[39;49m\u001b[43masarray\u001b[49m\u001b[43m(\u001b[49m\u001b[43mret\u001b[49m\u001b[43m,\u001b[49m\u001b[43m \u001b[49m\u001b[43mdtype\u001b[49m\u001b[43m)\u001b[49m\n\u001b[0;32m   1345\u001b[0m \u001b[38;5;66;03m# When we're a Categorical[ExtensionArray], like Interval,\u001b[39;00m\n\u001b[0;32m   1346\u001b[0m \u001b[38;5;66;03m# we need to ensure __array__ gets all the way to an\u001b[39;00m\n\u001b[0;32m   1347\u001b[0m \u001b[38;5;66;03m# ndarray.\u001b[39;00m\n\u001b[0;32m   1348\u001b[0m \u001b[38;5;28;01mreturn\u001b[39;00m np\u001b[38;5;241m.\u001b[39masarray(ret)\n",
      "\u001b[1;31mValueError\u001b[0m: could not convert string to float: 'NO'"
     ]
    }
   ],
   "source": [
    "df.corr()"
   ]
  },
  {
   "cell_type": "code",
   "execution_count": 72,
   "id": "d36d250c",
   "metadata": {},
   "outputs": [
    {
     "ename": "ValueError",
     "evalue": "could not convert string to float: 'NO'",
     "output_type": "error",
     "traceback": [
      "\u001b[1;31m---------------------------------------------------------------------------\u001b[0m",
      "\u001b[1;31mValueError\u001b[0m                                Traceback (most recent call last)",
      "Cell \u001b[1;32mIn[72], line 2\u001b[0m\n\u001b[0;32m      1\u001b[0m plt\u001b[38;5;241m.\u001b[39mfigure(figsize\u001b[38;5;241m=\u001b[39m(\u001b[38;5;241m40\u001b[39m,\u001b[38;5;241m40\u001b[39m))\n\u001b[1;32m----> 2\u001b[0m sns\u001b[38;5;241m.\u001b[39mheatmap(\u001b[43mdf\u001b[49m\u001b[38;5;241;43m.\u001b[39;49m\u001b[43mcorr\u001b[49m\u001b[43m(\u001b[49m\u001b[43m)\u001b[49m\u001b[38;5;241m.\u001b[39mround(\u001b[38;5;241m1\u001b[39m),vmin\u001b[38;5;241m=\u001b[39m df\u001b[38;5;241m.\u001b[39mcorr()\u001b[38;5;241m.\u001b[39mvalues\u001b[38;5;241m.\u001b[39mmin(),vmax\u001b[38;5;241m=\u001b[39m\u001b[38;5;241m1.0\u001b[39m,cmap\u001b[38;5;241m=\u001b[39m\u001b[38;5;124m\"\u001b[39m\u001b[38;5;124mGnBu\u001b[39m\u001b[38;5;124m\"\u001b[39m,square \u001b[38;5;241m=\u001b[39m \u001b[38;5;28;01mTrue\u001b[39;00m,annot\u001b[38;5;241m=\u001b[39m\u001b[38;5;28;01mTrue\u001b[39;00m, annot_kws\u001b[38;5;241m=\u001b[39m{\u001b[38;5;124m\"\u001b[39m\u001b[38;5;124mfontsize\u001b[39m\u001b[38;5;124m\"\u001b[39m:\u001b[38;5;241m20\u001b[39m})\n\u001b[0;32m      3\u001b[0m sns\u001b[38;5;241m.\u001b[39mset(font_scale\u001b[38;5;241m=\u001b[39m\u001b[38;5;241m2\u001b[39m)\n",
      "File \u001b[1;32m~\\anaconda3\\envs\\py3_10_4\\lib\\site-packages\\pandas\\core\\frame.py:10054\u001b[0m, in \u001b[0;36mDataFrame.corr\u001b[1;34m(self, method, min_periods, numeric_only)\u001b[0m\n\u001b[0;32m  10052\u001b[0m cols \u001b[38;5;241m=\u001b[39m data\u001b[38;5;241m.\u001b[39mcolumns\n\u001b[0;32m  10053\u001b[0m idx \u001b[38;5;241m=\u001b[39m cols\u001b[38;5;241m.\u001b[39mcopy()\n\u001b[1;32m> 10054\u001b[0m mat \u001b[38;5;241m=\u001b[39m \u001b[43mdata\u001b[49m\u001b[38;5;241;43m.\u001b[39;49m\u001b[43mto_numpy\u001b[49m\u001b[43m(\u001b[49m\u001b[43mdtype\u001b[49m\u001b[38;5;241;43m=\u001b[39;49m\u001b[38;5;28;43mfloat\u001b[39;49m\u001b[43m,\u001b[49m\u001b[43m \u001b[49m\u001b[43mna_value\u001b[49m\u001b[38;5;241;43m=\u001b[39;49m\u001b[43mnp\u001b[49m\u001b[38;5;241;43m.\u001b[39;49m\u001b[43mnan\u001b[49m\u001b[43m,\u001b[49m\u001b[43m \u001b[49m\u001b[43mcopy\u001b[49m\u001b[38;5;241;43m=\u001b[39;49m\u001b[38;5;28;43;01mFalse\u001b[39;49;00m\u001b[43m)\u001b[49m\n\u001b[0;32m  10056\u001b[0m \u001b[38;5;28;01mif\u001b[39;00m method \u001b[38;5;241m==\u001b[39m \u001b[38;5;124m\"\u001b[39m\u001b[38;5;124mpearson\u001b[39m\u001b[38;5;124m\"\u001b[39m:\n\u001b[0;32m  10057\u001b[0m     correl \u001b[38;5;241m=\u001b[39m libalgos\u001b[38;5;241m.\u001b[39mnancorr(mat, minp\u001b[38;5;241m=\u001b[39mmin_periods)\n",
      "File \u001b[1;32m~\\anaconda3\\envs\\py3_10_4\\lib\\site-packages\\pandas\\core\\frame.py:1838\u001b[0m, in \u001b[0;36mDataFrame.to_numpy\u001b[1;34m(self, dtype, copy, na_value)\u001b[0m\n\u001b[0;32m   1836\u001b[0m \u001b[38;5;28;01mif\u001b[39;00m dtype \u001b[38;5;129;01mis\u001b[39;00m \u001b[38;5;129;01mnot\u001b[39;00m \u001b[38;5;28;01mNone\u001b[39;00m:\n\u001b[0;32m   1837\u001b[0m     dtype \u001b[38;5;241m=\u001b[39m np\u001b[38;5;241m.\u001b[39mdtype(dtype)\n\u001b[1;32m-> 1838\u001b[0m result \u001b[38;5;241m=\u001b[39m \u001b[38;5;28;43mself\u001b[39;49m\u001b[38;5;241;43m.\u001b[39;49m\u001b[43m_mgr\u001b[49m\u001b[38;5;241;43m.\u001b[39;49m\u001b[43mas_array\u001b[49m\u001b[43m(\u001b[49m\u001b[43mdtype\u001b[49m\u001b[38;5;241;43m=\u001b[39;49m\u001b[43mdtype\u001b[49m\u001b[43m,\u001b[49m\u001b[43m \u001b[49m\u001b[43mcopy\u001b[49m\u001b[38;5;241;43m=\u001b[39;49m\u001b[43mcopy\u001b[49m\u001b[43m,\u001b[49m\u001b[43m \u001b[49m\u001b[43mna_value\u001b[49m\u001b[38;5;241;43m=\u001b[39;49m\u001b[43mna_value\u001b[49m\u001b[43m)\u001b[49m\n\u001b[0;32m   1839\u001b[0m \u001b[38;5;28;01mif\u001b[39;00m result\u001b[38;5;241m.\u001b[39mdtype \u001b[38;5;129;01mis\u001b[39;00m \u001b[38;5;129;01mnot\u001b[39;00m dtype:\n\u001b[0;32m   1840\u001b[0m     result \u001b[38;5;241m=\u001b[39m np\u001b[38;5;241m.\u001b[39marray(result, dtype\u001b[38;5;241m=\u001b[39mdtype, copy\u001b[38;5;241m=\u001b[39m\u001b[38;5;28;01mFalse\u001b[39;00m)\n",
      "File \u001b[1;32m~\\anaconda3\\envs\\py3_10_4\\lib\\site-packages\\pandas\\core\\internals\\managers.py:1732\u001b[0m, in \u001b[0;36mBlockManager.as_array\u001b[1;34m(self, dtype, copy, na_value)\u001b[0m\n\u001b[0;32m   1730\u001b[0m         arr\u001b[38;5;241m.\u001b[39mflags\u001b[38;5;241m.\u001b[39mwriteable \u001b[38;5;241m=\u001b[39m \u001b[38;5;28;01mFalse\u001b[39;00m\n\u001b[0;32m   1731\u001b[0m \u001b[38;5;28;01melse\u001b[39;00m:\n\u001b[1;32m-> 1732\u001b[0m     arr \u001b[38;5;241m=\u001b[39m \u001b[38;5;28;43mself\u001b[39;49m\u001b[38;5;241;43m.\u001b[39;49m\u001b[43m_interleave\u001b[49m\u001b[43m(\u001b[49m\u001b[43mdtype\u001b[49m\u001b[38;5;241;43m=\u001b[39;49m\u001b[43mdtype\u001b[49m\u001b[43m,\u001b[49m\u001b[43m \u001b[49m\u001b[43mna_value\u001b[49m\u001b[38;5;241;43m=\u001b[39;49m\u001b[43mna_value\u001b[49m\u001b[43m)\u001b[49m\n\u001b[0;32m   1733\u001b[0m     \u001b[38;5;66;03m# The underlying data was copied within _interleave, so no need\u001b[39;00m\n\u001b[0;32m   1734\u001b[0m     \u001b[38;5;66;03m# to further copy if copy=True or setting na_value\u001b[39;00m\n\u001b[0;32m   1736\u001b[0m \u001b[38;5;28;01mif\u001b[39;00m na_value \u001b[38;5;129;01mis\u001b[39;00m \u001b[38;5;129;01mnot\u001b[39;00m lib\u001b[38;5;241m.\u001b[39mno_default:\n",
      "File \u001b[1;32m~\\anaconda3\\envs\\py3_10_4\\lib\\site-packages\\pandas\\core\\internals\\managers.py:1788\u001b[0m, in \u001b[0;36mBlockManager._interleave\u001b[1;34m(self, dtype, na_value)\u001b[0m\n\u001b[0;32m   1782\u001b[0m rl \u001b[38;5;241m=\u001b[39m blk\u001b[38;5;241m.\u001b[39mmgr_locs\n\u001b[0;32m   1783\u001b[0m \u001b[38;5;28;01mif\u001b[39;00m blk\u001b[38;5;241m.\u001b[39mis_extension:\n\u001b[0;32m   1784\u001b[0m     \u001b[38;5;66;03m# Avoid implicit conversion of extension blocks to object\u001b[39;00m\n\u001b[0;32m   1785\u001b[0m \n\u001b[0;32m   1786\u001b[0m     \u001b[38;5;66;03m# error: Item \"ndarray\" of \"Union[ndarray, ExtensionArray]\" has no\u001b[39;00m\n\u001b[0;32m   1787\u001b[0m     \u001b[38;5;66;03m# attribute \"to_numpy\"\u001b[39;00m\n\u001b[1;32m-> 1788\u001b[0m     arr \u001b[38;5;241m=\u001b[39m \u001b[43mblk\u001b[49m\u001b[38;5;241;43m.\u001b[39;49m\u001b[43mvalues\u001b[49m\u001b[38;5;241;43m.\u001b[39;49m\u001b[43mto_numpy\u001b[49m\u001b[43m(\u001b[49m\u001b[43m  \u001b[49m\u001b[38;5;66;43;03m# type: ignore[union-attr]\u001b[39;49;00m\n\u001b[0;32m   1789\u001b[0m \u001b[43m        \u001b[49m\u001b[43mdtype\u001b[49m\u001b[38;5;241;43m=\u001b[39;49m\u001b[43mdtype\u001b[49m\u001b[43m,\u001b[49m\n\u001b[0;32m   1790\u001b[0m \u001b[43m        \u001b[49m\u001b[43mna_value\u001b[49m\u001b[38;5;241;43m=\u001b[39;49m\u001b[43mna_value\u001b[49m\u001b[43m,\u001b[49m\n\u001b[0;32m   1791\u001b[0m \u001b[43m    \u001b[49m\u001b[43m)\u001b[49m\n\u001b[0;32m   1792\u001b[0m \u001b[38;5;28;01melse\u001b[39;00m:\n\u001b[0;32m   1793\u001b[0m     arr \u001b[38;5;241m=\u001b[39m blk\u001b[38;5;241m.\u001b[39mget_values(dtype)\n",
      "File \u001b[1;32m~\\anaconda3\\envs\\py3_10_4\\lib\\site-packages\\pandas\\core\\arrays\\base.py:485\u001b[0m, in \u001b[0;36mExtensionArray.to_numpy\u001b[1;34m(self, dtype, copy, na_value)\u001b[0m\n\u001b[0;32m    456\u001b[0m \u001b[38;5;28;01mdef\u001b[39;00m \u001b[38;5;21mto_numpy\u001b[39m(\n\u001b[0;32m    457\u001b[0m     \u001b[38;5;28mself\u001b[39m,\n\u001b[0;32m    458\u001b[0m     dtype: npt\u001b[38;5;241m.\u001b[39mDTypeLike \u001b[38;5;241m|\u001b[39m \u001b[38;5;28;01mNone\u001b[39;00m \u001b[38;5;241m=\u001b[39m \u001b[38;5;28;01mNone\u001b[39;00m,\n\u001b[0;32m    459\u001b[0m     copy: \u001b[38;5;28mbool\u001b[39m \u001b[38;5;241m=\u001b[39m \u001b[38;5;28;01mFalse\u001b[39;00m,\n\u001b[0;32m    460\u001b[0m     na_value: \u001b[38;5;28mobject\u001b[39m \u001b[38;5;241m=\u001b[39m lib\u001b[38;5;241m.\u001b[39mno_default,\n\u001b[0;32m    461\u001b[0m ) \u001b[38;5;241m-\u001b[39m\u001b[38;5;241m>\u001b[39m np\u001b[38;5;241m.\u001b[39mndarray:\n\u001b[0;32m    462\u001b[0m \u001b[38;5;250m    \u001b[39m\u001b[38;5;124;03m\"\"\"\u001b[39;00m\n\u001b[0;32m    463\u001b[0m \u001b[38;5;124;03m    Convert to a NumPy ndarray.\u001b[39;00m\n\u001b[0;32m    464\u001b[0m \n\u001b[1;32m   (...)\u001b[0m\n\u001b[0;32m    483\u001b[0m \u001b[38;5;124;03m    numpy.ndarray\u001b[39;00m\n\u001b[0;32m    484\u001b[0m \u001b[38;5;124;03m    \"\"\"\u001b[39;00m\n\u001b[1;32m--> 485\u001b[0m     result \u001b[38;5;241m=\u001b[39m \u001b[43mnp\u001b[49m\u001b[38;5;241;43m.\u001b[39;49m\u001b[43masarray\u001b[49m\u001b[43m(\u001b[49m\u001b[38;5;28;43mself\u001b[39;49m\u001b[43m,\u001b[49m\u001b[43m \u001b[49m\u001b[43mdtype\u001b[49m\u001b[38;5;241;43m=\u001b[39;49m\u001b[43mdtype\u001b[49m\u001b[43m)\u001b[49m\n\u001b[0;32m    486\u001b[0m     \u001b[38;5;28;01mif\u001b[39;00m copy \u001b[38;5;129;01mor\u001b[39;00m na_value \u001b[38;5;129;01mis\u001b[39;00m \u001b[38;5;129;01mnot\u001b[39;00m lib\u001b[38;5;241m.\u001b[39mno_default:\n\u001b[0;32m    487\u001b[0m         result \u001b[38;5;241m=\u001b[39m result\u001b[38;5;241m.\u001b[39mcopy()\n",
      "File \u001b[1;32m~\\anaconda3\\envs\\py3_10_4\\lib\\site-packages\\pandas\\core\\arrays\\_mixins.py:86\u001b[0m, in \u001b[0;36mravel_compat.<locals>.method\u001b[1;34m(self, *args, **kwargs)\u001b[0m\n\u001b[0;32m     83\u001b[0m \u001b[38;5;129m@wraps\u001b[39m(meth)\n\u001b[0;32m     84\u001b[0m \u001b[38;5;28;01mdef\u001b[39;00m \u001b[38;5;21mmethod\u001b[39m(\u001b[38;5;28mself\u001b[39m, \u001b[38;5;241m*\u001b[39margs, \u001b[38;5;241m*\u001b[39m\u001b[38;5;241m*\u001b[39mkwargs):\n\u001b[0;32m     85\u001b[0m     \u001b[38;5;28;01mif\u001b[39;00m \u001b[38;5;28mself\u001b[39m\u001b[38;5;241m.\u001b[39mndim \u001b[38;5;241m==\u001b[39m \u001b[38;5;241m1\u001b[39m:\n\u001b[1;32m---> 86\u001b[0m         \u001b[38;5;28;01mreturn\u001b[39;00m meth(\u001b[38;5;28mself\u001b[39m, \u001b[38;5;241m*\u001b[39margs, \u001b[38;5;241m*\u001b[39m\u001b[38;5;241m*\u001b[39mkwargs)\n\u001b[0;32m     88\u001b[0m     flags \u001b[38;5;241m=\u001b[39m \u001b[38;5;28mself\u001b[39m\u001b[38;5;241m.\u001b[39m_ndarray\u001b[38;5;241m.\u001b[39mflags\n\u001b[0;32m     89\u001b[0m     flat \u001b[38;5;241m=\u001b[39m \u001b[38;5;28mself\u001b[39m\u001b[38;5;241m.\u001b[39mravel(\u001b[38;5;124m\"\u001b[39m\u001b[38;5;124mK\u001b[39m\u001b[38;5;124m\"\u001b[39m)\n",
      "File \u001b[1;32m~\\anaconda3\\envs\\py3_10_4\\lib\\site-packages\\pandas\\core\\arrays\\categorical.py:1344\u001b[0m, in \u001b[0;36mCategorical.__array__\u001b[1;34m(self, dtype)\u001b[0m\n\u001b[0;32m   1342\u001b[0m ret \u001b[38;5;241m=\u001b[39m take_nd(\u001b[38;5;28mself\u001b[39m\u001b[38;5;241m.\u001b[39mcategories\u001b[38;5;241m.\u001b[39m_values, \u001b[38;5;28mself\u001b[39m\u001b[38;5;241m.\u001b[39m_codes)\n\u001b[0;32m   1343\u001b[0m \u001b[38;5;28;01mif\u001b[39;00m dtype \u001b[38;5;129;01mand\u001b[39;00m \u001b[38;5;129;01mnot\u001b[39;00m is_dtype_equal(dtype, \u001b[38;5;28mself\u001b[39m\u001b[38;5;241m.\u001b[39mcategories\u001b[38;5;241m.\u001b[39mdtype):\n\u001b[1;32m-> 1344\u001b[0m     \u001b[38;5;28;01mreturn\u001b[39;00m \u001b[43mnp\u001b[49m\u001b[38;5;241;43m.\u001b[39;49m\u001b[43masarray\u001b[49m\u001b[43m(\u001b[49m\u001b[43mret\u001b[49m\u001b[43m,\u001b[49m\u001b[43m \u001b[49m\u001b[43mdtype\u001b[49m\u001b[43m)\u001b[49m\n\u001b[0;32m   1345\u001b[0m \u001b[38;5;66;03m# When we're a Categorical[ExtensionArray], like Interval,\u001b[39;00m\n\u001b[0;32m   1346\u001b[0m \u001b[38;5;66;03m# we need to ensure __array__ gets all the way to an\u001b[39;00m\n\u001b[0;32m   1347\u001b[0m \u001b[38;5;66;03m# ndarray.\u001b[39;00m\n\u001b[0;32m   1348\u001b[0m \u001b[38;5;28;01mreturn\u001b[39;00m np\u001b[38;5;241m.\u001b[39masarray(ret)\n",
      "\u001b[1;31mValueError\u001b[0m: could not convert string to float: 'NO'"
     ]
    },
    {
     "data": {
      "text/plain": [
       "<Figure size 4000x4000 with 0 Axes>"
      ]
     },
     "metadata": {},
     "output_type": "display_data"
    }
   ],
   "source": [
    "plt.figure(figsize=(40,40))\n",
    "sns.heatmap(df.corr().round(1),vmin= df.corr().values.min(),vmax=1.0,cmap=\"GnBu\",square = True,annot=True, annot_kws={\"fontsize\":20})\n",
    "sns.set(font_scale=2)"
   ]
  },
  {
   "cell_type": "code",
   "execution_count": 179,
   "id": "7fc1fb0d",
   "metadata": {},
   "outputs": [
    {
     "ename": "TypeError",
     "evalue": "'Categorical' with dtype category does not support reduction 'mean'",
     "output_type": "error",
     "traceback": [
      "\u001b[1;31m---------------------------------------------------------------------------\u001b[0m",
      "\u001b[1;31mNotImplementedError\u001b[0m                       Traceback (most recent call last)",
      "File \u001b[1;32m~\\anaconda3\\envs\\py3_10_4\\lib\\site-packages\\pandas\\core\\groupby\\groupby.py:1490\u001b[0m, in \u001b[0;36mGroupBy._cython_agg_general.<locals>.array_func\u001b[1;34m(values)\u001b[0m\n\u001b[0;32m   1489\u001b[0m \u001b[38;5;28;01mtry\u001b[39;00m:\n\u001b[1;32m-> 1490\u001b[0m     result \u001b[38;5;241m=\u001b[39m \u001b[38;5;28mself\u001b[39m\u001b[38;5;241m.\u001b[39mgrouper\u001b[38;5;241m.\u001b[39m_cython_operation(\n\u001b[0;32m   1491\u001b[0m         \u001b[38;5;124m\"\u001b[39m\u001b[38;5;124maggregate\u001b[39m\u001b[38;5;124m\"\u001b[39m,\n\u001b[0;32m   1492\u001b[0m         values,\n\u001b[0;32m   1493\u001b[0m         how,\n\u001b[0;32m   1494\u001b[0m         axis\u001b[38;5;241m=\u001b[39mdata\u001b[38;5;241m.\u001b[39mndim \u001b[38;5;241m-\u001b[39m \u001b[38;5;241m1\u001b[39m,\n\u001b[0;32m   1495\u001b[0m         min_count\u001b[38;5;241m=\u001b[39mmin_count,\n\u001b[0;32m   1496\u001b[0m         \u001b[38;5;241m*\u001b[39m\u001b[38;5;241m*\u001b[39mkwargs,\n\u001b[0;32m   1497\u001b[0m     )\n\u001b[0;32m   1498\u001b[0m \u001b[38;5;28;01mexcept\u001b[39;00m \u001b[38;5;167;01mNotImplementedError\u001b[39;00m:\n\u001b[0;32m   1499\u001b[0m     \u001b[38;5;66;03m# generally if we have numeric_only=False\u001b[39;00m\n\u001b[0;32m   1500\u001b[0m     \u001b[38;5;66;03m# and non-applicable functions\u001b[39;00m\n\u001b[0;32m   1501\u001b[0m     \u001b[38;5;66;03m# try to python agg\u001b[39;00m\n\u001b[0;32m   1502\u001b[0m     \u001b[38;5;66;03m# TODO: shouldn't min_count matter?\u001b[39;00m\n",
      "File \u001b[1;32m~\\anaconda3\\envs\\py3_10_4\\lib\\site-packages\\pandas\\core\\groupby\\ops.py:959\u001b[0m, in \u001b[0;36mBaseGrouper._cython_operation\u001b[1;34m(self, kind, values, how, axis, min_count, **kwargs)\u001b[0m\n\u001b[0;32m    958\u001b[0m ngroups \u001b[38;5;241m=\u001b[39m \u001b[38;5;28mself\u001b[39m\u001b[38;5;241m.\u001b[39mngroups\n\u001b[1;32m--> 959\u001b[0m \u001b[38;5;28;01mreturn\u001b[39;00m cy_op\u001b[38;5;241m.\u001b[39mcython_operation(\n\u001b[0;32m    960\u001b[0m     values\u001b[38;5;241m=\u001b[39mvalues,\n\u001b[0;32m    961\u001b[0m     axis\u001b[38;5;241m=\u001b[39maxis,\n\u001b[0;32m    962\u001b[0m     min_count\u001b[38;5;241m=\u001b[39mmin_count,\n\u001b[0;32m    963\u001b[0m     comp_ids\u001b[38;5;241m=\u001b[39mids,\n\u001b[0;32m    964\u001b[0m     ngroups\u001b[38;5;241m=\u001b[39mngroups,\n\u001b[0;32m    965\u001b[0m     \u001b[38;5;241m*\u001b[39m\u001b[38;5;241m*\u001b[39mkwargs,\n\u001b[0;32m    966\u001b[0m )\n",
      "File \u001b[1;32m~\\anaconda3\\envs\\py3_10_4\\lib\\site-packages\\pandas\\core\\groupby\\ops.py:645\u001b[0m, in \u001b[0;36mWrappedCythonOp.cython_operation\u001b[1;34m(self, values, axis, min_count, comp_ids, ngroups, **kwargs)\u001b[0m\n\u001b[0;32m    643\u001b[0m \u001b[38;5;66;03m# can we do this operation with our cython functions\u001b[39;00m\n\u001b[0;32m    644\u001b[0m \u001b[38;5;66;03m# if not raise NotImplementedError\u001b[39;00m\n\u001b[1;32m--> 645\u001b[0m \u001b[38;5;28;43mself\u001b[39;49m\u001b[38;5;241;43m.\u001b[39;49m\u001b[43m_disallow_invalid_ops\u001b[49m\u001b[43m(\u001b[49m\u001b[43mdtype\u001b[49m\u001b[43m,\u001b[49m\u001b[43m \u001b[49m\u001b[43mis_numeric\u001b[49m\u001b[43m)\u001b[49m\n\u001b[0;32m    647\u001b[0m \u001b[38;5;28;01mif\u001b[39;00m \u001b[38;5;129;01mnot\u001b[39;00m \u001b[38;5;28misinstance\u001b[39m(values, np\u001b[38;5;241m.\u001b[39mndarray):\n\u001b[0;32m    648\u001b[0m     \u001b[38;5;66;03m# i.e. ExtensionArray\u001b[39;00m\n",
      "File \u001b[1;32m~\\anaconda3\\envs\\py3_10_4\\lib\\site-packages\\pandas\\core\\groupby\\ops.py:250\u001b[0m, in \u001b[0;36mWrappedCythonOp._disallow_invalid_ops\u001b[1;34m(self, dtype, is_numeric)\u001b[0m\n\u001b[0;32m    248\u001b[0m     \u001b[38;5;28;01mif\u001b[39;00m how \u001b[38;5;129;01mnot\u001b[39;00m \u001b[38;5;129;01min\u001b[39;00m [\u001b[38;5;124m\"\u001b[39m\u001b[38;5;124mrank\u001b[39m\u001b[38;5;124m\"\u001b[39m]:\n\u001b[0;32m    249\u001b[0m         \u001b[38;5;66;03m# only \"rank\" is implemented in cython\u001b[39;00m\n\u001b[1;32m--> 250\u001b[0m         \u001b[38;5;28;01mraise\u001b[39;00m \u001b[38;5;167;01mNotImplementedError\u001b[39;00m(\u001b[38;5;124mf\u001b[39m\u001b[38;5;124m\"\u001b[39m\u001b[38;5;132;01m{\u001b[39;00mdtype\u001b[38;5;132;01m}\u001b[39;00m\u001b[38;5;124m dtype not supported\u001b[39m\u001b[38;5;124m\"\u001b[39m)\n\u001b[0;32m    252\u001b[0m \u001b[38;5;28;01melif\u001b[39;00m is_sparse(dtype):\n",
      "\u001b[1;31mNotImplementedError\u001b[0m: category dtype not supported",
      "\nDuring handling of the above exception, another exception occurred:\n",
      "\u001b[1;31mTypeError\u001b[0m                                 Traceback (most recent call last)",
      "Cell \u001b[1;32mIn[179], line 1\u001b[0m\n\u001b[1;32m----> 1\u001b[0m numerical\u001b[38;5;241m=\u001b[39m\u001b[43mdf\u001b[49m\u001b[38;5;241;43m.\u001b[39;49m\u001b[43mgroupby\u001b[49m\u001b[43m(\u001b[49m\u001b[43mby\u001b[49m\u001b[38;5;241;43m=\u001b[39;49m\u001b[43mdf\u001b[49m\u001b[38;5;241;43m.\u001b[39;49m\u001b[43mMortality\u001b[49m\u001b[43m)\u001b[49m\u001b[38;5;241;43m.\u001b[39;49m\u001b[43mmean\u001b[49m\u001b[43m(\u001b[49m\u001b[43m)\u001b[49m\u001b[38;5;241m.\u001b[39mT\u001b[38;5;241m.\u001b[39msort_values(by\u001b[38;5;241m=\u001b[39m\u001b[38;5;124m\"\u001b[39m\u001b[38;5;124mDied\u001b[39m\u001b[38;5;124m\"\u001b[39m,ascending\u001b[38;5;241m=\u001b[39m\u001b[38;5;28;01mFalse\u001b[39;00m)\u001b[38;5;241m.\u001b[39mstyle\u001b[38;5;241m.\u001b[39mhighlight_max(axis\u001b[38;5;241m=\u001b[39m\u001b[38;5;241m1\u001b[39m, color \u001b[38;5;241m=\u001b[39m \u001b[38;5;124m\"\u001b[39m\u001b[38;5;124myellow\u001b[39m\u001b[38;5;124m\"\u001b[39m)\n\u001b[0;32m      2\u001b[0m numerical\n",
      "File \u001b[1;32m~\\anaconda3\\envs\\py3_10_4\\lib\\site-packages\\pandas\\core\\groupby\\groupby.py:1855\u001b[0m, in \u001b[0;36mGroupBy.mean\u001b[1;34m(self, numeric_only, engine, engine_kwargs)\u001b[0m\n\u001b[0;32m   1853\u001b[0m     \u001b[38;5;28;01mreturn\u001b[39;00m \u001b[38;5;28mself\u001b[39m\u001b[38;5;241m.\u001b[39m_numba_agg_general(sliding_mean, engine_kwargs)\n\u001b[0;32m   1854\u001b[0m \u001b[38;5;28;01melse\u001b[39;00m:\n\u001b[1;32m-> 1855\u001b[0m     result \u001b[38;5;241m=\u001b[39m \u001b[38;5;28;43mself\u001b[39;49m\u001b[38;5;241;43m.\u001b[39;49m\u001b[43m_cython_agg_general\u001b[49m\u001b[43m(\u001b[49m\n\u001b[0;32m   1856\u001b[0m \u001b[43m        \u001b[49m\u001b[38;5;124;43m\"\u001b[39;49m\u001b[38;5;124;43mmean\u001b[39;49m\u001b[38;5;124;43m\"\u001b[39;49m\u001b[43m,\u001b[49m\n\u001b[0;32m   1857\u001b[0m \u001b[43m        \u001b[49m\u001b[43malt\u001b[49m\u001b[38;5;241;43m=\u001b[39;49m\u001b[38;5;28;43;01mlambda\u001b[39;49;00m\u001b[43m \u001b[49m\u001b[43mx\u001b[49m\u001b[43m:\u001b[49m\u001b[43m \u001b[49m\u001b[43mSeries\u001b[49m\u001b[43m(\u001b[49m\u001b[43mx\u001b[49m\u001b[43m)\u001b[49m\u001b[38;5;241;43m.\u001b[39;49m\u001b[43mmean\u001b[49m\u001b[43m(\u001b[49m\u001b[43mnumeric_only\u001b[49m\u001b[38;5;241;43m=\u001b[39;49m\u001b[43mnumeric_only\u001b[49m\u001b[43m)\u001b[49m\u001b[43m,\u001b[49m\n\u001b[0;32m   1858\u001b[0m \u001b[43m        \u001b[49m\u001b[43mnumeric_only\u001b[49m\u001b[38;5;241;43m=\u001b[39;49m\u001b[43mnumeric_only\u001b[49m\u001b[43m,\u001b[49m\n\u001b[0;32m   1859\u001b[0m \u001b[43m    \u001b[49m\u001b[43m)\u001b[49m\n\u001b[0;32m   1860\u001b[0m     \u001b[38;5;28;01mreturn\u001b[39;00m result\u001b[38;5;241m.\u001b[39m__finalize__(\u001b[38;5;28mself\u001b[39m\u001b[38;5;241m.\u001b[39mobj, method\u001b[38;5;241m=\u001b[39m\u001b[38;5;124m\"\u001b[39m\u001b[38;5;124mgroupby\u001b[39m\u001b[38;5;124m\"\u001b[39m)\n",
      "File \u001b[1;32m~\\anaconda3\\envs\\py3_10_4\\lib\\site-packages\\pandas\\core\\groupby\\groupby.py:1507\u001b[0m, in \u001b[0;36mGroupBy._cython_agg_general\u001b[1;34m(self, how, alt, numeric_only, min_count, **kwargs)\u001b[0m\n\u001b[0;32m   1503\u001b[0m         result \u001b[38;5;241m=\u001b[39m \u001b[38;5;28mself\u001b[39m\u001b[38;5;241m.\u001b[39m_agg_py_fallback(values, ndim\u001b[38;5;241m=\u001b[39mdata\u001b[38;5;241m.\u001b[39mndim, alt\u001b[38;5;241m=\u001b[39malt)\n\u001b[0;32m   1505\u001b[0m     \u001b[38;5;28;01mreturn\u001b[39;00m result\n\u001b[1;32m-> 1507\u001b[0m new_mgr \u001b[38;5;241m=\u001b[39m \u001b[43mdata\u001b[49m\u001b[38;5;241;43m.\u001b[39;49m\u001b[43mgrouped_reduce\u001b[49m\u001b[43m(\u001b[49m\u001b[43marray_func\u001b[49m\u001b[43m)\u001b[49m\n\u001b[0;32m   1508\u001b[0m res \u001b[38;5;241m=\u001b[39m \u001b[38;5;28mself\u001b[39m\u001b[38;5;241m.\u001b[39m_wrap_agged_manager(new_mgr)\n\u001b[0;32m   1509\u001b[0m out \u001b[38;5;241m=\u001b[39m \u001b[38;5;28mself\u001b[39m\u001b[38;5;241m.\u001b[39m_wrap_aggregated_output(res)\n",
      "File \u001b[1;32m~\\anaconda3\\envs\\py3_10_4\\lib\\site-packages\\pandas\\core\\internals\\managers.py:1506\u001b[0m, in \u001b[0;36mBlockManager.grouped_reduce\u001b[1;34m(self, func)\u001b[0m\n\u001b[0;32m   1504\u001b[0m             result_blocks \u001b[38;5;241m=\u001b[39m extend_blocks(applied, result_blocks)\n\u001b[0;32m   1505\u001b[0m     \u001b[38;5;28;01melse\u001b[39;00m:\n\u001b[1;32m-> 1506\u001b[0m         applied \u001b[38;5;241m=\u001b[39m \u001b[43mblk\u001b[49m\u001b[38;5;241;43m.\u001b[39;49m\u001b[43mapply\u001b[49m\u001b[43m(\u001b[49m\u001b[43mfunc\u001b[49m\u001b[43m)\u001b[49m\n\u001b[0;32m   1507\u001b[0m         result_blocks \u001b[38;5;241m=\u001b[39m extend_blocks(applied, result_blocks)\n\u001b[0;32m   1509\u001b[0m \u001b[38;5;28;01mif\u001b[39;00m \u001b[38;5;28mlen\u001b[39m(result_blocks) \u001b[38;5;241m==\u001b[39m \u001b[38;5;241m0\u001b[39m:\n",
      "File \u001b[1;32m~\\anaconda3\\envs\\py3_10_4\\lib\\site-packages\\pandas\\core\\internals\\blocks.py:329\u001b[0m, in \u001b[0;36mBlock.apply\u001b[1;34m(self, func, **kwargs)\u001b[0m\n\u001b[0;32m    323\u001b[0m \u001b[38;5;129m@final\u001b[39m\n\u001b[0;32m    324\u001b[0m \u001b[38;5;28;01mdef\u001b[39;00m \u001b[38;5;21mapply\u001b[39m(\u001b[38;5;28mself\u001b[39m, func, \u001b[38;5;241m*\u001b[39m\u001b[38;5;241m*\u001b[39mkwargs) \u001b[38;5;241m-\u001b[39m\u001b[38;5;241m>\u001b[39m \u001b[38;5;28mlist\u001b[39m[Block]:\n\u001b[0;32m    325\u001b[0m \u001b[38;5;250m    \u001b[39m\u001b[38;5;124;03m\"\"\"\u001b[39;00m\n\u001b[0;32m    326\u001b[0m \u001b[38;5;124;03m    apply the function to my values; return a block if we are not\u001b[39;00m\n\u001b[0;32m    327\u001b[0m \u001b[38;5;124;03m    one\u001b[39;00m\n\u001b[0;32m    328\u001b[0m \u001b[38;5;124;03m    \"\"\"\u001b[39;00m\n\u001b[1;32m--> 329\u001b[0m     result \u001b[38;5;241m=\u001b[39m func(\u001b[38;5;28mself\u001b[39m\u001b[38;5;241m.\u001b[39mvalues, \u001b[38;5;241m*\u001b[39m\u001b[38;5;241m*\u001b[39mkwargs)\n\u001b[0;32m    331\u001b[0m     \u001b[38;5;28;01mreturn\u001b[39;00m \u001b[38;5;28mself\u001b[39m\u001b[38;5;241m.\u001b[39m_split_op_result(result)\n",
      "File \u001b[1;32m~\\anaconda3\\envs\\py3_10_4\\lib\\site-packages\\pandas\\core\\groupby\\groupby.py:1503\u001b[0m, in \u001b[0;36mGroupBy._cython_agg_general.<locals>.array_func\u001b[1;34m(values)\u001b[0m\n\u001b[0;32m   1490\u001b[0m     result \u001b[38;5;241m=\u001b[39m \u001b[38;5;28mself\u001b[39m\u001b[38;5;241m.\u001b[39mgrouper\u001b[38;5;241m.\u001b[39m_cython_operation(\n\u001b[0;32m   1491\u001b[0m         \u001b[38;5;124m\"\u001b[39m\u001b[38;5;124maggregate\u001b[39m\u001b[38;5;124m\"\u001b[39m,\n\u001b[0;32m   1492\u001b[0m         values,\n\u001b[1;32m   (...)\u001b[0m\n\u001b[0;32m   1496\u001b[0m         \u001b[38;5;241m*\u001b[39m\u001b[38;5;241m*\u001b[39mkwargs,\n\u001b[0;32m   1497\u001b[0m     )\n\u001b[0;32m   1498\u001b[0m \u001b[38;5;28;01mexcept\u001b[39;00m \u001b[38;5;167;01mNotImplementedError\u001b[39;00m:\n\u001b[0;32m   1499\u001b[0m     \u001b[38;5;66;03m# generally if we have numeric_only=False\u001b[39;00m\n\u001b[0;32m   1500\u001b[0m     \u001b[38;5;66;03m# and non-applicable functions\u001b[39;00m\n\u001b[0;32m   1501\u001b[0m     \u001b[38;5;66;03m# try to python agg\u001b[39;00m\n\u001b[0;32m   1502\u001b[0m     \u001b[38;5;66;03m# TODO: shouldn't min_count matter?\u001b[39;00m\n\u001b[1;32m-> 1503\u001b[0m     result \u001b[38;5;241m=\u001b[39m \u001b[38;5;28;43mself\u001b[39;49m\u001b[38;5;241;43m.\u001b[39;49m\u001b[43m_agg_py_fallback\u001b[49m\u001b[43m(\u001b[49m\u001b[43mvalues\u001b[49m\u001b[43m,\u001b[49m\u001b[43m \u001b[49m\u001b[43mndim\u001b[49m\u001b[38;5;241;43m=\u001b[39;49m\u001b[43mdata\u001b[49m\u001b[38;5;241;43m.\u001b[39;49m\u001b[43mndim\u001b[49m\u001b[43m,\u001b[49m\u001b[43m \u001b[49m\u001b[43malt\u001b[49m\u001b[38;5;241;43m=\u001b[39;49m\u001b[43malt\u001b[49m\u001b[43m)\u001b[49m\n\u001b[0;32m   1505\u001b[0m \u001b[38;5;28;01mreturn\u001b[39;00m result\n",
      "File \u001b[1;32m~\\anaconda3\\envs\\py3_10_4\\lib\\site-packages\\pandas\\core\\groupby\\groupby.py:1457\u001b[0m, in \u001b[0;36mGroupBy._agg_py_fallback\u001b[1;34m(self, values, ndim, alt)\u001b[0m\n\u001b[0;32m   1452\u001b[0m     ser \u001b[38;5;241m=\u001b[39m df\u001b[38;5;241m.\u001b[39miloc[:, \u001b[38;5;241m0\u001b[39m]\n\u001b[0;32m   1454\u001b[0m \u001b[38;5;66;03m# We do not get here with UDFs, so we know that our dtype\u001b[39;00m\n\u001b[0;32m   1455\u001b[0m \u001b[38;5;66;03m#  should always be preserved by the implemented aggregations\u001b[39;00m\n\u001b[0;32m   1456\u001b[0m \u001b[38;5;66;03m# TODO: Is this exactly right; see WrappedCythonOp get_result_dtype?\u001b[39;00m\n\u001b[1;32m-> 1457\u001b[0m res_values \u001b[38;5;241m=\u001b[39m \u001b[38;5;28;43mself\u001b[39;49m\u001b[38;5;241;43m.\u001b[39;49m\u001b[43mgrouper\u001b[49m\u001b[38;5;241;43m.\u001b[39;49m\u001b[43magg_series\u001b[49m\u001b[43m(\u001b[49m\u001b[43mser\u001b[49m\u001b[43m,\u001b[49m\u001b[43m \u001b[49m\u001b[43malt\u001b[49m\u001b[43m,\u001b[49m\u001b[43m \u001b[49m\u001b[43mpreserve_dtype\u001b[49m\u001b[38;5;241;43m=\u001b[39;49m\u001b[38;5;28;43;01mTrue\u001b[39;49;00m\u001b[43m)\u001b[49m\n\u001b[0;32m   1459\u001b[0m \u001b[38;5;28;01mif\u001b[39;00m \u001b[38;5;28misinstance\u001b[39m(values, Categorical):\n\u001b[0;32m   1460\u001b[0m     \u001b[38;5;66;03m# Because we only get here with known dtype-preserving\u001b[39;00m\n\u001b[0;32m   1461\u001b[0m     \u001b[38;5;66;03m#  reductions, we cast back to Categorical.\u001b[39;00m\n\u001b[0;32m   1462\u001b[0m     \u001b[38;5;66;03m# TODO: if we ever get \"rank\" working, exclude it here.\u001b[39;00m\n\u001b[0;32m   1463\u001b[0m     res_values \u001b[38;5;241m=\u001b[39m \u001b[38;5;28mtype\u001b[39m(values)\u001b[38;5;241m.\u001b[39m_from_sequence(res_values, dtype\u001b[38;5;241m=\u001b[39mvalues\u001b[38;5;241m.\u001b[39mdtype)\n",
      "File \u001b[1;32m~\\anaconda3\\envs\\py3_10_4\\lib\\site-packages\\pandas\\core\\groupby\\ops.py:994\u001b[0m, in \u001b[0;36mBaseGrouper.agg_series\u001b[1;34m(self, obj, func, preserve_dtype)\u001b[0m\n\u001b[0;32m    987\u001b[0m \u001b[38;5;28;01mif\u001b[39;00m \u001b[38;5;28mlen\u001b[39m(obj) \u001b[38;5;241m>\u001b[39m \u001b[38;5;241m0\u001b[39m \u001b[38;5;129;01mand\u001b[39;00m \u001b[38;5;129;01mnot\u001b[39;00m \u001b[38;5;28misinstance\u001b[39m(obj\u001b[38;5;241m.\u001b[39m_values, np\u001b[38;5;241m.\u001b[39mndarray):\n\u001b[0;32m    988\u001b[0m     \u001b[38;5;66;03m# we can preserve a little bit more aggressively with EA dtype\u001b[39;00m\n\u001b[0;32m    989\u001b[0m     \u001b[38;5;66;03m#  because maybe_cast_pointwise_result will do a try/except\u001b[39;00m\n\u001b[0;32m    990\u001b[0m     \u001b[38;5;66;03m#  with _from_sequence.  NB we are assuming here that _from_sequence\u001b[39;00m\n\u001b[0;32m    991\u001b[0m     \u001b[38;5;66;03m#  is sufficiently strict that it casts appropriately.\u001b[39;00m\n\u001b[0;32m    992\u001b[0m     preserve_dtype \u001b[38;5;241m=\u001b[39m \u001b[38;5;28;01mTrue\u001b[39;00m\n\u001b[1;32m--> 994\u001b[0m result \u001b[38;5;241m=\u001b[39m \u001b[38;5;28;43mself\u001b[39;49m\u001b[38;5;241;43m.\u001b[39;49m\u001b[43m_aggregate_series_pure_python\u001b[49m\u001b[43m(\u001b[49m\u001b[43mobj\u001b[49m\u001b[43m,\u001b[49m\u001b[43m \u001b[49m\u001b[43mfunc\u001b[49m\u001b[43m)\u001b[49m\n\u001b[0;32m    996\u001b[0m npvalues \u001b[38;5;241m=\u001b[39m lib\u001b[38;5;241m.\u001b[39mmaybe_convert_objects(result, try_float\u001b[38;5;241m=\u001b[39m\u001b[38;5;28;01mFalse\u001b[39;00m)\n\u001b[0;32m    997\u001b[0m \u001b[38;5;28;01mif\u001b[39;00m preserve_dtype:\n",
      "File \u001b[1;32m~\\anaconda3\\envs\\py3_10_4\\lib\\site-packages\\pandas\\core\\groupby\\ops.py:1015\u001b[0m, in \u001b[0;36mBaseGrouper._aggregate_series_pure_python\u001b[1;34m(self, obj, func)\u001b[0m\n\u001b[0;32m   1012\u001b[0m splitter \u001b[38;5;241m=\u001b[39m \u001b[38;5;28mself\u001b[39m\u001b[38;5;241m.\u001b[39m_get_splitter(obj, axis\u001b[38;5;241m=\u001b[39m\u001b[38;5;241m0\u001b[39m)\n\u001b[0;32m   1014\u001b[0m \u001b[38;5;28;01mfor\u001b[39;00m i, group \u001b[38;5;129;01min\u001b[39;00m \u001b[38;5;28menumerate\u001b[39m(splitter):\n\u001b[1;32m-> 1015\u001b[0m     res \u001b[38;5;241m=\u001b[39m \u001b[43mfunc\u001b[49m\u001b[43m(\u001b[49m\u001b[43mgroup\u001b[49m\u001b[43m)\u001b[49m\n\u001b[0;32m   1016\u001b[0m     res \u001b[38;5;241m=\u001b[39m libreduction\u001b[38;5;241m.\u001b[39mextract_result(res)\n\u001b[0;32m   1018\u001b[0m     \u001b[38;5;28;01mif\u001b[39;00m \u001b[38;5;129;01mnot\u001b[39;00m initialized:\n\u001b[0;32m   1019\u001b[0m         \u001b[38;5;66;03m# We only do this validation on the first iteration\u001b[39;00m\n",
      "File \u001b[1;32m~\\anaconda3\\envs\\py3_10_4\\lib\\site-packages\\pandas\\core\\groupby\\groupby.py:1857\u001b[0m, in \u001b[0;36mGroupBy.mean.<locals>.<lambda>\u001b[1;34m(x)\u001b[0m\n\u001b[0;32m   1853\u001b[0m     \u001b[38;5;28;01mreturn\u001b[39;00m \u001b[38;5;28mself\u001b[39m\u001b[38;5;241m.\u001b[39m_numba_agg_general(sliding_mean, engine_kwargs)\n\u001b[0;32m   1854\u001b[0m \u001b[38;5;28;01melse\u001b[39;00m:\n\u001b[0;32m   1855\u001b[0m     result \u001b[38;5;241m=\u001b[39m \u001b[38;5;28mself\u001b[39m\u001b[38;5;241m.\u001b[39m_cython_agg_general(\n\u001b[0;32m   1856\u001b[0m         \u001b[38;5;124m\"\u001b[39m\u001b[38;5;124mmean\u001b[39m\u001b[38;5;124m\"\u001b[39m,\n\u001b[1;32m-> 1857\u001b[0m         alt\u001b[38;5;241m=\u001b[39m\u001b[38;5;28;01mlambda\u001b[39;00m x: \u001b[43mSeries\u001b[49m\u001b[43m(\u001b[49m\u001b[43mx\u001b[49m\u001b[43m)\u001b[49m\u001b[38;5;241;43m.\u001b[39;49m\u001b[43mmean\u001b[49m\u001b[43m(\u001b[49m\u001b[43mnumeric_only\u001b[49m\u001b[38;5;241;43m=\u001b[39;49m\u001b[43mnumeric_only\u001b[49m\u001b[43m)\u001b[49m,\n\u001b[0;32m   1858\u001b[0m         numeric_only\u001b[38;5;241m=\u001b[39mnumeric_only,\n\u001b[0;32m   1859\u001b[0m     )\n\u001b[0;32m   1860\u001b[0m     \u001b[38;5;28;01mreturn\u001b[39;00m result\u001b[38;5;241m.\u001b[39m__finalize__(\u001b[38;5;28mself\u001b[39m\u001b[38;5;241m.\u001b[39mobj, method\u001b[38;5;241m=\u001b[39m\u001b[38;5;124m\"\u001b[39m\u001b[38;5;124mgroupby\u001b[39m\u001b[38;5;124m\"\u001b[39m)\n",
      "File \u001b[1;32m~\\anaconda3\\envs\\py3_10_4\\lib\\site-packages\\pandas\\core\\generic.py:11556\u001b[0m, in \u001b[0;36mNDFrame._add_numeric_operations.<locals>.mean\u001b[1;34m(self, axis, skipna, numeric_only, **kwargs)\u001b[0m\n\u001b[0;32m  11539\u001b[0m \u001b[38;5;129m@doc\u001b[39m(\n\u001b[0;32m  11540\u001b[0m     _num_doc,\n\u001b[0;32m  11541\u001b[0m     desc\u001b[38;5;241m=\u001b[39m\u001b[38;5;124m\"\u001b[39m\u001b[38;5;124mReturn the mean of the values over the requested axis.\u001b[39m\u001b[38;5;124m\"\u001b[39m,\n\u001b[1;32m   (...)\u001b[0m\n\u001b[0;32m  11554\u001b[0m     \u001b[38;5;241m*\u001b[39m\u001b[38;5;241m*\u001b[39mkwargs,\n\u001b[0;32m  11555\u001b[0m ):\n\u001b[1;32m> 11556\u001b[0m     \u001b[38;5;28;01mreturn\u001b[39;00m NDFrame\u001b[38;5;241m.\u001b[39mmean(\u001b[38;5;28mself\u001b[39m, axis, skipna, numeric_only, \u001b[38;5;241m*\u001b[39m\u001b[38;5;241m*\u001b[39mkwargs)\n",
      "File \u001b[1;32m~\\anaconda3\\envs\\py3_10_4\\lib\\site-packages\\pandas\\core\\generic.py:11201\u001b[0m, in \u001b[0;36mNDFrame.mean\u001b[1;34m(self, axis, skipna, numeric_only, **kwargs)\u001b[0m\n\u001b[0;32m  11194\u001b[0m \u001b[38;5;28;01mdef\u001b[39;00m \u001b[38;5;21mmean\u001b[39m(\n\u001b[0;32m  11195\u001b[0m     \u001b[38;5;28mself\u001b[39m,\n\u001b[0;32m  11196\u001b[0m     axis: Axis \u001b[38;5;241m|\u001b[39m \u001b[38;5;28;01mNone\u001b[39;00m \u001b[38;5;241m=\u001b[39m \u001b[38;5;241m0\u001b[39m,\n\u001b[1;32m   (...)\u001b[0m\n\u001b[0;32m  11199\u001b[0m     \u001b[38;5;241m*\u001b[39m\u001b[38;5;241m*\u001b[39mkwargs,\n\u001b[0;32m  11200\u001b[0m ) \u001b[38;5;241m-\u001b[39m\u001b[38;5;241m>\u001b[39m Series \u001b[38;5;241m|\u001b[39m \u001b[38;5;28mfloat\u001b[39m:\n\u001b[1;32m> 11201\u001b[0m     \u001b[38;5;28;01mreturn\u001b[39;00m \u001b[38;5;28mself\u001b[39m\u001b[38;5;241m.\u001b[39m_stat_function(\n\u001b[0;32m  11202\u001b[0m         \u001b[38;5;124m\"\u001b[39m\u001b[38;5;124mmean\u001b[39m\u001b[38;5;124m\"\u001b[39m, nanops\u001b[38;5;241m.\u001b[39mnanmean, axis, skipna, numeric_only, \u001b[38;5;241m*\u001b[39m\u001b[38;5;241m*\u001b[39mkwargs\n\u001b[0;32m  11203\u001b[0m     )\n",
      "File \u001b[1;32m~\\anaconda3\\envs\\py3_10_4\\lib\\site-packages\\pandas\\core\\generic.py:11158\u001b[0m, in \u001b[0;36mNDFrame._stat_function\u001b[1;34m(self, name, func, axis, skipna, numeric_only, **kwargs)\u001b[0m\n\u001b[0;32m  11154\u001b[0m     nv\u001b[38;5;241m.\u001b[39mvalidate_stat_func((), kwargs, fname\u001b[38;5;241m=\u001b[39mname)\n\u001b[0;32m  11156\u001b[0m validate_bool_kwarg(skipna, \u001b[38;5;124m\"\u001b[39m\u001b[38;5;124mskipna\u001b[39m\u001b[38;5;124m\"\u001b[39m, none_allowed\u001b[38;5;241m=\u001b[39m\u001b[38;5;28;01mFalse\u001b[39;00m)\n\u001b[1;32m> 11158\u001b[0m \u001b[38;5;28;01mreturn\u001b[39;00m \u001b[38;5;28;43mself\u001b[39;49m\u001b[38;5;241;43m.\u001b[39;49m\u001b[43m_reduce\u001b[49m\u001b[43m(\u001b[49m\n\u001b[0;32m  11159\u001b[0m \u001b[43m    \u001b[49m\u001b[43mfunc\u001b[49m\u001b[43m,\u001b[49m\u001b[43m \u001b[49m\u001b[43mname\u001b[49m\u001b[38;5;241;43m=\u001b[39;49m\u001b[43mname\u001b[49m\u001b[43m,\u001b[49m\u001b[43m \u001b[49m\u001b[43maxis\u001b[49m\u001b[38;5;241;43m=\u001b[39;49m\u001b[43maxis\u001b[49m\u001b[43m,\u001b[49m\u001b[43m \u001b[49m\u001b[43mskipna\u001b[49m\u001b[38;5;241;43m=\u001b[39;49m\u001b[43mskipna\u001b[49m\u001b[43m,\u001b[49m\u001b[43m \u001b[49m\u001b[43mnumeric_only\u001b[49m\u001b[38;5;241;43m=\u001b[39;49m\u001b[43mnumeric_only\u001b[49m\n\u001b[0;32m  11160\u001b[0m \u001b[43m\u001b[49m\u001b[43m)\u001b[49m\n",
      "File \u001b[1;32m~\\anaconda3\\envs\\py3_10_4\\lib\\site-packages\\pandas\\core\\series.py:4656\u001b[0m, in \u001b[0;36mSeries._reduce\u001b[1;34m(self, op, name, axis, skipna, numeric_only, filter_type, **kwds)\u001b[0m\n\u001b[0;32m   4652\u001b[0m     \u001b[38;5;28mself\u001b[39m\u001b[38;5;241m.\u001b[39m_get_axis_number(axis)\n\u001b[0;32m   4654\u001b[0m \u001b[38;5;28;01mif\u001b[39;00m \u001b[38;5;28misinstance\u001b[39m(delegate, ExtensionArray):\n\u001b[0;32m   4655\u001b[0m     \u001b[38;5;66;03m# dispatch to ExtensionArray interface\u001b[39;00m\n\u001b[1;32m-> 4656\u001b[0m     \u001b[38;5;28;01mreturn\u001b[39;00m delegate\u001b[38;5;241m.\u001b[39m_reduce(name, skipna\u001b[38;5;241m=\u001b[39mskipna, \u001b[38;5;241m*\u001b[39m\u001b[38;5;241m*\u001b[39mkwds)\n\u001b[0;32m   4658\u001b[0m \u001b[38;5;28;01melse\u001b[39;00m:\n\u001b[0;32m   4659\u001b[0m     \u001b[38;5;66;03m# dispatch to numpy arrays\u001b[39;00m\n\u001b[0;32m   4660\u001b[0m     \u001b[38;5;28;01mif\u001b[39;00m numeric_only \u001b[38;5;129;01mand\u001b[39;00m \u001b[38;5;129;01mnot\u001b[39;00m is_numeric_dtype(\u001b[38;5;28mself\u001b[39m\u001b[38;5;241m.\u001b[39mdtype):\n",
      "File \u001b[1;32m~\\anaconda3\\envs\\py3_10_4\\lib\\site-packages\\pandas\\core\\arrays\\base.py:1440\u001b[0m, in \u001b[0;36mExtensionArray._reduce\u001b[1;34m(self, name, skipna, **kwargs)\u001b[0m\n\u001b[0;32m   1438\u001b[0m meth \u001b[38;5;241m=\u001b[39m \u001b[38;5;28mgetattr\u001b[39m(\u001b[38;5;28mself\u001b[39m, name, \u001b[38;5;28;01mNone\u001b[39;00m)\n\u001b[0;32m   1439\u001b[0m \u001b[38;5;28;01mif\u001b[39;00m meth \u001b[38;5;129;01mis\u001b[39;00m \u001b[38;5;28;01mNone\u001b[39;00m:\n\u001b[1;32m-> 1440\u001b[0m     \u001b[38;5;28;01mraise\u001b[39;00m \u001b[38;5;167;01mTypeError\u001b[39;00m(\n\u001b[0;32m   1441\u001b[0m         \u001b[38;5;124mf\u001b[39m\u001b[38;5;124m\"\u001b[39m\u001b[38;5;124m'\u001b[39m\u001b[38;5;132;01m{\u001b[39;00m\u001b[38;5;28mtype\u001b[39m(\u001b[38;5;28mself\u001b[39m)\u001b[38;5;241m.\u001b[39m\u001b[38;5;18m__name__\u001b[39m\u001b[38;5;132;01m}\u001b[39;00m\u001b[38;5;124m'\u001b[39m\u001b[38;5;124m with dtype \u001b[39m\u001b[38;5;132;01m{\u001b[39;00m\u001b[38;5;28mself\u001b[39m\u001b[38;5;241m.\u001b[39mdtype\u001b[38;5;132;01m}\u001b[39;00m\u001b[38;5;124m \u001b[39m\u001b[38;5;124m\"\u001b[39m\n\u001b[0;32m   1442\u001b[0m         \u001b[38;5;124mf\u001b[39m\u001b[38;5;124m\"\u001b[39m\u001b[38;5;124mdoes not support reduction \u001b[39m\u001b[38;5;124m'\u001b[39m\u001b[38;5;132;01m{\u001b[39;00mname\u001b[38;5;132;01m}\u001b[39;00m\u001b[38;5;124m'\u001b[39m\u001b[38;5;124m\"\u001b[39m\n\u001b[0;32m   1443\u001b[0m     )\n\u001b[0;32m   1444\u001b[0m \u001b[38;5;28;01mreturn\u001b[39;00m meth(skipna\u001b[38;5;241m=\u001b[39mskipna, \u001b[38;5;241m*\u001b[39m\u001b[38;5;241m*\u001b[39mkwargs)\n",
      "\u001b[1;31mTypeError\u001b[0m: 'Categorical' with dtype category does not support reduction 'mean'"
     ]
    }
   ],
   "source": [
    "numerical=df.groupby(by=df.Mortality).mean().T.sort_values(by=\"Died\",ascending=False).style.highlight_max(axis=1, color = \"yellow\")\n",
    "numerical"
   ]
  },
  {
   "cell_type": "code",
   "execution_count": 149,
   "id": "a8b2bc43",
   "metadata": {},
   "outputs": [],
   "source": [
    "from sklearn.model_selection import train_test_split\n",
    "X_tn, X_te, y_tn, y_te = train_test_split(X,y,random_state = 0,stratify = y)"
   ]
  },
  {
   "cell_type": "code",
   "execution_count": 21,
   "id": "332f596c",
   "metadata": {},
   "outputs": [],
   "source": [
    "# from sklearn.preprocessing import StandardScaler\n",
    "# std_scale = StandardScaler()\n",
    "# std_scale.fit(X_tn)\n",
    "# X_tn_std = std_scale.transform(X_tn)\n",
    "# X_te_std = std_scale.transform(X_te)"
   ]
  },
  {
   "cell_type": "code",
   "execution_count": 22,
   "id": "bea67329",
   "metadata": {},
   "outputs": [
    {
     "ename": "ValueError",
     "evalue": "could not convert string to float: 'Male'",
     "output_type": "error",
     "traceback": [
      "\u001b[1;31m---------------------------------------------------------------------------\u001b[0m",
      "\u001b[1;31mValueError\u001b[0m                                Traceback (most recent call last)",
      "Cell \u001b[1;32mIn[22], line 3\u001b[0m\n\u001b[0;32m      1\u001b[0m \u001b[38;5;28;01mfrom\u001b[39;00m \u001b[38;5;21;01msklearn\u001b[39;00m\u001b[38;5;21;01m.\u001b[39;00m\u001b[38;5;21;01mlinear_model\u001b[39;00m \u001b[38;5;28;01mimport\u001b[39;00m LogisticRegression\n\u001b[0;32m      2\u001b[0m clf_logi_l2 \u001b[38;5;241m=\u001b[39m LogisticRegression(penalty \u001b[38;5;241m=\u001b[39m \u001b[38;5;124m'\u001b[39m\u001b[38;5;124ml2\u001b[39m\u001b[38;5;124m'\u001b[39m)\n\u001b[1;32m----> 3\u001b[0m \u001b[43mclf_logi_l2\u001b[49m\u001b[38;5;241;43m.\u001b[39;49m\u001b[43mfit\u001b[49m\u001b[43m(\u001b[49m\u001b[43mX_tn\u001b[49m\u001b[43m,\u001b[49m\u001b[43my_tn\u001b[49m\u001b[43m)\u001b[49m\n",
      "File \u001b[1;32m~\\anaconda3\\envs\\py3_10_4\\lib\\site-packages\\sklearn\\base.py:1151\u001b[0m, in \u001b[0;36m_fit_context.<locals>.decorator.<locals>.wrapper\u001b[1;34m(estimator, *args, **kwargs)\u001b[0m\n\u001b[0;32m   1144\u001b[0m     estimator\u001b[38;5;241m.\u001b[39m_validate_params()\n\u001b[0;32m   1146\u001b[0m \u001b[38;5;28;01mwith\u001b[39;00m config_context(\n\u001b[0;32m   1147\u001b[0m     skip_parameter_validation\u001b[38;5;241m=\u001b[39m(\n\u001b[0;32m   1148\u001b[0m         prefer_skip_nested_validation \u001b[38;5;129;01mor\u001b[39;00m global_skip_validation\n\u001b[0;32m   1149\u001b[0m     )\n\u001b[0;32m   1150\u001b[0m ):\n\u001b[1;32m-> 1151\u001b[0m     \u001b[38;5;28;01mreturn\u001b[39;00m fit_method(estimator, \u001b[38;5;241m*\u001b[39margs, \u001b[38;5;241m*\u001b[39m\u001b[38;5;241m*\u001b[39mkwargs)\n",
      "File \u001b[1;32m~\\anaconda3\\envs\\py3_10_4\\lib\\site-packages\\sklearn\\linear_model\\_logistic.py:1207\u001b[0m, in \u001b[0;36mLogisticRegression.fit\u001b[1;34m(self, X, y, sample_weight)\u001b[0m\n\u001b[0;32m   1204\u001b[0m \u001b[38;5;28;01melse\u001b[39;00m:\n\u001b[0;32m   1205\u001b[0m     _dtype \u001b[38;5;241m=\u001b[39m [np\u001b[38;5;241m.\u001b[39mfloat64, np\u001b[38;5;241m.\u001b[39mfloat32]\n\u001b[1;32m-> 1207\u001b[0m X, y \u001b[38;5;241m=\u001b[39m \u001b[38;5;28;43mself\u001b[39;49m\u001b[38;5;241;43m.\u001b[39;49m\u001b[43m_validate_data\u001b[49m\u001b[43m(\u001b[49m\n\u001b[0;32m   1208\u001b[0m \u001b[43m    \u001b[49m\u001b[43mX\u001b[49m\u001b[43m,\u001b[49m\n\u001b[0;32m   1209\u001b[0m \u001b[43m    \u001b[49m\u001b[43my\u001b[49m\u001b[43m,\u001b[49m\n\u001b[0;32m   1210\u001b[0m \u001b[43m    \u001b[49m\u001b[43maccept_sparse\u001b[49m\u001b[38;5;241;43m=\u001b[39;49m\u001b[38;5;124;43m\"\u001b[39;49m\u001b[38;5;124;43mcsr\u001b[39;49m\u001b[38;5;124;43m\"\u001b[39;49m\u001b[43m,\u001b[49m\n\u001b[0;32m   1211\u001b[0m \u001b[43m    \u001b[49m\u001b[43mdtype\u001b[49m\u001b[38;5;241;43m=\u001b[39;49m\u001b[43m_dtype\u001b[49m\u001b[43m,\u001b[49m\n\u001b[0;32m   1212\u001b[0m \u001b[43m    \u001b[49m\u001b[43morder\u001b[49m\u001b[38;5;241;43m=\u001b[39;49m\u001b[38;5;124;43m\"\u001b[39;49m\u001b[38;5;124;43mC\u001b[39;49m\u001b[38;5;124;43m\"\u001b[39;49m\u001b[43m,\u001b[49m\n\u001b[0;32m   1213\u001b[0m \u001b[43m    \u001b[49m\u001b[43maccept_large_sparse\u001b[49m\u001b[38;5;241;43m=\u001b[39;49m\u001b[43msolver\u001b[49m\u001b[43m \u001b[49m\u001b[38;5;129;43;01mnot\u001b[39;49;00m\u001b[43m \u001b[49m\u001b[38;5;129;43;01min\u001b[39;49;00m\u001b[43m \u001b[49m\u001b[43m[\u001b[49m\u001b[38;5;124;43m\"\u001b[39;49m\u001b[38;5;124;43mliblinear\u001b[39;49m\u001b[38;5;124;43m\"\u001b[39;49m\u001b[43m,\u001b[49m\u001b[43m \u001b[49m\u001b[38;5;124;43m\"\u001b[39;49m\u001b[38;5;124;43msag\u001b[39;49m\u001b[38;5;124;43m\"\u001b[39;49m\u001b[43m,\u001b[49m\u001b[43m \u001b[49m\u001b[38;5;124;43m\"\u001b[39;49m\u001b[38;5;124;43msaga\u001b[39;49m\u001b[38;5;124;43m\"\u001b[39;49m\u001b[43m]\u001b[49m\u001b[43m,\u001b[49m\n\u001b[0;32m   1214\u001b[0m \u001b[43m\u001b[49m\u001b[43m)\u001b[49m\n\u001b[0;32m   1215\u001b[0m check_classification_targets(y)\n\u001b[0;32m   1216\u001b[0m \u001b[38;5;28mself\u001b[39m\u001b[38;5;241m.\u001b[39mclasses_ \u001b[38;5;241m=\u001b[39m np\u001b[38;5;241m.\u001b[39munique(y)\n",
      "File \u001b[1;32m~\\anaconda3\\envs\\py3_10_4\\lib\\site-packages\\sklearn\\base.py:621\u001b[0m, in \u001b[0;36mBaseEstimator._validate_data\u001b[1;34m(self, X, y, reset, validate_separately, cast_to_ndarray, **check_params)\u001b[0m\n\u001b[0;32m    619\u001b[0m         y \u001b[38;5;241m=\u001b[39m check_array(y, input_name\u001b[38;5;241m=\u001b[39m\u001b[38;5;124m\"\u001b[39m\u001b[38;5;124my\u001b[39m\u001b[38;5;124m\"\u001b[39m, \u001b[38;5;241m*\u001b[39m\u001b[38;5;241m*\u001b[39mcheck_y_params)\n\u001b[0;32m    620\u001b[0m     \u001b[38;5;28;01melse\u001b[39;00m:\n\u001b[1;32m--> 621\u001b[0m         X, y \u001b[38;5;241m=\u001b[39m check_X_y(X, y, \u001b[38;5;241m*\u001b[39m\u001b[38;5;241m*\u001b[39mcheck_params)\n\u001b[0;32m    622\u001b[0m     out \u001b[38;5;241m=\u001b[39m X, y\n\u001b[0;32m    624\u001b[0m \u001b[38;5;28;01mif\u001b[39;00m \u001b[38;5;129;01mnot\u001b[39;00m no_val_X \u001b[38;5;129;01mand\u001b[39;00m check_params\u001b[38;5;241m.\u001b[39mget(\u001b[38;5;124m\"\u001b[39m\u001b[38;5;124mensure_2d\u001b[39m\u001b[38;5;124m\"\u001b[39m, \u001b[38;5;28;01mTrue\u001b[39;00m):\n",
      "File \u001b[1;32m~\\anaconda3\\envs\\py3_10_4\\lib\\site-packages\\sklearn\\utils\\validation.py:1147\u001b[0m, in \u001b[0;36mcheck_X_y\u001b[1;34m(X, y, accept_sparse, accept_large_sparse, dtype, order, copy, force_all_finite, ensure_2d, allow_nd, multi_output, ensure_min_samples, ensure_min_features, y_numeric, estimator)\u001b[0m\n\u001b[0;32m   1142\u001b[0m         estimator_name \u001b[38;5;241m=\u001b[39m _check_estimator_name(estimator)\n\u001b[0;32m   1143\u001b[0m     \u001b[38;5;28;01mraise\u001b[39;00m \u001b[38;5;167;01mValueError\u001b[39;00m(\n\u001b[0;32m   1144\u001b[0m         \u001b[38;5;124mf\u001b[39m\u001b[38;5;124m\"\u001b[39m\u001b[38;5;132;01m{\u001b[39;00mestimator_name\u001b[38;5;132;01m}\u001b[39;00m\u001b[38;5;124m requires y to be passed, but the target y is None\u001b[39m\u001b[38;5;124m\"\u001b[39m\n\u001b[0;32m   1145\u001b[0m     )\n\u001b[1;32m-> 1147\u001b[0m X \u001b[38;5;241m=\u001b[39m \u001b[43mcheck_array\u001b[49m\u001b[43m(\u001b[49m\n\u001b[0;32m   1148\u001b[0m \u001b[43m    \u001b[49m\u001b[43mX\u001b[49m\u001b[43m,\u001b[49m\n\u001b[0;32m   1149\u001b[0m \u001b[43m    \u001b[49m\u001b[43maccept_sparse\u001b[49m\u001b[38;5;241;43m=\u001b[39;49m\u001b[43maccept_sparse\u001b[49m\u001b[43m,\u001b[49m\n\u001b[0;32m   1150\u001b[0m \u001b[43m    \u001b[49m\u001b[43maccept_large_sparse\u001b[49m\u001b[38;5;241;43m=\u001b[39;49m\u001b[43maccept_large_sparse\u001b[49m\u001b[43m,\u001b[49m\n\u001b[0;32m   1151\u001b[0m \u001b[43m    \u001b[49m\u001b[43mdtype\u001b[49m\u001b[38;5;241;43m=\u001b[39;49m\u001b[43mdtype\u001b[49m\u001b[43m,\u001b[49m\n\u001b[0;32m   1152\u001b[0m \u001b[43m    \u001b[49m\u001b[43morder\u001b[49m\u001b[38;5;241;43m=\u001b[39;49m\u001b[43morder\u001b[49m\u001b[43m,\u001b[49m\n\u001b[0;32m   1153\u001b[0m \u001b[43m    \u001b[49m\u001b[43mcopy\u001b[49m\u001b[38;5;241;43m=\u001b[39;49m\u001b[43mcopy\u001b[49m\u001b[43m,\u001b[49m\n\u001b[0;32m   1154\u001b[0m \u001b[43m    \u001b[49m\u001b[43mforce_all_finite\u001b[49m\u001b[38;5;241;43m=\u001b[39;49m\u001b[43mforce_all_finite\u001b[49m\u001b[43m,\u001b[49m\n\u001b[0;32m   1155\u001b[0m \u001b[43m    \u001b[49m\u001b[43mensure_2d\u001b[49m\u001b[38;5;241;43m=\u001b[39;49m\u001b[43mensure_2d\u001b[49m\u001b[43m,\u001b[49m\n\u001b[0;32m   1156\u001b[0m \u001b[43m    \u001b[49m\u001b[43mallow_nd\u001b[49m\u001b[38;5;241;43m=\u001b[39;49m\u001b[43mallow_nd\u001b[49m\u001b[43m,\u001b[49m\n\u001b[0;32m   1157\u001b[0m \u001b[43m    \u001b[49m\u001b[43mensure_min_samples\u001b[49m\u001b[38;5;241;43m=\u001b[39;49m\u001b[43mensure_min_samples\u001b[49m\u001b[43m,\u001b[49m\n\u001b[0;32m   1158\u001b[0m \u001b[43m    \u001b[49m\u001b[43mensure_min_features\u001b[49m\u001b[38;5;241;43m=\u001b[39;49m\u001b[43mensure_min_features\u001b[49m\u001b[43m,\u001b[49m\n\u001b[0;32m   1159\u001b[0m \u001b[43m    \u001b[49m\u001b[43mestimator\u001b[49m\u001b[38;5;241;43m=\u001b[39;49m\u001b[43mestimator\u001b[49m\u001b[43m,\u001b[49m\n\u001b[0;32m   1160\u001b[0m \u001b[43m    \u001b[49m\u001b[43minput_name\u001b[49m\u001b[38;5;241;43m=\u001b[39;49m\u001b[38;5;124;43m\"\u001b[39;49m\u001b[38;5;124;43mX\u001b[39;49m\u001b[38;5;124;43m\"\u001b[39;49m\u001b[43m,\u001b[49m\n\u001b[0;32m   1161\u001b[0m \u001b[43m\u001b[49m\u001b[43m)\u001b[49m\n\u001b[0;32m   1163\u001b[0m y \u001b[38;5;241m=\u001b[39m _check_y(y, multi_output\u001b[38;5;241m=\u001b[39mmulti_output, y_numeric\u001b[38;5;241m=\u001b[39my_numeric, estimator\u001b[38;5;241m=\u001b[39mestimator)\n\u001b[0;32m   1165\u001b[0m check_consistent_length(X, y)\n",
      "File \u001b[1;32m~\\anaconda3\\envs\\py3_10_4\\lib\\site-packages\\sklearn\\utils\\validation.py:917\u001b[0m, in \u001b[0;36mcheck_array\u001b[1;34m(array, accept_sparse, accept_large_sparse, dtype, order, copy, force_all_finite, ensure_2d, allow_nd, ensure_min_samples, ensure_min_features, estimator, input_name)\u001b[0m\n\u001b[0;32m    915\u001b[0m         array \u001b[38;5;241m=\u001b[39m xp\u001b[38;5;241m.\u001b[39mastype(array, dtype, copy\u001b[38;5;241m=\u001b[39m\u001b[38;5;28;01mFalse\u001b[39;00m)\n\u001b[0;32m    916\u001b[0m     \u001b[38;5;28;01melse\u001b[39;00m:\n\u001b[1;32m--> 917\u001b[0m         array \u001b[38;5;241m=\u001b[39m \u001b[43m_asarray_with_order\u001b[49m\u001b[43m(\u001b[49m\u001b[43marray\u001b[49m\u001b[43m,\u001b[49m\u001b[43m \u001b[49m\u001b[43morder\u001b[49m\u001b[38;5;241;43m=\u001b[39;49m\u001b[43morder\u001b[49m\u001b[43m,\u001b[49m\u001b[43m \u001b[49m\u001b[43mdtype\u001b[49m\u001b[38;5;241;43m=\u001b[39;49m\u001b[43mdtype\u001b[49m\u001b[43m,\u001b[49m\u001b[43m \u001b[49m\u001b[43mxp\u001b[49m\u001b[38;5;241;43m=\u001b[39;49m\u001b[43mxp\u001b[49m\u001b[43m)\u001b[49m\n\u001b[0;32m    918\u001b[0m \u001b[38;5;28;01mexcept\u001b[39;00m ComplexWarning \u001b[38;5;28;01mas\u001b[39;00m complex_warning:\n\u001b[0;32m    919\u001b[0m     \u001b[38;5;28;01mraise\u001b[39;00m \u001b[38;5;167;01mValueError\u001b[39;00m(\n\u001b[0;32m    920\u001b[0m         \u001b[38;5;124m\"\u001b[39m\u001b[38;5;124mComplex data not supported\u001b[39m\u001b[38;5;130;01m\\n\u001b[39;00m\u001b[38;5;132;01m{}\u001b[39;00m\u001b[38;5;130;01m\\n\u001b[39;00m\u001b[38;5;124m\"\u001b[39m\u001b[38;5;241m.\u001b[39mformat(array)\n\u001b[0;32m    921\u001b[0m     ) \u001b[38;5;28;01mfrom\u001b[39;00m \u001b[38;5;21;01mcomplex_warning\u001b[39;00m\n",
      "File \u001b[1;32m~\\anaconda3\\envs\\py3_10_4\\lib\\site-packages\\sklearn\\utils\\_array_api.py:380\u001b[0m, in \u001b[0;36m_asarray_with_order\u001b[1;34m(array, dtype, order, copy, xp)\u001b[0m\n\u001b[0;32m    378\u001b[0m     array \u001b[38;5;241m=\u001b[39m numpy\u001b[38;5;241m.\u001b[39marray(array, order\u001b[38;5;241m=\u001b[39morder, dtype\u001b[38;5;241m=\u001b[39mdtype)\n\u001b[0;32m    379\u001b[0m \u001b[38;5;28;01melse\u001b[39;00m:\n\u001b[1;32m--> 380\u001b[0m     array \u001b[38;5;241m=\u001b[39m \u001b[43mnumpy\u001b[49m\u001b[38;5;241;43m.\u001b[39;49m\u001b[43masarray\u001b[49m\u001b[43m(\u001b[49m\u001b[43marray\u001b[49m\u001b[43m,\u001b[49m\u001b[43m \u001b[49m\u001b[43morder\u001b[49m\u001b[38;5;241;43m=\u001b[39;49m\u001b[43morder\u001b[49m\u001b[43m,\u001b[49m\u001b[43m \u001b[49m\u001b[43mdtype\u001b[49m\u001b[38;5;241;43m=\u001b[39;49m\u001b[43mdtype\u001b[49m\u001b[43m)\u001b[49m\n\u001b[0;32m    382\u001b[0m \u001b[38;5;66;03m# At this point array is a NumPy ndarray. We convert it to an array\u001b[39;00m\n\u001b[0;32m    383\u001b[0m \u001b[38;5;66;03m# container that is consistent with the input's namespace.\u001b[39;00m\n\u001b[0;32m    384\u001b[0m \u001b[38;5;28;01mreturn\u001b[39;00m xp\u001b[38;5;241m.\u001b[39masarray(array)\n",
      "File \u001b[1;32m~\\anaconda3\\envs\\py3_10_4\\lib\\site-packages\\pandas\\core\\generic.py:1998\u001b[0m, in \u001b[0;36mNDFrame.__array__\u001b[1;34m(self, dtype)\u001b[0m\n\u001b[0;32m   1996\u001b[0m \u001b[38;5;28;01mdef\u001b[39;00m \u001b[38;5;21m__array__\u001b[39m(\u001b[38;5;28mself\u001b[39m, dtype: npt\u001b[38;5;241m.\u001b[39mDTypeLike \u001b[38;5;241m|\u001b[39m \u001b[38;5;28;01mNone\u001b[39;00m \u001b[38;5;241m=\u001b[39m \u001b[38;5;28;01mNone\u001b[39;00m) \u001b[38;5;241m-\u001b[39m\u001b[38;5;241m>\u001b[39m np\u001b[38;5;241m.\u001b[39mndarray:\n\u001b[0;32m   1997\u001b[0m     values \u001b[38;5;241m=\u001b[39m \u001b[38;5;28mself\u001b[39m\u001b[38;5;241m.\u001b[39m_values\n\u001b[1;32m-> 1998\u001b[0m     arr \u001b[38;5;241m=\u001b[39m \u001b[43mnp\u001b[49m\u001b[38;5;241;43m.\u001b[39;49m\u001b[43masarray\u001b[49m\u001b[43m(\u001b[49m\u001b[43mvalues\u001b[49m\u001b[43m,\u001b[49m\u001b[43m \u001b[49m\u001b[43mdtype\u001b[49m\u001b[38;5;241;43m=\u001b[39;49m\u001b[43mdtype\u001b[49m\u001b[43m)\u001b[49m\n\u001b[0;32m   1999\u001b[0m     \u001b[38;5;28;01mif\u001b[39;00m (\n\u001b[0;32m   2000\u001b[0m         astype_is_view(values\u001b[38;5;241m.\u001b[39mdtype, arr\u001b[38;5;241m.\u001b[39mdtype)\n\u001b[0;32m   2001\u001b[0m         \u001b[38;5;129;01mand\u001b[39;00m using_copy_on_write()\n\u001b[0;32m   2002\u001b[0m         \u001b[38;5;129;01mand\u001b[39;00m \u001b[38;5;28mself\u001b[39m\u001b[38;5;241m.\u001b[39m_mgr\u001b[38;5;241m.\u001b[39mis_single_block\n\u001b[0;32m   2003\u001b[0m     ):\n\u001b[0;32m   2004\u001b[0m         \u001b[38;5;66;03m# Check if both conversions can be done without a copy\u001b[39;00m\n\u001b[0;32m   2005\u001b[0m         \u001b[38;5;28;01mif\u001b[39;00m astype_is_view(\u001b[38;5;28mself\u001b[39m\u001b[38;5;241m.\u001b[39mdtypes\u001b[38;5;241m.\u001b[39miloc[\u001b[38;5;241m0\u001b[39m], values\u001b[38;5;241m.\u001b[39mdtype) \u001b[38;5;129;01mand\u001b[39;00m astype_is_view(\n\u001b[0;32m   2006\u001b[0m             values\u001b[38;5;241m.\u001b[39mdtype, arr\u001b[38;5;241m.\u001b[39mdtype\n\u001b[0;32m   2007\u001b[0m         ):\n",
      "\u001b[1;31mValueError\u001b[0m: could not convert string to float: 'Male'"
     ]
    }
   ],
   "source": [
    "from sklearn.linear_model import LogisticRegression\n",
    "clf_logi_l2 = LogisticRegression(penalty = 'l2')\n",
    "clf_logi_l2.fit(X_tn,y_tn)"
   ]
  },
  {
   "cell_type": "code",
   "execution_count": null,
   "id": "1b756953",
   "metadata": {},
   "outputs": [],
   "source": []
  },
  {
   "cell_type": "code",
   "execution_count": null,
   "id": "26f5d1e8",
   "metadata": {},
   "outputs": [],
   "source": []
  }
 ],
 "metadata": {
  "kernelspec": {
   "display_name": "Python 3 (ipykernel)",
   "language": "python",
   "name": "python3"
  },
  "language_info": {
   "codemirror_mode": {
    "name": "ipython",
    "version": 3
   },
   "file_extension": ".py",
   "mimetype": "text/x-python",
   "name": "python",
   "nbconvert_exporter": "python",
   "pygments_lexer": "ipython3",
   "version": "3.10.4"
  }
 },
 "nbformat": 4,
 "nbformat_minor": 5
}

{
 "cells": [
  {
   "cell_type": "code",
   "execution_count": 5,
   "id": "39e9e114",
   "metadata": {},
   "outputs": [],
   "source": [
    "def sigma(start,end):\n",
    "    res = 0\n",
    "    for i in range(start,end+1):\n",
    "        res += i\n",
    "    print(res)"
   ]
  },
  {
   "cell_type": "code",
   "execution_count": 6,
   "id": "e7fb1063",
   "metadata": {},
   "outputs": [
    {
     "name": "stdout",
     "output_type": "stream",
     "text": [
      "55\n"
     ]
    }
   ],
   "source": [
    "sigma(1,10)"
   ]
  },
  {
   "cell_type": "code",
   "execution_count": 15,
   "id": "c5dd43fc",
   "metadata": {},
   "outputs": [],
   "source": [
    "#제곱합\n",
    "def power_sigma(start,end):\n",
    "    print(\"제곱합을 실행합니다.\")\n",
    "    res = 0\n",
    "    for i in range(start,end+1):\n",
    "        res +=i**2\n",
    "        print(f'{i}번째 : {res}')\n",
    "    print(res)"
   ]
  },
  {
   "cell_type": "code",
   "execution_count": 16,
   "id": "c53ddb62",
   "metadata": {},
   "outputs": [
    {
     "name": "stdout",
     "output_type": "stream",
     "text": [
      "제곱합을 실행합니다.\n",
      "1번째 : 1\n",
      "2번째 : 5\n",
      "3번째 : 14\n",
      "4번째 : 30\n",
      "5번째 : 55\n",
      "6번째 : 91\n",
      "7번째 : 140\n",
      "8번째 : 204\n",
      "9번째 : 285\n",
      "10번째 : 385\n",
      "385\n"
     ]
    }
   ],
   "source": [
    "power_sigma(1,10)"
   ]
  },
  {
   "cell_type": "code",
   "execution_count": 7,
   "id": "a3534ad8",
   "metadata": {},
   "outputs": [],
   "source": [
    "#파이\n",
    "def PI(start,end):\n",
    "    print(\"파이를 실행합니다.\")\n",
    "    res = 1\n",
    "    for i in range(start,end+1):\n",
    "        res *= i\n",
    "        print(f'{i}번째 : {res}')\n",
    "    print(f'결과 : {res}')"
   ]
  },
  {
   "cell_type": "code",
   "execution_count": 8,
   "id": "8711567a",
   "metadata": {},
   "outputs": [
    {
     "name": "stdout",
     "output_type": "stream",
     "text": [
      "파이를 실행합니다.\n",
      "1번째 : 1\n",
      "2번째 : 2\n",
      "3번째 : 6\n",
      "4번째 : 24\n",
      "5번째 : 120\n",
      "6번째 : 720\n",
      "7번째 : 5040\n",
      "8번째 : 40320\n",
      "9번째 : 362880\n",
      "10번째 : 3628800\n",
      "결과 : 3628800\n"
     ]
    }
   ],
   "source": [
    "PI(1,10)"
   ]
  },
  {
   "cell_type": "code",
   "execution_count": 18,
   "id": "75e11531",
   "metadata": {},
   "outputs": [],
   "source": [
    "def factorial(end):\n",
    "    print(\"팩토리얼을 실행합니다.\")\n",
    "    res = 1\n",
    "    for i in range(end,0,-1):\n",
    "        res *=i\n",
    "    print(f'결과 : {res}')\n",
    "    return res"
   ]
  },
  {
   "cell_type": "code",
   "execution_count": 19,
   "id": "fc678b74",
   "metadata": {},
   "outputs": [
    {
     "name": "stdout",
     "output_type": "stream",
     "text": [
      "팩토리얼을 실행합니다.\n",
      "결과 : 120\n"
     ]
    },
    {
     "data": {
      "text/plain": [
       "120"
      ]
     },
     "execution_count": 19,
     "metadata": {},
     "output_type": "execute_result"
    }
   ],
   "source": [
    "factorial(5)"
   ]
  },
  {
   "cell_type": "code",
   "execution_count": 24,
   "id": "90083d68",
   "metadata": {},
   "outputs": [],
   "source": [
    "def Combination(front,rear):\n",
    "    res = factorial(front)/(factorial(rear)*factorial(front-rear))\n",
    "    print(f'결과 : {res}')\n",
    "    return int(res)"
   ]
  },
  {
   "cell_type": "code",
   "execution_count": 25,
   "id": "c8e85d18",
   "metadata": {},
   "outputs": [
    {
     "name": "stdout",
     "output_type": "stream",
     "text": [
      "팩토리얼을 실행합니다.\n",
      "결과 : 24\n",
      "팩토리얼을 실행합니다.\n",
      "결과 : 2\n",
      "팩토리얼을 실행합니다.\n",
      "결과 : 2\n",
      "결과 : 6.0\n"
     ]
    },
    {
     "data": {
      "text/plain": [
       "6"
      ]
     },
     "execution_count": 25,
     "metadata": {},
     "output_type": "execute_result"
    }
   ],
   "source": [
    "Combination(4,2)"
   ]
  },
  {
   "cell_type": "code",
   "execution_count": 29,
   "id": "6e7ebc18",
   "metadata": {},
   "outputs": [],
   "source": [
    "# 지시함수 (True or False)\n",
    "\n",
    "def is_true(x):\n",
    "    if x< 10:\n",
    "        res = 1\n",
    "    else:\n",
    "        res = 0\n",
    "    return res"
   ]
  },
  {
   "cell_type": "code",
   "execution_count": 30,
   "id": "35650507",
   "metadata": {},
   "outputs": [
    {
     "data": {
      "text/plain": [
       "0"
      ]
     },
     "execution_count": 30,
     "metadata": {},
     "output_type": "execute_result"
    }
   ],
   "source": [
    "is_true(13)"
   ]
  },
  {
   "cell_type": "code",
   "execution_count": 32,
   "id": "2c98547c",
   "metadata": {},
   "outputs": [],
   "source": [
    "#자연상수 e\n",
    "def niE(x):\n",
    "    return (1+1/x)**x"
   ]
  },
  {
   "cell_type": "code",
   "execution_count": 35,
   "id": "082e6f3a",
   "metadata": {},
   "outputs": [
    {
     "name": "stdout",
     "output_type": "stream",
     "text": [
      "2.7048138294215285\n"
     ]
    }
   ],
   "source": [
    "print(niE(100))"
   ]
  },
  {
   "cell_type": "code",
   "execution_count": 36,
   "id": "b09cb89d",
   "metadata": {},
   "outputs": [
    {
     "data": {
      "text/plain": [
       "2"
      ]
     },
     "execution_count": 36,
     "metadata": {},
     "output_type": "execute_result"
    }
   ],
   "source": [
    "\n",
    "import numpy as np\n",
    "x =[4,2,8,9,3]\n"
   ]
  },
  {
   "cell_type": "code",
   "execution_count": 37,
   "id": "268d7072",
   "metadata": {},
   "outputs": [
    {
     "data": {
      "text/plain": [
       "2"
      ]
     },
     "execution_count": 37,
     "metadata": {},
     "output_type": "execute_result"
    }
   ],
   "source": [
    "np.min(x)"
   ]
  },
  {
   "cell_type": "code",
   "execution_count": 38,
   "id": "d126791e",
   "metadata": {},
   "outputs": [
    {
     "data": {
      "text/plain": [
       "1"
      ]
     },
     "execution_count": 38,
     "metadata": {},
     "output_type": "execute_result"
    }
   ],
   "source": [
    "np.argmin(x)"
   ]
  },
  {
   "cell_type": "code",
   "execution_count": null,
   "id": "3cfac4f4",
   "metadata": {},
   "outputs": [],
   "source": []
  }
 ],
 "metadata": {
  "kernelspec": {
   "display_name": "Python 3 (ipykernel)",
   "language": "python",
   "name": "python3"
  },
  "language_info": {
   "codemirror_mode": {
    "name": "ipython",
    "version": 3
   },
   "file_extension": ".py",
   "mimetype": "text/x-python",
   "name": "python",
   "nbconvert_exporter": "python",
   "pygments_lexer": "ipython3",
   "version": "3.10.9"
  }
 },
 "nbformat": 4,
 "nbformat_minor": 5
}

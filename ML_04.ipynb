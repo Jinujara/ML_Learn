{
 "cells": [
  {
   "cell_type": "code",
   "execution_count": 1,
   "id": "987f7507",
   "metadata": {},
   "outputs": [],
   "source": [
    "import numpy as np\n",
    "import pandas as pd"
   ]
  },
  {
   "cell_type": "code",
   "execution_count": 24,
   "id": "5765ba17",
   "metadata": {},
   "outputs": [],
   "source": [
    "df = pd.read_csv(\"./data/house_prices.csv\", encoding = 'cp949')"
   ]
  },
  {
   "cell_type": "code",
   "execution_count": 25,
   "id": "fbef6527",
   "metadata": {},
   "outputs": [
    {
     "data": {
      "text/html": [
       "<div>\n",
       "<style scoped>\n",
       "    .dataframe tbody tr th:only-of-type {\n",
       "        vertical-align: middle;\n",
       "    }\n",
       "\n",
       "    .dataframe tbody tr th {\n",
       "        vertical-align: top;\n",
       "    }\n",
       "\n",
       "    .dataframe thead th {\n",
       "        text-align: right;\n",
       "    }\n",
       "</style>\n",
       "<table border=\"1\" class=\"dataframe\">\n",
       "  <thead>\n",
       "    <tr style=\"text-align: right;\">\n",
       "      <th></th>\n",
       "      <th>CRIM</th>\n",
       "      <th>ZN</th>\n",
       "      <th>INDUS</th>\n",
       "      <th>CHAS</th>\n",
       "      <th>NOX</th>\n",
       "      <th>RM</th>\n",
       "      <th>AGE</th>\n",
       "      <th>DIS</th>\n",
       "      <th>RAD</th>\n",
       "      <th>TAX</th>\n",
       "      <th>PTRATIO</th>\n",
       "      <th>B</th>\n",
       "      <th>LSTAT</th>\n",
       "      <th>MEDV</th>\n",
       "    </tr>\n",
       "  </thead>\n",
       "  <tbody>\n",
       "    <tr>\n",
       "      <th>0</th>\n",
       "      <td>0.00632</td>\n",
       "      <td>18.0</td>\n",
       "      <td>2.31</td>\n",
       "      <td>0</td>\n",
       "      <td>0.538</td>\n",
       "      <td>6.575</td>\n",
       "      <td>65.2</td>\n",
       "      <td>4.0900</td>\n",
       "      <td>1</td>\n",
       "      <td>296</td>\n",
       "      <td>15.3</td>\n",
       "      <td>396.90</td>\n",
       "      <td>4.98</td>\n",
       "      <td>24.0</td>\n",
       "    </tr>\n",
       "    <tr>\n",
       "      <th>1</th>\n",
       "      <td>0.02731</td>\n",
       "      <td>0.0</td>\n",
       "      <td>7.07</td>\n",
       "      <td>0</td>\n",
       "      <td>0.469</td>\n",
       "      <td>6.421</td>\n",
       "      <td>78.9</td>\n",
       "      <td>4.9671</td>\n",
       "      <td>2</td>\n",
       "      <td>242</td>\n",
       "      <td>17.8</td>\n",
       "      <td>396.90</td>\n",
       "      <td>9.14</td>\n",
       "      <td>21.6</td>\n",
       "    </tr>\n",
       "    <tr>\n",
       "      <th>2</th>\n",
       "      <td>0.02729</td>\n",
       "      <td>0.0</td>\n",
       "      <td>7.07</td>\n",
       "      <td>0</td>\n",
       "      <td>0.469</td>\n",
       "      <td>7.185</td>\n",
       "      <td>61.1</td>\n",
       "      <td>4.9671</td>\n",
       "      <td>2</td>\n",
       "      <td>242</td>\n",
       "      <td>17.8</td>\n",
       "      <td>392.83</td>\n",
       "      <td>4.03</td>\n",
       "      <td>34.7</td>\n",
       "    </tr>\n",
       "    <tr>\n",
       "      <th>3</th>\n",
       "      <td>0.03237</td>\n",
       "      <td>0.0</td>\n",
       "      <td>2.18</td>\n",
       "      <td>0</td>\n",
       "      <td>0.458</td>\n",
       "      <td>6.998</td>\n",
       "      <td>45.8</td>\n",
       "      <td>6.0622</td>\n",
       "      <td>3</td>\n",
       "      <td>222</td>\n",
       "      <td>18.7</td>\n",
       "      <td>394.63</td>\n",
       "      <td>2.94</td>\n",
       "      <td>33.4</td>\n",
       "    </tr>\n",
       "    <tr>\n",
       "      <th>4</th>\n",
       "      <td>0.06905</td>\n",
       "      <td>0.0</td>\n",
       "      <td>2.18</td>\n",
       "      <td>0</td>\n",
       "      <td>0.458</td>\n",
       "      <td>7.147</td>\n",
       "      <td>54.2</td>\n",
       "      <td>6.0622</td>\n",
       "      <td>3</td>\n",
       "      <td>222</td>\n",
       "      <td>18.7</td>\n",
       "      <td>396.90</td>\n",
       "      <td>5.33</td>\n",
       "      <td>36.2</td>\n",
       "    </tr>\n",
       "    <tr>\n",
       "      <th>...</th>\n",
       "      <td>...</td>\n",
       "      <td>...</td>\n",
       "      <td>...</td>\n",
       "      <td>...</td>\n",
       "      <td>...</td>\n",
       "      <td>...</td>\n",
       "      <td>...</td>\n",
       "      <td>...</td>\n",
       "      <td>...</td>\n",
       "      <td>...</td>\n",
       "      <td>...</td>\n",
       "      <td>...</td>\n",
       "      <td>...</td>\n",
       "      <td>...</td>\n",
       "    </tr>\n",
       "    <tr>\n",
       "      <th>501</th>\n",
       "      <td>0.06263</td>\n",
       "      <td>0.0</td>\n",
       "      <td>11.93</td>\n",
       "      <td>0</td>\n",
       "      <td>0.573</td>\n",
       "      <td>6.593</td>\n",
       "      <td>69.1</td>\n",
       "      <td>2.4786</td>\n",
       "      <td>1</td>\n",
       "      <td>273</td>\n",
       "      <td>21.0</td>\n",
       "      <td>391.99</td>\n",
       "      <td>9.67</td>\n",
       "      <td>22.4</td>\n",
       "    </tr>\n",
       "    <tr>\n",
       "      <th>502</th>\n",
       "      <td>0.04527</td>\n",
       "      <td>0.0</td>\n",
       "      <td>11.93</td>\n",
       "      <td>0</td>\n",
       "      <td>0.573</td>\n",
       "      <td>6.120</td>\n",
       "      <td>76.7</td>\n",
       "      <td>2.2875</td>\n",
       "      <td>1</td>\n",
       "      <td>273</td>\n",
       "      <td>21.0</td>\n",
       "      <td>396.90</td>\n",
       "      <td>9.08</td>\n",
       "      <td>20.6</td>\n",
       "    </tr>\n",
       "    <tr>\n",
       "      <th>503</th>\n",
       "      <td>0.06076</td>\n",
       "      <td>0.0</td>\n",
       "      <td>11.93</td>\n",
       "      <td>0</td>\n",
       "      <td>0.573</td>\n",
       "      <td>6.976</td>\n",
       "      <td>91.0</td>\n",
       "      <td>2.1675</td>\n",
       "      <td>1</td>\n",
       "      <td>273</td>\n",
       "      <td>21.0</td>\n",
       "      <td>396.90</td>\n",
       "      <td>5.64</td>\n",
       "      <td>23.9</td>\n",
       "    </tr>\n",
       "    <tr>\n",
       "      <th>504</th>\n",
       "      <td>0.10959</td>\n",
       "      <td>0.0</td>\n",
       "      <td>11.93</td>\n",
       "      <td>0</td>\n",
       "      <td>0.573</td>\n",
       "      <td>6.794</td>\n",
       "      <td>89.3</td>\n",
       "      <td>2.3889</td>\n",
       "      <td>1</td>\n",
       "      <td>273</td>\n",
       "      <td>21.0</td>\n",
       "      <td>393.45</td>\n",
       "      <td>6.48</td>\n",
       "      <td>22.0</td>\n",
       "    </tr>\n",
       "    <tr>\n",
       "      <th>505</th>\n",
       "      <td>0.04741</td>\n",
       "      <td>0.0</td>\n",
       "      <td>11.93</td>\n",
       "      <td>0</td>\n",
       "      <td>0.573</td>\n",
       "      <td>6.030</td>\n",
       "      <td>80.8</td>\n",
       "      <td>2.5050</td>\n",
       "      <td>1</td>\n",
       "      <td>273</td>\n",
       "      <td>21.0</td>\n",
       "      <td>396.90</td>\n",
       "      <td>7.88</td>\n",
       "      <td>11.9</td>\n",
       "    </tr>\n",
       "  </tbody>\n",
       "</table>\n",
       "<p>506 rows × 14 columns</p>\n",
       "</div>"
      ],
      "text/plain": [
       "        CRIM    ZN  INDUS  CHAS    NOX     RM   AGE     DIS  RAD  TAX  \\\n",
       "0    0.00632  18.0   2.31     0  0.538  6.575  65.2  4.0900    1  296   \n",
       "1    0.02731   0.0   7.07     0  0.469  6.421  78.9  4.9671    2  242   \n",
       "2    0.02729   0.0   7.07     0  0.469  7.185  61.1  4.9671    2  242   \n",
       "3    0.03237   0.0   2.18     0  0.458  6.998  45.8  6.0622    3  222   \n",
       "4    0.06905   0.0   2.18     0  0.458  7.147  54.2  6.0622    3  222   \n",
       "..       ...   ...    ...   ...    ...    ...   ...     ...  ...  ...   \n",
       "501  0.06263   0.0  11.93     0  0.573  6.593  69.1  2.4786    1  273   \n",
       "502  0.04527   0.0  11.93     0  0.573  6.120  76.7  2.2875    1  273   \n",
       "503  0.06076   0.0  11.93     0  0.573  6.976  91.0  2.1675    1  273   \n",
       "504  0.10959   0.0  11.93     0  0.573  6.794  89.3  2.3889    1  273   \n",
       "505  0.04741   0.0  11.93     0  0.573  6.030  80.8  2.5050    1  273   \n",
       "\n",
       "     PTRATIO       B  LSTAT  MEDV  \n",
       "0       15.3  396.90   4.98  24.0  \n",
       "1       17.8  396.90   9.14  21.6  \n",
       "2       17.8  392.83   4.03  34.7  \n",
       "3       18.7  394.63   2.94  33.4  \n",
       "4       18.7  396.90   5.33  36.2  \n",
       "..       ...     ...    ...   ...  \n",
       "501     21.0  391.99   9.67  22.4  \n",
       "502     21.0  396.90   9.08  20.6  \n",
       "503     21.0  396.90   5.64  23.9  \n",
       "504     21.0  393.45   6.48  22.0  \n",
       "505     21.0  396.90   7.88  11.9  \n",
       "\n",
       "[506 rows x 14 columns]"
      ]
     },
     "execution_count": 25,
     "metadata": {},
     "output_type": "execute_result"
    }
   ],
   "source": [
    "df"
   ]
  },
  {
   "cell_type": "code",
   "execution_count": 4,
   "id": "1e776144",
   "metadata": {},
   "outputs": [
    {
     "data": {
      "text/html": [
       "<div>\n",
       "<style scoped>\n",
       "    .dataframe tbody tr th:only-of-type {\n",
       "        vertical-align: middle;\n",
       "    }\n",
       "\n",
       "    .dataframe tbody tr th {\n",
       "        vertical-align: top;\n",
       "    }\n",
       "\n",
       "    .dataframe thead th {\n",
       "        text-align: right;\n",
       "    }\n",
       "</style>\n",
       "<table border=\"1\" class=\"dataframe\">\n",
       "  <thead>\n",
       "    <tr style=\"text-align: right;\">\n",
       "      <th></th>\n",
       "      <th>CRIM</th>\n",
       "      <th>ZN</th>\n",
       "      <th>INDUS</th>\n",
       "      <th>CHAS</th>\n",
       "      <th>NOX</th>\n",
       "      <th>RM</th>\n",
       "      <th>AGE</th>\n",
       "      <th>DIS</th>\n",
       "      <th>RAD</th>\n",
       "      <th>TAX</th>\n",
       "      <th>PTRATIO</th>\n",
       "      <th>B</th>\n",
       "      <th>LSTAT</th>\n",
       "      <th>MEDV</th>\n",
       "    </tr>\n",
       "  </thead>\n",
       "  <tbody>\n",
       "    <tr>\n",
       "      <th>2</th>\n",
       "      <td>0.02729</td>\n",
       "      <td>0.0</td>\n",
       "      <td>7.07</td>\n",
       "      <td>0</td>\n",
       "      <td>0.4690</td>\n",
       "      <td>7.185</td>\n",
       "      <td>61.1</td>\n",
       "      <td>4.9671</td>\n",
       "      <td>2</td>\n",
       "      <td>242</td>\n",
       "      <td>17.8</td>\n",
       "      <td>392.83</td>\n",
       "      <td>4.03</td>\n",
       "      <td>34.7</td>\n",
       "    </tr>\n",
       "    <tr>\n",
       "      <th>4</th>\n",
       "      <td>0.06905</td>\n",
       "      <td>0.0</td>\n",
       "      <td>2.18</td>\n",
       "      <td>0</td>\n",
       "      <td>0.4580</td>\n",
       "      <td>7.147</td>\n",
       "      <td>54.2</td>\n",
       "      <td>6.0622</td>\n",
       "      <td>3</td>\n",
       "      <td>222</td>\n",
       "      <td>18.7</td>\n",
       "      <td>396.90</td>\n",
       "      <td>5.33</td>\n",
       "      <td>36.2</td>\n",
       "    </tr>\n",
       "    <tr>\n",
       "      <th>40</th>\n",
       "      <td>0.03359</td>\n",
       "      <td>75.0</td>\n",
       "      <td>2.95</td>\n",
       "      <td>0</td>\n",
       "      <td>0.4280</td>\n",
       "      <td>7.024</td>\n",
       "      <td>15.8</td>\n",
       "      <td>5.4011</td>\n",
       "      <td>3</td>\n",
       "      <td>252</td>\n",
       "      <td>18.3</td>\n",
       "      <td>395.62</td>\n",
       "      <td>1.98</td>\n",
       "      <td>34.9</td>\n",
       "    </tr>\n",
       "    <tr>\n",
       "      <th>55</th>\n",
       "      <td>0.01311</td>\n",
       "      <td>90.0</td>\n",
       "      <td>1.22</td>\n",
       "      <td>0</td>\n",
       "      <td>0.4030</td>\n",
       "      <td>7.249</td>\n",
       "      <td>21.9</td>\n",
       "      <td>8.6966</td>\n",
       "      <td>5</td>\n",
       "      <td>226</td>\n",
       "      <td>17.9</td>\n",
       "      <td>395.93</td>\n",
       "      <td>4.81</td>\n",
       "      <td>35.4</td>\n",
       "    </tr>\n",
       "    <tr>\n",
       "      <th>64</th>\n",
       "      <td>0.01951</td>\n",
       "      <td>17.5</td>\n",
       "      <td>1.38</td>\n",
       "      <td>0</td>\n",
       "      <td>0.4161</td>\n",
       "      <td>7.104</td>\n",
       "      <td>59.5</td>\n",
       "      <td>9.2229</td>\n",
       "      <td>3</td>\n",
       "      <td>216</td>\n",
       "      <td>18.6</td>\n",
       "      <td>393.24</td>\n",
       "      <td>8.05</td>\n",
       "      <td>33.0</td>\n",
       "    </tr>\n",
       "    <tr>\n",
       "      <th>...</th>\n",
       "      <td>...</td>\n",
       "      <td>...</td>\n",
       "      <td>...</td>\n",
       "      <td>...</td>\n",
       "      <td>...</td>\n",
       "      <td>...</td>\n",
       "      <td>...</td>\n",
       "      <td>...</td>\n",
       "      <td>...</td>\n",
       "      <td>...</td>\n",
       "      <td>...</td>\n",
       "      <td>...</td>\n",
       "      <td>...</td>\n",
       "      <td>...</td>\n",
       "    </tr>\n",
       "    <tr>\n",
       "      <th>364</th>\n",
       "      <td>3.47428</td>\n",
       "      <td>0.0</td>\n",
       "      <td>18.10</td>\n",
       "      <td>1</td>\n",
       "      <td>0.7180</td>\n",
       "      <td>8.780</td>\n",
       "      <td>82.9</td>\n",
       "      <td>1.9047</td>\n",
       "      <td>24</td>\n",
       "      <td>666</td>\n",
       "      <td>20.2</td>\n",
       "      <td>354.55</td>\n",
       "      <td>5.29</td>\n",
       "      <td>21.9</td>\n",
       "    </tr>\n",
       "    <tr>\n",
       "      <th>370</th>\n",
       "      <td>6.53876</td>\n",
       "      <td>0.0</td>\n",
       "      <td>18.10</td>\n",
       "      <td>1</td>\n",
       "      <td>0.6310</td>\n",
       "      <td>7.016</td>\n",
       "      <td>97.5</td>\n",
       "      <td>1.2024</td>\n",
       "      <td>24</td>\n",
       "      <td>666</td>\n",
       "      <td>20.2</td>\n",
       "      <td>392.05</td>\n",
       "      <td>2.96</td>\n",
       "      <td>50.0</td>\n",
       "    </tr>\n",
       "    <tr>\n",
       "      <th>375</th>\n",
       "      <td>19.60910</td>\n",
       "      <td>0.0</td>\n",
       "      <td>18.10</td>\n",
       "      <td>0</td>\n",
       "      <td>0.6710</td>\n",
       "      <td>7.313</td>\n",
       "      <td>97.9</td>\n",
       "      <td>1.3163</td>\n",
       "      <td>24</td>\n",
       "      <td>666</td>\n",
       "      <td>20.2</td>\n",
       "      <td>396.90</td>\n",
       "      <td>13.44</td>\n",
       "      <td>15.0</td>\n",
       "    </tr>\n",
       "    <tr>\n",
       "      <th>453</th>\n",
       "      <td>8.24809</td>\n",
       "      <td>0.0</td>\n",
       "      <td>18.10</td>\n",
       "      <td>0</td>\n",
       "      <td>0.7130</td>\n",
       "      <td>7.393</td>\n",
       "      <td>99.3</td>\n",
       "      <td>2.4527</td>\n",
       "      <td>24</td>\n",
       "      <td>666</td>\n",
       "      <td>20.2</td>\n",
       "      <td>375.87</td>\n",
       "      <td>16.74</td>\n",
       "      <td>17.8</td>\n",
       "    </tr>\n",
       "    <tr>\n",
       "      <th>482</th>\n",
       "      <td>5.73116</td>\n",
       "      <td>0.0</td>\n",
       "      <td>18.10</td>\n",
       "      <td>0</td>\n",
       "      <td>0.5320</td>\n",
       "      <td>7.061</td>\n",
       "      <td>77.0</td>\n",
       "      <td>3.4106</td>\n",
       "      <td>24</td>\n",
       "      <td>666</td>\n",
       "      <td>20.2</td>\n",
       "      <td>395.28</td>\n",
       "      <td>7.01</td>\n",
       "      <td>25.0</td>\n",
       "    </tr>\n",
       "  </tbody>\n",
       "</table>\n",
       "<p>64 rows × 14 columns</p>\n",
       "</div>"
      ],
      "text/plain": [
       "         CRIM    ZN  INDUS  CHAS     NOX     RM   AGE     DIS  RAD  TAX  \\\n",
       "2     0.02729   0.0   7.07     0  0.4690  7.185  61.1  4.9671    2  242   \n",
       "4     0.06905   0.0   2.18     0  0.4580  7.147  54.2  6.0622    3  222   \n",
       "40    0.03359  75.0   2.95     0  0.4280  7.024  15.8  5.4011    3  252   \n",
       "55    0.01311  90.0   1.22     0  0.4030  7.249  21.9  8.6966    5  226   \n",
       "64    0.01951  17.5   1.38     0  0.4161  7.104  59.5  9.2229    3  216   \n",
       "..        ...   ...    ...   ...     ...    ...   ...     ...  ...  ...   \n",
       "364   3.47428   0.0  18.10     1  0.7180  8.780  82.9  1.9047   24  666   \n",
       "370   6.53876   0.0  18.10     1  0.6310  7.016  97.5  1.2024   24  666   \n",
       "375  19.60910   0.0  18.10     0  0.6710  7.313  97.9  1.3163   24  666   \n",
       "453   8.24809   0.0  18.10     0  0.7130  7.393  99.3  2.4527   24  666   \n",
       "482   5.73116   0.0  18.10     0  0.5320  7.061  77.0  3.4106   24  666   \n",
       "\n",
       "     PTRATIO       B  LSTAT  MEDV  \n",
       "2       17.8  392.83   4.03  34.7  \n",
       "4       18.7  396.90   5.33  36.2  \n",
       "40      18.3  395.62   1.98  34.9  \n",
       "55      17.9  395.93   4.81  35.4  \n",
       "64      18.6  393.24   8.05  33.0  \n",
       "..       ...     ...    ...   ...  \n",
       "364     20.2  354.55   5.29  21.9  \n",
       "370     20.2  392.05   2.96  50.0  \n",
       "375     20.2  396.90  13.44  15.0  \n",
       "453     20.2  375.87  16.74  17.8  \n",
       "482     20.2  395.28   7.01  25.0  \n",
       "\n",
       "[64 rows x 14 columns]"
      ]
     },
     "execution_count": 4,
     "metadata": {},
     "output_type": "execute_result"
    }
   ],
   "source": [
    "rm = df[df['RM'] > 7]\n",
    "rm"
   ]
  },
  {
   "cell_type": "code",
   "execution_count": 5,
   "id": "000b3068",
   "metadata": {},
   "outputs": [
    {
     "name": "stdout",
     "output_type": "stream",
     "text": [
      "64\n"
     ]
    }
   ],
   "source": [
    "n_rm = len(rm)\n",
    "print(n_rm)"
   ]
  },
  {
   "cell_type": "code",
   "execution_count": 6,
   "id": "43ac492f",
   "metadata": {},
   "outputs": [
    {
     "name": "stdout",
     "output_type": "stream",
     "text": [
      "506\n"
     ]
    }
   ],
   "source": [
    "n = len(df)\n",
    "print(n)"
   ]
  },
  {
   "cell_type": "code",
   "execution_count": 7,
   "id": "a13ad61a",
   "metadata": {},
   "outputs": [
    {
     "name": "stdout",
     "output_type": "stream",
     "text": [
      "0.12648221343873517\n"
     ]
    }
   ],
   "source": [
    "p = n_rm/n\n",
    "print(p)"
   ]
  },
  {
   "cell_type": "code",
   "execution_count": 12,
   "id": "356b3945",
   "metadata": {},
   "outputs": [
    {
     "data": {
      "text/html": [
       "<div>\n",
       "<style scoped>\n",
       "    .dataframe tbody tr th:only-of-type {\n",
       "        vertical-align: middle;\n",
       "    }\n",
       "\n",
       "    .dataframe tbody tr th {\n",
       "        vertical-align: top;\n",
       "    }\n",
       "\n",
       "    .dataframe thead th {\n",
       "        text-align: right;\n",
       "    }\n",
       "</style>\n",
       "<table border=\"1\" class=\"dataframe\">\n",
       "  <thead>\n",
       "    <tr style=\"text-align: right;\">\n",
       "      <th></th>\n",
       "      <th>CRIM</th>\n",
       "      <th>ZN</th>\n",
       "      <th>INDUS</th>\n",
       "      <th>CHAS</th>\n",
       "      <th>NOX</th>\n",
       "      <th>RM</th>\n",
       "      <th>AGE</th>\n",
       "      <th>DIS</th>\n",
       "      <th>RAD</th>\n",
       "      <th>TAX</th>\n",
       "      <th>PTRATIO</th>\n",
       "      <th>B</th>\n",
       "      <th>LSTAT</th>\n",
       "      <th>MEDV</th>\n",
       "    </tr>\n",
       "  </thead>\n",
       "  <tbody>\n",
       "    <tr>\n",
       "      <th>2</th>\n",
       "      <td>0.02729</td>\n",
       "      <td>0.0</td>\n",
       "      <td>7.07</td>\n",
       "      <td>0</td>\n",
       "      <td>0.4690</td>\n",
       "      <td>7.185</td>\n",
       "      <td>61.1</td>\n",
       "      <td>4.9671</td>\n",
       "      <td>2</td>\n",
       "      <td>242</td>\n",
       "      <td>17.8</td>\n",
       "      <td>392.83</td>\n",
       "      <td>4.03</td>\n",
       "      <td>34.7</td>\n",
       "    </tr>\n",
       "    <tr>\n",
       "      <th>4</th>\n",
       "      <td>0.06905</td>\n",
       "      <td>0.0</td>\n",
       "      <td>2.18</td>\n",
       "      <td>0</td>\n",
       "      <td>0.4580</td>\n",
       "      <td>7.147</td>\n",
       "      <td>54.2</td>\n",
       "      <td>6.0622</td>\n",
       "      <td>3</td>\n",
       "      <td>222</td>\n",
       "      <td>18.7</td>\n",
       "      <td>396.90</td>\n",
       "      <td>5.33</td>\n",
       "      <td>36.2</td>\n",
       "    </tr>\n",
       "    <tr>\n",
       "      <th>40</th>\n",
       "      <td>0.03359</td>\n",
       "      <td>75.0</td>\n",
       "      <td>2.95</td>\n",
       "      <td>0</td>\n",
       "      <td>0.4280</td>\n",
       "      <td>7.024</td>\n",
       "      <td>15.8</td>\n",
       "      <td>5.4011</td>\n",
       "      <td>3</td>\n",
       "      <td>252</td>\n",
       "      <td>18.3</td>\n",
       "      <td>395.62</td>\n",
       "      <td>1.98</td>\n",
       "      <td>34.9</td>\n",
       "    </tr>\n",
       "    <tr>\n",
       "      <th>55</th>\n",
       "      <td>0.01311</td>\n",
       "      <td>90.0</td>\n",
       "      <td>1.22</td>\n",
       "      <td>0</td>\n",
       "      <td>0.4030</td>\n",
       "      <td>7.249</td>\n",
       "      <td>21.9</td>\n",
       "      <td>8.6966</td>\n",
       "      <td>5</td>\n",
       "      <td>226</td>\n",
       "      <td>17.9</td>\n",
       "      <td>395.93</td>\n",
       "      <td>4.81</td>\n",
       "      <td>35.4</td>\n",
       "    </tr>\n",
       "    <tr>\n",
       "      <th>64</th>\n",
       "      <td>0.01951</td>\n",
       "      <td>17.5</td>\n",
       "      <td>1.38</td>\n",
       "      <td>0</td>\n",
       "      <td>0.4161</td>\n",
       "      <td>7.104</td>\n",
       "      <td>59.5</td>\n",
       "      <td>9.2229</td>\n",
       "      <td>3</td>\n",
       "      <td>216</td>\n",
       "      <td>18.6</td>\n",
       "      <td>393.24</td>\n",
       "      <td>8.05</td>\n",
       "      <td>33.0</td>\n",
       "    </tr>\n",
       "    <tr>\n",
       "      <th>...</th>\n",
       "      <td>...</td>\n",
       "      <td>...</td>\n",
       "      <td>...</td>\n",
       "      <td>...</td>\n",
       "      <td>...</td>\n",
       "      <td>...</td>\n",
       "      <td>...</td>\n",
       "      <td>...</td>\n",
       "      <td>...</td>\n",
       "      <td>...</td>\n",
       "      <td>...</td>\n",
       "      <td>...</td>\n",
       "      <td>...</td>\n",
       "      <td>...</td>\n",
       "    </tr>\n",
       "    <tr>\n",
       "      <th>364</th>\n",
       "      <td>3.47428</td>\n",
       "      <td>0.0</td>\n",
       "      <td>18.10</td>\n",
       "      <td>1</td>\n",
       "      <td>0.7180</td>\n",
       "      <td>8.780</td>\n",
       "      <td>82.9</td>\n",
       "      <td>1.9047</td>\n",
       "      <td>24</td>\n",
       "      <td>666</td>\n",
       "      <td>20.2</td>\n",
       "      <td>354.55</td>\n",
       "      <td>5.29</td>\n",
       "      <td>21.9</td>\n",
       "    </tr>\n",
       "    <tr>\n",
       "      <th>370</th>\n",
       "      <td>6.53876</td>\n",
       "      <td>0.0</td>\n",
       "      <td>18.10</td>\n",
       "      <td>1</td>\n",
       "      <td>0.6310</td>\n",
       "      <td>7.016</td>\n",
       "      <td>97.5</td>\n",
       "      <td>1.2024</td>\n",
       "      <td>24</td>\n",
       "      <td>666</td>\n",
       "      <td>20.2</td>\n",
       "      <td>392.05</td>\n",
       "      <td>2.96</td>\n",
       "      <td>50.0</td>\n",
       "    </tr>\n",
       "    <tr>\n",
       "      <th>375</th>\n",
       "      <td>19.60910</td>\n",
       "      <td>0.0</td>\n",
       "      <td>18.10</td>\n",
       "      <td>0</td>\n",
       "      <td>0.6710</td>\n",
       "      <td>7.313</td>\n",
       "      <td>97.9</td>\n",
       "      <td>1.3163</td>\n",
       "      <td>24</td>\n",
       "      <td>666</td>\n",
       "      <td>20.2</td>\n",
       "      <td>396.90</td>\n",
       "      <td>13.44</td>\n",
       "      <td>15.0</td>\n",
       "    </tr>\n",
       "    <tr>\n",
       "      <th>453</th>\n",
       "      <td>8.24809</td>\n",
       "      <td>0.0</td>\n",
       "      <td>18.10</td>\n",
       "      <td>0</td>\n",
       "      <td>0.7130</td>\n",
       "      <td>7.393</td>\n",
       "      <td>99.3</td>\n",
       "      <td>2.4527</td>\n",
       "      <td>24</td>\n",
       "      <td>666</td>\n",
       "      <td>20.2</td>\n",
       "      <td>375.87</td>\n",
       "      <td>16.74</td>\n",
       "      <td>17.8</td>\n",
       "    </tr>\n",
       "    <tr>\n",
       "      <th>482</th>\n",
       "      <td>5.73116</td>\n",
       "      <td>0.0</td>\n",
       "      <td>18.10</td>\n",
       "      <td>0</td>\n",
       "      <td>0.5320</td>\n",
       "      <td>7.061</td>\n",
       "      <td>77.0</td>\n",
       "      <td>3.4106</td>\n",
       "      <td>24</td>\n",
       "      <td>666</td>\n",
       "      <td>20.2</td>\n",
       "      <td>395.28</td>\n",
       "      <td>7.01</td>\n",
       "      <td>25.0</td>\n",
       "    </tr>\n",
       "  </tbody>\n",
       "</table>\n",
       "<p>64 rows × 14 columns</p>\n",
       "</div>"
      ],
      "text/plain": [
       "         CRIM    ZN  INDUS  CHAS     NOX     RM   AGE     DIS  RAD  TAX  \\\n",
       "2     0.02729   0.0   7.07     0  0.4690  7.185  61.1  4.9671    2  242   \n",
       "4     0.06905   0.0   2.18     0  0.4580  7.147  54.2  6.0622    3  222   \n",
       "40    0.03359  75.0   2.95     0  0.4280  7.024  15.8  5.4011    3  252   \n",
       "55    0.01311  90.0   1.22     0  0.4030  7.249  21.9  8.6966    5  226   \n",
       "64    0.01951  17.5   1.38     0  0.4161  7.104  59.5  9.2229    3  216   \n",
       "..        ...   ...    ...   ...     ...    ...   ...     ...  ...  ...   \n",
       "364   3.47428   0.0  18.10     1  0.7180  8.780  82.9  1.9047   24  666   \n",
       "370   6.53876   0.0  18.10     1  0.6310  7.016  97.5  1.2024   24  666   \n",
       "375  19.60910   0.0  18.10     0  0.6710  7.313  97.9  1.3163   24  666   \n",
       "453   8.24809   0.0  18.10     0  0.7130  7.393  99.3  2.4527   24  666   \n",
       "482   5.73116   0.0  18.10     0  0.5320  7.061  77.0  3.4106   24  666   \n",
       "\n",
       "     PTRATIO       B  LSTAT  MEDV  \n",
       "2       17.8  392.83   4.03  34.7  \n",
       "4       18.7  396.90   5.33  36.2  \n",
       "40      18.3  395.62   1.98  34.9  \n",
       "55      17.9  395.93   4.81  35.4  \n",
       "64      18.6  393.24   8.05  33.0  \n",
       "..       ...     ...    ...   ...  \n",
       "364     20.2  354.55   5.29  21.9  \n",
       "370     20.2  392.05   2.96  50.0  \n",
       "375     20.2  396.90  13.44  15.0  \n",
       "453     20.2  375.87  16.74  17.8  \n",
       "482     20.2  395.28   7.01  25.0  \n",
       "\n",
       "[64 rows x 14 columns]"
      ]
     },
     "execution_count": 12,
     "metadata": {},
     "output_type": "execute_result"
    }
   ],
   "source": [
    "df[df['RM']>7]"
   ]
  },
  {
   "cell_type": "code",
   "execution_count": 14,
   "id": "345249ce",
   "metadata": {},
   "outputs": [
    {
     "data": {
      "text/html": [
       "<div>\n",
       "<style scoped>\n",
       "    .dataframe tbody tr th:only-of-type {\n",
       "        vertical-align: middle;\n",
       "    }\n",
       "\n",
       "    .dataframe tbody tr th {\n",
       "        vertical-align: top;\n",
       "    }\n",
       "\n",
       "    .dataframe thead th {\n",
       "        text-align: right;\n",
       "    }\n",
       "</style>\n",
       "<table border=\"1\" class=\"dataframe\">\n",
       "  <thead>\n",
       "    <tr style=\"text-align: right;\">\n",
       "      <th></th>\n",
       "      <th>CRIM</th>\n",
       "      <th>ZN</th>\n",
       "      <th>INDUS</th>\n",
       "      <th>CHAS</th>\n",
       "      <th>NOX</th>\n",
       "      <th>RM</th>\n",
       "      <th>AGE</th>\n",
       "      <th>DIS</th>\n",
       "      <th>RAD</th>\n",
       "      <th>TAX</th>\n",
       "      <th>PTRATIO</th>\n",
       "      <th>B</th>\n",
       "      <th>LSTAT</th>\n",
       "      <th>MEDV</th>\n",
       "    </tr>\n",
       "  </thead>\n",
       "  <tbody>\n",
       "    <tr>\n",
       "      <th>142</th>\n",
       "      <td>3.32105</td>\n",
       "      <td>0.0</td>\n",
       "      <td>19.58</td>\n",
       "      <td>1</td>\n",
       "      <td>0.871</td>\n",
       "      <td>5.403</td>\n",
       "      <td>100.0</td>\n",
       "      <td>1.3216</td>\n",
       "      <td>5</td>\n",
       "      <td>403</td>\n",
       "      <td>14.7</td>\n",
       "      <td>396.90</td>\n",
       "      <td>26.82</td>\n",
       "      <td>13.4</td>\n",
       "    </tr>\n",
       "    <tr>\n",
       "      <th>143</th>\n",
       "      <td>4.09740</td>\n",
       "      <td>0.0</td>\n",
       "      <td>19.58</td>\n",
       "      <td>0</td>\n",
       "      <td>0.871</td>\n",
       "      <td>5.468</td>\n",
       "      <td>100.0</td>\n",
       "      <td>1.4118</td>\n",
       "      <td>5</td>\n",
       "      <td>403</td>\n",
       "      <td>14.7</td>\n",
       "      <td>396.90</td>\n",
       "      <td>26.42</td>\n",
       "      <td>15.6</td>\n",
       "    </tr>\n",
       "    <tr>\n",
       "      <th>144</th>\n",
       "      <td>2.77974</td>\n",
       "      <td>0.0</td>\n",
       "      <td>19.58</td>\n",
       "      <td>0</td>\n",
       "      <td>0.871</td>\n",
       "      <td>4.903</td>\n",
       "      <td>97.8</td>\n",
       "      <td>1.3459</td>\n",
       "      <td>5</td>\n",
       "      <td>403</td>\n",
       "      <td>14.7</td>\n",
       "      <td>396.90</td>\n",
       "      <td>29.29</td>\n",
       "      <td>11.8</td>\n",
       "    </tr>\n",
       "    <tr>\n",
       "      <th>145</th>\n",
       "      <td>2.37934</td>\n",
       "      <td>0.0</td>\n",
       "      <td>19.58</td>\n",
       "      <td>0</td>\n",
       "      <td>0.871</td>\n",
       "      <td>6.130</td>\n",
       "      <td>100.0</td>\n",
       "      <td>1.4191</td>\n",
       "      <td>5</td>\n",
       "      <td>403</td>\n",
       "      <td>14.7</td>\n",
       "      <td>172.91</td>\n",
       "      <td>27.80</td>\n",
       "      <td>13.8</td>\n",
       "    </tr>\n",
       "    <tr>\n",
       "      <th>146</th>\n",
       "      <td>2.15505</td>\n",
       "      <td>0.0</td>\n",
       "      <td>19.58</td>\n",
       "      <td>0</td>\n",
       "      <td>0.871</td>\n",
       "      <td>5.628</td>\n",
       "      <td>100.0</td>\n",
       "      <td>1.5166</td>\n",
       "      <td>5</td>\n",
       "      <td>403</td>\n",
       "      <td>14.7</td>\n",
       "      <td>169.27</td>\n",
       "      <td>16.65</td>\n",
       "      <td>15.6</td>\n",
       "    </tr>\n",
       "    <tr>\n",
       "      <th>147</th>\n",
       "      <td>2.36862</td>\n",
       "      <td>0.0</td>\n",
       "      <td>19.58</td>\n",
       "      <td>0</td>\n",
       "      <td>0.871</td>\n",
       "      <td>4.926</td>\n",
       "      <td>95.7</td>\n",
       "      <td>1.4608</td>\n",
       "      <td>5</td>\n",
       "      <td>403</td>\n",
       "      <td>14.7</td>\n",
       "      <td>391.71</td>\n",
       "      <td>29.53</td>\n",
       "      <td>14.6</td>\n",
       "    </tr>\n",
       "    <tr>\n",
       "      <th>148</th>\n",
       "      <td>2.33099</td>\n",
       "      <td>0.0</td>\n",
       "      <td>19.58</td>\n",
       "      <td>0</td>\n",
       "      <td>0.871</td>\n",
       "      <td>5.186</td>\n",
       "      <td>93.8</td>\n",
       "      <td>1.5296</td>\n",
       "      <td>5</td>\n",
       "      <td>403</td>\n",
       "      <td>14.7</td>\n",
       "      <td>356.99</td>\n",
       "      <td>28.32</td>\n",
       "      <td>17.8</td>\n",
       "    </tr>\n",
       "    <tr>\n",
       "      <th>149</th>\n",
       "      <td>2.73397</td>\n",
       "      <td>0.0</td>\n",
       "      <td>19.58</td>\n",
       "      <td>0</td>\n",
       "      <td>0.871</td>\n",
       "      <td>5.597</td>\n",
       "      <td>94.9</td>\n",
       "      <td>1.5257</td>\n",
       "      <td>5</td>\n",
       "      <td>403</td>\n",
       "      <td>14.7</td>\n",
       "      <td>351.85</td>\n",
       "      <td>21.45</td>\n",
       "      <td>15.4</td>\n",
       "    </tr>\n",
       "    <tr>\n",
       "      <th>150</th>\n",
       "      <td>1.65660</td>\n",
       "      <td>0.0</td>\n",
       "      <td>19.58</td>\n",
       "      <td>0</td>\n",
       "      <td>0.871</td>\n",
       "      <td>6.122</td>\n",
       "      <td>97.3</td>\n",
       "      <td>1.6180</td>\n",
       "      <td>5</td>\n",
       "      <td>403</td>\n",
       "      <td>14.7</td>\n",
       "      <td>372.80</td>\n",
       "      <td>14.10</td>\n",
       "      <td>21.5</td>\n",
       "    </tr>\n",
       "    <tr>\n",
       "      <th>151</th>\n",
       "      <td>1.49632</td>\n",
       "      <td>0.0</td>\n",
       "      <td>19.58</td>\n",
       "      <td>0</td>\n",
       "      <td>0.871</td>\n",
       "      <td>5.404</td>\n",
       "      <td>100.0</td>\n",
       "      <td>1.5916</td>\n",
       "      <td>5</td>\n",
       "      <td>403</td>\n",
       "      <td>14.7</td>\n",
       "      <td>341.60</td>\n",
       "      <td>13.28</td>\n",
       "      <td>19.6</td>\n",
       "    </tr>\n",
       "  </tbody>\n",
       "</table>\n",
       "</div>"
      ],
      "text/plain": [
       "        CRIM   ZN  INDUS  CHAS    NOX     RM    AGE     DIS  RAD  TAX  \\\n",
       "142  3.32105  0.0  19.58     1  0.871  5.403  100.0  1.3216    5  403   \n",
       "143  4.09740  0.0  19.58     0  0.871  5.468  100.0  1.4118    5  403   \n",
       "144  2.77974  0.0  19.58     0  0.871  4.903   97.8  1.3459    5  403   \n",
       "145  2.37934  0.0  19.58     0  0.871  6.130  100.0  1.4191    5  403   \n",
       "146  2.15505  0.0  19.58     0  0.871  5.628  100.0  1.5166    5  403   \n",
       "147  2.36862  0.0  19.58     0  0.871  4.926   95.7  1.4608    5  403   \n",
       "148  2.33099  0.0  19.58     0  0.871  5.186   93.8  1.5296    5  403   \n",
       "149  2.73397  0.0  19.58     0  0.871  5.597   94.9  1.5257    5  403   \n",
       "150  1.65660  0.0  19.58     0  0.871  6.122   97.3  1.6180    5  403   \n",
       "151  1.49632  0.0  19.58     0  0.871  5.404  100.0  1.5916    5  403   \n",
       "\n",
       "     PTRATIO       B  LSTAT  MEDV  \n",
       "142     14.7  396.90  26.82  13.4  \n",
       "143     14.7  396.90  26.42  15.6  \n",
       "144     14.7  396.90  29.29  11.8  \n",
       "145     14.7  172.91  27.80  13.8  \n",
       "146     14.7  169.27  16.65  15.6  \n",
       "147     14.7  391.71  29.53  14.6  \n",
       "148     14.7  356.99  28.32  17.8  \n",
       "149     14.7  351.85  21.45  15.4  \n",
       "150     14.7  372.80  14.10  21.5  \n",
       "151     14.7  341.60  13.28  19.6  "
      ]
     },
     "execution_count": 14,
     "metadata": {},
     "output_type": "execute_result"
    }
   ],
   "source": [
    "ptratio = df[df['PTRATIO'] < 15]\n",
    "ptratio.head(10)"
   ]
  },
  {
   "cell_type": "code",
   "execution_count": 19,
   "id": "0ff38086",
   "metadata": {},
   "outputs": [
    {
     "name": "stdout",
     "output_type": "stream",
     "text": [
      "0.11462450592885376\n"
     ]
    }
   ],
   "source": [
    "p_ptratio = len(ptratio)/len(df)\n",
    "print(p_ptratio)"
   ]
  },
  {
   "cell_type": "code",
   "execution_count": 16,
   "id": "68656531",
   "metadata": {},
   "outputs": [
    {
     "data": {
      "text/html": [
       "<div>\n",
       "<style scoped>\n",
       "    .dataframe tbody tr th:only-of-type {\n",
       "        vertical-align: middle;\n",
       "    }\n",
       "\n",
       "    .dataframe tbody tr th {\n",
       "        vertical-align: top;\n",
       "    }\n",
       "\n",
       "    .dataframe thead th {\n",
       "        text-align: right;\n",
       "    }\n",
       "</style>\n",
       "<table border=\"1\" class=\"dataframe\">\n",
       "  <thead>\n",
       "    <tr style=\"text-align: right;\">\n",
       "      <th></th>\n",
       "      <th>CRIM</th>\n",
       "      <th>ZN</th>\n",
       "      <th>INDUS</th>\n",
       "      <th>CHAS</th>\n",
       "      <th>NOX</th>\n",
       "      <th>RM</th>\n",
       "      <th>AGE</th>\n",
       "      <th>DIS</th>\n",
       "      <th>RAD</th>\n",
       "      <th>TAX</th>\n",
       "      <th>PTRATIO</th>\n",
       "      <th>B</th>\n",
       "      <th>LSTAT</th>\n",
       "      <th>MEDV</th>\n",
       "    </tr>\n",
       "  </thead>\n",
       "  <tbody>\n",
       "    <tr>\n",
       "      <th>161</th>\n",
       "      <td>1.46336</td>\n",
       "      <td>0.0</td>\n",
       "      <td>19.58</td>\n",
       "      <td>0</td>\n",
       "      <td>0.6050</td>\n",
       "      <td>7.489</td>\n",
       "      <td>90.8</td>\n",
       "      <td>1.9709</td>\n",
       "      <td>5</td>\n",
       "      <td>403</td>\n",
       "      <td>14.7</td>\n",
       "      <td>374.43</td>\n",
       "      <td>1.73</td>\n",
       "      <td>50.0</td>\n",
       "    </tr>\n",
       "    <tr>\n",
       "      <th>162</th>\n",
       "      <td>1.83377</td>\n",
       "      <td>0.0</td>\n",
       "      <td>19.58</td>\n",
       "      <td>1</td>\n",
       "      <td>0.6050</td>\n",
       "      <td>7.802</td>\n",
       "      <td>98.2</td>\n",
       "      <td>2.0407</td>\n",
       "      <td>5</td>\n",
       "      <td>403</td>\n",
       "      <td>14.7</td>\n",
       "      <td>389.61</td>\n",
       "      <td>1.92</td>\n",
       "      <td>50.0</td>\n",
       "    </tr>\n",
       "    <tr>\n",
       "      <th>163</th>\n",
       "      <td>1.51902</td>\n",
       "      <td>0.0</td>\n",
       "      <td>19.58</td>\n",
       "      <td>1</td>\n",
       "      <td>0.6050</td>\n",
       "      <td>8.375</td>\n",
       "      <td>93.9</td>\n",
       "      <td>2.1620</td>\n",
       "      <td>5</td>\n",
       "      <td>403</td>\n",
       "      <td>14.7</td>\n",
       "      <td>388.45</td>\n",
       "      <td>3.32</td>\n",
       "      <td>50.0</td>\n",
       "    </tr>\n",
       "    <tr>\n",
       "      <th>166</th>\n",
       "      <td>2.01019</td>\n",
       "      <td>0.0</td>\n",
       "      <td>19.58</td>\n",
       "      <td>0</td>\n",
       "      <td>0.6050</td>\n",
       "      <td>7.929</td>\n",
       "      <td>96.2</td>\n",
       "      <td>2.0459</td>\n",
       "      <td>5</td>\n",
       "      <td>403</td>\n",
       "      <td>14.7</td>\n",
       "      <td>369.30</td>\n",
       "      <td>3.70</td>\n",
       "      <td>50.0</td>\n",
       "    </tr>\n",
       "    <tr>\n",
       "      <th>195</th>\n",
       "      <td>0.01381</td>\n",
       "      <td>80.0</td>\n",
       "      <td>0.46</td>\n",
       "      <td>0</td>\n",
       "      <td>0.4220</td>\n",
       "      <td>7.875</td>\n",
       "      <td>32.0</td>\n",
       "      <td>5.6484</td>\n",
       "      <td>4</td>\n",
       "      <td>255</td>\n",
       "      <td>14.4</td>\n",
       "      <td>394.23</td>\n",
       "      <td>2.97</td>\n",
       "      <td>50.0</td>\n",
       "    </tr>\n",
       "    <tr>\n",
       "      <th>196</th>\n",
       "      <td>0.04011</td>\n",
       "      <td>80.0</td>\n",
       "      <td>1.52</td>\n",
       "      <td>0</td>\n",
       "      <td>0.4040</td>\n",
       "      <td>7.287</td>\n",
       "      <td>34.1</td>\n",
       "      <td>7.3090</td>\n",
       "      <td>2</td>\n",
       "      <td>329</td>\n",
       "      <td>12.6</td>\n",
       "      <td>396.90</td>\n",
       "      <td>4.08</td>\n",
       "      <td>33.3</td>\n",
       "    </tr>\n",
       "    <tr>\n",
       "      <th>197</th>\n",
       "      <td>0.04666</td>\n",
       "      <td>80.0</td>\n",
       "      <td>1.52</td>\n",
       "      <td>0</td>\n",
       "      <td>0.4040</td>\n",
       "      <td>7.107</td>\n",
       "      <td>36.6</td>\n",
       "      <td>7.3090</td>\n",
       "      <td>2</td>\n",
       "      <td>329</td>\n",
       "      <td>12.6</td>\n",
       "      <td>354.31</td>\n",
       "      <td>8.61</td>\n",
       "      <td>30.3</td>\n",
       "    </tr>\n",
       "    <tr>\n",
       "      <th>198</th>\n",
       "      <td>0.03768</td>\n",
       "      <td>80.0</td>\n",
       "      <td>1.52</td>\n",
       "      <td>0</td>\n",
       "      <td>0.4040</td>\n",
       "      <td>7.274</td>\n",
       "      <td>38.3</td>\n",
       "      <td>7.3090</td>\n",
       "      <td>2</td>\n",
       "      <td>329</td>\n",
       "      <td>12.6</td>\n",
       "      <td>392.20</td>\n",
       "      <td>6.62</td>\n",
       "      <td>34.6</td>\n",
       "    </tr>\n",
       "    <tr>\n",
       "      <th>202</th>\n",
       "      <td>0.02177</td>\n",
       "      <td>82.5</td>\n",
       "      <td>2.03</td>\n",
       "      <td>0</td>\n",
       "      <td>0.4150</td>\n",
       "      <td>7.610</td>\n",
       "      <td>15.7</td>\n",
       "      <td>6.2700</td>\n",
       "      <td>2</td>\n",
       "      <td>348</td>\n",
       "      <td>14.7</td>\n",
       "      <td>395.38</td>\n",
       "      <td>3.11</td>\n",
       "      <td>42.3</td>\n",
       "    </tr>\n",
       "    <tr>\n",
       "      <th>203</th>\n",
       "      <td>0.03510</td>\n",
       "      <td>95.0</td>\n",
       "      <td>2.68</td>\n",
       "      <td>0</td>\n",
       "      <td>0.4161</td>\n",
       "      <td>7.853</td>\n",
       "      <td>33.2</td>\n",
       "      <td>5.1180</td>\n",
       "      <td>4</td>\n",
       "      <td>224</td>\n",
       "      <td>14.7</td>\n",
       "      <td>392.78</td>\n",
       "      <td>3.81</td>\n",
       "      <td>48.5</td>\n",
       "    </tr>\n",
       "  </tbody>\n",
       "</table>\n",
       "</div>"
      ],
      "text/plain": [
       "        CRIM    ZN  INDUS  CHAS     NOX     RM   AGE     DIS  RAD  TAX  \\\n",
       "161  1.46336   0.0  19.58     0  0.6050  7.489  90.8  1.9709    5  403   \n",
       "162  1.83377   0.0  19.58     1  0.6050  7.802  98.2  2.0407    5  403   \n",
       "163  1.51902   0.0  19.58     1  0.6050  8.375  93.9  2.1620    5  403   \n",
       "166  2.01019   0.0  19.58     0  0.6050  7.929  96.2  2.0459    5  403   \n",
       "195  0.01381  80.0   0.46     0  0.4220  7.875  32.0  5.6484    4  255   \n",
       "196  0.04011  80.0   1.52     0  0.4040  7.287  34.1  7.3090    2  329   \n",
       "197  0.04666  80.0   1.52     0  0.4040  7.107  36.6  7.3090    2  329   \n",
       "198  0.03768  80.0   1.52     0  0.4040  7.274  38.3  7.3090    2  329   \n",
       "202  0.02177  82.5   2.03     0  0.4150  7.610  15.7  6.2700    2  348   \n",
       "203  0.03510  95.0   2.68     0  0.4161  7.853  33.2  5.1180    4  224   \n",
       "\n",
       "     PTRATIO       B  LSTAT  MEDV  \n",
       "161     14.7  374.43   1.73  50.0  \n",
       "162     14.7  389.61   1.92  50.0  \n",
       "163     14.7  388.45   3.32  50.0  \n",
       "166     14.7  369.30   3.70  50.0  \n",
       "195     14.4  394.23   2.97  50.0  \n",
       "196     12.6  396.90   4.08  33.3  \n",
       "197     12.6  354.31   8.61  30.3  \n",
       "198     12.6  392.20   6.62  34.6  \n",
       "202     14.7  395.38   3.11  42.3  \n",
       "203     14.7  392.78   3.81  48.5  "
      ]
     },
     "execution_count": 16,
     "metadata": {},
     "output_type": "execute_result"
    }
   ],
   "source": [
    "ptratio_rm = df[(df['RM'] > 7) & (df['PTRATIO'] < 15)]\n",
    "ptratio_rm.head(10)"
   ]
  },
  {
   "cell_type": "code",
   "execution_count": 17,
   "id": "b3a874e4",
   "metadata": {},
   "outputs": [
    {
     "name": "stdout",
     "output_type": "stream",
     "text": [
      "0.04940711462450593\n"
     ]
    }
   ],
   "source": [
    "p_ptratio_rm = len(ptratio_rm)/len(df)\n",
    "print(p_ptratio_rm)"
   ]
  },
  {
   "cell_type": "code",
   "execution_count": 21,
   "id": "16c558b5",
   "metadata": {},
   "outputs": [
    {
     "name": "stdout",
     "output_type": "stream",
     "text": [
      "0.43103448275862066\n"
     ]
    }
   ],
   "source": [
    "p = p_ptratio_rm/p_ptratio\n",
    "print(p)"
   ]
  },
  {
   "cell_type": "code",
   "execution_count": 26,
   "id": "a5d4147f",
   "metadata": {},
   "outputs": [
    {
     "data": {
      "text/plain": [
       "6.284634387351779"
      ]
     },
     "execution_count": 26,
     "metadata": {},
     "output_type": "execute_result"
    }
   ],
   "source": [
    "np.mean(df['RM'])"
   ]
  },
  {
   "cell_type": "code",
   "execution_count": 27,
   "id": "7b523a31",
   "metadata": {},
   "outputs": [
    {
     "data": {
      "text/plain": [
       "6.284634387351779"
      ]
     },
     "execution_count": 27,
     "metadata": {},
     "output_type": "execute_result"
    }
   ],
   "source": [
    "df['RM'].mean()"
   ]
  },
  {
   "cell_type": "code",
   "execution_count": 28,
   "id": "eab6a9ba",
   "metadata": {},
   "outputs": [
    {
     "name": "stdout",
     "output_type": "stream",
     "text": [
      "6.284634387351787\n"
     ]
    }
   ],
   "source": [
    "n = len(df)\n",
    "sum_x = 0\n",
    "for x in df['RM']:\n",
    "    sum_x +=x\n",
    "mean_rm = sum_x/n\n",
    "print(mean_rm)\n",
    "# 부동소수점의 오류"
   ]
  },
  {
   "cell_type": "code",
   "execution_count": 29,
   "id": "e791860b",
   "metadata": {},
   "outputs": [
    {
     "data": {
      "text/plain": [
       "0.49269521612976297"
      ]
     },
     "execution_count": 29,
     "metadata": {},
     "output_type": "execute_result"
    }
   ],
   "source": [
    "np.var(df['RM'])"
   ]
  },
  {
   "cell_type": "code",
   "execution_count": 30,
   "id": "045fd8f4",
   "metadata": {},
   "outputs": [
    {
     "data": {
      "text/plain": [
       "0.49367085022110907"
      ]
     },
     "execution_count": 30,
     "metadata": {},
     "output_type": "execute_result"
    }
   ],
   "source": [
    "df['RM'].var()"
   ]
  },
  {
   "cell_type": "code",
   "execution_count": 31,
   "id": "ec8051c8",
   "metadata": {},
   "outputs": [
    {
     "data": {
      "text/plain": [
       "0.7019225143345689"
      ]
     },
     "execution_count": 31,
     "metadata": {},
     "output_type": "execute_result"
    }
   ],
   "source": [
    "np.std(df['RM'])"
   ]
  },
  {
   "cell_type": "code",
   "execution_count": 32,
   "id": "32203681",
   "metadata": {},
   "outputs": [
    {
     "data": {
      "text/plain": [
       "0.7026171434153233"
      ]
     },
     "execution_count": 32,
     "metadata": {},
     "output_type": "execute_result"
    }
   ],
   "source": [
    "df['RM'].std()"
   ]
  },
  {
   "cell_type": "code",
   "execution_count": 34,
   "id": "61c825af",
   "metadata": {},
   "outputs": [],
   "source": [
    "n = len(df)\n",
    "ss = 0\n",
    "for x in df['RM']:\n",
    "    ss +=( x - mean_rm)**2\n",
    "    "
   ]
  },
  {
   "cell_type": "code",
   "execution_count": 35,
   "id": "9a362f50",
   "metadata": {},
   "outputs": [
    {
     "name": "stdout",
     "output_type": "stream",
     "text": [
      "0.49269521612976347\n",
      "0.7019225143345692\n"
     ]
    }
   ],
   "source": [
    "var_rm = ss/n\n",
    "std_rm = var_rm**0.5\n",
    "print(var_rm)\n",
    "print(std_rm)\n"
   ]
  },
  {
   "cell_type": "code",
   "execution_count": 36,
   "id": "4291a494",
   "metadata": {},
   "outputs": [
    {
     "name": "stdout",
     "output_type": "stream",
     "text": [
      "0.4936708502211095\n",
      "0.7026171434153237\n"
     ]
    }
   ],
   "source": [
    "var_rm = ss/(n-1)\n",
    "std_rm = var_rm**0.5\n",
    "print(var_rm)\n",
    "print(std_rm)"
   ]
  },
  {
   "cell_type": "code",
   "execution_count": 37,
   "id": "06549938",
   "metadata": {},
   "outputs": [
    {
     "data": {
      "text/plain": [
       "0.7026171434153233"
      ]
     },
     "execution_count": 37,
     "metadata": {},
     "output_type": "execute_result"
    }
   ],
   "source": [
    "df['RM'].std()"
   ]
  },
  {
   "cell_type": "code",
   "execution_count": 38,
   "id": "29607710",
   "metadata": {},
   "outputs": [
    {
     "data": {
      "text/plain": [
       "0.7026171434153233"
      ]
     },
     "execution_count": 38,
     "metadata": {},
     "output_type": "execute_result"
    }
   ],
   "source": [
    "df['RM'].std(ddof=1)"
   ]
  },
  {
   "cell_type": "code",
   "execution_count": 39,
   "id": "65e07528",
   "metadata": {},
   "outputs": [
    {
     "data": {
      "text/plain": [
       "0.7019225143345689"
      ]
     },
     "execution_count": 39,
     "metadata": {},
     "output_type": "execute_result"
    }
   ],
   "source": [
    "df['RM'].std(ddof=0)"
   ]
  },
  {
   "cell_type": "code",
   "execution_count": 40,
   "id": "ef9be76d",
   "metadata": {},
   "outputs": [
    {
     "data": {
      "text/html": [
       "<div>\n",
       "<style scoped>\n",
       "    .dataframe tbody tr th:only-of-type {\n",
       "        vertical-align: middle;\n",
       "    }\n",
       "\n",
       "    .dataframe tbody tr th {\n",
       "        vertical-align: top;\n",
       "    }\n",
       "\n",
       "    .dataframe thead th {\n",
       "        text-align: right;\n",
       "    }\n",
       "</style>\n",
       "<table border=\"1\" class=\"dataframe\">\n",
       "  <thead>\n",
       "    <tr style=\"text-align: right;\">\n",
       "      <th></th>\n",
       "      <th>CRIM</th>\n",
       "      <th>NOX</th>\n",
       "      <th>RM</th>\n",
       "      <th>AGE</th>\n",
       "      <th>TAX</th>\n",
       "    </tr>\n",
       "  </thead>\n",
       "  <tbody>\n",
       "    <tr>\n",
       "      <th>0</th>\n",
       "      <td>0.00632</td>\n",
       "      <td>0.538</td>\n",
       "      <td>6.575</td>\n",
       "      <td>65.2</td>\n",
       "      <td>296</td>\n",
       "    </tr>\n",
       "    <tr>\n",
       "      <th>1</th>\n",
       "      <td>0.02731</td>\n",
       "      <td>0.469</td>\n",
       "      <td>6.421</td>\n",
       "      <td>78.9</td>\n",
       "      <td>242</td>\n",
       "    </tr>\n",
       "    <tr>\n",
       "      <th>2</th>\n",
       "      <td>0.02729</td>\n",
       "      <td>0.469</td>\n",
       "      <td>7.185</td>\n",
       "      <td>61.1</td>\n",
       "      <td>242</td>\n",
       "    </tr>\n",
       "    <tr>\n",
       "      <th>3</th>\n",
       "      <td>0.03237</td>\n",
       "      <td>0.458</td>\n",
       "      <td>6.998</td>\n",
       "      <td>45.8</td>\n",
       "      <td>222</td>\n",
       "    </tr>\n",
       "    <tr>\n",
       "      <th>4</th>\n",
       "      <td>0.06905</td>\n",
       "      <td>0.458</td>\n",
       "      <td>7.147</td>\n",
       "      <td>54.2</td>\n",
       "      <td>222</td>\n",
       "    </tr>\n",
       "    <tr>\n",
       "      <th>...</th>\n",
       "      <td>...</td>\n",
       "      <td>...</td>\n",
       "      <td>...</td>\n",
       "      <td>...</td>\n",
       "      <td>...</td>\n",
       "    </tr>\n",
       "    <tr>\n",
       "      <th>501</th>\n",
       "      <td>0.06263</td>\n",
       "      <td>0.573</td>\n",
       "      <td>6.593</td>\n",
       "      <td>69.1</td>\n",
       "      <td>273</td>\n",
       "    </tr>\n",
       "    <tr>\n",
       "      <th>502</th>\n",
       "      <td>0.04527</td>\n",
       "      <td>0.573</td>\n",
       "      <td>6.120</td>\n",
       "      <td>76.7</td>\n",
       "      <td>273</td>\n",
       "    </tr>\n",
       "    <tr>\n",
       "      <th>503</th>\n",
       "      <td>0.06076</td>\n",
       "      <td>0.573</td>\n",
       "      <td>6.976</td>\n",
       "      <td>91.0</td>\n",
       "      <td>273</td>\n",
       "    </tr>\n",
       "    <tr>\n",
       "      <th>504</th>\n",
       "      <td>0.10959</td>\n",
       "      <td>0.573</td>\n",
       "      <td>6.794</td>\n",
       "      <td>89.3</td>\n",
       "      <td>273</td>\n",
       "    </tr>\n",
       "    <tr>\n",
       "      <th>505</th>\n",
       "      <td>0.04741</td>\n",
       "      <td>0.573</td>\n",
       "      <td>6.030</td>\n",
       "      <td>80.8</td>\n",
       "      <td>273</td>\n",
       "    </tr>\n",
       "  </tbody>\n",
       "</table>\n",
       "<p>506 rows × 5 columns</p>\n",
       "</div>"
      ],
      "text/plain": [
       "        CRIM    NOX     RM   AGE  TAX\n",
       "0    0.00632  0.538  6.575  65.2  296\n",
       "1    0.02731  0.469  6.421  78.9  242\n",
       "2    0.02729  0.469  7.185  61.1  242\n",
       "3    0.03237  0.458  6.998  45.8  222\n",
       "4    0.06905  0.458  7.147  54.2  222\n",
       "..       ...    ...    ...   ...  ...\n",
       "501  0.06263  0.573  6.593  69.1  273\n",
       "502  0.04527  0.573  6.120  76.7  273\n",
       "503  0.06076  0.573  6.976  91.0  273\n",
       "504  0.10959  0.573  6.794  89.3  273\n",
       "505  0.04741  0.573  6.030  80.8  273\n",
       "\n",
       "[506 rows x 5 columns]"
      ]
     },
     "execution_count": 40,
     "metadata": {},
     "output_type": "execute_result"
    }
   ],
   "source": [
    "X = df[['CRIM','NOX','RM','AGE','TAX']]\n",
    "X"
   ]
  },
  {
   "cell_type": "code",
   "execution_count": 41,
   "id": "bb603155",
   "metadata": {},
   "outputs": [
    {
     "name": "stdout",
     "output_type": "stream",
     "text": [
      "[[ 7.39865782e+01  4.19593894e-01 -1.32503785e+00  8.54053223e+01\n",
      "   8.44821538e+02]\n",
      " [ 4.19593894e-01  1.34276357e-02 -2.46034495e-02  2.38592720e+00\n",
      "   1.30462855e+01]\n",
      " [-1.32503785e+00 -2.46034495e-02  4.93670850e-01 -4.75192919e+00\n",
      "  -3.45834478e+01]\n",
      " [ 8.54053223e+01  2.38592720e+00 -4.75192919e+00  7.92358399e+02\n",
      "   2.40269012e+03]\n",
      " [ 8.44821538e+02  1.30462855e+01 -3.45834478e+01  2.40269012e+03\n",
      "   2.84047595e+04]]\n"
     ]
    }
   ],
   "source": [
    "cov_x = np.cov(X, rowvar = 0)\n",
    "print(cov_x)"
   ]
  },
  {
   "cell_type": "code",
   "execution_count": 42,
   "id": "75d8b701",
   "metadata": {},
   "outputs": [],
   "source": [
    "cov_x = X.cov()"
   ]
  },
  {
   "cell_type": "code",
   "execution_count": 43,
   "id": "09442fda",
   "metadata": {},
   "outputs": [
    {
     "data": {
      "text/html": [
       "<div>\n",
       "<style scoped>\n",
       "    .dataframe tbody tr th:only-of-type {\n",
       "        vertical-align: middle;\n",
       "    }\n",
       "\n",
       "    .dataframe tbody tr th {\n",
       "        vertical-align: top;\n",
       "    }\n",
       "\n",
       "    .dataframe thead th {\n",
       "        text-align: right;\n",
       "    }\n",
       "</style>\n",
       "<table border=\"1\" class=\"dataframe\">\n",
       "  <thead>\n",
       "    <tr style=\"text-align: right;\">\n",
       "      <th></th>\n",
       "      <th>CRIM</th>\n",
       "      <th>NOX</th>\n",
       "      <th>RM</th>\n",
       "      <th>AGE</th>\n",
       "      <th>TAX</th>\n",
       "    </tr>\n",
       "  </thead>\n",
       "  <tbody>\n",
       "    <tr>\n",
       "      <th>CRIM</th>\n",
       "      <td>73.986578</td>\n",
       "      <td>0.419594</td>\n",
       "      <td>-1.325038</td>\n",
       "      <td>85.405322</td>\n",
       "      <td>844.821538</td>\n",
       "    </tr>\n",
       "    <tr>\n",
       "      <th>NOX</th>\n",
       "      <td>0.419594</td>\n",
       "      <td>0.013428</td>\n",
       "      <td>-0.024603</td>\n",
       "      <td>2.385927</td>\n",
       "      <td>13.046286</td>\n",
       "    </tr>\n",
       "    <tr>\n",
       "      <th>RM</th>\n",
       "      <td>-1.325038</td>\n",
       "      <td>-0.024603</td>\n",
       "      <td>0.493671</td>\n",
       "      <td>-4.751929</td>\n",
       "      <td>-34.583448</td>\n",
       "    </tr>\n",
       "    <tr>\n",
       "      <th>AGE</th>\n",
       "      <td>85.405322</td>\n",
       "      <td>2.385927</td>\n",
       "      <td>-4.751929</td>\n",
       "      <td>792.358399</td>\n",
       "      <td>2402.690122</td>\n",
       "    </tr>\n",
       "    <tr>\n",
       "      <th>TAX</th>\n",
       "      <td>844.821538</td>\n",
       "      <td>13.046286</td>\n",
       "      <td>-34.583448</td>\n",
       "      <td>2402.690122</td>\n",
       "      <td>28404.759488</td>\n",
       "    </tr>\n",
       "  </tbody>\n",
       "</table>\n",
       "</div>"
      ],
      "text/plain": [
       "            CRIM        NOX         RM          AGE           TAX\n",
       "CRIM   73.986578   0.419594  -1.325038    85.405322    844.821538\n",
       "NOX     0.419594   0.013428  -0.024603     2.385927     13.046286\n",
       "RM     -1.325038  -0.024603   0.493671    -4.751929    -34.583448\n",
       "AGE    85.405322   2.385927  -4.751929   792.358399   2402.690122\n",
       "TAX   844.821538  13.046286 -34.583448  2402.690122  28404.759488"
      ]
     },
     "execution_count": 43,
     "metadata": {},
     "output_type": "execute_result"
    }
   ],
   "source": [
    "cov_x"
   ]
  },
  {
   "cell_type": "code",
   "execution_count": 44,
   "id": "9c5c4f09",
   "metadata": {},
   "outputs": [
    {
     "name": "stdout",
     "output_type": "stream",
     "text": [
      "[[ 7.39865782e+01  4.19593894e-01 -1.32503785e+00  8.54053223e+01\n",
      "   8.44821538e+02]\n",
      " [ 4.19593894e-01  1.34276357e-02 -2.46034495e-02  2.38592720e+00\n",
      "   1.30462855e+01]\n",
      " [-1.32503785e+00 -2.46034495e-02  4.93670850e-01 -4.75192919e+00\n",
      "  -3.45834478e+01]\n",
      " [ 8.54053223e+01  2.38592720e+00 -4.75192919e+00  7.92358399e+02\n",
      "   2.40269012e+03]\n",
      " [ 8.44821538e+02  1.30462855e+01 -3.45834478e+01  2.40269012e+03\n",
      "   2.84047595e+04]]\n"
     ]
    }
   ],
   "source": [
    "cov_x = np.cov(X.T)\n",
    "print(cov_x)"
   ]
  },
  {
   "cell_type": "code",
   "execution_count": 45,
   "id": "c3698111",
   "metadata": {},
   "outputs": [
    {
     "data": {
      "text/html": [
       "<div>\n",
       "<style scoped>\n",
       "    .dataframe tbody tr th:only-of-type {\n",
       "        vertical-align: middle;\n",
       "    }\n",
       "\n",
       "    .dataframe tbody tr th {\n",
       "        vertical-align: top;\n",
       "    }\n",
       "\n",
       "    .dataframe thead th {\n",
       "        text-align: right;\n",
       "    }\n",
       "</style>\n",
       "<table border=\"1\" class=\"dataframe\">\n",
       "  <thead>\n",
       "    <tr style=\"text-align: right;\">\n",
       "      <th></th>\n",
       "      <th>CRIM</th>\n",
       "      <th>NOX</th>\n",
       "      <th>RM</th>\n",
       "      <th>AGE</th>\n",
       "      <th>TAX</th>\n",
       "    </tr>\n",
       "  </thead>\n",
       "  <tbody>\n",
       "    <tr>\n",
       "      <th>CRIM</th>\n",
       "      <td>73.986578</td>\n",
       "      <td>0.419594</td>\n",
       "      <td>-1.325038</td>\n",
       "      <td>85.405322</td>\n",
       "      <td>844.821538</td>\n",
       "    </tr>\n",
       "    <tr>\n",
       "      <th>NOX</th>\n",
       "      <td>0.419594</td>\n",
       "      <td>0.013428</td>\n",
       "      <td>-0.024603</td>\n",
       "      <td>2.385927</td>\n",
       "      <td>13.046286</td>\n",
       "    </tr>\n",
       "    <tr>\n",
       "      <th>RM</th>\n",
       "      <td>-1.325038</td>\n",
       "      <td>-0.024603</td>\n",
       "      <td>0.493671</td>\n",
       "      <td>-4.751929</td>\n",
       "      <td>-34.583448</td>\n",
       "    </tr>\n",
       "    <tr>\n",
       "      <th>AGE</th>\n",
       "      <td>85.405322</td>\n",
       "      <td>2.385927</td>\n",
       "      <td>-4.751929</td>\n",
       "      <td>792.358399</td>\n",
       "      <td>2402.690122</td>\n",
       "    </tr>\n",
       "    <tr>\n",
       "      <th>TAX</th>\n",
       "      <td>844.821538</td>\n",
       "      <td>13.046286</td>\n",
       "      <td>-34.583448</td>\n",
       "      <td>2402.690122</td>\n",
       "      <td>28404.759488</td>\n",
       "    </tr>\n",
       "  </tbody>\n",
       "</table>\n",
       "</div>"
      ],
      "text/plain": [
       "            CRIM        NOX         RM          AGE           TAX\n",
       "CRIM   73.986578   0.419594  -1.325038    85.405322    844.821538\n",
       "NOX     0.419594   0.013428  -0.024603     2.385927     13.046286\n",
       "RM     -1.325038  -0.024603   0.493671    -4.751929    -34.583448\n",
       "AGE    85.405322   2.385927  -4.751929   792.358399   2402.690122\n",
       "TAX   844.821538  13.046286 -34.583448  2402.690122  28404.759488"
      ]
     },
     "execution_count": 45,
     "metadata": {},
     "output_type": "execute_result"
    }
   ],
   "source": [
    "cov_x = X.cov()\n",
    "cov_x"
   ]
  },
  {
   "cell_type": "code",
   "execution_count": 46,
   "id": "3e9ee37c",
   "metadata": {},
   "outputs": [
    {
     "data": {
      "text/html": [
       "<div>\n",
       "<style scoped>\n",
       "    .dataframe tbody tr th:only-of-type {\n",
       "        vertical-align: middle;\n",
       "    }\n",
       "\n",
       "    .dataframe tbody tr th {\n",
       "        vertical-align: top;\n",
       "    }\n",
       "\n",
       "    .dataframe thead th {\n",
       "        text-align: right;\n",
       "    }\n",
       "</style>\n",
       "<table border=\"1\" class=\"dataframe\">\n",
       "  <thead>\n",
       "    <tr style=\"text-align: right;\">\n",
       "      <th></th>\n",
       "      <th>CRIM</th>\n",
       "      <th>NOX</th>\n",
       "      <th>RM</th>\n",
       "      <th>AGE</th>\n",
       "      <th>TAX</th>\n",
       "    </tr>\n",
       "  </thead>\n",
       "  <tbody>\n",
       "    <tr>\n",
       "      <th>CRIM</th>\n",
       "      <td>1.000000</td>\n",
       "      <td>0.420972</td>\n",
       "      <td>-0.219247</td>\n",
       "      <td>0.352734</td>\n",
       "      <td>0.582764</td>\n",
       "    </tr>\n",
       "    <tr>\n",
       "      <th>NOX</th>\n",
       "      <td>0.420972</td>\n",
       "      <td>1.000000</td>\n",
       "      <td>-0.302188</td>\n",
       "      <td>0.731470</td>\n",
       "      <td>0.668023</td>\n",
       "    </tr>\n",
       "    <tr>\n",
       "      <th>RM</th>\n",
       "      <td>-0.219247</td>\n",
       "      <td>-0.302188</td>\n",
       "      <td>1.000000</td>\n",
       "      <td>-0.240265</td>\n",
       "      <td>-0.292048</td>\n",
       "    </tr>\n",
       "    <tr>\n",
       "      <th>AGE</th>\n",
       "      <td>0.352734</td>\n",
       "      <td>0.731470</td>\n",
       "      <td>-0.240265</td>\n",
       "      <td>1.000000</td>\n",
       "      <td>0.506456</td>\n",
       "    </tr>\n",
       "    <tr>\n",
       "      <th>TAX</th>\n",
       "      <td>0.582764</td>\n",
       "      <td>0.668023</td>\n",
       "      <td>-0.292048</td>\n",
       "      <td>0.506456</td>\n",
       "      <td>1.000000</td>\n",
       "    </tr>\n",
       "  </tbody>\n",
       "</table>\n",
       "</div>"
      ],
      "text/plain": [
       "          CRIM       NOX        RM       AGE       TAX\n",
       "CRIM  1.000000  0.420972 -0.219247  0.352734  0.582764\n",
       "NOX   0.420972  1.000000 -0.302188  0.731470  0.668023\n",
       "RM   -0.219247 -0.302188  1.000000 -0.240265 -0.292048\n",
       "AGE   0.352734  0.731470 -0.240265  1.000000  0.506456\n",
       "TAX   0.582764  0.668023 -0.292048  0.506456  1.000000"
      ]
     },
     "execution_count": 46,
     "metadata": {},
     "output_type": "execute_result"
    }
   ],
   "source": [
    "corr_x = X.corr()\n",
    "corr_x"
   ]
  },
  {
   "cell_type": "code",
   "execution_count": 48,
   "id": "c1693ce3",
   "metadata": {},
   "outputs": [
    {
     "data": {
      "text/plain": [
       "<Axes: >"
      ]
     },
     "execution_count": 48,
     "metadata": {},
     "output_type": "execute_result"
    },
    {
     "data": {
      "image/png": "[encoded data removed]",
      "text/plain": [
       "<Figure size 640x480 with 2 Axes>"
      ]
     },
     "metadata": {},
     "output_type": "display_data"
    }
   ],
   "source": [
    "import seaborn as sns\n",
    "sns.heatmap(corr_x, annot = True, cmap = 'Reds')"
   ]
  },
  {
   "cell_type": "code",
   "execution_count": 49,
   "id": "62758439",
   "metadata": {
    "scrolled": false
   },
   "outputs": [
    {
     "data": {
      "text/plain": [
       "<Axes: xlabel='NOX', ylabel='AGE'>"
      ]
     },
     "execution_count": 49,
     "metadata": {},
     "output_type": "execute_result"
    },
    {
     "data": {
      "image/png": "[encoded data removed]",
      "text/plain": [
       "<Figure size 640x480 with 1 Axes>"
      ]
     },
     "metadata": {},
     "output_type": "display_data"
    }
   ],
   "source": [
    "sns.scatterplot(data= df, x = \"NOX\", y = 'AGE')"
   ]
  },
  {
   "cell_type": "code",
   "execution_count": 54,
   "id": "793dcbf2",
   "metadata": {},
   "outputs": [
    {
     "data": {
      "text/plain": [
       "<Axes: xlabel='AGE', ylabel='Count'>"
      ]
     },
     "execution_count": 54,
     "metadata": {},
     "output_type": "execute_result"
    },
    {
     "data": {
      "image/png": "[encoded data removed]",
      "text/plain": [
       "<Figure size 640x480 with 1 Axes>"
      ]
     },
     "metadata": {},
     "output_type": "display_data"
    }
   ],
   "source": [
    "import seaborn as sns\n",
    "sns.histplot(data=df, x=\"AGE\")\n"
   ]
  },
  {
   "cell_type": "code",
   "execution_count": 55,
   "id": "8121c540",
   "metadata": {},
   "outputs": [],
   "source": [
    "import numpy as np\n",
    "import pandas as pd\n",
    "import matplotlib.pyplot as plt"
   ]
  },
  {
   "cell_type": "code",
   "execution_count": 65,
   "id": "b8e9d77d",
   "metadata": {},
   "outputs": [],
   "source": [
    "x = np.random.randint(low=1, high = 6, size = 100)\n"
   ]
  },
  {
   "cell_type": "code",
   "execution_count": 66,
   "id": "ab8f0bde",
   "metadata": {},
   "outputs": [
    {
     "data": {
      "text/plain": [
       "array([2, 2, 3, 2, 3, 5, 5, 3, 1, 3, 1, 1, 5, 4, 4, 3, 3, 5, 4, 2, 4, 5,\n",
       "       1, 2, 5, 2, 2, 4, 3, 2, 4, 1, 4, 4, 2, 1, 1, 3, 4, 2, 5, 3, 3, 2,\n",
       "       5, 4, 2, 2, 3, 3, 2, 4, 1, 4, 2, 5, 5, 4, 1, 5, 3, 5, 5, 1, 2, 1,\n",
       "       1, 5, 1, 1, 5, 4, 5, 1, 5, 1, 2, 1, 3, 1, 4, 5, 5, 2, 4, 5, 5, 4,\n",
       "       1, 4, 2, 2, 2, 1, 3, 2, 3, 4, 5, 4])"
      ]
     },
     "execution_count": 66,
     "metadata": {},
     "output_type": "execute_result"
    }
   ],
   "source": [
    "x"
   ]
  },
  {
   "cell_type": "code",
   "execution_count": 67,
   "id": "c87df2e8",
   "metadata": {},
   "outputs": [
    {
     "data": {
      "image/png": "[encoded data removed]",
      "text/plain": [
       "<Figure size 640x480 with 1 Axes>"
      ]
     },
     "metadata": {},
     "output_type": "display_data"
    }
   ],
   "source": [
    "plt.hist(x,bins=10)\n",
    "plt.show()"
   ]
  },
  {
   "cell_type": "code",
   "execution_count": 68,
   "id": "b9a895a9",
   "metadata": {},
   "outputs": [],
   "source": [
    "x = np.random.randint(low=1, high = 6, size = 10000)"
   ]
  },
  {
   "cell_type": "code",
   "execution_count": 69,
   "id": "e517266e",
   "metadata": {},
   "outputs": [
    {
     "data": {
      "image/png": "[encoded data removed]",
      "text/plain": [
       "<Figure size 640x480 with 1 Axes>"
      ]
     },
     "metadata": {},
     "output_type": "display_data"
    }
   ],
   "source": [
    "plt.hist(x, bins = 10)\n",
    "plt.show()"
   ]
  },
  {
   "cell_type": "code",
   "execution_count": 70,
   "id": "e427881b",
   "metadata": {},
   "outputs": [],
   "source": [
    "x = np.random.binomial(n = 1, p = 1/3, size=100)"
   ]
  },
  {
   "cell_type": "code",
   "execution_count": 71,
   "id": "dd25b43a",
   "metadata": {},
   "outputs": [
    {
     "data": {
      "text/plain": [
       "array([0, 0, 1, 0, 1, 0, 1, 0, 1, 0, 1, 0, 1, 0, 0, 1, 1, 0, 0, 0, 0, 0,\n",
       "       1, 1, 0, 0, 0, 0, 1, 1, 0, 0, 0, 0, 0, 1, 0, 1, 0, 0, 1, 0, 0, 0,\n",
       "       1, 1, 1, 0, 0, 0, 1, 0, 1, 0, 0, 0, 0, 0, 0, 0, 0, 1, 0, 0, 0, 0,\n",
       "       0, 0, 0, 0, 0, 1, 0, 1, 0, 0, 0, 0, 0, 0, 0, 0, 0, 1, 1, 0, 1, 1,\n",
       "       1, 0, 1, 0, 0, 1, 0, 0, 0, 1, 0, 0])"
      ]
     },
     "execution_count": 71,
     "metadata": {},
     "output_type": "execute_result"
    }
   ],
   "source": [
    "x"
   ]
  },
  {
   "cell_type": "code",
   "execution_count": 72,
   "id": "aad462b0",
   "metadata": {},
   "outputs": [
    {
     "data": {
      "image/png": "[encoded data removed]",
      "text/plain": [
       "<Figure size 640x480 with 1 Axes>"
      ]
     },
     "metadata": {},
     "output_type": "display_data"
    }
   ],
   "source": [
    "plt.hist(x,bins=3)\n",
    "plt.show()"
   ]
  },
  {
   "cell_type": "code",
   "execution_count": 74,
   "id": "9e3361ee",
   "metadata": {},
   "outputs": [],
   "source": [
    "x = np.random.binomial(n=1, p = 1/3, size= 100)"
   ]
  },
  {
   "cell_type": "code",
   "execution_count": 75,
   "id": "a31f3d82",
   "metadata": {},
   "outputs": [
    {
     "data": {
      "image/png": "[encoded data removed]",
      "text/plain": [
       "<Figure size 640x480 with 1 Axes>"
      ]
     },
     "metadata": {},
     "output_type": "display_data"
    }
   ],
   "source": [
    "plt.hist(x, bins = 3)\n",
    "plt.show()"
   ]
  },
  {
   "cell_type": "code",
   "execution_count": 98,
   "id": "6b2eafd3",
   "metadata": {},
   "outputs": [
    {
     "data": {
      "text/plain": [
       "array([2, 3, 7, 3, 4, 3, 4, 1, 2, 2, 4, 2, 5, 1, 2, 6, 4, 5, 3, 4, 3, 2,\n",
       "       3, 4, 3, 2, 3, 2, 5, 2, 3, 6, 2, 5, 3, 4, 5, 4, 4, 3, 0, 6, 4, 3,\n",
       "       5, 4, 4, 4, 2, 6, 6, 6, 3, 2, 3, 5, 4, 6, 7, 3, 1, 2, 4, 5, 6, 6,\n",
       "       3, 4, 3, 5, 4, 4, 3, 5, 6, 4, 3, 4, 2, 4, 1, 2, 1, 5, 5, 4, 6, 4,\n",
       "       2, 3, 2, 3, 4, 3, 1, 3, 3, 1, 3, 0, 4, 0, 1, 2, 4, 3, 1, 3, 4, 3,\n",
       "       5, 2, 2, 2, 2, 2, 5, 4, 1, 2, 4, 3, 2, 5, 2, 4, 1, 2, 4, 6, 5, 5,\n",
       "       3, 1, 2, 3, 1, 3, 2, 1, 3, 2, 1, 2, 1, 4, 3, 6, 3, 0, 4, 6, 3, 4,\n",
       "       2, 6, 4, 3, 3, 4, 4, 3, 4, 2, 4, 1, 6, 0, 3, 5, 2, 2, 5, 3, 4, 3,\n",
       "       4, 2, 3, 2, 3, 3, 3, 5, 4, 1, 2, 6, 4, 1, 0, 2, 0, 3, 3, 2, 3, 2,\n",
       "       3, 2, 2, 3, 6, 3, 0, 2, 3, 1, 1, 5, 6, 2, 5, 5, 4, 5, 3, 6, 5, 4,\n",
       "       2, 1, 2, 3, 2, 7, 4, 4, 3, 3, 2, 7, 3, 3, 4, 2, 1, 0, 3, 4, 5, 3,\n",
       "       6, 2, 6, 2, 2, 4, 4, 2, 5, 7, 4, 4, 3, 1, 5, 5, 2, 3, 1, 5, 3, 4,\n",
       "       3, 2, 4, 5, 2, 2, 1, 6, 4, 4, 3, 1, 6, 6, 2, 2, 1, 5, 5, 3, 7, 5,\n",
       "       5, 2, 5, 5, 5, 4, 5, 2, 5, 5, 3, 2, 2, 1, 3, 5, 4, 2, 2, 4, 3, 3,\n",
       "       5, 3, 2, 4, 2, 4, 7, 5, 3, 3, 3, 4, 3, 2, 5, 3, 2, 3, 4, 4, 3, 4,\n",
       "       5, 2, 3, 2, 2, 7, 5, 5, 3, 5, 3, 3, 5, 4, 3, 3, 4, 2, 2, 4, 6, 4,\n",
       "       3, 4, 4, 2, 3, 0, 3, 2, 3, 3, 3, 4, 2, 2, 5, 2, 2, 5, 4, 3, 2, 4,\n",
       "       2, 4, 3, 4, 3, 5, 5, 1, 4, 4, 2, 3, 3, 2, 3, 2, 3, 2, 3, 6, 3, 3,\n",
       "       3, 1, 7, 6, 4, 3, 4, 4, 4, 4, 5, 3, 6, 2, 5, 2, 2, 2, 2, 1, 4, 2,\n",
       "       4, 7, 2, 4, 6, 4, 1, 3, 8, 1, 3, 6, 5, 3, 4, 4, 3, 3, 3, 1, 6, 4,\n",
       "       2, 1, 6, 1, 1, 4, 6, 3, 7, 4, 2, 5, 4, 3, 5, 5, 2, 2, 5, 3, 3, 4,\n",
       "       2, 2, 4, 2, 3, 0, 4, 6, 8, 4, 4, 4, 2, 4, 3, 5, 4, 2, 2, 6, 2, 2,\n",
       "       6, 3, 5, 5, 3, 0, 4, 4, 4, 1, 2, 5, 3, 6, 3, 1, 3, 5, 4, 3, 6, 3,\n",
       "       0, 2, 1, 6, 4, 3, 5, 3, 3, 5, 3, 2, 7, 7, 5, 3, 4, 2, 4, 4, 3, 5,\n",
       "       4, 3, 3, 2, 4, 2, 4, 3, 4, 5, 4, 2, 6, 4, 2, 6, 2, 7, 4, 4, 4, 3,\n",
       "       2, 3, 3, 4, 5, 3, 1, 2, 1, 4, 6, 3, 4, 3, 4, 2, 6, 2, 5, 3, 4, 2,\n",
       "       4, 3, 4, 2, 4, 3, 4, 4, 3, 4, 3, 3, 4, 4, 2, 2, 5, 6, 2, 2, 5, 4,\n",
       "       4, 1, 4, 1, 3, 4, 2, 3, 4, 4, 3, 5, 4, 4, 1, 5, 4, 1, 1, 3, 4, 3,\n",
       "       3, 3, 2, 2, 4, 4, 2, 0, 1, 2, 4, 4, 4, 5, 3, 4, 4, 1, 5, 5, 5, 4,\n",
       "       4, 5, 4, 3, 8, 5, 3, 3, 3, 5, 5, 3, 5, 3, 4, 4, 1, 5, 3, 3, 4, 1,\n",
       "       4, 1, 6, 1, 4, 6, 4, 2, 3, 1, 1, 4, 3, 3, 5, 3, 2, 2, 3, 3, 1, 2,\n",
       "       4, 3, 4, 5, 4, 3, 4, 2, 2, 1, 5, 4, 7, 3, 6, 1, 4, 3, 1, 4, 6, 4,\n",
       "       6, 3, 5, 3, 5, 5, 3, 1, 2, 1, 4, 3, 3, 1, 1, 2, 6, 1, 2, 4, 2, 3,\n",
       "       5, 3, 4, 3, 3, 4, 6, 3, 4, 3, 5, 1, 4, 2, 5, 6, 2, 6, 4, 5, 3, 1,\n",
       "       2, 4, 3, 4, 5, 3, 2, 5, 1, 4, 3, 1, 5, 5, 4, 4, 4, 4, 5, 4, 2, 7,\n",
       "       4, 3, 3, 4, 2, 1, 5, 1, 4, 1, 5, 1, 5, 3, 2, 2, 4, 4, 4, 4, 2, 6,\n",
       "       2, 1, 2, 2, 1, 2, 5, 4, 3, 2, 3, 5, 2, 5, 4, 2, 4, 4, 1, 3, 3, 5,\n",
       "       2, 3, 3, 5, 3, 3, 4, 2, 5, 5, 6, 2, 1, 2, 3, 2, 2, 3, 5, 5, 3, 4,\n",
       "       4, 5, 5, 3, 2, 4, 4, 2, 2, 2, 3, 4, 3, 4, 3, 5, 4, 6, 1, 3, 5, 5,\n",
       "       5, 1, 4, 7, 6, 4, 3, 5, 3, 2, 5, 3, 4, 1, 4, 1, 2, 3, 6, 3, 5, 4,\n",
       "       5, 1, 5, 2, 5, 2, 4, 5, 4, 3, 3, 2, 3, 5, 6, 3, 6, 3, 3, 6, 4, 2,\n",
       "       5, 4, 3, 2, 3, 2, 3, 4, 2, 3, 3, 3, 4, 4, 5, 7, 0, 0, 3, 2, 6, 5,\n",
       "       1, 6, 4, 4, 5, 3, 2, 3, 1, 4, 2, 3, 4, 1, 2, 5, 1, 3, 3, 4, 4, 4,\n",
       "       5, 2, 4, 2, 7, 7, 2, 3, 1, 5, 3, 1, 2, 3, 2, 5, 4, 4, 4, 1, 3, 4,\n",
       "       2, 2, 1, 4, 2, 5, 4, 1, 4, 4, 4, 2, 3, 6, 4, 4, 2, 3, 3, 5, 4, 3,\n",
       "       3, 5, 1, 5, 3, 5, 2, 3, 3, 3])"
      ]
     },
     "execution_count": 98,
     "metadata": {},
     "output_type": "execute_result"
    }
   ],
   "source": [
    "# n 은 시행 횟수, p 는 확률, size는 총 갯수.\n",
    "x = np.random.binomial(n = 10, p = 1/3, size = 1000)\n",
    "x"
   ]
  },
  {
   "cell_type": "code",
   "execution_count": 108,
   "id": "f8822d67",
   "metadata": {},
   "outputs": [
    {
     "data": {
      "image/png": "[encoded data removed]",
      "text/plain": [
       "<Figure size 640x480 with 1 Axes>"
      ]
     },
     "metadata": {},
     "output_type": "display_data"
    }
   ],
   "source": [
    "plt.hist(x,bins=30)\n",
    "plt.show()"
   ]
  },
  {
   "cell_type": "code",
   "execution_count": 103,
   "id": "b17cd0ca",
   "metadata": {},
   "outputs": [],
   "source": [
    "x = np.random.poisson(lam = 4, size = 1000)"
   ]
  },
  {
   "cell_type": "code",
   "execution_count": 104,
   "id": "2785e2ce",
   "metadata": {},
   "outputs": [
    {
     "data": {
      "text/plain": [
       "array([ 2,  8,  1,  6,  1,  4,  4,  6,  7,  4,  6,  5,  4,  6,  4,  3,  4,\n",
       "        5,  1,  3,  0,  5,  5,  2,  4,  7,  2,  7,  2,  3,  2,  6,  6,  7,\n",
       "        3,  7,  6,  4,  5,  5,  2,  6,  5,  4,  1,  6,  4,  5,  6,  2,  9,\n",
       "        3,  1,  5,  6,  7,  6,  5,  5,  3,  6,  5,  4,  5,  5,  6,  8,  4,\n",
       "        1,  4,  2,  3,  7,  4,  3,  6,  7,  5,  2,  2,  5,  5,  4,  1,  5,\n",
       "        2,  2,  2,  3,  5,  5,  7,  2,  1,  4,  2,  3,  3,  2,  1,  2,  6,\n",
       "        4,  0,  2,  3,  2,  1,  4,  4,  4,  6,  4,  3,  7,  1,  4,  5,  1,\n",
       "        7,  8,  2,  5,  2,  1,  3,  3,  2,  5,  5,  2,  3,  6,  5,  3,  2,\n",
       "        2,  4,  4,  5,  3,  3,  3,  2,  8,  4,  3, 10,  5,  1,  5,  5,  2,\n",
       "        6,  2,  2,  2,  2,  6,  5,  7,  2,  1,  6,  1,  3,  4,  1,  2,  1,\n",
       "        2,  3,  2,  5,  2,  0,  4,  4,  3,  6,  5,  3,  1,  2,  4,  4,  5,\n",
       "        1,  3,  1,  4,  4,  6,  4,  3,  6,  4,  1,  1,  2,  9,  4,  7,  1,\n",
       "        5,  1,  4,  3,  6,  9,  1,  2,  5,  7,  5,  7,  3,  3,  1,  5,  3,\n",
       "        5,  4,  5,  3,  2,  4,  8,  4,  4,  6,  5,  7,  3,  6,  4,  3, 10,\n",
       "        3,  5,  3,  3,  3,  4,  2,  5,  1,  2,  5,  7,  4,  3,  3,  3,  1,\n",
       "        4,  8,  5,  3,  5,  2,  6,  3,  6,  5,  4,  5,  4,  6,  3,  5,  4,\n",
       "        5,  4,  5,  2,  8,  3,  3,  5,  6,  2,  3,  2,  3,  4,  5,  2,  3,\n",
       "        4,  5,  7,  5,  6,  3,  4,  1,  2,  4,  5,  4,  1,  1,  6,  3,  6,\n",
       "        6,  1,  3,  4,  0,  5,  2,  6,  4,  2,  5,  5,  3,  3,  4,  1,  5,\n",
       "        2,  5,  4,  3,  7,  0,  8,  3,  3,  1,  5,  5,  2,  6,  5,  3,  0,\n",
       "        4,  5,  2,  4,  1,  2,  2,  5,  3,  2,  7,  4,  1,  2,  3,  3,  5,\n",
       "        3,  1,  5,  4,  5,  5,  2,  5,  1,  4,  8,  5,  3,  2, 13,  4,  2,\n",
       "        3,  5,  1,  2,  3,  4,  8,  4,  5,  6,  4,  3,  4,  5,  3,  7,  4,\n",
       "        6,  7,  6,  3,  5,  2,  2,  3,  3,  6,  8,  2,  8,  3,  5,  4,  1,\n",
       "        2,  2,  7,  3,  2,  4,  5,  9,  0,  7,  3,  4,  3,  4, 13,  9,  2,\n",
       "        7,  8,  5,  3,  2,  6,  7,  4,  5,  6,  5,  2,  4,  5,  4,  3,  5,\n",
       "        3,  7,  4,  2,  6,  2,  3,  7,  4,  4,  1,  1,  6,  2,  3,  4,  3,\n",
       "        4,  3, 10,  4,  5,  4,  4,  7,  3,  3,  2,  1,  4,  5,  2,  1,  8,\n",
       "        2,  7,  4,  2, 11,  1,  4,  3,  9,  3,  4,  6,  4,  3,  2,  4,  4,\n",
       "        2,  7,  4,  4,  3,  5,  2,  5,  2,  5,  4,  1,  4,  3,  4,  8,  4,\n",
       "        7,  2,  5,  3,  6,  3,  1,  5,  5,  2,  5,  2,  5,  5,  6,  4,  4,\n",
       "        1,  5,  3,  4,  8,  2,  7,  4,  7,  6,  3,  4,  3,  3,  4,  2,  7,\n",
       "        4,  5,  6,  3,  4,  3,  2,  2,  2,  5,  1,  1,  5,  4,  4,  5,  5,\n",
       "        4,  3,  5,  5,  5,  3,  2,  4,  4,  5,  3,  2,  4,  5,  4,  3,  5,\n",
       "        2,  1,  4,  5,  1,  5,  2,  3,  5,  2,  4,  5,  1,  3,  5,  2,  5,\n",
       "        4,  0,  5,  2,  5,  6,  5,  7,  3,  4,  5,  3,  3,  3,  5,  3,  3,\n",
       "        2,  5,  4,  4,  5,  2,  1,  2,  4,  4,  3,  4,  8,  5,  4,  1,  4,\n",
       "        7,  5,  2,  5,  5,  3,  0,  5,  4,  2,  5,  4,  2,  8,  6,  2,  4,\n",
       "        2,  3,  1,  4,  2,  5,  3,  3,  5,  4,  8,  2,  2,  6,  4,  4,  6,\n",
       "        2,  7,  6,  5,  2,  4, 11,  7,  5,  3,  6,  1,  5,  3,  9,  5,  6,\n",
       "        5,  3,  5,  1,  5,  4,  3,  2,  2,  7,  3,  2,  4,  4,  4,  4,  9,\n",
       "        7,  8,  3,  4,  5,  5,  5,  1,  6,  1,  1,  3,  4,  6,  6,  0,  5,\n",
       "        6,  0,  2,  6,  1,  4,  4,  3,  7,  5,  4,  2,  8,  1,  3,  6,  2,\n",
       "        2,  5,  2,  3,  3,  3,  5,  2,  2,  5,  5,  3,  6,  3,  3,  1,  5,\n",
       "        5,  9,  1,  3,  2,  3,  4,  5,  4,  7,  5,  4,  6,  2,  5,  6,  3,\n",
       "        2,  3,  5,  7,  6,  6,  5,  4,  6,  3,  3,  4,  4,  2,  6,  6,  8,\n",
       "        6,  2,  6,  3,  6,  2,  3,  1, 10,  7,  6,  1,  8,  3,  6,  2,  6,\n",
       "        2,  2,  5,  2,  5,  6,  2,  6,  6,  8,  1,  3,  2,  6,  3,  4,  4,\n",
       "        1,  4,  5,  7,  6,  4,  5,  3,  3, 10,  4,  4,  6,  3,  2,  3,  5,\n",
       "        3,  6,  5,  1,  2,  8,  5,  1,  1,  4,  2,  4,  3,  6,  7,  2,  7,\n",
       "        7,  7,  3,  7,  3,  4,  6,  3,  5,  3,  7,  6,  5,  3,  4,  3,  3,\n",
       "        3,  4,  5,  3,  5,  4,  6,  3,  4,  3,  3,  2,  5,  2,  2,  2,  5,\n",
       "        3,  2,  6,  4,  4,  2,  1,  6,  4,  0,  2,  1,  3,  4,  3,  6,  5,\n",
       "        7,  1,  0,  6,  2,  2, 10,  2,  2,  2,  0,  2,  2,  6,  2,  5,  7,\n",
       "       11,  5,  5,  2,  6,  2,  9,  7,  5,  5,  4,  3,  2,  6,  3,  4,  7,\n",
       "        6,  2,  5,  3,  8,  6,  8,  6,  7,  2,  2,  6,  2,  4,  6,  3,  4,\n",
       "        7,  7,  3,  2,  6,  2,  4,  2,  6,  4,  7,  1,  3,  2,  3,  5,  3,\n",
       "        5,  3,  2,  0,  3,  6,  6,  4,  2,  7,  5,  2,  2,  3,  2,  3,  5,\n",
       "        3,  7,  4,  2,  4,  4,  1,  5,  5,  3,  5,  4,  3,  6])"
      ]
     },
     "execution_count": 104,
     "metadata": {},
     "output_type": "execute_result"
    }
   ],
   "source": [
    "x"
   ]
  },
  {
   "cell_type": "code",
   "execution_count": 105,
   "id": "bf080b60",
   "metadata": {},
   "outputs": [
    {
     "data": {
      "image/png": "[encoded data removed]",
      "text/plain": [
       "<Figure size 640x480 with 1 Axes>"
      ]
     },
     "metadata": {},
     "output_type": "display_data"
    }
   ],
   "source": [
    "plt.hist(x, bins = 30)\n",
    "plt.show()"
   ]
  },
  {
   "cell_type": "code",
   "execution_count": 109,
   "id": "05ab814c",
   "metadata": {},
   "outputs": [
    {
     "data": {
      "text/plain": [
       "array([2, 1, 2, 1, 5, 3, 9, 7, 1, 2, 1, 2, 6, 3, 1, 4, 5, 1, 1, 4, 6, 1,\n",
       "       3, 4, 2, 1, 1, 1, 1, 1, 1, 1, 2, 3, 2, 1, 4, 1, 2, 3, 5, 3, 1, 5,\n",
       "       1, 2, 2, 1, 2, 5, 3, 2, 2, 5, 4, 3, 6, 4, 2, 2, 1, 2, 1, 5, 2, 2,\n",
       "       1, 4, 5, 5, 6, 1, 1, 2, 6, 3, 3, 4, 3, 1, 2, 4, 1, 7, 1, 1, 3, 3,\n",
       "       1, 1, 1, 1, 6, 2, 1, 2, 3, 1, 3, 7])"
      ]
     },
     "execution_count": 109,
     "metadata": {},
     "output_type": "execute_result"
    }
   ],
   "source": [
    "x = np.random.geometric(p = 1/3,size = 100)\n",
    "x"
   ]
  },
  {
   "cell_type": "code",
   "execution_count": 110,
   "id": "61d36ec8",
   "metadata": {},
   "outputs": [
    {
     "data": {
      "image/png": "[encoded data removed]",
      "text/plain": [
       "<Figure size 640x480 with 1 Axes>"
      ]
     },
     "metadata": {},
     "output_type": "display_data"
    }
   ],
   "source": [
    "plt.hist(x,bins = 30)\n",
    "plt.show()"
   ]
  },
  {
   "cell_type": "code",
   "execution_count": 113,
   "id": "ba94610a",
   "metadata": {},
   "outputs": [
    {
     "data": {
      "image/png": "[encoded data removed]",
      "text/plain": [
       "<Figure size 640x480 with 1 Axes>"
      ]
     },
     "metadata": {},
     "output_type": "display_data"
    }
   ],
   "source": [
    "x = np.random.geometric(p = 1/3, size = 10000)\n",
    "plt.hist(x,bins=50)\n",
    "plt.show()"
   ]
  },
  {
   "cell_type": "code",
   "execution_count": 114,
   "id": "55268c51",
   "metadata": {},
   "outputs": [
    {
     "data": {
      "text/plain": [
       "array([3.43606187, 1.87136132, 2.38072023, 2.47486559, 1.13531943,\n",
       "       2.99069101, 2.95425659, 3.49384849, 3.88651492, 2.73733805,\n",
       "       1.4261264 , 3.14904234, 3.58674076, 5.30718287, 2.19404536,\n",
       "       4.07358125, 5.12144408, 1.52742504, 2.90182458, 5.78083178,\n",
       "       2.6442186 , 5.80976654, 4.71532856, 4.8910328 , 2.45187324,\n",
       "       2.81743052, 2.09337866, 3.78041415, 3.77489353, 1.26634229,\n",
       "       3.69191884, 1.151503  , 2.9097253 , 1.17440799, 1.15010344,\n",
       "       1.85803673, 1.50673788, 1.67768668, 3.69621885, 2.25752567,\n",
       "       4.07859352, 4.73542999, 4.39332904, 4.91829527, 4.5108323 ,\n",
       "       2.08024231, 2.72626892, 2.39498757, 3.31690896, 2.87663746,\n",
       "       5.77059905, 1.96733688, 4.05808455, 1.34170879, 1.4424301 ,\n",
       "       5.53966691, 3.24297208, 5.75909977, 2.02452693, 2.64152684,\n",
       "       1.9763407 , 5.58421726, 2.43469987, 2.53422901, 2.88863448,\n",
       "       1.60998135, 2.01707201, 5.67084495, 4.29901274, 4.29490758,\n",
       "       2.17308265, 2.71421068, 3.9666349 , 5.74094031, 1.67507087,\n",
       "       2.42245217, 3.28272881, 3.46705536, 3.38650533, 5.73328387,\n",
       "       1.2447496 , 4.8025105 , 1.58790982, 3.06208702, 3.39623654,\n",
       "       3.32952356, 1.21844339, 2.55225117, 2.18543669, 4.20693261,\n",
       "       4.81982119, 2.21345923, 1.07726889, 1.1730149 , 2.92149277,\n",
       "       3.03528873, 1.87147205, 1.974162  , 3.83069204, 2.69122906])"
      ]
     },
     "execution_count": 114,
     "metadata": {},
     "output_type": "execute_result"
    }
   ],
   "source": [
    "x = np.random.uniform(low = 1, high = 6, size = 100)\n",
    "x"
   ]
  },
  {
   "cell_type": "code",
   "execution_count": 119,
   "id": "3c2101c3",
   "metadata": {},
   "outputs": [
    {
     "data": {
      "image/png": "[encoded data removed]",
      "text/plain": [
       "<Figure size 640x480 with 1 Axes>"
      ]
     },
     "metadata": {},
     "output_type": "display_data"
    }
   ],
   "source": [
    "plt.hist(x, bins = 30)\n",
    "plt.show()"
   ]
  },
  {
   "cell_type": "code",
   "execution_count": 120,
   "id": "2ab082d0",
   "metadata": {},
   "outputs": [
    {
     "data": {
      "text/plain": [
       "array([53.3780642 , 62.69736662, 69.26257961, 56.36140609, 61.92961876,\n",
       "       63.10339559, 62.22628233, 49.41814743, 56.26206883, 47.7381009 ,\n",
       "       55.95292498, 61.37668811, 67.35226321, 59.54191735, 58.92581489,\n",
       "       54.83888261, 69.3931365 , 58.85914128, 60.25482815, 66.02706411,\n",
       "       52.8873584 , 57.61967309, 68.97196632, 58.17995756, 57.53154039,\n",
       "       51.91016225, 54.75524178, 64.45195692, 62.11072727, 69.30072568,\n",
       "       55.89588198, 74.72208429, 60.99383012, 66.48380117, 64.62959366,\n",
       "       63.55558432, 59.48157537, 59.30723409, 56.30103106, 51.8997876 ,\n",
       "       61.36322575, 76.8513016 , 57.45817564, 66.29588823, 62.36301169,\n",
       "       58.39136984, 52.82517464, 58.76944722, 53.09997451, 56.22783393,\n",
       "       53.54817844, 60.18631521, 55.25836844, 72.87895189, 67.0990685 ,\n",
       "       57.15794761, 65.75831844, 47.70575415, 62.52854704, 71.43648721,\n",
       "       67.54046644, 55.91480261, 57.69983352, 52.98779729, 60.61060699,\n",
       "       63.91092811, 57.31277467, 67.35158902, 60.72506062, 66.07237264,\n",
       "       54.12356749, 67.84933707, 51.48132296, 60.6046915 , 62.74789479,\n",
       "       62.68027844, 63.54191044, 57.07195386, 58.37190139, 67.76871348,\n",
       "       62.16779804, 53.81911436, 56.67324517, 62.71190813, 61.3499248 ,\n",
       "       58.19699282, 53.21785674, 59.33261524, 62.66922055, 71.02306101,\n",
       "       52.46193456, 49.33816349, 56.43685667, 66.26535821, 61.3230038 ,\n",
       "       51.69059722, 57.13390551, 60.15509211, 58.89105882, 65.40206577])"
      ]
     },
     "execution_count": 120,
     "metadata": {},
     "output_type": "execute_result"
    }
   ],
   "source": [
    "x = np.random.normal(loc = 60, scale = 6, size = 100)\n",
    "x"
   ]
  },
  {
   "cell_type": "code",
   "execution_count": 121,
   "id": "382e2403",
   "metadata": {},
   "outputs": [
    {
     "data": {
      "image/png": "[encoded data removed]",
      "text/plain": [
       "<Figure size 640x480 with 1 Axes>"
      ]
     },
     "metadata": {},
     "output_type": "display_data"
    }
   ],
   "source": [
    "plt.hist(x, bins = 30)\n",
    "plt.show()"
   ]
  },
  {
   "cell_type": "code",
   "execution_count": 122,
   "id": "b217e287",
   "metadata": {},
   "outputs": [],
   "source": [
    "x = np.random.normal(loc=60, scale = 6, size = 1000)"
   ]
  },
  {
   "cell_type": "code",
   "execution_count": 123,
   "id": "878fb56f",
   "metadata": {},
   "outputs": [
    {
     "data": {
      "image/png": "[encoded data removed]",
      "text/plain": [
       "<Figure size 640x480 with 1 Axes>"
      ]
     },
     "metadata": {},
     "output_type": "display_data"
    }
   ],
   "source": [
    "plt.hist(x, bins = 30)\n",
    "plt.show()"
   ]
  },
  {
   "cell_type": "code",
   "execution_count": 124,
   "id": "02d30eab",
   "metadata": {},
   "outputs": [
    {
     "data": {
      "image/png": "[encoded data removed]",
      "text/plain": [
       "<Figure size 640x480 with 1 Axes>"
      ]
     },
     "metadata": {},
     "output_type": "display_data"
    }
   ],
   "source": [
    "x = np.random.gamma(shape = 2, scale = 3, size = 30)\n",
    "plt.hist(x,bins=30)\n",
    "plt.show()"
   ]
  },
  {
   "cell_type": "code",
   "execution_count": 125,
   "id": "c5d840ec",
   "metadata": {},
   "outputs": [
    {
     "data": {
      "image/png": "[encoded data removed]",
      "text/plain": [
       "<Figure size 640x480 with 1 Axes>"
      ]
     },
     "metadata": {},
     "output_type": "display_data"
    }
   ],
   "source": [
    "x = np.random.gamma(shape=2,scale=3,size=1000)\n",
    "plt.hist(x,bins = 30)\n",
    "plt.show()"
   ]
  },
  {
   "cell_type": "code",
   "execution_count": 126,
   "id": "59b4fa6c",
   "metadata": {},
   "outputs": [
    {
     "data": {
      "image/png": "[encoded data removed]",
      "text/plain": [
       "<Figure size 640x480 with 1 Axes>"
      ]
     },
     "metadata": {},
     "output_type": "display_data"
    }
   ],
   "source": [
    "# 지수 분포\n",
    "x = np.random.exponential(scale = 2, size = 1000)\n",
    "plt.hist(x, bins = 30)\n",
    "plt.show()"
   ]
  },
  {
   "cell_type": "code",
   "execution_count": 139,
   "id": "ca6a5ffe",
   "metadata": {},
   "outputs": [
    {
     "data": {
      "image/png": "[encoded data removed]",
      "text/plain": [
       "<Figure size 640x480 with 1 Axes>"
      ]
     },
     "metadata": {},
     "output_type": "display_data"
    }
   ],
   "source": [
    "# 카이제곱 분포(chi-square distribution)\n",
    "x = np.random.chisquare(df=3,size = 1000)\n",
    "plt.hist(x, bins=30)\n",
    "plt.show()"
   ]
  },
  {
   "cell_type": "code",
   "execution_count": 157,
   "id": "63f9186c",
   "metadata": {},
   "outputs": [
    {
     "data": {
      "image/png": "[encoded data removed]",
      "text/plain": [
       "<Figure size 640x480 with 1 Axes>"
      ]
     },
     "metadata": {},
     "output_type": "display_data"
    }
   ],
   "source": [
    "# 베타 분포(beta distribution)\n",
    "x = np.random.beta(a = 5, b = 5, size = 1000)\n",
    "plt.hist(x, bins = 30)\n",
    "plt.show()"
   ]
  },
  {
   "cell_type": "code",
   "execution_count": null,
   "id": "c3ff8f84",
   "metadata": {},
   "outputs": [],
   "source": [
    "# 1. 조건부 확률을 쓰는 머신러닝 알고리즘 조사하기\n",
    "# 2. 어떤 상황을 주고 이 상황에서 어떤 분포를 써야하는지 서로 맞춰보기.\n",
    "# 3. 슬랙에 데이터 주어지는데 그걸 보고 파일들 마다 feature들 마다 histogram을 그리고 무슨 분포를 따르는지 맞춰보기."
   ]
  },
  {
   "cell_type": "code",
   "execution_count": null,
   "id": "527d5c0a",
   "metadata": {},
   "outputs": [],
   "source": []
  }
 ],
 "metadata": {
  "kernelspec": {
   "display_name": "Python 3 (ipykernel)",
   "language": "python",
   "name": "python3"
  },
  "language_info": {
   "codemirror_mode": {
    "name": "ipython",
    "version": 3
   },
   "file_extension": ".py",
   "mimetype": "text/x-python",
   "name": "python",
   "nbconvert_exporter": "python",
   "pygments_lexer": "ipython3",
   "version": "3.10.4"
  }
 },
 "nbformat": 4,
 "nbformat_minor": 5
}
